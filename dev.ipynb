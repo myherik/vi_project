{
 "cells": [
  {
   "cell_type": "code",
   "execution_count": 19,
   "id": "initial_id",
   "metadata": {
    "ExecuteTime": {
     "end_time": "2023-11-23T12:07:24.000057Z",
     "start_time": "2023-11-23T12:07:21.356383Z"
    }
   },
   "outputs": [],
   "source": [
    "\n",
    "import torch\n",
    "import os\n",
    "\n",
    "import numpy as np\n",
    "\n",
    "from monai.losses import DiceCELoss\n",
    "from monai.metrics import DiceMetric\n",
    "from monai.data import Dataset, DataLoader, CacheDataset\n",
    "from monai.transforms import LoadImage, Resized, Compose, Lambda, LoadImaged, EnsureChannelFirstd\n",
    "from monai.networks.nets import UNETR, UNet\n",
    "from tqdm.notebook import tqdm\n",
    "import matplotlib.pyplot as plt\n",
    "from sklearn.model_selection import train_test_split\n",
    "from monai.networks.layers import Norm"
   ]
  },
  {
   "cell_type": "code",
   "execution_count": 2,
   "id": "2c564d1eaa303713",
   "metadata": {
    "ExecuteTime": {
     "end_time": "2023-11-23T12:07:24.006948Z",
     "start_time": "2023-11-23T12:07:24.000821Z"
    },
    "collapsed": false,
    "jupyter": {
     "outputs_hidden": false
    }
   },
   "outputs": [
    {
     "name": "stdout",
     "output_type": "stream",
     "text": [
      "cuda:0\n"
     ]
    }
   ],
   "source": [
    "device = torch.device(\"cuda:0\" if torch.cuda.is_available() else \"cpu\")\n",
    "print(device)"
   ]
  },
  {
   "cell_type": "code",
   "execution_count": 3,
   "id": "ca5dbe6ed62d19c7",
   "metadata": {
    "ExecuteTime": {
     "end_time": "2023-11-23T12:07:24.007170Z",
     "start_time": "2023-11-23T12:07:24.003207Z"
    },
    "collapsed": false,
    "jupyter": {
     "outputs_hidden": false
    }
   },
   "outputs": [],
   "source": [
    "dataset_list = []\n",
    "\n",
    "# read all folders in Images\n",
    "\n",
    "base_path = \"./Task01_BrainTumour\"\n",
    "\n",
    "\n",
    "for file in os.listdir(os.path.join(base_path, \"imagesTr\")):\n",
    "\n",
    "    data_dict = {\n",
    "        \"img\": os.path.join(base_path, \"imagesTr\", file), \n",
    "        \"seg\": os.path.join(base_path, \"labelsTr\", file)\n",
    "    }\n",
    "\n",
    "    dataset_list.append(data_dict)"
   ]
  },
  {
   "cell_type": "code",
   "execution_count": 4,
   "id": "67881dc740d661a4",
   "metadata": {
    "ExecuteTime": {
     "end_time": "2023-11-23T12:07:24.010458Z",
     "start_time": "2023-11-23T12:07:24.008241Z"
    },
    "collapsed": false,
    "jupyter": {
     "outputs_hidden": false
    }
   },
   "outputs": [],
   "source": [
    "class BrainTumor(Dataset):\n",
    "\n",
    "    def __init__(self, data, transform=None):\n",
    "        super().__init__(data, transform)\n",
    "        self.data = data\n",
    "        self.transform = transform\n",
    "\n",
    "    def __len__(self):\n",
    "        return len(self.data)\n",
    "\n",
    "    def __getitem__(self, index):\n",
    "        element_dict = self.data[index]\n",
    "        img_name = element_dict[\"img\"]\n",
    "        seg_name = element_dict[\"seg\"]\n",
    "        img = LoadImage(image_only=True, ensure_channel_first=True, simple_keys=True)(img_name)\n",
    "        seg = LoadImage(image_only=True, ensure_channel_first=True, simple_keys=True)(seg_name)\n",
    "        if self.transform:\n",
    "            transformed = self.transform({\"img\": img, \"seg\": seg} )\n",
    "            img = transformed[\"img\"]\n",
    "            seg = transformed[\"seg\"]\n",
    "            \n",
    "        seg = seg.type(torch.LongTensor)\n",
    "            \n",
    "        return img, seg"
   ]
  },
  {
   "cell_type": "code",
   "execution_count": 5,
   "id": "272f525ec17c012b",
   "metadata": {
    "ExecuteTime": {
     "end_time": "2023-11-23T12:07:24.411387Z",
     "start_time": "2023-11-23T12:07:24.011571Z"
    },
    "collapsed": false,
    "jupyter": {
     "outputs_hidden": false
    }
   },
   "outputs": [
    {
     "name": "stdout",
     "output_type": "stream",
     "text": [
      "torch.Size([4, 240, 240, 155]) torch.Size([1, 240, 240, 155])\n"
     ]
    }
   ],
   "source": [
    "test_img = LoadImage(image_only=True, ensure_channel_first=True, simple_keys=True)(\"Task01_BrainTumour/imagesTr/BRATS_001.nii.gz\") \n",
    "\n",
    "test_seg = LoadImage(image_only=True, ensure_channel_first=True, simple_keys=True)(\"Task01_BrainTumour/labelsTr/BRATS_001.nii.gz\")\n",
    "\n",
    "print(test_img.shape, test_seg.shape)"
   ]
  },
  {
   "cell_type": "code",
   "execution_count": 6,
   "id": "9f5607a9d6cf5099",
   "metadata": {
    "ExecuteTime": {
     "end_time": "2023-11-23T12:07:24.505942Z",
     "start_time": "2023-11-23T12:07:24.409676Z"
    },
    "collapsed": false,
    "jupyter": {
     "outputs_hidden": false
    }
   },
   "outputs": [
    {
     "data": {
      "text/plain": [
       "array([8816276,   53050,   27189,   31485])"
      ]
     },
     "execution_count": 6,
     "metadata": {},
     "output_type": "execute_result"
    }
   ],
   "source": [
    "# get the number of each value in test_seg\n",
    "bins, hist = np.unique(test_seg.flatten(), return_counts=True) \n",
    "hist"
   ]
  },
  {
   "cell_type": "code",
   "execution_count": 7,
   "id": "18906f81cc8ae535",
   "metadata": {
    "ExecuteTime": {
     "end_time": "2023-11-23T12:07:24.508565Z",
     "start_time": "2023-11-23T12:07:24.506099Z"
    },
    "collapsed": false,
    "jupyter": {
     "outputs_hidden": false
    }
   },
   "outputs": [],
   "source": [
    "train_transforms = Compose([\n",
    "    LoadImaged(keys=[\"img\", \"seg\"]),\n",
    "    EnsureChannelFirstd(keys=[\"img\", \"seg\"]),\n",
    "    #Lambda(lambda x: {\"img\": x[\"img\"].permute(0, 3, 1, 2), \"seg\": x[\"seg\"].permute(0, 3, 1, 2)}),\n",
    "    Resized(keys=[\"img\", \"seg\"], spatial_size=(64, 64, 32), mode=('nearest')),\n",
    "    #ToTensorD(keys=[\"img\", \"seg\"])\n",
    "])"
   ]
  },
  {
   "cell_type": "code",
   "execution_count": 8,
   "id": "1b9ee4d8221d1e59",
   "metadata": {
    "ExecuteTime": {
     "end_time": "2023-11-23T12:07:24.511653Z",
     "start_time": "2023-11-23T12:07:24.508893Z"
    },
    "collapsed": false,
    "jupyter": {
     "outputs_hidden": false
    }
   },
   "outputs": [
    {
     "name": "stderr",
     "output_type": "stream",
     "text": [
      "Loading dataset: 100%|████████████████████████████████████████████| 484/484 [01:06<00:00,  7.26it/s]"
     ]
    },
    {
     "name": "stdout",
     "output_type": "stream",
     "text": [
      "484\n"
     ]
    },
    {
     "name": "stderr",
     "output_type": "stream",
     "text": [
      "\n"
     ]
    }
   ],
   "source": [
    "dataset = CacheDataset(data=dataset_list, transform=train_transforms, cache_rate=1.0, num_workers=12)\n",
    "print(len(dataset))\n",
    "\n",
    "\n",
    "train_dataset, test_dataset = torch.utils.data.random_split(dataset, [390, 94])\n",
    "\n",
    "train_dataloader = DataLoader(train_dataset, batch_size=32, shuffle=True, num_workers=4)\n",
    "test_dataloader = DataLoader(test_dataset, batch_size=32, shuffle=False, num_workers=4)"
   ]
  },
  {
   "cell_type": "code",
   "execution_count": 9,
   "id": "a92f14af261540c1",
   "metadata": {
    "ExecuteTime": {
     "end_time": "2023-11-23T12:07:24.778910Z",
     "start_time": "2023-11-23T12:07:24.513033Z"
    },
    "collapsed": false,
    "jupyter": {
     "outputs_hidden": false
    }
   },
   "outputs": [],
   "source": [
    "model = UNETR(\n",
    "    in_channels=4,\n",
    "    out_channels=4,\n",
    "    img_size=(64, 64, 32),\n",
    "    feature_size=16,\n",
    "    hidden_size=768,\n",
    "    mlp_dim=3072,\n",
    "    num_heads=6,\n",
    "    norm_name=\"instance\",\n",
    "    res_block=True,\n",
    "    dropout_rate=0.0,\n",
    "    conv_block=False,\n",
    ").to(device)\n",
    "\n"
   ]
  },
  {
   "cell_type": "code",
   "execution_count": 10,
   "id": "34a5d99973d378dc",
   "metadata": {
    "ExecuteTime": {
     "end_time": "2023-11-23T12:07:24.786434Z",
     "start_time": "2023-11-23T12:07:24.779093Z"
    },
    "collapsed": false,
    "jupyter": {
     "outputs_hidden": false
    }
   },
   "outputs": [],
   "source": [
    "def calculate_iou(predicted, target):\n",
    "    \"\"\"\n",
    "    Calculate Intersection over Union (IoU) for binary segmentation.\n",
    "\n",
    "    Args:\n",
    "    - predicted (torch.Tensor): Predicted binary mask (0 or 1).\n",
    "    - target (torch.Tensor): Ground truth binary mask (0 or 1).\n",
    "\n",
    "    Returns:\n",
    "    - float: IoU score.\n",
    "    \"\"\"\n",
    "    intersection = torch.logical_and(predicted, target).sum().item()\n",
    "    union = torch.logical_or(predicted, target).sum().item()\n",
    "\n",
    "    iou = intersection / union if union != 0 else 0.0\n",
    "    return iou"
   ]
  },
  {
   "cell_type": "code",
   "execution_count": 21,
   "id": "2eb02c8168e406ba",
   "metadata": {
    "ExecuteTime": {
     "end_time": "2023-11-23T12:14:49.836988Z",
     "start_time": "2023-11-23T12:14:49.831480Z"
    },
    "collapsed": false,
    "jupyter": {
     "outputs_hidden": false
    }
   },
   "outputs": [],
   "source": [
    "loss_function = DiceCELoss(to_onehot_y=True, softmax=True) #torch.nn.MSELoss()\n",
    "optimizer = torch.optim.Adam(model.parameters(), 1e-4)\n",
    "dice_metric = DiceMetric(include_background=True, reduction=\"mean\")"
   ]
  },
  {
   "cell_type": "code",
   "execution_count": 23,
   "id": "755f7140c0429c10",
   "metadata": {
    "ExecuteTime": {
     "end_time": "2023-11-23T12:45:25.358306Z",
     "start_time": "2023-11-23T12:14:50.143613Z"
    },
    "collapsed": false,
    "jupyter": {
     "outputs_hidden": false
    }
   },
   "outputs": [
    {
     "data": {
      "application/vnd.jupyter.widget-view+json": {
       "model_id": "a34139b92884459f9467a2aacdba82b5",
       "version_major": 2,
       "version_minor": 0
      },
      "text/plain": [
       "  0%|          | 0/13 [00:00<?, ?it/s]"
      ]
     },
     "metadata": {},
     "output_type": "display_data"
    },
    {
     "name": "stdout",
     "output_type": "stream",
     "text": [
      "Epoch: 0 | Train Loss: 1.181988184268658 | Test Loss: 1.1727205514907837 | Train IoU: 0.012111663818359375 | Test IoU: 0.012474568684895833 | current mean dice: 0.2553\n"
     ]
    },
    {
     "data": {
      "application/vnd.jupyter.widget-view+json": {
       "model_id": "af6489ad6f3441bcb3b47a43d1c91917",
       "version_major": 2,
       "version_minor": 0
      },
      "text/plain": [
       "  0%|          | 0/13 [00:00<?, ?it/s]"
      ]
     },
     "metadata": {},
     "output_type": "display_data"
    },
    {
     "name": "stdout",
     "output_type": "stream",
     "text": [
      "Epoch: 1 | Train Loss: 1.1677848284061139 | Test Loss: 1.1594744523366292 | Train IoU: 0.014954884847005209 | Test IoU: 0.012474568684895833 | current mean dice: 0.2553\n"
     ]
    },
    {
     "data": {
      "application/vnd.jupyter.widget-view+json": {
       "model_id": "daa621e584af44ab9b093e0abf6154be",
       "version_major": 2,
       "version_minor": 0
      },
      "text/plain": [
       "  0%|          | 0/13 [00:00<?, ?it/s]"
      ]
     },
     "metadata": {},
     "output_type": "display_data"
    },
    {
     "name": "stdout",
     "output_type": "stream",
     "text": [
      "Epoch: 2 | Train Loss: 1.1553188012196467 | Test Loss: 1.1472535530726116 | Train IoU: 0.013884226481119791 | Test IoU: 0.012474568684895833 | current mean dice: 0.2553\n"
     ]
    },
    {
     "data": {
      "application/vnd.jupyter.widget-view+json": {
       "model_id": "670bca19095f41758aa9d420e8e031c4",
       "version_major": 2,
       "version_minor": 0
      },
      "text/plain": [
       "  0%|          | 0/13 [00:00<?, ?it/s]"
      ]
     },
     "metadata": {},
     "output_type": "display_data"
    },
    {
     "name": "stdout",
     "output_type": "stream",
     "text": [
      "Epoch: 3 | Train Loss: 1.14371513403379 | Test Loss: 1.1357804934183757 | Train IoU: 0.007986704508463541 | Test IoU: 0.012474568684895833 | current mean dice: 0.2553\n"
     ]
    },
    {
     "data": {
      "application/vnd.jupyter.widget-view+json": {
       "model_id": "6b1d819e6eb44dcc985b66a0914d4d76",
       "version_major": 2,
       "version_minor": 0
      },
      "text/plain": [
       "  0%|          | 0/13 [00:00<?, ?it/s]"
      ]
     },
     "metadata": {},
     "output_type": "display_data"
    },
    {
     "name": "stdout",
     "output_type": "stream",
     "text": [
      "Epoch: 4 | Train Loss: 1.1323015139653132 | Test Loss: 1.1245304743448894 | Train IoU: 0.01027679443359375 | Test IoU: 0.012474568684895833 | current mean dice: 0.2553\n"
     ]
    },
    {
     "data": {
      "application/vnd.jupyter.widget-view+json": {
       "model_id": "cfa8e83262b6400985faade782665aba",
       "version_major": 2,
       "version_minor": 0
      },
      "text/plain": [
       "  0%|          | 0/13 [00:00<?, ?it/s]"
      ]
     },
     "metadata": {},
     "output_type": "display_data"
    },
    {
     "name": "stdout",
     "output_type": "stream",
     "text": [
      "Epoch: 5 | Train Loss: 1.120907554259667 | Test Loss: 1.1136106650034587 | Train IoU: 0.006975809733072917 | Test IoU: 0.012474568684895833 | current mean dice: 0.2553\n"
     ]
    },
    {
     "data": {
      "application/vnd.jupyter.widget-view+json": {
       "model_id": "73af0d6e85cc4cb98bd190030bd4e7ea",
       "version_major": 2,
       "version_minor": 0
      },
      "text/plain": [
       "  0%|          | 0/13 [00:00<?, ?it/s]"
      ]
     },
     "metadata": {},
     "output_type": "display_data"
    },
    {
     "name": "stdout",
     "output_type": "stream",
     "text": [
      "Epoch: 6 | Train Loss: 1.1102250997836773 | Test Loss: 1.1022284428278606 | Train IoU: 0.0116119384765625 | Test IoU: 0.012474569478007602 | current mean dice: 0.2553\n"
     ]
    },
    {
     "data": {
      "application/vnd.jupyter.widget-view+json": {
       "model_id": "b14744e829be480cb7a472aed657270c",
       "version_major": 2,
       "version_minor": 0
      },
      "text/plain": [
       "  0%|          | 0/13 [00:00<?, ?it/s]"
      ]
     },
     "metadata": {},
     "output_type": "display_data"
    },
    {
     "name": "stdout",
     "output_type": "stream",
     "text": [
      "Epoch: 7 | Train Loss: 1.0984981977022612 | Test Loss: 1.0912956794102986 | Train IoU: 0.013029734293619791 | Test IoU: 0.012474568684895833 | current mean dice: 0.2553\n"
     ]
    },
    {
     "data": {
      "application/vnd.jupyter.widget-view+json": {
       "model_id": "4e83061db98d4574bb0f3dc59df56186",
       "version_major": 2,
       "version_minor": 0
      },
      "text/plain": [
       "  0%|          | 0/13 [00:00<?, ?it/s]"
      ]
     },
     "metadata": {},
     "output_type": "display_data"
    },
    {
     "name": "stdout",
     "output_type": "stream",
     "text": [
      "Epoch: 8 | Train Loss: 1.088121432524461 | Test Loss: 1.0803440809249878 | Train IoU: 0.008509318033854166 | Test IoU: 0.012474568684895833 | current mean dice: 0.2553\n"
     ]
    },
    {
     "data": {
      "application/vnd.jupyter.widget-view+json": {
       "model_id": "ddfd7b5251b64cc49b7d33e15386ecd4",
       "version_major": 2,
       "version_minor": 0
      },
      "text/plain": [
       "  0%|          | 0/13 [00:00<?, ?it/s]"
      ]
     },
     "metadata": {},
     "output_type": "display_data"
    },
    {
     "name": "stdout",
     "output_type": "stream",
     "text": [
      "Epoch: 9 | Train Loss: 1.0769488169596746 | Test Loss: 1.0700194040934246 | Train IoU: 0.012345631917317709 | Test IoU: 0.012474568684895833 | current mean dice: 0.2553\n"
     ]
    },
    {
     "data": {
      "application/vnd.jupyter.widget-view+json": {
       "model_id": "26f9c1bb98a14318bcfab3da60543df9",
       "version_major": 2,
       "version_minor": 0
      },
      "text/plain": [
       "  0%|          | 0/13 [00:00<?, ?it/s]"
      ]
     },
     "metadata": {},
     "output_type": "display_data"
    },
    {
     "name": "stdout",
     "output_type": "stream",
     "text": [
      "Epoch: 10 | Train Loss: 1.0666680244299083 | Test Loss: 1.060070554415385 | Train IoU: 0.010698954264322916 | Test IoU: 0.012474568684895833 | current mean dice: 0.2553\n"
     ]
    },
    {
     "data": {
      "application/vnd.jupyter.widget-view+json": {
       "model_id": "0dfb59e3a8a84a1c955bf225ab7a3f8c",
       "version_major": 2,
       "version_minor": 0
      },
      "text/plain": [
       "  0%|          | 0/13 [00:00<?, ?it/s]"
      ]
     },
     "metadata": {},
     "output_type": "display_data"
    },
    {
     "name": "stdout",
     "output_type": "stream",
     "text": [
      "Epoch: 11 | Train Loss: 1.0568910195277288 | Test Loss: 1.0509608189264934 | Train IoU: 0.009695688883463541 | Test IoU: 0.012474568684895833 | current mean dice: 0.2553\n"
     ]
    },
    {
     "data": {
      "application/vnd.jupyter.widget-view+json": {
       "model_id": "5e7c4fb956994cedbf17287697d8bae5",
       "version_major": 2,
       "version_minor": 0
      },
      "text/plain": [
       "  0%|          | 0/13 [00:00<?, ?it/s]"
      ]
     },
     "metadata": {},
     "output_type": "display_data"
    },
    {
     "name": "stdout",
     "output_type": "stream",
     "text": [
      "Epoch: 12 | Train Loss: 1.0471514830222497 | Test Loss: 1.0406641960144043 | Train IoU: 0.012162526448567709 | Test IoU: 0.012474568684895833 | current mean dice: 0.2553\n"
     ]
    },
    {
     "data": {
      "application/vnd.jupyter.widget-view+json": {
       "model_id": "7e60e88d935d448bb584c659929f9414",
       "version_major": 2,
       "version_minor": 0
      },
      "text/plain": [
       "  0%|          | 0/13 [00:00<?, ?it/s]"
      ]
     },
     "metadata": {},
     "output_type": "display_data"
    },
    {
     "name": "stdout",
     "output_type": "stream",
     "text": [
      "Epoch: 13 | Train Loss: 1.038431240962102 | Test Loss: 1.0330496629079182 | Train IoU: 0.009591420491536459 | Test IoU: 0.012474568684895833 | current mean dice: 0.2553\n"
     ]
    },
    {
     "data": {
      "application/vnd.jupyter.widget-view+json": {
       "model_id": "c0b9d57729c1499f914d0bc375ec9f3e",
       "version_major": 2,
       "version_minor": 0
      },
      "text/plain": [
       "  0%|          | 0/13 [00:00<?, ?it/s]"
      ]
     },
     "metadata": {},
     "output_type": "display_data"
    },
    {
     "name": "stdout",
     "output_type": "stream",
     "text": [
      "Epoch: 14 | Train Loss: 1.0279486912947435 | Test Loss: 1.0225034554799397 | Train IoU: 0.011182149251302084 | Test IoU: 0.012474568684895833 | current mean dice: 0.2553\n"
     ]
    },
    {
     "data": {
      "application/vnd.jupyter.widget-view+json": {
       "model_id": "ef3450fe5b0c48128f9a802cb99f6149",
       "version_major": 2,
       "version_minor": 0
      },
      "text/plain": [
       "  0%|          | 0/13 [00:00<?, ?it/s]"
      ]
     },
     "metadata": {},
     "output_type": "display_data"
    },
    {
     "name": "stdout",
     "output_type": "stream",
     "text": [
      "Epoch: 15 | Train Loss: 1.0189137550500722 | Test Loss: 1.013749639193217 | Train IoU: 0.010019938151041666 | Test IoU: 0.012474568684895833 | current mean dice: 0.2553\n"
     ]
    },
    {
     "data": {
      "application/vnd.jupyter.widget-view+json": {
       "model_id": "a456f75483cf4cd0a45ed62d273b928b",
       "version_major": 2,
       "version_minor": 0
      },
      "text/plain": [
       "  0%|          | 0/13 [00:00<?, ?it/s]"
      ]
     },
     "metadata": {},
     "output_type": "display_data"
    },
    {
     "name": "stdout",
     "output_type": "stream",
     "text": [
      "Epoch: 16 | Train Loss: 1.0097991411502545 | Test Loss: 1.005456805229187 | Train IoU: 0.012045542399088541 | Test IoU: 0.012474568684895833 | current mean dice: 0.2553\n"
     ]
    },
    {
     "data": {
      "application/vnd.jupyter.widget-view+json": {
       "model_id": "3d76175a5a554de6a11aba5b38a27554",
       "version_major": 2,
       "version_minor": 0
      },
      "text/plain": [
       "  0%|          | 0/13 [00:00<?, ?it/s]"
      ]
     },
     "metadata": {},
     "output_type": "display_data"
    },
    {
     "name": "stdout",
     "output_type": "stream",
     "text": [
      "Epoch: 17 | Train Loss: 1.0022209103290851 | Test Loss: 0.9981074134508768 | Train IoU: 0.009236653645833334 | Test IoU: 0.012474568684895833 | current mean dice: 0.2553\n"
     ]
    },
    {
     "data": {
      "application/vnd.jupyter.widget-view+json": {
       "model_id": "2aea9bf7808349f4916cd0a15eebe02a",
       "version_major": 2,
       "version_minor": 0
      },
      "text/plain": [
       "  0%|          | 0/13 [00:00<?, ?it/s]"
      ]
     },
     "metadata": {},
     "output_type": "display_data"
    },
    {
     "name": "stdout",
     "output_type": "stream",
     "text": [
      "Epoch: 18 | Train Loss: 0.9930789929169875 | Test Loss: 0.9893989761670431 | Train IoU: 0.01248931884765625 | Test IoU: 0.012474568684895833 | current mean dice: 0.2553\n"
     ]
    },
    {
     "data": {
      "application/vnd.jupyter.widget-view+json": {
       "model_id": "ae44baeac0614ad3a9581f5c71896975",
       "version_major": 2,
       "version_minor": 0
      },
      "text/plain": [
       "  0%|          | 0/13 [00:00<?, ?it/s]"
      ]
     },
     "metadata": {},
     "output_type": "display_data"
    },
    {
     "name": "stdout",
     "output_type": "stream",
     "text": [
      "Epoch: 19 | Train Loss: 0.9846523312421945 | Test Loss: 0.9831096529960632 | Train IoU: 0.013556162516276041 | Test IoU: 0.012474568684895833 | current mean dice: 0.2553\n"
     ]
    }
   ],
   "source": [
    "num_epochs = 20\n",
    "losses = []\n",
    "test_losses = []\n",
    "ious = []\n",
    "test_ious = []\n",
    "metric_values = []\n",
    "\n",
    "for epoch in range(num_epochs):\n",
    "    \n",
    "    epoch_loss = 0\n",
    "    epoch_test_loss = 0\n",
    "    epoch_iou = 0\n",
    "    epoch_test_iou = 0\n",
    "    \n",
    "    model.train() \n",
    "    \n",
    "    for i, batch in enumerate(tqdm(train_dataloader)):\n",
    "        \n",
    "        img = batch[\"img\"].to(device)\n",
    "        seg = batch[\"seg\"].to(device)\n",
    "        \n",
    "        optimizer.zero_grad()\n",
    "        \n",
    "        output = model(img)\n",
    "        \n",
    "        iou = calculate_iou(output, seg)\n",
    "        ious.append(iou)\n",
    "        \n",
    "        loss = loss_function(output, seg)\n",
    "        \n",
    "        loss.backward()\n",
    "        \n",
    "        optimizer.step()\n",
    "        \n",
    "        epoch_loss += loss.item()\n",
    "        \n",
    "    losses.append(epoch_loss)\n",
    "    \n",
    "    model.eval()\n",
    "    with torch.no_grad():\n",
    "        for i, batch in enumerate(test_dataloader):\n",
    "            \n",
    "            img = batch[\"img\"].to(device)\n",
    "            seg = batch[\"seg\"].to(device)\n",
    "             \n",
    "            output = model(img)\n",
    "            \n",
    "            iou = calculate_iou(output, seg)\n",
    "            test_ious.append(iou)\n",
    "            \n",
    "            loss = loss_function(output, seg)\n",
    "            \n",
    "            epoch_test_loss += loss.item()\n",
    "            dice_metric(y_pred=output, y=seg)\n",
    "            \n",
    "        metric = dice_metric.aggregate().item()\n",
    "        dice_metric.reset()\n",
    "        metric_values.append(metric)\n",
    "            \n",
    "        test_losses.append(epoch_test_loss)\n",
    "        \n",
    "        print(f\"Epoch: {epoch} | Train Loss: {epoch_loss / len(train_dataloader)} | Test Loss: {epoch_test_loss / len(test_dataloader)} | Train IoU: {ious[-1]} | Test IoU: {test_ious[-1]} | current mean dice: {metric:.4f}\")"
   ]
  },
  {
   "cell_type": "code",
   "execution_count": 15,
   "id": "374fd53fb90f3a9a",
   "metadata": {
    "ExecuteTime": {
     "start_time": "2023-11-23T12:07:51.072195Z"
    },
    "collapsed": false,
    "jupyter": {
     "outputs_hidden": false
    }
   },
   "outputs": [
    {
     "ename": "KeyError",
     "evalue": "0",
     "output_type": "error",
     "traceback": [
      "\u001b[0;31m---------------------------------------------------------------------------\u001b[0m",
      "\u001b[0;31mKeyError\u001b[0m                                  Traceback (most recent call last)",
      "Cell \u001b[0;32mIn[15], line 3\u001b[0m\n\u001b[1;32m      1\u001b[0m data \u001b[38;5;241m=\u001b[39m \u001b[38;5;28mnext\u001b[39m(\u001b[38;5;28miter\u001b[39m(train_dataloader))\n\u001b[0;32m----> 3\u001b[0m \u001b[43mdata\u001b[49m\u001b[43m[\u001b[49m\u001b[38;5;241;43m0\u001b[39;49m\u001b[43m]\u001b[49m\u001b[38;5;241m.\u001b[39mshape\n",
      "\u001b[0;31mKeyError\u001b[0m: 0"
     ]
    }
   ],
   "source": [
    "data = next(iter(train_dataloader))\n",
    "\n",
    "data[0].shape"
   ]
  },
  {
   "cell_type": "code",
   "execution_count": null,
   "id": "7e26eea0b5873a81",
   "metadata": {
    "ExecuteTime": {
     "start_time": "2023-11-23T12:07:51.073537Z"
    },
    "collapsed": false,
    "jupyter": {
     "outputs_hidden": false
    }
   },
   "outputs": [],
   "source": [
    "np.unique(data[1][1], return_counts=True)"
   ]
  },
  {
   "cell_type": "code",
   "execution_count": 24,
   "id": "6d8df19c7962009",
   "metadata": {
    "ExecuteTime": {
     "start_time": "2023-11-23T12:07:51.074638Z"
    },
    "collapsed": false,
    "jupyter": {
     "outputs_hidden": false
    }
   },
   "outputs": [
    {
     "data": {
      "text/plain": [
       "[<matplotlib.lines.Line2D at 0x7fc6741ed6f0>]"
      ]
     },
     "execution_count": 24,
     "metadata": {},
     "output_type": "execute_result"
    },
    {
     "data": {
      "image/png": "[encoded data removed]",
      "text/plain": [
       "<Figure size 640x480 with 1 Axes>"
      ]
     },
     "metadata": {},
     "output_type": "display_data"
    }
   ],
   "source": [
    "plt.plot(losses)"
   ]
  },
  {
   "cell_type": "code",
   "execution_count": 25,
   "id": "129d7f3c-1b19-4f2e-8555-e694bfc397d6",
   "metadata": {},
   "outputs": [
    {
     "data": {
      "text/plain": [
       "[<matplotlib.lines.Line2D at 0x7fc70597f880>]"
      ]
     },
     "execution_count": 25,
     "metadata": {},
     "output_type": "execute_result"
    },
    {
     "data": {
      "image/png": "[encoded data removed]",
      "text/plain": [
       "<Figure size 640x480 with 1 Axes>"
      ]
     },
     "metadata": {},
     "output_type": "display_data"
    }
   ],
   "source": [
    "plt.plot(ious)"
   ]
  },
  {
   "cell_type": "code",
   "execution_count": 27,
   "id": "aa14e7c9-60a0-4ce3-b30e-4c0b36d5cb3d",
   "metadata": {},
   "outputs": [
    {
     "data": {
      "text/plain": [
       "[<matplotlib.lines.Line2D at 0x7fc7059ea7d0>]"
      ]
     },
     "execution_count": 27,
     "metadata": {},
     "output_type": "execute_result"
    },
    {
     "data": {
      "image/png": "[encoded data removed]",
      "text/plain": [
       "<Figure size 640x480 with 1 Axes>"
      ]
     },
     "metadata": {},
     "output_type": "display_data"
    }
   ],
   "source": [
    "plt.plot(metric_values)"
   ]
  },
  {
   "cell_type": "code",
   "execution_count": null,
   "id": "960a1a20-0d1b-42f9-9daf-4f20ad618b22",
   "metadata": {},
   "outputs": [],
   "source": []
  }
 ],
 "metadata": {
  "kernelspec": {
   "display_name": "Python 3 (ipykernel)",
   "language": "python",
   "name": "python3"
  },
  "language_info": {
   "codemirror_mode": {
    "name": "ipython",
    "version": 3
   },
   "file_extension": ".py",
   "mimetype": "text/x-python",
   "name": "python",
   "nbconvert_exporter": "python",
   "pygments_lexer": "ipython3",
   "version": "3.10.13"
  }
 },
 "nbformat": 4,
 "nbformat_minor": 5
}
