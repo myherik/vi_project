{
 "cells": [
  {
   "cell_type": "code",
   "execution_count": 1,
   "id": "initial_id",
   "metadata": {
    "ExecuteTime": {
     "end_time": "2023-11-23T12:07:24.000057Z",
     "start_time": "2023-11-23T12:07:21.356383Z"
    },
    "collapsed": true
   },
   "outputs": [],
   "source": [
    "\n",
    "import torch\n",
    "import os\n",
    "\n",
    "import numpy as np\n",
    "\n",
    "from monai.losses import DiceCELoss\n",
    "\n",
    "from monai.data import Dataset, DataLoader\n",
    "from monai.transforms import LoadImage, Resized, Compose, Lambda\n",
    "from monai.networks.nets import UNETR\n",
    "from tqdm.notebook import tqdm\n",
    "import matplotlib.pyplot as plt\n",
    "from sklearn.model_selection import train_test_split"
   ]
  },
  {
   "cell_type": "code",
   "execution_count": 2,
   "id": "2c564d1eaa303713",
   "metadata": {
    "ExecuteTime": {
     "end_time": "2023-11-23T12:07:24.006948Z",
     "start_time": "2023-11-23T12:07:24.000821Z"
    },
    "collapsed": false
   },
   "outputs": [],
   "source": [
    "device = torch.device(\"cuda:0\" if torch.cuda.is_available() else \"cpu\")"
   ]
  },
  {
   "cell_type": "code",
   "execution_count": 3,
   "id": "ca5dbe6ed62d19c7",
   "metadata": {
    "ExecuteTime": {
     "end_time": "2023-11-23T12:07:24.007170Z",
     "start_time": "2023-11-23T12:07:24.003207Z"
    },
    "collapsed": false
   },
   "outputs": [],
   "source": [
    "dataset_list = []\n",
    "\n",
    "# read all folders in Images\n",
    "\n",
    "base_path = \"./Task01_BrainTumour\"\n",
    "\n",
    "\n",
    "for file in os.listdir(os.path.join(base_path, \"imagesTr\")):\n",
    "\n",
    "    data_dict = {\n",
    "        \"img\": os.path.join(base_path, \"imagesTr\", file), \n",
    "        \"seg\": os.path.join(base_path, \"labelsTr\", file)\n",
    "    }\n",
    "\n",
    "    dataset_list.append(data_dict)"
   ]
  },
  {
   "cell_type": "code",
   "execution_count": 4,
   "id": "67881dc740d661a4",
   "metadata": {
    "ExecuteTime": {
     "end_time": "2023-11-23T12:07:24.010458Z",
     "start_time": "2023-11-23T12:07:24.008241Z"
    },
    "collapsed": false
   },
   "outputs": [],
   "source": [
    "class BrainTumor(Dataset):\n",
    "\n",
    "    def __init__(self, data, transform=None):\n",
    "        super().__init__(data, transform)\n",
    "        self.data = data\n",
    "        self.transform = transform\n",
    "\n",
    "    def __len__(self):\n",
    "        return len(self.data)\n",
    "\n",
    "    def __getitem__(self, index):\n",
    "        element_dict = self.data[index]\n",
    "        img_name = element_dict[\"img\"]\n",
    "        seg_name = element_dict[\"seg\"]\n",
    "        img = LoadImage(image_only=True, ensure_channel_first=True, simple_keys=True)(img_name)\n",
    "        seg = LoadImage(image_only=True, ensure_channel_first=True, simple_keys=True)(seg_name)\n",
    "        if self.transform:\n",
    "            transformed = self.transform({\"img\": img, \"seg\": seg} )\n",
    "            img = transformed[\"img\"]\n",
    "            seg = transformed[\"seg\"]\n",
    "            \n",
    "        seg = torch.tensor(seg, dtype=torch.long)\n",
    "            \n",
    "        return img, seg"
   ]
  },
  {
   "cell_type": "code",
   "execution_count": 5,
   "id": "272f525ec17c012b",
   "metadata": {
    "ExecuteTime": {
     "end_time": "2023-11-23T12:07:24.411387Z",
     "start_time": "2023-11-23T12:07:24.011571Z"
    },
    "collapsed": false
   },
   "outputs": [
    {
     "name": "stdout",
     "output_type": "stream",
     "text": [
      "torch.Size([4, 240, 240, 155]) torch.Size([1, 240, 240, 155])\n"
     ]
    }
   ],
   "source": [
    "test_img = LoadImage(image_only=True, ensure_channel_first=True, simple_keys=True)(\"Task01_BrainTumour/imagesTr/BRATS_001.nii.gz\") \n",
    "\n",
    "test_seg = LoadImage(image_only=True, ensure_channel_first=True, simple_keys=True)(\"Task01_BrainTumour/labelsTr/BRATS_001.nii.gz\")\n",
    "\n",
    "print(test_img.shape, test_seg.shape)"
   ]
  },
  {
   "cell_type": "code",
   "execution_count": 6,
   "id": "9f5607a9d6cf5099",
   "metadata": {
    "ExecuteTime": {
     "end_time": "2023-11-23T12:07:24.505942Z",
     "start_time": "2023-11-23T12:07:24.409676Z"
    },
    "collapsed": false
   },
   "outputs": [
    {
     "data": {
      "text/plain": [
       "array([8816276,   53050,   27189,   31485])"
      ]
     },
     "execution_count": 6,
     "metadata": {},
     "output_type": "execute_result"
    }
   ],
   "source": [
    "# get the number of each value in test_seg\n",
    "bins, hist = np.unique(test_seg.flatten(), return_counts=True) \n",
    "hist"
   ]
  },
  {
   "cell_type": "code",
   "execution_count": 7,
   "id": "18906f81cc8ae535",
   "metadata": {
    "ExecuteTime": {
     "end_time": "2023-11-23T12:07:24.508565Z",
     "start_time": "2023-11-23T12:07:24.506099Z"
    },
    "collapsed": false
   },
   "outputs": [],
   "source": [
    "train_transforms = Compose([\n",
    "    Lambda(lambda x: {\"img\": x[\"img\"].permute(0, 3, 1, 2), \"seg\": x[\"seg\"].permute(0, 3, 1, 2)}),\n",
    "    Resized(keys=[\"img\", \"seg\"], spatial_size=(32, 64, 64), mode=('nearest')),\n",
    "    #ToTensorD(keys=[\"img\", \"seg\"])\n",
    "])"
   ]
  },
  {
   "cell_type": "code",
   "execution_count": 8,
   "id": "1b9ee4d8221d1e59",
   "metadata": {
    "ExecuteTime": {
     "end_time": "2023-11-23T12:07:24.511653Z",
     "start_time": "2023-11-23T12:07:24.508893Z"
    },
    "collapsed": false
   },
   "outputs": [],
   "source": [
    "dataset = BrainTumor(dataset_list, transform=train_transforms)\n",
    "\n",
    "train_dataset, test_dataset = torch.utils.data.random_split(dataset, [390, 94])\n",
    "\n",
    "train_dataloader = DataLoader(train_dataset, batch_size=32, shuffle=True, num_workers=0)\n",
    "test_dataloader = DataLoader(test_dataset, batch_size=32, shuffle=False, num_workers=0)"
   ]
  },
  {
   "cell_type": "code",
   "execution_count": 9,
   "id": "a92f14af261540c1",
   "metadata": {
    "ExecuteTime": {
     "end_time": "2023-11-23T12:07:24.778910Z",
     "start_time": "2023-11-23T12:07:24.513033Z"
    },
    "collapsed": false
   },
   "outputs": [],
   "source": [
    "model = UNETR(\n",
    "    in_channels=4,\n",
    "    out_channels=4,\n",
    "    img_size=(32, 64, 64),\n",
    "    feature_size=16,\n",
    "    hidden_size=768,\n",
    "    mlp_dim=3072,\n",
    "    num_heads=12,\n",
    "    norm_name=\"instance\",\n",
    "    res_block=True,\n",
    "    dropout_rate=0.0,\n",
    "    conv_block=False,\n",
    ").to(device)"
   ]
  },
  {
   "cell_type": "code",
   "execution_count": 10,
   "id": "34a5d99973d378dc",
   "metadata": {
    "ExecuteTime": {
     "end_time": "2023-11-23T12:07:24.786434Z",
     "start_time": "2023-11-23T12:07:24.779093Z"
    },
    "collapsed": false
   },
   "outputs": [],
   "source": [
    "def calculate_iou(predicted, target):\n",
    "    \"\"\"\n",
    "    Calculate Intersection over Union (IoU) for binary segmentation.\n",
    "\n",
    "    Args:\n",
    "    - predicted (torch.Tensor): Predicted binary mask (0 or 1).\n",
    "    - target (torch.Tensor): Ground truth binary mask (0 or 1).\n",
    "\n",
    "    Returns:\n",
    "    - float: IoU score.\n",
    "    \"\"\"\n",
    "    intersection = torch.logical_and(predicted, target).sum().item()\n",
    "    union = torch.logical_or(predicted, target).sum().item()\n",
    "\n",
    "    iou = intersection / union if union != 0 else 0.0\n",
    "    return iou"
   ]
  },
  {
   "cell_type": "code",
   "execution_count": 14,
   "id": "2eb02c8168e406ba",
   "metadata": {
    "ExecuteTime": {
     "end_time": "2023-11-23T12:14:49.836988Z",
     "start_time": "2023-11-23T12:14:49.831480Z"
    },
    "collapsed": false
   },
   "outputs": [],
   "source": [
    "loss_function = DiceCELoss(to_onehot_y=True, softmax=True) #torch.nn.MSELoss()\n",
    "optimizer = torch.optim.AdamW(model.parameters(), 0.1)"
   ]
  },
  {
   "cell_type": "code",
   "execution_count": 15,
   "id": "755f7140c0429c10",
   "metadata": {
    "ExecuteTime": {
     "end_time": "2023-11-23T12:45:25.358306Z",
     "start_time": "2023-11-23T12:14:50.143613Z"
    },
    "collapsed": false
   },
   "outputs": [
    {
     "data": {
      "application/vnd.jupyter.widget-view+json": {
       "model_id": "7f7fa8b2cfa84a52b8b28fa0c1cab954",
       "version_major": 2,
       "version_minor": 0
      },
      "text/plain": [
       "  0%|          | 0/13 [00:00<?, ?it/s]"
      ]
     },
     "metadata": {},
     "output_type": "display_data"
    },
    {
     "name": "stderr",
     "output_type": "stream",
     "text": [
      "To copy construct from a tensor, it is recommended to use sourceTensor.clone().detach() or sourceTensor.clone().detach().requires_grad_(True), rather than torch.tensor(sourceTensor).\n"
     ]
    },
    {
     "name": "stdout",
     "output_type": "stream",
     "text": [
      "Epoch: 0 | Train Loss: 1.0310037319476788 | Test Loss: 0.7589441339174906 | Train IoU: 0.008731842041015625 | Test IoU: 0.013091023763020833\n"
     ]
    },
    {
     "data": {
      "application/vnd.jupyter.widget-view+json": {
       "model_id": "fd3e0bdbc5fc4de7a2bab82f0ed77e17",
       "version_major": 2,
       "version_minor": 0
      },
      "text/plain": [
       "  0%|          | 0/13 [00:00<?, ?it/s]"
      ]
     },
     "metadata": {},
     "output_type": "display_data"
    },
    {
     "name": "stdout",
     "output_type": "stream",
     "text": [
      "Epoch: 1 | Train Loss: 0.7075036122248723 | Test Loss: 0.6853947838147482 | Train IoU: 0.012828826904296875 | Test IoU: 0.013091023763020833\n"
     ]
    },
    {
     "data": {
      "application/vnd.jupyter.widget-view+json": {
       "model_id": "11f840ccca294a91a6d2b0faf9541d86",
       "version_major": 2,
       "version_minor": 0
      },
      "text/plain": [
       "  0%|          | 0/13 [00:00<?, ?it/s]"
      ]
     },
     "metadata": {},
     "output_type": "display_data"
    },
    {
     "name": "stdout",
     "output_type": "stream",
     "text": [
      "Epoch: 2 | Train Loss: 0.6648460397353539 | Test Loss: 0.6475573778152466 | Train IoU: 0.008544921875 | Test IoU: 0.013091023763020833\n"
     ]
    }
   ],
   "source": [
    "num_epochs = 3\n",
    "losses = []\n",
    "test_losses = []\n",
    "ious = []\n",
    "test_ious = []\n",
    "\n",
    "for epoch in range(num_epochs):\n",
    "    \n",
    "    epoch_loss = 0\n",
    "    epoch_test_loss = 0\n",
    "    epoch_iou = 0\n",
    "    epoch_test_iou = 0\n",
    "    \n",
    "    model.train() \n",
    "    \n",
    "    for i, (img, seg) in enumerate(tqdm(train_dataloader)):\n",
    "        \n",
    "        img = img.to(device)\n",
    "        seg = seg.to(device)\n",
    "        \n",
    "        optimizer.zero_grad()\n",
    "        \n",
    "        output = model(img)\n",
    "        \n",
    "        iou = calculate_iou(output, seg)\n",
    "        ious.append(iou)\n",
    "        \n",
    "        loss = loss_function(output, seg)\n",
    "        \n",
    "        loss.backward()\n",
    "        \n",
    "        optimizer.step()\n",
    "        \n",
    "        epoch_loss += loss.item()\n",
    "        \n",
    "    losses.append(epoch_loss)\n",
    "    \n",
    "    model.eval()\n",
    "    with torch.no_grad():\n",
    "        for i, (img, seg) in enumerate(test_dataloader):\n",
    "            \n",
    "            img = img.to(device)\n",
    "            seg = seg.to(device)\n",
    "             \n",
    "            output = model(img)\n",
    "            \n",
    "            iou = calculate_iou(output, seg)\n",
    "            test_ious.append(iou)\n",
    "            \n",
    "            loss = loss_function(output, seg)\n",
    "            \n",
    "            epoch_test_loss += loss.item()\n",
    "            \n",
    "        test_losses.append(epoch_test_loss)\n",
    "        \n",
    "        print(f\"Epoch: {epoch} | Train Loss: {epoch_loss / len(train_dataloader)} | Test Loss: {epoch_test_loss / len(test_dataloader)} | Train IoU: {ious[-1]} | Test IoU: {test_ious[-1]}\")"
   ]
  },
  {
   "cell_type": "code",
   "execution_count": null,
   "id": "374fd53fb90f3a9a",
   "metadata": {
    "ExecuteTime": {
     "start_time": "2023-11-23T12:07:51.072195Z"
    },
    "collapsed": false
   },
   "outputs": [],
   "source": [
    "data = next(iter(train_dataloader))\n",
    "\n",
    "data[0].shape"
   ]
  },
  {
   "cell_type": "code",
   "execution_count": null,
   "id": "7e26eea0b5873a81",
   "metadata": {
    "ExecuteTime": {
     "start_time": "2023-11-23T12:07:51.073537Z"
    },
    "collapsed": false
   },
   "outputs": [],
   "source": [
    "np.unique(data[1][1], return_counts=True)"
   ]
  },
  {
   "cell_type": "code",
   "execution_count": null,
   "id": "6d8df19c7962009",
   "metadata": {
    "ExecuteTime": {
     "start_time": "2023-11-23T12:07:51.074638Z"
    },
    "collapsed": false
   },
   "outputs": [],
   "source": [
    "plt.plot(losses)"
   ]
  },
  {
   "cell_type": "code",
   "execution_count": null,
   "id": "1cd99287e0991739",
   "metadata": {
    "ExecuteTime": {
     "end_time": "2023-11-23T12:07:51.076907Z",
     "start_time": "2023-11-23T12:07:51.075671Z"
    },
    "collapsed": false
   },
   "outputs": [],
   "source": []
  }
 ],
 "metadata": {
  "kernelspec": {
   "display_name": "Python 3",
   "language": "python",
   "name": "python3"
  },
  "language_info": {
   "codemirror_mode": {
    "name": "ipython",
    "version": 2
   },
   "file_extension": ".py",
   "mimetype": "text/x-python",
   "name": "python",
   "nbconvert_exporter": "python",
   "pygments_lexer": "ipython2",
   "version": "3.10.13"
  }
 },
 "nbformat": 4,
 "nbformat_minor": 5
}
