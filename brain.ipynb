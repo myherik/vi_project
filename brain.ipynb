{
 "cells": [
  {
   "cell_type": "code",
   "execution_count": 1,
   "metadata": {},
   "outputs": [],
   "source": [
    "import torch\n",
    "import numpy as np\n",
    "import glob\n",
    "import os\n",
    "\n",
    "from monai.data import CacheDataset, DataLoader, Dataset\n",
    "from monai.transforms import (\n",
    "    AsDiscrete,\n",
    "    Activations,\n",
    "    Compose,\n",
    "    LoadImaged,\n",
    "    ConvertToMultiChannelBasedOnBratsClassesd,\n",
    "    CropForegroundd,\n",
    "    RandSpatialCropd,\n",
    "    RandFlipd,\n",
    "    NormalizeIntensityd,\n",
    "    RandShiftIntensityd,\n",
    "    RandScaleIntensityd,\n",
    "    Lambdad,\n",
    "    EnsureChannelFirstd,\n",
    "    ToTensord,\n",
    "    Transform\n",
    ")\n",
    "from monai.metrics import DiceMetric\n",
    "from monai.utils.enums import MetricReduction\n",
    "from monai.networks.nets import SwinUNETR\n",
    "from monai.losses import DiceLoss, DiceCELoss\n",
    "from monai.data import decollate_batch\n",
    "from monai.inferers import sliding_window_inference\n",
    "from functools import partial\n",
    "\n",
    "from tqdm.notebook import tqdm"
   ]
  },
  {
   "cell_type": "code",
   "execution_count": 2,
   "metadata": {},
   "outputs": [
    {
     "name": "stdout",
     "output_type": "stream",
     "text": [
      "cuda:0\n"
     ]
    }
   ],
   "source": [
    "device = torch.device(\"cuda:0\" if torch.cuda.is_available() else \"cpu\")\n",
    "print(device)"
   ]
  },
  {
   "cell_type": "code",
   "execution_count": 3,
   "metadata": {},
   "outputs": [
    {
     "name": "stdout",
     "output_type": "stream",
     "text": [
      "390 94\n"
     ]
    }
   ],
   "source": [
    "#dataset_list = []\n",
    "\n",
    "# read all folders in Images\n",
    "\n",
    "base_path = \"Task01_BrainTumour/\"\n",
    "\n",
    "train_images = sorted(glob.glob(os.path.join(base_path, \"imagesTr\", \"*.nii.gz\")))\n",
    "train_labels = sorted(glob.glob(os.path.join(base_path, \"labelsTr\", \"*.nii.gz\")))\n",
    "\n",
    "dataset_list = [\n",
    "    {\"img\": image_name, \"seg\": label_name}\n",
    "    for image_name, label_name in zip(train_images, train_labels)\n",
    "]\n",
    "\n",
    "\"\"\"\n",
    "for file in os.listdir(os.path.join(base_path, \"imagesTr\")):\n",
    "\n",
    "    data_dict = {\n",
    "        \"img\": os.path.join(base_path, \"imagesTr\", file), \n",
    "        \"seg\": os.path.join(base_path, \"labelsTr\", file)\n",
    "    }\n",
    "    dataset_list.append(data_dict)\"\"\"\n",
    "\n",
    "train_dataset_list, val_dataset_list = dataset_list[:-94], dataset_list[-94:]\n",
    "\n",
    "# only use 70 percent of the total data\n",
    "#train_dataset_list, val_dataset_list = train_dataset_list[:int(len(train_dataset_list)*0.7)], val_dataset_list[:int(len(val_dataset_list)*0.7)]\n",
    "\n",
    "print(len(train_dataset_list), len(val_dataset_list))"
   ]
  },
  {
   "cell_type": "code",
   "execution_count": 4,
   "metadata": {},
   "outputs": [
    {
     "data": {
      "text/plain": [
       "'from monai.transforms import (\\n    Compose,\\n    LoadImage,\\n    ConvertToMultiChannelBasedOnBratsClasses,\\n    CropForeground,\\n    RandSpatialCrop,\\n    RandFlip,\\n    NormalizeIntensity,\\n    RandShiftIntensity,\\n    RandScaleIntensity,\\n    EnsureChannelFirst,\\n    Lambda\\n)\\n\\n\\nimg = LoadImage(image_only=True)(train_dataset_list[0][\"img\"])\\nprint(img.shape)\\n\\nimg = EnsureChannelFirst()(train_dataset_list[0])\\nprint(img.shape)\\n\\nimg = EnsureChannelFirst()(img)\\nprint(img.shape)\\n\\nimg = Lambda(lambda x: x.permute(3,2,0,1))(img)\\nprint(img.shape)\\n\\nimg = CropForeground()(img)\\nprint(img.shape)\\n\\nimg = RandSpatialCrop((128, 128, 128), random_size=False)(img)\\nprint(img.shape)\\n\\nimg = RandFlip(prob=0.5, spatial_axis=0)(img)\\nprint(img.shape)\\n\\nimg = NormalizeIntensity(nonzero=True, channel_wise=True)(img)\\nprint(img.shape)\\n\\nimg = RandShiftIntensity(offsets=0.1, prob=1.0)(img)\\nprint(img.shape)\\n\\nimg = RandScaleIntensity(prob=0.5, factors=0.1)(img)\\nprint(img.shape)\\n'"
      ]
     },
     "execution_count": 4,
     "metadata": {},
     "output_type": "execute_result"
    }
   ],
   "source": [
    "\"\"\"from monai.transforms import (\n",
    "    Compose,\n",
    "    LoadImage,\n",
    "    ConvertToMultiChannelBasedOnBratsClasses,\n",
    "    CropForeground,\n",
    "    RandSpatialCrop,\n",
    "    RandFlip,\n",
    "    NormalizeIntensity,\n",
    "    RandShiftIntensity,\n",
    "    RandScaleIntensity,\n",
    "    EnsureChannelFirst,\n",
    "    Lambda\n",
    ")\n",
    "\n",
    "\n",
    "img = LoadImage(image_only=True)(train_dataset_list[0][\"img\"])\n",
    "print(img.shape)\n",
    "\n",
    "img = EnsureChannelFirst()(train_dataset_list[0])\n",
    "print(img.shape)\n",
    "\n",
    "img = EnsureChannelFirst()(img)\n",
    "print(img.shape)\n",
    "\n",
    "img = Lambda(lambda x: x.permute(3,2,0,1))(img)\n",
    "print(img.shape)\n",
    "\n",
    "img = CropForeground()(img)\n",
    "print(img.shape)\n",
    "\n",
    "img = RandSpatialCrop((128, 128, 128), random_size=False)(img)\n",
    "print(img.shape)\n",
    "\n",
    "img = RandFlip(prob=0.5, spatial_axis=0)(img)\n",
    "print(img.shape)\n",
    "\n",
    "img = NormalizeIntensity(nonzero=True, channel_wise=True)(img)\n",
    "print(img.shape)\n",
    "\n",
    "img = RandShiftIntensity(offsets=0.1, prob=1.0)(img)\n",
    "print(img.shape)\n",
    "\n",
    "img = RandScaleIntensity(prob=0.5, factors=0.1)(img)\n",
    "print(img.shape)\n",
    "\"\"\""
   ]
  },
  {
   "cell_type": "code",
   "execution_count": 5,
   "metadata": {},
   "outputs": [],
   "source": [
    "class CustomConvertToMultiChannelBasedOnBratsClasses(Transform):\n",
    "    \"\"\"\n",
    "    Convert labels to multi channels based on brats18 classes:\n",
    "    label 1 is the necrotic and non-enhancing tumor core\n",
    "    label 2 is the peritumoral edema\n",
    "    label 4 is the GD-enhancing tumor\n",
    "    The possible classes are TC (Tumor core), WT (Whole tumor)\n",
    "    and ET (Enhancing tumor).\n",
    "    \"\"\"\n",
    "\n",
    "    backend = [\"torch\", \"numpy\"]\n",
    "\n",
    "    def __call__(self, img):\n",
    "        # if img has channel dim, squeeze it\n",
    "        if img.ndim == 4 and img.shape[0] == 1:\n",
    "            img = img.squeeze(0)\n",
    "\n",
    "        result = [(img == 2) | (img == 3), (img == 2) | (img == 3) | (img == 1), img == 3]\n",
    "        # merge labels 1 (tumor non-enh) and 4 (tumor enh) and 2 (large edema) to WT\n",
    "        # label 4 is ET\n",
    "        return torch.stack(result, dim=0) if isinstance(img, torch.Tensor) else np.stack(result, axis=0)"
   ]
  },
  {
   "cell_type": "code",
   "execution_count": 6,
   "metadata": {},
   "outputs": [
    {
     "name": "stderr",
     "output_type": "stream",
     "text": [
      "monai.transforms.croppad.dictionary CropForegroundd.__init__:allow_smaller: Current default value of argument `allow_smaller=True` has been deprecated since version 1.2. It will be changed to `allow_smaller=False` in version 1.5.\n"
     ]
    }
   ],
   "source": [
    "\"\"\"train_transform = Compose(\n",
    "        [\n",
    "            LoadImaged(keys=[\"img\", \"seg\"]),\n",
    "            #ConvertToMultiChannelBasedOnBratsClassesd(keys=\"seg\"),\n",
    "            #Lambdad(keys=[\"img\", \"seg\"], func=lambda x: x.permute(3,2,0,1)),\n",
    "            EnsureChannelFirstd(keys=[\"img\", \"seg\"]),\n",
    "            Lambdad(keys=[\"img\", \"seg\"], func=lambda x: x.permute(0,3,1,2)),\n",
    "            CropForegroundd(\n",
    "                keys=[\"img\", \"seg\"],\n",
    "                source_key=\"img\",\n",
    "                #k_divisible=[128, 128, 128],\n",
    "            ),\n",
    "            RandSpatialCropd(\n",
    "                keys=[\"img\", \"seg\"],\n",
    "                roi_size=[96, 96, 96],\n",
    "                random_size=False,\n",
    "            ),\n",
    "            RandFlipd(keys=[\"img\", \"seg\"], prob=0.5, spatial_axis=0),\n",
    "            RandFlipd(keys=[\"img\", \"seg\"], prob=0.5, spatial_axis=1),\n",
    "            RandFlipd(keys=[\"img\", \"seg\"], prob=0.5, spatial_axis=2),\n",
    "            NormalizeIntensityd(keys=\"img\", nonzero=True, channel_wise=True),\n",
    "            RandScaleIntensityd(keys=\"img\", factors=0.1, prob=1.0),\n",
    "            RandShiftIntensityd(keys=\"img\", offsets=0.1, prob=1.0),\n",
    "        ]\n",
    "    )\n",
    "\n",
    "val_transform = Compose(\n",
    "        [\n",
    "            LoadImaged(keys=[\"img\", \"seg\"]),\n",
    "            EnsureChannelFirstd(keys=[\"img\", \"seg\"]),\n",
    "            Lambdad(keys=[\"img\", \"seg\"], func=lambda x: x.permute(0,3,1,2)),\n",
    "            NormalizeIntensityd(keys=\"img\", nonzero=True, channel_wise=True),\n",
    "        ]\n",
    "    )\"\"\"\n",
    "\n",
    "instance = CustomConvertToMultiChannelBasedOnBratsClasses()\n",
    "train_transform = Compose(\n",
    "    [\n",
    "        LoadImaged(keys=[\"img\", \"seg\"]),\n",
    "        EnsureChannelFirstd(keys=[\"img\"]),\n",
    "        #Lambdad(keys=[\"img\", \"seg\"], func=lambda x: x.permute(0, 3, 1, 2)),\n",
    "        #ConvertToMultiChannelBasedOnBratsClassesd(keys=\"seg\"),\n",
    "        Lambdad(keys=[\"seg\"], func=lambda x: instance(x)),\n",
    "        CropForegroundd(keys=[\"img\", \"seg\"], source_key=\"img\", k_divisible=[96, 96, 96]),\n",
    "        RandSpatialCropd(keys=[\"img\", \"seg\"], roi_size=[96, 96, 96], random_size=False),\n",
    "        RandFlipd(keys=[\"img\", \"seg\"], prob=0.5, spatial_axis=0),  # Reduce probability\n",
    "        RandFlipd(keys=[\"img\", \"seg\"], prob=0.5, spatial_axis=1),\n",
    "        RandFlipd(keys=[\"img\", \"seg\"], prob=0.5, spatial_axis=2),\n",
    "        NormalizeIntensityd(keys=\"img\", nonzero=True, channel_wise=True),  # Change to global normalization\n",
    "        RandScaleIntensityd(keys=\"img\", factors=0.1, prob=1.0),  # Reduce probability and factor\n",
    "        RandShiftIntensityd(keys=\"img\", offsets=0.1, prob=1.0),  # Reduce probability and offset\n",
    "        #ToTensord(keys=[\"img\", \"seg\"]),\n",
    "    ]\n",
    ")\n",
    "\n",
    "val_transform = Compose(\n",
    "    [\n",
    "        LoadImaged(keys=[\"img\", \"seg\"]),\n",
    "        EnsureChannelFirstd(keys=[\"img\"]),\n",
    "        Lambdad(keys=[\"seg\"], func=lambda x: instance(x)),\n",
    "        #ConvertToMultiChannelBasedOnBratsClassesd(keys=\"seg\"),\n",
    "        #Lambdad(keys=[\"img\", \"seg\"], func=lambda x: x.permute(0, 3, 1, 2)),\n",
    "        NormalizeIntensityd(keys=\"img\", nonzero=True, channel_wise=True),  # Change to global normalization\n",
    "    ]\n",
    ")"
   ]
  },
  {
   "cell_type": "code",
   "execution_count": 7,
   "metadata": {},
   "outputs": [
    {
     "name": "stdout",
     "output_type": "stream",
     "text": [
      "torch.Size([4, 96, 96, 96]) torch.Size([3, 96, 96, 96])\n"
     ]
    }
   ],
   "source": [
    "img = train_transform(train_dataset_list[0])\n",
    "\n",
    "print(img[\"img\"].shape, img[\"seg\"].shape)"
   ]
  },
  {
   "cell_type": "code",
   "execution_count": 8,
   "metadata": {},
   "outputs": [],
   "source": [
    "train_dataset = Dataset(train_dataset_list, transform=train_transform)\n",
    "val_dataset = Dataset(val_dataset_list, transform=val_transform)\n",
    "\n",
    "train_loader = DataLoader(train_dataset, batch_size=2, shuffle=True, num_workers=os.cpu_count() // 2)\n",
    "val_loader = DataLoader(val_dataset, batch_size=2, shuffle=False, num_workers=os.cpu_count() // 2)"
   ]
  },
  {
   "cell_type": "code",
   "execution_count": 9,
   "metadata": {},
   "outputs": [],
   "source": [
    "model = SwinUNETR(\n",
    "    in_channels=4,\n",
    "    out_channels=3,\n",
    "    img_size=96,\n",
    "    feature_size=48,\n",
    "    drop_rate=0.0,\n",
    "    attn_drop_rate=0.0,\n",
    "    dropout_path_rate=0.0,\n",
    ").to(device)\n"
   ]
  },
  {
   "cell_type": "code",
   "execution_count": 10,
   "metadata": {},
   "outputs": [],
   "source": [
    "def calculate_iou(predicted, target):\n",
    "    \"\"\"\n",
    "    Calculate Intersection over Union (IoU) for binary segmentation.\n",
    "\n",
    "    Args:\n",
    "    - predicted (torch.Tensor): Predicted binary mask (0 or 1).\n",
    "    - target (torch.Tensor): Ground truth binary mask (0 or 1).\n",
    "\n",
    "    Returns:\n",
    "    - float: IoU score.\n",
    "    \"\"\"\n",
    "    intersection = torch.logical_and(predicted, target).sum().item()\n",
    "    union = torch.logical_or(predicted, target).sum().item()\n",
    "\n",
    "    iou = intersection / union if union != 0 else 0.0\n",
    "    return iou"
   ]
  },
  {
   "cell_type": "code",
   "execution_count": 11,
   "metadata": {},
   "outputs": [],
   "source": [
    "#loss_function = DiceCELoss(to_onehot_y=True, softmax=True) #torch.nn.MSELoss()\n",
    "#optimizer = torch.optim.AdamW(model.parameters(), 0.1)\n",
    "\n",
    "torch.backends.cudnn.benchmark = True\n",
    "loss_function = DiceLoss(to_onehot_y=False, sigmoid=True)\n",
    "post_sigmoid = Activations(sigmoid=True)\n",
    "post_pred = AsDiscrete(argmax=False, threshold=0.5)\n",
    "dice_accuracy = DiceMetric(include_background=True, reduction=MetricReduction.MEAN_BATCH, get_not_nans=True)\n",
    "model_inferer = partial(\n",
    "    sliding_window_inference,\n",
    "    roi_size=[96, 96, 96],\n",
    "    sw_batch_size=4,\n",
    "    predictor=model,\n",
    "    overlap=0.5,\n",
    ")\n",
    "\n",
    "optimizer = torch.optim.AdamW(model.parameters(), lr=1e-4, weight_decay=1e-5)\n",
    "scheduler = torch.optim.lr_scheduler.CosineAnnealingLR(optimizer, T_max=100)"
   ]
  },
  {
   "cell_type": "code",
   "execution_count": 12,
   "metadata": {},
   "outputs": [],
   "source": [
    "class AverageMeter(object):\n",
    "    def __init__(self):        \n",
    "        self.reset()\n",
    "    def reset(self):        \n",
    "        self.val = 0        \n",
    "        self.avg = 0        \n",
    "        self.sum = 0        \n",
    "        self.count = 0\n",
    "    def update(self, val, n=1):        \n",
    "        self.val = val       \n",
    "        self.sum += val * n        \n",
    "        self.count += n        \n",
    "        self.avg = np.where(self.count > 0, self.sum / self.count, self.sum)"
   ]
  },
  {
   "cell_type": "code",
   "execution_count": 13,
   "metadata": {},
   "outputs": [
    {
     "data": {
      "application/vnd.jupyter.widget-view+json": {
       "model_id": "46be666dc7fa4f28b2c3c6e9c16a9938",
       "version_major": 2,
       "version_minor": 0
      },
      "text/plain": [
       "  0%|          | 0/195 [00:00<?, ?it/s]"
      ]
     },
     "metadata": {},
     "output_type": "display_data"
    },
    {
     "name": "stdout",
     "output_type": "stream",
     "text": [
      "\n",
      "                Epoch: 0 / 100 \n",
      "                | Train Loss: 0.8674495418866476 \n",
      "                | Train Dice Accuracy: [0.27500135 0.4949962  0.0629358 ] \n",
      "            \n"
     ]
    },
    {
     "data": {
      "application/vnd.jupyter.widget-view+json": {
       "model_id": "cf2cf63313004287bc003a2e8b5349f9",
       "version_major": 2,
       "version_minor": 0
      },
      "text/plain": [
       "  0%|          | 0/195 [00:00<?, ?it/s]"
      ]
     },
     "metadata": {},
     "output_type": "display_data"
    },
    {
     "name": "stdout",
     "output_type": "stream",
     "text": [
      "\n",
      "                Epoch: 1 / 100 \n",
      "                | Train Loss: 0.8182934745764121 \n",
      "                | Train Dice Accuracy: [0.3729773  0.61418474 0.14892237] \n",
      "            \n"
     ]
    },
    {
     "data": {
      "application/vnd.jupyter.widget-view+json": {
       "model_id": "7463bd71a6d348eb9d77b624999aa892",
       "version_major": 2,
       "version_minor": 0
      },
      "text/plain": [
       "  0%|          | 0/195 [00:00<?, ?it/s]"
      ]
     },
     "metadata": {},
     "output_type": "display_data"
    },
    {
     "name": "stdout",
     "output_type": "stream",
     "text": [
      "\n",
      "                Epoch: 2 / 100 \n",
      "                | Train Loss: 0.7670990567940932 \n",
      "                | Train Dice Accuracy: [0.46541777 0.65851325 0.29328907] \n",
      "            \n"
     ]
    },
    {
     "data": {
      "application/vnd.jupyter.widget-view+json": {
       "model_id": "f857f16f02954d9d9c4f66dde94e9eab",
       "version_major": 2,
       "version_minor": 0
      },
      "text/plain": [
       "  0%|          | 0/195 [00:00<?, ?it/s]"
      ]
     },
     "metadata": {},
     "output_type": "display_data"
    },
    {
     "name": "stdout",
     "output_type": "stream",
     "text": [
      "\n",
      "                Epoch: 3 / 100 \n",
      "                | Train Loss: 0.7194957285355299 \n",
      "                | Train Dice Accuracy: [0.50392526 0.6786337  0.36335   ] \n",
      "            \n"
     ]
    },
    {
     "data": {
      "application/vnd.jupyter.widget-view+json": {
       "model_id": "cb510a79eb144254a6a2c1bf6dac82ae",
       "version_major": 2,
       "version_minor": 0
      },
      "text/plain": [
       "  0%|          | 0/195 [00:00<?, ?it/s]"
      ]
     },
     "metadata": {},
     "output_type": "display_data"
    },
    {
     "name": "stdout",
     "output_type": "stream",
     "text": [
      "\n",
      "                Epoch: 4 / 100 \n",
      "                | Train Loss: 0.6619895442938193 \n",
      "                | Train Dice Accuracy: [0.55420023 0.7110208  0.48237014] \n",
      "            \n"
     ]
    },
    {
     "data": {
      "application/vnd.jupyter.widget-view+json": {
       "model_id": "ee956850862a44bba1b19720af125db5",
       "version_major": 2,
       "version_minor": 0
      },
      "text/plain": [
       "  0%|          | 0/195 [00:00<?, ?it/s]"
      ]
     },
     "metadata": {},
     "output_type": "display_data"
    },
    {
     "name": "stdout",
     "output_type": "stream",
     "text": [
      "\n",
      "                Epoch: 5 / 100 \n",
      "                | Train Loss: 0.604756571772771 \n",
      "                | Train Dice Accuracy: [0.5803217  0.72124386 0.57148296] \n",
      "            \n"
     ]
    },
    {
     "data": {
      "application/vnd.jupyter.widget-view+json": {
       "model_id": "e8baa3dc070148189a196fc76d7f335f",
       "version_major": 2,
       "version_minor": 0
      },
      "text/plain": [
       "  0%|          | 0/195 [00:00<?, ?it/s]"
      ]
     },
     "metadata": {},
     "output_type": "display_data"
    },
    {
     "name": "stdout",
     "output_type": "stream",
     "text": [
      "\n",
      "                Epoch: 6 / 100 \n",
      "                | Train Loss: 0.5729321638743082 \n",
      "                | Train Dice Accuracy: [0.6071932 0.7189845 0.6163491] \n",
      "            \n"
     ]
    },
    {
     "data": {
      "application/vnd.jupyter.widget-view+json": {
       "model_id": "0cd5a43d693f495b8dd2c937e2358fef",
       "version_major": 2,
       "version_minor": 0
      },
      "text/plain": [
       "  0%|          | 0/195 [00:00<?, ?it/s]"
      ]
     },
     "metadata": {},
     "output_type": "display_data"
    },
    {
     "name": "stderr",
     "output_type": "stream",
     "text": [
      "invalid value encountered in divide\n"
     ]
    },
    {
     "name": "stdout",
     "output_type": "stream",
     "text": [
      "\n",
      "                Epoch: 7 / 100 \n",
      "                | Train Loss: 0.534799169195004 \n",
      "                | Train Dice Accuracy: [0.61599547 0.7474158  0.63893807] \n",
      "            \n"
     ]
    },
    {
     "data": {
      "application/vnd.jupyter.widget-view+json": {
       "model_id": "3fb19bbcc7a04392ace5429c0b495918",
       "version_major": 2,
       "version_minor": 0
      },
      "text/plain": [
       "  0%|          | 0/195 [00:00<?, ?it/s]"
      ]
     },
     "metadata": {},
     "output_type": "display_data"
    },
    {
     "name": "stdout",
     "output_type": "stream",
     "text": [
      "\n",
      "                Epoch: 8 / 100 \n",
      "                | Train Loss: 0.5043420003774839 \n",
      "                | Train Dice Accuracy: [0.6204962  0.73642266 0.64125794] \n",
      "            \n"
     ]
    },
    {
     "data": {
      "application/vnd.jupyter.widget-view+json": {
       "model_id": "53de7c9c292548b6bee13f4d9a16a48f",
       "version_major": 2,
       "version_minor": 0
      },
      "text/plain": [
       "  0%|          | 0/195 [00:00<?, ?it/s]"
      ]
     },
     "metadata": {},
     "output_type": "display_data"
    },
    {
     "name": "stdout",
     "output_type": "stream",
     "text": [
      "saved new best brain metric model\n",
      "\n",
      "                Epoch: 9 / 100 \n",
      "                | Train Loss: 0.4775411605070799 \n",
      "                | Test Loss: 0.3541565699146149 \n",
      "                | Train IoU: 0.019578533408082563 \n",
      "                | Test IoU: 0.00559375\n",
      "                | Train Dice Accuracy: [0.6395078 0.7641216 0.6644523] \n",
      "                | Test Dice Accuracy: [0.8001814  0.8906426  0.82196105]\n",
      "            \n"
     ]
    },
    {
     "data": {
      "application/vnd.jupyter.widget-view+json": {
       "model_id": "957d410d602c4289aeea05f5c4221ea4",
       "version_major": 2,
       "version_minor": 0
      },
      "text/plain": [
       "  0%|          | 0/195 [00:00<?, ?it/s]"
      ]
     },
     "metadata": {},
     "output_type": "display_data"
    },
    {
     "name": "stdout",
     "output_type": "stream",
     "text": [
      "\n",
      "                Epoch: 10 / 100 \n",
      "                | Train Loss: 0.48521194557348885 \n",
      "                | Train Dice Accuracy: [0.6697889  0.73845977 0.68944335] \n",
      "            \n"
     ]
    },
    {
     "data": {
      "application/vnd.jupyter.widget-view+json": {
       "model_id": "2095465c175347c0bfca7d30d676564b",
       "version_major": 2,
       "version_minor": 0
      },
      "text/plain": [
       "  0%|          | 0/195 [00:00<?, ?it/s]"
      ]
     },
     "metadata": {},
     "output_type": "display_data"
    },
    {
     "name": "stdout",
     "output_type": "stream",
     "text": [
      "\n",
      "                Epoch: 11 / 100 \n",
      "                | Train Loss: 0.4640836609097628 \n",
      "                | Train Dice Accuracy: [0.6591365 0.7584879 0.6652642] \n",
      "            \n"
     ]
    },
    {
     "data": {
      "application/vnd.jupyter.widget-view+json": {
       "model_id": "9ed99d0da41e4a86a7e0d45638caa1fd",
       "version_major": 2,
       "version_minor": 0
      },
      "text/plain": [
       "  0%|          | 0/195 [00:00<?, ?it/s]"
      ]
     },
     "metadata": {},
     "output_type": "display_data"
    },
    {
     "name": "stdout",
     "output_type": "stream",
     "text": [
      "\n",
      "                Epoch: 12 / 100 \n",
      "                | Train Loss: 0.4709802542359401 \n",
      "                | Train Dice Accuracy: [0.6581221  0.7327752  0.69585574] \n",
      "            \n"
     ]
    },
    {
     "data": {
      "application/vnd.jupyter.widget-view+json": {
       "model_id": "2e5dac0cb88047d09113f23d1b91c97f",
       "version_major": 2,
       "version_minor": 0
      },
      "text/plain": [
       "  0%|          | 0/195 [00:00<?, ?it/s]"
      ]
     },
     "metadata": {},
     "output_type": "display_data"
    },
    {
     "name": "stdout",
     "output_type": "stream",
     "text": [
      "\n",
      "                Epoch: 13 / 100 \n",
      "                | Train Loss: 0.4205756564552967 \n",
      "                | Train Dice Accuracy: [0.683259   0.7628603  0.71143466] \n",
      "            \n"
     ]
    },
    {
     "data": {
      "application/vnd.jupyter.widget-view+json": {
       "model_id": "ecf964d8139c4aa8a08bfba98ca641b5",
       "version_major": 2,
       "version_minor": 0
      },
      "text/plain": [
       "  0%|          | 0/195 [00:00<?, ?it/s]"
      ]
     },
     "metadata": {},
     "output_type": "display_data"
    },
    {
     "name": "stdout",
     "output_type": "stream",
     "text": [
      "\n",
      "                Epoch: 14 / 100 \n",
      "                | Train Loss: 0.4203391772432205 \n",
      "                | Train Dice Accuracy: [0.6812329  0.78649294 0.69124955] \n",
      "            \n"
     ]
    },
    {
     "data": {
      "application/vnd.jupyter.widget-view+json": {
       "model_id": "28f1268333bf4b48be13fabc03a709a2",
       "version_major": 2,
       "version_minor": 0
      },
      "text/plain": [
       "  0%|          | 0/195 [00:00<?, ?it/s]"
      ]
     },
     "metadata": {},
     "output_type": "display_data"
    },
    {
     "name": "stdout",
     "output_type": "stream",
     "text": [
      "\n",
      "                Epoch: 15 / 100 \n",
      "                | Train Loss: 0.4276972659887412 \n",
      "                | Train Dice Accuracy: [0.6724179 0.7743225 0.6918212] \n",
      "            \n"
     ]
    },
    {
     "data": {
      "application/vnd.jupyter.widget-view+json": {
       "model_id": "01e39242777f4ab7b76661252536ac81",
       "version_major": 2,
       "version_minor": 0
      },
      "text/plain": [
       "  0%|          | 0/195 [00:00<?, ?it/s]"
      ]
     },
     "metadata": {},
     "output_type": "display_data"
    },
    {
     "name": "stdout",
     "output_type": "stream",
     "text": [
      "\n",
      "                Epoch: 16 / 100 \n",
      "                | Train Loss: 0.4190514284448746 \n",
      "                | Train Dice Accuracy: [0.68671787 0.777441   0.71860147] \n",
      "            \n"
     ]
    },
    {
     "data": {
      "application/vnd.jupyter.widget-view+json": {
       "model_id": "ecc058ca0f634c42a8f82a8d3bd6ff0e",
       "version_major": 2,
       "version_minor": 0
      },
      "text/plain": [
       "  0%|          | 0/195 [00:00<?, ?it/s]"
      ]
     },
     "metadata": {},
     "output_type": "display_data"
    },
    {
     "name": "stdout",
     "output_type": "stream",
     "text": [
      "\n",
      "                Epoch: 17 / 100 \n",
      "                | Train Loss: 0.42004596686516055 \n",
      "                | Train Dice Accuracy: [0.6816622  0.7753429  0.70982033] \n",
      "            \n"
     ]
    },
    {
     "data": {
      "application/vnd.jupyter.widget-view+json": {
       "model_id": "712dda28742149f880ae04a76319dcdd",
       "version_major": 2,
       "version_minor": 0
      },
      "text/plain": [
       "  0%|          | 0/195 [00:00<?, ?it/s]"
      ]
     },
     "metadata": {},
     "output_type": "display_data"
    },
    {
     "name": "stdout",
     "output_type": "stream",
     "text": [
      "\n",
      "                Epoch: 18 / 100 \n",
      "                | Train Loss: 0.4218019942442576 \n",
      "                | Train Dice Accuracy: [0.66257125 0.7806901  0.66389656] \n",
      "            \n"
     ]
    },
    {
     "data": {
      "application/vnd.jupyter.widget-view+json": {
       "model_id": "13bfaabad7b24417b1e5f0b853ea7333",
       "version_major": 2,
       "version_minor": 0
      },
      "text/plain": [
       "  0%|          | 0/195 [00:00<?, ?it/s]"
      ]
     },
     "metadata": {},
     "output_type": "display_data"
    },
    {
     "name": "stdout",
     "output_type": "stream",
     "text": [
      "saved new best brain metric model\n",
      "\n",
      "                Epoch: 19 / 100 \n",
      "                | Train Loss: 0.4110206127548829 \n",
      "                | Test Loss: 0.20540338516869444 \n",
      "                | Train IoU: 0.003789454330632716 \n",
      "                | Test IoU: 0.00559375\n",
      "                | Train Dice Accuracy: [0.6858669  0.79329425 0.7046753 ] \n",
      "                | Test Dice Accuracy: [0.8089048  0.88598096 0.82437694]\n",
      "            \n"
     ]
    },
    {
     "data": {
      "application/vnd.jupyter.widget-view+json": {
       "model_id": "445aca2901b74085a64f4c9cf652a903",
       "version_major": 2,
       "version_minor": 0
      },
      "text/plain": [
       "  0%|          | 0/195 [00:00<?, ?it/s]"
      ]
     },
     "metadata": {},
     "output_type": "display_data"
    },
    {
     "name": "stdout",
     "output_type": "stream",
     "text": [
      "\n",
      "                Epoch: 20 / 100 \n",
      "                | Train Loss: 0.4410564749668806 \n",
      "                | Train Dice Accuracy: [0.6736262  0.76409554 0.69839156] \n",
      "            \n"
     ]
    },
    {
     "data": {
      "application/vnd.jupyter.widget-view+json": {
       "model_id": "1a3ffa6b0f3a492aa541b68d374ba61c",
       "version_major": 2,
       "version_minor": 0
      },
      "text/plain": [
       "  0%|          | 0/195 [00:00<?, ?it/s]"
      ]
     },
     "metadata": {},
     "output_type": "display_data"
    },
    {
     "name": "stdout",
     "output_type": "stream",
     "text": [
      "\n",
      "                Epoch: 21 / 100 \n",
      "                | Train Loss: 0.41593756263072673 \n",
      "                | Train Dice Accuracy: [0.69116604 0.7663784  0.71387714] \n",
      "            \n"
     ]
    },
    {
     "data": {
      "application/vnd.jupyter.widget-view+json": {
       "model_id": "82e152a941ef40c0865c7f6237fffd47",
       "version_major": 2,
       "version_minor": 0
      },
      "text/plain": [
       "  0%|          | 0/195 [00:00<?, ?it/s]"
      ]
     },
     "metadata": {},
     "output_type": "display_data"
    },
    {
     "name": "stdout",
     "output_type": "stream",
     "text": [
      "\n",
      "                Epoch: 22 / 100 \n",
      "                | Train Loss: 0.4273030184018306 \n",
      "                | Train Dice Accuracy: [0.67223305 0.7653245  0.7020125 ] \n",
      "            \n"
     ]
    },
    {
     "data": {
      "application/vnd.jupyter.widget-view+json": {
       "model_id": "524f270158be43c6ac1c425322722c11",
       "version_major": 2,
       "version_minor": 0
      },
      "text/plain": [
       "  0%|          | 0/195 [00:00<?, ?it/s]"
      ]
     },
     "metadata": {},
     "output_type": "display_data"
    },
    {
     "name": "stdout",
     "output_type": "stream",
     "text": [
      "\n",
      "                Epoch: 23 / 100 \n",
      "                | Train Loss: 0.4047050356482848 \n",
      "                | Train Dice Accuracy: [0.69089377 0.7830782  0.7114185 ] \n",
      "            \n"
     ]
    },
    {
     "data": {
      "application/vnd.jupyter.widget-view+json": {
       "model_id": "55af736206bd4abd88f28d6c3605cb27",
       "version_major": 2,
       "version_minor": 0
      },
      "text/plain": [
       "  0%|          | 0/195 [00:00<?, ?it/s]"
      ]
     },
     "metadata": {},
     "output_type": "display_data"
    },
    {
     "name": "stdout",
     "output_type": "stream",
     "text": [
      "\n",
      "                Epoch: 24 / 100 \n",
      "                | Train Loss: 0.40238513128879744 \n",
      "                | Train Dice Accuracy: [0.6846076  0.797146   0.69344217] \n",
      "            \n"
     ]
    },
    {
     "data": {
      "application/vnd.jupyter.widget-view+json": {
       "model_id": "c069559a74ba432f89ab72ae6a1d5004",
       "version_major": 2,
       "version_minor": 0
      },
      "text/plain": [
       "  0%|          | 0/195 [00:00<?, ?it/s]"
      ]
     },
     "metadata": {},
     "output_type": "display_data"
    },
    {
     "name": "stdout",
     "output_type": "stream",
     "text": [
      "\n",
      "                Epoch: 25 / 100 \n",
      "                | Train Loss: 0.38805559006256934 \n",
      "                | Train Dice Accuracy: [0.69102424 0.7950952  0.7014105 ] \n",
      "            \n"
     ]
    },
    {
     "data": {
      "application/vnd.jupyter.widget-view+json": {
       "model_id": "84cefa9311794dbca0ae068cf0f7bcf3",
       "version_major": 2,
       "version_minor": 0
      },
      "text/plain": [
       "  0%|          | 0/195 [00:00<?, ?it/s]"
      ]
     },
     "metadata": {},
     "output_type": "display_data"
    },
    {
     "name": "stdout",
     "output_type": "stream",
     "text": [
      "\n",
      "                Epoch: 26 / 100 \n",
      "                | Train Loss: 0.4042721211528167 \n",
      "                | Train Dice Accuracy: [0.6980261  0.78597397 0.7175112 ] \n",
      "            \n"
     ]
    },
    {
     "data": {
      "application/vnd.jupyter.widget-view+json": {
       "model_id": "997c75dcf51e4af6946bcb4f5e431601",
       "version_major": 2,
       "version_minor": 0
      },
      "text/plain": [
       "  0%|          | 0/195 [00:00<?, ?it/s]"
      ]
     },
     "metadata": {},
     "output_type": "display_data"
    },
    {
     "name": "stdout",
     "output_type": "stream",
     "text": [
      "\n",
      "                Epoch: 27 / 100 \n",
      "                | Train Loss: 0.41376444399356843 \n",
      "                | Train Dice Accuracy: [0.67854476 0.7778618  0.6776186 ] \n",
      "            \n"
     ]
    },
    {
     "data": {
      "application/vnd.jupyter.widget-view+json": {
       "model_id": "fe53cdb49ed541859a6fe6d2488faa76",
       "version_major": 2,
       "version_minor": 0
      },
      "text/plain": [
       "  0%|          | 0/195 [00:00<?, ?it/s]"
      ]
     },
     "metadata": {},
     "output_type": "display_data"
    },
    {
     "name": "stdout",
     "output_type": "stream",
     "text": [
      "\n",
      "                Epoch: 28 / 100 \n",
      "                | Train Loss: 0.3960332841063157 \n",
      "                | Train Dice Accuracy: [0.6980087  0.7758073  0.71228355] \n",
      "            \n"
     ]
    },
    {
     "data": {
      "application/vnd.jupyter.widget-view+json": {
       "model_id": "9b81671a92ce47a8b5e6dce4c57fa7bd",
       "version_major": 2,
       "version_minor": 0
      },
      "text/plain": [
       "  0%|          | 0/195 [00:00<?, ?it/s]"
      ]
     },
     "metadata": {},
     "output_type": "display_data"
    },
    {
     "name": "stdout",
     "output_type": "stream",
     "text": [
      "saved new best brain metric model\n",
      "\n",
      "                Epoch: 29 / 100 \n",
      "                | Train Loss: 0.4079942567226214 \n",
      "                | Test Loss: 0.15899209646468468 \n",
      "                | Train IoU: 0.01509715892650463 \n",
      "                | Test IoU: 0.00559375\n",
      "                | Train Dice Accuracy: [0.6929772 0.7948852 0.7119642] \n",
      "                | Test Dice Accuracy: [0.8405997  0.90080535 0.8346551 ]\n",
      "            \n"
     ]
    },
    {
     "data": {
      "application/vnd.jupyter.widget-view+json": {
       "model_id": "25000b3a527f424d8edc77a19520e5d2",
       "version_major": 2,
       "version_minor": 0
      },
      "text/plain": [
       "  0%|          | 0/195 [00:00<?, ?it/s]"
      ]
     },
     "metadata": {},
     "output_type": "display_data"
    },
    {
     "name": "stdout",
     "output_type": "stream",
     "text": [
      "\n",
      "                Epoch: 30 / 100 \n",
      "                | Train Loss: 0.4238616639987016 \n",
      "                | Train Dice Accuracy: [0.6934778  0.78629476 0.71149313] \n",
      "            \n"
     ]
    },
    {
     "data": {
      "application/vnd.jupyter.widget-view+json": {
       "model_id": "0537ab22ea9e452d975c8cac32f0c480",
       "version_major": 2,
       "version_minor": 0
      },
      "text/plain": [
       "  0%|          | 0/195 [00:00<?, ?it/s]"
      ]
     },
     "metadata": {},
     "output_type": "display_data"
    },
    {
     "name": "stdout",
     "output_type": "stream",
     "text": [
      "\n",
      "                Epoch: 31 / 100 \n",
      "                | Train Loss: 0.39734365810186434 \n",
      "                | Train Dice Accuracy: [0.6943854  0.78829956 0.724702  ] \n",
      "            \n"
     ]
    },
    {
     "data": {
      "application/vnd.jupyter.widget-view+json": {
       "model_id": "3d2ded6ed0c9423cae013089d2553a3e",
       "version_major": 2,
       "version_minor": 0
      },
      "text/plain": [
       "  0%|          | 0/195 [00:00<?, ?it/s]"
      ]
     },
     "metadata": {},
     "output_type": "display_data"
    },
    {
     "name": "stdout",
     "output_type": "stream",
     "text": [
      "\n",
      "                Epoch: 32 / 100 \n",
      "                | Train Loss: 0.38189289378814206 \n",
      "                | Train Dice Accuracy: [0.72849554 0.79324526 0.71534157] \n",
      "            \n"
     ]
    },
    {
     "data": {
      "application/vnd.jupyter.widget-view+json": {
       "model_id": "a10aa0bc948f49afb7d96134f887840e",
       "version_major": 2,
       "version_minor": 0
      },
      "text/plain": [
       "  0%|          | 0/195 [00:00<?, ?it/s]"
      ]
     },
     "metadata": {},
     "output_type": "display_data"
    },
    {
     "name": "stdout",
     "output_type": "stream",
     "text": [
      "\n",
      "                Epoch: 33 / 100 \n",
      "                | Train Loss: 0.39872039472445464 \n",
      "                | Train Dice Accuracy: [0.69940776 0.79438394 0.6976473 ] \n",
      "            \n"
     ]
    },
    {
     "data": {
      "application/vnd.jupyter.widget-view+json": {
       "model_id": "9383a381995844c2bc4a3857e09f861d",
       "version_major": 2,
       "version_minor": 0
      },
      "text/plain": [
       "  0%|          | 0/195 [00:00<?, ?it/s]"
      ]
     },
     "metadata": {},
     "output_type": "display_data"
    },
    {
     "name": "stdout",
     "output_type": "stream",
     "text": [
      "\n",
      "                Epoch: 34 / 100 \n",
      "                | Train Loss: 0.394196304335044 \n",
      "                | Train Dice Accuracy: [0.70674044 0.79431486 0.70903945] \n",
      "            \n"
     ]
    },
    {
     "data": {
      "application/vnd.jupyter.widget-view+json": {
       "model_id": "32b29da1514c4e42aece78b7e4a15a03",
       "version_major": 2,
       "version_minor": 0
      },
      "text/plain": [
       "  0%|          | 0/195 [00:00<?, ?it/s]"
      ]
     },
     "metadata": {},
     "output_type": "display_data"
    },
    {
     "name": "stdout",
     "output_type": "stream",
     "text": [
      "\n",
      "                Epoch: 35 / 100 \n",
      "                | Train Loss: 0.3835543411282393 \n",
      "                | Train Dice Accuracy: [0.7105648 0.8034947 0.7060474] \n",
      "            \n"
     ]
    },
    {
     "data": {
      "application/vnd.jupyter.widget-view+json": {
       "model_id": "fecc72d9aec74a96b445b19ef2a22a60",
       "version_major": 2,
       "version_minor": 0
      },
      "text/plain": [
       "  0%|          | 0/195 [00:00<?, ?it/s]"
      ]
     },
     "metadata": {},
     "output_type": "display_data"
    },
    {
     "name": "stdout",
     "output_type": "stream",
     "text": [
      "\n",
      "                Epoch: 36 / 100 \n",
      "                | Train Loss: 0.3796369454417473 \n",
      "                | Train Dice Accuracy: [0.7144073  0.80390036 0.7400448 ] \n",
      "            \n"
     ]
    },
    {
     "data": {
      "application/vnd.jupyter.widget-view+json": {
       "model_id": "a955a10ee44644fa92f9556644a210bf",
       "version_major": 2,
       "version_minor": 0
      },
      "text/plain": [
       "  0%|          | 0/195 [00:00<?, ?it/s]"
      ]
     },
     "metadata": {},
     "output_type": "display_data"
    },
    {
     "name": "stdout",
     "output_type": "stream",
     "text": [
      "\n",
      "                Epoch: 37 / 100 \n",
      "                | Train Loss: 0.38681295120563264 \n",
      "                | Train Dice Accuracy: [0.7203093  0.79143554 0.7117542 ] \n",
      "            \n"
     ]
    },
    {
     "data": {
      "application/vnd.jupyter.widget-view+json": {
       "model_id": "413bd79458ce485fbaa2a04a1423c6bc",
       "version_major": 2,
       "version_minor": 0
      },
      "text/plain": [
       "  0%|          | 0/195 [00:00<?, ?it/s]"
      ]
     },
     "metadata": {},
     "output_type": "display_data"
    },
    {
     "name": "stdout",
     "output_type": "stream",
     "text": [
      "\n",
      "                Epoch: 38 / 100 \n",
      "                | Train Loss: 0.410640574972599 \n",
      "                | Train Dice Accuracy: [0.69134855 0.7900583  0.7125705 ] \n",
      "            \n"
     ]
    },
    {
     "data": {
      "application/vnd.jupyter.widget-view+json": {
       "model_id": "db29bf3e936f4134b29831a120f19826",
       "version_major": 2,
       "version_minor": 0
      },
      "text/plain": [
       "  0%|          | 0/195 [00:00<?, ?it/s]"
      ]
     },
     "metadata": {},
     "output_type": "display_data"
    },
    {
     "name": "stdout",
     "output_type": "stream",
     "text": [
      "\n",
      "                Epoch: 39 / 100 \n",
      "                | Train Loss: 0.3898148751602723 \n",
      "                | Test Loss: 0.15642521530389786 \n",
      "                | Train IoU: 0.032217708634741514 \n",
      "                | Test IoU: 0.00559375\n",
      "                | Train Dice Accuracy: [0.72359943 0.7931094  0.71870154] \n",
      "                | Test Dice Accuracy: [0.81835264 0.9052275  0.8391118 ]\n",
      "            \n"
     ]
    },
    {
     "data": {
      "application/vnd.jupyter.widget-view+json": {
       "model_id": "10af0c09e51d41eda5d878688aa3a9b3",
       "version_major": 2,
       "version_minor": 0
      },
      "text/plain": [
       "  0%|          | 0/195 [00:00<?, ?it/s]"
      ]
     },
     "metadata": {},
     "output_type": "display_data"
    },
    {
     "name": "stdout",
     "output_type": "stream",
     "text": [
      "\n",
      "                Epoch: 40 / 100 \n",
      "                | Train Loss: 0.3686985358595848 \n",
      "                | Train Dice Accuracy: [0.71470976 0.80217564 0.72960645] \n",
      "            \n"
     ]
    },
    {
     "data": {
      "application/vnd.jupyter.widget-view+json": {
       "model_id": "bac1993b99174702bedbf4b731f7bb72",
       "version_major": 2,
       "version_minor": 0
      },
      "text/plain": [
       "  0%|          | 0/195 [00:00<?, ?it/s]"
      ]
     },
     "metadata": {},
     "output_type": "display_data"
    },
    {
     "name": "stdout",
     "output_type": "stream",
     "text": [
      "\n",
      "                Epoch: 41 / 100 \n",
      "                | Train Loss: 0.3929494773157132 \n",
      "                | Train Dice Accuracy: [0.71450204 0.7790599  0.74667126] \n",
      "            \n"
     ]
    },
    {
     "data": {
      "application/vnd.jupyter.widget-view+json": {
       "model_id": "685f5c9145454e61b93397fd8b5a0cfd",
       "version_major": 2,
       "version_minor": 0
      },
      "text/plain": [
       "  0%|          | 0/195 [00:00<?, ?it/s]"
      ]
     },
     "metadata": {},
     "output_type": "display_data"
    },
    {
     "name": "stdout",
     "output_type": "stream",
     "text": [
      "\n",
      "                Epoch: 42 / 100 \n",
      "                | Train Loss: 0.41179138634067314 \n",
      "                | Train Dice Accuracy: [0.6943713 0.7875059 0.7087361] \n",
      "            \n"
     ]
    },
    {
     "data": {
      "application/vnd.jupyter.widget-view+json": {
       "model_id": "14a127602ccc4489aba289edf6096bf3",
       "version_major": 2,
       "version_minor": 0
      },
      "text/plain": [
       "  0%|          | 0/195 [00:00<?, ?it/s]"
      ]
     },
     "metadata": {},
     "output_type": "display_data"
    },
    {
     "name": "stdout",
     "output_type": "stream",
     "text": [
      "\n",
      "                Epoch: 43 / 100 \n",
      "                | Train Loss: 0.38155549955673707 \n",
      "                | Train Dice Accuracy: [0.7181765  0.80651414 0.72451234] \n",
      "            \n"
     ]
    },
    {
     "data": {
      "application/vnd.jupyter.widget-view+json": {
       "model_id": "118cd2a7077447ce9012975e268bfb39",
       "version_major": 2,
       "version_minor": 0
      },
      "text/plain": [
       "  0%|          | 0/195 [00:00<?, ?it/s]"
      ]
     },
     "metadata": {},
     "output_type": "display_data"
    },
    {
     "name": "stdout",
     "output_type": "stream",
     "text": [
      "\n",
      "                Epoch: 44 / 100 \n",
      "                | Train Loss: 0.39675785448306644 \n",
      "                | Train Dice Accuracy: [0.6982917 0.7755384 0.710733 ] \n",
      "            \n"
     ]
    },
    {
     "data": {
      "application/vnd.jupyter.widget-view+json": {
       "model_id": "dd41779a52a544c6a488eca3a3adaaa7",
       "version_major": 2,
       "version_minor": 0
      },
      "text/plain": [
       "  0%|          | 0/195 [00:00<?, ?it/s]"
      ]
     },
     "metadata": {},
     "output_type": "display_data"
    },
    {
     "name": "stdout",
     "output_type": "stream",
     "text": [
      "\n",
      "                Epoch: 45 / 100 \n",
      "                | Train Loss: 0.3861484438563004 \n",
      "                | Train Dice Accuracy: [0.69295084 0.7961535  0.71966916] \n",
      "            \n"
     ]
    },
    {
     "data": {
      "application/vnd.jupyter.widget-view+json": {
       "model_id": "7d0c69559a574fbf84d742b7a2f904e3",
       "version_major": 2,
       "version_minor": 0
      },
      "text/plain": [
       "  0%|          | 0/195 [00:00<?, ?it/s]"
      ]
     },
     "metadata": {},
     "output_type": "display_data"
    },
    {
     "name": "stdout",
     "output_type": "stream",
     "text": [
      "\n",
      "                Epoch: 46 / 100 \n",
      "                | Train Loss: 0.38785862651390907 \n",
      "                | Train Dice Accuracy: [0.6982434 0.7926199 0.7031916] \n",
      "            \n"
     ]
    },
    {
     "data": {
      "application/vnd.jupyter.widget-view+json": {
       "model_id": "3cb08ea7227f457b9a045b0b5f9db814",
       "version_major": 2,
       "version_minor": 0
      },
      "text/plain": [
       "  0%|          | 0/195 [00:00<?, ?it/s]"
      ]
     },
     "metadata": {},
     "output_type": "display_data"
    },
    {
     "name": "stdout",
     "output_type": "stream",
     "text": [
      "\n",
      "                Epoch: 47 / 100 \n",
      "                | Train Loss: 0.36226088461967615 \n",
      "                | Train Dice Accuracy: [0.710051   0.80325687 0.7218521 ] \n",
      "            \n"
     ]
    },
    {
     "data": {
      "application/vnd.jupyter.widget-view+json": {
       "model_id": "5ee94e38e42c42329e41c99fc5052779",
       "version_major": 2,
       "version_minor": 0
      },
      "text/plain": [
       "  0%|          | 0/195 [00:00<?, ?it/s]"
      ]
     },
     "metadata": {},
     "output_type": "display_data"
    },
    {
     "name": "stdout",
     "output_type": "stream",
     "text": [
      "\n",
      "                Epoch: 48 / 100 \n",
      "                | Train Loss: 0.35966834206229603 \n",
      "                | Train Dice Accuracy: [0.73543704 0.81522846 0.7313333 ] \n",
      "            \n"
     ]
    },
    {
     "data": {
      "application/vnd.jupyter.widget-view+json": {
       "model_id": "7a6f7141e55443c5a485960b9e0dcc1b",
       "version_major": 2,
       "version_minor": 0
      },
      "text/plain": [
       "  0%|          | 0/195 [00:00<?, ?it/s]"
      ]
     },
     "metadata": {},
     "output_type": "display_data"
    },
    {
     "name": "stdout",
     "output_type": "stream",
     "text": [
      "saved new best brain metric model\n",
      "\n",
      "                Epoch: 49 / 100 \n",
      "                | Train Loss: 0.3861635654209516 \n",
      "                | Test Loss: 0.1443414288632413 \n",
      "                | Train IoU: 0.006641340844425155 \n",
      "                | Test IoU: 0.00559375\n",
      "                | Train Dice Accuracy: [0.73768157 0.79440403 0.7298783 ] \n",
      "                | Test Dice Accuracy: [0.84541076 0.9036392  0.8398193 ]\n",
      "            \n"
     ]
    },
    {
     "data": {
      "application/vnd.jupyter.widget-view+json": {
       "model_id": "bbf5b6bc78584d93bee6d08c33863cfa",
       "version_major": 2,
       "version_minor": 0
      },
      "text/plain": [
       "  0%|          | 0/195 [00:00<?, ?it/s]"
      ]
     },
     "metadata": {},
     "output_type": "display_data"
    },
    {
     "name": "stdout",
     "output_type": "stream",
     "text": [
      "\n",
      "                Epoch: 50 / 100 \n",
      "                | Train Loss: 0.3865914916189817 \n",
      "                | Train Dice Accuracy: [0.70091707 0.79380137 0.7238737 ] \n",
      "            \n"
     ]
    },
    {
     "data": {
      "application/vnd.jupyter.widget-view+json": {
       "model_id": "5f727c472343497c95845d79462f8e24",
       "version_major": 2,
       "version_minor": 0
      },
      "text/plain": [
       "  0%|          | 0/195 [00:00<?, ?it/s]"
      ]
     },
     "metadata": {},
     "output_type": "display_data"
    },
    {
     "name": "stdout",
     "output_type": "stream",
     "text": [
      "\n",
      "                Epoch: 51 / 100 \n",
      "                | Train Loss: 0.36395426587416574 \n",
      "                | Train Dice Accuracy: [0.73491144 0.79999584 0.7287082 ] \n",
      "            \n"
     ]
    },
    {
     "data": {
      "application/vnd.jupyter.widget-view+json": {
       "model_id": "98099cc6f44f462c8ba05ca3aeae3639",
       "version_major": 2,
       "version_minor": 0
      },
      "text/plain": [
       "  0%|          | 0/195 [00:00<?, ?it/s]"
      ]
     },
     "metadata": {},
     "output_type": "display_data"
    },
    {
     "name": "stdout",
     "output_type": "stream",
     "text": [
      "\n",
      "                Epoch: 52 / 100 \n",
      "                | Train Loss: 0.35336828340704624 \n",
      "                | Train Dice Accuracy: [0.7440885 0.8181353 0.7421009] \n",
      "            \n"
     ]
    },
    {
     "data": {
      "application/vnd.jupyter.widget-view+json": {
       "model_id": "9c609b956bda41f1ade25f16a123f534",
       "version_major": 2,
       "version_minor": 0
      },
      "text/plain": [
       "  0%|          | 0/195 [00:00<?, ?it/s]"
      ]
     },
     "metadata": {},
     "output_type": "display_data"
    },
    {
     "name": "stdout",
     "output_type": "stream",
     "text": [
      "\n",
      "                Epoch: 53 / 100 \n",
      "                | Train Loss: 0.38748293849520193 \n",
      "                | Train Dice Accuracy: [0.7169541 0.8053778 0.7184178] \n",
      "            \n"
     ]
    },
    {
     "data": {
      "application/vnd.jupyter.widget-view+json": {
       "model_id": "b483599db5844835a7ff7d87f5e48f25",
       "version_major": 2,
       "version_minor": 0
      },
      "text/plain": [
       "  0%|          | 0/195 [00:00<?, ?it/s]"
      ]
     },
     "metadata": {},
     "output_type": "display_data"
    },
    {
     "name": "stdout",
     "output_type": "stream",
     "text": [
      "\n",
      "                Epoch: 54 / 100 \n",
      "                | Train Loss: 0.3866232601877971 \n",
      "                | Train Dice Accuracy: [0.71550715 0.8063559  0.7212284 ] \n",
      "            \n"
     ]
    },
    {
     "data": {
      "application/vnd.jupyter.widget-view+json": {
       "model_id": "087a2e31cb9141f0b8b8f4ceadd88ef2",
       "version_major": 2,
       "version_minor": 0
      },
      "text/plain": [
       "  0%|          | 0/195 [00:00<?, ?it/s]"
      ]
     },
     "metadata": {},
     "output_type": "display_data"
    },
    {
     "name": "stdout",
     "output_type": "stream",
     "text": [
      "\n",
      "                Epoch: 55 / 100 \n",
      "                | Train Loss: 0.36186073527504237 \n",
      "                | Train Dice Accuracy: [0.71616805 0.816776   0.72675586] \n",
      "            \n"
     ]
    },
    {
     "data": {
      "application/vnd.jupyter.widget-view+json": {
       "model_id": "4ab3cae0672742fea9a8dba7d6900555",
       "version_major": 2,
       "version_minor": 0
      },
      "text/plain": [
       "  0%|          | 0/195 [00:00<?, ?it/s]"
      ]
     },
     "metadata": {},
     "output_type": "display_data"
    },
    {
     "name": "stdout",
     "output_type": "stream",
     "text": [
      "\n",
      "                Epoch: 56 / 100 \n",
      "                | Train Loss: 0.39183959785180217 \n",
      "                | Train Dice Accuracy: [0.706129   0.80560195 0.7163042 ] \n",
      "            \n"
     ]
    },
    {
     "data": {
      "application/vnd.jupyter.widget-view+json": {
       "model_id": "e7ec28bd38884e0897abef8b606f27ec",
       "version_major": 2,
       "version_minor": 0
      },
      "text/plain": [
       "  0%|          | 0/195 [00:00<?, ?it/s]"
      ]
     },
     "metadata": {},
     "output_type": "display_data"
    },
    {
     "name": "stdout",
     "output_type": "stream",
     "text": [
      "\n",
      "                Epoch: 57 / 100 \n",
      "                | Train Loss: 0.36179341393021436 \n",
      "                | Train Dice Accuracy: [0.7183276 0.8236526 0.7263635] \n",
      "            \n"
     ]
    },
    {
     "data": {
      "application/vnd.jupyter.widget-view+json": {
       "model_id": "7ec19014775d4b7fa346bd13ef77a8dc",
       "version_major": 2,
       "version_minor": 0
      },
      "text/plain": [
       "  0%|          | 0/195 [00:00<?, ?it/s]"
      ]
     },
     "metadata": {},
     "output_type": "display_data"
    },
    {
     "name": "stdout",
     "output_type": "stream",
     "text": [
      "\n",
      "                Epoch: 58 / 100 \n",
      "                | Train Loss: 0.38140409619380267 \n",
      "                | Train Dice Accuracy: [0.7136564  0.7996125  0.73296505] \n",
      "            \n"
     ]
    },
    {
     "data": {
      "application/vnd.jupyter.widget-view+json": {
       "model_id": "e30da72c9d4a460d8c295b5bb72f4849",
       "version_major": 2,
       "version_minor": 0
      },
      "text/plain": [
       "  0%|          | 0/195 [00:00<?, ?it/s]"
      ]
     },
     "metadata": {},
     "output_type": "display_data"
    },
    {
     "name": "stdout",
     "output_type": "stream",
     "text": [
      "\n",
      "                Epoch: 59 / 100 \n",
      "                | Train Loss: 0.3830877403036142 \n",
      "                | Test Loss: 0.14840479797505318 \n",
      "                | Train IoU: 0.006691449954185957 \n",
      "                | Test IoU: 0.00559375\n",
      "                | Train Dice Accuracy: [0.6995017  0.79579204 0.71356386] \n",
      "                | Test Dice Accuracy: [0.8318297  0.89999473 0.8418224 ]\n",
      "            \n"
     ]
    },
    {
     "data": {
      "application/vnd.jupyter.widget-view+json": {
       "model_id": "3299deb128704dadb155af7aa280164d",
       "version_major": 2,
       "version_minor": 0
      },
      "text/plain": [
       "  0%|          | 0/195 [00:00<?, ?it/s]"
      ]
     },
     "metadata": {},
     "output_type": "display_data"
    },
    {
     "name": "stdout",
     "output_type": "stream",
     "text": [
      "\n",
      "                Epoch: 60 / 100 \n",
      "                | Train Loss: 0.36633733209127034 \n",
      "                | Train Dice Accuracy: [0.72440886 0.8233873  0.7372413 ] \n",
      "            \n"
     ]
    },
    {
     "data": {
      "application/vnd.jupyter.widget-view+json": {
       "model_id": "d7bae75ef20c48d7b8a749ef0fe38a34",
       "version_major": 2,
       "version_minor": 0
      },
      "text/plain": [
       "  0%|          | 0/195 [00:00<?, ?it/s]"
      ]
     },
     "metadata": {},
     "output_type": "display_data"
    },
    {
     "name": "stdout",
     "output_type": "stream",
     "text": [
      "\n",
      "                Epoch: 61 / 100 \n",
      "                | Train Loss: 0.3845033775919523 \n",
      "                | Train Dice Accuracy: [0.68870944 0.7981302  0.715583  ] \n",
      "            \n"
     ]
    },
    {
     "data": {
      "application/vnd.jupyter.widget-view+json": {
       "model_id": "72ff990555d046afa2b3837f7092c2d6",
       "version_major": 2,
       "version_minor": 0
      },
      "text/plain": [
       "  0%|          | 0/195 [00:00<?, ?it/s]"
      ]
     },
     "metadata": {},
     "output_type": "display_data"
    },
    {
     "name": "stdout",
     "output_type": "stream",
     "text": [
      "\n",
      "                Epoch: 62 / 100 \n",
      "                | Train Loss: 0.3927010466464055 \n",
      "                | Train Dice Accuracy: [0.7171256  0.7960746  0.74161386] \n",
      "            \n"
     ]
    },
    {
     "data": {
      "application/vnd.jupyter.widget-view+json": {
       "model_id": "f9bbeba1222f4fe78dc11eb4342d22f0",
       "version_major": 2,
       "version_minor": 0
      },
      "text/plain": [
       "  0%|          | 0/195 [00:00<?, ?it/s]"
      ]
     },
     "metadata": {},
     "output_type": "display_data"
    },
    {
     "name": "stdout",
     "output_type": "stream",
     "text": [
      "\n",
      "                Epoch: 63 / 100 \n",
      "                | Train Loss: 0.38031042577364504 \n",
      "                | Train Dice Accuracy: [0.718021   0.7926353  0.73235846] \n",
      "            \n"
     ]
    },
    {
     "data": {
      "application/vnd.jupyter.widget-view+json": {
       "model_id": "4b742e6ad4cc4a8abe62a3ebc193f565",
       "version_major": 2,
       "version_minor": 0
      },
      "text/plain": [
       "  0%|          | 0/195 [00:00<?, ?it/s]"
      ]
     },
     "metadata": {},
     "output_type": "display_data"
    },
    {
     "name": "stdout",
     "output_type": "stream",
     "text": [
      "\n",
      "                Epoch: 64 / 100 \n",
      "                | Train Loss: 0.35598184963067375 \n",
      "                | Train Dice Accuracy: [0.71965194 0.8076179  0.73434097] \n",
      "            \n"
     ]
    },
    {
     "data": {
      "application/vnd.jupyter.widget-view+json": {
       "model_id": "18e37ab52ed3479ba1e33490f15278a1",
       "version_major": 2,
       "version_minor": 0
      },
      "text/plain": [
       "  0%|          | 0/195 [00:00<?, ?it/s]"
      ]
     },
     "metadata": {},
     "output_type": "display_data"
    },
    {
     "name": "stdout",
     "output_type": "stream",
     "text": [
      "\n",
      "                Epoch: 65 / 100 \n",
      "                | Train Loss: 0.36795868109434077 \n",
      "                | Train Dice Accuracy: [0.73969144 0.81908864 0.7437595 ] \n",
      "            \n"
     ]
    },
    {
     "data": {
      "application/vnd.jupyter.widget-view+json": {
       "model_id": "f5a701784b8047159ba739ffc20088ca",
       "version_major": 2,
       "version_minor": 0
      },
      "text/plain": [
       "  0%|          | 0/195 [00:00<?, ?it/s]"
      ]
     },
     "metadata": {},
     "output_type": "display_data"
    },
    {
     "name": "stdout",
     "output_type": "stream",
     "text": [
      "\n",
      "                Epoch: 66 / 100 \n",
      "                | Train Loss: 0.35421512262561383 \n",
      "                | Train Dice Accuracy: [0.73980975 0.819782   0.72822237] \n",
      "            \n"
     ]
    },
    {
     "data": {
      "application/vnd.jupyter.widget-view+json": {
       "model_id": "593cd3fbe0a941019224d5168004749b",
       "version_major": 2,
       "version_minor": 0
      },
      "text/plain": [
       "  0%|          | 0/195 [00:00<?, ?it/s]"
      ]
     },
     "metadata": {},
     "output_type": "display_data"
    },
    {
     "name": "stdout",
     "output_type": "stream",
     "text": [
      "\n",
      "                Epoch: 67 / 100 \n",
      "                | Train Loss: 0.3622793241571157 \n",
      "                | Train Dice Accuracy: [0.7363252  0.80588245 0.73303944] \n",
      "            \n"
     ]
    },
    {
     "data": {
      "application/vnd.jupyter.widget-view+json": {
       "model_id": "f45764fa7e1e4ddfb1545894ae4e81e7",
       "version_major": 2,
       "version_minor": 0
      },
      "text/plain": [
       "  0%|          | 0/195 [00:00<?, ?it/s]"
      ]
     },
     "metadata": {},
     "output_type": "display_data"
    },
    {
     "name": "stdout",
     "output_type": "stream",
     "text": [
      "\n",
      "                Epoch: 68 / 100 \n",
      "                | Train Loss: 0.3678572611931043 \n",
      "                | Train Dice Accuracy: [0.74362695 0.81343114 0.734169  ] \n",
      "            \n"
     ]
    },
    {
     "data": {
      "application/vnd.jupyter.widget-view+json": {
       "model_id": "5bff1793517b46b2a0c96057c01b65bb",
       "version_major": 2,
       "version_minor": 0
      },
      "text/plain": [
       "  0%|          | 0/195 [00:00<?, ?it/s]"
      ]
     },
     "metadata": {},
     "output_type": "display_data"
    },
    {
     "name": "stdout",
     "output_type": "stream",
     "text": [
      "saved new best brain metric model\n",
      "\n",
      "                Epoch: 69 / 100 \n",
      "                | Train Loss: 0.3860505386422842 \n",
      "                | Test Loss: 0.1359503004462161 \n",
      "                | Train IoU: 0.015109026873553241 \n",
      "                | Test IoU: 0.00559375\n",
      "                | Train Dice Accuracy: [0.7189951  0.81054765 0.7288075 ] \n",
      "                | Test Dice Accuracy: [0.861277  0.9110255 0.8342801]\n",
      "            \n"
     ]
    },
    {
     "data": {
      "application/vnd.jupyter.widget-view+json": {
       "model_id": "5f85ea2d767a4efe9f37f1689d19930b",
       "version_major": 2,
       "version_minor": 0
      },
      "text/plain": [
       "  0%|          | 0/195 [00:00<?, ?it/s]"
      ]
     },
     "metadata": {},
     "output_type": "display_data"
    },
    {
     "name": "stdout",
     "output_type": "stream",
     "text": [
      "\n",
      "                Epoch: 70 / 100 \n",
      "                | Train Loss: 0.36764733000443534 \n",
      "                | Train Dice Accuracy: [0.7480556 0.8088131 0.7504547] \n",
      "            \n"
     ]
    },
    {
     "data": {
      "application/vnd.jupyter.widget-view+json": {
       "model_id": "b946f0d97a6c43d08eaf7c96f36a4c78",
       "version_major": 2,
       "version_minor": 0
      },
      "text/plain": [
       "  0%|          | 0/195 [00:00<?, ?it/s]"
      ]
     },
     "metadata": {},
     "output_type": "display_data"
    },
    {
     "name": "stdout",
     "output_type": "stream",
     "text": [
      "\n",
      "                Epoch: 71 / 100 \n",
      "                | Train Loss: 0.36756315395618094 \n",
      "                | Train Dice Accuracy: [0.7546283  0.80151284 0.7382215 ] \n",
      "            \n"
     ]
    },
    {
     "data": {
      "application/vnd.jupyter.widget-view+json": {
       "model_id": "60960bab12a1473f83fecdda9fbb259e",
       "version_major": 2,
       "version_minor": 0
      },
      "text/plain": [
       "  0%|          | 0/195 [00:00<?, ?it/s]"
      ]
     },
     "metadata": {},
     "output_type": "display_data"
    },
    {
     "name": "stdout",
     "output_type": "stream",
     "text": [
      "\n",
      "                Epoch: 72 / 100 \n",
      "                | Train Loss: 0.3711800439426532 \n",
      "                | Train Dice Accuracy: [0.73023385 0.8065463  0.72375673] \n",
      "            \n"
     ]
    },
    {
     "data": {
      "application/vnd.jupyter.widget-view+json": {
       "model_id": "46a35b9a1ef2465198c09b164f26dbb4",
       "version_major": 2,
       "version_minor": 0
      },
      "text/plain": [
       "  0%|          | 0/195 [00:00<?, ?it/s]"
      ]
     },
     "metadata": {},
     "output_type": "display_data"
    },
    {
     "name": "stdout",
     "output_type": "stream",
     "text": [
      "\n",
      "                Epoch: 73 / 100 \n",
      "                | Train Loss: 0.38500073903646226 \n",
      "                | Train Dice Accuracy: [0.72731256 0.80275476 0.74185145] \n",
      "            \n"
     ]
    },
    {
     "data": {
      "application/vnd.jupyter.widget-view+json": {
       "model_id": "7c5e6c061b50452aa4e92350bfad03df",
       "version_major": 2,
       "version_minor": 0
      },
      "text/plain": [
       "  0%|          | 0/195 [00:00<?, ?it/s]"
      ]
     },
     "metadata": {},
     "output_type": "display_data"
    },
    {
     "name": "stdout",
     "output_type": "stream",
     "text": [
      "\n",
      "                Epoch: 74 / 100 \n",
      "                | Train Loss: 0.32730361775327954 \n",
      "                | Train Dice Accuracy: [0.76106167 0.8324755  0.75592715] \n",
      "            \n"
     ]
    },
    {
     "data": {
      "application/vnd.jupyter.widget-view+json": {
       "model_id": "ba5d37d4b029456f8b46fbdcd1ae4468",
       "version_major": 2,
       "version_minor": 0
      },
      "text/plain": [
       "  0%|          | 0/195 [00:00<?, ?it/s]"
      ]
     },
     "metadata": {},
     "output_type": "display_data"
    },
    {
     "name": "stdout",
     "output_type": "stream",
     "text": [
      "\n",
      "                Epoch: 75 / 100 \n",
      "                | Train Loss: 0.3704345963322199 \n",
      "                | Train Dice Accuracy: [0.7408147  0.80740684 0.7534096 ] \n",
      "            \n"
     ]
    },
    {
     "data": {
      "application/vnd.jupyter.widget-view+json": {
       "model_id": "3f54b42206fd43fea3bee28ded8b90fb",
       "version_major": 2,
       "version_minor": 0
      },
      "text/plain": [
       "  0%|          | 0/195 [00:00<?, ?it/s]"
      ]
     },
     "metadata": {},
     "output_type": "display_data"
    },
    {
     "name": "stdout",
     "output_type": "stream",
     "text": [
      "\n",
      "                Epoch: 76 / 100 \n",
      "                | Train Loss: 0.3974001785119375 \n",
      "                | Train Dice Accuracy: [0.73015726 0.8035421  0.7410948 ] \n",
      "            \n"
     ]
    },
    {
     "data": {
      "application/vnd.jupyter.widget-view+json": {
       "model_id": "b2f40c01005144638815d1f0a66e495d",
       "version_major": 2,
       "version_minor": 0
      },
      "text/plain": [
       "  0%|          | 0/195 [00:00<?, ?it/s]"
      ]
     },
     "metadata": {},
     "output_type": "display_data"
    },
    {
     "name": "stdout",
     "output_type": "stream",
     "text": [
      "\n",
      "                Epoch: 77 / 100 \n",
      "                | Train Loss: 0.37268916504123273 \n",
      "                | Train Dice Accuracy: [0.7383137  0.8183418  0.75087214] \n",
      "            \n"
     ]
    },
    {
     "data": {
      "application/vnd.jupyter.widget-view+json": {
       "model_id": "6ebede9b09d74165b747d5502b525059",
       "version_major": 2,
       "version_minor": 0
      },
      "text/plain": [
       "  0%|          | 0/195 [00:00<?, ?it/s]"
      ]
     },
     "metadata": {},
     "output_type": "display_data"
    },
    {
     "name": "stdout",
     "output_type": "stream",
     "text": [
      "\n",
      "                Epoch: 78 / 100 \n",
      "                | Train Loss: 0.36335620106412814 \n",
      "                | Train Dice Accuracy: [0.7437233  0.8197586  0.74161965] \n",
      "            \n"
     ]
    },
    {
     "data": {
      "application/vnd.jupyter.widget-view+json": {
       "model_id": "3f40c08384164c97a1bfec48bbb21f01",
       "version_major": 2,
       "version_minor": 0
      },
      "text/plain": [
       "  0%|          | 0/195 [00:00<?, ?it/s]"
      ]
     },
     "metadata": {},
     "output_type": "display_data"
    },
    {
     "name": "stdout",
     "output_type": "stream",
     "text": [
      "\n",
      "                Epoch: 79 / 100 \n",
      "                | Train Loss: 0.37706306242407894 \n",
      "                | Test Loss: 0.13667632433328222 \n",
      "                | Train IoU: 0.039744812765239196 \n",
      "                | Test IoU: 0.00559375\n",
      "                | Train Dice Accuracy: [0.7236391 0.817958  0.7302993] \n",
      "                | Test Dice Accuracy: [0.85301775 0.910559   0.8399303 ]\n",
      "            \n"
     ]
    },
    {
     "data": {
      "application/vnd.jupyter.widget-view+json": {
       "model_id": "37582660cfbf42a8ae3964831da928fe",
       "version_major": 2,
       "version_minor": 0
      },
      "text/plain": [
       "  0%|          | 0/195 [00:00<?, ?it/s]"
      ]
     },
     "metadata": {},
     "output_type": "display_data"
    },
    {
     "name": "stdout",
     "output_type": "stream",
     "text": [
      "\n",
      "                Epoch: 80 / 100 \n",
      "                | Train Loss: 0.38208907280976956 \n",
      "                | Train Dice Accuracy: [0.7326628  0.819086   0.73277557] \n",
      "            \n"
     ]
    },
    {
     "data": {
      "application/vnd.jupyter.widget-view+json": {
       "model_id": "040738f999b449b9b8f449165af487a1",
       "version_major": 2,
       "version_minor": 0
      },
      "text/plain": [
       "  0%|          | 0/195 [00:00<?, ?it/s]"
      ]
     },
     "metadata": {},
     "output_type": "display_data"
    },
    {
     "name": "stdout",
     "output_type": "stream",
     "text": [
      "\n",
      "                Epoch: 81 / 100 \n",
      "                | Train Loss: 0.35959852628218825 \n",
      "                | Train Dice Accuracy: [0.7416384  0.80860245 0.747218  ] \n",
      "            \n"
     ]
    },
    {
     "data": {
      "application/vnd.jupyter.widget-view+json": {
       "model_id": "1c4a8fac503d4f158381eef9d671c141",
       "version_major": 2,
       "version_minor": 0
      },
      "text/plain": [
       "  0%|          | 0/195 [00:00<?, ?it/s]"
      ]
     },
     "metadata": {},
     "output_type": "display_data"
    },
    {
     "name": "stdout",
     "output_type": "stream",
     "text": [
      "\n",
      "                Epoch: 82 / 100 \n",
      "                | Train Loss: 0.34986290326103187 \n",
      "                | Train Dice Accuracy: [0.73879474 0.8277541  0.73010147] \n",
      "            \n"
     ]
    },
    {
     "data": {
      "application/vnd.jupyter.widget-view+json": {
       "model_id": "f1b5060053d94098841c5e04b1b3d47e",
       "version_major": 2,
       "version_minor": 0
      },
      "text/plain": [
       "  0%|          | 0/195 [00:00<?, ?it/s]"
      ]
     },
     "metadata": {},
     "output_type": "display_data"
    },
    {
     "name": "stdout",
     "output_type": "stream",
     "text": [
      "\n",
      "                Epoch: 83 / 100 \n",
      "                | Train Loss: 0.3527071294685205 \n",
      "                | Train Dice Accuracy: [0.7311164  0.8112675  0.72562516] \n",
      "            \n"
     ]
    },
    {
     "data": {
      "application/vnd.jupyter.widget-view+json": {
       "model_id": "58a8f6276c2743178516e9bc24a91a90",
       "version_major": 2,
       "version_minor": 0
      },
      "text/plain": [
       "  0%|          | 0/195 [00:00<?, ?it/s]"
      ]
     },
     "metadata": {},
     "output_type": "display_data"
    },
    {
     "name": "stdout",
     "output_type": "stream",
     "text": [
      "\n",
      "                Epoch: 84 / 100 \n",
      "                | Train Loss: 0.3676987536442585 \n",
      "                | Train Dice Accuracy: [0.74167013 0.79972386 0.7474823 ] \n",
      "            \n"
     ]
    },
    {
     "data": {
      "application/vnd.jupyter.widget-view+json": {
       "model_id": "c9b9ac4ca04d4503aabe844ceed5b287",
       "version_major": 2,
       "version_minor": 0
      },
      "text/plain": [
       "  0%|          | 0/195 [00:00<?, ?it/s]"
      ]
     },
     "metadata": {},
     "output_type": "display_data"
    },
    {
     "name": "stdout",
     "output_type": "stream",
     "text": [
      "\n",
      "                Epoch: 85 / 100 \n",
      "                | Train Loss: 0.34429511699156884 \n",
      "                | Train Dice Accuracy: [0.73982006 0.83212864 0.746917  ] \n",
      "            \n"
     ]
    },
    {
     "data": {
      "application/vnd.jupyter.widget-view+json": {
       "model_id": "eff2667a130a4111822c16b67c9abc11",
       "version_major": 2,
       "version_minor": 0
      },
      "text/plain": [
       "  0%|          | 0/195 [00:00<?, ?it/s]"
      ]
     },
     "metadata": {},
     "output_type": "display_data"
    },
    {
     "name": "stdout",
     "output_type": "stream",
     "text": [
      "\n",
      "                Epoch: 86 / 100 \n",
      "                | Train Loss: 0.3712784660932345 \n",
      "                | Train Dice Accuracy: [0.7347853 0.8208235 0.7376563] \n",
      "            \n"
     ]
    },
    {
     "data": {
      "application/vnd.jupyter.widget-view+json": {
       "model_id": "9add94ecedb34b49b3e55808f58eff94",
       "version_major": 2,
       "version_minor": 0
      },
      "text/plain": [
       "  0%|          | 0/195 [00:00<?, ?it/s]"
      ]
     },
     "metadata": {},
     "output_type": "display_data"
    },
    {
     "name": "stdout",
     "output_type": "stream",
     "text": [
      "\n",
      "                Epoch: 87 / 100 \n",
      "                | Train Loss: 0.36563568424720033 \n",
      "                | Train Dice Accuracy: [0.7322682  0.8201172  0.73580873] \n",
      "            \n"
     ]
    },
    {
     "data": {
      "application/vnd.jupyter.widget-view+json": {
       "model_id": "b5c6638ee950474982cc86d9df6f37da",
       "version_major": 2,
       "version_minor": 0
      },
      "text/plain": [
       "  0%|          | 0/195 [00:00<?, ?it/s]"
      ]
     },
     "metadata": {},
     "output_type": "display_data"
    },
    {
     "name": "stdout",
     "output_type": "stream",
     "text": [
      "\n",
      "                Epoch: 88 / 100 \n",
      "                | Train Loss: 0.34991498367908674 \n",
      "                | Train Dice Accuracy: [0.73894054 0.81834555 0.7603243 ] \n",
      "            \n"
     ]
    },
    {
     "data": {
      "application/vnd.jupyter.widget-view+json": {
       "model_id": "162e2001d1664f2999168d98f5b9487c",
       "version_major": 2,
       "version_minor": 0
      },
      "text/plain": [
       "  0%|          | 0/195 [00:00<?, ?it/s]"
      ]
     },
     "metadata": {},
     "output_type": "display_data"
    },
    {
     "name": "stdout",
     "output_type": "stream",
     "text": [
      "\n",
      "                Epoch: 89 / 100 \n",
      "                | Train Loss: 0.3506870748905035 \n",
      "                | Test Loss: 0.1368582897046779 \n",
      "                | Train IoU: 0.021107614776234566 \n",
      "                | Test IoU: 0.00559375\n",
      "                | Train Dice Accuracy: [0.73116636 0.82088315 0.7385355 ] \n",
      "                | Test Dice Accuracy: [0.85460055 0.9085502  0.83977157]\n",
      "            \n"
     ]
    },
    {
     "data": {
      "application/vnd.jupyter.widget-view+json": {
       "model_id": "67e827c568b84712a84f2dddba359f56",
       "version_major": 2,
       "version_minor": 0
      },
      "text/plain": [
       "  0%|          | 0/195 [00:00<?, ?it/s]"
      ]
     },
     "metadata": {},
     "output_type": "display_data"
    },
    {
     "name": "stdout",
     "output_type": "stream",
     "text": [
      "\n",
      "                Epoch: 90 / 100 \n",
      "                | Train Loss: 0.3810061458975841 \n",
      "                | Train Dice Accuracy: [0.7193601  0.8124447  0.71668476] \n",
      "            \n"
     ]
    },
    {
     "data": {
      "application/vnd.jupyter.widget-view+json": {
       "model_id": "963fb9e3451c4863bfda951267e85d6e",
       "version_major": 2,
       "version_minor": 0
      },
      "text/plain": [
       "  0%|          | 0/195 [00:00<?, ?it/s]"
      ]
     },
     "metadata": {},
     "output_type": "display_data"
    },
    {
     "name": "stdout",
     "output_type": "stream",
     "text": [
      "\n",
      "                Epoch: 91 / 100 \n",
      "                | Train Loss: 0.3496759002789473 \n",
      "                | Train Dice Accuracy: [0.7383007  0.8233558  0.76054424] \n",
      "            \n"
     ]
    },
    {
     "data": {
      "application/vnd.jupyter.widget-view+json": {
       "model_id": "2f878710c9bc4be1a952ec0120bad433",
       "version_major": 2,
       "version_minor": 0
      },
      "text/plain": [
       "  0%|          | 0/195 [00:00<?, ?it/s]"
      ]
     },
     "metadata": {},
     "output_type": "display_data"
    },
    {
     "name": "stdout",
     "output_type": "stream",
     "text": [
      "\n",
      "                Epoch: 92 / 100 \n",
      "                | Train Loss: 0.3703617572402343 \n",
      "                | Train Dice Accuracy: [0.7598028 0.8267957 0.7471522] \n",
      "            \n"
     ]
    },
    {
     "data": {
      "application/vnd.jupyter.widget-view+json": {
       "model_id": "cdc5a5be7bc8473a8ed018b75b43966d",
       "version_major": 2,
       "version_minor": 0
      },
      "text/plain": [
       "  0%|          | 0/195 [00:00<?, ?it/s]"
      ]
     },
     "metadata": {},
     "output_type": "display_data"
    },
    {
     "name": "stdout",
     "output_type": "stream",
     "text": [
      "\n",
      "                Epoch: 93 / 100 \n",
      "                | Train Loss: 0.36400176210281177 \n",
      "                | Train Dice Accuracy: [0.73377323 0.81113964 0.75392157] \n",
      "            \n"
     ]
    },
    {
     "data": {
      "application/vnd.jupyter.widget-view+json": {
       "model_id": "0ceefc0c37d64c1daa66c2e60de0fba9",
       "version_major": 2,
       "version_minor": 0
      },
      "text/plain": [
       "  0%|          | 0/195 [00:00<?, ?it/s]"
      ]
     },
     "metadata": {},
     "output_type": "display_data"
    },
    {
     "name": "stdout",
     "output_type": "stream",
     "text": [
      "\n",
      "                Epoch: 94 / 100 \n",
      "                | Train Loss: 0.37084974438334123 \n",
      "                | Train Dice Accuracy: [0.71859074 0.8011651  0.7443893 ] \n",
      "            \n"
     ]
    },
    {
     "data": {
      "application/vnd.jupyter.widget-view+json": {
       "model_id": "2b743cca093a4534be642aaf4dfb63f7",
       "version_major": 2,
       "version_minor": 0
      },
      "text/plain": [
       "  0%|          | 0/195 [00:00<?, ?it/s]"
      ]
     },
     "metadata": {},
     "output_type": "display_data"
    },
    {
     "name": "stdout",
     "output_type": "stream",
     "text": [
      "\n",
      "                Epoch: 95 / 100 \n",
      "                | Train Loss: 0.3804203900389182 \n",
      "                | Train Dice Accuracy: [0.72878516 0.81299347 0.73806   ] \n",
      "            \n"
     ]
    },
    {
     "data": {
      "application/vnd.jupyter.widget-view+json": {
       "model_id": "6d0d34a46a334ca8975d772832498753",
       "version_major": 2,
       "version_minor": 0
      },
      "text/plain": [
       "  0%|          | 0/195 [00:00<?, ?it/s]"
      ]
     },
     "metadata": {},
     "output_type": "display_data"
    },
    {
     "name": "stdout",
     "output_type": "stream",
     "text": [
      "\n",
      "                Epoch: 96 / 100 \n",
      "                | Train Loss: 0.3720985516905785 \n",
      "                | Train Dice Accuracy: [0.7425622 0.8146892 0.7334932] \n",
      "            \n"
     ]
    },
    {
     "data": {
      "application/vnd.jupyter.widget-view+json": {
       "model_id": "a1d3d0b83b9b4da98ac68b7cdfc1b126",
       "version_major": 2,
       "version_minor": 0
      },
      "text/plain": [
       "  0%|          | 0/195 [00:00<?, ?it/s]"
      ]
     },
     "metadata": {},
     "output_type": "display_data"
    },
    {
     "name": "stdout",
     "output_type": "stream",
     "text": [
      "\n",
      "                Epoch: 97 / 100 \n",
      "                | Train Loss: 0.35269774893919625 \n",
      "                | Train Dice Accuracy: [0.74535066 0.83112884 0.7511136 ] \n",
      "            \n"
     ]
    },
    {
     "data": {
      "application/vnd.jupyter.widget-view+json": {
       "model_id": "de8b0affd3ef47858759405cd7b0a765",
       "version_major": 2,
       "version_minor": 0
      },
      "text/plain": [
       "  0%|          | 0/195 [00:00<?, ?it/s]"
      ]
     },
     "metadata": {},
     "output_type": "display_data"
    },
    {
     "name": "stdout",
     "output_type": "stream",
     "text": [
      "\n",
      "                Epoch: 98 / 100 \n",
      "                | Train Loss: 0.3622355830592987 \n",
      "                | Train Dice Accuracy: [0.7365606 0.8108505 0.7402692] \n",
      "            \n"
     ]
    },
    {
     "data": {
      "application/vnd.jupyter.widget-view+json": {
       "model_id": "6a069a3dddf346b9b5005543f501b99c",
       "version_major": 2,
       "version_minor": 0
      },
      "text/plain": [
       "  0%|          | 0/195 [00:00<?, ?it/s]"
      ]
     },
     "metadata": {},
     "output_type": "display_data"
    },
    {
     "name": "stdout",
     "output_type": "stream",
     "text": [
      "\n",
      "                Epoch: 99 / 100 \n",
      "                | Train Loss: 0.3957454758958939 \n",
      "                | Test Loss: 0.13814879470366112 \n",
      "                | Train IoU: 0.015342994972511573 \n",
      "                | Test IoU: 0.00559375\n",
      "                | Train Dice Accuracy: [0.75170517 0.8045074  0.7406131 ] \n",
      "                | Test Dice Accuracy: [0.8502363 0.9074537 0.8412672]\n",
      "            \n"
     ]
    }
   ],
   "source": [
    "num_epochs = 100\n",
    "val_iteration = 10\n",
    "losses = []\n",
    "test_losses = []\n",
    "ious = []\n",
    "test_ious = []\n",
    "dice_accs = []\n",
    "test_dice_accs = []\n",
    "best_metric = -1\n",
    "best_metric_epoch = -1\n",
    "\n",
    "for epoch in range(num_epochs):\n",
    "\n",
    "    epoch_loss = 0\n",
    "    epoch_test_loss = 0\n",
    "    epoch_iou = 0\n",
    "    epoch_test_iou = 0\n",
    "    train_run = AverageMeter()\n",
    "\n",
    "    model.train()\n",
    "    epoch_dice_accs = []\n",
    "    for idx, batch_data in enumerate(tqdm(train_loader)):\n",
    "        img, seg = batch_data[\"img\"].to(device), batch_data[\"seg\"].to(device)\n",
    "        dice_accuracy.reset()\n",
    "        optimizer.zero_grad()\n",
    "        output = model(img)\n",
    "        loss = loss_function(output, seg)\n",
    "        losses.append(loss.item())\n",
    "        loss.backward()\n",
    "        optimizer.step()\n",
    "\n",
    "        epoch_loss += loss.item()\n",
    "        epoch_iou += calculate_iou(output, seg)\n",
    "\n",
    "        try:\n",
    "            #print(post_pred(post_sigmoid(output)))\n",
    "            #print(dice_accuracy(y_pred=seg, y=seg))\n",
    "            dice_accuracy(y_pred=post_pred(post_sigmoid(output)), y=seg)\n",
    "            acc, not_nans = dice_accuracy.aggregate()\n",
    "            train_run.update(acc.cpu().numpy(), not_nans.cpu().numpy())\n",
    "\n",
    "            \"\"\"if True not in np.isnan(acc.cpu().numpy()):\n",
    "                dice_accs.append(acc.cpu().numpy())\n",
    "                epoch_dice_accs.append(acc.cpu().numpy())\n",
    "            else:\n",
    "                pass\n",
    "                \"\"\"\n",
    "            #print(acc.cpu().numpy())\n",
    "            dice_accs.append(acc.cpu().numpy())\n",
    "        except Exception as e:\n",
    "            print(e)\n",
    "            acc = dice_accuracy(y_pred=post_pred(post_sigmoid(output)), y=seg)\n",
    "            #print(acc)\n",
    "            #dice_accs.append([acc.cpu().numpy()])\n",
    "        \n",
    "        iou = calculate_iou(output, seg)\n",
    "        ious.append(iou)\n",
    "\n",
    "    test_epoch_dice_accs = []\n",
    "    if (epoch + 1) % val_iteration == 0:\n",
    "        model.eval()\n",
    "        val_run = AverageMeter()\n",
    "        with torch.no_grad():\n",
    "            \n",
    "            \n",
    "            for idx, batch_data in enumerate(val_loader):\n",
    "                img, seg = batch_data[\"img\"].to(device), batch_data[\"seg\"].to(device)\n",
    "                output = model_inferer(img)\n",
    "                val_labels_list = decollate_batch(seg)\n",
    "                val_outputs_list = decollate_batch(output)\n",
    "                val_output_convert = [post_pred(post_sigmoid(el)) for el in val_outputs_list]\n",
    "                dice_accuracy.reset()\n",
    "                dice_accuracy(y_pred=val_output_convert, y=val_labels_list)\n",
    "                acc, not_nans = dice_accuracy.aggregate()\n",
    "                val_run.update(acc.cpu().numpy(), not_nans.cpu().numpy())\n",
    "                if True not in np.isnan(acc.cpu().numpy()):\n",
    "                    test_dice_accs.append(acc.cpu().numpy())\n",
    "                    test_epoch_dice_accs.append(acc.cpu().numpy())\n",
    "\n",
    "                loss = loss_function(output, seg)\n",
    "                test_losses.append(loss.item())\n",
    "                epoch_test_loss += loss.item()\n",
    "\n",
    "                iou = calculate_iou(output, seg)\n",
    "                test_ious.append(iou)\n",
    "\n",
    "                epoch_test_iou += calculate_iou(output, seg)\n",
    "\n",
    "        \n",
    "        if np.average(test_epoch_dice_accs) > best_metric:\n",
    "            best_metric = np.average(test_epoch_dice_accs)\n",
    "            best_metric_epoch = epoch + 1\n",
    "            torch.save(model.state_dict(), \"best_brain_metric_model.pth\")\n",
    "            print(\"saved new best brain metric model\")\n",
    "        \n",
    "        print(f\"\"\"\n",
    "                Epoch: {epoch} / {num_epochs} \n",
    "                | Train Loss: {epoch_loss / len(train_loader)} \n",
    "                | Test Loss: {epoch_test_loss / len(val_loader)} \n",
    "                | Train IoU: {ious[-1]} \n",
    "                | Test IoU: {test_ious[-1]}\n",
    "                | Train Dice Accuracy: {train_run.avg} \n",
    "                | Test Dice Accuracy: {val_run.avg}\n",
    "            \"\"\")\n",
    "        \n",
    "    else:\n",
    "        print(f\"\"\"\n",
    "                Epoch: {epoch} / {num_epochs} \n",
    "                | Train Loss: {epoch_loss / len(train_loader)} \n",
    "                | Train Dice Accuracy: {train_run.avg} \n",
    "            \"\"\")\n",
    "            \n",
    "\n",
    "    scheduler.step()\n",
    "        \n"
   ]
  },
  {
   "cell_type": "code",
   "execution_count": 21,
   "metadata": {},
   "outputs": [
    {
     "data": {
      "image/png": "[encoded data removed]",
      "text/plain": [
       "<Figure size 640x480 with 1 Axes>"
      ]
     },
     "metadata": {},
     "output_type": "display_data"
    },
    {
     "data": {
      "image/png": "[encoded data removed]",
      "text/plain": [
       "<Figure size 640x480 with 1 Axes>"
      ]
     },
     "metadata": {},
     "output_type": "display_data"
    },
    {
     "data": {
      "image/png": "[encoded data removed]",
      "text/plain": [
       "<Figure size 640x480 with 1 Axes>"
      ]
     },
     "metadata": {},
     "output_type": "display_data"
    }
   ],
   "source": [
    "\n",
    "import matplotlib.pyplot as plt\n",
    "\n",
    "mean_dice_accs = []\n",
    "mean_test_dice_accs = []\n",
    "mean_train_loss = []\n",
    "\n",
    "for i in range(0, len(dice_accs), 195):\n",
    "    mean_dice_accs.append(np.average(dice_accs[i:i+195]))\n",
    "    mean_train_loss.append(np.average(losses[i:i+195]))\n",
    "\n",
    "for i in range(0, len(test_dice_accs), 47):\n",
    "    mean_test_dice_accs.append(np.average(test_dice_accs[i:i+47]))\n",
    "\n",
    "\n",
    "\n",
    "\n",
    "plt.plot(mean_dice_accs, label=\"train dice acc\")\n",
    "plt.legend()\n",
    "plt.show()\n",
    "\n",
    "plt.plot(mean_test_dice_accs, label=\"test dice acc\")\n",
    "plt.legend()\n",
    "plt.show()\n",
    "\n",
    "plt.plot(mean_train_loss, label=\"train loss\")\n",
    "plt.legend()\n",
    "plt.show()\n",
    "\n",
    "#\n"
   ]
  },
  {
   "cell_type": "code",
   "execution_count": null,
   "metadata": {},
   "outputs": [],
   "source": []
  }
 ],
 "metadata": {
  "kernelspec": {
   "display_name": "Python 3 (ipykernel)",
   "language": "python",
   "name": "python3"
  },
  "language_info": {
   "codemirror_mode": {
    "name": "ipython",
    "version": 3
   },
   "file_extension": ".py",
   "mimetype": "text/x-python",
   "name": "python",
   "nbconvert_exporter": "python",
   "pygments_lexer": "ipython3",
   "version": "3.10.13"
  }
 },
 "nbformat": 4,
 "nbformat_minor": 2
}
