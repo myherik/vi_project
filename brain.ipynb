{
 "cells": [
  {
   "cell_type": "code",
   "execution_count": 12,
   "metadata": {},
   "outputs": [],
   "source": [
    "import torch\n",
    "import numpy as np\n",
    "import glob\n",
    "import os\n",
    "\n",
    "from monai.data import CacheDataset, DataLoader, Dataset\n",
    "from monai.transforms import (\n",
    "    AsDiscrete,\n",
    "    Activations,\n",
    "    Compose,\n",
    "    LoadImaged,\n",
    "    ConvertToMultiChannelBasedOnBratsClassesd,\n",
    "    CropForegroundd,\n",
    "    RandSpatialCropd,\n",
    "    RandFlipd,\n",
    "    NormalizeIntensityd,\n",
    "    RandShiftIntensityd,\n",
    "    RandScaleIntensityd,\n",
    "    Lambdad,\n",
    "    EnsureChannelFirstd,\n",
    "    ToTensord,\n",
    ")\n",
    "from monai.metrics import DiceMetric\n",
    "from monai.utils.enums import MetricReduction\n",
    "from monai.networks.nets import SwinUNETR\n",
    "from monai.losses import DiceLoss, DiceCELoss\n",
    "from monai.data import decollate_batch\n",
    "from monai.inferers import sliding_window_inference\n",
    "from functools import partial\n",
    "\n",
    "from tqdm.notebook import tqdm"
   ]
  },
  {
   "cell_type": "code",
   "execution_count": 13,
   "metadata": {},
   "outputs": [
    {
     "name": "stdout",
     "output_type": "stream",
     "text": [
      "cuda:0\n"
     ]
    }
   ],
   "source": [
    "device = torch.device(\"cuda:0\" if torch.cuda.is_available() else \"cpu\")\n",
    "print(device)"
   ]
  },
  {
   "cell_type": "code",
   "execution_count": 14,
   "metadata": {},
   "outputs": [
    {
     "name": "stdout",
     "output_type": "stream",
     "text": [
      "273 65\n"
     ]
    }
   ],
   "source": [
    "#dataset_list = []\n",
    "\n",
    "# read all folders in Images\n",
    "\n",
    "base_path = \"Task01_BrainTumour/\"\n",
    "\n",
    "train_images = sorted(glob.glob(os.path.join(base_path, \"imagesTr\", \"*.nii.gz\")))\n",
    "train_labels = sorted(glob.glob(os.path.join(base_path, \"labelsTr\", \"*.nii.gz\")))\n",
    "\n",
    "dataset_list = [\n",
    "    {\"img\": image_name, \"seg\": label_name}\n",
    "    for image_name, label_name in zip(train_images, train_labels)\n",
    "]\n",
    "\n",
    "\"\"\"\n",
    "for file in os.listdir(os.path.join(base_path, \"imagesTr\")):\n",
    "\n",
    "    data_dict = {\n",
    "        \"img\": os.path.join(base_path, \"imagesTr\", file), \n",
    "        \"seg\": os.path.join(base_path, \"labelsTr\", file)\n",
    "    }\n",
    "    dataset_list.append(data_dict)\"\"\"\n",
    "\n",
    "train_dataset_list, val_dataset_list = dataset_list[:-94], dataset_list[-94:]\n",
    "\n",
    "# only use 70 percent of the total data\n",
    "train_dataset_list, val_dataset_list = train_dataset_list[:int(len(train_dataset_list)*0.7)], val_dataset_list[:int(len(val_dataset_list)*0.7)]\n",
    "\n",
    "print(len(train_dataset_list), len(val_dataset_list))"
   ]
  },
  {
   "cell_type": "code",
   "execution_count": 15,
   "metadata": {},
   "outputs": [
    {
     "name": "stdout",
     "output_type": "stream",
     "text": [
      "torch.Size([240, 240, 155, 4])\n",
      "torch.Size([4, 240, 240, 155])\n",
      "torch.Size([155, 240, 4, 240])\n",
      "torch.Size([155, 176, 4, 136])\n",
      "torch.Size([155, 128, 4, 128])\n",
      "torch.Size([155, 128, 4, 128])\n",
      "torch.Size([155, 128, 4, 128])\n",
      "torch.Size([155, 128, 4, 128])\n",
      "torch.Size([155, 128, 4, 128])\n"
     ]
    }
   ],
   "source": [
    "from monai.transforms import (\n",
    "    Compose,\n",
    "    LoadImage,\n",
    "    ConvertToMultiChannelBasedOnBratsClasses,\n",
    "    CropForeground,\n",
    "    RandSpatialCrop,\n",
    "    RandFlip,\n",
    "    NormalizeIntensity,\n",
    "    RandShiftIntensity,\n",
    "    RandScaleIntensity,\n",
    "    EnsureChannelFirst,\n",
    "    Lambda\n",
    ")\n",
    "\n",
    "\n",
    "img = LoadImage(image_only=True)(train_dataset_list[0][\"img\"])\n",
    "print(img.shape)\n",
    "\n",
    "\"\"\"img = EnsureChannelFirst()(train_dataset_list[0])\n",
    "print(img.shape)\"\"\"\n",
    "\n",
    "img = EnsureChannelFirst()(img)\n",
    "print(img.shape)\n",
    "\n",
    "img = Lambda(lambda x: x.permute(3,2,0,1))(img)\n",
    "print(img.shape)\n",
    "\n",
    "img = CropForeground()(img)\n",
    "print(img.shape)\n",
    "\n",
    "img = RandSpatialCrop((128, 128, 128), random_size=False)(img)\n",
    "print(img.shape)\n",
    "\n",
    "img = RandFlip(prob=0.5, spatial_axis=0)(img)\n",
    "print(img.shape)\n",
    "\n",
    "img = NormalizeIntensity(nonzero=True, channel_wise=True)(img)\n",
    "print(img.shape)\n",
    "\n",
    "img = RandShiftIntensity(offsets=0.1, prob=1.0)(img)\n",
    "print(img.shape)\n",
    "\n",
    "img = RandScaleIntensity(prob=0.5, factors=0.1)(img)\n",
    "print(img.shape)\n"
   ]
  },
  {
   "cell_type": "code",
   "execution_count": 16,
   "metadata": {},
   "outputs": [],
   "source": [
    "\"\"\"train_transform = Compose(\n",
    "        [\n",
    "            LoadImaged(keys=[\"img\", \"seg\"]),\n",
    "            #ConvertToMultiChannelBasedOnBratsClassesd(keys=\"seg\"),\n",
    "            #Lambdad(keys=[\"img\", \"seg\"], func=lambda x: x.permute(3,2,0,1)),\n",
    "            EnsureChannelFirstd(keys=[\"img\", \"seg\"]),\n",
    "            Lambdad(keys=[\"img\", \"seg\"], func=lambda x: x.permute(0,3,1,2)),\n",
    "            CropForegroundd(\n",
    "                keys=[\"img\", \"seg\"],\n",
    "                source_key=\"img\",\n",
    "                #k_divisible=[128, 128, 128],\n",
    "            ),\n",
    "            RandSpatialCropd(\n",
    "                keys=[\"img\", \"seg\"],\n",
    "                roi_size=[96, 96, 96],\n",
    "                random_size=False,\n",
    "            ),\n",
    "            RandFlipd(keys=[\"img\", \"seg\"], prob=0.5, spatial_axis=0),\n",
    "            RandFlipd(keys=[\"img\", \"seg\"], prob=0.5, spatial_axis=1),\n",
    "            RandFlipd(keys=[\"img\", \"seg\"], prob=0.5, spatial_axis=2),\n",
    "            NormalizeIntensityd(keys=\"img\", nonzero=True, channel_wise=True),\n",
    "            RandScaleIntensityd(keys=\"img\", factors=0.1, prob=1.0),\n",
    "            RandShiftIntensityd(keys=\"img\", offsets=0.1, prob=1.0),\n",
    "        ]\n",
    "    )\n",
    "\n",
    "val_transform = Compose(\n",
    "        [\n",
    "            LoadImaged(keys=[\"img\", \"seg\"]),\n",
    "            EnsureChannelFirstd(keys=[\"img\", \"seg\"]),\n",
    "            Lambdad(keys=[\"img\", \"seg\"], func=lambda x: x.permute(0,3,1,2)),\n",
    "            NormalizeIntensityd(keys=\"img\", nonzero=True, channel_wise=True),\n",
    "        ]\n",
    "    )\"\"\"\n",
    "\n",
    "train_transform = Compose(\n",
    "    [\n",
    "        LoadImaged(keys=[\"img\", \"seg\"]),\n",
    "        EnsureChannelFirstd(keys=[\"img\", \"seg\"]),\n",
    "        Lambdad(keys=[\"img\", \"seg\"], func=lambda x: x.permute(0, 3, 1, 2)),\n",
    "        CropForegroundd(keys=[\"img\", \"seg\"], source_key=\"img\"),\n",
    "        RandSpatialCropd(keys=[\"img\", \"seg\"], roi_size=[96, 96, 96], random_size=False),\n",
    "        RandFlipd(keys=[\"img\", \"seg\"], prob=0.3, spatial_axis=0),  # Reduce probability\n",
    "        RandFlipd(keys=[\"img\", \"seg\"], prob=0.3, spatial_axis=1),\n",
    "        RandFlipd(keys=[\"img\", \"seg\"], prob=0.3, spatial_axis=2),\n",
    "        NormalizeIntensityd(keys=\"img\", nonzero=True, channel_wise=False),  # Change to global normalization\n",
    "        RandScaleIntensityd(keys=\"img\", factors=0.05, prob=0.8),  # Reduce probability and factor\n",
    "        RandShiftIntensityd(keys=\"img\", offsets=0.05, prob=0.8),  # Reduce probability and offset\n",
    "        ToTensord(keys=[\"img\", \"seg\"]),\n",
    "    ]\n",
    ")\n",
    "\n",
    "val_transform = Compose(\n",
    "    [\n",
    "        LoadImaged(keys=[\"img\", \"seg\"]),\n",
    "        EnsureChannelFirstd(keys=[\"img\", \"seg\"]),\n",
    "        Lambdad(keys=[\"img\", \"seg\"], func=lambda x: x.permute(0, 3, 1, 2)),\n",
    "        NormalizeIntensityd(keys=\"img\", nonzero=True, channel_wise=False),  # Change to global normalization\n",
    "    ]\n",
    ")"
   ]
  },
  {
   "cell_type": "code",
   "execution_count": 17,
   "metadata": {},
   "outputs": [
    {
     "name": "stdout",
     "output_type": "stream",
     "text": [
      "torch.Size([4, 96, 96, 96]) torch.Size([1, 96, 96, 96])\n"
     ]
    }
   ],
   "source": [
    "img = train_transform(train_dataset_list[0])\n",
    "\n",
    "print(img[\"img\"].shape, img[\"seg\"].shape)"
   ]
  },
  {
   "cell_type": "code",
   "execution_count": 18,
   "metadata": {},
   "outputs": [],
   "source": [
    "train_dataset = Dataset(train_dataset_list, transform=train_transform)\n",
    "val_dataset = Dataset(val_dataset_list, transform=val_transform)\n",
    "\n",
    "train_loader = DataLoader(train_dataset, batch_size=2, shuffle=True, num_workers=os.cpu_count() // 2)\n",
    "val_loader = DataLoader(val_dataset, batch_size=2, shuffle=False, num_workers=os.cpu_count() // 2)"
   ]
  },
  {
   "cell_type": "code",
   "execution_count": 19,
   "metadata": {},
   "outputs": [],
   "source": [
    "model = SwinUNETR(\n",
    "    in_channels=4,\n",
    "    out_channels=4,\n",
    "    img_size=96,\n",
    "    feature_size=48,\n",
    "    drop_rate=0.0,\n",
    "    attn_drop_rate=0.0,\n",
    "    dropout_path_rate=0.0,\n",
    ").to(device)\n"
   ]
  },
  {
   "cell_type": "code",
   "execution_count": 20,
   "metadata": {},
   "outputs": [],
   "source": [
    "def calculate_iou(predicted, target):\n",
    "    \"\"\"\n",
    "    Calculate Intersection over Union (IoU) for binary segmentation.\n",
    "\n",
    "    Args:\n",
    "    - predicted (torch.Tensor): Predicted binary mask (0 or 1).\n",
    "    - target (torch.Tensor): Ground truth binary mask (0 or 1).\n",
    "\n",
    "    Returns:\n",
    "    - float: IoU score.\n",
    "    \"\"\"\n",
    "    intersection = torch.logical_and(predicted, target).sum().item()\n",
    "    union = torch.logical_or(predicted, target).sum().item()\n",
    "\n",
    "    iou = intersection / union if union != 0 else 0.0\n",
    "    return iou"
   ]
  },
  {
   "cell_type": "code",
   "execution_count": 21,
   "metadata": {},
   "outputs": [],
   "source": [
    "loss_function = DiceCELoss(to_onehot_y=True, softmax=True) #torch.nn.MSELoss()\n",
    "optimizer = torch.optim.AdamW(model.parameters(), 0.1)\n",
    "\n",
    "torch.backends.cudnn.benchmark = True\n",
    "#loss_function = DiceLoss(to_onehot_y=False, sigmoid=True)\n",
    "post_sigmoid = Activations(sigmoid=True)\n",
    "post_pred = AsDiscrete(argmax=False, threshold=0.5)\n",
    "dice_accuracy = DiceMetric(include_background=True, reduction=MetricReduction.MEAN_BATCH, get_not_nans=True)\n",
    "model_inferer = partial(\n",
    "    sliding_window_inference,\n",
    "    roi_size=[96, 96, 96],\n",
    "    sw_batch_size=4,\n",
    "    predictor=model,\n",
    "    overlap=0.5,\n",
    ")\n",
    "\n",
    "optimizer = torch.optim.AdamW(model.parameters(), lr=1e-4, weight_decay=1e-5)\n",
    "scheduler = torch.optim.lr_scheduler.CosineAnnealingLR(optimizer, T_max=100)"
   ]
  },
  {
   "cell_type": "code",
   "execution_count": 28,
   "metadata": {},
   "outputs": [
    {
     "data": {
      "application/vnd.jupyter.widget-view+json": {
       "model_id": "25d8cf1e22924b7d9972f2daa30f0ed3",
       "version_major": 2,
       "version_minor": 0
      },
      "text/plain": [
       "  0%|          | 0/137 [00:00<?, ?it/s]"
      ]
     },
     "metadata": {},
     "output_type": "display_data"
    },
    {
     "name": "stdout",
     "output_type": "stream",
     "text": [
      "\n",
      "                Epoch: 0 / 100 \n",
      "                | Train Loss: 0.3527028316999004 \n",
      "                | Train Dice Accuracy: [0.985909   0.70519006 0.48814705 0.7293279 ] \n",
      "            \n"
     ]
    },
    {
     "data": {
      "application/vnd.jupyter.widget-view+json": {
       "model_id": "161981ba5d15404f8db9246146c269d7",
       "version_major": 2,
       "version_minor": 0
      },
      "text/plain": [
       "  0%|          | 0/137 [00:00<?, ?it/s]"
      ]
     },
     "metadata": {},
     "output_type": "display_data"
    },
    {
     "name": "stdout",
     "output_type": "stream",
     "text": [
      "\n",
      "                Epoch: 1 / 100 \n",
      "                | Train Loss: 0.34069755934450746 \n",
      "                | Train Dice Accuracy: [0.9868157  0.74566156 0.52604735 0.76520294] \n",
      "            \n"
     ]
    },
    {
     "data": {
      "application/vnd.jupyter.widget-view+json": {
       "model_id": "e0add78a78d54a7ab776aa65c2ac3642",
       "version_major": 2,
       "version_minor": 0
      },
      "text/plain": [
       "  0%|          | 0/137 [00:00<?, ?it/s]"
      ]
     },
     "metadata": {},
     "output_type": "display_data"
    },
    {
     "name": "stdout",
     "output_type": "stream",
     "text": [
      "\n",
      "                Epoch: 2 / 100 \n",
      "                | Train Loss: 0.33990993954404425 \n",
      "                | Train Dice Accuracy: [0.9863207 0.713269  0.5398716 0.7439091] \n",
      "            \n"
     ]
    },
    {
     "data": {
      "application/vnd.jupyter.widget-view+json": {
       "model_id": "25126396c01544788ad082ec0e218322",
       "version_major": 2,
       "version_minor": 0
      },
      "text/plain": [
       "  0%|          | 0/137 [00:00<?, ?it/s]"
      ]
     },
     "metadata": {},
     "output_type": "display_data"
    },
    {
     "name": "stdout",
     "output_type": "stream",
     "text": [
      "\n",
      "                Epoch: 3 / 100 \n",
      "                | Train Loss: 0.32560571995529813 \n",
      "                | Train Dice Accuracy: [0.9870871  0.71850026 0.5419809  0.7828471 ] \n",
      "            \n"
     ]
    },
    {
     "data": {
      "application/vnd.jupyter.widget-view+json": {
       "model_id": "a8e453658d734dafb20aa8b209ddd673",
       "version_major": 2,
       "version_minor": 0
      },
      "text/plain": [
       "  0%|          | 0/137 [00:00<?, ?it/s]"
      ]
     },
     "metadata": {},
     "output_type": "display_data"
    },
    {
     "name": "stdout",
     "output_type": "stream",
     "text": [
      "\n",
      "                Epoch: 4 / 100 \n",
      "                | Train Loss: 0.32293516712902237 \n",
      "                | Train Dice Accuracy: [0.9852517  0.73434716 0.5190486  0.7662892 ] \n",
      "            \n"
     ]
    },
    {
     "data": {
      "application/vnd.jupyter.widget-view+json": {
       "model_id": "1e402c8776794c2e90a21e7b1e77d030",
       "version_major": 2,
       "version_minor": 0
      },
      "text/plain": [
       "  0%|          | 0/137 [00:00<?, ?it/s]"
      ]
     },
     "metadata": {},
     "output_type": "display_data"
    },
    {
     "name": "stdout",
     "output_type": "stream",
     "text": [
      "\n",
      "                Epoch: 5 / 100 \n",
      "                | Train Loss: 0.330889024221114 \n",
      "                | Train Dice Accuracy: [0.9867917  0.7256327  0.50175905 0.7351471 ] \n",
      "            \n"
     ]
    },
    {
     "data": {
      "application/vnd.jupyter.widget-view+json": {
       "model_id": "3484f33f211a4e8eb802811f1b153177",
       "version_major": 2,
       "version_minor": 0
      },
      "text/plain": [
       "  0%|          | 0/137 [00:00<?, ?it/s]"
      ]
     },
     "metadata": {},
     "output_type": "display_data"
    },
    {
     "name": "stdout",
     "output_type": "stream",
     "text": [
      "\n",
      "                Epoch: 6 / 100 \n",
      "                | Train Loss: 0.33331490998720603 \n",
      "                | Train Dice Accuracy: [0.9856294  0.7372696  0.52317595 0.7173717 ] \n",
      "            \n"
     ]
    },
    {
     "data": {
      "application/vnd.jupyter.widget-view+json": {
       "model_id": "f7a8732e849044918a69799176ae8d28",
       "version_major": 2,
       "version_minor": 0
      },
      "text/plain": [
       "  0%|          | 0/137 [00:00<?, ?it/s]"
      ]
     },
     "metadata": {},
     "output_type": "display_data"
    },
    {
     "name": "stdout",
     "output_type": "stream",
     "text": [
      "\n",
      "                Epoch: 7 / 100 \n",
      "                | Train Loss: 0.3320962333113608 \n",
      "                | Train Dice Accuracy: [0.98572737 0.71830595 0.5341178  0.7625215 ] \n",
      "            \n"
     ]
    },
    {
     "data": {
      "application/vnd.jupyter.widget-view+json": {
       "model_id": "1c21a90b49c848a0bd87c4d15c99d4cb",
       "version_major": 2,
       "version_minor": 0
      },
      "text/plain": [
       "  0%|          | 0/137 [00:00<?, ?it/s]"
      ]
     },
     "metadata": {},
     "output_type": "display_data"
    },
    {
     "name": "stdout",
     "output_type": "stream",
     "text": [
      "\n",
      "                Epoch: 8 / 100 \n",
      "                | Train Loss: 0.3309324477275793 \n",
      "                | Train Dice Accuracy: [0.9872876 0.7383747 0.4651012 0.7599293] \n",
      "            \n"
     ]
    },
    {
     "data": {
      "application/vnd.jupyter.widget-view+json": {
       "model_id": "22ae13985b044b118a422ff725bcb5a1",
       "version_major": 2,
       "version_minor": 0
      },
      "text/plain": [
       "  0%|          | 0/137 [00:00<?, ?it/s]"
      ]
     },
     "metadata": {},
     "output_type": "display_data"
    },
    {
     "name": "stdout",
     "output_type": "stream",
     "text": [
      "saved new best brain metric model\n",
      "\n",
      "                Epoch: 9 / 100 \n",
      "                | Train Loss: 0.33537450802587243 \n",
      "                | Test Loss: 0.5920870701471964 \n",
      "                | Train IoU: 0.0804172092013889 \n",
      "                | Test IoU: 0.018189628136200717\n",
      "                | Train Dice Accuracy: [0.9844444  0.72341967 0.5591037  0.75155574] \n",
      "                | Test Dice Accuracy: [0.9964312  0.20395395 0.20215915 0.6529294 ]\n",
      "            \n"
     ]
    },
    {
     "data": {
      "application/vnd.jupyter.widget-view+json": {
       "model_id": "b3c046c6fab844678cadf4a35838dd03",
       "version_major": 2,
       "version_minor": 0
      },
      "text/plain": [
       "  0%|          | 0/137 [00:00<?, ?it/s]"
      ]
     },
     "metadata": {},
     "output_type": "display_data"
    },
    {
     "name": "stdout",
     "output_type": "stream",
     "text": [
      "\n",
      "                Epoch: 10 / 100 \n",
      "                | Train Loss: 0.3205759770026172 \n",
      "                | Train Dice Accuracy: [0.9854059  0.7221513  0.54271907 0.7721285 ] \n",
      "            \n"
     ]
    },
    {
     "data": {
      "application/vnd.jupyter.widget-view+json": {
       "model_id": "d29b789896604419a55a91f29061eaff",
       "version_major": 2,
       "version_minor": 0
      },
      "text/plain": [
       "  0%|          | 0/137 [00:00<?, ?it/s]"
      ]
     },
     "metadata": {},
     "output_type": "display_data"
    },
    {
     "name": "stdout",
     "output_type": "stream",
     "text": [
      "\n",
      "                Epoch: 11 / 100 \n",
      "                | Train Loss: 0.31896157018894694 \n",
      "                | Train Dice Accuracy: [0.98741156 0.7301989  0.4970709  0.71750015] \n",
      "            \n"
     ]
    },
    {
     "data": {
      "application/vnd.jupyter.widget-view+json": {
       "model_id": "c4ed549d26034ff5b0f7743836e9b67c",
       "version_major": 2,
       "version_minor": 0
      },
      "text/plain": [
       "  0%|          | 0/137 [00:00<?, ?it/s]"
      ]
     },
     "metadata": {},
     "output_type": "display_data"
    },
    {
     "name": "stdout",
     "output_type": "stream",
     "text": [
      "\n",
      "                Epoch: 12 / 100 \n",
      "                | Train Loss: 0.32479533966440355 \n",
      "                | Train Dice Accuracy: [0.9880137  0.71297556 0.5504642  0.75601536] \n",
      "            \n"
     ]
    },
    {
     "data": {
      "application/vnd.jupyter.widget-view+json": {
       "model_id": "52a6f7253ef54148954cb204ce2a999f",
       "version_major": 2,
       "version_minor": 0
      },
      "text/plain": [
       "  0%|          | 0/137 [00:00<?, ?it/s]"
      ]
     },
     "metadata": {},
     "output_type": "display_data"
    },
    {
     "name": "stdout",
     "output_type": "stream",
     "text": [
      "\n",
      "                Epoch: 13 / 100 \n",
      "                | Train Loss: 0.325938948423323 \n",
      "                | Train Dice Accuracy: [0.9861216  0.72504556 0.535129   0.7554148 ] \n",
      "            \n"
     ]
    },
    {
     "data": {
      "application/vnd.jupyter.widget-view+json": {
       "model_id": "0fb3b4617f204607ac6d07e41e50db9d",
       "version_major": 2,
       "version_minor": 0
      },
      "text/plain": [
       "  0%|          | 0/137 [00:00<?, ?it/s]"
      ]
     },
     "metadata": {},
     "output_type": "display_data"
    },
    {
     "name": "stdout",
     "output_type": "stream",
     "text": [
      "\n",
      "                Epoch: 14 / 100 \n",
      "                | Train Loss: 0.3202083699242042 \n",
      "                | Train Dice Accuracy: [0.9853639  0.731838   0.53290844 0.75831133] \n",
      "            \n"
     ]
    },
    {
     "data": {
      "application/vnd.jupyter.widget-view+json": {
       "model_id": "9e124af0fbbf4c00b8ec182c52494119",
       "version_major": 2,
       "version_minor": 0
      },
      "text/plain": [
       "  0%|          | 0/137 [00:00<?, ?it/s]"
      ]
     },
     "metadata": {},
     "output_type": "display_data"
    },
    {
     "name": "stdout",
     "output_type": "stream",
     "text": [
      "\n",
      "                Epoch: 15 / 100 \n",
      "                | Train Loss: 0.32153332755513436 \n",
      "                | Train Dice Accuracy: [0.9870614 0.7260675 0.5249592 0.7897971] \n",
      "            \n"
     ]
    },
    {
     "data": {
      "application/vnd.jupyter.widget-view+json": {
       "model_id": "8c793a1dcb8e42bab8da62fc5a024714",
       "version_major": 2,
       "version_minor": 0
      },
      "text/plain": [
       "  0%|          | 0/137 [00:00<?, ?it/s]"
      ]
     },
     "metadata": {},
     "output_type": "display_data"
    },
    {
     "name": "stdout",
     "output_type": "stream",
     "text": [
      "\n",
      "                Epoch: 16 / 100 \n",
      "                | Train Loss: 0.3243769406184663 \n",
      "                | Train Dice Accuracy: [0.9869291  0.7183972  0.5331188  0.77072155] \n",
      "            \n"
     ]
    },
    {
     "data": {
      "application/vnd.jupyter.widget-view+json": {
       "model_id": "5545d52c550b4707a1eb6f19ceba81d6",
       "version_major": 2,
       "version_minor": 0
      },
      "text/plain": [
       "  0%|          | 0/137 [00:00<?, ?it/s]"
      ]
     },
     "metadata": {},
     "output_type": "display_data"
    },
    {
     "name": "stdout",
     "output_type": "stream",
     "text": [
      "\n",
      "                Epoch: 17 / 100 \n",
      "                | Train Loss: 0.3242849392177415 \n",
      "                | Train Dice Accuracy: [0.98745555 0.72776884 0.52249384 0.77294683] \n",
      "            \n"
     ]
    },
    {
     "data": {
      "application/vnd.jupyter.widget-view+json": {
       "model_id": "b2a5ba5436bd4813830c8d7bf710679a",
       "version_major": 2,
       "version_minor": 0
      },
      "text/plain": [
       "  0%|          | 0/137 [00:00<?, ?it/s]"
      ]
     },
     "metadata": {},
     "output_type": "display_data"
    },
    {
     "name": "stdout",
     "output_type": "stream",
     "text": [
      "\n",
      "                Epoch: 18 / 100 \n",
      "                | Train Loss: 0.31011758788223687 \n",
      "                | Train Dice Accuracy: [0.9861525  0.7157375  0.5477495  0.73643523] \n",
      "            \n"
     ]
    },
    {
     "data": {
      "application/vnd.jupyter.widget-view+json": {
       "model_id": "a02d543ca83d44f1965db7cdebe4ced2",
       "version_major": 2,
       "version_minor": 0
      },
      "text/plain": [
       "  0%|          | 0/137 [00:00<?, ?it/s]"
      ]
     },
     "metadata": {},
     "output_type": "display_data"
    },
    {
     "name": "stdout",
     "output_type": "stream",
     "text": [
      "saved new best brain metric model\n",
      "\n",
      "                Epoch: 19 / 100 \n",
      "                | Train Loss: 0.3209710277780129 \n",
      "                | Test Loss: 0.5311194188667067 \n",
      "                | Train IoU: 0.057861328125 \n",
      "                | Test IoU: 0.018189628136200717\n",
      "                | Train Dice Accuracy: [0.9869776  0.70999545 0.525929   0.75590366] \n",
      "                | Test Dice Accuracy: [0.9973711  0.23558086 0.22447075 0.65623444]\n",
      "            \n"
     ]
    },
    {
     "data": {
      "application/vnd.jupyter.widget-view+json": {
       "model_id": "f327a1740308476eb0eed0083c26a8b7",
       "version_major": 2,
       "version_minor": 0
      },
      "text/plain": [
       "  0%|          | 0/137 [00:00<?, ?it/s]"
      ]
     },
     "metadata": {},
     "output_type": "display_data"
    },
    {
     "name": "stdout",
     "output_type": "stream",
     "text": [
      "\n",
      "                Epoch: 20 / 100 \n",
      "                | Train Loss: 0.31583093193760753 \n",
      "                | Train Dice Accuracy: [0.98803437 0.7006985  0.5532656  0.7449031 ] \n",
      "            \n"
     ]
    },
    {
     "data": {
      "application/vnd.jupyter.widget-view+json": {
       "model_id": "502fde78e2a04d8ea9c90a0850125a3a",
       "version_major": 2,
       "version_minor": 0
      },
      "text/plain": [
       "  0%|          | 0/137 [00:00<?, ?it/s]"
      ]
     },
     "metadata": {},
     "output_type": "display_data"
    },
    {
     "name": "stdout",
     "output_type": "stream",
     "text": [
      "\n",
      "                Epoch: 21 / 100 \n",
      "                | Train Loss: 0.3071395489421204 \n",
      "                | Train Dice Accuracy: [0.98659235 0.7221617  0.5303142  0.73920447] \n",
      "            \n"
     ]
    },
    {
     "data": {
      "application/vnd.jupyter.widget-view+json": {
       "model_id": "e9ae7724a6f64e5581455f167d029259",
       "version_major": 2,
       "version_minor": 0
      },
      "text/plain": [
       "  0%|          | 0/137 [00:00<?, ?it/s]"
      ]
     },
     "metadata": {},
     "output_type": "display_data"
    },
    {
     "name": "stdout",
     "output_type": "stream",
     "text": [
      "\n",
      "                Epoch: 22 / 100 \n",
      "                | Train Loss: 0.31231774183085365 \n",
      "                | Train Dice Accuracy: [0.9876106  0.72648543 0.51205146 0.7195156 ] \n",
      "            \n"
     ]
    },
    {
     "data": {
      "application/vnd.jupyter.widget-view+json": {
       "model_id": "4c4c5ff8148341b38f1e34c56e3a6edb",
       "version_major": 2,
       "version_minor": 0
      },
      "text/plain": [
       "  0%|          | 0/137 [00:00<?, ?it/s]"
      ]
     },
     "metadata": {},
     "output_type": "display_data"
    },
    {
     "name": "stdout",
     "output_type": "stream",
     "text": [
      "\n",
      "                Epoch: 23 / 100 \n",
      "                | Train Loss: 0.3073776264260285 \n",
      "                | Train Dice Accuracy: [0.9865523  0.7186452  0.5408748  0.79539984] \n",
      "            \n"
     ]
    },
    {
     "data": {
      "application/vnd.jupyter.widget-view+json": {
       "model_id": "cd45e0581a5547eea7c7df89a83abb42",
       "version_major": 2,
       "version_minor": 0
      },
      "text/plain": [
       "  0%|          | 0/137 [00:00<?, ?it/s]"
      ]
     },
     "metadata": {},
     "output_type": "display_data"
    },
    {
     "name": "stdout",
     "output_type": "stream",
     "text": [
      "\n",
      "                Epoch: 24 / 100 \n",
      "                | Train Loss: 0.3017273127597614 \n",
      "                | Train Dice Accuracy: [0.9865006  0.73353744 0.51904196 0.7738897 ] \n",
      "            \n"
     ]
    },
    {
     "data": {
      "application/vnd.jupyter.widget-view+json": {
       "model_id": "19f0edcbec774e509ad9aa398d624b07",
       "version_major": 2,
       "version_minor": 0
      },
      "text/plain": [
       "  0%|          | 0/137 [00:00<?, ?it/s]"
      ]
     },
     "metadata": {},
     "output_type": "display_data"
    },
    {
     "name": "stdout",
     "output_type": "stream",
     "text": [
      "\n",
      "                Epoch: 25 / 100 \n",
      "                | Train Loss: 0.312540186473923 \n",
      "                | Train Dice Accuracy: [0.98857147 0.723547   0.5284756  0.7806896 ] \n",
      "            \n"
     ]
    },
    {
     "data": {
      "application/vnd.jupyter.widget-view+json": {
       "model_id": "faba4a924de5474895a4d730ed2f3104",
       "version_major": 2,
       "version_minor": 0
      },
      "text/plain": [
       "  0%|          | 0/137 [00:00<?, ?it/s]"
      ]
     },
     "metadata": {},
     "output_type": "display_data"
    },
    {
     "name": "stdout",
     "output_type": "stream",
     "text": [
      "\n",
      "                Epoch: 26 / 100 \n",
      "                | Train Loss: 0.3052736285829196 \n",
      "                | Train Dice Accuracy: [0.98678684 0.73762643 0.5344676  0.76530707] \n",
      "            \n"
     ]
    },
    {
     "data": {
      "application/vnd.jupyter.widget-view+json": {
       "model_id": "432f04fe838542c7869730e1b89de7af",
       "version_major": 2,
       "version_minor": 0
      },
      "text/plain": [
       "  0%|          | 0/137 [00:00<?, ?it/s]"
      ]
     },
     "metadata": {},
     "output_type": "display_data"
    },
    {
     "name": "stdout",
     "output_type": "stream",
     "text": [
      "\n",
      "                Epoch: 27 / 100 \n",
      "                | Train Loss: 0.3041069066002421 \n",
      "                | Train Dice Accuracy: [0.9863293 0.7432116 0.5341104 0.7292457] \n",
      "            \n"
     ]
    },
    {
     "data": {
      "application/vnd.jupyter.widget-view+json": {
       "model_id": "61ae0e37a17b456c9aa4a7aba77fd208",
       "version_major": 2,
       "version_minor": 0
      },
      "text/plain": [
       "  0%|          | 0/137 [00:00<?, ?it/s]"
      ]
     },
     "metadata": {},
     "output_type": "display_data"
    },
    {
     "name": "stdout",
     "output_type": "stream",
     "text": [
      "\n",
      "                Epoch: 28 / 100 \n",
      "                | Train Loss: 0.30508090425146756 \n",
      "                | Train Dice Accuracy: [0.9871703  0.7157061  0.55676025 0.7563472 ] \n",
      "            \n"
     ]
    },
    {
     "data": {
      "application/vnd.jupyter.widget-view+json": {
       "model_id": "770b742b2eb544518b87dc664b46c024",
       "version_major": 2,
       "version_minor": 0
      },
      "text/plain": [
       "  0%|          | 0/137 [00:00<?, ?it/s]"
      ]
     },
     "metadata": {},
     "output_type": "display_data"
    },
    {
     "name": "stdout",
     "output_type": "stream",
     "text": [
      "saved new best brain metric model\n",
      "\n",
      "                Epoch: 29 / 100 \n",
      "                | Train Loss: 0.3021885228418086 \n",
      "                | Test Loss: 0.4996042928912423 \n",
      "                | Train IoU: 0.09287290219907407 \n",
      "                | Test IoU: 0.018189628136200717\n",
      "                | Train Dice Accuracy: [0.9870532 0.7178051 0.5550918 0.7476403] \n",
      "                | Test Dice Accuracy: [0.9977498  0.3618942  0.23878312 0.65614223]\n",
      "            \n"
     ]
    },
    {
     "data": {
      "application/vnd.jupyter.widget-view+json": {
       "model_id": "1dacf580556a417a83594172d42ff9c6",
       "version_major": 2,
       "version_minor": 0
      },
      "text/plain": [
       "  0%|          | 0/137 [00:00<?, ?it/s]"
      ]
     },
     "metadata": {},
     "output_type": "display_data"
    },
    {
     "name": "stdout",
     "output_type": "stream",
     "text": [
      "\n",
      "                Epoch: 30 / 100 \n",
      "                | Train Loss: 0.29769224200370537 \n",
      "                | Train Dice Accuracy: [0.9873333  0.7230874  0.56646585 0.77141476] \n",
      "            \n"
     ]
    },
    {
     "data": {
      "application/vnd.jupyter.widget-view+json": {
       "model_id": "c0167816929a4acfa2b2cccda2759f98",
       "version_major": 2,
       "version_minor": 0
      },
      "text/plain": [
       "  0%|          | 0/137 [00:00<?, ?it/s]"
      ]
     },
     "metadata": {},
     "output_type": "display_data"
    },
    {
     "name": "stdout",
     "output_type": "stream",
     "text": [
      "\n",
      "                Epoch: 31 / 100 \n",
      "                | Train Loss: 0.30372422367986973 \n",
      "                | Train Dice Accuracy: [0.98585844 0.72178423 0.5634862  0.7402082 ] \n",
      "            \n"
     ]
    },
    {
     "data": {
      "application/vnd.jupyter.widget-view+json": {
       "model_id": "a431aae5c2524433a5ed7b24ddeea213",
       "version_major": 2,
       "version_minor": 0
      },
      "text/plain": [
       "  0%|          | 0/137 [00:00<?, ?it/s]"
      ]
     },
     "metadata": {},
     "output_type": "display_data"
    },
    {
     "name": "stdout",
     "output_type": "stream",
     "text": [
      "\n",
      "                Epoch: 32 / 100 \n",
      "                | Train Loss: 0.3027289805621126 \n",
      "                | Train Dice Accuracy: [0.9878358 0.7095182 0.5559895 0.7538986] \n",
      "            \n"
     ]
    },
    {
     "data": {
      "application/vnd.jupyter.widget-view+json": {
       "model_id": "8afbd1f2ba0f46298d3d3d1fb91a5c37",
       "version_major": 2,
       "version_minor": 0
      },
      "text/plain": [
       "  0%|          | 0/137 [00:00<?, ?it/s]"
      ]
     },
     "metadata": {},
     "output_type": "display_data"
    },
    {
     "name": "stdout",
     "output_type": "stream",
     "text": [
      "\n",
      "                Epoch: 33 / 100 \n",
      "                | Train Loss: 0.3048163671454374 \n",
      "                | Train Dice Accuracy: [0.9860688  0.729309   0.54378724 0.75658935] \n",
      "            \n"
     ]
    },
    {
     "data": {
      "application/vnd.jupyter.widget-view+json": {
       "model_id": "6fc181e1f70244cf999e055f9e76dfb1",
       "version_major": 2,
       "version_minor": 0
      },
      "text/plain": [
       "  0%|          | 0/137 [00:00<?, ?it/s]"
      ]
     },
     "metadata": {},
     "output_type": "display_data"
    },
    {
     "name": "stdout",
     "output_type": "stream",
     "text": [
      "\n",
      "                Epoch: 34 / 100 \n",
      "                | Train Loss: 0.2968842241994656 \n",
      "                | Train Dice Accuracy: [0.98664415 0.7205515  0.58164716 0.7614112 ] \n",
      "            \n"
     ]
    },
    {
     "data": {
      "application/vnd.jupyter.widget-view+json": {
       "model_id": "a6ed2cf3dcaa411c95abf84ad133fa3f",
       "version_major": 2,
       "version_minor": 0
      },
      "text/plain": [
       "  0%|          | 0/137 [00:00<?, ?it/s]"
      ]
     },
     "metadata": {},
     "output_type": "display_data"
    },
    {
     "name": "stdout",
     "output_type": "stream",
     "text": [
      "\n",
      "                Epoch: 35 / 100 \n",
      "                | Train Loss: 0.3090660141332306 \n",
      "                | Train Dice Accuracy: [0.98743796 0.6997308  0.5716197  0.786368  ] \n",
      "            \n"
     ]
    },
    {
     "data": {
      "application/vnd.jupyter.widget-view+json": {
       "model_id": "b094fd9eb2e448f2804f518b34a908af",
       "version_major": 2,
       "version_minor": 0
      },
      "text/plain": [
       "  0%|          | 0/137 [00:00<?, ?it/s]"
      ]
     },
     "metadata": {},
     "output_type": "display_data"
    },
    {
     "name": "stdout",
     "output_type": "stream",
     "text": [
      "\n",
      "                Epoch: 36 / 100 \n",
      "                | Train Loss: 0.3097552922520324 \n",
      "                | Train Dice Accuracy: [0.9868165  0.7297894  0.57841176 0.7800585 ] \n",
      "            \n"
     ]
    },
    {
     "data": {
      "application/vnd.jupyter.widget-view+json": {
       "model_id": "173ae4b6cc624c0da0c24adc31c1843b",
       "version_major": 2,
       "version_minor": 0
      },
      "text/plain": [
       "  0%|          | 0/137 [00:00<?, ?it/s]"
      ]
     },
     "metadata": {},
     "output_type": "display_data"
    },
    {
     "name": "stdout",
     "output_type": "stream",
     "text": [
      "\n",
      "                Epoch: 37 / 100 \n",
      "                | Train Loss: 0.2939792317848136 \n",
      "                | Train Dice Accuracy: [0.98630387 0.71459115 0.56068337 0.7547961 ] \n",
      "            \n"
     ]
    },
    {
     "data": {
      "application/vnd.jupyter.widget-view+json": {
       "model_id": "c9dc3bef9180464eab4d2364c2bdeebe",
       "version_major": 2,
       "version_minor": 0
      },
      "text/plain": [
       "  0%|          | 0/137 [00:00<?, ?it/s]"
      ]
     },
     "metadata": {},
     "output_type": "display_data"
    },
    {
     "name": "stdout",
     "output_type": "stream",
     "text": [
      "\n",
      "                Epoch: 38 / 100 \n",
      "                | Train Loss: 0.30270764231681824 \n",
      "                | Train Dice Accuracy: [0.98813504 0.739437   0.53919    0.76634926] \n",
      "            \n"
     ]
    },
    {
     "data": {
      "application/vnd.jupyter.widget-view+json": {
       "model_id": "c4f53ee7acb3431fa59e587a4d4a6c28",
       "version_major": 2,
       "version_minor": 0
      },
      "text/plain": [
       "  0%|          | 0/137 [00:00<?, ?it/s]"
      ]
     },
     "metadata": {},
     "output_type": "display_data"
    },
    {
     "name": "stdout",
     "output_type": "stream",
     "text": [
      "\n",
      "                Epoch: 39 / 100 \n",
      "                | Train Loss: 0.29017771242091256 \n",
      "                | Test Loss: 0.5072370903058485 \n",
      "                | Train IoU: 0.20061464662905093 \n",
      "                | Test IoU: 0.018189628136200717\n",
      "                | Train Dice Accuracy: [0.9868608  0.7258616  0.5577504  0.78242475] \n",
      "                | Test Dice Accuracy: [0.9976263  0.30019394 0.22236854 0.6440295 ]\n",
      "            \n"
     ]
    },
    {
     "data": {
      "application/vnd.jupyter.widget-view+json": {
       "model_id": "38686eb7c79b4ba98f7e65d8889efe51",
       "version_major": 2,
       "version_minor": 0
      },
      "text/plain": [
       "  0%|          | 0/137 [00:00<?, ?it/s]"
      ]
     },
     "metadata": {},
     "output_type": "display_data"
    },
    {
     "name": "stdout",
     "output_type": "stream",
     "text": [
      "\n",
      "                Epoch: 40 / 100 \n",
      "                | Train Loss: 0.2969595126427003 \n",
      "                | Train Dice Accuracy: [0.9882406  0.73483264 0.5382402  0.76009184] \n",
      "            \n"
     ]
    },
    {
     "data": {
      "application/vnd.jupyter.widget-view+json": {
       "model_id": "10b1af395bc2448a89d81938b2ce9546",
       "version_major": 2,
       "version_minor": 0
      },
      "text/plain": [
       "  0%|          | 0/137 [00:00<?, ?it/s]"
      ]
     },
     "metadata": {},
     "output_type": "display_data"
    },
    {
     "name": "stdout",
     "output_type": "stream",
     "text": [
      "\n",
      "                Epoch: 41 / 100 \n",
      "                | Train Loss: 0.29917050430374426 \n",
      "                | Train Dice Accuracy: [0.98749286 0.7346534  0.5567882  0.7679266 ] \n",
      "            \n"
     ]
    },
    {
     "data": {
      "application/vnd.jupyter.widget-view+json": {
       "model_id": "99c43f6da82348789074f51837b08330",
       "version_major": 2,
       "version_minor": 0
      },
      "text/plain": [
       "  0%|          | 0/137 [00:00<?, ?it/s]"
      ]
     },
     "metadata": {},
     "output_type": "display_data"
    },
    {
     "name": "stdout",
     "output_type": "stream",
     "text": [
      "\n",
      "                Epoch: 42 / 100 \n",
      "                | Train Loss: 0.294094997709685 \n",
      "                | Train Dice Accuracy: [0.98638904 0.73649514 0.55211914 0.7979922 ] \n",
      "            \n"
     ]
    },
    {
     "data": {
      "application/vnd.jupyter.widget-view+json": {
       "model_id": "33dc1ab61a3b423b8d9189964ee614c7",
       "version_major": 2,
       "version_minor": 0
      },
      "text/plain": [
       "  0%|          | 0/137 [00:00<?, ?it/s]"
      ]
     },
     "metadata": {},
     "output_type": "display_data"
    },
    {
     "name": "stdout",
     "output_type": "stream",
     "text": [
      "\n",
      "                Epoch: 43 / 100 \n",
      "                | Train Loss: 0.291667170659469 \n",
      "                | Train Dice Accuracy: [0.9880701  0.7256624  0.54219556 0.77125967] \n",
      "            \n"
     ]
    },
    {
     "data": {
      "application/vnd.jupyter.widget-view+json": {
       "model_id": "5c1d1eb422204d91861f0db4e2d0ac5c",
       "version_major": 2,
       "version_minor": 0
      },
      "text/plain": [
       "  0%|          | 0/137 [00:00<?, ?it/s]"
      ]
     },
     "metadata": {},
     "output_type": "display_data"
    },
    {
     "name": "stdout",
     "output_type": "stream",
     "text": [
      "\n",
      "                Epoch: 44 / 100 \n",
      "                | Train Loss: 0.29026789800093994 \n",
      "                | Train Dice Accuracy: [0.9897317  0.7205754  0.53737336 0.77447313] \n",
      "            \n"
     ]
    },
    {
     "data": {
      "application/vnd.jupyter.widget-view+json": {
       "model_id": "73e780bececf452384bef2a57c455e46",
       "version_major": 2,
       "version_minor": 0
      },
      "text/plain": [
       "  0%|          | 0/137 [00:00<?, ?it/s]"
      ]
     },
     "metadata": {},
     "output_type": "display_data"
    },
    {
     "name": "stdout",
     "output_type": "stream",
     "text": [
      "\n",
      "                Epoch: 45 / 100 \n",
      "                | Train Loss: 0.3034556880049462 \n",
      "                | Train Dice Accuracy: [0.98803735 0.7246094  0.5464535  0.76183426] \n",
      "            \n"
     ]
    },
    {
     "data": {
      "application/vnd.jupyter.widget-view+json": {
       "model_id": "0df1fdd87ad244a4aa9c9303909bf180",
       "version_major": 2,
       "version_minor": 0
      },
      "text/plain": [
       "  0%|          | 0/137 [00:00<?, ?it/s]"
      ]
     },
     "metadata": {},
     "output_type": "display_data"
    },
    {
     "name": "stdout",
     "output_type": "stream",
     "text": [
      "\n",
      "                Epoch: 46 / 100 \n",
      "                | Train Loss: 0.30191972123010313 \n",
      "                | Train Dice Accuracy: [0.9878742  0.73123026 0.56718755 0.78944695] \n",
      "            \n"
     ]
    },
    {
     "data": {
      "application/vnd.jupyter.widget-view+json": {
       "model_id": "eb518004c8b642d39ab672c2e8327c0e",
       "version_major": 2,
       "version_minor": 0
      },
      "text/plain": [
       "  0%|          | 0/137 [00:00<?, ?it/s]"
      ]
     },
     "metadata": {},
     "output_type": "display_data"
    },
    {
     "name": "stdout",
     "output_type": "stream",
     "text": [
      "\n",
      "                Epoch: 47 / 100 \n",
      "                | Train Loss: 0.29096346332208955 \n",
      "                | Train Dice Accuracy: [0.98868996 0.7329387  0.5581184  0.77461696] \n",
      "            \n"
     ]
    },
    {
     "data": {
      "application/vnd.jupyter.widget-view+json": {
       "model_id": "c0415e023f0b4c208b8d12f1716caad1",
       "version_major": 2,
       "version_minor": 0
      },
      "text/plain": [
       "  0%|          | 0/137 [00:00<?, ?it/s]"
      ]
     },
     "metadata": {},
     "output_type": "display_data"
    },
    {
     "name": "stdout",
     "output_type": "stream",
     "text": [
      "\n",
      "                Epoch: 48 / 100 \n",
      "                | Train Loss: 0.2864915805250189 \n",
      "                | Train Dice Accuracy: [0.9877734 0.7331991 0.5626753 0.7920343] \n",
      "            \n"
     ]
    },
    {
     "data": {
      "application/vnd.jupyter.widget-view+json": {
       "model_id": "ff1cd2cd25e84f9e8c2e38d281ff80c0",
       "version_major": 2,
       "version_minor": 0
      },
      "text/plain": [
       "  0%|          | 0/137 [00:00<?, ?it/s]"
      ]
     },
     "metadata": {},
     "output_type": "display_data"
    },
    {
     "name": "stdout",
     "output_type": "stream",
     "text": [
      "saved new best brain metric model\n",
      "\n",
      "                Epoch: 49 / 100 \n",
      "                | Train Loss: 0.28722599746972105 \n",
      "                | Test Loss: 0.47501426664265717 \n",
      "                | Train IoU: 0.04536494502314815 \n",
      "                | Test IoU: 0.018189628136200717\n",
      "                | Train Dice Accuracy: [0.98698324 0.7334608  0.5758071  0.82748854] \n",
      "                | Test Dice Accuracy: [0.997638   0.38628492 0.25284442 0.6570452 ]\n",
      "            \n"
     ]
    },
    {
     "data": {
      "application/vnd.jupyter.widget-view+json": {
       "model_id": "bc231b1f02c8496fa9cb00f147f2c0f1",
       "version_major": 2,
       "version_minor": 0
      },
      "text/plain": [
       "  0%|          | 0/137 [00:00<?, ?it/s]"
      ]
     },
     "metadata": {},
     "output_type": "display_data"
    },
    {
     "name": "stdout",
     "output_type": "stream",
     "text": [
      "\n",
      "                Epoch: 50 / 100 \n",
      "                | Train Loss: 0.2852964595939121 \n",
      "                | Train Dice Accuracy: [0.9871643  0.717543   0.55564964 0.77884203] \n",
      "            \n"
     ]
    },
    {
     "data": {
      "application/vnd.jupyter.widget-view+json": {
       "model_id": "a0e2f11a4d4e49beb0f8dd1c219aaacf",
       "version_major": 2,
       "version_minor": 0
      },
      "text/plain": [
       "  0%|          | 0/137 [00:00<?, ?it/s]"
      ]
     },
     "metadata": {},
     "output_type": "display_data"
    },
    {
     "name": "stdout",
     "output_type": "stream",
     "text": [
      "\n",
      "                Epoch: 51 / 100 \n",
      "                | Train Loss: 0.2850986324305082 \n",
      "                | Train Dice Accuracy: [0.9886671  0.70980567 0.57042116 0.7406421 ] \n",
      "            \n"
     ]
    },
    {
     "data": {
      "application/vnd.jupyter.widget-view+json": {
       "model_id": "c33dadf531154fa3afe1b9e405084372",
       "version_major": 2,
       "version_minor": 0
      },
      "text/plain": [
       "  0%|          | 0/137 [00:00<?, ?it/s]"
      ]
     },
     "metadata": {},
     "output_type": "display_data"
    },
    {
     "name": "stdout",
     "output_type": "stream",
     "text": [
      "\n",
      "                Epoch: 52 / 100 \n",
      "                | Train Loss: 0.2913176355897075 \n",
      "                | Train Dice Accuracy: [0.98734444 0.7387137  0.56292146 0.7729261 ] \n",
      "            \n"
     ]
    },
    {
     "data": {
      "application/vnd.jupyter.widget-view+json": {
       "model_id": "7763ef5e91834d38a027ac52e5c1f590",
       "version_major": 2,
       "version_minor": 0
      },
      "text/plain": [
       "  0%|          | 0/137 [00:00<?, ?it/s]"
      ]
     },
     "metadata": {},
     "output_type": "display_data"
    },
    {
     "name": "stdout",
     "output_type": "stream",
     "text": [
      "\n",
      "                Epoch: 53 / 100 \n",
      "                | Train Loss: 0.2837217392495079 \n",
      "                | Train Dice Accuracy: [0.9870056  0.7273881  0.548018   0.77849436] \n",
      "            \n"
     ]
    },
    {
     "data": {
      "application/vnd.jupyter.widget-view+json": {
       "model_id": "f351e43bcb5242d297942a027f634f32",
       "version_major": 2,
       "version_minor": 0
      },
      "text/plain": [
       "  0%|          | 0/137 [00:00<?, ?it/s]"
      ]
     },
     "metadata": {},
     "output_type": "display_data"
    },
    {
     "name": "stdout",
     "output_type": "stream",
     "text": [
      "\n",
      "                Epoch: 54 / 100 \n",
      "                | Train Loss: 0.27753306076909506 \n",
      "                | Train Dice Accuracy: [0.98841304 0.7289004  0.5491114  0.75928086] \n",
      "            \n"
     ]
    },
    {
     "data": {
      "application/vnd.jupyter.widget-view+json": {
       "model_id": "913ba3a8756849338a84cb243b7d3b5b",
       "version_major": 2,
       "version_minor": 0
      },
      "text/plain": [
       "  0%|          | 0/137 [00:00<?, ?it/s]"
      ]
     },
     "metadata": {},
     "output_type": "display_data"
    },
    {
     "name": "stdout",
     "output_type": "stream",
     "text": [
      "\n",
      "                Epoch: 55 / 100 \n",
      "                | Train Loss: 0.2855523283029125 \n",
      "                | Train Dice Accuracy: [0.9866969  0.7383719  0.57008654 0.7854777 ] \n",
      "            \n"
     ]
    },
    {
     "data": {
      "application/vnd.jupyter.widget-view+json": {
       "model_id": "ff3faf43594d413ebfb2b45584d690d8",
       "version_major": 2,
       "version_minor": 0
      },
      "text/plain": [
       "  0%|          | 0/137 [00:00<?, ?it/s]"
      ]
     },
     "metadata": {},
     "output_type": "display_data"
    },
    {
     "name": "stdout",
     "output_type": "stream",
     "text": [
      "\n",
      "                Epoch: 56 / 100 \n",
      "                | Train Loss: 0.29200608615022505 \n",
      "                | Train Dice Accuracy: [0.98772687 0.7395096  0.55271256 0.7566323 ] \n",
      "            \n"
     ]
    },
    {
     "data": {
      "application/vnd.jupyter.widget-view+json": {
       "model_id": "d421862247c04042bf8ad110682cec12",
       "version_major": 2,
       "version_minor": 0
      },
      "text/plain": [
       "  0%|          | 0/137 [00:00<?, ?it/s]"
      ]
     },
     "metadata": {},
     "output_type": "display_data"
    },
    {
     "name": "stdout",
     "output_type": "stream",
     "text": [
      "\n",
      "                Epoch: 57 / 100 \n",
      "                | Train Loss: 0.2872934093440536 \n",
      "                | Train Dice Accuracy: [0.9873884  0.7315417  0.553139   0.76914144] \n",
      "            \n"
     ]
    },
    {
     "data": {
      "application/vnd.jupyter.widget-view+json": {
       "model_id": "a0e4fdb46d374b81a55923f21b519f99",
       "version_major": 2,
       "version_minor": 0
      },
      "text/plain": [
       "  0%|          | 0/137 [00:00<?, ?it/s]"
      ]
     },
     "metadata": {},
     "output_type": "display_data"
    },
    {
     "name": "stdout",
     "output_type": "stream",
     "text": [
      "\n",
      "                Epoch: 58 / 100 \n",
      "                | Train Loss: 0.28957679916689866 \n",
      "                | Train Dice Accuracy: [0.9875506  0.7472076  0.5833492  0.79174465] \n",
      "            \n"
     ]
    },
    {
     "data": {
      "application/vnd.jupyter.widget-view+json": {
       "model_id": "0768098bd6ea4e0584a5d28c40eaa8f1",
       "version_major": 2,
       "version_minor": 0
      },
      "text/plain": [
       "  0%|          | 0/137 [00:00<?, ?it/s]"
      ]
     },
     "metadata": {},
     "output_type": "display_data"
    },
    {
     "name": "stdout",
     "output_type": "stream",
     "text": [
      "\n",
      "                Epoch: 59 / 100 \n",
      "                | Train Loss: 0.2935854244406206 \n",
      "                | Test Loss: 0.48257043867400196 \n",
      "                | Train IoU: 0.03461597583912037 \n",
      "                | Test IoU: 0.018189628136200717\n",
      "                | Train Dice Accuracy: [0.9890816  0.724097   0.55487365 0.7440387 ] \n",
      "                | Test Dice Accuracy: [0.9976053 0.3388695 0.2518424 0.6578943]\n",
      "            \n"
     ]
    },
    {
     "data": {
      "application/vnd.jupyter.widget-view+json": {
       "model_id": "86ab13ba4edf4ce4a80892d0b052752c",
       "version_major": 2,
       "version_minor": 0
      },
      "text/plain": [
       "  0%|          | 0/137 [00:00<?, ?it/s]"
      ]
     },
     "metadata": {},
     "output_type": "display_data"
    },
    {
     "name": "stdout",
     "output_type": "stream",
     "text": [
      "\n",
      "                Epoch: 60 / 100 \n",
      "                | Train Loss: 0.28720375329908665 \n",
      "                | Train Dice Accuracy: [0.98790354 0.730019   0.5706641  0.7745099 ] \n",
      "            \n"
     ]
    },
    {
     "data": {
      "application/vnd.jupyter.widget-view+json": {
       "model_id": "6df1f4fac6664b8aaaaa2fc89c52376d",
       "version_major": 2,
       "version_minor": 0
      },
      "text/plain": [
       "  0%|          | 0/137 [00:00<?, ?it/s]"
      ]
     },
     "metadata": {},
     "output_type": "display_data"
    },
    {
     "name": "stdout",
     "output_type": "stream",
     "text": [
      "\n",
      "                Epoch: 61 / 100 \n",
      "                | Train Loss: 0.28323433227347633 \n",
      "                | Train Dice Accuracy: [0.98672414 0.734279   0.5711405  0.79473406] \n",
      "            \n"
     ]
    },
    {
     "data": {
      "application/vnd.jupyter.widget-view+json": {
       "model_id": "8f43edd14530473e842893a81768d803",
       "version_major": 2,
       "version_minor": 0
      },
      "text/plain": [
       "  0%|          | 0/137 [00:00<?, ?it/s]"
      ]
     },
     "metadata": {},
     "output_type": "display_data"
    },
    {
     "name": "stdout",
     "output_type": "stream",
     "text": [
      "\n",
      "                Epoch: 62 / 100 \n",
      "                | Train Loss: 0.27712616955276825 \n",
      "                | Train Dice Accuracy: [0.98634243 0.74334365 0.59256315 0.7680462 ] \n",
      "            \n"
     ]
    },
    {
     "data": {
      "application/vnd.jupyter.widget-view+json": {
       "model_id": "4df8a24e1cff41c6878f256d830e297f",
       "version_major": 2,
       "version_minor": 0
      },
      "text/plain": [
       "  0%|          | 0/137 [00:00<?, ?it/s]"
      ]
     },
     "metadata": {},
     "output_type": "display_data"
    },
    {
     "name": "stdout",
     "output_type": "stream",
     "text": [
      "\n",
      "                Epoch: 63 / 100 \n",
      "                | Train Loss: 0.27627795532237004 \n",
      "                | Train Dice Accuracy: [0.9868824  0.74287856 0.5491565  0.7449998 ] \n",
      "            \n"
     ]
    },
    {
     "data": {
      "application/vnd.jupyter.widget-view+json": {
       "model_id": "94ae023d639547438d59a0cd4cabef1e",
       "version_major": 2,
       "version_minor": 0
      },
      "text/plain": [
       "  0%|          | 0/137 [00:00<?, ?it/s]"
      ]
     },
     "metadata": {},
     "output_type": "display_data"
    },
    {
     "name": "stdout",
     "output_type": "stream",
     "text": [
      "\n",
      "                Epoch: 64 / 100 \n",
      "                | Train Loss: 0.28660655065174523 \n",
      "                | Train Dice Accuracy: [0.9880507  0.72458315 0.54979724 0.7624408 ] \n",
      "            \n"
     ]
    },
    {
     "data": {
      "application/vnd.jupyter.widget-view+json": {
       "model_id": "87ad4ac5957f4ea5907200d3fe060321",
       "version_major": 2,
       "version_minor": 0
      },
      "text/plain": [
       "  0%|          | 0/137 [00:00<?, ?it/s]"
      ]
     },
     "metadata": {},
     "output_type": "display_data"
    },
    {
     "name": "stdout",
     "output_type": "stream",
     "text": [
      "\n",
      "                Epoch: 65 / 100 \n",
      "                | Train Loss: 0.29136136456997724 \n",
      "                | Train Dice Accuracy: [0.9877503  0.7432748  0.54927236 0.7640499 ] \n",
      "            \n"
     ]
    },
    {
     "data": {
      "application/vnd.jupyter.widget-view+json": {
       "model_id": "4b4ee43e5ee44e0391c3c698aa5d8654",
       "version_major": 2,
       "version_minor": 0
      },
      "text/plain": [
       "  0%|          | 0/137 [00:00<?, ?it/s]"
      ]
     },
     "metadata": {},
     "output_type": "display_data"
    },
    {
     "name": "stdout",
     "output_type": "stream",
     "text": [
      "\n",
      "                Epoch: 66 / 100 \n",
      "                | Train Loss: 0.28918586682229147 \n",
      "                | Train Dice Accuracy: [0.9872894  0.731164   0.5795897  0.76487166] \n",
      "            \n"
     ]
    },
    {
     "data": {
      "application/vnd.jupyter.widget-view+json": {
       "model_id": "671947f52f4940c6bfaf083396de6f60",
       "version_major": 2,
       "version_minor": 0
      },
      "text/plain": [
       "  0%|          | 0/137 [00:00<?, ?it/s]"
      ]
     },
     "metadata": {},
     "output_type": "display_data"
    },
    {
     "name": "stdout",
     "output_type": "stream",
     "text": [
      "\n",
      "                Epoch: 67 / 100 \n",
      "                | Train Loss: 0.2832108894838904 \n",
      "                | Train Dice Accuracy: [0.9872896  0.7299888  0.574539   0.77677286] \n",
      "            \n"
     ]
    },
    {
     "data": {
      "application/vnd.jupyter.widget-view+json": {
       "model_id": "aacc1d5b6d7f459f9b619671ed1cbf48",
       "version_major": 2,
       "version_minor": 0
      },
      "text/plain": [
       "  0%|          | 0/137 [00:00<?, ?it/s]"
      ]
     },
     "metadata": {},
     "output_type": "display_data"
    },
    {
     "name": "stdout",
     "output_type": "stream",
     "text": [
      "\n",
      "                Epoch: 68 / 100 \n",
      "                | Train Loss: 0.288310297431737 \n",
      "                | Train Dice Accuracy: [0.98750657 0.7491049  0.55500937 0.7933116 ] \n",
      "            \n"
     ]
    },
    {
     "data": {
      "application/vnd.jupyter.widget-view+json": {
       "model_id": "fcec337042424f6e8168aabf36da1088",
       "version_major": 2,
       "version_minor": 0
      },
      "text/plain": [
       "  0%|          | 0/137 [00:00<?, ?it/s]"
      ]
     },
     "metadata": {},
     "output_type": "display_data"
    },
    {
     "name": "stdout",
     "output_type": "stream",
     "text": [
      "\n",
      "                Epoch: 69 / 100 \n",
      "                | Train Loss: 0.2803453600210865 \n",
      "                | Test Loss: 0.48018606955354864 \n",
      "                | Train IoU: 0.06987734194155093 \n",
      "                | Test IoU: 0.018189628136200717\n",
      "                | Train Dice Accuracy: [0.98714685 0.7217018  0.56728584 0.772024  ] \n",
      "                | Test Dice Accuracy: [0.9976466  0.35015658 0.2516622  0.66116196]\n",
      "            \n"
     ]
    },
    {
     "data": {
      "application/vnd.jupyter.widget-view+json": {
       "model_id": "cab5711eae05498d8d7e82bc05cadf2f",
       "version_major": 2,
       "version_minor": 0
      },
      "text/plain": [
       "  0%|          | 0/137 [00:00<?, ?it/s]"
      ]
     },
     "metadata": {},
     "output_type": "display_data"
    },
    {
     "name": "stdout",
     "output_type": "stream",
     "text": [
      "\n",
      "                Epoch: 70 / 100 \n",
      "                | Train Loss: 0.2784682619963249 \n",
      "                | Train Dice Accuracy: [0.98693275 0.7377688  0.5740515  0.80138457] \n",
      "            \n"
     ]
    },
    {
     "data": {
      "application/vnd.jupyter.widget-view+json": {
       "model_id": "07fe3888a9fe429bade0e457966e030a",
       "version_major": 2,
       "version_minor": 0
      },
      "text/plain": [
       "  0%|          | 0/137 [00:00<?, ?it/s]"
      ]
     },
     "metadata": {},
     "output_type": "display_data"
    },
    {
     "name": "stdout",
     "output_type": "stream",
     "text": [
      "\n",
      "                Epoch: 71 / 100 \n",
      "                | Train Loss: 0.2896940535219916 \n",
      "                | Train Dice Accuracy: [0.9875076  0.7398053  0.5491034  0.77984256] \n",
      "            \n"
     ]
    },
    {
     "data": {
      "application/vnd.jupyter.widget-view+json": {
       "model_id": "83f8a0ace45145e5892e37b390f7995b",
       "version_major": 2,
       "version_minor": 0
      },
      "text/plain": [
       "  0%|          | 0/137 [00:00<?, ?it/s]"
      ]
     },
     "metadata": {},
     "output_type": "display_data"
    },
    {
     "name": "stdout",
     "output_type": "stream",
     "text": [
      "\n",
      "                Epoch: 72 / 100 \n",
      "                | Train Loss: 0.28450155693249113 \n",
      "                | Train Dice Accuracy: [0.98704296 0.7337972  0.5615963  0.76508915] \n",
      "            \n"
     ]
    },
    {
     "data": {
      "application/vnd.jupyter.widget-view+json": {
       "model_id": "a44b0ff141d64fae809b19a125c50721",
       "version_major": 2,
       "version_minor": 0
      },
      "text/plain": [
       "  0%|          | 0/137 [00:00<?, ?it/s]"
      ]
     },
     "metadata": {},
     "output_type": "display_data"
    },
    {
     "name": "stdout",
     "output_type": "stream",
     "text": [
      "\n",
      "                Epoch: 73 / 100 \n",
      "                | Train Loss: 0.29184681623086445 \n",
      "                | Train Dice Accuracy: [0.9877879  0.7249551  0.57402235 0.7691999 ] \n",
      "            \n"
     ]
    },
    {
     "data": {
      "application/vnd.jupyter.widget-view+json": {
       "model_id": "d38214b2e3ad4ed3abb2ca5cf270af28",
       "version_major": 2,
       "version_minor": 0
      },
      "text/plain": [
       "  0%|          | 0/137 [00:00<?, ?it/s]"
      ]
     },
     "metadata": {},
     "output_type": "display_data"
    },
    {
     "name": "stdout",
     "output_type": "stream",
     "text": [
      "\n",
      "                Epoch: 74 / 100 \n",
      "                | Train Loss: 0.28022193772731907 \n",
      "                | Train Dice Accuracy: [0.98701423 0.74913234 0.5816187  0.82798356] \n",
      "            \n"
     ]
    },
    {
     "data": {
      "application/vnd.jupyter.widget-view+json": {
       "model_id": "d06ef0f54f964a2cb117423807c32336",
       "version_major": 2,
       "version_minor": 0
      },
      "text/plain": [
       "  0%|          | 0/137 [00:00<?, ?it/s]"
      ]
     },
     "metadata": {},
     "output_type": "display_data"
    },
    {
     "name": "stdout",
     "output_type": "stream",
     "text": [
      "\n",
      "                Epoch: 75 / 100 \n",
      "                | Train Loss: 0.28894073456308267 \n",
      "                | Train Dice Accuracy: [0.9869691 0.7348658 0.568689  0.7728875] \n",
      "            \n"
     ]
    },
    {
     "data": {
      "application/vnd.jupyter.widget-view+json": {
       "model_id": "5153a804b87746d085c133e351c223c9",
       "version_major": 2,
       "version_minor": 0
      },
      "text/plain": [
       "  0%|          | 0/137 [00:00<?, ?it/s]"
      ]
     },
     "metadata": {},
     "output_type": "display_data"
    },
    {
     "name": "stdout",
     "output_type": "stream",
     "text": [
      "\n",
      "                Epoch: 76 / 100 \n",
      "                | Train Loss: 0.28060439544437576 \n",
      "                | Train Dice Accuracy: [0.9872373 0.7354078 0.5945953 0.7671919] \n",
      "            \n"
     ]
    },
    {
     "data": {
      "application/vnd.jupyter.widget-view+json": {
       "model_id": "c4bae26be66049548cb2d26c45337141",
       "version_major": 2,
       "version_minor": 0
      },
      "text/plain": [
       "  0%|          | 0/137 [00:00<?, ?it/s]"
      ]
     },
     "metadata": {},
     "output_type": "display_data"
    },
    {
     "name": "stdout",
     "output_type": "stream",
     "text": [
      "\n",
      "                Epoch: 77 / 100 \n",
      "                | Train Loss: 0.28224640655039 \n",
      "                | Train Dice Accuracy: [0.98783875 0.738672   0.5372629  0.7572414 ] \n",
      "            \n"
     ]
    },
    {
     "data": {
      "application/vnd.jupyter.widget-view+json": {
       "model_id": "2d6e9c8d61c84927b9f22972251a75b5",
       "version_major": 2,
       "version_minor": 0
      },
      "text/plain": [
       "  0%|          | 0/137 [00:00<?, ?it/s]"
      ]
     },
     "metadata": {},
     "output_type": "display_data"
    },
    {
     "name": "stdout",
     "output_type": "stream",
     "text": [
      "\n",
      "                Epoch: 78 / 100 \n",
      "                | Train Loss: 0.2919545756639355 \n",
      "                | Train Dice Accuracy: [0.9866623 0.7414145 0.5986181 0.78273  ] \n",
      "            \n"
     ]
    },
    {
     "data": {
      "application/vnd.jupyter.widget-view+json": {
       "model_id": "c956a858026841c5a86a87ccf6c25c2a",
       "version_major": 2,
       "version_minor": 0
      },
      "text/plain": [
       "  0%|          | 0/137 [00:00<?, ?it/s]"
      ]
     },
     "metadata": {},
     "output_type": "display_data"
    },
    {
     "name": "stdout",
     "output_type": "stream",
     "text": [
      "\n",
      "                Epoch: 79 / 100 \n",
      "                | Train Loss: 0.2871485608120034 \n",
      "                | Test Loss: 0.48067787650859717 \n",
      "                | Train IoU: 0.10665215386284722 \n",
      "                | Test IoU: 0.018189628136200717\n",
      "                | Train Dice Accuracy: [0.98749715 0.7248832  0.5652285  0.74134576] \n",
      "                | Test Dice Accuracy: [0.99764955 0.34908566 0.2517371  0.66042787]\n",
      "            \n"
     ]
    },
    {
     "data": {
      "application/vnd.jupyter.widget-view+json": {
       "model_id": "1e7f62eabe1c4d1a9b767143c7e7dd22",
       "version_major": 2,
       "version_minor": 0
      },
      "text/plain": [
       "  0%|          | 0/137 [00:00<?, ?it/s]"
      ]
     },
     "metadata": {},
     "output_type": "display_data"
    },
    {
     "name": "stdout",
     "output_type": "stream",
     "text": [
      "\n",
      "                Epoch: 80 / 100 \n",
      "                | Train Loss: 0.28083503746638333 \n",
      "                | Train Dice Accuracy: [0.9877454  0.73453534 0.58161694 0.775171  ] \n",
      "            \n"
     ]
    },
    {
     "data": {
      "application/vnd.jupyter.widget-view+json": {
       "model_id": "32a06797aac54ca794b778c1e3b673fb",
       "version_major": 2,
       "version_minor": 0
      },
      "text/plain": [
       "  0%|          | 0/137 [00:00<?, ?it/s]"
      ]
     },
     "metadata": {},
     "output_type": "display_data"
    },
    {
     "name": "stdout",
     "output_type": "stream",
     "text": [
      "\n",
      "                Epoch: 81 / 100 \n",
      "                | Train Loss: 0.28610463233759803 \n",
      "                | Train Dice Accuracy: [0.9878318  0.73777366 0.55636066 0.76997584] \n",
      "            \n"
     ]
    },
    {
     "data": {
      "application/vnd.jupyter.widget-view+json": {
       "model_id": "908d7c524f1140098b8ada4314e31a5c",
       "version_major": 2,
       "version_minor": 0
      },
      "text/plain": [
       "  0%|          | 0/137 [00:00<?, ?it/s]"
      ]
     },
     "metadata": {},
     "output_type": "display_data"
    },
    {
     "name": "stdout",
     "output_type": "stream",
     "text": [
      "\n",
      "                Epoch: 82 / 100 \n",
      "                | Train Loss: 0.28284780528858633 \n",
      "                | Train Dice Accuracy: [0.98705906 0.7443033  0.5704939  0.7620199 ] \n",
      "            \n"
     ]
    },
    {
     "data": {
      "application/vnd.jupyter.widget-view+json": {
       "model_id": "766d5621a7174749a16c79ebba59ccae",
       "version_major": 2,
       "version_minor": 0
      },
      "text/plain": [
       "  0%|          | 0/137 [00:00<?, ?it/s]"
      ]
     },
     "metadata": {},
     "output_type": "display_data"
    },
    {
     "name": "stdout",
     "output_type": "stream",
     "text": [
      "\n",
      "                Epoch: 83 / 100 \n",
      "                | Train Loss: 0.2882749055967714 \n",
      "                | Train Dice Accuracy: [0.98709285 0.72899497 0.5613658  0.76879287] \n",
      "            \n"
     ]
    },
    {
     "data": {
      "application/vnd.jupyter.widget-view+json": {
       "model_id": "390b134b5b8a423d84d8fabe1cc6e9bf",
       "version_major": 2,
       "version_minor": 0
      },
      "text/plain": [
       "  0%|          | 0/137 [00:00<?, ?it/s]"
      ]
     },
     "metadata": {},
     "output_type": "display_data"
    },
    {
     "name": "stdout",
     "output_type": "stream",
     "text": [
      "\n",
      "                Epoch: 84 / 100 \n",
      "                | Train Loss: 0.2836393825981739 \n",
      "                | Train Dice Accuracy: [0.98807687 0.724273   0.594931   0.7825444 ] \n",
      "            \n"
     ]
    },
    {
     "data": {
      "application/vnd.jupyter.widget-view+json": {
       "model_id": "4b6f1204d1e742d7b3a654f94462b959",
       "version_major": 2,
       "version_minor": 0
      },
      "text/plain": [
       "  0%|          | 0/137 [00:00<?, ?it/s]"
      ]
     },
     "metadata": {},
     "output_type": "display_data"
    },
    {
     "name": "stdout",
     "output_type": "stream",
     "text": [
      "\n",
      "                Epoch: 85 / 100 \n",
      "                | Train Loss: 0.2862379900077834 \n",
      "                | Train Dice Accuracy: [0.9869037  0.72996914 0.5705436  0.784488  ] \n",
      "            \n"
     ]
    },
    {
     "data": {
      "application/vnd.jupyter.widget-view+json": {
       "model_id": "930cdc9e7e524ff48f29025fa59cc128",
       "version_major": 2,
       "version_minor": 0
      },
      "text/plain": [
       "  0%|          | 0/137 [00:00<?, ?it/s]"
      ]
     },
     "metadata": {},
     "output_type": "display_data"
    },
    {
     "name": "stdout",
     "output_type": "stream",
     "text": [
      "\n",
      "                Epoch: 86 / 100 \n",
      "                | Train Loss: 0.28637732750307904 \n",
      "                | Train Dice Accuracy: [0.98801655 0.7335858  0.5676298  0.78801817] \n",
      "            \n"
     ]
    },
    {
     "data": {
      "application/vnd.jupyter.widget-view+json": {
       "model_id": "0a867f901dea49f9a6bf888b8886f89b",
       "version_major": 2,
       "version_minor": 0
      },
      "text/plain": [
       "  0%|          | 0/137 [00:00<?, ?it/s]"
      ]
     },
     "metadata": {},
     "output_type": "display_data"
    },
    {
     "name": "stdout",
     "output_type": "stream",
     "text": [
      "\n",
      "                Epoch: 87 / 100 \n",
      "                | Train Loss: 0.28165099840529645 \n",
      "                | Train Dice Accuracy: [0.98817    0.7354802  0.54504687 0.78812426] \n",
      "            \n"
     ]
    },
    {
     "data": {
      "application/vnd.jupyter.widget-view+json": {
       "model_id": "f0c71c8ed1524c838a0a3972679ae587",
       "version_major": 2,
       "version_minor": 0
      },
      "text/plain": [
       "  0%|          | 0/137 [00:00<?, ?it/s]"
      ]
     },
     "metadata": {},
     "output_type": "display_data"
    },
    {
     "name": "stdout",
     "output_type": "stream",
     "text": [
      "\n",
      "                Epoch: 88 / 100 \n",
      "                | Train Loss: 0.2882188206171467 \n",
      "                | Train Dice Accuracy: [0.9872713 0.7340184 0.5746583 0.7742308] \n",
      "            \n"
     ]
    },
    {
     "data": {
      "application/vnd.jupyter.widget-view+json": {
       "model_id": "fc017a8410ef4e74a5429eec82778069",
       "version_major": 2,
       "version_minor": 0
      },
      "text/plain": [
       "  0%|          | 0/137 [00:00<?, ?it/s]"
      ]
     },
     "metadata": {},
     "output_type": "display_data"
    },
    {
     "name": "stdout",
     "output_type": "stream",
     "text": [
      "\n",
      "                Epoch: 89 / 100 \n",
      "                | Train Loss: 0.2806156683359703 \n",
      "                | Test Loss: 0.48092873800884595 \n",
      "                | Train IoU: 0.05610600224247685 \n",
      "                | Test IoU: 0.018189628136200717\n",
      "                | Train Dice Accuracy: [0.9868674  0.7493779  0.56276226 0.82044625] \n",
      "                | Test Dice Accuracy: [0.997571  0.3660742 0.2434957 0.6588851]\n",
      "            \n"
     ]
    },
    {
     "data": {
      "application/vnd.jupyter.widget-view+json": {
       "model_id": "054c3e5c28344d808f40664641b1cc28",
       "version_major": 2,
       "version_minor": 0
      },
      "text/plain": [
       "  0%|          | 0/137 [00:00<?, ?it/s]"
      ]
     },
     "metadata": {},
     "output_type": "display_data"
    },
    {
     "name": "stdout",
     "output_type": "stream",
     "text": [
      "\n",
      "                Epoch: 90 / 100 \n",
      "                | Train Loss: 0.29176512382326336 \n",
      "                | Train Dice Accuracy: [0.9874381  0.72093576 0.5569989  0.7703248 ] \n",
      "            \n"
     ]
    },
    {
     "data": {
      "application/vnd.jupyter.widget-view+json": {
       "model_id": "b8bdf71d8a79444584e1f3b50def1b23",
       "version_major": 2,
       "version_minor": 0
      },
      "text/plain": [
       "  0%|          | 0/137 [00:00<?, ?it/s]"
      ]
     },
     "metadata": {},
     "output_type": "display_data"
    },
    {
     "name": "stdout",
     "output_type": "stream",
     "text": [
      "\n",
      "                Epoch: 91 / 100 \n",
      "                | Train Loss: 0.28686894514482386 \n",
      "                | Train Dice Accuracy: [0.9895797  0.7102794  0.56001973 0.7527287 ] \n",
      "            \n"
     ]
    },
    {
     "data": {
      "application/vnd.jupyter.widget-view+json": {
       "model_id": "96a9748c91ff4775b7c7e72e307c22eb",
       "version_major": 2,
       "version_minor": 0
      },
      "text/plain": [
       "  0%|          | 0/137 [00:00<?, ?it/s]"
      ]
     },
     "metadata": {},
     "output_type": "display_data"
    },
    {
     "name": "stdout",
     "output_type": "stream",
     "text": [
      "\n",
      "                Epoch: 92 / 100 \n",
      "                | Train Loss: 0.2788038404971144 \n",
      "                | Train Dice Accuracy: [0.98748994 0.71847206 0.5858618  0.7781643 ] \n",
      "            \n"
     ]
    },
    {
     "data": {
      "application/vnd.jupyter.widget-view+json": {
       "model_id": "afa33a88ffdc419d91594abe2f0b643d",
       "version_major": 2,
       "version_minor": 0
      },
      "text/plain": [
       "  0%|          | 0/137 [00:00<?, ?it/s]"
      ]
     },
     "metadata": {},
     "output_type": "display_data"
    },
    {
     "name": "stdout",
     "output_type": "stream",
     "text": [
      "\n",
      "                Epoch: 93 / 100 \n",
      "                | Train Loss: 0.28562867282515897 \n",
      "                | Train Dice Accuracy: [0.98787844 0.724429   0.57073313 0.7672789 ] \n",
      "            \n"
     ]
    },
    {
     "data": {
      "application/vnd.jupyter.widget-view+json": {
       "model_id": "bb2c8978d3504790ab313c50c98fd437",
       "version_major": 2,
       "version_minor": 0
      },
      "text/plain": [
       "  0%|          | 0/137 [00:00<?, ?it/s]"
      ]
     },
     "metadata": {},
     "output_type": "display_data"
    },
    {
     "name": "stdout",
     "output_type": "stream",
     "text": [
      "\n",
      "                Epoch: 94 / 100 \n",
      "                | Train Loss: 0.286060553506343 \n",
      "                | Train Dice Accuracy: [0.9878182  0.7262027  0.5509835  0.75814146] \n",
      "            \n"
     ]
    },
    {
     "data": {
      "application/vnd.jupyter.widget-view+json": {
       "model_id": "d94562e583fa48d289dbe32573eea2bd",
       "version_major": 2,
       "version_minor": 0
      },
      "text/plain": [
       "  0%|          | 0/137 [00:00<?, ?it/s]"
      ]
     },
     "metadata": {},
     "output_type": "display_data"
    },
    {
     "name": "stdout",
     "output_type": "stream",
     "text": [
      "\n",
      "                Epoch: 95 / 100 \n",
      "                | Train Loss: 0.27465557432087667 \n",
      "                | Train Dice Accuracy: [0.9884859 0.7417986 0.558249  0.7929041] \n",
      "            \n"
     ]
    },
    {
     "data": {
      "application/vnd.jupyter.widget-view+json": {
       "model_id": "d1a94515369043ad9fec948db737b733",
       "version_major": 2,
       "version_minor": 0
      },
      "text/plain": [
       "  0%|          | 0/137 [00:00<?, ?it/s]"
      ]
     },
     "metadata": {},
     "output_type": "display_data"
    },
    {
     "name": "stdout",
     "output_type": "stream",
     "text": [
      "\n",
      "                Epoch: 96 / 100 \n",
      "                | Train Loss: 0.28158116297130165 \n",
      "                | Train Dice Accuracy: [0.98772293 0.73498327 0.58057487 0.7894677 ] \n",
      "            \n"
     ]
    },
    {
     "data": {
      "application/vnd.jupyter.widget-view+json": {
       "model_id": "f5377f964c9f4233b9e826627397b202",
       "version_major": 2,
       "version_minor": 0
      },
      "text/plain": [
       "  0%|          | 0/137 [00:00<?, ?it/s]"
      ]
     },
     "metadata": {},
     "output_type": "display_data"
    },
    {
     "name": "stdout",
     "output_type": "stream",
     "text": [
      "\n",
      "                Epoch: 97 / 100 \n",
      "                | Train Loss: 0.28480380708283753 \n",
      "                | Train Dice Accuracy: [0.9882333  0.74429876 0.55954945 0.7644596 ] \n",
      "            \n"
     ]
    },
    {
     "data": {
      "application/vnd.jupyter.widget-view+json": {
       "model_id": "f3c708cd24df4f57b7c104f89ca9bdb1",
       "version_major": 2,
       "version_minor": 0
      },
      "text/plain": [
       "  0%|          | 0/137 [00:00<?, ?it/s]"
      ]
     },
     "metadata": {},
     "output_type": "display_data"
    },
    {
     "name": "stdout",
     "output_type": "stream",
     "text": [
      "\n",
      "                Epoch: 98 / 100 \n",
      "                | Train Loss: 0.28907137728520554 \n",
      "                | Train Dice Accuracy: [0.9869295  0.74117666 0.57796687 0.79782325] \n",
      "            \n"
     ]
    },
    {
     "data": {
      "application/vnd.jupyter.widget-view+json": {
       "model_id": "31455e2cc37f46eba341fb6d1670cab6",
       "version_major": 2,
       "version_minor": 0
      },
      "text/plain": [
       "  0%|          | 0/137 [00:00<?, ?it/s]"
      ]
     },
     "metadata": {},
     "output_type": "display_data"
    },
    {
     "name": "stdout",
     "output_type": "stream",
     "text": [
      "\n",
      "                Epoch: 99 / 100 \n",
      "                | Train Loss: 0.29132576885014555 \n",
      "                | Test Loss: 0.4756120027917804 \n",
      "                | Train IoU: 0.05064222547743055 \n",
      "                | Test IoU: 0.018189628136200717\n",
      "                | Train Dice Accuracy: [0.98812884 0.72723925 0.5527566  0.7794223 ] \n",
      "                | Test Dice Accuracy: [0.99763525 0.35132122 0.25211844 0.66247606]\n",
      "            \n"
     ]
    }
   ],
   "source": [
    "num_epochs = 100\n",
    "val_iteration = 10\n",
    "losses = []\n",
    "test_losses = []\n",
    "ious = []\n",
    "test_ious = []\n",
    "dice_accs = []\n",
    "test_dice_accs = []\n",
    "best_metric = -1\n",
    "best_metric_epoch = -1\n",
    "\n",
    "for epoch in range(num_epochs):\n",
    "\n",
    "    epoch_loss = 0\n",
    "    epoch_test_loss = 0\n",
    "    epoch_iou = 0\n",
    "    epoch_test_iou = 0\n",
    "\n",
    "    model.train()\n",
    "    epoch_dice_accs = []\n",
    "    for idx, batch_data in enumerate(tqdm(train_loader)):\n",
    "        img, seg = batch_data[\"img\"].to(device), batch_data[\"seg\"].to(device)\n",
    "\n",
    "        optimizer.zero_grad()\n",
    "        output = model(img)\n",
    "        loss = loss_function(output, seg)\n",
    "        losses.append(loss.item())\n",
    "        loss.backward()\n",
    "        optimizer.step()\n",
    "\n",
    "        epoch_loss += loss.item()\n",
    "        epoch_iou += calculate_iou(output, seg)\n",
    "\n",
    "        try:\n",
    "            acc, not_nans = dice_accuracy(y_pred=post_pred(post_sigmoid(output)), y=seg)\n",
    "            if True not in np.isnan(acc.cpu().numpy()):\n",
    "                dice_accs.append(acc.cpu().numpy())\n",
    "                epoch_dice_accs.append(acc.cpu().numpy())\n",
    "            else:\n",
    "                pass\n",
    "        except:\n",
    "            acc = dice_accuracy(y_pred=post_pred(post_sigmoid(output)), y=seg)\n",
    "            #print(acc)\n",
    "            #dice_accs.append([acc.cpu().numpy()])\n",
    "        \n",
    "        iou = calculate_iou(output, seg)\n",
    "        ious.append(iou)\n",
    "\n",
    "    test_epoch_dice_accs = []\n",
    "    if (epoch + 1) % val_iteration == 0:\n",
    "        model.eval()\n",
    "        with torch.no_grad():\n",
    "            \n",
    "            \n",
    "            for idx, batch_data in enumerate(val_loader):\n",
    "                img, seg = batch_data[\"img\"].to(device), batch_data[\"seg\"].to(device)\n",
    "                output = model_inferer(img)\n",
    "                val_labels_list = decollate_batch(seg)\n",
    "                val_outputs_list = decollate_batch(output)\n",
    "                val_output_convert = [post_pred(post_sigmoid(el)) for el in val_outputs_list]\n",
    "                dice_accuracy.reset()\n",
    "                dice_accuracy(y_pred=val_output_convert, y=val_labels_list)\n",
    "                acc, not_nans = dice_accuracy.aggregate()\n",
    "                if True not in np.isnan(acc.cpu().numpy()):\n",
    "                    test_dice_accs.append(acc.cpu().numpy())\n",
    "                    test_epoch_dice_accs.append(acc.cpu().numpy())\n",
    "\n",
    "                loss = loss_function(output, seg)\n",
    "                test_losses.append(loss.item())\n",
    "                epoch_test_loss += loss.item()\n",
    "\n",
    "                iou = calculate_iou(output, seg)\n",
    "                test_ious.append(iou)\n",
    "\n",
    "                epoch_test_iou += calculate_iou(output, seg)\n",
    "\n",
    "        \n",
    "        if np.average(test_epoch_dice_accs) > best_metric:\n",
    "            best_metric = np.average(test_epoch_dice_accs)\n",
    "            best_metric_epoch = epoch + 1\n",
    "            torch.save(model.state_dict(), \"best_brain_metric_model.pth\")\n",
    "            print(\"saved new best brain metric model\")\n",
    "        \n",
    "        print(f\"\"\"\n",
    "                Epoch: {epoch} / {num_epochs} \n",
    "                | Train Loss: {epoch_loss / len(train_loader)} \n",
    "                | Test Loss: {epoch_test_loss / len(val_loader)} \n",
    "                | Train IoU: {ious[-1]} \n",
    "                | Test IoU: {test_ious[-1]}\n",
    "                | Train Dice Accuracy: {np.average(epoch_dice_accs, axis=0)} \n",
    "                | Test Dice Accuracy: {np.average(test_epoch_dice_accs, axis=0)}\n",
    "            \"\"\")\n",
    "        \n",
    "    else:\n",
    "        print(f\"\"\"\n",
    "                Epoch: {epoch} / {num_epochs} \n",
    "                | Train Loss: {epoch_loss / len(train_loader)} \n",
    "                | Train Dice Accuracy: {np.average(epoch_dice_accs, axis=0)} \n",
    "            \"\"\")\n",
    "            \n",
    "\n",
    "    scheduler.step()\n",
    "        \n"
   ]
  },
  {
   "cell_type": "code",
   "execution_count": 29,
   "metadata": {},
   "outputs": [
    {
     "data": {
      "image/png": "[encoded data removed]",
      "text/plain": [
       "<Figure size 1000x500 with 1 Axes>"
      ]
     },
     "metadata": {},
     "output_type": "display_data"
    }
   ],
   "source": [
    "# plot the losses and accuracies\n",
    "\n",
    "import matplotlib.pyplot as plt\n",
    "\n",
    "plt.figure(figsize=(10, 5))\n",
    "plt.title(\"Losses\")\n",
    "plt.plot(losses, label=\"Train Loss\")\n",
    "plt.plot(test_losses, label=\"Test Loss\")\n",
    "plt.xlabel(\"Iterations\")\n",
    "plt.ylabel(\"Loss\")\n",
    "plt.legend()\n",
    "plt.show()\n"
   ]
  },
  {
   "cell_type": "code",
   "execution_count": 32,
   "metadata": {},
   "outputs": [
    {
     "data": {
      "image/png": "[encoded data removed]",
      "text/plain": [
       "<Figure size 1000x500 with 1 Axes>"
      ]
     },
     "metadata": {},
     "output_type": "display_data"
    }
   ],
   "source": [
    "# plot mean dice\n",
    "\n",
    "plt.figure(figsize=(10, 5))\n",
    "plt.title(\"Mean Dice Accuracy\")\n",
    "plt.plot(np.average(dice_accs, axis=1), label=\"Train Dice Accuracy\")\n",
    "plt.plot(np.average(test_dice_accs, axis=1), label=\"Test Dice Accuracy\")\n",
    "plt.xlabel(\"Iterations\")\n",
    "plt.ylabel(\"Mean Dice Accuracy\")\n",
    "plt.legend()\n",
    "plt.show()  \n"
   ]
  },
  {
   "cell_type": "code",
   "execution_count": null,
   "metadata": {},
   "outputs": [],
   "source": []
  }
 ],
 "metadata": {
  "kernelspec": {
   "display_name": "Python 3 (ipykernel)",
   "language": "python",
   "name": "python3"
  },
  "language_info": {
   "codemirror_mode": {
    "name": "ipython",
    "version": 3
   },
   "file_extension": ".py",
   "mimetype": "text/x-python",
   "name": "python",
   "nbconvert_exporter": "python",
   "pygments_lexer": "ipython3",
   "version": "3.10.13"
  }
 },
 "nbformat": 4,
 "nbformat_minor": 2
}
