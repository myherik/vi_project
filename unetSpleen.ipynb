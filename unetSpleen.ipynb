{
 "cells": [
  {
   "cell_type": "code",
   "execution_count": 1,
   "metadata": {},
   "outputs": [],
   "source": [
    "from monai.utils import first, set_determinism\n",
    "from monai.transforms import (\n",
    "    AsDiscrete,\n",
    "    AsDiscreted,\n",
    "    EnsureChannelFirstd,\n",
    "    Compose,\n",
    "    CropForegroundd,\n",
    "    LoadImaged,\n",
    "    Orientationd,\n",
    "    RandCropByPosNegLabeld,\n",
    "    SaveImaged,\n",
    "    ScaleIntensityRanged,\n",
    "    Spacingd,\n",
    "    Invertd,\n",
    "    RandAffined,\n",
    ")\n",
    "from monai.handlers.utils import from_engine\n",
    "from monai.networks.nets import UNet\n",
    "from monai.networks.layers import Norm\n",
    "from monai.metrics import DiceMetric\n",
    "from monai.losses import DiceLoss\n",
    "from monai.inferers import sliding_window_inference\n",
    "from monai.data import CacheDataset, DataLoader, Dataset, decollate_batch\n",
    "from monai.config import print_config\n",
    "from monai.apps import download_and_extract\n",
    "import torch\n",
    "import matplotlib.pyplot as plt\n",
    "import tempfile\n",
    "import shutil\n",
    "import os\n",
    "import numpy as np\n",
    "import glob\n",
    "from utils import AverageMeter\n",
    "from tqdm.notebook import tqdm"
   ]
  },
  {
   "cell_type": "code",
   "execution_count": 2,
   "metadata": {},
   "outputs": [],
   "source": [
    "device = torch.device(\"cuda:0\" if torch.cuda.is_available() else \"cpu\")\n",
    "#device = torch.device(\"cpu\")"
   ]
  },
  {
   "cell_type": "code",
   "execution_count": 3,
   "metadata": {},
   "outputs": [],
   "source": [
    "data_dir = \"Task09_Spleen/\"\n",
    "\n",
    "train_images = sorted(glob.glob(os.path.join(data_dir, \"imagesTr\", \"*.nii.gz\")))\n",
    "train_labels = sorted(glob.glob(os.path.join(data_dir, \"labelsTr\", \"*.nii.gz\")))\n",
    "\n",
    "data_dicts = [{\"img\": image_name, \"seg\": label_name} for image_name, label_name in zip(train_images, train_labels)]\n",
    "train_files, val_files = data_dicts[:-9], data_dicts[-9:]"
   ]
  },
  {
   "cell_type": "code",
   "execution_count": 4,
   "metadata": {},
   "outputs": [
    {
     "name": "stderr",
     "output_type": "stream",
     "text": [
      "monai.transforms.croppad.dictionary CropForegroundd.__init__:allow_smaller: Current default value of argument `allow_smaller=True` has been deprecated since version 1.2. It will be changed to `allow_smaller=False` in version 1.5.\n"
     ]
    }
   ],
   "source": [
    "train_transform = Compose(\n",
    "    [\n",
    "        LoadImaged(keys=[\"img\", \"seg\"]),\n",
    "        EnsureChannelFirstd(keys=[\"img\", \"seg\"]),\n",
    "        ScaleIntensityRanged(\n",
    "            keys=[\"img\"],\n",
    "            a_min=-57,\n",
    "            a_max=164,\n",
    "            b_min=0.0,\n",
    "            b_max=1.0,\n",
    "            clip=True,\n",
    "        ),\n",
    "        CropForegroundd(keys=[\"img\", \"seg\"], source_key=\"img\"),\n",
    "        Orientationd(keys=[\"img\", \"seg\"], axcodes=\"RAS\"),\n",
    "        Spacingd(keys=[\"img\", \"seg\"], pixdim=(1.5, 1.5, 2.0), mode=(\"bilinear\", \"nearest\")),\n",
    "        RandCropByPosNegLabeld(\n",
    "            keys=[\"img\", \"seg\"],\n",
    "            label_key=\"seg\",\n",
    "            spatial_size=(96, 96, 96),\n",
    "            pos=1,\n",
    "            neg=1,\n",
    "            num_samples=4,\n",
    "            image_key=\"img\",\n",
    "            image_threshold=0,\n",
    "        ),\n",
    "    ]\n",
    "    \n",
    ")\n",
    "\"\"\"\n",
    "        RandAffined(\n",
    "             keys=['img', 'seg'],\n",
    "             mode=('bilinear', 'nearest'),\n",
    "             prob=1.0, spatial_size=(96, 96, 96),\n",
    "             rotate_range=(0, 0, np.pi/15),\n",
    "             scale_range=(0.1, 0.1, 0.1)),\"\"\"\n",
    "val_transform = Compose(\n",
    "    [\n",
    "        LoadImaged(keys=[\"img\", \"seg\"]),\n",
    "        EnsureChannelFirstd(keys=[\"img\", \"seg\"]),\n",
    "        ScaleIntensityRanged(\n",
    "            keys=[\"img\"],\n",
    "            a_min=-57,\n",
    "            a_max=164,\n",
    "            b_min=0.0,\n",
    "            b_max=1.0,\n",
    "            clip=True,\n",
    "        ),\n",
    "        CropForegroundd(keys=[\"img\", \"seg\"], source_key=\"img\"),\n",
    "        Orientationd(keys=[\"img\", \"seg\"], axcodes=\"RAS\"),\n",
    "        Spacingd(keys=[\"img\", \"seg\"], pixdim=(1.5, 1.5, 2.0), mode=(\"bilinear\", \"nearest\")),\n",
    "    ]\n",
    ")"
   ]
  },
  {
   "cell_type": "code",
   "execution_count": 5,
   "metadata": {},
   "outputs": [
    {
     "name": "stdout",
     "output_type": "stream",
     "text": [
      "4\n"
     ]
    }
   ],
   "source": [
    "img = train_transform(train_files[0])\n",
    "\n",
    "#print(post_pred(img[0][\"img\"]).shape)\n",
    "print(len(img[0]))\n",
    "#print(img[\"img\"].shape, img[\"seg\"].shape)"
   ]
  },
  {
   "cell_type": "code",
   "execution_count": 6,
   "metadata": {},
   "outputs": [
    {
     "name": "stderr",
     "output_type": "stream",
     "text": [
      "Loading dataset: 100%|██████████| 32/32 [00:10<00:00,  2.99it/s]\n",
      "Loading dataset: 100%|██████████| 9/9 [00:02<00:00,  3.50it/s]\n"
     ]
    }
   ],
   "source": [
    "train_dataset = CacheDataset(data=train_files, transform=train_transform, cache_rate=1.0, num_workers=os.cpu_count() // 2)\n",
    "val_dataset = CacheDataset(data=val_files, transform=val_transform, cache_rate=1.0, num_workers=os.cpu_count() // 2)\n",
    "train_loader = DataLoader(train_dataset, batch_size=2, shuffle=True, num_workers= os.cpu_count() // 2)\n",
    "val_loader = DataLoader(val_dataset, batch_size=1, num_workers=os.cpu_count() // 2)"
   ]
  },
  {
   "cell_type": "code",
   "execution_count": 7,
   "metadata": {},
   "outputs": [],
   "source": [
    "model = UNet(\n",
    "    spatial_dims=3,\n",
    "    in_channels=1,\n",
    "    out_channels=2,\n",
    "    channels=(16, 32, 64, 128, 256, 512),\n",
    "    strides=(2, 2, 2, 2, 2),\n",
    "    num_res_units=2,\n",
    "    norm=Norm.BATCH,\n",
    ").to(device)\n",
    "\n",
    "loss_function = DiceLoss(to_onehot_y=True, softmax=True)\n",
    "optimizer = torch.optim.Adam(model.parameters(), 1e-4)\n",
    "dice_accuracy = DiceMetric(include_background=False, reduction=\"mean\", get_not_nans=True)"
   ]
  },
  {
   "cell_type": "code",
   "execution_count": 8,
   "metadata": {},
   "outputs": [
    {
     "data": {
      "application/vnd.jupyter.widget-view+json": {
       "model_id": "9928f6a5f79f4b3bbfed39d182d7b4c4",
       "version_major": 2,
       "version_minor": 0
      },
      "text/plain": [
       "  0%|          | 0/16 [00:00<?, ?it/s]"
      ]
     },
     "metadata": {},
     "output_type": "display_data"
    },
    {
     "name": "stdout",
     "output_type": "stream",
     "text": [
      "\n",
      "                Epoch: 1 / 1000 \n",
      "                | Train Loss: 0.610480971634388 \n",
      "                | Train Dice Accuracy: 0.5295480372453177 \n",
      "            \n"
     ]
    },
    {
     "data": {
      "application/vnd.jupyter.widget-view+json": {
       "model_id": "85e794b330d34f638a24b4ddd04a72d1",
       "version_major": 2,
       "version_minor": 0
      },
      "text/plain": [
       "  0%|          | 0/16 [00:00<?, ?it/s]"
      ]
     },
     "metadata": {},
     "output_type": "display_data"
    },
    {
     "name": "stdout",
     "output_type": "stream",
     "text": [
      "saved new best spleen metric model\n",
      "\n",
      "                    Epoch: 2 / 1000 \n",
      "                    | Train Loss: 0.5849751383066177 \n",
      "                    | Train Dice Accuracy: 0.6046616582695498 \n",
      "                    | Test Dice Accuracy: 0.06805492668516105\n",
      "                \n"
     ]
    },
    {
     "data": {
      "application/vnd.jupyter.widget-view+json": {
       "model_id": "5b24f1183d524499885e24dd53c28d6e",
       "version_major": 2,
       "version_minor": 0
      },
      "text/plain": [
       "  0%|          | 0/16 [00:00<?, ?it/s]"
      ]
     },
     "metadata": {},
     "output_type": "display_data"
    },
    {
     "name": "stdout",
     "output_type": "stream",
     "text": [
      "\n",
      "                Epoch: 3 / 1000 \n",
      "                | Train Loss: 0.5725818201899529 \n",
      "                | Train Dice Accuracy: 0.6398018380822657 \n",
      "            \n"
     ]
    },
    {
     "data": {
      "application/vnd.jupyter.widget-view+json": {
       "model_id": "f3d25c0305a24e439bb65313f33f153f",
       "version_major": 2,
       "version_minor": 0
      },
      "text/plain": [
       "  0%|          | 0/16 [00:00<?, ?it/s]"
      ]
     },
     "metadata": {},
     "output_type": "display_data"
    },
    {
     "name": "stdout",
     "output_type": "stream",
     "text": [
      "saved new best spleen metric model\n",
      "\n",
      "                    Epoch: 4 / 1000 \n",
      "                    | Train Loss: 0.5622642897069454 \n",
      "                    | Train Dice Accuracy: 0.6816647587535537 \n",
      "                    | Test Dice Accuracy: 0.08555787305037181\n",
      "                \n"
     ]
    },
    {
     "data": {
      "application/vnd.jupyter.widget-view+json": {
       "model_id": "4b25444f45554a0aaf8c0bafa3bb1f54",
       "version_major": 2,
       "version_minor": 0
      },
      "text/plain": [
       "  0%|          | 0/16 [00:00<?, ?it/s]"
      ]
     },
     "metadata": {},
     "output_type": "display_data"
    },
    {
     "name": "stdout",
     "output_type": "stream",
     "text": [
      "\n",
      "                Epoch: 5 / 1000 \n",
      "                | Train Loss: 0.5503670834004879 \n",
      "                | Train Dice Accuracy: 0.6889436723930495 \n",
      "            \n"
     ]
    },
    {
     "data": {
      "application/vnd.jupyter.widget-view+json": {
       "model_id": "d46a0eabc13f4be4985a3061021d85e9",
       "version_major": 2,
       "version_minor": 0
      },
      "text/plain": [
       "  0%|          | 0/16 [00:00<?, ?it/s]"
      ]
     },
     "metadata": {},
     "output_type": "display_data"
    },
    {
     "name": "stdout",
     "output_type": "stream",
     "text": [
      "\n",
      "                    Epoch: 6 / 1000 \n",
      "                    | Train Loss: 0.550426047295332 \n",
      "                    | Train Dice Accuracy: 0.7131143681845575 \n",
      "                    | Test Dice Accuracy: 0.08013370550341076\n",
      "                \n"
     ]
    },
    {
     "data": {
      "application/vnd.jupyter.widget-view+json": {
       "model_id": "1e3953d872964d20bd24737a6d8dae0a",
       "version_major": 2,
       "version_minor": 0
      },
      "text/plain": [
       "  0%|          | 0/16 [00:00<?, ?it/s]"
      ]
     },
     "metadata": {},
     "output_type": "display_data"
    },
    {
     "name": "stdout",
     "output_type": "stream",
     "text": [
      "\n",
      "                Epoch: 7 / 1000 \n",
      "                | Train Loss: 0.5323689859360456 \n",
      "                | Train Dice Accuracy: 0.7274930534559653 \n",
      "            \n"
     ]
    },
    {
     "data": {
      "application/vnd.jupyter.widget-view+json": {
       "model_id": "c7a82a8ed3a243f1a22d3f662a0b9344",
       "version_major": 2,
       "version_minor": 0
      },
      "text/plain": [
       "  0%|          | 0/16 [00:00<?, ?it/s]"
      ]
     },
     "metadata": {},
     "output_type": "display_data"
    },
    {
     "name": "stdout",
     "output_type": "stream",
     "text": [
      "\n",
      "                    Epoch: 8 / 1000 \n",
      "                    | Train Loss: 0.5288587212562561 \n",
      "                    | Train Dice Accuracy: 0.7210914963029426 \n",
      "                    | Test Dice Accuracy: 0.07830533385276794\n",
      "                \n"
     ]
    },
    {
     "data": {
      "application/vnd.jupyter.widget-view+json": {
       "model_id": "fc56e0fd5cdc4498ba9f4249a61403fd",
       "version_major": 2,
       "version_minor": 0
      },
      "text/plain": [
       "  0%|          | 0/16 [00:00<?, ?it/s]"
      ]
     },
     "metadata": {},
     "output_type": "display_data"
    },
    {
     "name": "stdout",
     "output_type": "stream",
     "text": [
      "\n",
      "                Epoch: 9 / 1000 \n",
      "                | Train Loss: 0.5204591285437346 \n",
      "                | Train Dice Accuracy: 0.7410713663888634 \n",
      "            \n"
     ]
    },
    {
     "data": {
      "application/vnd.jupyter.widget-view+json": {
       "model_id": "f7b8afd4b083490cb0cc78f3567da457",
       "version_major": 2,
       "version_minor": 0
      },
      "text/plain": [
       "  0%|          | 0/16 [00:00<?, ?it/s]"
      ]
     },
     "metadata": {},
     "output_type": "display_data"
    },
    {
     "name": "stdout",
     "output_type": "stream",
     "text": [
      "saved new best spleen metric model\n",
      "\n",
      "                    Epoch: 10 / 1000 \n",
      "                    | Train Loss: 0.5132973771542311 \n",
      "                    | Train Dice Accuracy: 0.7387696611988652 \n",
      "                    | Test Dice Accuracy: 0.11732560934291945\n",
      "                \n"
     ]
    },
    {
     "data": {
      "application/vnd.jupyter.widget-view+json": {
       "model_id": "8264e5256cb846aa94da0436a2ad9607",
       "version_major": 2,
       "version_minor": 0
      },
      "text/plain": [
       "  0%|          | 0/16 [00:00<?, ?it/s]"
      ]
     },
     "metadata": {},
     "output_type": "display_data"
    },
    {
     "name": "stdout",
     "output_type": "stream",
     "text": [
      "\n",
      "                Epoch: 11 / 1000 \n",
      "                | Train Loss: 0.5163923278450966 \n",
      "                | Train Dice Accuracy: 0.7476269605573914 \n",
      "            \n"
     ]
    },
    {
     "data": {
      "application/vnd.jupyter.widget-view+json": {
       "model_id": "c93120d8b6254439a1760c9a55597580",
       "version_major": 2,
       "version_minor": 0
      },
      "text/plain": [
       "  0%|          | 0/16 [00:00<?, ?it/s]"
      ]
     },
     "metadata": {},
     "output_type": "display_data"
    },
    {
     "name": "stdout",
     "output_type": "stream",
     "text": [
      "\n",
      "                    Epoch: 12 / 1000 \n",
      "                    | Train Loss: 0.49384528398513794 \n",
      "                    | Train Dice Accuracy: 0.7575485073359667 \n",
      "                    | Test Dice Accuracy: 0.05357986709309949\n",
      "                \n"
     ]
    },
    {
     "data": {
      "application/vnd.jupyter.widget-view+json": {
       "model_id": "172da38946ea4196b4456341e8e6dbe3",
       "version_major": 2,
       "version_minor": 0
      },
      "text/plain": [
       "  0%|          | 0/16 [00:00<?, ?it/s]"
      ]
     },
     "metadata": {},
     "output_type": "display_data"
    },
    {
     "name": "stdout",
     "output_type": "stream",
     "text": [
      "\n",
      "                Epoch: 13 / 1000 \n",
      "                | Train Loss: 0.4914166294038296 \n",
      "                | Train Dice Accuracy: 0.7841125136223909 \n",
      "            \n"
     ]
    },
    {
     "data": {
      "application/vnd.jupyter.widget-view+json": {
       "model_id": "59fad56a72644de4ad723a6affa41dcd",
       "version_major": 2,
       "version_minor": 0
      },
      "text/plain": [
       "  0%|          | 0/16 [00:00<?, ?it/s]"
      ]
     },
     "metadata": {},
     "output_type": "display_data"
    },
    {
     "name": "stdout",
     "output_type": "stream",
     "text": [
      "\n",
      "                    Epoch: 14 / 1000 \n",
      "                    | Train Loss: 0.4807205144315958 \n",
      "                    | Train Dice Accuracy: 0.7893986078451306 \n",
      "                    | Test Dice Accuracy: 0.056813896323243775\n",
      "                \n"
     ]
    },
    {
     "data": {
      "application/vnd.jupyter.widget-view+json": {
       "model_id": "08db6e1506c44bfba63c7cb7f9006f23",
       "version_major": 2,
       "version_minor": 0
      },
      "text/plain": [
       "  0%|          | 0/16 [00:00<?, ?it/s]"
      ]
     },
     "metadata": {},
     "output_type": "display_data"
    },
    {
     "name": "stdout",
     "output_type": "stream",
     "text": [
      "\n",
      "                Epoch: 15 / 1000 \n",
      "                | Train Loss: 0.48155794478952885 \n",
      "                | Train Dice Accuracy: 0.790877985122592 \n",
      "            \n"
     ]
    },
    {
     "data": {
      "application/vnd.jupyter.widget-view+json": {
       "model_id": "43726a28ed0c4ec6bae18ca032a70ac3",
       "version_major": 2,
       "version_minor": 0
      },
      "text/plain": [
       "  0%|          | 0/16 [00:00<?, ?it/s]"
      ]
     },
     "metadata": {},
     "output_type": "display_data"
    },
    {
     "name": "stdout",
     "output_type": "stream",
     "text": [
      "\n",
      "                    Epoch: 16 / 1000 \n",
      "                    | Train Loss: 0.4547612424939871 \n",
      "                    | Train Dice Accuracy: 0.8043184380186089 \n",
      "                    | Test Dice Accuracy: 0.04472721512946817\n",
      "                \n"
     ]
    },
    {
     "data": {
      "application/vnd.jupyter.widget-view+json": {
       "model_id": "40c59d7ce952482aaca43ec9b049a746",
       "version_major": 2,
       "version_minor": 0
      },
      "text/plain": [
       "  0%|          | 0/16 [00:00<?, ?it/s]"
      ]
     },
     "metadata": {},
     "output_type": "display_data"
    },
    {
     "name": "stdout",
     "output_type": "stream",
     "text": [
      "\n",
      "                Epoch: 17 / 1000 \n",
      "                | Train Loss: 0.4566173180937767 \n",
      "                | Train Dice Accuracy: 0.8188520132381225 \n",
      "            \n"
     ]
    },
    {
     "data": {
      "application/vnd.jupyter.widget-view+json": {
       "model_id": "4f2257076e9149e488a2134fa0054cf3",
       "version_major": 2,
       "version_minor": 0
      },
      "text/plain": [
       "  0%|          | 0/16 [00:00<?, ?it/s]"
      ]
     },
     "metadata": {},
     "output_type": "display_data"
    },
    {
     "name": "stdout",
     "output_type": "stream",
     "text": [
      "\n",
      "                    Epoch: 18 / 1000 \n",
      "                    | Train Loss: 0.44864796102046967 \n",
      "                    | Train Dice Accuracy: 0.8159938810600175 \n",
      "                    | Test Dice Accuracy: 0.0997246764600277\n",
      "                \n"
     ]
    },
    {
     "data": {
      "application/vnd.jupyter.widget-view+json": {
       "model_id": "243f10adb4564332ba1928fc9fbb179a",
       "version_major": 2,
       "version_minor": 0
      },
      "text/plain": [
       "  0%|          | 0/16 [00:00<?, ?it/s]"
      ]
     },
     "metadata": {},
     "output_type": "display_data"
    },
    {
     "name": "stdout",
     "output_type": "stream",
     "text": [
      "\n",
      "                Epoch: 19 / 1000 \n",
      "                | Train Loss: 0.4472000990062952 \n",
      "                | Train Dice Accuracy: 0.8397933010849656 \n",
      "            \n"
     ]
    },
    {
     "data": {
      "application/vnd.jupyter.widget-view+json": {
       "model_id": "b732ad4f81dc4f19915c028563562230",
       "version_major": 2,
       "version_minor": 0
      },
      "text/plain": [
       "  0%|          | 0/16 [00:00<?, ?it/s]"
      ]
     },
     "metadata": {},
     "output_type": "display_data"
    },
    {
     "name": "stdout",
     "output_type": "stream",
     "text": [
      "saved new best spleen metric model\n",
      "\n",
      "                    Epoch: 20 / 1000 \n",
      "                    | Train Loss: 0.4341583177447319 \n",
      "                    | Train Dice Accuracy: 0.8390381664311121 \n",
      "                    | Test Dice Accuracy: 0.12092266935441229\n",
      "                \n"
     ]
    },
    {
     "data": {
      "application/vnd.jupyter.widget-view+json": {
       "model_id": "9bc982db7bdf45aaa210d670ece2ae83",
       "version_major": 2,
       "version_minor": 0
      },
      "text/plain": [
       "  0%|          | 0/16 [00:00<?, ?it/s]"
      ]
     },
     "metadata": {},
     "output_type": "display_data"
    },
    {
     "name": "stdout",
     "output_type": "stream",
     "text": [
      "\n",
      "                Epoch: 21 / 1000 \n",
      "                | Train Loss: 0.41605900041759014 \n",
      "                | Train Dice Accuracy: 0.84109192710739 \n",
      "            \n"
     ]
    },
    {
     "data": {
      "application/vnd.jupyter.widget-view+json": {
       "model_id": "63d0963714da46a0af40a2dc2cd09d67",
       "version_major": 2,
       "version_minor": 0
      },
      "text/plain": [
       "  0%|          | 0/16 [00:00<?, ?it/s]"
      ]
     },
     "metadata": {},
     "output_type": "display_data"
    },
    {
     "name": "stdout",
     "output_type": "stream",
     "text": [
      "\n",
      "                    Epoch: 22 / 1000 \n",
      "                    | Train Loss: 0.4197402074933052 \n",
      "                    | Train Dice Accuracy: 0.8584370177309468 \n",
      "                    | Test Dice Accuracy: 0.0688684011499087\n",
      "                \n"
     ]
    },
    {
     "data": {
      "application/vnd.jupyter.widget-view+json": {
       "model_id": "d56d40da60be438ea38f06d483f4c734",
       "version_major": 2,
       "version_minor": 0
      },
      "text/plain": [
       "  0%|          | 0/16 [00:00<?, ?it/s]"
      ]
     },
     "metadata": {},
     "output_type": "display_data"
    },
    {
     "name": "stdout",
     "output_type": "stream",
     "text": [
      "\n",
      "                Epoch: 23 / 1000 \n",
      "                | Train Loss: 0.42015836387872696 \n",
      "                | Train Dice Accuracy: 0.8415607020810798 \n",
      "            \n"
     ]
    },
    {
     "data": {
      "application/vnd.jupyter.widget-view+json": {
       "model_id": "2c96f03c40814a64a188a93c5ac836bc",
       "version_major": 2,
       "version_minor": 0
      },
      "text/plain": [
       "  0%|          | 0/16 [00:00<?, ?it/s]"
      ]
     },
     "metadata": {},
     "output_type": "display_data"
    },
    {
     "name": "stdout",
     "output_type": "stream",
     "text": [
      "\n",
      "                    Epoch: 24 / 1000 \n",
      "                    | Train Loss: 0.4154667891561985 \n",
      "                    | Train Dice Accuracy: 0.8403018399583342 \n",
      "                    | Test Dice Accuracy: 0.1152468439605501\n",
      "                \n"
     ]
    },
    {
     "data": {
      "application/vnd.jupyter.widget-view+json": {
       "model_id": "092c58974ac842719a967729f09d1d46",
       "version_major": 2,
       "version_minor": 0
      },
      "text/plain": [
       "  0%|          | 0/16 [00:00<?, ?it/s]"
      ]
     },
     "metadata": {},
     "output_type": "display_data"
    },
    {
     "name": "stdout",
     "output_type": "stream",
     "text": [
      "\n",
      "                Epoch: 25 / 1000 \n",
      "                | Train Loss: 0.4052140135318041 \n",
      "                | Train Dice Accuracy: 0.8435618110678412 \n",
      "            \n"
     ]
    },
    {
     "data": {
      "application/vnd.jupyter.widget-view+json": {
       "model_id": "20b3933d49054dd8908bb70a37b060ce",
       "version_major": 2,
       "version_minor": 0
      },
      "text/plain": [
       "  0%|          | 0/16 [00:00<?, ?it/s]"
      ]
     },
     "metadata": {},
     "output_type": "display_data"
    },
    {
     "name": "stdout",
     "output_type": "stream",
     "text": [
      "\n",
      "                    Epoch: 26 / 1000 \n",
      "                    | Train Loss: 0.37555752508342266 \n",
      "                    | Train Dice Accuracy: 0.8616155459817532 \n",
      "                    | Test Dice Accuracy: 0.053210788095990814\n",
      "                \n"
     ]
    },
    {
     "data": {
      "application/vnd.jupyter.widget-view+json": {
       "model_id": "7fe5acfe45df428fb43d9282c9cc4fb1",
       "version_major": 2,
       "version_minor": 0
      },
      "text/plain": [
       "  0%|          | 0/16 [00:00<?, ?it/s]"
      ]
     },
     "metadata": {},
     "output_type": "display_data"
    },
    {
     "name": "stdout",
     "output_type": "stream",
     "text": [
      "\n",
      "                Epoch: 27 / 1000 \n",
      "                | Train Loss: 0.4110723193734884 \n",
      "                | Train Dice Accuracy: 0.8409047129516778 \n",
      "            \n"
     ]
    },
    {
     "data": {
      "application/vnd.jupyter.widget-view+json": {
       "model_id": "3d7dc23ea2b44fad90d213a2392d0039",
       "version_major": 2,
       "version_minor": 0
      },
      "text/plain": [
       "  0%|          | 0/16 [00:00<?, ?it/s]"
      ]
     },
     "metadata": {},
     "output_type": "display_data"
    },
    {
     "name": "stdout",
     "output_type": "stream",
     "text": [
      "\n",
      "                    Epoch: 28 / 1000 \n",
      "                    | Train Loss: 0.3850337900221348 \n",
      "                    | Train Dice Accuracy: 0.8504422817529584 \n",
      "                    | Test Dice Accuracy: 0.05980461722032891\n",
      "                \n"
     ]
    },
    {
     "data": {
      "application/vnd.jupyter.widget-view+json": {
       "model_id": "c6a93dc63dab4667b507aae5f6a97b5a",
       "version_major": 2,
       "version_minor": 0
      },
      "text/plain": [
       "  0%|          | 0/16 [00:00<?, ?it/s]"
      ]
     },
     "metadata": {},
     "output_type": "display_data"
    },
    {
     "name": "stdout",
     "output_type": "stream",
     "text": [
      "\n",
      "                Epoch: 29 / 1000 \n",
      "                | Train Loss: 0.3872073907405138 \n",
      "                | Train Dice Accuracy: 0.8532104315278737 \n",
      "            \n"
     ]
    },
    {
     "data": {
      "application/vnd.jupyter.widget-view+json": {
       "model_id": "a4231765b21a4db2807bc13e1b6e4cfb",
       "version_major": 2,
       "version_minor": 0
      },
      "text/plain": [
       "  0%|          | 0/16 [00:00<?, ?it/s]"
      ]
     },
     "metadata": {},
     "output_type": "display_data"
    },
    {
     "name": "stdout",
     "output_type": "stream",
     "text": [
      "\n",
      "                    Epoch: 30 / 1000 \n",
      "                    | Train Loss: 0.38580600917339325 \n",
      "                    | Train Dice Accuracy: 0.8653320104863162 \n",
      "                    | Test Dice Accuracy: 0.06184695360975133\n",
      "                \n"
     ]
    },
    {
     "data": {
      "application/vnd.jupyter.widget-view+json": {
       "model_id": "74204ef024894b12bdc3d1146b590f4a",
       "version_major": 2,
       "version_minor": 0
      },
      "text/plain": [
       "  0%|          | 0/16 [00:00<?, ?it/s]"
      ]
     },
     "metadata": {},
     "output_type": "display_data"
    },
    {
     "name": "stdout",
     "output_type": "stream",
     "text": [
      "\n",
      "                Epoch: 31 / 1000 \n",
      "                | Train Loss: 0.3728746175765991 \n",
      "                | Train Dice Accuracy: 0.8586053859203233 \n",
      "            \n"
     ]
    },
    {
     "data": {
      "application/vnd.jupyter.widget-view+json": {
       "model_id": "c6b1edf5a7aa467bbb366d3ecfec9f2a",
       "version_major": 2,
       "version_minor": 0
      },
      "text/plain": [
       "  0%|          | 0/16 [00:00<?, ?it/s]"
      ]
     },
     "metadata": {},
     "output_type": "display_data"
    },
    {
     "name": "stdout",
     "output_type": "stream",
     "text": [
      "\n",
      "                    Epoch: 32 / 1000 \n",
      "                    | Train Loss: 0.3743111118674278 \n",
      "                    | Train Dice Accuracy: 0.8805090126238371 \n",
      "                    | Test Dice Accuracy: 0.08217115369107988\n",
      "                \n"
     ]
    },
    {
     "data": {
      "application/vnd.jupyter.widget-view+json": {
       "model_id": "4b9eb4f694c74bfe94a458b4ad577f5f",
       "version_major": 2,
       "version_minor": 0
      },
      "text/plain": [
       "  0%|          | 0/16 [00:00<?, ?it/s]"
      ]
     },
     "metadata": {},
     "output_type": "display_data"
    },
    {
     "name": "stdout",
     "output_type": "stream",
     "text": [
      "\n",
      "                Epoch: 33 / 1000 \n",
      "                | Train Loss: 0.3469220455735922 \n",
      "                | Train Dice Accuracy: 0.8670661553208318 \n",
      "            \n"
     ]
    },
    {
     "data": {
      "application/vnd.jupyter.widget-view+json": {
       "model_id": "d360e726c3a84e4fa9fc24684ab10fc4",
       "version_major": 2,
       "version_minor": 0
      },
      "text/plain": [
       "  0%|          | 0/16 [00:00<?, ?it/s]"
      ]
     },
     "metadata": {},
     "output_type": "display_data"
    },
    {
     "name": "stdout",
     "output_type": "stream",
     "text": [
      "\n",
      "                    Epoch: 34 / 1000 \n",
      "                    | Train Loss: 0.3620939925312996 \n",
      "                    | Train Dice Accuracy: 0.8741505314354543 \n",
      "                    | Test Dice Accuracy: 0.06512646025253667\n",
      "                \n"
     ]
    },
    {
     "data": {
      "application/vnd.jupyter.widget-view+json": {
       "model_id": "001b08d1a505425c8f915d81db8eeb43",
       "version_major": 2,
       "version_minor": 0
      },
      "text/plain": [
       "  0%|          | 0/16 [00:00<?, ?it/s]"
      ]
     },
     "metadata": {},
     "output_type": "display_data"
    },
    {
     "name": "stdout",
     "output_type": "stream",
     "text": [
      "\n",
      "                Epoch: 35 / 1000 \n",
      "                | Train Loss: 0.34618173725903034 \n",
      "                | Train Dice Accuracy: 0.875492794524639 \n",
      "            \n"
     ]
    },
    {
     "data": {
      "application/vnd.jupyter.widget-view+json": {
       "model_id": "0be44279a57a43059595d104d7d05b9a",
       "version_major": 2,
       "version_minor": 0
      },
      "text/plain": [
       "  0%|          | 0/16 [00:00<?, ?it/s]"
      ]
     },
     "metadata": {},
     "output_type": "display_data"
    },
    {
     "name": "stdout",
     "output_type": "stream",
     "text": [
      "\n",
      "                    Epoch: 36 / 1000 \n",
      "                    | Train Loss: 0.34745309315621853 \n",
      "                    | Train Dice Accuracy: 0.8698607495386307 \n",
      "                    | Test Dice Accuracy: 0.05954110684494177\n",
      "                \n"
     ]
    },
    {
     "data": {
      "application/vnd.jupyter.widget-view+json": {
       "model_id": "1dd561c431cf49d7b582f10d931058fb",
       "version_major": 2,
       "version_minor": 0
      },
      "text/plain": [
       "  0%|          | 0/16 [00:00<?, ?it/s]"
      ]
     },
     "metadata": {},
     "output_type": "display_data"
    },
    {
     "name": "stdout",
     "output_type": "stream",
     "text": [
      "\n",
      "                Epoch: 37 / 1000 \n",
      "                | Train Loss: 0.33885545283555984 \n",
      "                | Train Dice Accuracy: 0.8773250957419969 \n",
      "            \n"
     ]
    },
    {
     "data": {
      "application/vnd.jupyter.widget-view+json": {
       "model_id": "be232cf23868454eb2090f5855638b27",
       "version_major": 2,
       "version_minor": 0
      },
      "text/plain": [
       "  0%|          | 0/16 [00:00<?, ?it/s]"
      ]
     },
     "metadata": {},
     "output_type": "display_data"
    },
    {
     "name": "stdout",
     "output_type": "stream",
     "text": [
      "\n",
      "                    Epoch: 38 / 1000 \n",
      "                    | Train Loss: 0.3359177578240633 \n",
      "                    | Train Dice Accuracy: 0.8969709479531577 \n",
      "                    | Test Dice Accuracy: 0.07886295724246237\n",
      "                \n"
     ]
    },
    {
     "data": {
      "application/vnd.jupyter.widget-view+json": {
       "model_id": "b3c32908cf9b46f7b01664ef9bca07b5",
       "version_major": 2,
       "version_minor": 0
      },
      "text/plain": [
       "  0%|          | 0/16 [00:00<?, ?it/s]"
      ]
     },
     "metadata": {},
     "output_type": "display_data"
    },
    {
     "name": "stdout",
     "output_type": "stream",
     "text": [
      "\n",
      "                Epoch: 39 / 1000 \n",
      "                | Train Loss: 0.3319596881046891 \n",
      "                | Train Dice Accuracy: 0.8774825483560562 \n",
      "            \n"
     ]
    },
    {
     "data": {
      "application/vnd.jupyter.widget-view+json": {
       "model_id": "7f7099d327e44aca93fadaf472c957c7",
       "version_major": 2,
       "version_minor": 0
      },
      "text/plain": [
       "  0%|          | 0/16 [00:00<?, ?it/s]"
      ]
     },
     "metadata": {},
     "output_type": "display_data"
    },
    {
     "name": "stdout",
     "output_type": "stream",
     "text": [
      "\n",
      "                    Epoch: 40 / 1000 \n",
      "                    | Train Loss: 0.33467657305300236 \n",
      "                    | Train Dice Accuracy: 0.8823789480614336 \n",
      "                    | Test Dice Accuracy: 0.0625319644394848\n",
      "                \n"
     ]
    },
    {
     "data": {
      "application/vnd.jupyter.widget-view+json": {
       "model_id": "ac99bb85d4c2481883d1f4697f8f4077",
       "version_major": 2,
       "version_minor": 0
      },
      "text/plain": [
       "  0%|          | 0/16 [00:00<?, ?it/s]"
      ]
     },
     "metadata": {},
     "output_type": "display_data"
    },
    {
     "name": "stdout",
     "output_type": "stream",
     "text": [
      "\n",
      "                Epoch: 41 / 1000 \n",
      "                | Train Loss: 0.34528348222374916 \n",
      "                | Train Dice Accuracy: 0.881156472102651 \n",
      "            \n"
     ]
    },
    {
     "data": {
      "application/vnd.jupyter.widget-view+json": {
       "model_id": "215eabd2761442e3ae112cc29cf133d3",
       "version_major": 2,
       "version_minor": 0
      },
      "text/plain": [
       "  0%|          | 0/16 [00:00<?, ?it/s]"
      ]
     },
     "metadata": {},
     "output_type": "display_data"
    },
    {
     "name": "stdout",
     "output_type": "stream",
     "text": [
      "\n",
      "                    Epoch: 42 / 1000 \n",
      "                    | Train Loss: 0.3238226920366287 \n",
      "                    | Train Dice Accuracy: 0.8823623518421225 \n",
      "                    | Test Dice Accuracy: 0.0719085776557525\n",
      "                \n"
     ]
    },
    {
     "data": {
      "application/vnd.jupyter.widget-view+json": {
       "model_id": "50c06e9224a94b038f7c11599dc038ef",
       "version_major": 2,
       "version_minor": 0
      },
      "text/plain": [
       "  0%|          | 0/16 [00:00<?, ?it/s]"
      ]
     },
     "metadata": {},
     "output_type": "display_data"
    },
    {
     "name": "stdout",
     "output_type": "stream",
     "text": [
      "\n",
      "                Epoch: 43 / 1000 \n",
      "                | Train Loss: 0.32132852729409933 \n",
      "                | Train Dice Accuracy: 0.9042168711599016 \n",
      "            \n"
     ]
    },
    {
     "data": {
      "application/vnd.jupyter.widget-view+json": {
       "model_id": "fd584f8ce0e4407aacd5b118a139b4dd",
       "version_major": 2,
       "version_minor": 0
      },
      "text/plain": [
       "  0%|          | 0/16 [00:00<?, ?it/s]"
      ]
     },
     "metadata": {},
     "output_type": "display_data"
    },
    {
     "name": "stdout",
     "output_type": "stream",
     "text": [
      "\n",
      "                    Epoch: 44 / 1000 \n",
      "                    | Train Loss: 0.31282310374081135 \n",
      "                    | Train Dice Accuracy: 0.9030696517891355 \n",
      "                    | Test Dice Accuracy: 0.06132716809709867\n",
      "                \n"
     ]
    },
    {
     "data": {
      "application/vnd.jupyter.widget-view+json": {
       "model_id": "5bab13811fd445df8343768486c2d4f6",
       "version_major": 2,
       "version_minor": 0
      },
      "text/plain": [
       "  0%|          | 0/16 [00:00<?, ?it/s]"
      ]
     },
     "metadata": {},
     "output_type": "display_data"
    },
    {
     "name": "stdout",
     "output_type": "stream",
     "text": [
      "\n",
      "                Epoch: 45 / 1000 \n",
      "                | Train Loss: 0.34469184651970863 \n",
      "                | Train Dice Accuracy: 0.883474307117008 \n",
      "            \n"
     ]
    },
    {
     "data": {
      "application/vnd.jupyter.widget-view+json": {
       "model_id": "87812cccfb3a49eca36516b4eac6dd14",
       "version_major": 2,
       "version_minor": 0
      },
      "text/plain": [
       "  0%|          | 0/16 [00:00<?, ?it/s]"
      ]
     },
     "metadata": {},
     "output_type": "display_data"
    },
    {
     "name": "stdout",
     "output_type": "stream",
     "text": [
      "\n",
      "                    Epoch: 46 / 1000 \n",
      "                    | Train Loss: 0.3113128989934921 \n",
      "                    | Train Dice Accuracy: 0.8625031720267402 \n",
      "                    | Test Dice Accuracy: 0.07213160871631569\n",
      "                \n"
     ]
    },
    {
     "data": {
      "application/vnd.jupyter.widget-view+json": {
       "model_id": "3c472852bbe04b8da600e77da3d45d0a",
       "version_major": 2,
       "version_minor": 0
      },
      "text/plain": [
       "  0%|          | 0/16 [00:00<?, ?it/s]"
      ]
     },
     "metadata": {},
     "output_type": "display_data"
    },
    {
     "name": "stdout",
     "output_type": "stream",
     "text": [
      "\n",
      "                Epoch: 47 / 1000 \n",
      "                | Train Loss: 0.30524913780391216 \n",
      "                | Train Dice Accuracy: 0.8971948343487929 \n",
      "            \n"
     ]
    },
    {
     "data": {
      "application/vnd.jupyter.widget-view+json": {
       "model_id": "85b77089476849ff877c622bf29b0475",
       "version_major": 2,
       "version_minor": 0
      },
      "text/plain": [
       "  0%|          | 0/16 [00:00<?, ?it/s]"
      ]
     },
     "metadata": {},
     "output_type": "display_data"
    },
    {
     "name": "stdout",
     "output_type": "stream",
     "text": [
      "saved new best spleen metric model\n",
      "\n",
      "                    Epoch: 48 / 1000 \n",
      "                    | Train Loss: 0.31447959039360285 \n",
      "                    | Train Dice Accuracy: 0.8935234435250826 \n",
      "                    | Test Dice Accuracy: 0.21872547558612293\n",
      "                \n"
     ]
    },
    {
     "data": {
      "application/vnd.jupyter.widget-view+json": {
       "model_id": "0b30d940ae904f128c7b9387147b523b",
       "version_major": 2,
       "version_minor": 0
      },
      "text/plain": [
       "  0%|          | 0/16 [00:00<?, ?it/s]"
      ]
     },
     "metadata": {},
     "output_type": "display_data"
    },
    {
     "name": "stdout",
     "output_type": "stream",
     "text": [
      "\n",
      "                Epoch: 49 / 1000 \n",
      "                | Train Loss: 0.2891761874780059 \n",
      "                | Train Dice Accuracy: 0.8902685554822286 \n",
      "            \n"
     ]
    },
    {
     "data": {
      "application/vnd.jupyter.widget-view+json": {
       "model_id": "3b9b3a3a87ab400f922b50564c1426c6",
       "version_major": 2,
       "version_minor": 0
      },
      "text/plain": [
       "  0%|          | 0/16 [00:00<?, ?it/s]"
      ]
     },
     "metadata": {},
     "output_type": "display_data"
    },
    {
     "name": "stdout",
     "output_type": "stream",
     "text": [
      "\n",
      "                    Epoch: 50 / 1000 \n",
      "                    | Train Loss: 0.2831619558855891 \n",
      "                    | Train Dice Accuracy: 0.9099495531197621 \n",
      "                    | Test Dice Accuracy: 0.06992269431551297\n",
      "                \n"
     ]
    },
    {
     "data": {
      "application/vnd.jupyter.widget-view+json": {
       "model_id": "96894564689b4ca882efc854c2d9c624",
       "version_major": 2,
       "version_minor": 0
      },
      "text/plain": [
       "  0%|          | 0/16 [00:00<?, ?it/s]"
      ]
     },
     "metadata": {},
     "output_type": "display_data"
    },
    {
     "name": "stdout",
     "output_type": "stream",
     "text": [
      "\n",
      "                Epoch: 51 / 1000 \n",
      "                | Train Loss: 0.32215289026498795 \n",
      "                | Train Dice Accuracy: 0.9079277250824905 \n",
      "            \n"
     ]
    },
    {
     "data": {
      "application/vnd.jupyter.widget-view+json": {
       "model_id": "8034fb7b49cf4799ba843c6f97c12b45",
       "version_major": 2,
       "version_minor": 0
      },
      "text/plain": [
       "  0%|          | 0/16 [00:00<?, ?it/s]"
      ]
     },
     "metadata": {},
     "output_type": "display_data"
    },
    {
     "name": "stdout",
     "output_type": "stream",
     "text": [
      "\n",
      "                    Epoch: 52 / 1000 \n",
      "                    | Train Loss: 0.29942325968295336 \n",
      "                    | Train Dice Accuracy: 0.898819381740236 \n",
      "                    | Test Dice Accuracy: 0.05338434802575244\n",
      "                \n"
     ]
    },
    {
     "data": {
      "application/vnd.jupyter.widget-view+json": {
       "model_id": "d88638e42917408795e0a399c3189090",
       "version_major": 2,
       "version_minor": 0
      },
      "text/plain": [
       "  0%|          | 0/16 [00:00<?, ?it/s]"
      ]
     },
     "metadata": {},
     "output_type": "display_data"
    },
    {
     "name": "stdout",
     "output_type": "stream",
     "text": [
      "\n",
      "                Epoch: 53 / 1000 \n",
      "                | Train Loss: 0.2899273131042719 \n",
      "                | Train Dice Accuracy: 0.9025730534836098 \n",
      "            \n"
     ]
    },
    {
     "data": {
      "application/vnd.jupyter.widget-view+json": {
       "model_id": "e84b1dee56564efb8787dc444ac89192",
       "version_major": 2,
       "version_minor": 0
      },
      "text/plain": [
       "  0%|          | 0/16 [00:00<?, ?it/s]"
      ]
     },
     "metadata": {},
     "output_type": "display_data"
    },
    {
     "name": "stdout",
     "output_type": "stream",
     "text": [
      "\n",
      "                    Epoch: 54 / 1000 \n",
      "                    | Train Loss: 0.2896126816049218 \n",
      "                    | Train Dice Accuracy: 0.8798540378255504 \n",
      "                    | Test Dice Accuracy: 0.06617280344168346\n",
      "                \n"
     ]
    },
    {
     "data": {
      "application/vnd.jupyter.widget-view+json": {
       "model_id": "716e2ed1531040a2b490adcd0b1ee051",
       "version_major": 2,
       "version_minor": 0
      },
      "text/plain": [
       "  0%|          | 0/16 [00:00<?, ?it/s]"
      ]
     },
     "metadata": {},
     "output_type": "display_data"
    },
    {
     "name": "stdout",
     "output_type": "stream",
     "text": [
      "\n",
      "                Epoch: 55 / 1000 \n",
      "                | Train Loss: 0.30607353895902634 \n",
      "                | Train Dice Accuracy: 0.9044419014957589 \n",
      "            \n"
     ]
    },
    {
     "data": {
      "application/vnd.jupyter.widget-view+json": {
       "model_id": "e109a074eef043528a7ade9a460d0e06",
       "version_major": 2,
       "version_minor": 0
      },
      "text/plain": [
       "  0%|          | 0/16 [00:00<?, ?it/s]"
      ]
     },
     "metadata": {},
     "output_type": "display_data"
    },
    {
     "name": "stdout",
     "output_type": "stream",
     "text": [
      "\n",
      "                    Epoch: 56 / 1000 \n",
      "                    | Train Loss: 0.28926952835172415 \n",
      "                    | Train Dice Accuracy: 0.9088491860915113 \n",
      "                    | Test Dice Accuracy: 0.05793391406122181\n",
      "                \n"
     ]
    },
    {
     "data": {
      "application/vnd.jupyter.widget-view+json": {
       "model_id": "10dd92166fa84c778d9cff501a6940a7",
       "version_major": 2,
       "version_minor": 0
      },
      "text/plain": [
       "  0%|          | 0/16 [00:00<?, ?it/s]"
      ]
     },
     "metadata": {},
     "output_type": "display_data"
    },
    {
     "name": "stdout",
     "output_type": "stream",
     "text": [
      "\n",
      "                Epoch: 57 / 1000 \n",
      "                | Train Loss: 0.2721704002469778 \n",
      "                | Train Dice Accuracy: 0.9020241726769341 \n",
      "            \n"
     ]
    },
    {
     "data": {
      "application/vnd.jupyter.widget-view+json": {
       "model_id": "cbf9fafcb9b04ea083555cbb1b144877",
       "version_major": 2,
       "version_minor": 0
      },
      "text/plain": [
       "  0%|          | 0/16 [00:00<?, ?it/s]"
      ]
     },
     "metadata": {},
     "output_type": "display_data"
    },
    {
     "name": "stdout",
     "output_type": "stream",
     "text": [
      "\n",
      "                    Epoch: 58 / 1000 \n",
      "                    | Train Loss: 0.2747459886595607 \n",
      "                    | Train Dice Accuracy: 0.9145823510156738 \n",
      "                    | Test Dice Accuracy: 0.05484781755755345\n",
      "                \n"
     ]
    },
    {
     "data": {
      "application/vnd.jupyter.widget-view+json": {
       "model_id": "f8a55d4d4ff445cdb34ab9a53583506b",
       "version_major": 2,
       "version_minor": 0
      },
      "text/plain": [
       "  0%|          | 0/16 [00:00<?, ?it/s]"
      ]
     },
     "metadata": {},
     "output_type": "display_data"
    },
    {
     "name": "stdout",
     "output_type": "stream",
     "text": [
      "\n",
      "                Epoch: 59 / 1000 \n",
      "                | Train Loss: 0.2875687265768647 \n",
      "                | Train Dice Accuracy: 0.9157825753373919 \n",
      "            \n"
     ]
    },
    {
     "data": {
      "application/vnd.jupyter.widget-view+json": {
       "model_id": "ac54cb31df0446459af9a47569d73e21",
       "version_major": 2,
       "version_minor": 0
      },
      "text/plain": [
       "  0%|          | 0/16 [00:00<?, ?it/s]"
      ]
     },
     "metadata": {},
     "output_type": "display_data"
    },
    {
     "name": "stdout",
     "output_type": "stream",
     "text": [
      "\n",
      "                    Epoch: 60 / 1000 \n",
      "                    | Train Loss: 0.2836744710803032 \n",
      "                    | Train Dice Accuracy: 0.9032076246117893 \n",
      "                    | Test Dice Accuracy: 0.06887494958937168\n",
      "                \n"
     ]
    },
    {
     "data": {
      "application/vnd.jupyter.widget-view+json": {
       "model_id": "d66136e9ece943a8a6a202d505a4ab73",
       "version_major": 2,
       "version_minor": 0
      },
      "text/plain": [
       "  0%|          | 0/16 [00:00<?, ?it/s]"
      ]
     },
     "metadata": {},
     "output_type": "display_data"
    },
    {
     "name": "stdout",
     "output_type": "stream",
     "text": [
      "\n",
      "                Epoch: 61 / 1000 \n",
      "                | Train Loss: 0.2844389611855149 \n",
      "                | Train Dice Accuracy: 0.9162805066422117 \n",
      "            \n"
     ]
    },
    {
     "data": {
      "application/vnd.jupyter.widget-view+json": {
       "model_id": "628f20f6d0ce47faa1f495d5ff42bd0e",
       "version_major": 2,
       "version_minor": 0
      },
      "text/plain": [
       "  0%|          | 0/16 [00:00<?, ?it/s]"
      ]
     },
     "metadata": {},
     "output_type": "display_data"
    },
    {
     "name": "stdout",
     "output_type": "stream",
     "text": [
      "\n",
      "                    Epoch: 62 / 1000 \n",
      "                    | Train Loss: 0.2771905465051532 \n",
      "                    | Train Dice Accuracy: 0.909115198323893 \n",
      "                    | Test Dice Accuracy: 0.06534117874171999\n",
      "                \n"
     ]
    },
    {
     "data": {
      "application/vnd.jupyter.widget-view+json": {
       "model_id": "446001523daa495b8766746f047624e6",
       "version_major": 2,
       "version_minor": 0
      },
      "text/plain": [
       "  0%|          | 0/16 [00:00<?, ?it/s]"
      ]
     },
     "metadata": {},
     "output_type": "display_data"
    },
    {
     "name": "stdout",
     "output_type": "stream",
     "text": [
      "\n",
      "                Epoch: 63 / 1000 \n",
      "                | Train Loss: 0.2783885970711708 \n",
      "                | Train Dice Accuracy: 0.910896177882346 \n",
      "            \n"
     ]
    },
    {
     "data": {
      "application/vnd.jupyter.widget-view+json": {
       "model_id": "2661453f08254d77949b7f3003a86dff",
       "version_major": 2,
       "version_minor": 0
      },
      "text/plain": [
       "  0%|          | 0/16 [00:00<?, ?it/s]"
      ]
     },
     "metadata": {},
     "output_type": "display_data"
    },
    {
     "name": "stdout",
     "output_type": "stream",
     "text": [
      "\n",
      "                    Epoch: 64 / 1000 \n",
      "                    | Train Loss: 0.2602444952353835 \n",
      "                    | Train Dice Accuracy: 0.9101589668441463 \n",
      "                    | Test Dice Accuracy: 0.07157736437188254\n",
      "                \n"
     ]
    },
    {
     "data": {
      "application/vnd.jupyter.widget-view+json": {
       "model_id": "023a97538f174d259115a58fad576dd0",
       "version_major": 2,
       "version_minor": 0
      },
      "text/plain": [
       "  0%|          | 0/16 [00:00<?, ?it/s]"
      ]
     },
     "metadata": {},
     "output_type": "display_data"
    },
    {
     "name": "stdout",
     "output_type": "stream",
     "text": [
      "\n",
      "                Epoch: 65 / 1000 \n",
      "                | Train Loss: 0.2833138518035412 \n",
      "                | Train Dice Accuracy: 0.9280600423974116 \n",
      "            \n"
     ]
    },
    {
     "data": {
      "application/vnd.jupyter.widget-view+json": {
       "model_id": "79dd1083d57e47c9a01fd08d4b995fd9",
       "version_major": 2,
       "version_minor": 0
      },
      "text/plain": [
       "  0%|          | 0/16 [00:00<?, ?it/s]"
      ]
     },
     "metadata": {},
     "output_type": "display_data"
    },
    {
     "name": "stdout",
     "output_type": "stream",
     "text": [
      "\n",
      "                    Epoch: 66 / 1000 \n",
      "                    | Train Loss: 0.26483725756406784 \n",
      "                    | Train Dice Accuracy: 0.9207097241811664 \n",
      "                    | Test Dice Accuracy: 0.09066088497638702\n",
      "                \n"
     ]
    },
    {
     "data": {
      "application/vnd.jupyter.widget-view+json": {
       "model_id": "eb0d0e0426a04e50af76250222a1249f",
       "version_major": 2,
       "version_minor": 0
      },
      "text/plain": [
       "  0%|          | 0/16 [00:00<?, ?it/s]"
      ]
     },
     "metadata": {},
     "output_type": "display_data"
    },
    {
     "name": "stdout",
     "output_type": "stream",
     "text": [
      "\n",
      "                Epoch: 67 / 1000 \n",
      "                | Train Loss: 0.2702259849756956 \n",
      "                | Train Dice Accuracy: 0.9215000483477227 \n",
      "            \n"
     ]
    },
    {
     "data": {
      "application/vnd.jupyter.widget-view+json": {
       "model_id": "e1d62f22f16b46389a2948e0418d9966",
       "version_major": 2,
       "version_minor": 0
      },
      "text/plain": [
       "  0%|          | 0/16 [00:00<?, ?it/s]"
      ]
     },
     "metadata": {},
     "output_type": "display_data"
    },
    {
     "name": "stdout",
     "output_type": "stream",
     "text": [
      "\n",
      "                    Epoch: 68 / 1000 \n",
      "                    | Train Loss: 0.2706671953201294 \n",
      "                    | Train Dice Accuracy: 0.9066260730454682 \n",
      "                    | Test Dice Accuracy: 0.07042349668012725\n",
      "                \n"
     ]
    },
    {
     "data": {
      "application/vnd.jupyter.widget-view+json": {
       "model_id": "f7041f7c9f854e3fa70b6119a6101792",
       "version_major": 2,
       "version_minor": 0
      },
      "text/plain": [
       "  0%|          | 0/16 [00:00<?, ?it/s]"
      ]
     },
     "metadata": {},
     "output_type": "display_data"
    },
    {
     "name": "stdout",
     "output_type": "stream",
     "text": [
      "\n",
      "                Epoch: 69 / 1000 \n",
      "                | Train Loss: 0.24188572634011507 \n",
      "                | Train Dice Accuracy: 0.9187064128451877 \n",
      "            \n"
     ]
    },
    {
     "data": {
      "application/vnd.jupyter.widget-view+json": {
       "model_id": "7955e95726a843fbb1d3c8dc440edef5",
       "version_major": 2,
       "version_minor": 0
      },
      "text/plain": [
       "  0%|          | 0/16 [00:00<?, ?it/s]"
      ]
     },
     "metadata": {},
     "output_type": "display_data"
    },
    {
     "name": "stdout",
     "output_type": "stream",
     "text": [
      "\n",
      "                    Epoch: 70 / 1000 \n",
      "                    | Train Loss: 0.28830852918326855 \n",
      "                    | Train Dice Accuracy: 0.9129347020671481 \n",
      "                    | Test Dice Accuracy: 0.08499731868505478\n",
      "                \n"
     ]
    },
    {
     "data": {
      "application/vnd.jupyter.widget-view+json": {
       "model_id": "373a7aa6a2f7482d8f86cb87cf5eb7fc",
       "version_major": 2,
       "version_minor": 0
      },
      "text/plain": [
       "  0%|          | 0/16 [00:00<?, ?it/s]"
      ]
     },
     "metadata": {},
     "output_type": "display_data"
    },
    {
     "name": "stdout",
     "output_type": "stream",
     "text": [
      "\n",
      "                Epoch: 71 / 1000 \n",
      "                | Train Loss: 0.2516889786347747 \n",
      "                | Train Dice Accuracy: 0.9149472948608048 \n",
      "            \n"
     ]
    },
    {
     "data": {
      "application/vnd.jupyter.widget-view+json": {
       "model_id": "574dd063b9df42bb8e0529077831de1f",
       "version_major": 2,
       "version_minor": 0
      },
      "text/plain": [
       "  0%|          | 0/16 [00:00<?, ?it/s]"
      ]
     },
     "metadata": {},
     "output_type": "display_data"
    },
    {
     "name": "stdout",
     "output_type": "stream",
     "text": [
      "\n",
      "                    Epoch: 72 / 1000 \n",
      "                    | Train Loss: 0.2697126418352127 \n",
      "                    | Train Dice Accuracy: 0.9246958274886293 \n",
      "                    | Test Dice Accuracy: 0.0630422890600231\n",
      "                \n"
     ]
    },
    {
     "data": {
      "application/vnd.jupyter.widget-view+json": {
       "model_id": "8516cc9e524c487d93c7e89b08724431",
       "version_major": 2,
       "version_minor": 0
      },
      "text/plain": [
       "  0%|          | 0/16 [00:00<?, ?it/s]"
      ]
     },
     "metadata": {},
     "output_type": "display_data"
    },
    {
     "name": "stdout",
     "output_type": "stream",
     "text": [
      "\n",
      "                Epoch: 73 / 1000 \n",
      "                | Train Loss: 0.2521069822832942 \n",
      "                | Train Dice Accuracy: 0.9226866166712502 \n",
      "            \n"
     ]
    },
    {
     "data": {
      "application/vnd.jupyter.widget-view+json": {
       "model_id": "3b6ecff645034f2f83ac28176fbd366b",
       "version_major": 2,
       "version_minor": 0
      },
      "text/plain": [
       "  0%|          | 0/16 [00:00<?, ?it/s]"
      ]
     },
     "metadata": {},
     "output_type": "display_data"
    },
    {
     "name": "stdout",
     "output_type": "stream",
     "text": [
      "\n",
      "                    Epoch: 74 / 1000 \n",
      "                    | Train Loss: 0.2501053484156728 \n",
      "                    | Train Dice Accuracy: 0.91459301852305 \n",
      "                    | Test Dice Accuracy: 0.07084678030676311\n",
      "                \n"
     ]
    },
    {
     "data": {
      "application/vnd.jupyter.widget-view+json": {
       "model_id": "37040da5d9ed4a5496b65bb843c25835",
       "version_major": 2,
       "version_minor": 0
      },
      "text/plain": [
       "  0%|          | 0/16 [00:00<?, ?it/s]"
      ]
     },
     "metadata": {},
     "output_type": "display_data"
    },
    {
     "name": "stdout",
     "output_type": "stream",
     "text": [
      "\n",
      "                Epoch: 75 / 1000 \n",
      "                | Train Loss: 0.2511612419039011 \n",
      "                | Train Dice Accuracy: 0.9201351161356326 \n",
      "            \n"
     ]
    },
    {
     "data": {
      "application/vnd.jupyter.widget-view+json": {
       "model_id": "96fee62398d346fdba78e1cf4e827768",
       "version_major": 2,
       "version_minor": 0
      },
      "text/plain": [
       "  0%|          | 0/16 [00:00<?, ?it/s]"
      ]
     },
     "metadata": {},
     "output_type": "display_data"
    },
    {
     "name": "stdout",
     "output_type": "stream",
     "text": [
      "\n",
      "                    Epoch: 76 / 1000 \n",
      "                    | Train Loss: 0.2643912360072136 \n",
      "                    | Train Dice Accuracy: 0.9257841399818096 \n",
      "                    | Test Dice Accuracy: 0.07513957988056871\n",
      "                \n"
     ]
    },
    {
     "data": {
      "application/vnd.jupyter.widget-view+json": {
       "model_id": "e01502afcf5e47aab51d9d12e863c079",
       "version_major": 2,
       "version_minor": 0
      },
      "text/plain": [
       "  0%|          | 0/16 [00:00<?, ?it/s]"
      ]
     },
     "metadata": {},
     "output_type": "display_data"
    },
    {
     "name": "stdout",
     "output_type": "stream",
     "text": [
      "\n",
      "                Epoch: 77 / 1000 \n",
      "                | Train Loss: 0.26232821494340897 \n",
      "                | Train Dice Accuracy: 0.9167460264161575 \n",
      "            \n"
     ]
    },
    {
     "data": {
      "application/vnd.jupyter.widget-view+json": {
       "model_id": "95f63b0ea1d047a79f7082629c0f9289",
       "version_major": 2,
       "version_minor": 0
      },
      "text/plain": [
       "  0%|          | 0/16 [00:00<?, ?it/s]"
      ]
     },
     "metadata": {},
     "output_type": "display_data"
    },
    {
     "name": "stdout",
     "output_type": "stream",
     "text": [
      "\n",
      "                    Epoch: 78 / 1000 \n",
      "                    | Train Loss: 0.2597049428150058 \n",
      "                    | Train Dice Accuracy: 0.9334833466611202 \n",
      "                    | Test Dice Accuracy: 0.08848041544357936\n",
      "                \n"
     ]
    },
    {
     "data": {
      "application/vnd.jupyter.widget-view+json": {
       "model_id": "ba36e802bdaf40d981dabff7c7c70fd1",
       "version_major": 2,
       "version_minor": 0
      },
      "text/plain": [
       "  0%|          | 0/16 [00:00<?, ?it/s]"
      ]
     },
     "metadata": {},
     "output_type": "display_data"
    },
    {
     "name": "stdout",
     "output_type": "stream",
     "text": [
      "\n",
      "                Epoch: 79 / 1000 \n",
      "                | Train Loss: 0.24770363699644804 \n",
      "                | Train Dice Accuracy: 0.9156918107369624 \n",
      "            \n"
     ]
    },
    {
     "data": {
      "application/vnd.jupyter.widget-view+json": {
       "model_id": "44177a8555af496289909b1566147a98",
       "version_major": 2,
       "version_minor": 0
      },
      "text/plain": [
       "  0%|          | 0/16 [00:00<?, ?it/s]"
      ]
     },
     "metadata": {},
     "output_type": "display_data"
    },
    {
     "name": "stdout",
     "output_type": "stream",
     "text": [
      "\n",
      "                    Epoch: 80 / 1000 \n",
      "                    | Train Loss: 0.24690588656812906 \n",
      "                    | Train Dice Accuracy: 0.9278952701849872 \n",
      "                    | Test Dice Accuracy: 0.0589378864193956\n",
      "                \n"
     ]
    },
    {
     "data": {
      "application/vnd.jupyter.widget-view+json": {
       "model_id": "4ffa64358c2144659577b5f86bd03787",
       "version_major": 2,
       "version_minor": 0
      },
      "text/plain": [
       "  0%|          | 0/16 [00:00<?, ?it/s]"
      ]
     },
     "metadata": {},
     "output_type": "display_data"
    },
    {
     "name": "stdout",
     "output_type": "stream",
     "text": [
      "\n",
      "                Epoch: 81 / 1000 \n",
      "                | Train Loss: 0.29077798686921597 \n",
      "                | Train Dice Accuracy: 0.9064775261168296 \n",
      "            \n"
     ]
    },
    {
     "data": {
      "application/vnd.jupyter.widget-view+json": {
       "model_id": "a72718b57d80474494f11f126b18a102",
       "version_major": 2,
       "version_minor": 0
      },
      "text/plain": [
       "  0%|          | 0/16 [00:00<?, ?it/s]"
      ]
     },
     "metadata": {},
     "output_type": "display_data"
    },
    {
     "name": "stdout",
     "output_type": "stream",
     "text": [
      "\n",
      "                    Epoch: 82 / 1000 \n",
      "                    | Train Loss: 0.2749075898900628 \n",
      "                    | Train Dice Accuracy: 0.9265106099729354 \n",
      "                    | Test Dice Accuracy: 0.0776464639024602\n",
      "                \n"
     ]
    },
    {
     "data": {
      "application/vnd.jupyter.widget-view+json": {
       "model_id": "632d58c517ae41aab5d561f38739705e",
       "version_major": 2,
       "version_minor": 0
      },
      "text/plain": [
       "  0%|          | 0/16 [00:00<?, ?it/s]"
      ]
     },
     "metadata": {},
     "output_type": "display_data"
    },
    {
     "name": "stdout",
     "output_type": "stream",
     "text": [
      "\n",
      "                Epoch: 83 / 1000 \n",
      "                | Train Loss: 0.2585392827168107 \n",
      "                | Train Dice Accuracy: 0.9051417903416717 \n",
      "            \n"
     ]
    },
    {
     "data": {
      "application/vnd.jupyter.widget-view+json": {
       "model_id": "4eb3caf7282149ffa4e67080083b2981",
       "version_major": 2,
       "version_minor": 0
      },
      "text/plain": [
       "  0%|          | 0/16 [00:00<?, ?it/s]"
      ]
     },
     "metadata": {},
     "output_type": "display_data"
    },
    {
     "name": "stdout",
     "output_type": "stream",
     "text": [
      "\n",
      "                    Epoch: 84 / 1000 \n",
      "                    | Train Loss: 0.2658049860037863 \n",
      "                    | Train Dice Accuracy: 0.9146131423284423 \n",
      "                    | Test Dice Accuracy: 0.12993237003684044\n",
      "                \n"
     ]
    },
    {
     "data": {
      "application/vnd.jupyter.widget-view+json": {
       "model_id": "4b6621ffa0a54703bc7d98beec615010",
       "version_major": 2,
       "version_minor": 0
      },
      "text/plain": [
       "  0%|          | 0/16 [00:00<?, ?it/s]"
      ]
     },
     "metadata": {},
     "output_type": "display_data"
    },
    {
     "name": "stdout",
     "output_type": "stream",
     "text": [
      "\n",
      "                Epoch: 85 / 1000 \n",
      "                | Train Loss: 0.23591846227645874 \n",
      "                | Train Dice Accuracy: 0.9250044852631277 \n",
      "            \n"
     ]
    },
    {
     "data": {
      "application/vnd.jupyter.widget-view+json": {
       "model_id": "313517d236c04612adfd613e9bd7f670",
       "version_major": 2,
       "version_minor": 0
      },
      "text/plain": [
       "  0%|          | 0/16 [00:00<?, ?it/s]"
      ]
     },
     "metadata": {},
     "output_type": "display_data"
    },
    {
     "name": "stdout",
     "output_type": "stream",
     "text": [
      "\n",
      "                    Epoch: 86 / 1000 \n",
      "                    | Train Loss: 0.242819057777524 \n",
      "                    | Train Dice Accuracy: 0.9323240635006926 \n",
      "                    | Test Dice Accuracy: 0.07056425967150265\n",
      "                \n"
     ]
    },
    {
     "data": {
      "application/vnd.jupyter.widget-view+json": {
       "model_id": "4006a7ec742849fb9546d3191c3c0f33",
       "version_major": 2,
       "version_minor": 0
      },
      "text/plain": [
       "  0%|          | 0/16 [00:00<?, ?it/s]"
      ]
     },
     "metadata": {},
     "output_type": "display_data"
    },
    {
     "name": "stdout",
     "output_type": "stream",
     "text": [
      "\n",
      "                Epoch: 87 / 1000 \n",
      "                | Train Loss: 0.25772444903850555 \n",
      "                | Train Dice Accuracy: 0.9332406072389512 \n",
      "            \n"
     ]
    },
    {
     "data": {
      "application/vnd.jupyter.widget-view+json": {
       "model_id": "60316597efa2409cb4773a4ff3f8a2e4",
       "version_major": 2,
       "version_minor": 0
      },
      "text/plain": [
       "  0%|          | 0/16 [00:00<?, ?it/s]"
      ]
     },
     "metadata": {},
     "output_type": "display_data"
    },
    {
     "name": "stdout",
     "output_type": "stream",
     "text": [
      "\n",
      "                    Epoch: 88 / 1000 \n",
      "                    | Train Loss: 0.2456688741222024 \n",
      "                    | Train Dice Accuracy: 0.9246488989785661 \n",
      "                    | Test Dice Accuracy: 0.08195514749321672\n",
      "                \n"
     ]
    },
    {
     "data": {
      "application/vnd.jupyter.widget-view+json": {
       "model_id": "fac9cbb9b62e42b19b63c9a039f5e6c0",
       "version_major": 2,
       "version_minor": 0
      },
      "text/plain": [
       "  0%|          | 0/16 [00:00<?, ?it/s]"
      ]
     },
     "metadata": {},
     "output_type": "display_data"
    },
    {
     "name": "stdout",
     "output_type": "stream",
     "text": [
      "\n",
      "                Epoch: 89 / 1000 \n",
      "                | Train Loss: 0.24013112392276525 \n",
      "                | Train Dice Accuracy: 0.9343746067764603 \n",
      "            \n"
     ]
    },
    {
     "data": {
      "application/vnd.jupyter.widget-view+json": {
       "model_id": "e0fdb2a6ebaf44089d050e437e568078",
       "version_major": 2,
       "version_minor": 0
      },
      "text/plain": [
       "  0%|          | 0/16 [00:00<?, ?it/s]"
      ]
     },
     "metadata": {},
     "output_type": "display_data"
    },
    {
     "name": "stdout",
     "output_type": "stream",
     "text": [
      "\n",
      "                    Epoch: 90 / 1000 \n",
      "                    | Train Loss: 0.2309542503207922 \n",
      "                    | Train Dice Accuracy: 0.8970515733248337 \n",
      "                    | Test Dice Accuracy: 0.07244843223856555\n",
      "                \n"
     ]
    },
    {
     "data": {
      "application/vnd.jupyter.widget-view+json": {
       "model_id": "286667f38f5e498a880229e9e6d88ba7",
       "version_major": 2,
       "version_minor": 0
      },
      "text/plain": [
       "  0%|          | 0/16 [00:00<?, ?it/s]"
      ]
     },
     "metadata": {},
     "output_type": "display_data"
    },
    {
     "name": "stdout",
     "output_type": "stream",
     "text": [
      "\n",
      "                Epoch: 91 / 1000 \n",
      "                | Train Loss: 0.2458480317145586 \n",
      "                | Train Dice Accuracy: 0.9216205621207202 \n",
      "            \n"
     ]
    },
    {
     "data": {
      "application/vnd.jupyter.widget-view+json": {
       "model_id": "c40c437f78124523be3bf8ba87a64565",
       "version_major": 2,
       "version_minor": 0
      },
      "text/plain": [
       "  0%|          | 0/16 [00:00<?, ?it/s]"
      ]
     },
     "metadata": {},
     "output_type": "display_data"
    },
    {
     "name": "stdout",
     "output_type": "stream",
     "text": [
      "\n",
      "                    Epoch: 92 / 1000 \n",
      "                    | Train Loss: 0.23210174590349197 \n",
      "                    | Train Dice Accuracy: 0.9226258002459731 \n",
      "                    | Test Dice Accuracy: 0.09515071287751198\n",
      "                \n"
     ]
    },
    {
     "data": {
      "application/vnd.jupyter.widget-view+json": {
       "model_id": "a3d736d0eece4166b25f0f8f251d6fce",
       "version_major": 2,
       "version_minor": 0
      },
      "text/plain": [
       "  0%|          | 0/16 [00:00<?, ?it/s]"
      ]
     },
     "metadata": {},
     "output_type": "display_data"
    },
    {
     "name": "stdout",
     "output_type": "stream",
     "text": [
      "\n",
      "                Epoch: 93 / 1000 \n",
      "                | Train Loss: 0.23860917054116726 \n",
      "                | Train Dice Accuracy: 0.9272559279695564 \n",
      "            \n"
     ]
    },
    {
     "data": {
      "application/vnd.jupyter.widget-view+json": {
       "model_id": "9ee74e422b20417da7719d485ff6bd0a",
       "version_major": 2,
       "version_minor": 0
      },
      "text/plain": [
       "  0%|          | 0/16 [00:00<?, ?it/s]"
      ]
     },
     "metadata": {},
     "output_type": "display_data"
    },
    {
     "name": "stdout",
     "output_type": "stream",
     "text": [
      "saved new best spleen metric model\n",
      "\n",
      "                    Epoch: 94 / 1000 \n",
      "                    | Train Loss: 0.2557867029681802 \n",
      "                    | Train Dice Accuracy: 0.9143100302543998 \n",
      "                    | Test Dice Accuracy: 0.26910851067966884\n",
      "                \n"
     ]
    },
    {
     "data": {
      "application/vnd.jupyter.widget-view+json": {
       "model_id": "9b5190199e9a4835baa293e77bc8725d",
       "version_major": 2,
       "version_minor": 0
      },
      "text/plain": [
       "  0%|          | 0/16 [00:00<?, ?it/s]"
      ]
     },
     "metadata": {},
     "output_type": "display_data"
    },
    {
     "name": "stdout",
     "output_type": "stream",
     "text": [
      "\n",
      "                Epoch: 95 / 1000 \n",
      "                | Train Loss: 0.2593510178849101 \n",
      "                | Train Dice Accuracy: 0.895728325843811 \n",
      "            \n"
     ]
    },
    {
     "data": {
      "application/vnd.jupyter.widget-view+json": {
       "model_id": "28305bfd55fa45348e93938b6043d11e",
       "version_major": 2,
       "version_minor": 0
      },
      "text/plain": [
       "  0%|          | 0/16 [00:00<?, ?it/s]"
      ]
     },
     "metadata": {},
     "output_type": "display_data"
    },
    {
     "name": "stdout",
     "output_type": "stream",
     "text": [
      "\n",
      "                    Epoch: 96 / 1000 \n",
      "                    | Train Loss: 0.2323256004601717 \n",
      "                    | Train Dice Accuracy: 0.9144731356339021 \n",
      "                    | Test Dice Accuracy: 0.0602981091166536\n",
      "                \n"
     ]
    },
    {
     "data": {
      "application/vnd.jupyter.widget-view+json": {
       "model_id": "add47b8867d4476082a94b5f0aed360f",
       "version_major": 2,
       "version_minor": 0
      },
      "text/plain": [
       "  0%|          | 0/16 [00:00<?, ?it/s]"
      ]
     },
     "metadata": {},
     "output_type": "display_data"
    },
    {
     "name": "stdout",
     "output_type": "stream",
     "text": [
      "\n",
      "                Epoch: 97 / 1000 \n",
      "                | Train Loss: 0.2421812992542982 \n",
      "                | Train Dice Accuracy: 0.9354116320610046 \n",
      "            \n"
     ]
    },
    {
     "data": {
      "application/vnd.jupyter.widget-view+json": {
       "model_id": "3e73ea89700946448dc4ed8487239ce2",
       "version_major": 2,
       "version_minor": 0
      },
      "text/plain": [
       "  0%|          | 0/16 [00:00<?, ?it/s]"
      ]
     },
     "metadata": {},
     "output_type": "display_data"
    },
    {
     "name": "stdout",
     "output_type": "stream",
     "text": [
      "\n",
      "                    Epoch: 98 / 1000 \n",
      "                    | Train Loss: 0.19553101202473044 \n",
      "                    | Train Dice Accuracy: 0.9229882273984992 \n",
      "                    | Test Dice Accuracy: 0.06197690301471286\n",
      "                \n"
     ]
    },
    {
     "data": {
      "application/vnd.jupyter.widget-view+json": {
       "model_id": "e0a9c76e977d4771abfe35fc57ad5471",
       "version_major": 2,
       "version_minor": 0
      },
      "text/plain": [
       "  0%|          | 0/16 [00:00<?, ?it/s]"
      ]
     },
     "metadata": {},
     "output_type": "display_data"
    },
    {
     "name": "stdout",
     "output_type": "stream",
     "text": [
      "\n",
      "                Epoch: 99 / 1000 \n",
      "                | Train Loss: 0.23124095425009727 \n",
      "                | Train Dice Accuracy: 0.9257835147018256 \n",
      "            \n"
     ]
    },
    {
     "data": {
      "application/vnd.jupyter.widget-view+json": {
       "model_id": "4281928f646c496ab1657737ba473b38",
       "version_major": 2,
       "version_minor": 0
      },
      "text/plain": [
       "  0%|          | 0/16 [00:00<?, ?it/s]"
      ]
     },
     "metadata": {},
     "output_type": "display_data"
    },
    {
     "name": "stdout",
     "output_type": "stream",
     "text": [
      "\n",
      "                    Epoch: 100 / 1000 \n",
      "                    | Train Loss: 0.20113376062363386 \n",
      "                    | Train Dice Accuracy: 0.9258369152483187 \n",
      "                    | Test Dice Accuracy: 0.08612288265592521\n",
      "                \n"
     ]
    },
    {
     "data": {
      "application/vnd.jupyter.widget-view+json": {
       "model_id": "ed6984715122420582d51529baf66f10",
       "version_major": 2,
       "version_minor": 0
      },
      "text/plain": [
       "  0%|          | 0/16 [00:00<?, ?it/s]"
      ]
     },
     "metadata": {},
     "output_type": "display_data"
    },
    {
     "name": "stdout",
     "output_type": "stream",
     "text": [
      "\n",
      "                Epoch: 101 / 1000 \n",
      "                | Train Loss: 0.24842726904898882 \n",
      "                | Train Dice Accuracy: 0.9294228981918012 \n",
      "            \n"
     ]
    },
    {
     "data": {
      "application/vnd.jupyter.widget-view+json": {
       "model_id": "4bbe532e0f6847fab6e44e1b6d7c6762",
       "version_major": 2,
       "version_minor": 0
      },
      "text/plain": [
       "  0%|          | 0/16 [00:00<?, ?it/s]"
      ]
     },
     "metadata": {},
     "output_type": "display_data"
    },
    {
     "name": "stdout",
     "output_type": "stream",
     "text": [
      "\n",
      "                    Epoch: 102 / 1000 \n",
      "                    | Train Loss: 0.2428598701953888 \n",
      "                    | Train Dice Accuracy: 0.9155105751588803 \n",
      "                    | Test Dice Accuracy: 0.06966237723827362\n",
      "                \n"
     ]
    },
    {
     "data": {
      "application/vnd.jupyter.widget-view+json": {
       "model_id": "5a71f73df0d9472ab638a772ca9cd5fc",
       "version_major": 2,
       "version_minor": 0
      },
      "text/plain": [
       "  0%|          | 0/16 [00:00<?, ?it/s]"
      ]
     },
     "metadata": {},
     "output_type": "display_data"
    },
    {
     "name": "stdout",
     "output_type": "stream",
     "text": [
      "\n",
      "                Epoch: 103 / 1000 \n",
      "                | Train Loss: 0.19293704675510526 \n",
      "                | Train Dice Accuracy: 0.9338038434497024 \n",
      "            \n"
     ]
    },
    {
     "data": {
      "application/vnd.jupyter.widget-view+json": {
       "model_id": "a7ca1f0361b1430d9bb31a6f111d2775",
       "version_major": 2,
       "version_minor": 0
      },
      "text/plain": [
       "  0%|          | 0/16 [00:00<?, ?it/s]"
      ]
     },
     "metadata": {},
     "output_type": "display_data"
    },
    {
     "name": "stdout",
     "output_type": "stream",
     "text": [
      "\n",
      "                    Epoch: 104 / 1000 \n",
      "                    | Train Loss: 0.24878318421542645 \n",
      "                    | Train Dice Accuracy: 0.9481947381715268 \n",
      "                    | Test Dice Accuracy: 0.19934199957384002\n",
      "                \n"
     ]
    },
    {
     "data": {
      "application/vnd.jupyter.widget-view+json": {
       "model_id": "2a5dd2d9b0784dd9a21129a55281d3aa",
       "version_major": 2,
       "version_minor": 0
      },
      "text/plain": [
       "  0%|          | 0/16 [00:00<?, ?it/s]"
      ]
     },
     "metadata": {},
     "output_type": "display_data"
    },
    {
     "name": "stdout",
     "output_type": "stream",
     "text": [
      "\n",
      "                Epoch: 105 / 1000 \n",
      "                | Train Loss: 0.24504608567804098 \n",
      "                | Train Dice Accuracy: 0.933234600525982 \n",
      "            \n"
     ]
    },
    {
     "data": {
      "application/vnd.jupyter.widget-view+json": {
       "model_id": "9a35526adb424d5a9927515fc6befa12",
       "version_major": 2,
       "version_minor": 0
      },
      "text/plain": [
       "  0%|          | 0/16 [00:00<?, ?it/s]"
      ]
     },
     "metadata": {},
     "output_type": "display_data"
    },
    {
     "name": "stdout",
     "output_type": "stream",
     "text": [
      "\n",
      "                    Epoch: 106 / 1000 \n",
      "                    | Train Loss: 0.21678748447448015 \n",
      "                    | Train Dice Accuracy: 0.9270681031725624 \n",
      "                    | Test Dice Accuracy: 0.06735265254974365\n",
      "                \n"
     ]
    },
    {
     "data": {
      "application/vnd.jupyter.widget-view+json": {
       "model_id": "95509a898ab246febe292e85eabf682a",
       "version_major": 2,
       "version_minor": 0
      },
      "text/plain": [
       "  0%|          | 0/16 [00:00<?, ?it/s]"
      ]
     },
     "metadata": {},
     "output_type": "display_data"
    },
    {
     "name": "stdout",
     "output_type": "stream",
     "text": [
      "\n",
      "                Epoch: 107 / 1000 \n",
      "                | Train Loss: 0.21391133777797222 \n",
      "                | Train Dice Accuracy: 0.9345316892345202 \n",
      "            \n"
     ]
    },
    {
     "data": {
      "application/vnd.jupyter.widget-view+json": {
       "model_id": "b94ed511e1764bdda90ef4bd1afdeadc",
       "version_major": 2,
       "version_minor": 0
      },
      "text/plain": [
       "  0%|          | 0/16 [00:00<?, ?it/s]"
      ]
     },
     "metadata": {},
     "output_type": "display_data"
    },
    {
     "name": "stdout",
     "output_type": "stream",
     "text": [
      "\n",
      "                    Epoch: 108 / 1000 \n",
      "                    | Train Loss: 0.20452357828617096 \n",
      "                    | Train Dice Accuracy: 0.9275632294019064 \n",
      "                    | Test Dice Accuracy: 0.06186271748609013\n",
      "                \n"
     ]
    },
    {
     "data": {
      "application/vnd.jupyter.widget-view+json": {
       "model_id": "fd5c8291d9664736aae550677810ee82",
       "version_major": 2,
       "version_minor": 0
      },
      "text/plain": [
       "  0%|          | 0/16 [00:00<?, ?it/s]"
      ]
     },
     "metadata": {},
     "output_type": "display_data"
    },
    {
     "name": "stdout",
     "output_type": "stream",
     "text": [
      "\n",
      "                Epoch: 109 / 1000 \n",
      "                | Train Loss: 0.25969761796295643 \n",
      "                | Train Dice Accuracy: 0.9187555543013981 \n",
      "            \n"
     ]
    },
    {
     "data": {
      "application/vnd.jupyter.widget-view+json": {
       "model_id": "2d7c694182d74354b8cf148fb760fe86",
       "version_major": 2,
       "version_minor": 0
      },
      "text/plain": [
       "  0%|          | 0/16 [00:00<?, ?it/s]"
      ]
     },
     "metadata": {},
     "output_type": "display_data"
    },
    {
     "name": "stdout",
     "output_type": "stream",
     "text": [
      "\n",
      "                    Epoch: 110 / 1000 \n",
      "                    | Train Loss: 0.2415290679782629 \n",
      "                    | Train Dice Accuracy: 0.9431203027661337 \n",
      "                    | Test Dice Accuracy: 0.11571218487289217\n",
      "                \n"
     ]
    },
    {
     "data": {
      "application/vnd.jupyter.widget-view+json": {
       "model_id": "a540deb0c1bf40359a8237fc1d835ae0",
       "version_major": 2,
       "version_minor": 0
      },
      "text/plain": [
       "  0%|          | 0/16 [00:00<?, ?it/s]"
      ]
     },
     "metadata": {},
     "output_type": "display_data"
    },
    {
     "name": "stdout",
     "output_type": "stream",
     "text": [
      "\n",
      "                Epoch: 111 / 1000 \n",
      "                | Train Loss: 0.2220759131014347 \n",
      "                | Train Dice Accuracy: 0.9263315214414031 \n",
      "            \n"
     ]
    },
    {
     "data": {
      "application/vnd.jupyter.widget-view+json": {
       "model_id": "87f00ee504a1444f97382afd2f1fc10f",
       "version_major": 2,
       "version_minor": 0
      },
      "text/plain": [
       "  0%|          | 0/16 [00:00<?, ?it/s]"
      ]
     },
     "metadata": {},
     "output_type": "display_data"
    },
    {
     "name": "stdout",
     "output_type": "stream",
     "text": [
      "\n",
      "                    Epoch: 112 / 1000 \n",
      "                    | Train Loss: 0.21418746188282967 \n",
      "                    | Train Dice Accuracy: 0.9360669613431353 \n",
      "                    | Test Dice Accuracy: 0.07330857858889633\n",
      "                \n"
     ]
    },
    {
     "data": {
      "application/vnd.jupyter.widget-view+json": {
       "model_id": "db701e5a4c4c456aacb18ec12662bdef",
       "version_major": 2,
       "version_minor": 0
      },
      "text/plain": [
       "  0%|          | 0/16 [00:00<?, ?it/s]"
      ]
     },
     "metadata": {},
     "output_type": "display_data"
    },
    {
     "name": "stdout",
     "output_type": "stream",
     "text": [
      "\n",
      "                Epoch: 113 / 1000 \n",
      "                | Train Loss: 0.1891266405582428 \n",
      "                | Train Dice Accuracy: 0.9243909320105677 \n",
      "            \n"
     ]
    },
    {
     "data": {
      "application/vnd.jupyter.widget-view+json": {
       "model_id": "91b7993c76ba453391e203c0ba506775",
       "version_major": 2,
       "version_minor": 0
      },
      "text/plain": [
       "  0%|          | 0/16 [00:00<?, ?it/s]"
      ]
     },
     "metadata": {},
     "output_type": "display_data"
    },
    {
     "name": "stdout",
     "output_type": "stream",
     "text": [
      "\n",
      "                    Epoch: 114 / 1000 \n",
      "                    | Train Loss: 0.23707033228129148 \n",
      "                    | Train Dice Accuracy: 0.9372108598455998 \n",
      "                    | Test Dice Accuracy: 0.08260408768223391\n",
      "                \n"
     ]
    },
    {
     "data": {
      "application/vnd.jupyter.widget-view+json": {
       "model_id": "8f972f7fb58746d798f536c780334d2e",
       "version_major": 2,
       "version_minor": 0
      },
      "text/plain": [
       "  0%|          | 0/16 [00:00<?, ?it/s]"
      ]
     },
     "metadata": {},
     "output_type": "display_data"
    },
    {
     "name": "stdout",
     "output_type": "stream",
     "text": [
      "\n",
      "                Epoch: 115 / 1000 \n",
      "                | Train Loss: 0.20923233730718493 \n",
      "                | Train Dice Accuracy: 0.9254494365555288 \n",
      "            \n"
     ]
    },
    {
     "data": {
      "application/vnd.jupyter.widget-view+json": {
       "model_id": "4fa28e1aec5140478fba2e22d87d486c",
       "version_major": 2,
       "version_minor": 0
      },
      "text/plain": [
       "  0%|          | 0/16 [00:00<?, ?it/s]"
      ]
     },
     "metadata": {},
     "output_type": "display_data"
    },
    {
     "name": "stdout",
     "output_type": "stream",
     "text": [
      "\n",
      "                    Epoch: 116 / 1000 \n",
      "                    | Train Loss: 0.23194777173921466 \n",
      "                    | Train Dice Accuracy: 0.9173532169535413 \n",
      "                    | Test Dice Accuracy: 0.08636393294566208\n",
      "                \n"
     ]
    },
    {
     "data": {
      "application/vnd.jupyter.widget-view+json": {
       "model_id": "a5e2c299034046a4af07d6044846a05f",
       "version_major": 2,
       "version_minor": 0
      },
      "text/plain": [
       "  0%|          | 0/16 [00:00<?, ?it/s]"
      ]
     },
     "metadata": {},
     "output_type": "display_data"
    },
    {
     "name": "stdout",
     "output_type": "stream",
     "text": [
      "\n",
      "                Epoch: 117 / 1000 \n",
      "                | Train Loss: 0.21390202268958092 \n",
      "                | Train Dice Accuracy: 0.9349319157512507 \n",
      "            \n"
     ]
    },
    {
     "data": {
      "application/vnd.jupyter.widget-view+json": {
       "model_id": "4e68de7f2e2c4f9ea98cf93bfa481a54",
       "version_major": 2,
       "version_minor": 0
      },
      "text/plain": [
       "  0%|          | 0/16 [00:00<?, ?it/s]"
      ]
     },
     "metadata": {},
     "output_type": "display_data"
    },
    {
     "name": "stdout",
     "output_type": "stream",
     "text": [
      "\n",
      "                    Epoch: 118 / 1000 \n",
      "                    | Train Loss: 0.23233173042535782 \n",
      "                    | Train Dice Accuracy: 0.9495494916325524 \n",
      "                    | Test Dice Accuracy: 0.0869905466420783\n",
      "                \n"
     ]
    },
    {
     "data": {
      "application/vnd.jupyter.widget-view+json": {
       "model_id": "0fc5f702e6814e7a9cc20e32a1db9306",
       "version_major": 2,
       "version_minor": 0
      },
      "text/plain": [
       "  0%|          | 0/16 [00:00<?, ?it/s]"
      ]
     },
     "metadata": {},
     "output_type": "display_data"
    },
    {
     "name": "stdout",
     "output_type": "stream",
     "text": [
      "\n",
      "                Epoch: 119 / 1000 \n",
      "                | Train Loss: 0.1909644273109734 \n",
      "                | Train Dice Accuracy: 0.9472853854098128 \n",
      "            \n"
     ]
    },
    {
     "data": {
      "application/vnd.jupyter.widget-view+json": {
       "model_id": "637cd908855f404abc5e68cc57fa93cc",
       "version_major": 2,
       "version_minor": 0
      },
      "text/plain": [
       "  0%|          | 0/16 [00:00<?, ?it/s]"
      ]
     },
     "metadata": {},
     "output_type": "display_data"
    },
    {
     "name": "stdout",
     "output_type": "stream",
     "text": [
      "\n",
      "                    Epoch: 120 / 1000 \n",
      "                    | Train Loss: 0.21607417985796928 \n",
      "                    | Train Dice Accuracy: 0.9214189442818475 \n",
      "                    | Test Dice Accuracy: 0.08403534524970585\n",
      "                \n"
     ]
    },
    {
     "data": {
      "application/vnd.jupyter.widget-view+json": {
       "model_id": "00223aa4a38d482287b6868bc50eb396",
       "version_major": 2,
       "version_minor": 0
      },
      "text/plain": [
       "  0%|          | 0/16 [00:00<?, ?it/s]"
      ]
     },
     "metadata": {},
     "output_type": "display_data"
    },
    {
     "name": "stdout",
     "output_type": "stream",
     "text": [
      "\n",
      "                Epoch: 121 / 1000 \n",
      "                | Train Loss: 0.20235629566013813 \n",
      "                | Train Dice Accuracy: 0.9477986231926949 \n",
      "            \n"
     ]
    },
    {
     "data": {
      "application/vnd.jupyter.widget-view+json": {
       "model_id": "3ebb772c521d49a2aff1cebc8502dbd0",
       "version_major": 2,
       "version_minor": 0
      },
      "text/plain": [
       "  0%|          | 0/16 [00:00<?, ?it/s]"
      ]
     },
     "metadata": {},
     "output_type": "display_data"
    },
    {
     "name": "stdout",
     "output_type": "stream",
     "text": [
      "\n",
      "                    Epoch: 122 / 1000 \n",
      "                    | Train Loss: 0.2008115230128169 \n",
      "                    | Train Dice Accuracy: 0.9290058056869849 \n",
      "                    | Test Dice Accuracy: 0.07937658971382512\n",
      "                \n"
     ]
    },
    {
     "data": {
      "application/vnd.jupyter.widget-view+json": {
       "model_id": "99df0b9562d24bf7807a24c24b78ab9c",
       "version_major": 2,
       "version_minor": 0
      },
      "text/plain": [
       "  0%|          | 0/16 [00:00<?, ?it/s]"
      ]
     },
     "metadata": {},
     "output_type": "display_data"
    },
    {
     "name": "stdout",
     "output_type": "stream",
     "text": [
      "\n",
      "                Epoch: 123 / 1000 \n",
      "                | Train Loss: 0.21792751969769597 \n",
      "                | Train Dice Accuracy: 0.9443551721396269 \n",
      "            \n"
     ]
    },
    {
     "data": {
      "application/vnd.jupyter.widget-view+json": {
       "model_id": "c59f7c82d0b6423aa9373533a93c0238",
       "version_major": 2,
       "version_minor": 0
      },
      "text/plain": [
       "  0%|          | 0/16 [00:00<?, ?it/s]"
      ]
     },
     "metadata": {},
     "output_type": "display_data"
    },
    {
     "name": "stdout",
     "output_type": "stream",
     "text": [
      "\n",
      "                    Epoch: 124 / 1000 \n",
      "                    | Train Loss: 0.24616940040141344 \n",
      "                    | Train Dice Accuracy: 0.9474671462687051 \n",
      "                    | Test Dice Accuracy: 0.09635594901111391\n",
      "                \n"
     ]
    },
    {
     "data": {
      "application/vnd.jupyter.widget-view+json": {
       "model_id": "4347d6abd44a469f87b22cf7e903a068",
       "version_major": 2,
       "version_minor": 0
      },
      "text/plain": [
       "  0%|          | 0/16 [00:00<?, ?it/s]"
      ]
     },
     "metadata": {},
     "output_type": "display_data"
    },
    {
     "name": "stdout",
     "output_type": "stream",
     "text": [
      "\n",
      "                Epoch: 125 / 1000 \n",
      "                | Train Loss: 0.2070145159959793 \n",
      "                | Train Dice Accuracy: 0.9502723076277309 \n",
      "            \n"
     ]
    },
    {
     "data": {
      "application/vnd.jupyter.widget-view+json": {
       "model_id": "e7d0f91b67124a158ec729f0dc1f9125",
       "version_major": 2,
       "version_minor": 0
      },
      "text/plain": [
       "  0%|          | 0/16 [00:00<?, ?it/s]"
      ]
     },
     "metadata": {},
     "output_type": "display_data"
    },
    {
     "name": "stdout",
     "output_type": "stream",
     "text": [
      "\n",
      "                    Epoch: 126 / 1000 \n",
      "                    | Train Loss: 0.1988053717650473 \n",
      "                    | Train Dice Accuracy: 0.9473594876184855 \n",
      "                    | Test Dice Accuracy: 0.07515357558925946\n",
      "                \n"
     ]
    },
    {
     "data": {
      "application/vnd.jupyter.widget-view+json": {
       "model_id": "0afa30c23be2465c8e0c23f69ada1742",
       "version_major": 2,
       "version_minor": 0
      },
      "text/plain": [
       "  0%|          | 0/16 [00:00<?, ?it/s]"
      ]
     },
     "metadata": {},
     "output_type": "display_data"
    },
    {
     "name": "stdout",
     "output_type": "stream",
     "text": [
      "\n",
      "                Epoch: 127 / 1000 \n",
      "                | Train Loss: 0.22110501118004322 \n",
      "                | Train Dice Accuracy: 0.9358410829747165 \n",
      "            \n"
     ]
    },
    {
     "data": {
      "application/vnd.jupyter.widget-view+json": {
       "model_id": "e8d5fc0c47744606b2a2d3d25d25ffed",
       "version_major": 2,
       "version_minor": 0
      },
      "text/plain": [
       "  0%|          | 0/16 [00:00<?, ?it/s]"
      ]
     },
     "metadata": {},
     "output_type": "display_data"
    },
    {
     "name": "stdout",
     "output_type": "stream",
     "text": [
      "\n",
      "                    Epoch: 128 / 1000 \n",
      "                    | Train Loss: 0.20839719381183386 \n",
      "                    | Train Dice Accuracy: 0.9477706532235499 \n",
      "                    | Test Dice Accuracy: 0.08857284300029278\n",
      "                \n"
     ]
    },
    {
     "data": {
      "application/vnd.jupyter.widget-view+json": {
       "model_id": "51bbb5a3b63c49c9ac67d7118102057b",
       "version_major": 2,
       "version_minor": 0
      },
      "text/plain": [
       "  0%|          | 0/16 [00:00<?, ?it/s]"
      ]
     },
     "metadata": {},
     "output_type": "display_data"
    },
    {
     "name": "stdout",
     "output_type": "stream",
     "text": [
      "\n",
      "                Epoch: 129 / 1000 \n",
      "                | Train Loss: 0.21583192236721516 \n",
      "                | Train Dice Accuracy: 0.9492185479598426 \n",
      "            \n"
     ]
    },
    {
     "data": {
      "application/vnd.jupyter.widget-view+json": {
       "model_id": "e6d0f02a175042e199c8ea21794077b6",
       "version_major": 2,
       "version_minor": 0
      },
      "text/plain": [
       "  0%|          | 0/16 [00:00<?, ?it/s]"
      ]
     },
     "metadata": {},
     "output_type": "display_data"
    },
    {
     "name": "stdout",
     "output_type": "stream",
     "text": [
      "\n",
      "                    Epoch: 130 / 1000 \n",
      "                    | Train Loss: 0.19309129938483238 \n",
      "                    | Train Dice Accuracy: 0.9259773442480299 \n",
      "                    | Test Dice Accuracy: 0.09742573731475407\n",
      "                \n"
     ]
    },
    {
     "data": {
      "application/vnd.jupyter.widget-view+json": {
       "model_id": "d769b688746348019907b8d00960d88b",
       "version_major": 2,
       "version_minor": 0
      },
      "text/plain": [
       "  0%|          | 0/16 [00:00<?, ?it/s]"
      ]
     },
     "metadata": {},
     "output_type": "display_data"
    },
    {
     "name": "stdout",
     "output_type": "stream",
     "text": [
      "\n",
      "                Epoch: 131 / 1000 \n",
      "                | Train Loss: 0.22141621448099613 \n",
      "                | Train Dice Accuracy: 0.9365393123894095 \n",
      "            \n"
     ]
    },
    {
     "data": {
      "application/vnd.jupyter.widget-view+json": {
       "model_id": "14805aa48c88459d8a926b4ee6eec356",
       "version_major": 2,
       "version_minor": 0
      },
      "text/plain": [
       "  0%|          | 0/16 [00:00<?, ?it/s]"
      ]
     },
     "metadata": {},
     "output_type": "display_data"
    },
    {
     "name": "stdout",
     "output_type": "stream",
     "text": [
      "\n",
      "                    Epoch: 132 / 1000 \n",
      "                    | Train Loss: 0.1901829605922103 \n",
      "                    | Train Dice Accuracy: 0.9426536373116753 \n",
      "                    | Test Dice Accuracy: 0.09494823921057913\n",
      "                \n"
     ]
    },
    {
     "data": {
      "application/vnd.jupyter.widget-view+json": {
       "model_id": "1f452de6b4a846c8850215407b74b8f6",
       "version_major": 2,
       "version_minor": 0
      },
      "text/plain": [
       "  0%|          | 0/16 [00:00<?, ?it/s]"
      ]
     },
     "metadata": {},
     "output_type": "display_data"
    },
    {
     "name": "stdout",
     "output_type": "stream",
     "text": [
      "\n",
      "                Epoch: 133 / 1000 \n",
      "                | Train Loss: 0.21883213985711336 \n",
      "                | Train Dice Accuracy: 0.9448715453976196 \n",
      "            \n"
     ]
    },
    {
     "data": {
      "application/vnd.jupyter.widget-view+json": {
       "model_id": "81fb7f43ea8045338b21cf6f38d89682",
       "version_major": 2,
       "version_minor": 0
      },
      "text/plain": [
       "  0%|          | 0/16 [00:00<?, ?it/s]"
      ]
     },
     "metadata": {},
     "output_type": "display_data"
    },
    {
     "name": "stdout",
     "output_type": "stream",
     "text": [
      "\n",
      "                    Epoch: 134 / 1000 \n",
      "                    | Train Loss: 0.22532759420573711 \n",
      "                    | Train Dice Accuracy: 0.9435594307867836 \n",
      "                    | Test Dice Accuracy: 0.12017224522100554\n",
      "                \n"
     ]
    },
    {
     "data": {
      "application/vnd.jupyter.widget-view+json": {
       "model_id": "5d6a83b8265c4993b4bae575c8723ec3",
       "version_major": 2,
       "version_minor": 0
      },
      "text/plain": [
       "  0%|          | 0/16 [00:00<?, ?it/s]"
      ]
     },
     "metadata": {},
     "output_type": "display_data"
    },
    {
     "name": "stdout",
     "output_type": "stream",
     "text": [
      "\n",
      "                Epoch: 135 / 1000 \n",
      "                | Train Loss: 0.17649568524211645 \n",
      "                | Train Dice Accuracy: 0.9338298291618647 \n",
      "            \n"
     ]
    },
    {
     "data": {
      "application/vnd.jupyter.widget-view+json": {
       "model_id": "dc82bd0b26884d1fb8a8425354877857",
       "version_major": 2,
       "version_minor": 0
      },
      "text/plain": [
       "  0%|          | 0/16 [00:00<?, ?it/s]"
      ]
     },
     "metadata": {},
     "output_type": "display_data"
    },
    {
     "name": "stdout",
     "output_type": "stream",
     "text": [
      "\n",
      "                    Epoch: 136 / 1000 \n",
      "                    | Train Loss: 0.16805497091263533 \n",
      "                    | Train Dice Accuracy: 0.9412139902512232 \n",
      "                    | Test Dice Accuracy: 0.07659211216701402\n",
      "                \n"
     ]
    },
    {
     "data": {
      "application/vnd.jupyter.widget-view+json": {
       "model_id": "c310513287d34e98892112009b2bfe55",
       "version_major": 2,
       "version_minor": 0
      },
      "text/plain": [
       "  0%|          | 0/16 [00:00<?, ?it/s]"
      ]
     },
     "metadata": {},
     "output_type": "display_data"
    },
    {
     "name": "stdout",
     "output_type": "stream",
     "text": [
      "\n",
      "                Epoch: 137 / 1000 \n",
      "                | Train Loss: 0.19780375994741917 \n",
      "                | Train Dice Accuracy: 0.9375247394179439 \n",
      "            \n"
     ]
    },
    {
     "data": {
      "application/vnd.jupyter.widget-view+json": {
       "model_id": "e7076404b00449da80d594b73b6add74",
       "version_major": 2,
       "version_minor": 0
      },
      "text/plain": [
       "  0%|          | 0/16 [00:00<?, ?it/s]"
      ]
     },
     "metadata": {},
     "output_type": "display_data"
    },
    {
     "name": "stdout",
     "output_type": "stream",
     "text": [
      "\n",
      "                    Epoch: 138 / 1000 \n",
      "                    | Train Loss: 0.24267634842544794 \n",
      "                    | Train Dice Accuracy: 0.9286386932645525 \n",
      "                    | Test Dice Accuracy: 0.10273428944249947\n",
      "                \n"
     ]
    },
    {
     "data": {
      "application/vnd.jupyter.widget-view+json": {
       "model_id": "ac322f0a10c04d0685d5bc8533d20dec",
       "version_major": 2,
       "version_minor": 0
      },
      "text/plain": [
       "  0%|          | 0/16 [00:00<?, ?it/s]"
      ]
     },
     "metadata": {},
     "output_type": "display_data"
    },
    {
     "name": "stdout",
     "output_type": "stream",
     "text": [
      "\n",
      "                Epoch: 139 / 1000 \n",
      "                | Train Loss: 0.18136403802782297 \n",
      "                | Train Dice Accuracy: 0.9544605345469419 \n",
      "            \n"
     ]
    },
    {
     "data": {
      "application/vnd.jupyter.widget-view+json": {
       "model_id": "b16805787aba424391da5c9be92a6aa8",
       "version_major": 2,
       "version_minor": 0
      },
      "text/plain": [
       "  0%|          | 0/16 [00:00<?, ?it/s]"
      ]
     },
     "metadata": {},
     "output_type": "display_data"
    },
    {
     "name": "stdout",
     "output_type": "stream",
     "text": [
      "\n",
      "                    Epoch: 140 / 1000 \n",
      "                    | Train Loss: 0.2168560167774558 \n",
      "                    | Train Dice Accuracy: 0.953207955541204 \n",
      "                    | Test Dice Accuracy: 0.15118088490433162\n",
      "                \n"
     ]
    },
    {
     "data": {
      "application/vnd.jupyter.widget-view+json": {
       "model_id": "c30cb32058204c5b9d383c564cd2ca1e",
       "version_major": 2,
       "version_minor": 0
      },
      "text/plain": [
       "  0%|          | 0/16 [00:00<?, ?it/s]"
      ]
     },
     "metadata": {},
     "output_type": "display_data"
    },
    {
     "name": "stdout",
     "output_type": "stream",
     "text": [
      "\n",
      "                Epoch: 141 / 1000 \n",
      "                | Train Loss: 0.1974034570157528 \n",
      "                | Train Dice Accuracy: 0.9492059929655232 \n",
      "            \n"
     ]
    },
    {
     "data": {
      "application/vnd.jupyter.widget-view+json": {
       "model_id": "80ad568280a54093b68902859d6f70ee",
       "version_major": 2,
       "version_minor": 0
      },
      "text/plain": [
       "  0%|          | 0/16 [00:00<?, ?it/s]"
      ]
     },
     "metadata": {},
     "output_type": "display_data"
    },
    {
     "name": "stdout",
     "output_type": "stream",
     "text": [
      "\n",
      "                    Epoch: 142 / 1000 \n",
      "                    | Train Loss: 0.19290472008287907 \n",
      "                    | Train Dice Accuracy: 0.9441171137455902 \n",
      "                    | Test Dice Accuracy: 0.14189771066109338\n",
      "                \n"
     ]
    },
    {
     "data": {
      "application/vnd.jupyter.widget-view+json": {
       "model_id": "daae6b13f70546979d9153e74142277a",
       "version_major": 2,
       "version_minor": 0
      },
      "text/plain": [
       "  0%|          | 0/16 [00:00<?, ?it/s]"
      ]
     },
     "metadata": {},
     "output_type": "display_data"
    },
    {
     "name": "stdout",
     "output_type": "stream",
     "text": [
      "\n",
      "                Epoch: 143 / 1000 \n",
      "                | Train Loss: 0.18531907675787807 \n",
      "                | Train Dice Accuracy: 0.9492274129013131 \n",
      "            \n"
     ]
    },
    {
     "data": {
      "application/vnd.jupyter.widget-view+json": {
       "model_id": "74e4de8684ab43109f0862866ba7d821",
       "version_major": 2,
       "version_minor": 0
      },
      "text/plain": [
       "  0%|          | 0/16 [00:00<?, ?it/s]"
      ]
     },
     "metadata": {},
     "output_type": "display_data"
    },
    {
     "name": "stdout",
     "output_type": "stream",
     "text": [
      "\n",
      "                    Epoch: 144 / 1000 \n",
      "                    | Train Loss: 0.24059615284204483 \n",
      "                    | Train Dice Accuracy: 0.9409044141379687 \n",
      "                    | Test Dice Accuracy: 0.1441716021961636\n",
      "                \n"
     ]
    },
    {
     "data": {
      "application/vnd.jupyter.widget-view+json": {
       "model_id": "3d5c2569dab14894a55c99efcc66f13c",
       "version_major": 2,
       "version_minor": 0
      },
      "text/plain": [
       "  0%|          | 0/16 [00:00<?, ?it/s]"
      ]
     },
     "metadata": {},
     "output_type": "display_data"
    },
    {
     "name": "stdout",
     "output_type": "stream",
     "text": [
      "\n",
      "                Epoch: 145 / 1000 \n",
      "                | Train Loss: 0.20887748431414366 \n",
      "                | Train Dice Accuracy: 0.9542665274490213 \n",
      "            \n"
     ]
    },
    {
     "data": {
      "application/vnd.jupyter.widget-view+json": {
       "model_id": "b536d253fc704cef87fa6c466eca4e3a",
       "version_major": 2,
       "version_minor": 0
      },
      "text/plain": [
       "  0%|          | 0/16 [00:00<?, ?it/s]"
      ]
     },
     "metadata": {},
     "output_type": "display_data"
    },
    {
     "name": "stdout",
     "output_type": "stream",
     "text": [
      "\n",
      "                    Epoch: 146 / 1000 \n",
      "                    | Train Loss: 0.21641021687537432 \n",
      "                    | Train Dice Accuracy: 0.9450462144305448 \n",
      "                    | Test Dice Accuracy: 0.14679360513885817\n",
      "                \n"
     ]
    },
    {
     "data": {
      "application/vnd.jupyter.widget-view+json": {
       "model_id": "3c497fb11b254beba98257dfdfee1d7f",
       "version_major": 2,
       "version_minor": 0
      },
      "text/plain": [
       "  0%|          | 0/16 [00:00<?, ?it/s]"
      ]
     },
     "metadata": {},
     "output_type": "display_data"
    },
    {
     "name": "stdout",
     "output_type": "stream",
     "text": [
      "\n",
      "                Epoch: 147 / 1000 \n",
      "                | Train Loss: 0.19295686716213822 \n",
      "                | Train Dice Accuracy: 0.9493388448833325 \n",
      "            \n"
     ]
    },
    {
     "data": {
      "application/vnd.jupyter.widget-view+json": {
       "model_id": "a78e65e5df7346808af9bcd86be3edde",
       "version_major": 2,
       "version_minor": 0
      },
      "text/plain": [
       "  0%|          | 0/16 [00:00<?, ?it/s]"
      ]
     },
     "metadata": {},
     "output_type": "display_data"
    },
    {
     "name": "stdout",
     "output_type": "stream",
     "text": [
      "\n",
      "                    Epoch: 148 / 1000 \n",
      "                    | Train Loss: 0.1922912986483425 \n",
      "                    | Train Dice Accuracy: 0.9440864316404682 \n",
      "                    | Test Dice Accuracy: 0.16202479518122143\n",
      "                \n"
     ]
    },
    {
     "data": {
      "application/vnd.jupyter.widget-view+json": {
       "model_id": "ef398d202dc24d10b2464308067bf033",
       "version_major": 2,
       "version_minor": 0
      },
      "text/plain": [
       "  0%|          | 0/16 [00:00<?, ?it/s]"
      ]
     },
     "metadata": {},
     "output_type": "display_data"
    },
    {
     "name": "stdout",
     "output_type": "stream",
     "text": [
      "\n",
      "                Epoch: 149 / 1000 \n",
      "                | Train Loss: 0.1896230042912066 \n",
      "                | Train Dice Accuracy: 0.965806797216105 \n",
      "            \n"
     ]
    },
    {
     "data": {
      "application/vnd.jupyter.widget-view+json": {
       "model_id": "6fe21b98d7c041b597ad8015289f3d7a",
       "version_major": 2,
       "version_minor": 0
      },
      "text/plain": [
       "  0%|          | 0/16 [00:00<?, ?it/s]"
      ]
     },
     "metadata": {},
     "output_type": "display_data"
    },
    {
     "name": "stdout",
     "output_type": "stream",
     "text": [
      "\n",
      "                    Epoch: 150 / 1000 \n",
      "                    | Train Loss: 0.2083223150111735 \n",
      "                    | Train Dice Accuracy: 0.9571895635915253 \n",
      "                    | Test Dice Accuracy: 0.13001424777838919\n",
      "                \n"
     ]
    },
    {
     "data": {
      "application/vnd.jupyter.widget-view+json": {
       "model_id": "fa91b571f296490a8d6731018b319620",
       "version_major": 2,
       "version_minor": 0
      },
      "text/plain": [
       "  0%|          | 0/16 [00:00<?, ?it/s]"
      ]
     },
     "metadata": {},
     "output_type": "display_data"
    },
    {
     "name": "stdout",
     "output_type": "stream",
     "text": [
      "\n",
      "                Epoch: 151 / 1000 \n",
      "                | Train Loss: 0.19192650308832526 \n",
      "                | Train Dice Accuracy: 0.9505750186946413 \n",
      "            \n"
     ]
    },
    {
     "data": {
      "application/vnd.jupyter.widget-view+json": {
       "model_id": "c6e9239e1374473489c1d77c5f25470d",
       "version_major": 2,
       "version_minor": 0
      },
      "text/plain": [
       "  0%|          | 0/16 [00:00<?, ?it/s]"
      ]
     },
     "metadata": {},
     "output_type": "display_data"
    },
    {
     "name": "stdout",
     "output_type": "stream",
     "text": [
      "\n",
      "                    Epoch: 152 / 1000 \n",
      "                    | Train Loss: 0.21116831246763468 \n",
      "                    | Train Dice Accuracy: 0.9510641265138288 \n",
      "                    | Test Dice Accuracy: 0.10583086394601399\n",
      "                \n"
     ]
    },
    {
     "data": {
      "application/vnd.jupyter.widget-view+json": {
       "model_id": "b3a472f4a972429b927724a0ef863727",
       "version_major": 2,
       "version_minor": 0
      },
      "text/plain": [
       "  0%|          | 0/16 [00:00<?, ?it/s]"
      ]
     },
     "metadata": {},
     "output_type": "display_data"
    },
    {
     "name": "stdout",
     "output_type": "stream",
     "text": [
      "\n",
      "                Epoch: 153 / 1000 \n",
      "                | Train Loss: 0.1851804405450821 \n",
      "                | Train Dice Accuracy: 0.9459602703336137 \n",
      "            \n"
     ]
    },
    {
     "data": {
      "application/vnd.jupyter.widget-view+json": {
       "model_id": "24d5df2521b643c89796277d9d9b32c4",
       "version_major": 2,
       "version_minor": 0
      },
      "text/plain": [
       "  0%|          | 0/16 [00:00<?, ?it/s]"
      ]
     },
     "metadata": {},
     "output_type": "display_data"
    },
    {
     "name": "stdout",
     "output_type": "stream",
     "text": [
      "\n",
      "                    Epoch: 154 / 1000 \n",
      "                    | Train Loss: 0.20928531233221292 \n",
      "                    | Train Dice Accuracy: 0.9534881962856776 \n",
      "                    | Test Dice Accuracy: 0.21243917362557518\n",
      "                \n"
     ]
    },
    {
     "data": {
      "application/vnd.jupyter.widget-view+json": {
       "model_id": "19074a3b058b4cd9b12bf7b541c78c63",
       "version_major": 2,
       "version_minor": 0
      },
      "text/plain": [
       "  0%|          | 0/16 [00:00<?, ?it/s]"
      ]
     },
     "metadata": {},
     "output_type": "display_data"
    },
    {
     "name": "stdout",
     "output_type": "stream",
     "text": [
      "\n",
      "                Epoch: 155 / 1000 \n",
      "                | Train Loss: 0.21065604873001575 \n",
      "                | Train Dice Accuracy: 0.9449840399706475 \n",
      "            \n"
     ]
    },
    {
     "data": {
      "application/vnd.jupyter.widget-view+json": {
       "model_id": "3b9fbc15d59740aa81403fac0c4f0053",
       "version_major": 2,
       "version_minor": 0
      },
      "text/plain": [
       "  0%|          | 0/16 [00:00<?, ?it/s]"
      ]
     },
     "metadata": {},
     "output_type": "display_data"
    },
    {
     "name": "stdout",
     "output_type": "stream",
     "text": [
      "\n",
      "                    Epoch: 156 / 1000 \n",
      "                    | Train Loss: 0.18207215750589967 \n",
      "                    | Train Dice Accuracy: 0.9548397905206027 \n",
      "                    | Test Dice Accuracy: 0.10794370869795482\n",
      "                \n"
     ]
    },
    {
     "data": {
      "application/vnd.jupyter.widget-view+json": {
       "model_id": "f997d0de1398430b870cf2030e02e6a8",
       "version_major": 2,
       "version_minor": 0
      },
      "text/plain": [
       "  0%|          | 0/16 [00:00<?, ?it/s]"
      ]
     },
     "metadata": {},
     "output_type": "display_data"
    },
    {
     "name": "stdout",
     "output_type": "stream",
     "text": [
      "\n",
      "                Epoch: 157 / 1000 \n",
      "                | Train Loss: 0.1975020095705986 \n",
      "                | Train Dice Accuracy: 0.9473955029690707 \n",
      "            \n"
     ]
    },
    {
     "data": {
      "application/vnd.jupyter.widget-view+json": {
       "model_id": "4cc0b9dc7c8d4932b0599b3a6fe86fa0",
       "version_major": 2,
       "version_minor": 0
      },
      "text/plain": [
       "  0%|          | 0/16 [00:00<?, ?it/s]"
      ]
     },
     "metadata": {},
     "output_type": "display_data"
    },
    {
     "name": "stdout",
     "output_type": "stream",
     "text": [
      "\n",
      "                    Epoch: 158 / 1000 \n",
      "                    | Train Loss: 0.1992395743727684 \n",
      "                    | Train Dice Accuracy: 0.9550394560689124 \n",
      "                    | Test Dice Accuracy: 0.18074948423438603\n",
      "                \n"
     ]
    },
    {
     "data": {
      "application/vnd.jupyter.widget-view+json": {
       "model_id": "2facb58372e542e697a9d31f9547f40f",
       "version_major": 2,
       "version_minor": 0
      },
      "text/plain": [
       "  0%|          | 0/16 [00:00<?, ?it/s]"
      ]
     },
     "metadata": {},
     "output_type": "display_data"
    },
    {
     "name": "stdout",
     "output_type": "stream",
     "text": [
      "\n",
      "                Epoch: 159 / 1000 \n",
      "                | Train Loss: 0.22814198676496744 \n",
      "                | Train Dice Accuracy: 0.9656618529675054 \n",
      "            \n"
     ]
    },
    {
     "data": {
      "application/vnd.jupyter.widget-view+json": {
       "model_id": "91c6ee6b55ed42f99fd50b6122b908cf",
       "version_major": 2,
       "version_minor": 0
      },
      "text/plain": [
       "  0%|          | 0/16 [00:00<?, ?it/s]"
      ]
     },
     "metadata": {},
     "output_type": "display_data"
    },
    {
     "name": "stdout",
     "output_type": "stream",
     "text": [
      "saved new best spleen metric model\n",
      "\n",
      "                    Epoch: 160 / 1000 \n",
      "                    | Train Loss: 0.21063724299892783 \n",
      "                    | Train Dice Accuracy: 0.9665921738273219 \n",
      "                    | Test Dice Accuracy: 0.37839121288723415\n",
      "                \n"
     ]
    },
    {
     "data": {
      "application/vnd.jupyter.widget-view+json": {
       "model_id": "91c8920bf27d40729744ea9ac18e9cba",
       "version_major": 2,
       "version_minor": 0
      },
      "text/plain": [
       "  0%|          | 0/16 [00:00<?, ?it/s]"
      ]
     },
     "metadata": {},
     "output_type": "display_data"
    },
    {
     "name": "stdout",
     "output_type": "stream",
     "text": [
      "\n",
      "                Epoch: 161 / 1000 \n",
      "                | Train Loss: 0.2026324449107051 \n",
      "                | Train Dice Accuracy: 0.949344285108425 \n",
      "            \n"
     ]
    },
    {
     "data": {
      "application/vnd.jupyter.widget-view+json": {
       "model_id": "751f129c457d45a7b337193ff17ca8bf",
       "version_major": 2,
       "version_minor": 0
      },
      "text/plain": [
       "  0%|          | 0/16 [00:00<?, ?it/s]"
      ]
     },
     "metadata": {},
     "output_type": "display_data"
    },
    {
     "name": "stdout",
     "output_type": "stream",
     "text": [
      "\n",
      "                    Epoch: 162 / 1000 \n",
      "                    | Train Loss: 0.18105503264814615 \n",
      "                    | Train Dice Accuracy: 0.9516521559520201 \n",
      "                    | Test Dice Accuracy: 0.2809044329656495\n",
      "                \n"
     ]
    },
    {
     "data": {
      "application/vnd.jupyter.widget-view+json": {
       "model_id": "5350f1ba7c1346d4aefd89807a980b3d",
       "version_major": 2,
       "version_minor": 0
      },
      "text/plain": [
       "  0%|          | 0/16 [00:00<?, ?it/s]"
      ]
     },
     "metadata": {},
     "output_type": "display_data"
    },
    {
     "name": "stdout",
     "output_type": "stream",
     "text": [
      "\n",
      "                Epoch: 163 / 1000 \n",
      "                | Train Loss: 0.19981186417862773 \n",
      "                | Train Dice Accuracy: 0.950579972322597 \n",
      "            \n"
     ]
    },
    {
     "data": {
      "application/vnd.jupyter.widget-view+json": {
       "model_id": "fdeb2684124f4c749931733a896e70ae",
       "version_major": 2,
       "version_minor": 0
      },
      "text/plain": [
       "  0%|          | 0/16 [00:00<?, ?it/s]"
      ]
     },
     "metadata": {},
     "output_type": "display_data"
    },
    {
     "name": "stdout",
     "output_type": "stream",
     "text": [
      "saved new best spleen metric model\n",
      "\n",
      "                    Epoch: 164 / 1000 \n",
      "                    | Train Loss: 0.22651915345340967 \n",
      "                    | Train Dice Accuracy: 0.9525621309876442 \n",
      "                    | Test Dice Accuracy: 0.6588639749421014\n",
      "                \n"
     ]
    },
    {
     "data": {
      "application/vnd.jupyter.widget-view+json": {
       "model_id": "73c5a32a18374647be47fce94fb4a006",
       "version_major": 2,
       "version_minor": 0
      },
      "text/plain": [
       "  0%|          | 0/16 [00:00<?, ?it/s]"
      ]
     },
     "metadata": {},
     "output_type": "display_data"
    },
    {
     "name": "stdout",
     "output_type": "stream",
     "text": [
      "\n",
      "                Epoch: 165 / 1000 \n",
      "                | Train Loss: 0.17385370191186666 \n",
      "                | Train Dice Accuracy: 0.949563063848179 \n",
      "            \n"
     ]
    },
    {
     "data": {
      "application/vnd.jupyter.widget-view+json": {
       "model_id": "9df62022e5b54aba82a6c96e3e783773",
       "version_major": 2,
       "version_minor": 0
      },
      "text/plain": [
       "  0%|          | 0/16 [00:00<?, ?it/s]"
      ]
     },
     "metadata": {},
     "output_type": "display_data"
    },
    {
     "name": "stdout",
     "output_type": "stream",
     "text": [
      "\n",
      "                    Epoch: 166 / 1000 \n",
      "                    | Train Loss: 0.2060901049990207 \n",
      "                    | Train Dice Accuracy: 0.9574799905970411 \n",
      "                    | Test Dice Accuracy: 0.32797713081041974\n",
      "                \n"
     ]
    },
    {
     "data": {
      "application/vnd.jupyter.widget-view+json": {
       "model_id": "92e9376c185f4e10849230abbe3165d6",
       "version_major": 2,
       "version_minor": 0
      },
      "text/plain": [
       "  0%|          | 0/16 [00:00<?, ?it/s]"
      ]
     },
     "metadata": {},
     "output_type": "display_data"
    },
    {
     "name": "stdout",
     "output_type": "stream",
     "text": [
      "\n",
      "                Epoch: 167 / 1000 \n",
      "                | Train Loss: 0.21657042391598225 \n",
      "                | Train Dice Accuracy: 0.9528524861449287 \n",
      "            \n"
     ]
    },
    {
     "data": {
      "application/vnd.jupyter.widget-view+json": {
       "model_id": "41c21da8abfd480fbc611b1e56d91dc7",
       "version_major": 2,
       "version_minor": 0
      },
      "text/plain": [
       "  0%|          | 0/16 [00:00<?, ?it/s]"
      ]
     },
     "metadata": {},
     "output_type": "display_data"
    },
    {
     "name": "stdout",
     "output_type": "stream",
     "text": [
      "\n",
      "                    Epoch: 168 / 1000 \n",
      "                    | Train Loss: 0.21822483045980334 \n",
      "                    | Train Dice Accuracy: 0.958246055417336 \n",
      "                    | Test Dice Accuracy: 0.5366174744235145\n",
      "                \n"
     ]
    },
    {
     "data": {
      "application/vnd.jupyter.widget-view+json": {
       "model_id": "5813c5166f5c48e39e630b50783ed193",
       "version_major": 2,
       "version_minor": 0
      },
      "text/plain": [
       "  0%|          | 0/16 [00:00<?, ?it/s]"
      ]
     },
     "metadata": {},
     "output_type": "display_data"
    },
    {
     "name": "stdout",
     "output_type": "stream",
     "text": [
      "\n",
      "                Epoch: 169 / 1000 \n",
      "                | Train Loss: 0.1862287581898272 \n",
      "                | Train Dice Accuracy: 0.9565355209035611 \n",
      "            \n"
     ]
    },
    {
     "data": {
      "application/vnd.jupyter.widget-view+json": {
       "model_id": "086697ea92f04541bfeb693f6ac397e9",
       "version_major": 2,
       "version_minor": 0
      },
      "text/plain": [
       "  0%|          | 0/16 [00:00<?, ?it/s]"
      ]
     },
     "metadata": {},
     "output_type": "display_data"
    },
    {
     "name": "stdout",
     "output_type": "stream",
     "text": [
      "saved new best spleen metric model\n",
      "\n",
      "                    Epoch: 170 / 1000 \n",
      "                    | Train Loss: 0.18492073100060225 \n",
      "                    | Train Dice Accuracy: 0.9512633005960272 \n",
      "                    | Test Dice Accuracy: 0.7221457891994052\n",
      "                \n"
     ]
    },
    {
     "data": {
      "application/vnd.jupyter.widget-view+json": {
       "model_id": "293b977026d74564a68112257cea5cfc",
       "version_major": 2,
       "version_minor": 0
      },
      "text/plain": [
       "  0%|          | 0/16 [00:00<?, ?it/s]"
      ]
     },
     "metadata": {},
     "output_type": "display_data"
    },
    {
     "name": "stdout",
     "output_type": "stream",
     "text": [
      "\n",
      "                Epoch: 171 / 1000 \n",
      "                | Train Loss: 0.15971222170628607 \n",
      "                | Train Dice Accuracy: 0.9583909250795841 \n",
      "            \n"
     ]
    },
    {
     "data": {
      "application/vnd.jupyter.widget-view+json": {
       "model_id": "922d3e755979490d8c90eb2f0e9897ca",
       "version_major": 2,
       "version_minor": 0
      },
      "text/plain": [
       "  0%|          | 0/16 [00:00<?, ?it/s]"
      ]
     },
     "metadata": {},
     "output_type": "display_data"
    },
    {
     "name": "stdout",
     "output_type": "stream",
     "text": [
      "\n",
      "                    Epoch: 172 / 1000 \n",
      "                    | Train Loss: 0.21593792364001274 \n",
      "                    | Train Dice Accuracy: 0.9549237222898574 \n",
      "                    | Test Dice Accuracy: 0.422269355919626\n",
      "                \n"
     ]
    },
    {
     "data": {
      "application/vnd.jupyter.widget-view+json": {
       "model_id": "f3930116d8904b84a48b3e9b60a92c94",
       "version_major": 2,
       "version_minor": 0
      },
      "text/plain": [
       "  0%|          | 0/16 [00:00<?, ?it/s]"
      ]
     },
     "metadata": {},
     "output_type": "display_data"
    },
    {
     "name": "stdout",
     "output_type": "stream",
     "text": [
      "\n",
      "                Epoch: 173 / 1000 \n",
      "                | Train Loss: 0.2386064724996686 \n",
      "                | Train Dice Accuracy: 0.9554093892083448 \n",
      "            \n"
     ]
    },
    {
     "data": {
      "application/vnd.jupyter.widget-view+json": {
       "model_id": "e5519be39f764d88b69c4bede334e854",
       "version_major": 2,
       "version_minor": 0
      },
      "text/plain": [
       "  0%|          | 0/16 [00:00<?, ?it/s]"
      ]
     },
     "metadata": {},
     "output_type": "display_data"
    },
    {
     "name": "stdout",
     "output_type": "stream",
     "text": [
      "\n",
      "                    Epoch: 174 / 1000 \n",
      "                    | Train Loss: 0.15910917124710977 \n",
      "                    | Train Dice Accuracy: 0.961014786735177 \n",
      "                    | Test Dice Accuracy: 0.22488997876644135\n",
      "                \n"
     ]
    },
    {
     "data": {
      "application/vnd.jupyter.widget-view+json": {
       "model_id": "c8482ead16c24d06960958405326d0dd",
       "version_major": 2,
       "version_minor": 0
      },
      "text/plain": [
       "  0%|          | 0/16 [00:00<?, ?it/s]"
      ]
     },
     "metadata": {},
     "output_type": "display_data"
    },
    {
     "name": "stdout",
     "output_type": "stream",
     "text": [
      "\n",
      "                Epoch: 175 / 1000 \n",
      "                | Train Loss: 0.1733779744245112 \n",
      "                | Train Dice Accuracy: 0.9532097932454702 \n",
      "            \n"
     ]
    },
    {
     "data": {
      "application/vnd.jupyter.widget-view+json": {
       "model_id": "77b72a3c573e4a3ab86aa34899786c36",
       "version_major": 2,
       "version_minor": 0
      },
      "text/plain": [
       "  0%|          | 0/16 [00:00<?, ?it/s]"
      ]
     },
     "metadata": {},
     "output_type": "display_data"
    },
    {
     "name": "stdout",
     "output_type": "stream",
     "text": [
      "\n",
      "                    Epoch: 176 / 1000 \n",
      "                    | Train Loss: 0.19047398585826159 \n",
      "                    | Train Dice Accuracy: 0.9557223519600859 \n",
      "                    | Test Dice Accuracy: 0.462602657576402\n",
      "                \n"
     ]
    },
    {
     "data": {
      "application/vnd.jupyter.widget-view+json": {
       "model_id": "0cf1671ca10e4c76bfa06bf90d1b2572",
       "version_major": 2,
       "version_minor": 0
      },
      "text/plain": [
       "  0%|          | 0/16 [00:00<?, ?it/s]"
      ]
     },
     "metadata": {},
     "output_type": "display_data"
    },
    {
     "name": "stdout",
     "output_type": "stream",
     "text": [
      "\n",
      "                Epoch: 177 / 1000 \n",
      "                | Train Loss: 0.19219757430255413 \n",
      "                | Train Dice Accuracy: 0.9487257283953477 \n",
      "            \n"
     ]
    },
    {
     "data": {
      "application/vnd.jupyter.widget-view+json": {
       "model_id": "1826d244aa6d4f48aae1483414c088aa",
       "version_major": 2,
       "version_minor": 0
      },
      "text/plain": [
       "  0%|          | 0/16 [00:00<?, ?it/s]"
      ]
     },
     "metadata": {},
     "output_type": "display_data"
    },
    {
     "name": "stdout",
     "output_type": "stream",
     "text": [
      "\n",
      "                    Epoch: 178 / 1000 \n",
      "                    | Train Loss: 0.20381331350654364 \n",
      "                    | Train Dice Accuracy: 0.9594705681100276 \n",
      "                    | Test Dice Accuracy: 0.16578121152189043\n",
      "                \n"
     ]
    },
    {
     "data": {
      "application/vnd.jupyter.widget-view+json": {
       "model_id": "ce3ff861367f4696a76feae08453f8ac",
       "version_major": 2,
       "version_minor": 0
      },
      "text/plain": [
       "  0%|          | 0/16 [00:00<?, ?it/s]"
      ]
     },
     "metadata": {},
     "output_type": "display_data"
    },
    {
     "name": "stdout",
     "output_type": "stream",
     "text": [
      "\n",
      "                Epoch: 179 / 1000 \n",
      "                | Train Loss: 0.19090178608894348 \n",
      "                | Train Dice Accuracy: 0.9595483708604474 \n",
      "            \n"
     ]
    },
    {
     "data": {
      "application/vnd.jupyter.widget-view+json": {
       "model_id": "09cc6414e82043e3b0f9e3af0d0e98b4",
       "version_major": 2,
       "version_minor": 0
      },
      "text/plain": [
       "  0%|          | 0/16 [00:00<?, ?it/s]"
      ]
     },
     "metadata": {},
     "output_type": "display_data"
    },
    {
     "name": "stdout",
     "output_type": "stream",
     "text": [
      "\n",
      "                    Epoch: 180 / 1000 \n",
      "                    | Train Loss: 0.1697459821589291 \n",
      "                    | Train Dice Accuracy: 0.9611010800708424 \n",
      "                    | Test Dice Accuracy: 0.6382433738973405\n",
      "                \n"
     ]
    },
    {
     "data": {
      "application/vnd.jupyter.widget-view+json": {
       "model_id": "54cdfb9a6d3e40d6a0075eeb08520601",
       "version_major": 2,
       "version_minor": 0
      },
      "text/plain": [
       "  0%|          | 0/16 [00:00<?, ?it/s]"
      ]
     },
     "metadata": {},
     "output_type": "display_data"
    },
    {
     "name": "stdout",
     "output_type": "stream",
     "text": [
      "\n",
      "                Epoch: 181 / 1000 \n",
      "                | Train Loss: 0.20073013147339225 \n",
      "                | Train Dice Accuracy: 0.9532856722210729 \n",
      "            \n"
     ]
    },
    {
     "data": {
      "application/vnd.jupyter.widget-view+json": {
       "model_id": "694d2e10367744f0aa15dc0a0382ba88",
       "version_major": 2,
       "version_minor": 0
      },
      "text/plain": [
       "  0%|          | 0/16 [00:00<?, ?it/s]"
      ]
     },
     "metadata": {},
     "output_type": "display_data"
    },
    {
     "name": "stdout",
     "output_type": "stream",
     "text": [
      "\n",
      "                    Epoch: 182 / 1000 \n",
      "                    | Train Loss: 0.16159507492557168 \n",
      "                    | Train Dice Accuracy: 0.9505804173151652 \n",
      "                    | Test Dice Accuracy: 0.2676704054077466\n",
      "                \n"
     ]
    },
    {
     "data": {
      "application/vnd.jupyter.widget-view+json": {
       "model_id": "a8a6245d2ad843e9a301f550f013e281",
       "version_major": 2,
       "version_minor": 0
      },
      "text/plain": [
       "  0%|          | 0/16 [00:00<?, ?it/s]"
      ]
     },
     "metadata": {},
     "output_type": "display_data"
    },
    {
     "name": "stdout",
     "output_type": "stream",
     "text": [
      "\n",
      "                Epoch: 183 / 1000 \n",
      "                | Train Loss: 0.2215941739268601 \n",
      "                | Train Dice Accuracy: 0.9675333139373035 \n",
      "            \n"
     ]
    },
    {
     "data": {
      "application/vnd.jupyter.widget-view+json": {
       "model_id": "63e88ce1e8f440928f2f981d25222423",
       "version_major": 2,
       "version_minor": 0
      },
      "text/plain": [
       "  0%|          | 0/16 [00:00<?, ?it/s]"
      ]
     },
     "metadata": {},
     "output_type": "display_data"
    },
    {
     "name": "stdout",
     "output_type": "stream",
     "text": [
      "\n",
      "                    Epoch: 184 / 1000 \n",
      "                    | Train Loss: 0.1910802039783448 \n",
      "                    | Train Dice Accuracy: 0.9482593101645829 \n",
      "                    | Test Dice Accuracy: 0.4734811683495839\n",
      "                \n"
     ]
    },
    {
     "data": {
      "application/vnd.jupyter.widget-view+json": {
       "model_id": "82e8c06b4c39487ab011ce370c8c758a",
       "version_major": 2,
       "version_minor": 0
      },
      "text/plain": [
       "  0%|          | 0/16 [00:00<?, ?it/s]"
      ]
     },
     "metadata": {},
     "output_type": "display_data"
    },
    {
     "name": "stdout",
     "output_type": "stream",
     "text": [
      "\n",
      "                Epoch: 185 / 1000 \n",
      "                | Train Loss: 0.20630228985100985 \n",
      "                | Train Dice Accuracy: 0.9439606741767064 \n",
      "            \n"
     ]
    },
    {
     "data": {
      "application/vnd.jupyter.widget-view+json": {
       "model_id": "ed1b802d2e4c401ea129854702880062",
       "version_major": 2,
       "version_minor": 0
      },
      "text/plain": [
       "  0%|          | 0/16 [00:00<?, ?it/s]"
      ]
     },
     "metadata": {},
     "output_type": "display_data"
    },
    {
     "name": "stdout",
     "output_type": "stream",
     "text": [
      "saved new best spleen metric model\n",
      "\n",
      "                    Epoch: 186 / 1000 \n",
      "                    | Train Loss: 0.22264049295336008 \n",
      "                    | Train Dice Accuracy: 0.9614297990660066 \n",
      "                    | Test Dice Accuracy: 0.7243163188298544\n",
      "                \n"
     ]
    },
    {
     "data": {
      "application/vnd.jupyter.widget-view+json": {
       "model_id": "b07a49c978e144928aa3810976386425",
       "version_major": 2,
       "version_minor": 0
      },
      "text/plain": [
       "  0%|          | 0/16 [00:00<?, ?it/s]"
      ]
     },
     "metadata": {},
     "output_type": "display_data"
    },
    {
     "name": "stdout",
     "output_type": "stream",
     "text": [
      "\n",
      "                Epoch: 187 / 1000 \n",
      "                | Train Loss: 0.209771697409451 \n",
      "                | Train Dice Accuracy: 0.9472897819510089 \n",
      "            \n"
     ]
    },
    {
     "data": {
      "application/vnd.jupyter.widget-view+json": {
       "model_id": "978f3919d9334b119958f8e40452d330",
       "version_major": 2,
       "version_minor": 0
      },
      "text/plain": [
       "  0%|          | 0/16 [00:00<?, ?it/s]"
      ]
     },
     "metadata": {},
     "output_type": "display_data"
    },
    {
     "name": "stdout",
     "output_type": "stream",
     "text": [
      "saved new best spleen metric model\n",
      "\n",
      "                    Epoch: 188 / 1000 \n",
      "                    | Train Loss: 0.18004630226641893 \n",
      "                    | Train Dice Accuracy: 0.9629151125748953 \n",
      "                    | Test Dice Accuracy: 0.9007378882831998\n",
      "                \n"
     ]
    },
    {
     "data": {
      "application/vnd.jupyter.widget-view+json": {
       "model_id": "358137d2d723459c968f4919a3ea2c06",
       "version_major": 2,
       "version_minor": 0
      },
      "text/plain": [
       "  0%|          | 0/16 [00:00<?, ?it/s]"
      ]
     },
     "metadata": {},
     "output_type": "display_data"
    },
    {
     "name": "stdout",
     "output_type": "stream",
     "text": [
      "\n",
      "                Epoch: 189 / 1000 \n",
      "                | Train Loss: 0.16801340016536415 \n",
      "                | Train Dice Accuracy: 0.9509453546305943 \n",
      "            \n"
     ]
    },
    {
     "data": {
      "application/vnd.jupyter.widget-view+json": {
       "model_id": "9d687eab7d03454a83df19330cfbdae7",
       "version_major": 2,
       "version_minor": 0
      },
      "text/plain": [
       "  0%|          | 0/16 [00:00<?, ?it/s]"
      ]
     },
     "metadata": {},
     "output_type": "display_data"
    },
    {
     "name": "stdout",
     "output_type": "stream",
     "text": [
      "\n",
      "                    Epoch: 190 / 1000 \n",
      "                    | Train Loss: 0.20270896144211292 \n",
      "                    | Train Dice Accuracy: 0.961696610066563 \n",
      "                    | Test Dice Accuracy: 0.6565245257483588\n",
      "                \n"
     ]
    },
    {
     "data": {
      "application/vnd.jupyter.widget-view+json": {
       "model_id": "092d871f376f497687d880a87be1d22d",
       "version_major": 2,
       "version_minor": 0
      },
      "text/plain": [
       "  0%|          | 0/16 [00:00<?, ?it/s]"
      ]
     },
     "metadata": {},
     "output_type": "display_data"
    },
    {
     "name": "stdout",
     "output_type": "stream",
     "text": [
      "\n",
      "                Epoch: 191 / 1000 \n",
      "                | Train Loss: 0.17977265128865838 \n",
      "                | Train Dice Accuracy: 0.9606027325726874 \n",
      "            \n"
     ]
    },
    {
     "data": {
      "application/vnd.jupyter.widget-view+json": {
       "model_id": "d8680bafd00c47e882eda1b185313b2f",
       "version_major": 2,
       "version_minor": 0
      },
      "text/plain": [
       "  0%|          | 0/16 [00:00<?, ?it/s]"
      ]
     },
     "metadata": {},
     "output_type": "display_data"
    },
    {
     "name": "stdout",
     "output_type": "stream",
     "text": [
      "\n",
      "                    Epoch: 192 / 1000 \n",
      "                    | Train Loss: 0.20269652176648378 \n",
      "                    | Train Dice Accuracy: 0.9628126095821508 \n",
      "                    | Test Dice Accuracy: 0.6372552182939317\n",
      "                \n"
     ]
    },
    {
     "data": {
      "application/vnd.jupyter.widget-view+json": {
       "model_id": "988d53aa341845289eee9cbdbcd4f862",
       "version_major": 2,
       "version_minor": 0
      },
      "text/plain": [
       "  0%|          | 0/16 [00:00<?, ?it/s]"
      ]
     },
     "metadata": {},
     "output_type": "display_data"
    },
    {
     "name": "stdout",
     "output_type": "stream",
     "text": [
      "\n",
      "                Epoch: 193 / 1000 \n",
      "                | Train Loss: 0.21273437701165676 \n",
      "                | Train Dice Accuracy: 0.951367974846284 \n",
      "            \n"
     ]
    },
    {
     "data": {
      "application/vnd.jupyter.widget-view+json": {
       "model_id": "a0d9760f49204dd4972ddf70fc62fd0c",
       "version_major": 2,
       "version_minor": 0
      },
      "text/plain": [
       "  0%|          | 0/16 [00:00<?, ?it/s]"
      ]
     },
     "metadata": {},
     "output_type": "display_data"
    },
    {
     "name": "stdout",
     "output_type": "stream",
     "text": [
      "\n",
      "                    Epoch: 194 / 1000 \n",
      "                    | Train Loss: 0.20748661179095507 \n",
      "                    | Train Dice Accuracy: 0.95984626469158 \n",
      "                    | Test Dice Accuracy: 0.8668118516604105\n",
      "                \n"
     ]
    },
    {
     "data": {
      "application/vnd.jupyter.widget-view+json": {
       "model_id": "16dfe9b57bb941119c93514be5a7aff1",
       "version_major": 2,
       "version_minor": 0
      },
      "text/plain": [
       "  0%|          | 0/16 [00:00<?, ?it/s]"
      ]
     },
     "metadata": {},
     "output_type": "display_data"
    },
    {
     "name": "stdout",
     "output_type": "stream",
     "text": [
      "\n",
      "                Epoch: 195 / 1000 \n",
      "                | Train Loss: 0.20518193440511823 \n",
      "                | Train Dice Accuracy: 0.9487277652736001 \n",
      "            \n"
     ]
    },
    {
     "data": {
      "application/vnd.jupyter.widget-view+json": {
       "model_id": "51d91e5356a0447a8effc7055d1d89b6",
       "version_major": 2,
       "version_minor": 0
      },
      "text/plain": [
       "  0%|          | 0/16 [00:00<?, ?it/s]"
      ]
     },
     "metadata": {},
     "output_type": "display_data"
    },
    {
     "name": "stdout",
     "output_type": "stream",
     "text": [
      "\n",
      "                    Epoch: 196 / 1000 \n",
      "                    | Train Loss: 0.19668002054095268 \n",
      "                    | Train Dice Accuracy: 0.9634630165189645 \n",
      "                    | Test Dice Accuracy: 0.5628477500544654\n",
      "                \n"
     ]
    },
    {
     "data": {
      "application/vnd.jupyter.widget-view+json": {
       "model_id": "df29f00309ea41e89cf52fb5614474f0",
       "version_major": 2,
       "version_minor": 0
      },
      "text/plain": [
       "  0%|          | 0/16 [00:00<?, ?it/s]"
      ]
     },
     "metadata": {},
     "output_type": "display_data"
    },
    {
     "name": "stdout",
     "output_type": "stream",
     "text": [
      "\n",
      "                Epoch: 197 / 1000 \n",
      "                | Train Loss: 0.18995476816780865 \n",
      "                | Train Dice Accuracy: 0.9583895491999249 \n",
      "            \n"
     ]
    },
    {
     "data": {
      "application/vnd.jupyter.widget-view+json": {
       "model_id": "b61a2cf691964010948cf6d71251c1e0",
       "version_major": 2,
       "version_minor": 0
      },
      "text/plain": [
       "  0%|          | 0/16 [00:00<?, ?it/s]"
      ]
     },
     "metadata": {},
     "output_type": "display_data"
    },
    {
     "name": "stdout",
     "output_type": "stream",
     "text": [
      "saved new best spleen metric model\n",
      "\n",
      "                    Epoch: 198 / 1000 \n",
      "                    | Train Loss: 0.13521952205337584 \n",
      "                    | Train Dice Accuracy: 0.9579844604367795 \n",
      "                    | Test Dice Accuracy: 0.9169389605522156\n",
      "                \n"
     ]
    },
    {
     "data": {
      "application/vnd.jupyter.widget-view+json": {
       "model_id": "e774d060aa35432aa53cba0ba18a2e5d",
       "version_major": 2,
       "version_minor": 0
      },
      "text/plain": [
       "  0%|          | 0/16 [00:00<?, ?it/s]"
      ]
     },
     "metadata": {},
     "output_type": "display_data"
    },
    {
     "name": "stdout",
     "output_type": "stream",
     "text": [
      "\n",
      "                Epoch: 199 / 1000 \n",
      "                | Train Loss: 0.19025519024580717 \n",
      "                | Train Dice Accuracy: 0.9615356150631592 \n",
      "            \n"
     ]
    },
    {
     "data": {
      "application/vnd.jupyter.widget-view+json": {
       "model_id": "42b522db2a3e4559afe72e0fa3f50bf8",
       "version_major": 2,
       "version_minor": 0
      },
      "text/plain": [
       "  0%|          | 0/16 [00:00<?, ?it/s]"
      ]
     },
     "metadata": {},
     "output_type": "display_data"
    },
    {
     "name": "stdout",
     "output_type": "stream",
     "text": [
      "\n",
      "                    Epoch: 200 / 1000 \n",
      "                    | Train Loss: 0.19215992745012045 \n",
      "                    | Train Dice Accuracy: 0.9538604137509368 \n",
      "                    | Test Dice Accuracy: 0.8072918554147085\n",
      "                \n"
     ]
    },
    {
     "data": {
      "application/vnd.jupyter.widget-view+json": {
       "model_id": "fad4b8af801344d2ac17190b078c0b88",
       "version_major": 2,
       "version_minor": 0
      },
      "text/plain": [
       "  0%|          | 0/16 [00:00<?, ?it/s]"
      ]
     },
     "metadata": {},
     "output_type": "display_data"
    },
    {
     "name": "stdout",
     "output_type": "stream",
     "text": [
      "\n",
      "                Epoch: 201 / 1000 \n",
      "                | Train Loss: 0.17718250304460526 \n",
      "                | Train Dice Accuracy: 0.9516173633515026 \n",
      "            \n"
     ]
    },
    {
     "data": {
      "application/vnd.jupyter.widget-view+json": {
       "model_id": "07502a751f9f4d5a87c85ff74f60ba18",
       "version_major": 2,
       "version_minor": 0
      },
      "text/plain": [
       "  0%|          | 0/16 [00:00<?, ?it/s]"
      ]
     },
     "metadata": {},
     "output_type": "display_data"
    },
    {
     "name": "stdout",
     "output_type": "stream",
     "text": [
      "\n",
      "                    Epoch: 202 / 1000 \n",
      "                    | Train Loss: 0.18801884818822145 \n",
      "                    | Train Dice Accuracy: 0.9430013748064433 \n",
      "                    | Test Dice Accuracy: 0.3110538033975495\n",
      "                \n"
     ]
    },
    {
     "data": {
      "application/vnd.jupyter.widget-view+json": {
       "model_id": "181007f17487497eaca72d1f91b59774",
       "version_major": 2,
       "version_minor": 0
      },
      "text/plain": [
       "  0%|          | 0/16 [00:00<?, ?it/s]"
      ]
     },
     "metadata": {},
     "output_type": "display_data"
    },
    {
     "name": "stdout",
     "output_type": "stream",
     "text": [
      "\n",
      "                Epoch: 203 / 1000 \n",
      "                | Train Loss: 0.2195733366534114 \n",
      "                | Train Dice Accuracy: 0.9503734002892787 \n",
      "            \n"
     ]
    },
    {
     "data": {
      "application/vnd.jupyter.widget-view+json": {
       "model_id": "aa3dfc54d39745a1936dd1ff598fadf8",
       "version_major": 2,
       "version_minor": 0
      },
      "text/plain": [
       "  0%|          | 0/16 [00:00<?, ?it/s]"
      ]
     },
     "metadata": {},
     "output_type": "display_data"
    },
    {
     "name": "stdout",
     "output_type": "stream",
     "text": [
      "\n",
      "                    Epoch: 204 / 1000 \n",
      "                    | Train Loss: 0.20404000161215663 \n",
      "                    | Train Dice Accuracy: 0.9546759359116824 \n",
      "                    | Test Dice Accuracy: 0.8583468794822693\n",
      "                \n"
     ]
    },
    {
     "data": {
      "application/vnd.jupyter.widget-view+json": {
       "model_id": "44e077e074994cf3a89491b6e7238248",
       "version_major": 2,
       "version_minor": 0
      },
      "text/plain": [
       "  0%|          | 0/16 [00:00<?, ?it/s]"
      ]
     },
     "metadata": {},
     "output_type": "display_data"
    },
    {
     "name": "stdout",
     "output_type": "stream",
     "text": [
      "\n",
      "                Epoch: 205 / 1000 \n",
      "                | Train Loss: 0.20954495389014482 \n",
      "                | Train Dice Accuracy: 0.9517878556703504 \n",
      "            \n"
     ]
    },
    {
     "data": {
      "application/vnd.jupyter.widget-view+json": {
       "model_id": "6ec626efbb434a1b89a2e6da4f99a2cc",
       "version_major": 2,
       "version_minor": 0
      },
      "text/plain": [
       "  0%|          | 0/16 [00:00<?, ?it/s]"
      ]
     },
     "metadata": {},
     "output_type": "display_data"
    },
    {
     "name": "stdout",
     "output_type": "stream",
     "text": [
      "\n",
      "                    Epoch: 206 / 1000 \n",
      "                    | Train Loss: 0.2160761682316661 \n",
      "                    | Train Dice Accuracy: 0.9579178645060613 \n",
      "                    | Test Dice Accuracy: 0.9011995262569852\n",
      "                \n"
     ]
    },
    {
     "data": {
      "application/vnd.jupyter.widget-view+json": {
       "model_id": "260719f93b47419b9cf7c84bce12980a",
       "version_major": 2,
       "version_minor": 0
      },
      "text/plain": [
       "  0%|          | 0/16 [00:00<?, ?it/s]"
      ]
     },
     "metadata": {},
     "output_type": "display_data"
    },
    {
     "name": "stdout",
     "output_type": "stream",
     "text": [
      "\n",
      "                Epoch: 207 / 1000 \n",
      "                | Train Loss: 0.1826699711382389 \n",
      "                | Train Dice Accuracy: 0.9479676300829107 \n",
      "            \n"
     ]
    },
    {
     "data": {
      "application/vnd.jupyter.widget-view+json": {
       "model_id": "317a879d5b1b4654a2258eb6832f13d0",
       "version_major": 2,
       "version_minor": 0
      },
      "text/plain": [
       "  0%|          | 0/16 [00:00<?, ?it/s]"
      ]
     },
     "metadata": {},
     "output_type": "display_data"
    },
    {
     "name": "stdout",
     "output_type": "stream",
     "text": [
      "\n",
      "                    Epoch: 208 / 1000 \n",
      "                    | Train Loss: 0.2052106410264969 \n",
      "                    | Train Dice Accuracy: 0.9541272537888221 \n",
      "                    | Test Dice Accuracy: 0.731896291176478\n",
      "                \n"
     ]
    },
    {
     "data": {
      "application/vnd.jupyter.widget-view+json": {
       "model_id": "c15aee2860e04e3199e54083f1ff6962",
       "version_major": 2,
       "version_minor": 0
      },
      "text/plain": [
       "  0%|          | 0/16 [00:00<?, ?it/s]"
      ]
     },
     "metadata": {},
     "output_type": "display_data"
    },
    {
     "name": "stdout",
     "output_type": "stream",
     "text": [
      "\n",
      "                Epoch: 209 / 1000 \n",
      "                | Train Loss: 0.1840983210131526 \n",
      "                | Train Dice Accuracy: 0.9463857117049191 \n",
      "            \n"
     ]
    },
    {
     "data": {
      "application/vnd.jupyter.widget-view+json": {
       "model_id": "f95507fb295942c7af65675dfd87c8cb",
       "version_major": 2,
       "version_minor": 0
      },
      "text/plain": [
       "  0%|          | 0/16 [00:00<?, ?it/s]"
      ]
     },
     "metadata": {},
     "output_type": "display_data"
    },
    {
     "name": "stdout",
     "output_type": "stream",
     "text": [
      "\n",
      "                    Epoch: 210 / 1000 \n",
      "                    | Train Loss: 0.17408509133383632 \n",
      "                    | Train Dice Accuracy: 0.9553490370512009 \n",
      "                    | Test Dice Accuracy: 0.9165162709024217\n",
      "                \n"
     ]
    },
    {
     "data": {
      "application/vnd.jupyter.widget-view+json": {
       "model_id": "566bc3774a814356a93819d663461865",
       "version_major": 2,
       "version_minor": 0
      },
      "text/plain": [
       "  0%|          | 0/16 [00:00<?, ?it/s]"
      ]
     },
     "metadata": {},
     "output_type": "display_data"
    },
    {
     "name": "stdout",
     "output_type": "stream",
     "text": [
      "\n",
      "                Epoch: 211 / 1000 \n",
      "                | Train Loss: 0.1504776463843882 \n",
      "                | Train Dice Accuracy: 0.9558504864904616 \n",
      "            \n"
     ]
    },
    {
     "data": {
      "application/vnd.jupyter.widget-view+json": {
       "model_id": "95817798b19543fea90fc09fad3a357f",
       "version_major": 2,
       "version_minor": 0
      },
      "text/plain": [
       "  0%|          | 0/16 [00:00<?, ?it/s]"
      ]
     },
     "metadata": {},
     "output_type": "display_data"
    },
    {
     "name": "stdout",
     "output_type": "stream",
     "text": [
      "\n",
      "                    Epoch: 212 / 1000 \n",
      "                    | Train Loss: 0.17007943661883473 \n",
      "                    | Train Dice Accuracy: 0.9539212324060835 \n",
      "                    | Test Dice Accuracy: 0.6131312847137451\n",
      "                \n"
     ]
    },
    {
     "data": {
      "application/vnd.jupyter.widget-view+json": {
       "model_id": "7912b4941564467f99d83b8a815c8830",
       "version_major": 2,
       "version_minor": 0
      },
      "text/plain": [
       "  0%|          | 0/16 [00:00<?, ?it/s]"
      ]
     },
     "metadata": {},
     "output_type": "display_data"
    },
    {
     "name": "stdout",
     "output_type": "stream",
     "text": [
      "\n",
      "                Epoch: 213 / 1000 \n",
      "                | Train Loss: 0.20564243756234646 \n",
      "                | Train Dice Accuracy: 0.9580158930254209 \n",
      "            \n"
     ]
    },
    {
     "data": {
      "application/vnd.jupyter.widget-view+json": {
       "model_id": "93809ad1d82447ed8f2532edfef68deb",
       "version_major": 2,
       "version_minor": 0
      },
      "text/plain": [
       "  0%|          | 0/16 [00:00<?, ?it/s]"
      ]
     },
     "metadata": {},
     "output_type": "display_data"
    },
    {
     "name": "stdout",
     "output_type": "stream",
     "text": [
      "\n",
      "                    Epoch: 214 / 1000 \n",
      "                    | Train Loss: 0.1726638393010944 \n",
      "                    | Train Dice Accuracy: 0.9517897993191335 \n",
      "                    | Test Dice Accuracy: 0.5452052536937926\n",
      "                \n"
     ]
    },
    {
     "data": {
      "application/vnd.jupyter.widget-view+json": {
       "model_id": "0edb6f5cd4fc47c092dd0764125cff15",
       "version_major": 2,
       "version_minor": 0
      },
      "text/plain": [
       "  0%|          | 0/16 [00:00<?, ?it/s]"
      ]
     },
     "metadata": {},
     "output_type": "display_data"
    },
    {
     "name": "stdout",
     "output_type": "stream",
     "text": [
      "\n",
      "                Epoch: 215 / 1000 \n",
      "                | Train Loss: 0.17801229050382972 \n",
      "                | Train Dice Accuracy: 0.9578960543378777 \n",
      "            \n"
     ]
    },
    {
     "data": {
      "application/vnd.jupyter.widget-view+json": {
       "model_id": "ce06acf96f6645ddbc35cffb653f8eb6",
       "version_major": 2,
       "version_minor": 0
      },
      "text/plain": [
       "  0%|          | 0/16 [00:00<?, ?it/s]"
      ]
     },
     "metadata": {},
     "output_type": "display_data"
    },
    {
     "name": "stdout",
     "output_type": "stream",
     "text": [
      "saved new best spleen metric model\n",
      "\n",
      "                    Epoch: 216 / 1000 \n",
      "                    | Train Loss: 0.2306307191029191 \n",
      "                    | Train Dice Accuracy: 0.9484069963682045 \n",
      "                    | Test Dice Accuracy: 0.9312336908446418\n",
      "                \n"
     ]
    },
    {
     "data": {
      "application/vnd.jupyter.widget-view+json": {
       "model_id": "c67c2bd6bd39455781291d9d3d488818",
       "version_major": 2,
       "version_minor": 0
      },
      "text/plain": [
       "  0%|          | 0/16 [00:00<?, ?it/s]"
      ]
     },
     "metadata": {},
     "output_type": "display_data"
    },
    {
     "name": "stdout",
     "output_type": "stream",
     "text": [
      "\n",
      "                Epoch: 217 / 1000 \n",
      "                | Train Loss: 0.1763570827897638 \n",
      "                | Train Dice Accuracy: 0.9605866886607004 \n",
      "            \n"
     ]
    },
    {
     "data": {
      "application/vnd.jupyter.widget-view+json": {
       "model_id": "ce04b4c958734feb804d7f0fc0679725",
       "version_major": 2,
       "version_minor": 0
      },
      "text/plain": [
       "  0%|          | 0/16 [00:00<?, ?it/s]"
      ]
     },
     "metadata": {},
     "output_type": "display_data"
    },
    {
     "name": "stdout",
     "output_type": "stream",
     "text": [
      "\n",
      "                    Epoch: 218 / 1000 \n",
      "                    | Train Loss: 0.1847709584981203 \n",
      "                    | Train Dice Accuracy: 0.957963773457136 \n",
      "                    | Test Dice Accuracy: 0.9295645091268752\n",
      "                \n"
     ]
    },
    {
     "data": {
      "application/vnd.jupyter.widget-view+json": {
       "model_id": "e71eeedea4f24b74874d639bc49b4f35",
       "version_major": 2,
       "version_minor": 0
      },
      "text/plain": [
       "  0%|          | 0/16 [00:00<?, ?it/s]"
      ]
     },
     "metadata": {},
     "output_type": "display_data"
    },
    {
     "name": "stdout",
     "output_type": "stream",
     "text": [
      "\n",
      "                Epoch: 219 / 1000 \n",
      "                | Train Loss: 0.21542650926858187 \n",
      "                | Train Dice Accuracy: 0.9578971702318925 \n",
      "            \n"
     ]
    },
    {
     "data": {
      "application/vnd.jupyter.widget-view+json": {
       "model_id": "9e99d9e8e9fa43ca992251c260c2b05d",
       "version_major": 2,
       "version_minor": 0
      },
      "text/plain": [
       "  0%|          | 0/16 [00:00<?, ?it/s]"
      ]
     },
     "metadata": {},
     "output_type": "display_data"
    },
    {
     "name": "stdout",
     "output_type": "stream",
     "text": [
      "\n",
      "                    Epoch: 220 / 1000 \n",
      "                    | Train Loss: 0.1971010621637106 \n",
      "                    | Train Dice Accuracy: 0.9545552254842481 \n",
      "                    | Test Dice Accuracy: 0.8397390776210361\n",
      "                \n"
     ]
    },
    {
     "data": {
      "application/vnd.jupyter.widget-view+json": {
       "model_id": "e5c626d044f04f92a29dc9264d5c5c97",
       "version_major": 2,
       "version_minor": 0
      },
      "text/plain": [
       "  0%|          | 0/16 [00:00<?, ?it/s]"
      ]
     },
     "metadata": {},
     "output_type": "display_data"
    },
    {
     "name": "stdout",
     "output_type": "stream",
     "text": [
      "\n",
      "                Epoch: 221 / 1000 \n",
      "                | Train Loss: 0.19151100423187017 \n",
      "                | Train Dice Accuracy: 0.9636986697783493 \n",
      "            \n"
     ]
    },
    {
     "data": {
      "application/vnd.jupyter.widget-view+json": {
       "model_id": "63255e0abcb04684a715b913b9eebc95",
       "version_major": 2,
       "version_minor": 0
      },
      "text/plain": [
       "  0%|          | 0/16 [00:00<?, ?it/s]"
      ]
     },
     "metadata": {},
     "output_type": "display_data"
    },
    {
     "name": "stdout",
     "output_type": "stream",
     "text": [
      "\n",
      "                    Epoch: 222 / 1000 \n",
      "                    | Train Loss: 0.18435624334961176 \n",
      "                    | Train Dice Accuracy: 0.962585985660553 \n",
      "                    | Test Dice Accuracy: 0.9215503798590766\n",
      "                \n"
     ]
    },
    {
     "data": {
      "application/vnd.jupyter.widget-view+json": {
       "model_id": "5294f3bf1f904ddcaa8cb5b80ddb80a8",
       "version_major": 2,
       "version_minor": 0
      },
      "text/plain": [
       "  0%|          | 0/16 [00:00<?, ?it/s]"
      ]
     },
     "metadata": {},
     "output_type": "display_data"
    },
    {
     "name": "stdout",
     "output_type": "stream",
     "text": [
      "\n",
      "                Epoch: 223 / 1000 \n",
      "                | Train Loss: 0.19806840736418962 \n",
      "                | Train Dice Accuracy: 0.9551578219805923 \n",
      "            \n"
     ]
    },
    {
     "data": {
      "application/vnd.jupyter.widget-view+json": {
       "model_id": "c30d68726b3f42cbb36d1229113ea47f",
       "version_major": 2,
       "version_minor": 0
      },
      "text/plain": [
       "  0%|          | 0/16 [00:00<?, ?it/s]"
      ]
     },
     "metadata": {},
     "output_type": "display_data"
    },
    {
     "name": "stdout",
     "output_type": "stream",
     "text": [
      "saved new best spleen metric model\n",
      "\n",
      "                    Epoch: 224 / 1000 \n",
      "                    | Train Loss: 0.2224805927835405 \n",
      "                    | Train Dice Accuracy: 0.9563188172768855 \n",
      "                    | Test Dice Accuracy: 0.9343109726905823\n",
      "                \n"
     ]
    },
    {
     "data": {
      "application/vnd.jupyter.widget-view+json": {
       "model_id": "14b6cebbdcc140fa9676d9be12283b73",
       "version_major": 2,
       "version_minor": 0
      },
      "text/plain": [
       "  0%|          | 0/16 [00:00<?, ?it/s]"
      ]
     },
     "metadata": {},
     "output_type": "display_data"
    },
    {
     "name": "stdout",
     "output_type": "stream",
     "text": [
      "\n",
      "                Epoch: 225 / 1000 \n",
      "                | Train Loss: 0.1777106705121696 \n",
      "                | Train Dice Accuracy: 0.9631768248048246 \n",
      "            \n"
     ]
    },
    {
     "data": {
      "application/vnd.jupyter.widget-view+json": {
       "model_id": "d53bd4373aa04f45b0a34b8dadac0f03",
       "version_major": 2,
       "version_minor": 0
      },
      "text/plain": [
       "  0%|          | 0/16 [00:00<?, ?it/s]"
      ]
     },
     "metadata": {},
     "output_type": "display_data"
    },
    {
     "name": "stdout",
     "output_type": "stream",
     "text": [
      "\n",
      "                    Epoch: 226 / 1000 \n",
      "                    | Train Loss: 0.17163554159924388 \n",
      "                    | Train Dice Accuracy: 0.9579871689731424 \n",
      "                    | Test Dice Accuracy: 0.9291263090239631\n",
      "                \n"
     ]
    },
    {
     "data": {
      "application/vnd.jupyter.widget-view+json": {
       "model_id": "b13ce293ac514f95b581dc4d8adcc021",
       "version_major": 2,
       "version_minor": 0
      },
      "text/plain": [
       "  0%|          | 0/16 [00:00<?, ?it/s]"
      ]
     },
     "metadata": {},
     "output_type": "display_data"
    },
    {
     "name": "stdout",
     "output_type": "stream",
     "text": [
      "\n",
      "                Epoch: 227 / 1000 \n",
      "                | Train Loss: 0.19409233005717397 \n",
      "                | Train Dice Accuracy: 0.9545305019201235 \n",
      "            \n"
     ]
    },
    {
     "data": {
      "application/vnd.jupyter.widget-view+json": {
       "model_id": "a013244db0eb4d889c55221c929c3072",
       "version_major": 2,
       "version_minor": 0
      },
      "text/plain": [
       "  0%|          | 0/16 [00:00<?, ?it/s]"
      ]
     },
     "metadata": {},
     "output_type": "display_data"
    },
    {
     "name": "stdout",
     "output_type": "stream",
     "text": [
      "\n",
      "                    Epoch: 228 / 1000 \n",
      "                    | Train Loss: 0.15391320921480656 \n",
      "                    | Train Dice Accuracy: 0.9634530643176605 \n",
      "                    | Test Dice Accuracy: 0.8238333198759291\n",
      "                \n"
     ]
    },
    {
     "data": {
      "application/vnd.jupyter.widget-view+json": {
       "model_id": "a1e828e1279a4cfa8a6665543eddb62d",
       "version_major": 2,
       "version_minor": 0
      },
      "text/plain": [
       "  0%|          | 0/16 [00:00<?, ?it/s]"
      ]
     },
     "metadata": {},
     "output_type": "display_data"
    },
    {
     "name": "stdout",
     "output_type": "stream",
     "text": [
      "\n",
      "                Epoch: 229 / 1000 \n",
      "                | Train Loss: 0.18608504021540284 \n",
      "                | Train Dice Accuracy: 0.9536192219378212 \n",
      "            \n"
     ]
    },
    {
     "data": {
      "application/vnd.jupyter.widget-view+json": {
       "model_id": "d093cf4ae2a5483b8962d6efb3897d34",
       "version_major": 2,
       "version_minor": 0
      },
      "text/plain": [
       "  0%|          | 0/16 [00:00<?, ?it/s]"
      ]
     },
     "metadata": {},
     "output_type": "display_data"
    },
    {
     "name": "stdout",
     "output_type": "stream",
     "text": [
      "\n",
      "                    Epoch: 230 / 1000 \n",
      "                    | Train Loss: 0.21921515464782715 \n",
      "                    | Train Dice Accuracy: 0.9496684196449462 \n",
      "                    | Test Dice Accuracy: 0.7883140709665086\n",
      "                \n"
     ]
    },
    {
     "data": {
      "application/vnd.jupyter.widget-view+json": {
       "model_id": "a1a8f2cfc0034fc9be49ca1c58dc7840",
       "version_major": 2,
       "version_minor": 0
      },
      "text/plain": [
       "  0%|          | 0/16 [00:00<?, ?it/s]"
      ]
     },
     "metadata": {},
     "output_type": "display_data"
    },
    {
     "name": "stdout",
     "output_type": "stream",
     "text": [
      "\n",
      "                Epoch: 231 / 1000 \n",
      "                | Train Loss: 0.1715488329064101 \n",
      "                | Train Dice Accuracy: 0.9421441453454741 \n",
      "            \n"
     ]
    },
    {
     "data": {
      "application/vnd.jupyter.widget-view+json": {
       "model_id": "8d0b0f8746f74ef1b07249aed11d4467",
       "version_major": 2,
       "version_minor": 0
      },
      "text/plain": [
       "  0%|          | 0/16 [00:00<?, ?it/s]"
      ]
     },
     "metadata": {},
     "output_type": "display_data"
    },
    {
     "name": "stdout",
     "output_type": "stream",
     "text": [
      "\n",
      "                    Epoch: 232 / 1000 \n",
      "                    | Train Loss: 0.16329824994318187 \n",
      "                    | Train Dice Accuracy: 0.9461752226842302 \n",
      "                    | Test Dice Accuracy: 0.6712012853887346\n",
      "                \n"
     ]
    },
    {
     "data": {
      "application/vnd.jupyter.widget-view+json": {
       "model_id": "b0325ab142b844e5b98cbdf09dd384dd",
       "version_major": 2,
       "version_minor": 0
      },
      "text/plain": [
       "  0%|          | 0/16 [00:00<?, ?it/s]"
      ]
     },
     "metadata": {},
     "output_type": "display_data"
    },
    {
     "name": "stdout",
     "output_type": "stream",
     "text": [
      "\n",
      "                Epoch: 233 / 1000 \n",
      "                | Train Loss: 0.19999462738633156 \n",
      "                | Train Dice Accuracy: 0.952714108139555 \n",
      "            \n"
     ]
    },
    {
     "data": {
      "application/vnd.jupyter.widget-view+json": {
       "model_id": "776ae71ca0d145aa821d184c141cbd9b",
       "version_major": 2,
       "version_minor": 0
      },
      "text/plain": [
       "  0%|          | 0/16 [00:00<?, ?it/s]"
      ]
     },
     "metadata": {},
     "output_type": "display_data"
    },
    {
     "name": "stdout",
     "output_type": "stream",
     "text": [
      "\n",
      "                    Epoch: 234 / 1000 \n",
      "                    | Train Loss: 0.1626868846360594 \n",
      "                    | Train Dice Accuracy: 0.9527227207684196 \n",
      "                    | Test Dice Accuracy: 0.9074021710289849\n",
      "                \n"
     ]
    },
    {
     "data": {
      "application/vnd.jupyter.widget-view+json": {
       "model_id": "c571cfc4ff4444c0ba6bbaa8f63dbf16",
       "version_major": 2,
       "version_minor": 0
      },
      "text/plain": [
       "  0%|          | 0/16 [00:00<?, ?it/s]"
      ]
     },
     "metadata": {},
     "output_type": "display_data"
    },
    {
     "name": "stdout",
     "output_type": "stream",
     "text": [
      "\n",
      "                Epoch: 235 / 1000 \n",
      "                | Train Loss: 0.19118448626250029 \n",
      "                | Train Dice Accuracy: 0.9603861958481544 \n",
      "            \n"
     ]
    },
    {
     "data": {
      "application/vnd.jupyter.widget-view+json": {
       "model_id": "583998c7acd64a95bc99b86d60673126",
       "version_major": 2,
       "version_minor": 0
      },
      "text/plain": [
       "  0%|          | 0/16 [00:00<?, ?it/s]"
      ]
     },
     "metadata": {},
     "output_type": "display_data"
    },
    {
     "name": "stdout",
     "output_type": "stream",
     "text": [
      "\n",
      "                    Epoch: 236 / 1000 \n",
      "                    | Train Loss: 0.16791298473253846 \n",
      "                    | Train Dice Accuracy: 0.9583656397732822 \n",
      "                    | Test Dice Accuracy: 0.8075965642929077\n",
      "                \n"
     ]
    },
    {
     "data": {
      "application/vnd.jupyter.widget-view+json": {
       "model_id": "664a9b7ecdba45f98a26349b0a3772af",
       "version_major": 2,
       "version_minor": 0
      },
      "text/plain": [
       "  0%|          | 0/16 [00:00<?, ?it/s]"
      ]
     },
     "metadata": {},
     "output_type": "display_data"
    },
    {
     "name": "stdout",
     "output_type": "stream",
     "text": [
      "\n",
      "                Epoch: 237 / 1000 \n",
      "                | Train Loss: 0.21158369560725987 \n",
      "                | Train Dice Accuracy: 0.9576456455522747 \n",
      "            \n"
     ]
    },
    {
     "data": {
      "application/vnd.jupyter.widget-view+json": {
       "model_id": "67864f5e9b40407d9080ce6d120cfe0e",
       "version_major": 2,
       "version_minor": 0
      },
      "text/plain": [
       "  0%|          | 0/16 [00:00<?, ?it/s]"
      ]
     },
     "metadata": {},
     "output_type": "display_data"
    },
    {
     "name": "stdout",
     "output_type": "stream",
     "text": [
      "\n",
      "                    Epoch: 238 / 1000 \n",
      "                    | Train Loss: 0.18736955523490906 \n",
      "                    | Train Dice Accuracy: 0.9631267669044923 \n",
      "                    | Test Dice Accuracy: 0.9226068655649821\n",
      "                \n"
     ]
    },
    {
     "data": {
      "application/vnd.jupyter.widget-view+json": {
       "model_id": "cfc67a14c3b94dc4a91bd2e78b7714bd",
       "version_major": 2,
       "version_minor": 0
      },
      "text/plain": [
       "  0%|          | 0/16 [00:00<?, ?it/s]"
      ]
     },
     "metadata": {},
     "output_type": "display_data"
    },
    {
     "name": "stdout",
     "output_type": "stream",
     "text": [
      "\n",
      "                Epoch: 239 / 1000 \n",
      "                | Train Loss: 0.20745612494647503 \n",
      "                | Train Dice Accuracy: 0.959877319598312 \n",
      "            \n"
     ]
    },
    {
     "data": {
      "application/vnd.jupyter.widget-view+json": {
       "model_id": "43dbd2cf36094b1eb3577cddc273b5fa",
       "version_major": 2,
       "version_minor": 0
      },
      "text/plain": [
       "  0%|          | 0/16 [00:00<?, ?it/s]"
      ]
     },
     "metadata": {},
     "output_type": "display_data"
    },
    {
     "name": "stdout",
     "output_type": "stream",
     "text": [
      "\n",
      "                    Epoch: 240 / 1000 \n",
      "                    | Train Loss: 0.18061673268675804 \n",
      "                    | Train Dice Accuracy: 0.9539228059829922 \n",
      "                    | Test Dice Accuracy: 0.9040538999769423\n",
      "                \n"
     ]
    },
    {
     "data": {
      "application/vnd.jupyter.widget-view+json": {
       "model_id": "31707e7878904fdd9b431285b4ae8842",
       "version_major": 2,
       "version_minor": 0
      },
      "text/plain": [
       "  0%|          | 0/16 [00:00<?, ?it/s]"
      ]
     },
     "metadata": {},
     "output_type": "display_data"
    },
    {
     "name": "stdout",
     "output_type": "stream",
     "text": [
      "\n",
      "                Epoch: 241 / 1000 \n",
      "                | Train Loss: 0.1766035456676036 \n",
      "                | Train Dice Accuracy: 0.9567565354732198 \n",
      "            \n"
     ]
    },
    {
     "data": {
      "application/vnd.jupyter.widget-view+json": {
       "model_id": "17d80375ea4f4af78af9002e5b4bfafe",
       "version_major": 2,
       "version_minor": 0
      },
      "text/plain": [
       "  0%|          | 0/16 [00:00<?, ?it/s]"
      ]
     },
     "metadata": {},
     "output_type": "display_data"
    },
    {
     "name": "stdout",
     "output_type": "stream",
     "text": [
      "\n",
      "                    Epoch: 242 / 1000 \n",
      "                    | Train Loss: 0.1925533846952021 \n",
      "                    | Train Dice Accuracy: 0.9619632738296975 \n",
      "                    | Test Dice Accuracy: 0.23986556215418708\n",
      "                \n"
     ]
    },
    {
     "data": {
      "application/vnd.jupyter.widget-view+json": {
       "model_id": "da6675c7e04e4609b0d42739480f3a1f",
       "version_major": 2,
       "version_minor": 0
      },
      "text/plain": [
       "  0%|          | 0/16 [00:00<?, ?it/s]"
      ]
     },
     "metadata": {},
     "output_type": "display_data"
    },
    {
     "name": "stdout",
     "output_type": "stream",
     "text": [
      "\n",
      "                Epoch: 243 / 1000 \n",
      "                | Train Loss: 0.17726867739111185 \n",
      "                | Train Dice Accuracy: 0.9450043895027854 \n",
      "            \n"
     ]
    },
    {
     "data": {
      "application/vnd.jupyter.widget-view+json": {
       "model_id": "cad00dc8050342edb80141bff9a00d2a",
       "version_major": 2,
       "version_minor": 0
      },
      "text/plain": [
       "  0%|          | 0/16 [00:00<?, ?it/s]"
      ]
     },
     "metadata": {},
     "output_type": "display_data"
    },
    {
     "name": "stdout",
     "output_type": "stream",
     "text": [
      "\n",
      "                    Epoch: 244 / 1000 \n",
      "                    | Train Loss: 0.21583443460986018 \n",
      "                    | Train Dice Accuracy: 0.958378023826159 \n",
      "                    | Test Dice Accuracy: 0.849126762813992\n",
      "                \n"
     ]
    },
    {
     "data": {
      "application/vnd.jupyter.widget-view+json": {
       "model_id": "000f38b3ae84487c8608c8e21a1e84eb",
       "version_major": 2,
       "version_minor": 0
      },
      "text/plain": [
       "  0%|          | 0/16 [00:00<?, ?it/s]"
      ]
     },
     "metadata": {},
     "output_type": "display_data"
    },
    {
     "name": "stdout",
     "output_type": "stream",
     "text": [
      "\n",
      "                Epoch: 245 / 1000 \n",
      "                | Train Loss: 0.1978630507364869 \n",
      "                | Train Dice Accuracy: 0.968862761769976 \n",
      "            \n"
     ]
    },
    {
     "data": {
      "application/vnd.jupyter.widget-view+json": {
       "model_id": "f09331c86988401ba3183609ec1b2a56",
       "version_major": 2,
       "version_minor": 0
      },
      "text/plain": [
       "  0%|          | 0/16 [00:00<?, ?it/s]"
      ]
     },
     "metadata": {},
     "output_type": "display_data"
    },
    {
     "name": "stdout",
     "output_type": "stream",
     "text": [
      "\n",
      "                    Epoch: 246 / 1000 \n",
      "                    | Train Loss: 0.19835678301751614 \n",
      "                    | Train Dice Accuracy: 0.9574596725159408 \n",
      "                    | Test Dice Accuracy: 0.9239329033427768\n",
      "                \n"
     ]
    },
    {
     "data": {
      "application/vnd.jupyter.widget-view+json": {
       "model_id": "ef8faedcd9a346e69c61c2c0a8d77b5b",
       "version_major": 2,
       "version_minor": 0
      },
      "text/plain": [
       "  0%|          | 0/16 [00:00<?, ?it/s]"
      ]
     },
     "metadata": {},
     "output_type": "display_data"
    },
    {
     "name": "stdout",
     "output_type": "stream",
     "text": [
      "\n",
      "                Epoch: 247 / 1000 \n",
      "                | Train Loss: 0.17410749779082835 \n",
      "                | Train Dice Accuracy: 0.9399779759714956 \n",
      "            \n"
     ]
    },
    {
     "data": {
      "application/vnd.jupyter.widget-view+json": {
       "model_id": "9a5f8903f0ca4d409d51163129147a31",
       "version_major": 2,
       "version_minor": 0
      },
      "text/plain": [
       "  0%|          | 0/16 [00:00<?, ?it/s]"
      ]
     },
     "metadata": {},
     "output_type": "display_data"
    },
    {
     "name": "stdout",
     "output_type": "stream",
     "text": [
      "\n",
      "                    Epoch: 248 / 1000 \n",
      "                    | Train Loss: 0.19156856485642493 \n",
      "                    | Train Dice Accuracy: 0.9595226570267543 \n",
      "                    | Test Dice Accuracy: 0.9087573091189066\n",
      "                \n"
     ]
    },
    {
     "data": {
      "application/vnd.jupyter.widget-view+json": {
       "model_id": "08fcb0232cfe482fa040059ed9bab219",
       "version_major": 2,
       "version_minor": 0
      },
      "text/plain": [
       "  0%|          | 0/16 [00:00<?, ?it/s]"
      ]
     },
     "metadata": {},
     "output_type": "display_data"
    },
    {
     "name": "stdout",
     "output_type": "stream",
     "text": [
      "\n",
      "                Epoch: 249 / 1000 \n",
      "                | Train Loss: 0.17963244137354195 \n",
      "                | Train Dice Accuracy: 0.9601320110707788 \n",
      "            \n"
     ]
    },
    {
     "data": {
      "application/vnd.jupyter.widget-view+json": {
       "model_id": "972e7487d28c48deac21add4005a84da",
       "version_major": 2,
       "version_minor": 0
      },
      "text/plain": [
       "  0%|          | 0/16 [00:00<?, ?it/s]"
      ]
     },
     "metadata": {},
     "output_type": "display_data"
    },
    {
     "name": "stdout",
     "output_type": "stream",
     "text": [
      "\n",
      "                    Epoch: 250 / 1000 \n",
      "                    | Train Loss: 0.19075294653885067 \n",
      "                    | Train Dice Accuracy: 0.963449713209985 \n",
      "                    | Test Dice Accuracy: 0.899395744005839\n",
      "                \n"
     ]
    },
    {
     "data": {
      "application/vnd.jupyter.widget-view+json": {
       "model_id": "bd2a57fc3d604b9ea8602d0e693ac7d0",
       "version_major": 2,
       "version_minor": 0
      },
      "text/plain": [
       "  0%|          | 0/16 [00:00<?, ?it/s]"
      ]
     },
     "metadata": {},
     "output_type": "display_data"
    },
    {
     "name": "stdout",
     "output_type": "stream",
     "text": [
      "\n",
      "                Epoch: 251 / 1000 \n",
      "                | Train Loss: 0.18522326974198222 \n",
      "                | Train Dice Accuracy: 0.9588526432160978 \n",
      "            \n"
     ]
    },
    {
     "data": {
      "application/vnd.jupyter.widget-view+json": {
       "model_id": "2ce2c4af231840ec9824df0cd1a539f6",
       "version_major": 2,
       "version_minor": 0
      },
      "text/plain": [
       "  0%|          | 0/16 [00:00<?, ?it/s]"
      ]
     },
     "metadata": {},
     "output_type": "display_data"
    },
    {
     "name": "stdout",
     "output_type": "stream",
     "text": [
      "\n",
      "                    Epoch: 252 / 1000 \n",
      "                    | Train Loss: 0.1636459839064628 \n",
      "                    | Train Dice Accuracy: 0.9515946691880847 \n",
      "                    | Test Dice Accuracy: 0.8997331394089593\n",
      "                \n"
     ]
    },
    {
     "data": {
      "application/vnd.jupyter.widget-view+json": {
       "model_id": "93ccdc57bed04f0da1bd5ac0a05b51c2",
       "version_major": 2,
       "version_minor": 0
      },
      "text/plain": [
       "  0%|          | 0/16 [00:00<?, ?it/s]"
      ]
     },
     "metadata": {},
     "output_type": "display_data"
    },
    {
     "name": "stdout",
     "output_type": "stream",
     "text": [
      "\n",
      "                Epoch: 253 / 1000 \n",
      "                | Train Loss: 0.18106380896642804 \n",
      "                | Train Dice Accuracy: 0.9544274650411122 \n",
      "            \n"
     ]
    },
    {
     "data": {
      "application/vnd.jupyter.widget-view+json": {
       "model_id": "aaf1c4a97032481ba16acf132c33dd06",
       "version_major": 2,
       "version_minor": 0
      },
      "text/plain": [
       "  0%|          | 0/16 [00:00<?, ?it/s]"
      ]
     },
     "metadata": {},
     "output_type": "display_data"
    },
    {
     "name": "stdout",
     "output_type": "stream",
     "text": [
      "\n",
      "                    Epoch: 254 / 1000 \n",
      "                    | Train Loss: 0.18593299202620983 \n",
      "                    | Train Dice Accuracy: 0.9582662388335826 \n",
      "                    | Test Dice Accuracy: 0.910898831155565\n",
      "                \n"
     ]
    },
    {
     "data": {
      "application/vnd.jupyter.widget-view+json": {
       "model_id": "54f61d28dba34b7e857d95be4b06dda6",
       "version_major": 2,
       "version_minor": 0
      },
      "text/plain": [
       "  0%|          | 0/16 [00:00<?, ?it/s]"
      ]
     },
     "metadata": {},
     "output_type": "display_data"
    },
    {
     "name": "stdout",
     "output_type": "stream",
     "text": [
      "\n",
      "                Epoch: 255 / 1000 \n",
      "                | Train Loss: 0.17659431556239724 \n",
      "                | Train Dice Accuracy: 0.957101098678079 \n",
      "            \n"
     ]
    },
    {
     "data": {
      "application/vnd.jupyter.widget-view+json": {
       "model_id": "b04f0c022abb4fbe8a9e4c41653a3df6",
       "version_major": 2,
       "version_minor": 0
      },
      "text/plain": [
       "  0%|          | 0/16 [00:00<?, ?it/s]"
      ]
     },
     "metadata": {},
     "output_type": "display_data"
    },
    {
     "name": "stdout",
     "output_type": "stream",
     "text": [
      "\n",
      "                    Epoch: 256 / 1000 \n",
      "                    | Train Loss: 0.18733200430870056 \n",
      "                    | Train Dice Accuracy: 0.9603549006373383 \n",
      "                    | Test Dice Accuracy: 0.9317293167114258\n",
      "                \n"
     ]
    },
    {
     "data": {
      "application/vnd.jupyter.widget-view+json": {
       "model_id": "76c8344f011e4fe79280a2e5d010e16d",
       "version_major": 2,
       "version_minor": 0
      },
      "text/plain": [
       "  0%|          | 0/16 [00:00<?, ?it/s]"
      ]
     },
     "metadata": {},
     "output_type": "display_data"
    },
    {
     "name": "stdout",
     "output_type": "stream",
     "text": [
      "\n",
      "                Epoch: 257 / 1000 \n",
      "                | Train Loss: 0.17742241476662457 \n",
      "                | Train Dice Accuracy: 0.9599459980605939 \n",
      "            \n"
     ]
    },
    {
     "data": {
      "application/vnd.jupyter.widget-view+json": {
       "model_id": "ba8678ebb494498eaf446a67785d6737",
       "version_major": 2,
       "version_minor": 0
      },
      "text/plain": [
       "  0%|          | 0/16 [00:00<?, ?it/s]"
      ]
     },
     "metadata": {},
     "output_type": "display_data"
    },
    {
     "name": "stdout",
     "output_type": "stream",
     "text": [
      "\n",
      "                    Epoch: 258 / 1000 \n",
      "                    | Train Loss: 0.16620111698284745 \n",
      "                    | Train Dice Accuracy: 0.9629803923167051 \n",
      "                    | Test Dice Accuracy: 0.9324121872584025\n",
      "                \n"
     ]
    },
    {
     "data": {
      "application/vnd.jupyter.widget-view+json": {
       "model_id": "8c11571f395a477597b60ee07a37027e",
       "version_major": 2,
       "version_minor": 0
      },
      "text/plain": [
       "  0%|          | 0/16 [00:00<?, ?it/s]"
      ]
     },
     "metadata": {},
     "output_type": "display_data"
    },
    {
     "name": "stdout",
     "output_type": "stream",
     "text": [
      "\n",
      "                Epoch: 259 / 1000 \n",
      "                | Train Loss: 0.1928504789248109 \n",
      "                | Train Dice Accuracy: 0.9612596342821076 \n",
      "            \n"
     ]
    },
    {
     "data": {
      "application/vnd.jupyter.widget-view+json": {
       "model_id": "1f2a9b746d74403d9970c75864290845",
       "version_major": 2,
       "version_minor": 0
      },
      "text/plain": [
       "  0%|          | 0/16 [00:00<?, ?it/s]"
      ]
     },
     "metadata": {},
     "output_type": "display_data"
    },
    {
     "name": "stdout",
     "output_type": "stream",
     "text": [
      "\n",
      "                    Epoch: 260 / 1000 \n",
      "                    | Train Loss: 0.20502434042282403 \n",
      "                    | Train Dice Accuracy: 0.9682159908650595 \n",
      "                    | Test Dice Accuracy: 0.9131268660227457\n",
      "                \n"
     ]
    },
    {
     "data": {
      "application/vnd.jupyter.widget-view+json": {
       "model_id": "8ee936491c8c4ddab6c6d43b09993bbf",
       "version_major": 2,
       "version_minor": 0
      },
      "text/plain": [
       "  0%|          | 0/16 [00:00<?, ?it/s]"
      ]
     },
     "metadata": {},
     "output_type": "display_data"
    },
    {
     "name": "stdout",
     "output_type": "stream",
     "text": [
      "\n",
      "                Epoch: 261 / 1000 \n",
      "                | Train Loss: 0.20711715216748416 \n",
      "                | Train Dice Accuracy: 0.9565871545246669 \n",
      "            \n"
     ]
    },
    {
     "data": {
      "application/vnd.jupyter.widget-view+json": {
       "model_id": "2a2f19760c7b466bae7f70229b24a6af",
       "version_major": 2,
       "version_minor": 0
      },
      "text/plain": [
       "  0%|          | 0/16 [00:00<?, ?it/s]"
      ]
     },
     "metadata": {},
     "output_type": "display_data"
    },
    {
     "name": "stdout",
     "output_type": "stream",
     "text": [
      "\n",
      "                    Epoch: 262 / 1000 \n",
      "                    | Train Loss: 0.20082096080295742 \n",
      "                    | Train Dice Accuracy: 0.9579922974957109 \n",
      "                    | Test Dice Accuracy: 0.775993181599511\n",
      "                \n"
     ]
    },
    {
     "data": {
      "application/vnd.jupyter.widget-view+json": {
       "model_id": "c61e2b06bac640bc9b8eb1dd7e9c9d2f",
       "version_major": 2,
       "version_minor": 0
      },
      "text/plain": [
       "  0%|          | 0/16 [00:00<?, ?it/s]"
      ]
     },
     "metadata": {},
     "output_type": "display_data"
    },
    {
     "name": "stdout",
     "output_type": "stream",
     "text": [
      "\n",
      "                Epoch: 263 / 1000 \n",
      "                | Train Loss: 0.19542323146015406 \n",
      "                | Train Dice Accuracy: 0.958623727442513 \n",
      "            \n"
     ]
    },
    {
     "data": {
      "application/vnd.jupyter.widget-view+json": {
       "model_id": "9e24cfc749ab45a2b56914f9273a6d2d",
       "version_major": 2,
       "version_minor": 0
      },
      "text/plain": [
       "  0%|          | 0/16 [00:00<?, ?it/s]"
      ]
     },
     "metadata": {},
     "output_type": "display_data"
    },
    {
     "name": "stdout",
     "output_type": "stream",
     "text": [
      "\n",
      "                    Epoch: 264 / 1000 \n",
      "                    | Train Loss: 0.21458449214696884 \n",
      "                    | Train Dice Accuracy: 0.9586193653253409 \n",
      "                    | Test Dice Accuracy: 0.9004946682188246\n",
      "                \n"
     ]
    },
    {
     "data": {
      "application/vnd.jupyter.widget-view+json": {
       "model_id": "3f42ca02722446e1ac0943782e9da0aa",
       "version_major": 2,
       "version_minor": 0
      },
      "text/plain": [
       "  0%|          | 0/16 [00:00<?, ?it/s]"
      ]
     },
     "metadata": {},
     "output_type": "display_data"
    },
    {
     "name": "stdout",
     "output_type": "stream",
     "text": [
      "\n",
      "                Epoch: 265 / 1000 \n",
      "                | Train Loss: 0.1612788583151996 \n",
      "                | Train Dice Accuracy: 0.9536619370828295 \n",
      "            \n"
     ]
    },
    {
     "data": {
      "application/vnd.jupyter.widget-view+json": {
       "model_id": "eec03dbffb3543329ff34b279361f373",
       "version_major": 2,
       "version_minor": 0
      },
      "text/plain": [
       "  0%|          | 0/16 [00:00<?, ?it/s]"
      ]
     },
     "metadata": {},
     "output_type": "display_data"
    },
    {
     "name": "stdout",
     "output_type": "stream",
     "text": [
      "\n",
      "                    Epoch: 266 / 1000 \n",
      "                    | Train Loss: 0.16320554143749177 \n",
      "                    | Train Dice Accuracy: 0.9562165471347602 \n",
      "                    | Test Dice Accuracy: 0.8927399383650886\n",
      "                \n"
     ]
    },
    {
     "data": {
      "application/vnd.jupyter.widget-view+json": {
       "model_id": "423232af7f2340efadc7a669bc6bb415",
       "version_major": 2,
       "version_minor": 0
      },
      "text/plain": [
       "  0%|          | 0/16 [00:00<?, ?it/s]"
      ]
     },
     "metadata": {},
     "output_type": "display_data"
    },
    {
     "name": "stdout",
     "output_type": "stream",
     "text": [
      "\n",
      "                Epoch: 267 / 1000 \n",
      "                | Train Loss: 0.1398246183525771 \n",
      "                | Train Dice Accuracy: 0.9570857249853904 \n",
      "            \n"
     ]
    },
    {
     "data": {
      "application/vnd.jupyter.widget-view+json": {
       "model_id": "d70f516e88304de79d49a095605ca761",
       "version_major": 2,
       "version_minor": 0
      },
      "text/plain": [
       "  0%|          | 0/16 [00:00<?, ?it/s]"
      ]
     },
     "metadata": {},
     "output_type": "display_data"
    },
    {
     "name": "stdout",
     "output_type": "stream",
     "text": [
      "\n",
      "                    Epoch: 268 / 1000 \n",
      "                    | Train Loss: 0.19946131249889731 \n",
      "                    | Train Dice Accuracy: 0.943400195864744 \n",
      "                    | Test Dice Accuracy: 0.8667047686047025\n",
      "                \n"
     ]
    },
    {
     "data": {
      "application/vnd.jupyter.widget-view+json": {
       "model_id": "2f3df92b22ee4c6aa9c850510b5ab38d",
       "version_major": 2,
       "version_minor": 0
      },
      "text/plain": [
       "  0%|          | 0/16 [00:00<?, ?it/s]"
      ]
     },
     "metadata": {},
     "output_type": "display_data"
    },
    {
     "name": "stdout",
     "output_type": "stream",
     "text": [
      "\n",
      "                Epoch: 269 / 1000 \n",
      "                | Train Loss: 0.17928102985024452 \n",
      "                | Train Dice Accuracy: 0.9508962210165252 \n",
      "            \n"
     ]
    },
    {
     "data": {
      "application/vnd.jupyter.widget-view+json": {
       "model_id": "e93645c83c394919ac6eb4f806bcd175",
       "version_major": 2,
       "version_minor": 0
      },
      "text/plain": [
       "  0%|          | 0/16 [00:00<?, ?it/s]"
      ]
     },
     "metadata": {},
     "output_type": "display_data"
    },
    {
     "name": "stdout",
     "output_type": "stream",
     "text": [
      "\n",
      "                    Epoch: 270 / 1000 \n",
      "                    | Train Loss: 0.17431612056680024 \n",
      "                    | Train Dice Accuracy: 0.9589863241812505 \n",
      "                    | Test Dice Accuracy: 0.6196748581197526\n",
      "                \n"
     ]
    },
    {
     "data": {
      "application/vnd.jupyter.widget-view+json": {
       "model_id": "92d91d7e2bca4c03b9f69925174e7b05",
       "version_major": 2,
       "version_minor": 0
      },
      "text/plain": [
       "  0%|          | 0/16 [00:00<?, ?it/s]"
      ]
     },
     "metadata": {},
     "output_type": "display_data"
    },
    {
     "name": "stdout",
     "output_type": "stream",
     "text": [
      "\n",
      "                Epoch: 271 / 1000 \n",
      "                | Train Loss: 0.2082967183087021 \n",
      "                | Train Dice Accuracy: 0.9409330918195662 \n",
      "            \n"
     ]
    },
    {
     "data": {
      "application/vnd.jupyter.widget-view+json": {
       "model_id": "3a931f446d184e28b6dc28f837174d5e",
       "version_major": 2,
       "version_minor": 0
      },
      "text/plain": [
       "  0%|          | 0/16 [00:00<?, ?it/s]"
      ]
     },
     "metadata": {},
     "output_type": "display_data"
    },
    {
     "name": "stdout",
     "output_type": "stream",
     "text": [
      "\n",
      "                    Epoch: 272 / 1000 \n",
      "                    | Train Loss: 0.1650001045782119 \n",
      "                    | Train Dice Accuracy: 0.9583858391817879 \n",
      "                    | Test Dice Accuracy: 0.888939830991957\n",
      "                \n"
     ]
    },
    {
     "data": {
      "application/vnd.jupyter.widget-view+json": {
       "model_id": "a27e2712a75245d6836595ef4dc3eace",
       "version_major": 2,
       "version_minor": 0
      },
      "text/plain": [
       "  0%|          | 0/16 [00:00<?, ?it/s]"
      ]
     },
     "metadata": {},
     "output_type": "display_data"
    },
    {
     "name": "stdout",
     "output_type": "stream",
     "text": [
      "\n",
      "                Epoch: 273 / 1000 \n",
      "                | Train Loss: 0.2039800575003028 \n",
      "                | Train Dice Accuracy: 0.9616136979489099 \n",
      "            \n"
     ]
    },
    {
     "data": {
      "application/vnd.jupyter.widget-view+json": {
       "model_id": "6cce22fe43834010bedf25a04fd9fa80",
       "version_major": 2,
       "version_minor": 0
      },
      "text/plain": [
       "  0%|          | 0/16 [00:00<?, ?it/s]"
      ]
     },
     "metadata": {},
     "output_type": "display_data"
    },
    {
     "name": "stdout",
     "output_type": "stream",
     "text": [
      "\n",
      "                    Epoch: 274 / 1000 \n",
      "                    | Train Loss: 0.2082301708869636 \n",
      "                    | Train Dice Accuracy: 0.9618867284943613 \n",
      "                    | Test Dice Accuracy: 0.9266810284720527\n",
      "                \n"
     ]
    },
    {
     "data": {
      "application/vnd.jupyter.widget-view+json": {
       "model_id": "4ff2a5d018d24c35846da35162b77d7d",
       "version_major": 2,
       "version_minor": 0
      },
      "text/plain": [
       "  0%|          | 0/16 [00:00<?, ?it/s]"
      ]
     },
     "metadata": {},
     "output_type": "display_data"
    },
    {
     "name": "stdout",
     "output_type": "stream",
     "text": [
      "\n",
      "                Epoch: 275 / 1000 \n",
      "                | Train Loss: 0.15123322419822216 \n",
      "                | Train Dice Accuracy: 0.9567958992139428 \n",
      "            \n"
     ]
    },
    {
     "data": {
      "application/vnd.jupyter.widget-view+json": {
       "model_id": "f9c82ae4660041bebf75b325f28f459b",
       "version_major": 2,
       "version_minor": 0
      },
      "text/plain": [
       "  0%|          | 0/16 [00:00<?, ?it/s]"
      ]
     },
     "metadata": {},
     "output_type": "display_data"
    },
    {
     "name": "stdout",
     "output_type": "stream",
     "text": [
      "\n",
      "                    Epoch: 276 / 1000 \n",
      "                    | Train Loss: 0.17176767042838037 \n",
      "                    | Train Dice Accuracy: 0.9573564140219667 \n",
      "                    | Test Dice Accuracy: 0.8832352293862237\n",
      "                \n"
     ]
    },
    {
     "data": {
      "application/vnd.jupyter.widget-view+json": {
       "model_id": "91904825a5a0414e9fe09f8ed38bd7c4",
       "version_major": 2,
       "version_minor": 0
      },
      "text/plain": [
       "  0%|          | 0/16 [00:00<?, ?it/s]"
      ]
     },
     "metadata": {},
     "output_type": "display_data"
    },
    {
     "name": "stdout",
     "output_type": "stream",
     "text": [
      "\n",
      "                Epoch: 277 / 1000 \n",
      "                | Train Loss: 0.20017200359143317 \n",
      "                | Train Dice Accuracy: 0.955542395137391 \n",
      "            \n"
     ]
    },
    {
     "data": {
      "application/vnd.jupyter.widget-view+json": {
       "model_id": "0c257ebb78da45cfaa21f840e9993c6d",
       "version_major": 2,
       "version_minor": 0
      },
      "text/plain": [
       "  0%|          | 0/16 [00:00<?, ?it/s]"
      ]
     },
     "metadata": {},
     "output_type": "display_data"
    },
    {
     "name": "stdout",
     "output_type": "stream",
     "text": [
      "\n",
      "                    Epoch: 278 / 1000 \n",
      "                    | Train Loss: 0.1867808981332928 \n",
      "                    | Train Dice Accuracy: 0.9678295095201949 \n",
      "                    | Test Dice Accuracy: 0.9318738513522677\n",
      "                \n"
     ]
    },
    {
     "data": {
      "application/vnd.jupyter.widget-view+json": {
       "model_id": "266bc1fb922943b9a11c0157fcd072ee",
       "version_major": 2,
       "version_minor": 0
      },
      "text/plain": [
       "  0%|          | 0/16 [00:00<?, ?it/s]"
      ]
     },
     "metadata": {},
     "output_type": "display_data"
    },
    {
     "name": "stdout",
     "output_type": "stream",
     "text": [
      "\n",
      "                Epoch: 279 / 1000 \n",
      "                | Train Loss: 0.14719379879534245 \n",
      "                | Train Dice Accuracy: 0.9595929450458951 \n",
      "            \n"
     ]
    },
    {
     "data": {
      "application/vnd.jupyter.widget-view+json": {
       "model_id": "a5616bc3f4364655b60990f0f9929b65",
       "version_major": 2,
       "version_minor": 0
      },
      "text/plain": [
       "  0%|          | 0/16 [00:00<?, ?it/s]"
      ]
     },
     "metadata": {},
     "output_type": "display_data"
    },
    {
     "name": "stdout",
     "output_type": "stream",
     "text": [
      "saved new best spleen metric model\n",
      "\n",
      "                    Epoch: 280 / 1000 \n",
      "                    | Train Loss: 0.196639786940068 \n",
      "                    | Train Dice Accuracy: 0.9552808056974635 \n",
      "                    | Test Dice Accuracy: 0.9369872477319505\n",
      "                \n"
     ]
    },
    {
     "data": {
      "application/vnd.jupyter.widget-view+json": {
       "model_id": "b5f072e4292b4965ab296c54d3a537dd",
       "version_major": 2,
       "version_minor": 0
      },
      "text/plain": [
       "  0%|          | 0/16 [00:00<?, ?it/s]"
      ]
     },
     "metadata": {},
     "output_type": "display_data"
    },
    {
     "name": "stdout",
     "output_type": "stream",
     "text": [
      "\n",
      "                Epoch: 281 / 1000 \n",
      "                | Train Loss: 0.17920267302542925 \n",
      "                | Train Dice Accuracy: 0.9593420262160939 \n",
      "            \n"
     ]
    },
    {
     "data": {
      "application/vnd.jupyter.widget-view+json": {
       "model_id": "cf9794b7d03942088ab43c49e4158d74",
       "version_major": 2,
       "version_minor": 0
      },
      "text/plain": [
       "  0%|          | 0/16 [00:00<?, ?it/s]"
      ]
     },
     "metadata": {},
     "output_type": "display_data"
    },
    {
     "name": "stdout",
     "output_type": "stream",
     "text": [
      "\n",
      "                    Epoch: 282 / 1000 \n",
      "                    | Train Loss: 0.17714030132628977 \n",
      "                    | Train Dice Accuracy: 0.9627791882110631 \n",
      "                    | Test Dice Accuracy: 0.9233480427000258\n",
      "                \n"
     ]
    },
    {
     "data": {
      "application/vnd.jupyter.widget-view+json": {
       "model_id": "c8096cb5f599435b9755431915af0179",
       "version_major": 2,
       "version_minor": 0
      },
      "text/plain": [
       "  0%|          | 0/16 [00:00<?, ?it/s]"
      ]
     },
     "metadata": {},
     "output_type": "display_data"
    },
    {
     "name": "stdout",
     "output_type": "stream",
     "text": [
      "\n",
      "                Epoch: 283 / 1000 \n",
      "                | Train Loss: 0.17859213100746274 \n",
      "                | Train Dice Accuracy: 0.9587248937325543 \n",
      "            \n"
     ]
    },
    {
     "data": {
      "application/vnd.jupyter.widget-view+json": {
       "model_id": "db58ad4929494f6483db9ce3e25e2b67",
       "version_major": 2,
       "version_minor": 0
      },
      "text/plain": [
       "  0%|          | 0/16 [00:00<?, ?it/s]"
      ]
     },
     "metadata": {},
     "output_type": "display_data"
    },
    {
     "name": "stdout",
     "output_type": "stream",
     "text": [
      "\n",
      "                    Epoch: 284 / 1000 \n",
      "                    | Train Loss: 0.14504346228204668 \n",
      "                    | Train Dice Accuracy: 0.9643522781795926 \n",
      "                    | Test Dice Accuracy: 0.9310966465208266\n",
      "                \n"
     ]
    },
    {
     "data": {
      "application/vnd.jupyter.widget-view+json": {
       "model_id": "6032503aee1a4f6db62a3680858c0768",
       "version_major": 2,
       "version_minor": 0
      },
      "text/plain": [
       "  0%|          | 0/16 [00:00<?, ?it/s]"
      ]
     },
     "metadata": {},
     "output_type": "display_data"
    },
    {
     "name": "stdout",
     "output_type": "stream",
     "text": [
      "\n",
      "                Epoch: 285 / 1000 \n",
      "                | Train Loss: 0.20544954808428884 \n",
      "                | Train Dice Accuracy: 0.955963617534999 \n",
      "            \n"
     ]
    },
    {
     "data": {
      "application/vnd.jupyter.widget-view+json": {
       "model_id": "cc8db5c6a11641068639e135858506fe",
       "version_major": 2,
       "version_minor": 0
      },
      "text/plain": [
       "  0%|          | 0/16 [00:00<?, ?it/s]"
      ]
     },
     "metadata": {},
     "output_type": "display_data"
    },
    {
     "name": "stdout",
     "output_type": "stream",
     "text": [
      "saved new best spleen metric model\n",
      "\n",
      "                    Epoch: 286 / 1000 \n",
      "                    | Train Loss: 0.15877640363760293 \n",
      "                    | Train Dice Accuracy: 0.9575154652466645 \n",
      "                    | Test Dice Accuracy: 0.9408358865314059\n",
      "                \n"
     ]
    },
    {
     "data": {
      "application/vnd.jupyter.widget-view+json": {
       "model_id": "5370e0b1a36846bd8d038b322bb6c8f7",
       "version_major": 2,
       "version_minor": 0
      },
      "text/plain": [
       "  0%|          | 0/16 [00:00<?, ?it/s]"
      ]
     },
     "metadata": {},
     "output_type": "display_data"
    },
    {
     "name": "stdout",
     "output_type": "stream",
     "text": [
      "\n",
      "                Epoch: 287 / 1000 \n",
      "                | Train Loss: 0.1553413774818182 \n",
      "                | Train Dice Accuracy: 0.9634180055545257 \n",
      "            \n"
     ]
    },
    {
     "data": {
      "application/vnd.jupyter.widget-view+json": {
       "model_id": "1e1828192d2146d9a0c06c43c8127bb9",
       "version_major": 2,
       "version_minor": 0
      },
      "text/plain": [
       "  0%|          | 0/16 [00:00<?, ?it/s]"
      ]
     },
     "metadata": {},
     "output_type": "display_data"
    },
    {
     "name": "stdout",
     "output_type": "stream",
     "text": [
      "\n",
      "                    Epoch: 288 / 1000 \n",
      "                    | Train Loss: 0.184124072548002 \n",
      "                    | Train Dice Accuracy: 0.959150573445691 \n",
      "                    | Test Dice Accuracy: 0.9361795849270291\n",
      "                \n"
     ]
    },
    {
     "data": {
      "application/vnd.jupyter.widget-view+json": {
       "model_id": "b6e9808b475a4a87963b46f33986ff26",
       "version_major": 2,
       "version_minor": 0
      },
      "text/plain": [
       "  0%|          | 0/16 [00:00<?, ?it/s]"
      ]
     },
     "metadata": {},
     "output_type": "display_data"
    },
    {
     "name": "stdout",
     "output_type": "stream",
     "text": [
      "\n",
      "                Epoch: 289 / 1000 \n",
      "                | Train Loss: 0.20445268671028316 \n",
      "                | Train Dice Accuracy: 0.9554741537966435 \n",
      "            \n"
     ]
    },
    {
     "data": {
      "application/vnd.jupyter.widget-view+json": {
       "model_id": "ad8514fb723a4f0292a5799c7b748e3b",
       "version_major": 2,
       "version_minor": 0
      },
      "text/plain": [
       "  0%|          | 0/16 [00:00<?, ?it/s]"
      ]
     },
     "metadata": {},
     "output_type": "display_data"
    },
    {
     "name": "stdout",
     "output_type": "stream",
     "text": [
      "\n",
      "                    Epoch: 290 / 1000 \n",
      "                    | Train Loss: 0.17745566391386092 \n",
      "                    | Train Dice Accuracy: 0.9520901080665238 \n",
      "                    | Test Dice Accuracy: 0.939737061659495\n",
      "                \n"
     ]
    },
    {
     "data": {
      "application/vnd.jupyter.widget-view+json": {
       "model_id": "0210dbd7235c4355aa47012dbf581bce",
       "version_major": 2,
       "version_minor": 0
      },
      "text/plain": [
       "  0%|          | 0/16 [00:00<?, ?it/s]"
      ]
     },
     "metadata": {},
     "output_type": "display_data"
    },
    {
     "name": "stdout",
     "output_type": "stream",
     "text": [
      "\n",
      "                Epoch: 291 / 1000 \n",
      "                | Train Loss: 0.20786429569125175 \n",
      "                | Train Dice Accuracy: 0.9697035194019189 \n",
      "            \n"
     ]
    },
    {
     "data": {
      "application/vnd.jupyter.widget-view+json": {
       "model_id": "a14522458db54ba89b2ba52486f82c28",
       "version_major": 2,
       "version_minor": 0
      },
      "text/plain": [
       "  0%|          | 0/16 [00:00<?, ?it/s]"
      ]
     },
     "metadata": {},
     "output_type": "display_data"
    },
    {
     "name": "stdout",
     "output_type": "stream",
     "text": [
      "saved new best spleen metric model\n",
      "\n",
      "                    Epoch: 292 / 1000 \n",
      "                    | Train Loss: 0.19280686834827065 \n",
      "                    | Train Dice Accuracy: 0.9695825901641665 \n",
      "                    | Test Dice Accuracy: 0.9422338141335381\n",
      "                \n"
     ]
    },
    {
     "data": {
      "application/vnd.jupyter.widget-view+json": {
       "model_id": "e8724544f9f24b189119d2f0ba6c2a47",
       "version_major": 2,
       "version_minor": 0
      },
      "text/plain": [
       "  0%|          | 0/16 [00:00<?, ?it/s]"
      ]
     },
     "metadata": {},
     "output_type": "display_data"
    },
    {
     "name": "stdout",
     "output_type": "stream",
     "text": [
      "\n",
      "                Epoch: 293 / 1000 \n",
      "                | Train Loss: 0.20327372034080327 \n",
      "                | Train Dice Accuracy: 0.949194933606985 \n",
      "            \n"
     ]
    },
    {
     "data": {
      "application/vnd.jupyter.widget-view+json": {
       "model_id": "87c7ab397ae943c3bd065858311e591a",
       "version_major": 2,
       "version_minor": 0
      },
      "text/plain": [
       "  0%|          | 0/16 [00:00<?, ?it/s]"
      ]
     },
     "metadata": {},
     "output_type": "display_data"
    },
    {
     "name": "stdout",
     "output_type": "stream",
     "text": [
      "\n",
      "                    Epoch: 294 / 1000 \n",
      "                    | Train Loss: 0.1689149192534387 \n",
      "                    | Train Dice Accuracy: 0.9584478960795836 \n",
      "                    | Test Dice Accuracy: 0.7451940373414092\n",
      "                \n"
     ]
    },
    {
     "data": {
      "application/vnd.jupyter.widget-view+json": {
       "model_id": "e1d72a7b1a0c47b9bd5a72acd4dfa878",
       "version_major": 2,
       "version_minor": 0
      },
      "text/plain": [
       "  0%|          | 0/16 [00:00<?, ?it/s]"
      ]
     },
     "metadata": {},
     "output_type": "display_data"
    },
    {
     "name": "stdout",
     "output_type": "stream",
     "text": [
      "\n",
      "                Epoch: 295 / 1000 \n",
      "                | Train Loss: 0.1918180286884308 \n",
      "                | Train Dice Accuracy: 0.9546541377555492 \n",
      "            \n"
     ]
    },
    {
     "data": {
      "application/vnd.jupyter.widget-view+json": {
       "model_id": "9bb2c81b86184625a4a2607a574738b1",
       "version_major": 2,
       "version_minor": 0
      },
      "text/plain": [
       "  0%|          | 0/16 [00:00<?, ?it/s]"
      ]
     },
     "metadata": {},
     "output_type": "display_data"
    },
    {
     "name": "stdout",
     "output_type": "stream",
     "text": [
      "\n",
      "                    Epoch: 296 / 1000 \n",
      "                    | Train Loss: 0.20473850704729557 \n",
      "                    | Train Dice Accuracy: 0.9474954391425511 \n",
      "                    | Test Dice Accuracy: 0.8538740542199876\n",
      "                \n"
     ]
    },
    {
     "data": {
      "application/vnd.jupyter.widget-view+json": {
       "model_id": "c749470ca2dc4c82a3ce8da554c258dd",
       "version_major": 2,
       "version_minor": 0
      },
      "text/plain": [
       "  0%|          | 0/16 [00:00<?, ?it/s]"
      ]
     },
     "metadata": {},
     "output_type": "display_data"
    },
    {
     "name": "stdout",
     "output_type": "stream",
     "text": [
      "\n",
      "                Epoch: 297 / 1000 \n",
      "                | Train Loss: 0.18970091827213764 \n",
      "                | Train Dice Accuracy: 0.9548745518506959 \n",
      "            \n"
     ]
    },
    {
     "data": {
      "application/vnd.jupyter.widget-view+json": {
       "model_id": "82ebeb54a8d64aaa96187d7cb0ad4f02",
       "version_major": 2,
       "version_minor": 0
      },
      "text/plain": [
       "  0%|          | 0/16 [00:00<?, ?it/s]"
      ]
     },
     "metadata": {},
     "output_type": "display_data"
    },
    {
     "name": "stdout",
     "output_type": "stream",
     "text": [
      "\n",
      "                    Epoch: 298 / 1000 \n",
      "                    | Train Loss: 0.1774112731218338 \n",
      "                    | Train Dice Accuracy: 0.9561377321520159 \n",
      "                    | Test Dice Accuracy: 0.8345678581131829\n",
      "                \n"
     ]
    },
    {
     "data": {
      "application/vnd.jupyter.widget-view+json": {
       "model_id": "ef5e5f245ce247cca77a7e853149f34b",
       "version_major": 2,
       "version_minor": 0
      },
      "text/plain": [
       "  0%|          | 0/16 [00:00<?, ?it/s]"
      ]
     },
     "metadata": {},
     "output_type": "display_data"
    },
    {
     "name": "stdout",
     "output_type": "stream",
     "text": [
      "\n",
      "                Epoch: 299 / 1000 \n",
      "                | Train Loss: 0.18892669677734375 \n",
      "                | Train Dice Accuracy: 0.9663923693374848 \n",
      "            \n"
     ]
    },
    {
     "data": {
      "application/vnd.jupyter.widget-view+json": {
       "model_id": "a1dae7879b3444e397e9ec91a51f7d57",
       "version_major": 2,
       "version_minor": 0
      },
      "text/plain": [
       "  0%|          | 0/16 [00:00<?, ?it/s]"
      ]
     },
     "metadata": {},
     "output_type": "display_data"
    },
    {
     "name": "stdout",
     "output_type": "stream",
     "text": [
      "\n",
      "                    Epoch: 300 / 1000 \n",
      "                    | Train Loss: 0.15814515901729465 \n",
      "                    | Train Dice Accuracy: 0.9692462566224012 \n",
      "                    | Test Dice Accuracy: 0.9177208410369025\n",
      "                \n"
     ]
    },
    {
     "data": {
      "application/vnd.jupyter.widget-view+json": {
       "model_id": "2dc56ced0b75423aa4c7b41927b45343",
       "version_major": 2,
       "version_minor": 0
      },
      "text/plain": [
       "  0%|          | 0/16 [00:00<?, ?it/s]"
      ]
     },
     "metadata": {},
     "output_type": "display_data"
    },
    {
     "name": "stdout",
     "output_type": "stream",
     "text": [
      "\n",
      "                Epoch: 301 / 1000 \n",
      "                | Train Loss: 0.21625523455440998 \n",
      "                | Train Dice Accuracy: 0.9689746324608965 \n",
      "            \n"
     ]
    },
    {
     "data": {
      "application/vnd.jupyter.widget-view+json": {
       "model_id": "ae910715ec694c0fa9be81717f5badf5",
       "version_major": 2,
       "version_minor": 0
      },
      "text/plain": [
       "  0%|          | 0/16 [00:00<?, ?it/s]"
      ]
     },
     "metadata": {},
     "output_type": "display_data"
    },
    {
     "name": "stdout",
     "output_type": "stream",
     "text": [
      "\n",
      "                    Epoch: 302 / 1000 \n",
      "                    | Train Loss: 0.1819991923402995 \n",
      "                    | Train Dice Accuracy: 0.9634711772896523 \n",
      "                    | Test Dice Accuracy: 0.71111441983117\n",
      "                \n"
     ]
    },
    {
     "data": {
      "application/vnd.jupyter.widget-view+json": {
       "model_id": "b528276abff44428817b7bee82ed51d3",
       "version_major": 2,
       "version_minor": 0
      },
      "text/plain": [
       "  0%|          | 0/16 [00:00<?, ?it/s]"
      ]
     },
     "metadata": {},
     "output_type": "display_data"
    },
    {
     "name": "stdout",
     "output_type": "stream",
     "text": [
      "\n",
      "                Epoch: 303 / 1000 \n",
      "                | Train Loss: 0.17432587081566453 \n",
      "                | Train Dice Accuracy: 0.9603101520910176 \n",
      "            \n"
     ]
    },
    {
     "data": {
      "application/vnd.jupyter.widget-view+json": {
       "model_id": "2dcd36f32bfa45ec8e15114002c43bef",
       "version_major": 2,
       "version_minor": 0
      },
      "text/plain": [
       "  0%|          | 0/16 [00:00<?, ?it/s]"
      ]
     },
     "metadata": {},
     "output_type": "display_data"
    },
    {
     "name": "stdout",
     "output_type": "stream",
     "text": [
      "saved new best spleen metric model\n",
      "\n",
      "                    Epoch: 304 / 1000 \n",
      "                    | Train Loss: 0.18595333024859428 \n",
      "                    | Train Dice Accuracy: 0.9548796359882799 \n",
      "                    | Test Dice Accuracy: 0.9424394832717048\n",
      "                \n"
     ]
    },
    {
     "data": {
      "application/vnd.jupyter.widget-view+json": {
       "model_id": "b255b919af49466db77935fbb873a38f",
       "version_major": 2,
       "version_minor": 0
      },
      "text/plain": [
       "  0%|          | 0/16 [00:00<?, ?it/s]"
      ]
     },
     "metadata": {},
     "output_type": "display_data"
    },
    {
     "name": "stdout",
     "output_type": "stream",
     "text": [
      "\n",
      "                Epoch: 305 / 1000 \n",
      "                | Train Loss: 0.16601222357712686 \n",
      "                | Train Dice Accuracy: 0.9624499670446736 \n",
      "            \n"
     ]
    },
    {
     "data": {
      "application/vnd.jupyter.widget-view+json": {
       "model_id": "c8d17b3df88e442e91ace10fd31b8dc6",
       "version_major": 2,
       "version_minor": 0
      },
      "text/plain": [
       "  0%|          | 0/16 [00:00<?, ?it/s]"
      ]
     },
     "metadata": {},
     "output_type": "display_data"
    },
    {
     "name": "stdout",
     "output_type": "stream",
     "text": [
      "\n",
      "                    Epoch: 306 / 1000 \n",
      "                    | Train Loss: 0.14723929041065276 \n",
      "                    | Train Dice Accuracy: 0.9599849163161384 \n",
      "                    | Test Dice Accuracy: 0.9320119288232591\n",
      "                \n"
     ]
    },
    {
     "data": {
      "application/vnd.jupyter.widget-view+json": {
       "model_id": "3019d012286f4180bcba8f44c2a347df",
       "version_major": 2,
       "version_minor": 0
      },
      "text/plain": [
       "  0%|          | 0/16 [00:00<?, ?it/s]"
      ]
     },
     "metadata": {},
     "output_type": "display_data"
    },
    {
     "name": "stdout",
     "output_type": "stream",
     "text": [
      "\n",
      "                Epoch: 307 / 1000 \n",
      "                | Train Loss: 0.18664396880194545 \n",
      "                | Train Dice Accuracy: 0.9632455642535308 \n",
      "            \n"
     ]
    },
    {
     "data": {
      "application/vnd.jupyter.widget-view+json": {
       "model_id": "e2c243c95ff240888c09fb146232bb5d",
       "version_major": 2,
       "version_minor": 0
      },
      "text/plain": [
       "  0%|          | 0/16 [00:00<?, ?it/s]"
      ]
     },
     "metadata": {},
     "output_type": "display_data"
    },
    {
     "name": "stdout",
     "output_type": "stream",
     "text": [
      "\n",
      "                    Epoch: 308 / 1000 \n",
      "                    | Train Loss: 0.1635408157017082 \n",
      "                    | Train Dice Accuracy: 0.9579910387820249 \n",
      "                    | Test Dice Accuracy: 0.8367815514405569\n",
      "                \n"
     ]
    },
    {
     "data": {
      "application/vnd.jupyter.widget-view+json": {
       "model_id": "38fab079b46d4b118c51f36118c35e42",
       "version_major": 2,
       "version_minor": 0
      },
      "text/plain": [
       "  0%|          | 0/16 [00:00<?, ?it/s]"
      ]
     },
     "metadata": {},
     "output_type": "display_data"
    },
    {
     "name": "stdout",
     "output_type": "stream",
     "text": [
      "\n",
      "                Epoch: 309 / 1000 \n",
      "                | Train Loss: 0.17615129007026553 \n",
      "                | Train Dice Accuracy: 0.9641677292960661 \n",
      "            \n"
     ]
    },
    {
     "data": {
      "application/vnd.jupyter.widget-view+json": {
       "model_id": "38d05ee135f149bbaba988251491900f",
       "version_major": 2,
       "version_minor": 0
      },
      "text/plain": [
       "  0%|          | 0/16 [00:00<?, ?it/s]"
      ]
     },
     "metadata": {},
     "output_type": "display_data"
    },
    {
     "name": "stdout",
     "output_type": "stream",
     "text": [
      "\n",
      "                    Epoch: 310 / 1000 \n",
      "                    | Train Loss: 0.23110051918774843 \n",
      "                    | Train Dice Accuracy: 0.9606761242368539 \n",
      "                    | Test Dice Accuracy: 0.9109971125920614\n",
      "                \n"
     ]
    },
    {
     "data": {
      "application/vnd.jupyter.widget-view+json": {
       "model_id": "aa4b8c46d8934a18b440a114e70e531b",
       "version_major": 2,
       "version_minor": 0
      },
      "text/plain": [
       "  0%|          | 0/16 [00:00<?, ?it/s]"
      ]
     },
     "metadata": {},
     "output_type": "display_data"
    },
    {
     "name": "stdout",
     "output_type": "stream",
     "text": [
      "\n",
      "                Epoch: 311 / 1000 \n",
      "                | Train Loss: 0.18932517454959452 \n",
      "                | Train Dice Accuracy: 0.957120949141333 \n",
      "            \n"
     ]
    },
    {
     "data": {
      "application/vnd.jupyter.widget-view+json": {
       "model_id": "d78b63b49fa944f08a00301d8a4d9387",
       "version_major": 2,
       "version_minor": 0
      },
      "text/plain": [
       "  0%|          | 0/16 [00:00<?, ?it/s]"
      ]
     },
     "metadata": {},
     "output_type": "display_data"
    },
    {
     "name": "stdout",
     "output_type": "stream",
     "text": [
      "\n",
      "                    Epoch: 312 / 1000 \n",
      "                    | Train Loss: 0.1780389128252864 \n",
      "                    | Train Dice Accuracy: 0.9592556651286815 \n",
      "                    | Test Dice Accuracy: 0.8944761355717977\n",
      "                \n"
     ]
    },
    {
     "data": {
      "application/vnd.jupyter.widget-view+json": {
       "model_id": "79dcc70e57b842ca8c5bb9917c549f59",
       "version_major": 2,
       "version_minor": 0
      },
      "text/plain": [
       "  0%|          | 0/16 [00:00<?, ?it/s]"
      ]
     },
     "metadata": {},
     "output_type": "display_data"
    },
    {
     "name": "stdout",
     "output_type": "stream",
     "text": [
      "\n",
      "                Epoch: 313 / 1000 \n",
      "                | Train Loss: 0.16019608336500823 \n",
      "                | Train Dice Accuracy: 0.9634822658284218 \n",
      "            \n"
     ]
    },
    {
     "data": {
      "application/vnd.jupyter.widget-view+json": {
       "model_id": "97a9df55fdb1447681452e96ada615e4",
       "version_major": 2,
       "version_minor": 0
      },
      "text/plain": [
       "  0%|          | 0/16 [00:00<?, ?it/s]"
      ]
     },
     "metadata": {},
     "output_type": "display_data"
    },
    {
     "name": "stdout",
     "output_type": "stream",
     "text": [
      "\n",
      "                    Epoch: 314 / 1000 \n",
      "                    | Train Loss: 0.14908485184423625 \n",
      "                    | Train Dice Accuracy: 0.9537664480441439 \n",
      "                    | Test Dice Accuracy: 0.9415231545766195\n",
      "                \n"
     ]
    },
    {
     "data": {
      "application/vnd.jupyter.widget-view+json": {
       "model_id": "479663729efb48b0b5d07cf99d67d1a6",
       "version_major": 2,
       "version_minor": 0
      },
      "text/plain": [
       "  0%|          | 0/16 [00:00<?, ?it/s]"
      ]
     },
     "metadata": {},
     "output_type": "display_data"
    },
    {
     "name": "stdout",
     "output_type": "stream",
     "text": [
      "\n",
      "                Epoch: 315 / 1000 \n",
      "                | Train Loss: 0.18319738656282425 \n",
      "                | Train Dice Accuracy: 0.9633389747420023 \n",
      "            \n"
     ]
    },
    {
     "data": {
      "application/vnd.jupyter.widget-view+json": {
       "model_id": "eaeeb8787ec4479892da942ba7040c36",
       "version_major": 2,
       "version_minor": 0
      },
      "text/plain": [
       "  0%|          | 0/16 [00:00<?, ?it/s]"
      ]
     },
     "metadata": {},
     "output_type": "display_data"
    },
    {
     "name": "stdout",
     "output_type": "stream",
     "text": [
      "saved new best spleen metric model\n",
      "\n",
      "                    Epoch: 316 / 1000 \n",
      "                    | Train Loss: 0.1834941734559834 \n",
      "                    | Train Dice Accuracy: 0.9545078001640461 \n",
      "                    | Test Dice Accuracy: 0.9432216154204475\n",
      "                \n"
     ]
    },
    {
     "data": {
      "application/vnd.jupyter.widget-view+json": {
       "model_id": "26f12bb13113469ba68852d071d6f943",
       "version_major": 2,
       "version_minor": 0
      },
      "text/plain": [
       "  0%|          | 0/16 [00:00<?, ?it/s]"
      ]
     },
     "metadata": {},
     "output_type": "display_data"
    },
    {
     "name": "stdout",
     "output_type": "stream",
     "text": [
      "\n",
      "                Epoch: 317 / 1000 \n",
      "                | Train Loss: 0.1538694016635418 \n",
      "                | Train Dice Accuracy: 0.9713502469645366 \n",
      "            \n"
     ]
    },
    {
     "data": {
      "application/vnd.jupyter.widget-view+json": {
       "model_id": "c571d466a652458eaa44186aae028eab",
       "version_major": 2,
       "version_minor": 0
      },
      "text/plain": [
       "  0%|          | 0/16 [00:00<?, ?it/s]"
      ]
     },
     "metadata": {},
     "output_type": "display_data"
    },
    {
     "name": "stdout",
     "output_type": "stream",
     "text": [
      "\n",
      "                    Epoch: 318 / 1000 \n",
      "                    | Train Loss: 0.16445366432890296 \n",
      "                    | Train Dice Accuracy: 0.9534879342929737 \n",
      "                    | Test Dice Accuracy: 0.9341382582982382\n",
      "                \n"
     ]
    },
    {
     "data": {
      "application/vnd.jupyter.widget-view+json": {
       "model_id": "cb81552e1f2a468b84c1d9e04758c10e",
       "version_major": 2,
       "version_minor": 0
      },
      "text/plain": [
       "  0%|          | 0/16 [00:00<?, ?it/s]"
      ]
     },
     "metadata": {},
     "output_type": "display_data"
    },
    {
     "name": "stdout",
     "output_type": "stream",
     "text": [
      "\n",
      "                Epoch: 319 / 1000 \n",
      "                | Train Loss: 0.1475569277536124 \n",
      "                | Train Dice Accuracy: 0.9570306369993422 \n",
      "            \n"
     ]
    },
    {
     "data": {
      "application/vnd.jupyter.widget-view+json": {
       "model_id": "77f07bc92b5d42b7ae9d67cafeb3097a",
       "version_major": 2,
       "version_minor": 0
      },
      "text/plain": [
       "  0%|          | 0/16 [00:00<?, ?it/s]"
      ]
     },
     "metadata": {},
     "output_type": "display_data"
    },
    {
     "name": "stdout",
     "output_type": "stream",
     "text": [
      "\n",
      "                    Epoch: 320 / 1000 \n",
      "                    | Train Loss: 0.21789106633514166 \n",
      "                    | Train Dice Accuracy: 0.9664988404367029 \n",
      "                    | Test Dice Accuracy: 0.7224187552928925\n",
      "                \n"
     ]
    },
    {
     "data": {
      "application/vnd.jupyter.widget-view+json": {
       "model_id": "d1d87c8fcd6d4ba4a5e6d4d963d3ffc5",
       "version_major": 2,
       "version_minor": 0
      },
      "text/plain": [
       "  0%|          | 0/16 [00:00<?, ?it/s]"
      ]
     },
     "metadata": {},
     "output_type": "display_data"
    },
    {
     "name": "stdout",
     "output_type": "stream",
     "text": [
      "\n",
      "                Epoch: 321 / 1000 \n",
      "                | Train Loss: 0.14195314282551408 \n",
      "                | Train Dice Accuracy: 0.9590516799846581 \n",
      "            \n"
     ]
    },
    {
     "data": {
      "application/vnd.jupyter.widget-view+json": {
       "model_id": "eb717557135045c5bc6bdc831a5849cf",
       "version_major": 2,
       "version_minor": 0
      },
      "text/plain": [
       "  0%|          | 0/16 [00:00<?, ?it/s]"
      ]
     },
     "metadata": {},
     "output_type": "display_data"
    },
    {
     "name": "stdout",
     "output_type": "stream",
     "text": [
      "\n",
      "                    Epoch: 322 / 1000 \n",
      "                    | Train Loss: 0.1633431208319962 \n",
      "                    | Train Dice Accuracy: 0.9661308309258936 \n",
      "                    | Test Dice Accuracy: 0.9319691790474786\n",
      "                \n"
     ]
    },
    {
     "data": {
      "application/vnd.jupyter.widget-view+json": {
       "model_id": "600b21b8c3d94fa786b5c0821f30b6f2",
       "version_major": 2,
       "version_minor": 0
      },
      "text/plain": [
       "  0%|          | 0/16 [00:00<?, ?it/s]"
      ]
     },
     "metadata": {},
     "output_type": "display_data"
    },
    {
     "name": "stdout",
     "output_type": "stream",
     "text": [
      "\n",
      "                Epoch: 323 / 1000 \n",
      "                | Train Loss: 0.19922043895348907 \n",
      "                | Train Dice Accuracy: 0.9641040992169153 \n",
      "            \n"
     ]
    },
    {
     "data": {
      "application/vnd.jupyter.widget-view+json": {
       "model_id": "8ad318dce8ff4de49f31fdc0c9e4a38f",
       "version_major": 2,
       "version_minor": 0
      },
      "text/plain": [
       "  0%|          | 0/16 [00:00<?, ?it/s]"
      ]
     },
     "metadata": {},
     "output_type": "display_data"
    },
    {
     "name": "stdout",
     "output_type": "stream",
     "text": [
      "\n",
      "                    Epoch: 324 / 1000 \n",
      "                    | Train Loss: 0.17446286883205175 \n",
      "                    | Train Dice Accuracy: 0.9601176706475949 \n",
      "                    | Test Dice Accuracy: 0.9141649537616305\n",
      "                \n"
     ]
    },
    {
     "data": {
      "application/vnd.jupyter.widget-view+json": {
       "model_id": "5e061159e4eb4823bb42b9c6ef0bb70c",
       "version_major": 2,
       "version_minor": 0
      },
      "text/plain": [
       "  0%|          | 0/16 [00:00<?, ?it/s]"
      ]
     },
     "metadata": {},
     "output_type": "display_data"
    },
    {
     "name": "stdout",
     "output_type": "stream",
     "text": [
      "\n",
      "                Epoch: 325 / 1000 \n",
      "                | Train Loss: 0.1570433785673231 \n",
      "                | Train Dice Accuracy: 0.9565048068093612 \n",
      "            \n"
     ]
    },
    {
     "data": {
      "application/vnd.jupyter.widget-view+json": {
       "model_id": "b99e8f9d45094199aa54403c683e6fe7",
       "version_major": 2,
       "version_minor": 0
      },
      "text/plain": [
       "  0%|          | 0/16 [00:00<?, ?it/s]"
      ]
     },
     "metadata": {},
     "output_type": "display_data"
    },
    {
     "name": "stdout",
     "output_type": "stream",
     "text": [
      "\n",
      "                    Epoch: 326 / 1000 \n",
      "                    | Train Loss: 0.18167206412181258 \n",
      "                    | Train Dice Accuracy: 0.9542563774618685 \n",
      "                    | Test Dice Accuracy: 0.8836075332429674\n",
      "                \n"
     ]
    },
    {
     "data": {
      "application/vnd.jupyter.widget-view+json": {
       "model_id": "3ebddaa3878244b294cfd65916472da7",
       "version_major": 2,
       "version_minor": 0
      },
      "text/plain": [
       "  0%|          | 0/16 [00:00<?, ?it/s]"
      ]
     },
     "metadata": {},
     "output_type": "display_data"
    },
    {
     "name": "stdout",
     "output_type": "stream",
     "text": [
      "\n",
      "                Epoch: 327 / 1000 \n",
      "                | Train Loss: 0.212140248157084 \n",
      "                | Train Dice Accuracy: 0.9579288503871515 \n",
      "            \n"
     ]
    },
    {
     "data": {
      "application/vnd.jupyter.widget-view+json": {
       "model_id": "5b90f0070085489f833e90fd26041d48",
       "version_major": 2,
       "version_minor": 0
      },
      "text/plain": [
       "  0%|          | 0/16 [00:00<?, ?it/s]"
      ]
     },
     "metadata": {},
     "output_type": "display_data"
    },
    {
     "name": "stdout",
     "output_type": "stream",
     "text": [
      "\n",
      "                    Epoch: 328 / 1000 \n",
      "                    | Train Loss: 0.1790458452887833 \n",
      "                    | Train Dice Accuracy: 0.9620594829320908 \n",
      "                    | Test Dice Accuracy: 0.9387049078941345\n",
      "                \n"
     ]
    },
    {
     "data": {
      "application/vnd.jupyter.widget-view+json": {
       "model_id": "18b49f5140c64fbfb081e48152dbc816",
       "version_major": 2,
       "version_minor": 0
      },
      "text/plain": [
       "  0%|          | 0/16 [00:00<?, ?it/s]"
      ]
     },
     "metadata": {},
     "output_type": "display_data"
    },
    {
     "name": "stdout",
     "output_type": "stream",
     "text": [
      "\n",
      "                Epoch: 329 / 1000 \n",
      "                | Train Loss: 0.19734938512556255 \n",
      "                | Train Dice Accuracy: 0.9624563167445468 \n",
      "            \n"
     ]
    },
    {
     "data": {
      "application/vnd.jupyter.widget-view+json": {
       "model_id": "938e264744a44f9e94b0217e093542d2",
       "version_major": 2,
       "version_minor": 0
      },
      "text/plain": [
       "  0%|          | 0/16 [00:00<?, ?it/s]"
      ]
     },
     "metadata": {},
     "output_type": "display_data"
    },
    {
     "name": "stdout",
     "output_type": "stream",
     "text": [
      "\n",
      "                    Epoch: 330 / 1000 \n",
      "                    | Train Loss: 0.1927776043303311 \n",
      "                    | Train Dice Accuracy: 0.9588889124247949 \n",
      "                    | Test Dice Accuracy: 0.8311815990342034\n",
      "                \n"
     ]
    },
    {
     "data": {
      "application/vnd.jupyter.widget-view+json": {
       "model_id": "d6b01225f2e348f8bf4f500f535a6397",
       "version_major": 2,
       "version_minor": 0
      },
      "text/plain": [
       "  0%|          | 0/16 [00:00<?, ?it/s]"
      ]
     },
     "metadata": {},
     "output_type": "display_data"
    },
    {
     "name": "stdout",
     "output_type": "stream",
     "text": [
      "\n",
      "                Epoch: 331 / 1000 \n",
      "                | Train Loss: 0.20279588550329208 \n",
      "                | Train Dice Accuracy: 0.9535367319369203 \n",
      "            \n"
     ]
    },
    {
     "data": {
      "application/vnd.jupyter.widget-view+json": {
       "model_id": "699cbb8821cf40938da62aa68742d155",
       "version_major": 2,
       "version_minor": 0
      },
      "text/plain": [
       "  0%|          | 0/16 [00:00<?, ?it/s]"
      ]
     },
     "metadata": {},
     "output_type": "display_data"
    },
    {
     "name": "stdout",
     "output_type": "stream",
     "text": [
      "\n",
      "                    Epoch: 332 / 1000 \n",
      "                    | Train Loss: 0.17152985837310553 \n",
      "                    | Train Dice Accuracy: 0.9614939260373422 \n",
      "                    | Test Dice Accuracy: 0.9337876107957628\n",
      "                \n"
     ]
    },
    {
     "data": {
      "application/vnd.jupyter.widget-view+json": {
       "model_id": "881f749570a642669a7160e2232e75a5",
       "version_major": 2,
       "version_minor": 0
      },
      "text/plain": [
       "  0%|          | 0/16 [00:00<?, ?it/s]"
      ]
     },
     "metadata": {},
     "output_type": "display_data"
    },
    {
     "name": "stdout",
     "output_type": "stream",
     "text": [
      "\n",
      "                Epoch: 333 / 1000 \n",
      "                | Train Loss: 0.1815948726143688 \n",
      "                | Train Dice Accuracy: 0.9576643073448429 \n",
      "            \n"
     ]
    },
    {
     "data": {
      "application/vnd.jupyter.widget-view+json": {
       "model_id": "84da94e68bd44a71aba5ccea8525e95e",
       "version_major": 2,
       "version_minor": 0
      },
      "text/plain": [
       "  0%|          | 0/16 [00:00<?, ?it/s]"
      ]
     },
     "metadata": {},
     "output_type": "display_data"
    },
    {
     "name": "stdout",
     "output_type": "stream",
     "text": [
      "\n",
      "                    Epoch: 334 / 1000 \n",
      "                    | Train Loss: 0.1272893634159118 \n",
      "                    | Train Dice Accuracy: 0.9547073206344208 \n",
      "                    | Test Dice Accuracy: 0.6971017364412546\n",
      "                \n"
     ]
    },
    {
     "data": {
      "application/vnd.jupyter.widget-view+json": {
       "model_id": "1b9d29bd5fa14c2483825bda94342c63",
       "version_major": 2,
       "version_minor": 0
      },
      "text/plain": [
       "  0%|          | 0/16 [00:00<?, ?it/s]"
      ]
     },
     "metadata": {},
     "output_type": "display_data"
    },
    {
     "name": "stdout",
     "output_type": "stream",
     "text": [
      "\n",
      "                Epoch: 335 / 1000 \n",
      "                | Train Loss: 0.1672653816640377 \n",
      "                | Train Dice Accuracy: 0.9630803835990767 \n",
      "            \n"
     ]
    },
    {
     "data": {
      "application/vnd.jupyter.widget-view+json": {
       "model_id": "0a75c5459de84ebfb69f9c7b4e3dc68e",
       "version_major": 2,
       "version_minor": 0
      },
      "text/plain": [
       "  0%|          | 0/16 [00:00<?, ?it/s]"
      ]
     },
     "metadata": {},
     "output_type": "display_data"
    },
    {
     "name": "stdout",
     "output_type": "stream",
     "text": [
      "saved new best spleen metric model\n",
      "\n",
      "                    Epoch: 336 / 1000 \n",
      "                    | Train Loss: 0.18718934804201126 \n",
      "                    | Train Dice Accuracy: 0.9614063974852874 \n",
      "                    | Test Dice Accuracy: 0.9440523982048035\n",
      "                \n"
     ]
    },
    {
     "data": {
      "application/vnd.jupyter.widget-view+json": {
       "model_id": "632deab20e14481e829fbc5fdb52e133",
       "version_major": 2,
       "version_minor": 0
      },
      "text/plain": [
       "  0%|          | 0/16 [00:00<?, ?it/s]"
      ]
     },
     "metadata": {},
     "output_type": "display_data"
    },
    {
     "name": "stdout",
     "output_type": "stream",
     "text": [
      "\n",
      "                Epoch: 337 / 1000 \n",
      "                | Train Loss: 0.18422974948771298 \n",
      "                | Train Dice Accuracy: 0.9538356988660751 \n",
      "            \n"
     ]
    },
    {
     "data": {
      "application/vnd.jupyter.widget-view+json": {
       "model_id": "d981a771f2314f4785679fcdbe1976af",
       "version_major": 2,
       "version_minor": 0
      },
      "text/plain": [
       "  0%|          | 0/16 [00:00<?, ?it/s]"
      ]
     },
     "metadata": {},
     "output_type": "display_data"
    },
    {
     "name": "stdout",
     "output_type": "stream",
     "text": [
      "\n",
      "                    Epoch: 338 / 1000 \n",
      "                    | Train Loss: 0.17679970106109977 \n",
      "                    | Train Dice Accuracy: 0.9630187854722694 \n",
      "                    | Test Dice Accuracy: 0.9440122048060099\n",
      "                \n"
     ]
    },
    {
     "data": {
      "application/vnd.jupyter.widget-view+json": {
       "model_id": "e65bf56393804bf3a44ad762346971ab",
       "version_major": 2,
       "version_minor": 0
      },
      "text/plain": [
       "  0%|          | 0/16 [00:00<?, ?it/s]"
      ]
     },
     "metadata": {},
     "output_type": "display_data"
    },
    {
     "name": "stdout",
     "output_type": "stream",
     "text": [
      "\n",
      "                Epoch: 339 / 1000 \n",
      "                | Train Loss: 0.19553343043662608 \n",
      "                | Train Dice Accuracy: 0.9609000061480504 \n",
      "            \n"
     ]
    },
    {
     "data": {
      "application/vnd.jupyter.widget-view+json": {
       "model_id": "7807270b6f61492999eba88085ef8f38",
       "version_major": 2,
       "version_minor": 0
      },
      "text/plain": [
       "  0%|          | 0/16 [00:00<?, ?it/s]"
      ]
     },
     "metadata": {},
     "output_type": "display_data"
    },
    {
     "name": "stdout",
     "output_type": "stream",
     "text": [
      "saved new best spleen metric model\n",
      "\n",
      "                    Epoch: 340 / 1000 \n",
      "                    | Train Loss: 0.16792988660745323 \n",
      "                    | Train Dice Accuracy: 0.9663934734983182 \n",
      "                    | Test Dice Accuracy: 0.9460568825403849\n",
      "                \n"
     ]
    },
    {
     "data": {
      "application/vnd.jupyter.widget-view+json": {
       "model_id": "2f3c8f0202004f74b58a54f5e5735193",
       "version_major": 2,
       "version_minor": 0
      },
      "text/plain": [
       "  0%|          | 0/16 [00:00<?, ?it/s]"
      ]
     },
     "metadata": {},
     "output_type": "display_data"
    },
    {
     "name": "stdout",
     "output_type": "stream",
     "text": [
      "\n",
      "                Epoch: 341 / 1000 \n",
      "                | Train Loss: 0.1664624430704862 \n",
      "                | Train Dice Accuracy: 0.9638631030849126 \n",
      "            \n"
     ]
    },
    {
     "data": {
      "application/vnd.jupyter.widget-view+json": {
       "model_id": "bfc5e5946c6e459cb9b7dd0c204c1bed",
       "version_major": 2,
       "version_minor": 0
      },
      "text/plain": [
       "  0%|          | 0/16 [00:00<?, ?it/s]"
      ]
     },
     "metadata": {},
     "output_type": "display_data"
    },
    {
     "name": "stdout",
     "output_type": "stream",
     "text": [
      "\n",
      "                    Epoch: 342 / 1000 \n",
      "                    | Train Loss: 0.18227710970677435 \n",
      "                    | Train Dice Accuracy: 0.9684940846723931 \n",
      "                    | Test Dice Accuracy: 0.9282616509331597\n",
      "                \n"
     ]
    },
    {
     "data": {
      "application/vnd.jupyter.widget-view+json": {
       "model_id": "dfe81bad9cec462aa05477e6469d5f59",
       "version_major": 2,
       "version_minor": 0
      },
      "text/plain": [
       "  0%|          | 0/16 [00:00<?, ?it/s]"
      ]
     },
     "metadata": {},
     "output_type": "display_data"
    },
    {
     "name": "stdout",
     "output_type": "stream",
     "text": [
      "\n",
      "                Epoch: 343 / 1000 \n",
      "                | Train Loss: 0.15254661464132369 \n",
      "                | Train Dice Accuracy: 0.9626399676895997 \n",
      "            \n"
     ]
    },
    {
     "data": {
      "application/vnd.jupyter.widget-view+json": {
       "model_id": "091790f8db474fb198cbede8c1fe1b75",
       "version_major": 2,
       "version_minor": 0
      },
      "text/plain": [
       "  0%|          | 0/16 [00:00<?, ?it/s]"
      ]
     },
     "metadata": {},
     "output_type": "display_data"
    },
    {
     "name": "stdout",
     "output_type": "stream",
     "text": [
      "\n",
      "                    Epoch: 344 / 1000 \n",
      "                    | Train Loss: 0.20310792932286859 \n",
      "                    | Train Dice Accuracy: 0.9426986268747632 \n",
      "                    | Test Dice Accuracy: 0.8443042271667056\n",
      "                \n"
     ]
    },
    {
     "data": {
      "application/vnd.jupyter.widget-view+json": {
       "model_id": "f77ed4cc96084cf7a283b9f873fbdd17",
       "version_major": 2,
       "version_minor": 0
      },
      "text/plain": [
       "  0%|          | 0/16 [00:00<?, ?it/s]"
      ]
     },
     "metadata": {},
     "output_type": "display_data"
    },
    {
     "name": "stdout",
     "output_type": "stream",
     "text": [
      "\n",
      "                Epoch: 345 / 1000 \n",
      "                | Train Loss: 0.17220319248735905 \n",
      "                | Train Dice Accuracy: 0.9528606628829782 \n",
      "            \n"
     ]
    },
    {
     "data": {
      "application/vnd.jupyter.widget-view+json": {
       "model_id": "a767e4307a05410d95ba2d46ab9b3896",
       "version_major": 2,
       "version_minor": 0
      },
      "text/plain": [
       "  0%|          | 0/16 [00:00<?, ?it/s]"
      ]
     },
     "metadata": {},
     "output_type": "display_data"
    },
    {
     "name": "stdout",
     "output_type": "stream",
     "text": [
      "\n",
      "                    Epoch: 346 / 1000 \n",
      "                    | Train Loss: 0.20993694895878434 \n",
      "                    | Train Dice Accuracy: 0.957798801935636 \n",
      "                    | Test Dice Accuracy: 0.9334212011761136\n",
      "                \n"
     ]
    },
    {
     "data": {
      "application/vnd.jupyter.widget-view+json": {
       "model_id": "722aa4c063bc4d28a62be1f2eeb3d4e7",
       "version_major": 2,
       "version_minor": 0
      },
      "text/plain": [
       "  0%|          | 0/16 [00:00<?, ?it/s]"
      ]
     },
     "metadata": {},
     "output_type": "display_data"
    },
    {
     "name": "stdout",
     "output_type": "stream",
     "text": [
      "\n",
      "                Epoch: 347 / 1000 \n",
      "                | Train Loss: 0.17452176148071885 \n",
      "                | Train Dice Accuracy: 0.9572518176684096 \n",
      "            \n"
     ]
    },
    {
     "data": {
      "application/vnd.jupyter.widget-view+json": {
       "model_id": "cea63a7680804a3ba58f00d467001345",
       "version_major": 2,
       "version_minor": 0
      },
      "text/plain": [
       "  0%|          | 0/16 [00:00<?, ?it/s]"
      ]
     },
     "metadata": {},
     "output_type": "display_data"
    },
    {
     "name": "stdout",
     "output_type": "stream",
     "text": [
      "\n",
      "                    Epoch: 348 / 1000 \n",
      "                    | Train Loss: 0.19559016497805715 \n",
      "                    | Train Dice Accuracy: 0.9545424334320104 \n",
      "                    | Test Dice Accuracy: 0.9443584349420335\n",
      "                \n"
     ]
    },
    {
     "data": {
      "application/vnd.jupyter.widget-view+json": {
       "model_id": "07e5e867621b49989eddd9542991bb98",
       "version_major": 2,
       "version_minor": 0
      },
      "text/plain": [
       "  0%|          | 0/16 [00:00<?, ?it/s]"
      ]
     },
     "metadata": {},
     "output_type": "display_data"
    },
    {
     "name": "stdout",
     "output_type": "stream",
     "text": [
      "\n",
      "                Epoch: 349 / 1000 \n",
      "                | Train Loss: 0.19268796895630658 \n",
      "                | Train Dice Accuracy: 0.9662168548916871 \n",
      "            \n"
     ]
    },
    {
     "data": {
      "application/vnd.jupyter.widget-view+json": {
       "model_id": "f0f3789b04104cf694c5c3050429fb8b",
       "version_major": 2,
       "version_minor": 0
      },
      "text/plain": [
       "  0%|          | 0/16 [00:00<?, ?it/s]"
      ]
     },
     "metadata": {},
     "output_type": "display_data"
    },
    {
     "name": "stdout",
     "output_type": "stream",
     "text": [
      "\n",
      "                    Epoch: 350 / 1000 \n",
      "                    | Train Loss: 0.16535324440337718 \n",
      "                    | Train Dice Accuracy: 0.9545230698261865 \n",
      "                    | Test Dice Accuracy: 0.9302856789694892\n",
      "                \n"
     ]
    },
    {
     "data": {
      "application/vnd.jupyter.widget-view+json": {
       "model_id": "2daf4ecc35134745a1796ebe4e569f0c",
       "version_major": 2,
       "version_minor": 0
      },
      "text/plain": [
       "  0%|          | 0/16 [00:00<?, ?it/s]"
      ]
     },
     "metadata": {},
     "output_type": "display_data"
    },
    {
     "name": "stdout",
     "output_type": "stream",
     "text": [
      "\n",
      "                Epoch: 351 / 1000 \n",
      "                | Train Loss: 0.17969459481537342 \n",
      "                | Train Dice Accuracy: 0.9573051001069732 \n",
      "            \n"
     ]
    },
    {
     "data": {
      "application/vnd.jupyter.widget-view+json": {
       "model_id": "7d37bae1c6cf446b89bc51f9f805059a",
       "version_major": 2,
       "version_minor": 0
      },
      "text/plain": [
       "  0%|          | 0/16 [00:00<?, ?it/s]"
      ]
     },
     "metadata": {},
     "output_type": "display_data"
    },
    {
     "name": "stdout",
     "output_type": "stream",
     "text": [
      "\n",
      "                    Epoch: 352 / 1000 \n",
      "                    | Train Loss: 0.20565617084503174 \n",
      "                    | Train Dice Accuracy: 0.9491823056958756 \n",
      "                    | Test Dice Accuracy: 0.9235128627883064\n",
      "                \n"
     ]
    },
    {
     "data": {
      "application/vnd.jupyter.widget-view+json": {
       "model_id": "9d947f8b84c64e1888b4913cdcacf30a",
       "version_major": 2,
       "version_minor": 0
      },
      "text/plain": [
       "  0%|          | 0/16 [00:00<?, ?it/s]"
      ]
     },
     "metadata": {},
     "output_type": "display_data"
    },
    {
     "name": "stdout",
     "output_type": "stream",
     "text": [
      "\n",
      "                Epoch: 353 / 1000 \n",
      "                | Train Loss: 0.13927533710375428 \n",
      "                | Train Dice Accuracy: 0.9590409090865551 \n",
      "            \n"
     ]
    },
    {
     "data": {
      "application/vnd.jupyter.widget-view+json": {
       "model_id": "67b99b01bd734ecea673d8fe22c53333",
       "version_major": 2,
       "version_minor": 0
      },
      "text/plain": [
       "  0%|          | 0/16 [00:00<?, ?it/s]"
      ]
     },
     "metadata": {},
     "output_type": "display_data"
    },
    {
     "name": "stdout",
     "output_type": "stream",
     "text": [
      "\n",
      "                    Epoch: 354 / 1000 \n",
      "                    | Train Loss: 0.16632325993850827 \n",
      "                    | Train Dice Accuracy: 0.9679085962269285 \n",
      "                    | Test Dice Accuracy: 0.8773258725802103\n",
      "                \n"
     ]
    },
    {
     "data": {
      "application/vnd.jupyter.widget-view+json": {
       "model_id": "7d0d9b71871e4e56931253678964040f",
       "version_major": 2,
       "version_minor": 0
      },
      "text/plain": [
       "  0%|          | 0/16 [00:00<?, ?it/s]"
      ]
     },
     "metadata": {},
     "output_type": "display_data"
    },
    {
     "name": "stdout",
     "output_type": "stream",
     "text": [
      "\n",
      "                Epoch: 355 / 1000 \n",
      "                | Train Loss: 0.1699694029521197 \n",
      "                | Train Dice Accuracy: 0.9642973457454541 \n",
      "            \n"
     ]
    },
    {
     "data": {
      "application/vnd.jupyter.widget-view+json": {
       "model_id": "5425fcc4c55c454aafe8964b7883f599",
       "version_major": 2,
       "version_minor": 0
      },
      "text/plain": [
       "  0%|          | 0/16 [00:00<?, ?it/s]"
      ]
     },
     "metadata": {},
     "output_type": "display_data"
    },
    {
     "name": "stdout",
     "output_type": "stream",
     "text": [
      "\n",
      "                    Epoch: 356 / 1000 \n",
      "                    | Train Loss: 0.20041245454922318 \n",
      "                    | Train Dice Accuracy: 0.9711870984597639 \n",
      "                    | Test Dice Accuracy: 0.9061558246612549\n",
      "                \n"
     ]
    },
    {
     "data": {
      "application/vnd.jupyter.widget-view+json": {
       "model_id": "dfddfd518f15441a8ce91d8b49fa7e07",
       "version_major": 2,
       "version_minor": 0
      },
      "text/plain": [
       "  0%|          | 0/16 [00:00<?, ?it/s]"
      ]
     },
     "metadata": {},
     "output_type": "display_data"
    },
    {
     "name": "stdout",
     "output_type": "stream",
     "text": [
      "\n",
      "                Epoch: 357 / 1000 \n",
      "                | Train Loss: 0.17625620029866695 \n",
      "                | Train Dice Accuracy: 0.9626406554802223 \n",
      "            \n"
     ]
    },
    {
     "data": {
      "application/vnd.jupyter.widget-view+json": {
       "model_id": "5e9bd807de32416693d6d6622502ad56",
       "version_major": 2,
       "version_minor": 0
      },
      "text/plain": [
       "  0%|          | 0/16 [00:00<?, ?it/s]"
      ]
     },
     "metadata": {},
     "output_type": "display_data"
    },
    {
     "name": "stdout",
     "output_type": "stream",
     "text": [
      "\n",
      "                    Epoch: 358 / 1000 \n",
      "                    | Train Loss: 0.16305326716974378 \n",
      "                    | Train Dice Accuracy: 0.9647359018976038 \n",
      "                    | Test Dice Accuracy: 0.8423005077573988\n",
      "                \n"
     ]
    },
    {
     "data": {
      "application/vnd.jupyter.widget-view+json": {
       "model_id": "b1b407307e7b4c2ab4ae4d2b56a705e7",
       "version_major": 2,
       "version_minor": 0
      },
      "text/plain": [
       "  0%|          | 0/16 [00:00<?, ?it/s]"
      ]
     },
     "metadata": {},
     "output_type": "display_data"
    },
    {
     "name": "stdout",
     "output_type": "stream",
     "text": [
      "\n",
      "                Epoch: 359 / 1000 \n",
      "                | Train Loss: 0.15974942175671458 \n",
      "                | Train Dice Accuracy: 0.9559697679874608 \n",
      "            \n"
     ]
    },
    {
     "data": {
      "application/vnd.jupyter.widget-view+json": {
       "model_id": "37dfc77ea9db47be866398b37a28694a",
       "version_major": 2,
       "version_minor": 0
      },
      "text/plain": [
       "  0%|          | 0/16 [00:00<?, ?it/s]"
      ]
     },
     "metadata": {},
     "output_type": "display_data"
    },
    {
     "name": "stdout",
     "output_type": "stream",
     "text": [
      "\n",
      "                    Epoch: 360 / 1000 \n",
      "                    | Train Loss: 0.1918381319846958 \n",
      "                    | Train Dice Accuracy: 0.9592251953944354 \n",
      "                    | Test Dice Accuracy: 0.6016737868388494\n",
      "                \n"
     ]
    },
    {
     "data": {
      "application/vnd.jupyter.widget-view+json": {
       "model_id": "5e971047a0a748e784a7c32c667fea26",
       "version_major": 2,
       "version_minor": 0
      },
      "text/plain": [
       "  0%|          | 0/16 [00:00<?, ?it/s]"
      ]
     },
     "metadata": {},
     "output_type": "display_data"
    },
    {
     "name": "stdout",
     "output_type": "stream",
     "text": [
      "\n",
      "                Epoch: 361 / 1000 \n",
      "                | Train Loss: 0.1766979091335088 \n",
      "                | Train Dice Accuracy: 0.9632875778608851 \n",
      "            \n"
     ]
    },
    {
     "data": {
      "application/vnd.jupyter.widget-view+json": {
       "model_id": "1a07c27e7c42478ca938f2def99b1f25",
       "version_major": 2,
       "version_minor": 0
      },
      "text/plain": [
       "  0%|          | 0/16 [00:00<?, ?it/s]"
      ]
     },
     "metadata": {},
     "output_type": "display_data"
    },
    {
     "name": "stdout",
     "output_type": "stream",
     "text": [
      "\n",
      "                    Epoch: 362 / 1000 \n",
      "                    | Train Loss: 0.19399262056685984 \n",
      "                    | Train Dice Accuracy: 0.9667973970349931 \n",
      "                    | Test Dice Accuracy: 0.8802941838900248\n",
      "                \n"
     ]
    },
    {
     "data": {
      "application/vnd.jupyter.widget-view+json": {
       "model_id": "f58682d8a60743b08a806a57a8ac91ea",
       "version_major": 2,
       "version_minor": 0
      },
      "text/plain": [
       "  0%|          | 0/16 [00:00<?, ?it/s]"
      ]
     },
     "metadata": {},
     "output_type": "display_data"
    },
    {
     "name": "stdout",
     "output_type": "stream",
     "text": [
      "\n",
      "                Epoch: 363 / 1000 \n",
      "                | Train Loss: 0.19784545479342341 \n",
      "                | Train Dice Accuracy: 0.9584834016156647 \n",
      "            \n"
     ]
    },
    {
     "data": {
      "application/vnd.jupyter.widget-view+json": {
       "model_id": "4ce673cd4b4c49aca65374022de30dd3",
       "version_major": 2,
       "version_minor": 0
      },
      "text/plain": [
       "  0%|          | 0/16 [00:00<?, ?it/s]"
      ]
     },
     "metadata": {},
     "output_type": "display_data"
    },
    {
     "name": "stdout",
     "output_type": "stream",
     "text": [
      "\n",
      "                    Epoch: 364 / 1000 \n",
      "                    | Train Loss: 0.17559495405294 \n",
      "                    | Train Dice Accuracy: 0.9589647377302887 \n",
      "                    | Test Dice Accuracy: 0.6848452289899191\n",
      "                \n"
     ]
    },
    {
     "data": {
      "application/vnd.jupyter.widget-view+json": {
       "model_id": "8df5eff84f39465a83fcd859f2f0a118",
       "version_major": 2,
       "version_minor": 0
      },
      "text/plain": [
       "  0%|          | 0/16 [00:00<?, ?it/s]"
      ]
     },
     "metadata": {},
     "output_type": "display_data"
    },
    {
     "name": "stdout",
     "output_type": "stream",
     "text": [
      "\n",
      "                Epoch: 365 / 1000 \n",
      "                | Train Loss: 0.19307479448616505 \n",
      "                | Train Dice Accuracy: 0.9516697939052138 \n",
      "            \n"
     ]
    },
    {
     "data": {
      "application/vnd.jupyter.widget-view+json": {
       "model_id": "37511171ee4748439f92497f03f6a3a0",
       "version_major": 2,
       "version_minor": 0
      },
      "text/plain": [
       "  0%|          | 0/16 [00:00<?, ?it/s]"
      ]
     },
     "metadata": {},
     "output_type": "display_data"
    },
    {
     "name": "stdout",
     "output_type": "stream",
     "text": [
      "\n",
      "                    Epoch: 366 / 1000 \n",
      "                    | Train Loss: 0.1923232558183372 \n",
      "                    | Train Dice Accuracy: 0.9516676380255512 \n",
      "                    | Test Dice Accuracy: 0.8967023094495138\n",
      "                \n"
     ]
    },
    {
     "data": {
      "application/vnd.jupyter.widget-view+json": {
       "model_id": "79e9937055654084ab7dd0c88e5668dc",
       "version_major": 2,
       "version_minor": 0
      },
      "text/plain": [
       "  0%|          | 0/16 [00:00<?, ?it/s]"
      ]
     },
     "metadata": {},
     "output_type": "display_data"
    },
    {
     "name": "stdout",
     "output_type": "stream",
     "text": [
      "\n",
      "                Epoch: 367 / 1000 \n",
      "                | Train Loss: 0.15873273205943406 \n",
      "                | Train Dice Accuracy: 0.9625654827415674 \n",
      "            \n"
     ]
    },
    {
     "data": {
      "application/vnd.jupyter.widget-view+json": {
       "model_id": "7681de22b5724e94b665d754c303fff9",
       "version_major": 2,
       "version_minor": 0
      },
      "text/plain": [
       "  0%|          | 0/16 [00:00<?, ?it/s]"
      ]
     },
     "metadata": {},
     "output_type": "display_data"
    },
    {
     "name": "stdout",
     "output_type": "stream",
     "text": [
      "\n",
      "                    Epoch: 368 / 1000 \n",
      "                    | Train Loss: 0.16842881962656975 \n",
      "                    | Train Dice Accuracy: 0.9690625708584392 \n",
      "                    | Test Dice Accuracy: 0.8818282948599921\n",
      "                \n"
     ]
    },
    {
     "data": {
      "application/vnd.jupyter.widget-view+json": {
       "model_id": "7dedae3151a249fb9bde67f50f4e8d74",
       "version_major": 2,
       "version_minor": 0
      },
      "text/plain": [
       "  0%|          | 0/16 [00:00<?, ?it/s]"
      ]
     },
     "metadata": {},
     "output_type": "display_data"
    },
    {
     "name": "stdout",
     "output_type": "stream",
     "text": [
      "\n",
      "                Epoch: 369 / 1000 \n",
      "                | Train Loss: 0.1983994257170707 \n",
      "                | Train Dice Accuracy: 0.961381281439162 \n",
      "            \n"
     ]
    },
    {
     "data": {
      "application/vnd.jupyter.widget-view+json": {
       "model_id": "f7acf7d2092f43dcb5f153be8ff90154",
       "version_major": 2,
       "version_minor": 0
      },
      "text/plain": [
       "  0%|          | 0/16 [00:00<?, ?it/s]"
      ]
     },
     "metadata": {},
     "output_type": "display_data"
    },
    {
     "name": "stdout",
     "output_type": "stream",
     "text": [
      "\n",
      "                    Epoch: 370 / 1000 \n",
      "                    | Train Loss: 0.18500408995896578 \n",
      "                    | Train Dice Accuracy: 0.9499734798702625 \n",
      "                    | Test Dice Accuracy: 0.9267553819550408\n",
      "                \n"
     ]
    },
    {
     "data": {
      "application/vnd.jupyter.widget-view+json": {
       "model_id": "7d9f07438ed0456f9951aa2579bf8919",
       "version_major": 2,
       "version_minor": 0
      },
      "text/plain": [
       "  0%|          | 0/16 [00:00<?, ?it/s]"
      ]
     },
     "metadata": {},
     "output_type": "display_data"
    },
    {
     "name": "stdout",
     "output_type": "stream",
     "text": [
      "\n",
      "                Epoch: 371 / 1000 \n",
      "                | Train Loss: 0.17289438843727112 \n",
      "                | Train Dice Accuracy: 0.9613236208115855 \n",
      "            \n"
     ]
    },
    {
     "data": {
      "application/vnd.jupyter.widget-view+json": {
       "model_id": "7c39b8adb1884cfa8a0cce7e37fb829d",
       "version_major": 2,
       "version_minor": 0
      },
      "text/plain": [
       "  0%|          | 0/16 [00:00<?, ?it/s]"
      ]
     },
     "metadata": {},
     "output_type": "display_data"
    },
    {
     "name": "stdout",
     "output_type": "stream",
     "text": [
      "\n",
      "                    Epoch: 372 / 1000 \n",
      "                    | Train Loss: 0.17396971280686557 \n",
      "                    | Train Dice Accuracy: 0.9603773497660225 \n",
      "                    | Test Dice Accuracy: 0.8327987922562493\n",
      "                \n"
     ]
    },
    {
     "data": {
      "application/vnd.jupyter.widget-view+json": {
       "model_id": "717895372e6447d6bff388f63f94559a",
       "version_major": 2,
       "version_minor": 0
      },
      "text/plain": [
       "  0%|          | 0/16 [00:00<?, ?it/s]"
      ]
     },
     "metadata": {},
     "output_type": "display_data"
    },
    {
     "name": "stdout",
     "output_type": "stream",
     "text": [
      "\n",
      "                Epoch: 373 / 1000 \n",
      "                | Train Loss: 0.206997184548527 \n",
      "                | Train Dice Accuracy: 0.9487797533566097 \n",
      "            \n"
     ]
    },
    {
     "data": {
      "application/vnd.jupyter.widget-view+json": {
       "model_id": "692dcecc65b245f89524c58e10b10344",
       "version_major": 2,
       "version_minor": 0
      },
      "text/plain": [
       "  0%|          | 0/16 [00:00<?, ?it/s]"
      ]
     },
     "metadata": {},
     "output_type": "display_data"
    },
    {
     "name": "stdout",
     "output_type": "stream",
     "text": [
      "\n",
      "                    Epoch: 374 / 1000 \n",
      "                    | Train Loss: 0.21621545124799013 \n",
      "                    | Train Dice Accuracy: 0.9625488664340047 \n",
      "                    | Test Dice Accuracy: 0.9339571661419339\n",
      "                \n"
     ]
    },
    {
     "data": {
      "application/vnd.jupyter.widget-view+json": {
       "model_id": "d02ad4e6905743cf9efed712d473eefe",
       "version_major": 2,
       "version_minor": 0
      },
      "text/plain": [
       "  0%|          | 0/16 [00:00<?, ?it/s]"
      ]
     },
     "metadata": {},
     "output_type": "display_data"
    },
    {
     "name": "stdout",
     "output_type": "stream",
     "text": [
      "\n",
      "                Epoch: 375 / 1000 \n",
      "                | Train Loss: 0.1880030296742916 \n",
      "                | Train Dice Accuracy: 0.9542817939762716 \n",
      "            \n"
     ]
    },
    {
     "data": {
      "application/vnd.jupyter.widget-view+json": {
       "model_id": "4da062f42d0f4e62a24f4a51e3ddf715",
       "version_major": 2,
       "version_minor": 0
      },
      "text/plain": [
       "  0%|          | 0/16 [00:00<?, ?it/s]"
      ]
     },
     "metadata": {},
     "output_type": "display_data"
    },
    {
     "name": "stdout",
     "output_type": "stream",
     "text": [
      "\n",
      "                    Epoch: 376 / 1000 \n",
      "                    | Train Loss: 0.21271053212694824 \n",
      "                    | Train Dice Accuracy: 0.9566817378195432 \n",
      "                    | Test Dice Accuracy: 0.8456438382466634\n",
      "                \n"
     ]
    },
    {
     "data": {
      "application/vnd.jupyter.widget-view+json": {
       "model_id": "30f52bc9cc584c038cf923ab302bb6b8",
       "version_major": 2,
       "version_minor": 0
      },
      "text/plain": [
       "  0%|          | 0/16 [00:00<?, ?it/s]"
      ]
     },
     "metadata": {},
     "output_type": "display_data"
    },
    {
     "name": "stdout",
     "output_type": "stream",
     "text": [
      "\n",
      "                Epoch: 377 / 1000 \n",
      "                | Train Loss: 0.14832141040824354 \n",
      "                | Train Dice Accuracy: 0.9636078889348677 \n",
      "            \n"
     ]
    },
    {
     "data": {
      "application/vnd.jupyter.widget-view+json": {
       "model_id": "f84de200a4b04ec1a9bc4fc78f6868a6",
       "version_major": 2,
       "version_minor": 0
      },
      "text/plain": [
       "  0%|          | 0/16 [00:00<?, ?it/s]"
      ]
     },
     "metadata": {},
     "output_type": "display_data"
    },
    {
     "name": "stdout",
     "output_type": "stream",
     "text": [
      "\n",
      "                    Epoch: 378 / 1000 \n",
      "                    | Train Loss: 0.1984010215383023 \n",
      "                    | Train Dice Accuracy: 0.9648536418286545 \n",
      "                    | Test Dice Accuracy: 0.946027053727044\n",
      "                \n"
     ]
    },
    {
     "data": {
      "application/vnd.jupyter.widget-view+json": {
       "model_id": "d50b08b051344a29b0c2d0665dc801c0",
       "version_major": 2,
       "version_minor": 0
      },
      "text/plain": [
       "  0%|          | 0/16 [00:00<?, ?it/s]"
      ]
     },
     "metadata": {},
     "output_type": "display_data"
    },
    {
     "name": "stdout",
     "output_type": "stream",
     "text": [
      "\n",
      "                Epoch: 379 / 1000 \n",
      "                | Train Loss: 0.16581645142287016 \n",
      "                | Train Dice Accuracy: 0.9619820626903343 \n",
      "            \n"
     ]
    },
    {
     "data": {
      "application/vnd.jupyter.widget-view+json": {
       "model_id": "aa009568ab5543a4bd3cf34fdd1489e2",
       "version_major": 2,
       "version_minor": 0
      },
      "text/plain": [
       "  0%|          | 0/16 [00:00<?, ?it/s]"
      ]
     },
     "metadata": {},
     "output_type": "display_data"
    },
    {
     "name": "stdout",
     "output_type": "stream",
     "text": [
      "\n",
      "                    Epoch: 380 / 1000 \n",
      "                    | Train Loss: 0.1727740252390504 \n",
      "                    | Train Dice Accuracy: 0.9596596833215941 \n",
      "                    | Test Dice Accuracy: 0.922791063785553\n",
      "                \n"
     ]
    },
    {
     "data": {
      "application/vnd.jupyter.widget-view+json": {
       "model_id": "d607c9bc8b4947599e6f120e275eda65",
       "version_major": 2,
       "version_minor": 0
      },
      "text/plain": [
       "  0%|          | 0/16 [00:00<?, ?it/s]"
      ]
     },
     "metadata": {},
     "output_type": "display_data"
    },
    {
     "name": "stdout",
     "output_type": "stream",
     "text": [
      "\n",
      "                Epoch: 381 / 1000 \n",
      "                | Train Loss: 0.14498953497968614 \n",
      "                | Train Dice Accuracy: 0.9613417315483094 \n",
      "            \n"
     ]
    },
    {
     "data": {
      "application/vnd.jupyter.widget-view+json": {
       "model_id": "5eff0ba214c74071af64e17a76fed633",
       "version_major": 2,
       "version_minor": 0
      },
      "text/plain": [
       "  0%|          | 0/16 [00:00<?, ?it/s]"
      ]
     },
     "metadata": {},
     "output_type": "display_data"
    },
    {
     "name": "stdout",
     "output_type": "stream",
     "text": [
      "\n",
      "                    Epoch: 382 / 1000 \n",
      "                    | Train Loss: 0.181671874364838 \n",
      "                    | Train Dice Accuracy: 0.9655928811361624 \n",
      "                    | Test Dice Accuracy: 0.8115581406487359\n",
      "                \n"
     ]
    },
    {
     "data": {
      "application/vnd.jupyter.widget-view+json": {
       "model_id": "3987f8e6d3d445a9a2693dd2f717a5bf",
       "version_major": 2,
       "version_minor": 0
      },
      "text/plain": [
       "  0%|          | 0/16 [00:00<?, ?it/s]"
      ]
     },
     "metadata": {},
     "output_type": "display_data"
    },
    {
     "name": "stdout",
     "output_type": "stream",
     "text": [
      "\n",
      "                Epoch: 383 / 1000 \n",
      "                | Train Loss: 0.17791833635419607 \n",
      "                | Train Dice Accuracy: 0.9622707827775566 \n",
      "            \n"
     ]
    },
    {
     "data": {
      "application/vnd.jupyter.widget-view+json": {
       "model_id": "666caa8cbfbb400d9e5991986e630a98",
       "version_major": 2,
       "version_minor": 0
      },
      "text/plain": [
       "  0%|          | 0/16 [00:00<?, ?it/s]"
      ]
     },
     "metadata": {},
     "output_type": "display_data"
    },
    {
     "name": "stdout",
     "output_type": "stream",
     "text": [
      "\n",
      "                    Epoch: 384 / 1000 \n",
      "                    | Train Loss: 0.20303170918487012 \n",
      "                    | Train Dice Accuracy: 0.9633970517290836 \n",
      "                    | Test Dice Accuracy: 0.9064715769555833\n",
      "                \n"
     ]
    },
    {
     "data": {
      "application/vnd.jupyter.widget-view+json": {
       "model_id": "32415deeaf344e94a964d202e1518824",
       "version_major": 2,
       "version_minor": 0
      },
      "text/plain": [
       "  0%|          | 0/16 [00:00<?, ?it/s]"
      ]
     },
     "metadata": {},
     "output_type": "display_data"
    },
    {
     "name": "stdout",
     "output_type": "stream",
     "text": [
      "\n",
      "                Epoch: 385 / 1000 \n",
      "                | Train Loss: 0.18030142271891236 \n",
      "                | Train Dice Accuracy: 0.9609567503686305 \n",
      "            \n"
     ]
    },
    {
     "data": {
      "application/vnd.jupyter.widget-view+json": {
       "model_id": "f601795986034ac293fb4b0488ab72a5",
       "version_major": 2,
       "version_minor": 0
      },
      "text/plain": [
       "  0%|          | 0/16 [00:00<?, ?it/s]"
      ]
     },
     "metadata": {},
     "output_type": "display_data"
    },
    {
     "name": "stdout",
     "output_type": "stream",
     "text": [
      "\n",
      "                    Epoch: 386 / 1000 \n",
      "                    | Train Loss: 0.16280215489678085 \n",
      "                    | Train Dice Accuracy: 0.9638064625588331 \n",
      "                    | Test Dice Accuracy: 0.9176550176408556\n",
      "                \n"
     ]
    },
    {
     "data": {
      "application/vnd.jupyter.widget-view+json": {
       "model_id": "436c6209b2fb47a5bfa95de7c0fd0324",
       "version_major": 2,
       "version_minor": 0
      },
      "text/plain": [
       "  0%|          | 0/16 [00:00<?, ?it/s]"
      ]
     },
     "metadata": {},
     "output_type": "display_data"
    },
    {
     "name": "stdout",
     "output_type": "stream",
     "text": [
      "\n",
      "                Epoch: 387 / 1000 \n",
      "                | Train Loss: 0.20966975460760295 \n",
      "                | Train Dice Accuracy: 0.9615754439280584 \n",
      "            \n"
     ]
    },
    {
     "data": {
      "application/vnd.jupyter.widget-view+json": {
       "model_id": "61309a9f15554db7bb461f0e9a98b893",
       "version_major": 2,
       "version_minor": 0
      },
      "text/plain": [
       "  0%|          | 0/16 [00:00<?, ?it/s]"
      ]
     },
     "metadata": {},
     "output_type": "display_data"
    },
    {
     "name": "stdout",
     "output_type": "stream",
     "text": [
      "\n",
      "                    Epoch: 388 / 1000 \n",
      "                    | Train Loss: 0.1880449978634715 \n",
      "                    | Train Dice Accuracy: 0.9639140361911255 \n",
      "                    | Test Dice Accuracy: 0.9351306822564867\n",
      "                \n"
     ]
    },
    {
     "data": {
      "application/vnd.jupyter.widget-view+json": {
       "model_id": "5fc8067d78d249589ea3ab16f9ea9d2f",
       "version_major": 2,
       "version_minor": 0
      },
      "text/plain": [
       "  0%|          | 0/16 [00:00<?, ?it/s]"
      ]
     },
     "metadata": {},
     "output_type": "display_data"
    },
    {
     "name": "stdout",
     "output_type": "stream",
     "text": [
      "\n",
      "                Epoch: 389 / 1000 \n",
      "                | Train Loss: 0.20271581877022982 \n",
      "                | Train Dice Accuracy: 0.9604430633698594 \n",
      "            \n"
     ]
    },
    {
     "data": {
      "application/vnd.jupyter.widget-view+json": {
       "model_id": "c364c40034004b42b042fba775b52d31",
       "version_major": 2,
       "version_minor": 0
      },
      "text/plain": [
       "  0%|          | 0/16 [00:00<?, ?it/s]"
      ]
     },
     "metadata": {},
     "output_type": "display_data"
    },
    {
     "name": "stdout",
     "output_type": "stream",
     "text": [
      "\n",
      "                    Epoch: 390 / 1000 \n",
      "                    | Train Loss: 0.1779328272677958 \n",
      "                    | Train Dice Accuracy: 0.9548658322079391 \n",
      "                    | Test Dice Accuracy: 0.918388307094574\n",
      "                \n"
     ]
    },
    {
     "data": {
      "application/vnd.jupyter.widget-view+json": {
       "model_id": "bd8dfaa6b15d43f899a8da80bb8479f5",
       "version_major": 2,
       "version_minor": 0
      },
      "text/plain": [
       "  0%|          | 0/16 [00:00<?, ?it/s]"
      ]
     },
     "metadata": {},
     "output_type": "display_data"
    },
    {
     "name": "stdout",
     "output_type": "stream",
     "text": [
      "\n",
      "                Epoch: 391 / 1000 \n",
      "                | Train Loss: 0.17890190123580396 \n",
      "                | Train Dice Accuracy: 0.9593116333407741 \n",
      "            \n"
     ]
    },
    {
     "data": {
      "application/vnd.jupyter.widget-view+json": {
       "model_id": "292b2abbf7564f2e8b1b4a282bf9784a",
       "version_major": 2,
       "version_minor": 0
      },
      "text/plain": [
       "  0%|          | 0/16 [00:00<?, ?it/s]"
      ]
     },
     "metadata": {},
     "output_type": "display_data"
    },
    {
     "name": "stdout",
     "output_type": "stream",
     "text": [
      "\n",
      "                    Epoch: 392 / 1000 \n",
      "                    | Train Loss: 0.16285730921663344 \n",
      "                    | Train Dice Accuracy: 0.9677298812017049 \n",
      "                    | Test Dice Accuracy: 0.8617028627130721\n",
      "                \n"
     ]
    },
    {
     "data": {
      "application/vnd.jupyter.widget-view+json": {
       "model_id": "221c09e1fdde42728e69e2f9100f9dc6",
       "version_major": 2,
       "version_minor": 0
      },
      "text/plain": [
       "  0%|          | 0/16 [00:00<?, ?it/s]"
      ]
     },
     "metadata": {},
     "output_type": "display_data"
    },
    {
     "name": "stdout",
     "output_type": "stream",
     "text": [
      "\n",
      "                Epoch: 393 / 1000 \n",
      "                | Train Loss: 0.17367271520197392 \n",
      "                | Train Dice Accuracy: 0.9642160713397963 \n",
      "            \n"
     ]
    },
    {
     "data": {
      "application/vnd.jupyter.widget-view+json": {
       "model_id": "7b9cd1c9eb874fd2be27b27c6486032b",
       "version_major": 2,
       "version_minor": 0
      },
      "text/plain": [
       "  0%|          | 0/16 [00:00<?, ?it/s]"
      ]
     },
     "metadata": {},
     "output_type": "display_data"
    },
    {
     "name": "stdout",
     "output_type": "stream",
     "text": [
      "\n",
      "                    Epoch: 394 / 1000 \n",
      "                    | Train Loss: 0.21651913970708847 \n",
      "                    | Train Dice Accuracy: 0.9555934391159943 \n",
      "                    | Test Dice Accuracy: 0.7820300095611148\n",
      "                \n"
     ]
    },
    {
     "data": {
      "application/vnd.jupyter.widget-view+json": {
       "model_id": "ae222d8e84d9489d949aa772b6e83aae",
       "version_major": 2,
       "version_minor": 0
      },
      "text/plain": [
       "  0%|          | 0/16 [00:00<?, ?it/s]"
      ]
     },
     "metadata": {},
     "output_type": "display_data"
    },
    {
     "name": "stdout",
     "output_type": "stream",
     "text": [
      "\n",
      "                Epoch: 395 / 1000 \n",
      "                | Train Loss: 0.17416244139894843 \n",
      "                | Train Dice Accuracy: 0.9604174904010263 \n",
      "            \n"
     ]
    },
    {
     "data": {
      "application/vnd.jupyter.widget-view+json": {
       "model_id": "b9eaa631b1834ee49ce35e0312454d90",
       "version_major": 2,
       "version_minor": 0
      },
      "text/plain": [
       "  0%|          | 0/16 [00:00<?, ?it/s]"
      ]
     },
     "metadata": {},
     "output_type": "display_data"
    },
    {
     "name": "stdout",
     "output_type": "stream",
     "text": [
      "saved new best spleen metric model\n",
      "\n",
      "                    Epoch: 396 / 1000 \n",
      "                    | Train Loss: 0.18351566325873137 \n",
      "                    | Train Dice Accuracy: 0.958828776522919 \n",
      "                    | Test Dice Accuracy: 0.9489245414733887\n",
      "                \n"
     ]
    },
    {
     "data": {
      "application/vnd.jupyter.widget-view+json": {
       "model_id": "7ef0423cd4f84e188da57c7927d9c072",
       "version_major": 2,
       "version_minor": 0
      },
      "text/plain": [
       "  0%|          | 0/16 [00:00<?, ?it/s]"
      ]
     },
     "metadata": {},
     "output_type": "display_data"
    },
    {
     "name": "stdout",
     "output_type": "stream",
     "text": [
      "\n",
      "                Epoch: 397 / 1000 \n",
      "                | Train Loss: 0.2030511419288814 \n",
      "                | Train Dice Accuracy: 0.9704533887024109 \n",
      "            \n"
     ]
    },
    {
     "data": {
      "application/vnd.jupyter.widget-view+json": {
       "model_id": "737c777a43604cfd84e6c96b99bde6f1",
       "version_major": 2,
       "version_minor": 0
      },
      "text/plain": [
       "  0%|          | 0/16 [00:00<?, ?it/s]"
      ]
     },
     "metadata": {},
     "output_type": "display_data"
    },
    {
     "name": "stdout",
     "output_type": "stream",
     "text": [
      "\n",
      "                    Epoch: 398 / 1000 \n",
      "                    | Train Loss: 0.16715838387608528 \n",
      "                    | Train Dice Accuracy: 0.9638613040588763 \n",
      "                    | Test Dice Accuracy: 0.9476611945364211\n",
      "                \n"
     ]
    },
    {
     "data": {
      "application/vnd.jupyter.widget-view+json": {
       "model_id": "df53701cfc20482886c8b0f52547c0c5",
       "version_major": 2,
       "version_minor": 0
      },
      "text/plain": [
       "  0%|          | 0/16 [00:00<?, ?it/s]"
      ]
     },
     "metadata": {},
     "output_type": "display_data"
    },
    {
     "name": "stdout",
     "output_type": "stream",
     "text": [
      "\n",
      "                Epoch: 399 / 1000 \n",
      "                | Train Loss: 0.17854267125949264 \n",
      "                | Train Dice Accuracy: 0.960089960583934 \n",
      "            \n"
     ]
    },
    {
     "data": {
      "application/vnd.jupyter.widget-view+json": {
       "model_id": "4d83b4ac2b0a40709bea1cfaa35628fe",
       "version_major": 2,
       "version_minor": 0
      },
      "text/plain": [
       "  0%|          | 0/16 [00:00<?, ?it/s]"
      ]
     },
     "metadata": {},
     "output_type": "display_data"
    },
    {
     "name": "stdout",
     "output_type": "stream",
     "text": [
      "\n",
      "                    Epoch: 400 / 1000 \n",
      "                    | Train Loss: 0.1820403274614364 \n",
      "                    | Train Dice Accuracy: 0.9645258486270905 \n",
      "                    | Test Dice Accuracy: 0.834555639161004\n",
      "                \n"
     ]
    },
    {
     "data": {
      "application/vnd.jupyter.widget-view+json": {
       "model_id": "5862c6aa8f204a88a4ea5b0d6d0ae290",
       "version_major": 2,
       "version_minor": 0
      },
      "text/plain": [
       "  0%|          | 0/16 [00:00<?, ?it/s]"
      ]
     },
     "metadata": {},
     "output_type": "display_data"
    },
    {
     "name": "stdout",
     "output_type": "stream",
     "text": [
      "\n",
      "                Epoch: 401 / 1000 \n",
      "                | Train Loss: 0.16361400485038757 \n",
      "                | Train Dice Accuracy: 0.9563084643890415 \n",
      "            \n"
     ]
    },
    {
     "data": {
      "application/vnd.jupyter.widget-view+json": {
       "model_id": "a6a4bc4d357649d2ae019a95fd6e388b",
       "version_major": 2,
       "version_minor": 0
      },
      "text/plain": [
       "  0%|          | 0/16 [00:00<?, ?it/s]"
      ]
     },
     "metadata": {},
     "output_type": "display_data"
    },
    {
     "name": "stdout",
     "output_type": "stream",
     "text": [
      "\n",
      "                    Epoch: 402 / 1000 \n",
      "                    | Train Loss: 0.17742592375725508 \n",
      "                    | Train Dice Accuracy: 0.9574852484162502 \n",
      "                    | Test Dice Accuracy: 0.9428024623129103\n",
      "                \n"
     ]
    },
    {
     "data": {
      "application/vnd.jupyter.widget-view+json": {
       "model_id": "8656885b5d13470ba8d069ef374469ae",
       "version_major": 2,
       "version_minor": 0
      },
      "text/plain": [
       "  0%|          | 0/16 [00:00<?, ?it/s]"
      ]
     },
     "metadata": {},
     "output_type": "display_data"
    },
    {
     "name": "stdout",
     "output_type": "stream",
     "text": [
      "\n",
      "                Epoch: 403 / 1000 \n",
      "                | Train Loss: 0.16755412868224084 \n",
      "                | Train Dice Accuracy: 0.9601318800830405 \n",
      "            \n"
     ]
    },
    {
     "data": {
      "application/vnd.jupyter.widget-view+json": {
       "model_id": "f37444d31b8842628982b6803bcac5e2",
       "version_major": 2,
       "version_minor": 0
      },
      "text/plain": [
       "  0%|          | 0/16 [00:00<?, ?it/s]"
      ]
     },
     "metadata": {},
     "output_type": "display_data"
    },
    {
     "name": "stdout",
     "output_type": "stream",
     "text": [
      "\n",
      "                    Epoch: 404 / 1000 \n",
      "                    | Train Loss: 0.17798159271478653 \n",
      "                    | Train Dice Accuracy: 0.9664286189301069 \n",
      "                    | Test Dice Accuracy: 0.9378221697277493\n",
      "                \n"
     ]
    },
    {
     "data": {
      "application/vnd.jupyter.widget-view+json": {
       "model_id": "0723b621dee845cb9875c1600317ff54",
       "version_major": 2,
       "version_minor": 0
      },
      "text/plain": [
       "  0%|          | 0/16 [00:00<?, ?it/s]"
      ]
     },
     "metadata": {},
     "output_type": "display_data"
    },
    {
     "name": "stdout",
     "output_type": "stream",
     "text": [
      "\n",
      "                Epoch: 405 / 1000 \n",
      "                | Train Loss: 0.20767795061692595 \n",
      "                | Train Dice Accuracy: 0.9587796110855905 \n",
      "            \n"
     ]
    },
    {
     "data": {
      "application/vnd.jupyter.widget-view+json": {
       "model_id": "a5290ebc236b4097a953da1574936861",
       "version_major": 2,
       "version_minor": 0
      },
      "text/plain": [
       "  0%|          | 0/16 [00:00<?, ?it/s]"
      ]
     },
     "metadata": {},
     "output_type": "display_data"
    },
    {
     "name": "stdout",
     "output_type": "stream",
     "text": [
      "saved new best spleen metric model\n",
      "\n",
      "                    Epoch: 406 / 1000 \n",
      "                    | Train Loss: 0.16200610203668475 \n",
      "                    | Train Dice Accuracy: 0.964121670072729 \n",
      "                    | Test Dice Accuracy: 0.9504017432530721\n",
      "                \n"
     ]
    },
    {
     "data": {
      "application/vnd.jupyter.widget-view+json": {
       "model_id": "116ae631278f448c989f6ca6ed738ffd",
       "version_major": 2,
       "version_minor": 0
      },
      "text/plain": [
       "  0%|          | 0/16 [00:00<?, ?it/s]"
      ]
     },
     "metadata": {},
     "output_type": "display_data"
    },
    {
     "name": "stdout",
     "output_type": "stream",
     "text": [
      "\n",
      "                Epoch: 407 / 1000 \n",
      "                | Train Loss: 0.19331844802945852 \n",
      "                | Train Dice Accuracy: 0.9593664693160796 \n",
      "            \n"
     ]
    },
    {
     "data": {
      "application/vnd.jupyter.widget-view+json": {
       "model_id": "3e3c5b56d0c54063a56d33d432d61e60",
       "version_major": 2,
       "version_minor": 0
      },
      "text/plain": [
       "  0%|          | 0/16 [00:00<?, ?it/s]"
      ]
     },
     "metadata": {},
     "output_type": "display_data"
    },
    {
     "name": "stdout",
     "output_type": "stream",
     "text": [
      "\n",
      "                    Epoch: 408 / 1000 \n",
      "                    | Train Loss: 0.17703412240371108 \n",
      "                    | Train Dice Accuracy: 0.959663507575813 \n",
      "                    | Test Dice Accuracy: 0.9474969704945883\n",
      "                \n"
     ]
    },
    {
     "data": {
      "application/vnd.jupyter.widget-view+json": {
       "model_id": "568e69d51b5d4c118155ada8d08626ce",
       "version_major": 2,
       "version_minor": 0
      },
      "text/plain": [
       "  0%|          | 0/16 [00:00<?, ?it/s]"
      ]
     },
     "metadata": {},
     "output_type": "display_data"
    },
    {
     "name": "stdout",
     "output_type": "stream",
     "text": [
      "\n",
      "                Epoch: 409 / 1000 \n",
      "                | Train Loss: 0.15717928833328187 \n",
      "                | Train Dice Accuracy: 0.9574818847415684 \n",
      "            \n"
     ]
    },
    {
     "data": {
      "application/vnd.jupyter.widget-view+json": {
       "model_id": "cce96b830f1d48429a081ef23385455d",
       "version_major": 2,
       "version_minor": 0
      },
      "text/plain": [
       "  0%|          | 0/16 [00:00<?, ?it/s]"
      ]
     },
     "metadata": {},
     "output_type": "display_data"
    },
    {
     "name": "stdout",
     "output_type": "stream",
     "text": [
      "\n",
      "                    Epoch: 410 / 1000 \n",
      "                    | Train Loss: 0.17569804238155484 \n",
      "                    | Train Dice Accuracy: 0.9638027203855691 \n",
      "                    | Test Dice Accuracy: 0.9499895440207587\n",
      "                \n"
     ]
    },
    {
     "data": {
      "application/vnd.jupyter.widget-view+json": {
       "model_id": "97dffa25e56d4a23adcc205fb215d9ec",
       "version_major": 2,
       "version_minor": 0
      },
      "text/plain": [
       "  0%|          | 0/16 [00:00<?, ?it/s]"
      ]
     },
     "metadata": {},
     "output_type": "display_data"
    },
    {
     "name": "stdout",
     "output_type": "stream",
     "text": [
      "\n",
      "                Epoch: 411 / 1000 \n",
      "                | Train Loss: 0.18320816569030285 \n",
      "                | Train Dice Accuracy: 0.9499469659197222 \n",
      "            \n"
     ]
    },
    {
     "data": {
      "application/vnd.jupyter.widget-view+json": {
       "model_id": "7f056e84f75e40c195a4eed87c3293a1",
       "version_major": 2,
       "version_minor": 0
      },
      "text/plain": [
       "  0%|          | 0/16 [00:00<?, ?it/s]"
      ]
     },
     "metadata": {},
     "output_type": "display_data"
    },
    {
     "name": "stdout",
     "output_type": "stream",
     "text": [
      "\n",
      "                    Epoch: 412 / 1000 \n",
      "                    | Train Loss: 0.1550615772139281 \n",
      "                    | Train Dice Accuracy: 0.9601447178643915 \n",
      "                    | Test Dice Accuracy: 0.9158919917212592\n",
      "                \n"
     ]
    },
    {
     "data": {
      "application/vnd.jupyter.widget-view+json": {
       "model_id": "ff6951ad462c48c59ea40690d51cefaa",
       "version_major": 2,
       "version_minor": 0
      },
      "text/plain": [
       "  0%|          | 0/16 [00:00<?, ?it/s]"
      ]
     },
     "metadata": {},
     "output_type": "display_data"
    },
    {
     "name": "stdout",
     "output_type": "stream",
     "text": [
      "\n",
      "                Epoch: 413 / 1000 \n",
      "                | Train Loss: 0.18835828686133027 \n",
      "                | Train Dice Accuracy: 0.9579708235208378 \n",
      "            \n"
     ]
    },
    {
     "data": {
      "application/vnd.jupyter.widget-view+json": {
       "model_id": "e2687dee541c43ec8e8edd91b6c840ce",
       "version_major": 2,
       "version_minor": 0
      },
      "text/plain": [
       "  0%|          | 0/16 [00:00<?, ?it/s]"
      ]
     },
     "metadata": {},
     "output_type": "display_data"
    },
    {
     "name": "stdout",
     "output_type": "stream",
     "text": [
      "\n",
      "                    Epoch: 414 / 1000 \n",
      "                    | Train Loss: 0.18238834151998162 \n",
      "                    | Train Dice Accuracy: 0.9539855934611154 \n",
      "                    | Test Dice Accuracy: 0.7830493185255263\n",
      "                \n"
     ]
    },
    {
     "data": {
      "application/vnd.jupyter.widget-view+json": {
       "model_id": "a3f557dfbb504c5fa3559d252bb0c9fc",
       "version_major": 2,
       "version_minor": 0
      },
      "text/plain": [
       "  0%|          | 0/16 [00:00<?, ?it/s]"
      ]
     },
     "metadata": {},
     "output_type": "display_data"
    },
    {
     "name": "stdout",
     "output_type": "stream",
     "text": [
      "\n",
      "                Epoch: 415 / 1000 \n",
      "                | Train Loss: 0.18932325346395373 \n",
      "                | Train Dice Accuracy: 0.9490115032703789 \n",
      "            \n"
     ]
    },
    {
     "data": {
      "application/vnd.jupyter.widget-view+json": {
       "model_id": "208ea40b9aa34888a40a00e1ddd78a56",
       "version_major": 2,
       "version_minor": 0
      },
      "text/plain": [
       "  0%|          | 0/16 [00:00<?, ?it/s]"
      ]
     },
     "metadata": {},
     "output_type": "display_data"
    },
    {
     "name": "stdout",
     "output_type": "stream",
     "text": [
      "\n",
      "                    Epoch: 416 / 1000 \n",
      "                    | Train Loss: 0.2033852725289762 \n",
      "                    | Train Dice Accuracy: 0.9594399058988309 \n",
      "                    | Test Dice Accuracy: 0.8788870241906908\n",
      "                \n"
     ]
    },
    {
     "data": {
      "application/vnd.jupyter.widget-view+json": {
       "model_id": "964ee47ddad5421f983a0a1f8215b2c6",
       "version_major": 2,
       "version_minor": 0
      },
      "text/plain": [
       "  0%|          | 0/16 [00:00<?, ?it/s]"
      ]
     },
     "metadata": {},
     "output_type": "display_data"
    },
    {
     "name": "stdout",
     "output_type": "stream",
     "text": [
      "\n",
      "                Epoch: 417 / 1000 \n",
      "                | Train Loss: 0.16215186286717653 \n",
      "                | Train Dice Accuracy: 0.957484100199393 \n",
      "            \n"
     ]
    },
    {
     "data": {
      "application/vnd.jupyter.widget-view+json": {
       "model_id": "d64fdfedaef44458affcede49dd969e8",
       "version_major": 2,
       "version_minor": 0
      },
      "text/plain": [
       "  0%|          | 0/16 [00:00<?, ?it/s]"
      ]
     },
     "metadata": {},
     "output_type": "display_data"
    },
    {
     "name": "stdout",
     "output_type": "stream",
     "text": [
      "\n",
      "                    Epoch: 418 / 1000 \n",
      "                    | Train Loss: 0.20436975988559425 \n",
      "                    | Train Dice Accuracy: 0.960675142883684 \n",
      "                    | Test Dice Accuracy: 0.9280959897571139\n",
      "                \n"
     ]
    },
    {
     "data": {
      "application/vnd.jupyter.widget-view+json": {
       "model_id": "7be0780722ab4783bd5629907503b1e7",
       "version_major": 2,
       "version_minor": 0
      },
      "text/plain": [
       "  0%|          | 0/16 [00:00<?, ?it/s]"
      ]
     },
     "metadata": {},
     "output_type": "display_data"
    },
    {
     "name": "stdout",
     "output_type": "stream",
     "text": [
      "\n",
      "                Epoch: 419 / 1000 \n",
      "                | Train Loss: 0.17084069829434156 \n",
      "                | Train Dice Accuracy: 0.962083388085759 \n",
      "            \n"
     ]
    },
    {
     "data": {
      "application/vnd.jupyter.widget-view+json": {
       "model_id": "9a17bb975cfc436d8772ae94592e440a",
       "version_major": 2,
       "version_minor": 0
      },
      "text/plain": [
       "  0%|          | 0/16 [00:00<?, ?it/s]"
      ]
     },
     "metadata": {},
     "output_type": "display_data"
    },
    {
     "name": "stdout",
     "output_type": "stream",
     "text": [
      "\n",
      "                    Epoch: 420 / 1000 \n",
      "                    | Train Loss: 0.18065235437825322 \n",
      "                    | Train Dice Accuracy: 0.960605942816646 \n",
      "                    | Test Dice Accuracy: 0.9402692980236478\n",
      "                \n"
     ]
    },
    {
     "data": {
      "application/vnd.jupyter.widget-view+json": {
       "model_id": "26aef9f54b5c458abd6da54d34179832",
       "version_major": 2,
       "version_minor": 0
      },
      "text/plain": [
       "  0%|          | 0/16 [00:00<?, ?it/s]"
      ]
     },
     "metadata": {},
     "output_type": "display_data"
    },
    {
     "name": "stdout",
     "output_type": "stream",
     "text": [
      "\n",
      "                Epoch: 421 / 1000 \n",
      "                | Train Loss: 0.13387869438156486 \n",
      "                | Train Dice Accuracy: 0.966314529532378 \n",
      "            \n"
     ]
    },
    {
     "data": {
      "application/vnd.jupyter.widget-view+json": {
       "model_id": "98a956c53b394c80a640fd7db8968390",
       "version_major": 2,
       "version_minor": 0
      },
      "text/plain": [
       "  0%|          | 0/16 [00:00<?, ?it/s]"
      ]
     },
     "metadata": {},
     "output_type": "display_data"
    },
    {
     "name": "stdout",
     "output_type": "stream",
     "text": [
      "\n",
      "                    Epoch: 422 / 1000 \n",
      "                    | Train Loss: 0.17775924340821803 \n",
      "                    | Train Dice Accuracy: 0.9590388569414341 \n",
      "                    | Test Dice Accuracy: 0.9358668658468459\n",
      "                \n"
     ]
    },
    {
     "data": {
      "application/vnd.jupyter.widget-view+json": {
       "model_id": "6a928fe2a18a4dc1b3776ad01f1b44a8",
       "version_major": 2,
       "version_minor": 0
      },
      "text/plain": [
       "  0%|          | 0/16 [00:00<?, ?it/s]"
      ]
     },
     "metadata": {},
     "output_type": "display_data"
    },
    {
     "name": "stdout",
     "output_type": "stream",
     "text": [
      "\n",
      "                Epoch: 423 / 1000 \n",
      "                | Train Loss: 0.2095692865550518 \n",
      "                | Train Dice Accuracy: 0.9676830316511329 \n",
      "            \n"
     ]
    },
    {
     "data": {
      "application/vnd.jupyter.widget-view+json": {
       "model_id": "6dee6c74bc33440290e93c160107be85",
       "version_major": 2,
       "version_minor": 0
      },
      "text/plain": [
       "  0%|          | 0/16 [00:00<?, ?it/s]"
      ]
     },
     "metadata": {},
     "output_type": "display_data"
    },
    {
     "name": "stdout",
     "output_type": "stream",
     "text": [
      "\n",
      "                    Epoch: 424 / 1000 \n",
      "                    | Train Loss: 0.16487148497253656 \n",
      "                    | Train Dice Accuracy: 0.9643942983183142 \n",
      "                    | Test Dice Accuracy: 0.9484640823470222\n",
      "                \n"
     ]
    },
    {
     "data": {
      "application/vnd.jupyter.widget-view+json": {
       "model_id": "7edb4bd58ee54603832a629505b089a1",
       "version_major": 2,
       "version_minor": 0
      },
      "text/plain": [
       "  0%|          | 0/16 [00:00<?, ?it/s]"
      ]
     },
     "metadata": {},
     "output_type": "display_data"
    },
    {
     "name": "stdout",
     "output_type": "stream",
     "text": [
      "\n",
      "                Epoch: 425 / 1000 \n",
      "                | Train Loss: 0.19025384215638041 \n",
      "                | Train Dice Accuracy: 0.9723575663227606 \n",
      "            \n"
     ]
    },
    {
     "data": {
      "application/vnd.jupyter.widget-view+json": {
       "model_id": "c368c0f736a34357a46f6b073cdd2ed6",
       "version_major": 2,
       "version_minor": 0
      },
      "text/plain": [
       "  0%|          | 0/16 [00:00<?, ?it/s]"
      ]
     },
     "metadata": {},
     "output_type": "display_data"
    },
    {
     "name": "stdout",
     "output_type": "stream",
     "text": [
      "\n",
      "                    Epoch: 426 / 1000 \n",
      "                    | Train Loss: 0.17694339132867754 \n",
      "                    | Train Dice Accuracy: 0.9487703442573547 \n",
      "                    | Test Dice Accuracy: 0.9059666925006442\n",
      "                \n"
     ]
    },
    {
     "data": {
      "application/vnd.jupyter.widget-view+json": {
       "model_id": "9c660ee7ffe644b8938d71ce5be13f27",
       "version_major": 2,
       "version_minor": 0
      },
      "text/plain": [
       "  0%|          | 0/16 [00:00<?, ?it/s]"
      ]
     },
     "metadata": {},
     "output_type": "display_data"
    },
    {
     "name": "stdout",
     "output_type": "stream",
     "text": [
      "\n",
      "                Epoch: 427 / 1000 \n",
      "                | Train Loss: 0.19419480836950243 \n",
      "                | Train Dice Accuracy: 0.9540681220556089 \n",
      "            \n"
     ]
    },
    {
     "data": {
      "application/vnd.jupyter.widget-view+json": {
       "model_id": "631df8906d424a3c8882a7fc773f9088",
       "version_major": 2,
       "version_minor": 0
      },
      "text/plain": [
       "  0%|          | 0/16 [00:00<?, ?it/s]"
      ]
     },
     "metadata": {},
     "output_type": "display_data"
    },
    {
     "name": "stdout",
     "output_type": "stream",
     "text": [
      "\n",
      "                    Epoch: 428 / 1000 \n",
      "                    | Train Loss: 0.2233579521998763 \n",
      "                    | Train Dice Accuracy: 0.9524875222479255 \n",
      "                    | Test Dice Accuracy: 0.9183442857530382\n",
      "                \n"
     ]
    },
    {
     "data": {
      "application/vnd.jupyter.widget-view+json": {
       "model_id": "75b7b11069d94deea6e712ed147bf29f",
       "version_major": 2,
       "version_minor": 0
      },
      "text/plain": [
       "  0%|          | 0/16 [00:00<?, ?it/s]"
      ]
     },
     "metadata": {},
     "output_type": "display_data"
    },
    {
     "name": "stdout",
     "output_type": "stream",
     "text": [
      "\n",
      "                Epoch: 429 / 1000 \n",
      "                | Train Loss: 0.17715539643540978 \n",
      "                | Train Dice Accuracy: 0.9591062593569953 \n",
      "            \n"
     ]
    },
    {
     "data": {
      "application/vnd.jupyter.widget-view+json": {
       "model_id": "bbd171cc27e548098a9ed75196c719d8",
       "version_major": 2,
       "version_minor": 0
      },
      "text/plain": [
       "  0%|          | 0/16 [00:00<?, ?it/s]"
      ]
     },
     "metadata": {},
     "output_type": "display_data"
    },
    {
     "name": "stdout",
     "output_type": "stream",
     "text": [
      "\n",
      "                    Epoch: 430 / 1000 \n",
      "                    | Train Loss: 0.2018256620503962 \n",
      "                    | Train Dice Accuracy: 0.943491178973813 \n",
      "                    | Test Dice Accuracy: 0.9392770131429037\n",
      "                \n"
     ]
    },
    {
     "data": {
      "application/vnd.jupyter.widget-view+json": {
       "model_id": "35493bd0389243bf8419e42cf3c21be3",
       "version_major": 2,
       "version_minor": 0
      },
      "text/plain": [
       "  0%|          | 0/16 [00:00<?, ?it/s]"
      ]
     },
     "metadata": {},
     "output_type": "display_data"
    },
    {
     "name": "stdout",
     "output_type": "stream",
     "text": [
      "\n",
      "                Epoch: 431 / 1000 \n",
      "                | Train Loss: 0.19248431269079447 \n",
      "                | Train Dice Accuracy: 0.9632405551537028 \n",
      "            \n"
     ]
    },
    {
     "data": {
      "application/vnd.jupyter.widget-view+json": {
       "model_id": "37829855cb8348438832421350029381",
       "version_major": 2,
       "version_minor": 0
      },
      "text/plain": [
       "  0%|          | 0/16 [00:00<?, ?it/s]"
      ]
     },
     "metadata": {},
     "output_type": "display_data"
    },
    {
     "name": "stdout",
     "output_type": "stream",
     "text": [
      "\n",
      "                    Epoch: 432 / 1000 \n",
      "                    | Train Loss: 0.15719783306121826 \n",
      "                    | Train Dice Accuracy: 0.9605365551269807 \n",
      "                    | Test Dice Accuracy: 0.937067813343472\n",
      "                \n"
     ]
    },
    {
     "data": {
      "application/vnd.jupyter.widget-view+json": {
       "model_id": "6dee68b1454b4a5fb0ea203eb25caebb",
       "version_major": 2,
       "version_minor": 0
      },
      "text/plain": [
       "  0%|          | 0/16 [00:00<?, ?it/s]"
      ]
     },
     "metadata": {},
     "output_type": "display_data"
    },
    {
     "name": "stdout",
     "output_type": "stream",
     "text": [
      "\n",
      "                Epoch: 433 / 1000 \n",
      "                | Train Loss: 0.18342461390420794 \n",
      "                | Train Dice Accuracy: 0.9572418665996304 \n",
      "            \n"
     ]
    },
    {
     "data": {
      "application/vnd.jupyter.widget-view+json": {
       "model_id": "aedee558512e4be5af51b9e261f9eecb",
       "version_major": 2,
       "version_minor": 0
      },
      "text/plain": [
       "  0%|          | 0/16 [00:00<?, ?it/s]"
      ]
     },
     "metadata": {},
     "output_type": "display_data"
    },
    {
     "name": "stdout",
     "output_type": "stream",
     "text": [
      "\n",
      "                    Epoch: 434 / 1000 \n",
      "                    | Train Loss: 0.17856908403337002 \n",
      "                    | Train Dice Accuracy: 0.9706114136895468 \n",
      "                    | Test Dice Accuracy: 0.9308127297295464\n",
      "                \n"
     ]
    },
    {
     "data": {
      "application/vnd.jupyter.widget-view+json": {
       "model_id": "51ddc9b1d698451792e8714f5f8d9360",
       "version_major": 2,
       "version_minor": 0
      },
      "text/plain": [
       "  0%|          | 0/16 [00:00<?, ?it/s]"
      ]
     },
     "metadata": {},
     "output_type": "display_data"
    },
    {
     "name": "stdout",
     "output_type": "stream",
     "text": [
      "\n",
      "                Epoch: 435 / 1000 \n",
      "                | Train Loss: 0.20490128663368523 \n",
      "                | Train Dice Accuracy: 0.9597923225192933 \n",
      "            \n"
     ]
    },
    {
     "data": {
      "application/vnd.jupyter.widget-view+json": {
       "model_id": "338afaeaf0064ad2a0411b4bae59bbe9",
       "version_major": 2,
       "version_minor": 0
      },
      "text/plain": [
       "  0%|          | 0/16 [00:00<?, ?it/s]"
      ]
     },
     "metadata": {},
     "output_type": "display_data"
    },
    {
     "name": "stdout",
     "output_type": "stream",
     "text": [
      "\n",
      "                    Epoch: 436 / 1000 \n",
      "                    | Train Loss: 0.18648658809252083 \n",
      "                    | Train Dice Accuracy: 0.959190056702801 \n",
      "                    | Test Dice Accuracy: 0.9320213794708252\n",
      "                \n"
     ]
    },
    {
     "data": {
      "application/vnd.jupyter.widget-view+json": {
       "model_id": "16a0e114f7f842179c09584240760c40",
       "version_major": 2,
       "version_minor": 0
      },
      "text/plain": [
       "  0%|          | 0/16 [00:00<?, ?it/s]"
      ]
     },
     "metadata": {},
     "output_type": "display_data"
    },
    {
     "name": "stdout",
     "output_type": "stream",
     "text": [
      "\n",
      "                Epoch: 437 / 1000 \n",
      "                | Train Loss: 0.21354235336184502 \n",
      "                | Train Dice Accuracy: 0.9541906857719789 \n",
      "            \n"
     ]
    },
    {
     "data": {
      "application/vnd.jupyter.widget-view+json": {
       "model_id": "de9a1a9920c848d1a57f9889d809fe31",
       "version_major": 2,
       "version_minor": 0
      },
      "text/plain": [
       "  0%|          | 0/16 [00:00<?, ?it/s]"
      ]
     },
     "metadata": {},
     "output_type": "display_data"
    },
    {
     "name": "stdout",
     "output_type": "stream",
     "text": [
      "\n",
      "                    Epoch: 438 / 1000 \n",
      "                    | Train Loss: 0.17588634113781154 \n",
      "                    | Train Dice Accuracy: 0.9624048009995492 \n",
      "                    | Test Dice Accuracy: 0.9245449370808072\n",
      "                \n"
     ]
    },
    {
     "data": {
      "application/vnd.jupyter.widget-view+json": {
       "model_id": "82e782e6347a4d43a91344348310c31e",
       "version_major": 2,
       "version_minor": 0
      },
      "text/plain": [
       "  0%|          | 0/16 [00:00<?, ?it/s]"
      ]
     },
     "metadata": {},
     "output_type": "display_data"
    },
    {
     "name": "stdout",
     "output_type": "stream",
     "text": [
      "\n",
      "                Epoch: 439 / 1000 \n",
      "                | Train Loss: 0.1894696094095707 \n",
      "                | Train Dice Accuracy: 0.9678982642461669 \n",
      "            \n"
     ]
    },
    {
     "data": {
      "application/vnd.jupyter.widget-view+json": {
       "model_id": "6f853e3a36c144c68deb6b5b7dbffbb6",
       "version_major": 2,
       "version_minor": 0
      },
      "text/plain": [
       "  0%|          | 0/16 [00:00<?, ?it/s]"
      ]
     },
     "metadata": {},
     "output_type": "display_data"
    },
    {
     "name": "stdout",
     "output_type": "stream",
     "text": [
      "\n",
      "                    Epoch: 440 / 1000 \n",
      "                    | Train Loss: 0.15119948354549706 \n",
      "                    | Train Dice Accuracy: 0.9587091477462529 \n",
      "                    | Test Dice Accuracy: 0.9335500796635946\n",
      "                \n"
     ]
    },
    {
     "data": {
      "application/vnd.jupyter.widget-view+json": {
       "model_id": "116390e8cd274f32ac007f28cfeb7473",
       "version_major": 2,
       "version_minor": 0
      },
      "text/plain": [
       "  0%|          | 0/16 [00:00<?, ?it/s]"
      ]
     },
     "metadata": {},
     "output_type": "display_data"
    },
    {
     "name": "stdout",
     "output_type": "stream",
     "text": [
      "\n",
      "                Epoch: 441 / 1000 \n",
      "                | Train Loss: 0.17774125072173774 \n",
      "                | Train Dice Accuracy: 0.9606495706571473 \n",
      "            \n"
     ]
    },
    {
     "data": {
      "application/vnd.jupyter.widget-view+json": {
       "model_id": "a9ab3bde24df494daf34cf3ce9a62a0d",
       "version_major": 2,
       "version_minor": 0
      },
      "text/plain": [
       "  0%|          | 0/16 [00:00<?, ?it/s]"
      ]
     },
     "metadata": {},
     "output_type": "display_data"
    },
    {
     "name": "stdout",
     "output_type": "stream",
     "text": [
      "\n",
      "                    Epoch: 442 / 1000 \n",
      "                    | Train Loss: 0.17920902743935585 \n",
      "                    | Train Dice Accuracy: 0.9561406832686218 \n",
      "                    | Test Dice Accuracy: 0.9358928600947062\n",
      "                \n"
     ]
    },
    {
     "data": {
      "application/vnd.jupyter.widget-view+json": {
       "model_id": "9641d87aa6c74240bdc6ede79d84e310",
       "version_major": 2,
       "version_minor": 0
      },
      "text/plain": [
       "  0%|          | 0/16 [00:00<?, ?it/s]"
      ]
     },
     "metadata": {},
     "output_type": "display_data"
    },
    {
     "name": "stdout",
     "output_type": "stream",
     "text": [
      "\n",
      "                Epoch: 443 / 1000 \n",
      "                | Train Loss: 0.15996503178030252 \n",
      "                | Train Dice Accuracy: 0.9605046032785295 \n",
      "            \n"
     ]
    },
    {
     "data": {
      "application/vnd.jupyter.widget-view+json": {
       "model_id": "c2b4fccc4d244e218d7e6f7b70e34217",
       "version_major": 2,
       "version_minor": 0
      },
      "text/plain": [
       "  0%|          | 0/16 [00:00<?, ?it/s]"
      ]
     },
     "metadata": {},
     "output_type": "display_data"
    },
    {
     "name": "stdout",
     "output_type": "stream",
     "text": [
      "\n",
      "                    Epoch: 444 / 1000 \n",
      "                    | Train Loss: 0.18048162013292313 \n",
      "                    | Train Dice Accuracy: 0.9588629509996159 \n",
      "                    | Test Dice Accuracy: 0.8503313461939493\n",
      "                \n"
     ]
    },
    {
     "data": {
      "application/vnd.jupyter.widget-view+json": {
       "model_id": "c464246bdd3849c8aaff7a38e2945aed",
       "version_major": 2,
       "version_minor": 0
      },
      "text/plain": [
       "  0%|          | 0/16 [00:00<?, ?it/s]"
      ]
     },
     "metadata": {},
     "output_type": "display_data"
    },
    {
     "name": "stdout",
     "output_type": "stream",
     "text": [
      "\n",
      "                Epoch: 445 / 1000 \n",
      "                | Train Loss: 0.18654155475087464 \n",
      "                | Train Dice Accuracy: 0.9496844339480598 \n",
      "            \n"
     ]
    },
    {
     "data": {
      "application/vnd.jupyter.widget-view+json": {
       "model_id": "3fdecd2532d24b02bc23115970127666",
       "version_major": 2,
       "version_minor": 0
      },
      "text/plain": [
       "  0%|          | 0/16 [00:00<?, ?it/s]"
      ]
     },
     "metadata": {},
     "output_type": "display_data"
    },
    {
     "name": "stdout",
     "output_type": "stream",
     "text": [
      "\n",
      "                    Epoch: 446 / 1000 \n",
      "                    | Train Loss: 0.1479010465554893 \n",
      "                    | Train Dice Accuracy: 0.9584261367895773 \n",
      "                    | Test Dice Accuracy: 0.8480444020695157\n",
      "                \n"
     ]
    },
    {
     "data": {
      "application/vnd.jupyter.widget-view+json": {
       "model_id": "7a8ad718729545e8a9cb6a912214d83e",
       "version_major": 2,
       "version_minor": 0
      },
      "text/plain": [
       "  0%|          | 0/16 [00:00<?, ?it/s]"
      ]
     },
     "metadata": {},
     "output_type": "display_data"
    },
    {
     "name": "stdout",
     "output_type": "stream",
     "text": [
      "\n",
      "                Epoch: 447 / 1000 \n",
      "                | Train Loss: 0.16611333121545613 \n",
      "                | Train Dice Accuracy: 0.9569976887919686 \n",
      "            \n"
     ]
    },
    {
     "data": {
      "application/vnd.jupyter.widget-view+json": {
       "model_id": "7fbac7984dd24514975112643ce2dae7",
       "version_major": 2,
       "version_minor": 0
      },
      "text/plain": [
       "  0%|          | 0/16 [00:00<?, ?it/s]"
      ]
     },
     "metadata": {},
     "output_type": "display_data"
    },
    {
     "name": "stdout",
     "output_type": "stream",
     "text": [
      "\n",
      "                    Epoch: 448 / 1000 \n",
      "                    | Train Loss: 0.1811857856810093 \n",
      "                    | Train Dice Accuracy: 0.9611693653642857 \n",
      "                    | Test Dice Accuracy: 0.9150677720705668\n",
      "                \n"
     ]
    },
    {
     "data": {
      "application/vnd.jupyter.widget-view+json": {
       "model_id": "0d61a7637eb54324b62e576128ae7a67",
       "version_major": 2,
       "version_minor": 0
      },
      "text/plain": [
       "  0%|          | 0/16 [00:00<?, ?it/s]"
      ]
     },
     "metadata": {},
     "output_type": "display_data"
    },
    {
     "name": "stdout",
     "output_type": "stream",
     "text": [
      "\n",
      "                Epoch: 449 / 1000 \n",
      "                | Train Loss: 0.22370455786585808 \n",
      "                | Train Dice Accuracy: 0.963367917188784 \n",
      "            \n"
     ]
    },
    {
     "data": {
      "application/vnd.jupyter.widget-view+json": {
       "model_id": "b133d637b9e54d8bb740304bdb219548",
       "version_major": 2,
       "version_minor": 0
      },
      "text/plain": [
       "  0%|          | 0/16 [00:00<?, ?it/s]"
      ]
     },
     "metadata": {},
     "output_type": "display_data"
    },
    {
     "name": "stdout",
     "output_type": "stream",
     "text": [
      "\n",
      "                    Epoch: 450 / 1000 \n",
      "                    | Train Loss: 0.1975824311375618 \n",
      "                    | Train Dice Accuracy: 0.970054141396568 \n",
      "                    | Test Dice Accuracy: 0.9399604267544217\n",
      "                \n"
     ]
    },
    {
     "data": {
      "application/vnd.jupyter.widget-view+json": {
       "model_id": "89ab5f3174bb48dab65cda1e2abdc43a",
       "version_major": 2,
       "version_minor": 0
      },
      "text/plain": [
       "  0%|          | 0/16 [00:00<?, ?it/s]"
      ]
     },
     "metadata": {},
     "output_type": "display_data"
    },
    {
     "name": "stdout",
     "output_type": "stream",
     "text": [
      "\n",
      "                Epoch: 451 / 1000 \n",
      "                | Train Loss: 0.21913057193160057 \n",
      "                | Train Dice Accuracy: 0.9677938526751948 \n",
      "            \n"
     ]
    },
    {
     "data": {
      "application/vnd.jupyter.widget-view+json": {
       "model_id": "d9ef6fced6024525b32f4710990c4e07",
       "version_major": 2,
       "version_minor": 0
      },
      "text/plain": [
       "  0%|          | 0/16 [00:00<?, ?it/s]"
      ]
     },
     "metadata": {},
     "output_type": "display_data"
    },
    {
     "name": "stdout",
     "output_type": "stream",
     "text": [
      "\n",
      "                    Epoch: 452 / 1000 \n",
      "                    | Train Loss: 0.1873870431445539 \n",
      "                    | Train Dice Accuracy: 0.9523713655250017 \n",
      "                    | Test Dice Accuracy: 0.9398557345072428\n",
      "                \n"
     ]
    },
    {
     "data": {
      "application/vnd.jupyter.widget-view+json": {
       "model_id": "f0042bf6a8694453a18cab1cfa763c78",
       "version_major": 2,
       "version_minor": 0
      },
      "text/plain": [
       "  0%|          | 0/16 [00:00<?, ?it/s]"
      ]
     },
     "metadata": {},
     "output_type": "display_data"
    },
    {
     "name": "stdout",
     "output_type": "stream",
     "text": [
      "\n",
      "                Epoch: 453 / 1000 \n",
      "                | Train Loss: 0.18426729715429246 \n",
      "                | Train Dice Accuracy: 0.9541561520761914 \n",
      "            \n"
     ]
    },
    {
     "data": {
      "application/vnd.jupyter.widget-view+json": {
       "model_id": "9f1d0351d4cd4c9c8bb70f261a220c9e",
       "version_major": 2,
       "version_minor": 0
      },
      "text/plain": [
       "  0%|          | 0/16 [00:00<?, ?it/s]"
      ]
     },
     "metadata": {},
     "output_type": "display_data"
    },
    {
     "name": "stdout",
     "output_type": "stream",
     "text": [
      "\n",
      "                    Epoch: 454 / 1000 \n",
      "                    | Train Loss: 0.18000118364579976 \n",
      "                    | Train Dice Accuracy: 0.9635890511579291 \n",
      "                    | Test Dice Accuracy: 0.915089315838284\n",
      "                \n"
     ]
    },
    {
     "data": {
      "application/vnd.jupyter.widget-view+json": {
       "model_id": "813b8526d1f844379a8f26d6de413fbd",
       "version_major": 2,
       "version_minor": 0
      },
      "text/plain": [
       "  0%|          | 0/16 [00:00<?, ?it/s]"
      ]
     },
     "metadata": {},
     "output_type": "display_data"
    },
    {
     "name": "stdout",
     "output_type": "stream",
     "text": [
      "\n",
      "                Epoch: 455 / 1000 \n",
      "                | Train Loss: 0.18697838531807065 \n",
      "                | Train Dice Accuracy: 0.962499503798328 \n",
      "            \n"
     ]
    },
    {
     "data": {
      "application/vnd.jupyter.widget-view+json": {
       "model_id": "366d9ab26b524e579dff577838624d3a",
       "version_major": 2,
       "version_minor": 0
      },
      "text/plain": [
       "  0%|          | 0/16 [00:00<?, ?it/s]"
      ]
     },
     "metadata": {},
     "output_type": "display_data"
    },
    {
     "name": "stdout",
     "output_type": "stream",
     "text": [
      "\n",
      "                    Epoch: 456 / 1000 \n",
      "                    | Train Loss: 0.18246537307277322 \n",
      "                    | Train Dice Accuracy: 0.9579524786935912 \n",
      "                    | Test Dice Accuracy: 0.9349563982751634\n",
      "                \n"
     ]
    },
    {
     "data": {
      "application/vnd.jupyter.widget-view+json": {
       "model_id": "0a6b7aff800d473c981c34e6a57e9fdd",
       "version_major": 2,
       "version_minor": 0
      },
      "text/plain": [
       "  0%|          | 0/16 [00:00<?, ?it/s]"
      ]
     },
     "metadata": {},
     "output_type": "display_data"
    },
    {
     "name": "stdout",
     "output_type": "stream",
     "text": [
      "\n",
      "                Epoch: 457 / 1000 \n",
      "                | Train Loss: 0.18071587989106774 \n",
      "                | Train Dice Accuracy: 0.9658061235450035 \n",
      "            \n"
     ]
    },
    {
     "data": {
      "application/vnd.jupyter.widget-view+json": {
       "model_id": "e22b6d0cb3c5421ca31f9b20b75ad6bb",
       "version_major": 2,
       "version_minor": 0
      },
      "text/plain": [
       "  0%|          | 0/16 [00:00<?, ?it/s]"
      ]
     },
     "metadata": {},
     "output_type": "display_data"
    },
    {
     "name": "stdout",
     "output_type": "stream",
     "text": [
      "\n",
      "                    Epoch: 458 / 1000 \n",
      "                    | Train Loss: 0.22122377716004848 \n",
      "                    | Train Dice Accuracy: 0.9670541230954376 \n",
      "                    | Test Dice Accuracy: 0.9417951967981126\n",
      "                \n"
     ]
    },
    {
     "data": {
      "application/vnd.jupyter.widget-view+json": {
       "model_id": "20f95582013a4765800b8b1690cc89e2",
       "version_major": 2,
       "version_minor": 0
      },
      "text/plain": [
       "  0%|          | 0/16 [00:00<?, ?it/s]"
      ]
     },
     "metadata": {},
     "output_type": "display_data"
    },
    {
     "name": "stdout",
     "output_type": "stream",
     "text": [
      "\n",
      "                Epoch: 459 / 1000 \n",
      "                | Train Loss: 0.18096389574930072 \n",
      "                | Train Dice Accuracy: 0.962623084032977 \n",
      "            \n"
     ]
    },
    {
     "data": {
      "application/vnd.jupyter.widget-view+json": {
       "model_id": "c17260abdf5544ae961dc667d1127ca9",
       "version_major": 2,
       "version_minor": 0
      },
      "text/plain": [
       "  0%|          | 0/16 [00:00<?, ?it/s]"
      ]
     },
     "metadata": {},
     "output_type": "display_data"
    },
    {
     "name": "stdout",
     "output_type": "stream",
     "text": [
      "\n",
      "                    Epoch: 460 / 1000 \n",
      "                    | Train Loss: 0.1872348275501281 \n",
      "                    | Train Dice Accuracy: 0.9586806564687569 \n",
      "                    | Test Dice Accuracy: 0.8987130125363668\n",
      "                \n"
     ]
    },
    {
     "data": {
      "application/vnd.jupyter.widget-view+json": {
       "model_id": "08900a3af6d44c5fbe87da55573e695e",
       "version_major": 2,
       "version_minor": 0
      },
      "text/plain": [
       "  0%|          | 0/16 [00:00<?, ?it/s]"
      ]
     },
     "metadata": {},
     "output_type": "display_data"
    },
    {
     "name": "stdout",
     "output_type": "stream",
     "text": [
      "\n",
      "                Epoch: 461 / 1000 \n",
      "                | Train Loss: 0.16023254254832864 \n",
      "                | Train Dice Accuracy: 0.9568021582053589 \n",
      "            \n"
     ]
    },
    {
     "data": {
      "application/vnd.jupyter.widget-view+json": {
       "model_id": "82fb3021f0dc4ca3843c34229fbd8b64",
       "version_major": 2,
       "version_minor": 0
      },
      "text/plain": [
       "  0%|          | 0/16 [00:00<?, ?it/s]"
      ]
     },
     "metadata": {},
     "output_type": "display_data"
    },
    {
     "name": "stdout",
     "output_type": "stream",
     "text": [
      "\n",
      "                    Epoch: 462 / 1000 \n",
      "                    | Train Loss: 0.16412947443313897 \n",
      "                    | Train Dice Accuracy: 0.9554127934304151 \n",
      "                    | Test Dice Accuracy: 0.9451032744513618\n",
      "                \n"
     ]
    },
    {
     "data": {
      "application/vnd.jupyter.widget-view+json": {
       "model_id": "6b20cfbeb7a548acaa988afaadb7139a",
       "version_major": 2,
       "version_minor": 0
      },
      "text/plain": [
       "  0%|          | 0/16 [00:00<?, ?it/s]"
      ]
     },
     "metadata": {},
     "output_type": "display_data"
    },
    {
     "name": "stdout",
     "output_type": "stream",
     "text": [
      "\n",
      "                Epoch: 463 / 1000 \n",
      "                | Train Loss: 0.19301363406702876 \n",
      "                | Train Dice Accuracy: 0.953232872933849 \n",
      "            \n"
     ]
    },
    {
     "data": {
      "application/vnd.jupyter.widget-view+json": {
       "model_id": "fd6b3634e5ab4603b10e555fa1772f09",
       "version_major": 2,
       "version_minor": 0
      },
      "text/plain": [
       "  0%|          | 0/16 [00:00<?, ?it/s]"
      ]
     },
     "metadata": {},
     "output_type": "display_data"
    },
    {
     "name": "stdout",
     "output_type": "stream",
     "text": [
      "\n",
      "                    Epoch: 464 / 1000 \n",
      "                    | Train Loss: 0.19433747930452228 \n",
      "                    | Train Dice Accuracy: 0.9620952381277984 \n",
      "                    | Test Dice Accuracy: 0.9377311931716071\n",
      "                \n"
     ]
    },
    {
     "data": {
      "application/vnd.jupyter.widget-view+json": {
       "model_id": "e801b74a99774ca6aaf03c3f8f310177",
       "version_major": 2,
       "version_minor": 0
      },
      "text/plain": [
       "  0%|          | 0/16 [00:00<?, ?it/s]"
      ]
     },
     "metadata": {},
     "output_type": "display_data"
    },
    {
     "name": "stdout",
     "output_type": "stream",
     "text": [
      "\n",
      "                Epoch: 465 / 1000 \n",
      "                | Train Loss: 0.17352675017900765 \n",
      "                | Train Dice Accuracy: 0.9635455413348114 \n",
      "            \n"
     ]
    },
    {
     "data": {
      "application/vnd.jupyter.widget-view+json": {
       "model_id": "9275308c10074e2da2713be84169c5e2",
       "version_major": 2,
       "version_minor": 0
      },
      "text/plain": [
       "  0%|          | 0/16 [00:00<?, ?it/s]"
      ]
     },
     "metadata": {},
     "output_type": "display_data"
    },
    {
     "name": "stdout",
     "output_type": "stream",
     "text": [
      "\n",
      "                    Epoch: 466 / 1000 \n",
      "                    | Train Loss: 0.1911704083904624 \n",
      "                    | Train Dice Accuracy: 0.9696439013096958 \n",
      "                    | Test Dice Accuracy: 0.9284511804580688\n",
      "                \n"
     ]
    },
    {
     "data": {
      "application/vnd.jupyter.widget-view+json": {
       "model_id": "50857f514259409a8fcbaf65dce73faa",
       "version_major": 2,
       "version_minor": 0
      },
      "text/plain": [
       "  0%|          | 0/16 [00:00<?, ?it/s]"
      ]
     },
     "metadata": {},
     "output_type": "display_data"
    },
    {
     "name": "stdout",
     "output_type": "stream",
     "text": [
      "\n",
      "                Epoch: 467 / 1000 \n",
      "                | Train Loss: 0.19032081705518067 \n",
      "                | Train Dice Accuracy: 0.9538085499475168 \n",
      "            \n"
     ]
    },
    {
     "data": {
      "application/vnd.jupyter.widget-view+json": {
       "model_id": "3c810b70a80f40a08c7035e451b5ac25",
       "version_major": 2,
       "version_minor": 0
      },
      "text/plain": [
       "  0%|          | 0/16 [00:00<?, ?it/s]"
      ]
     },
     "metadata": {},
     "output_type": "display_data"
    },
    {
     "name": "stdout",
     "output_type": "stream",
     "text": [
      "\n",
      "                    Epoch: 468 / 1000 \n",
      "                    | Train Loss: 0.19021069793961942 \n",
      "                    | Train Dice Accuracy: 0.9610834553419987 \n",
      "                    | Test Dice Accuracy: 0.9248243371645609\n",
      "                \n"
     ]
    },
    {
     "data": {
      "application/vnd.jupyter.widget-view+json": {
       "model_id": "6b009b0fb7eb4e3e9996c00d22a234d2",
       "version_major": 2,
       "version_minor": 0
      },
      "text/plain": [
       "  0%|          | 0/16 [00:00<?, ?it/s]"
      ]
     },
     "metadata": {},
     "output_type": "display_data"
    },
    {
     "name": "stdout",
     "output_type": "stream",
     "text": [
      "\n",
      "                Epoch: 469 / 1000 \n",
      "                | Train Loss: 0.2111039636656642 \n",
      "                | Train Dice Accuracy: 0.9612862952053547 \n",
      "            \n"
     ]
    },
    {
     "data": {
      "application/vnd.jupyter.widget-view+json": {
       "model_id": "9c9db9b7281040d1a2248a32ff1d23c8",
       "version_major": 2,
       "version_minor": 0
      },
      "text/plain": [
       "  0%|          | 0/16 [00:00<?, ?it/s]"
      ]
     },
     "metadata": {},
     "output_type": "display_data"
    },
    {
     "name": "stdout",
     "output_type": "stream",
     "text": [
      "\n",
      "                    Epoch: 470 / 1000 \n",
      "                    | Train Loss: 0.18143296265043318 \n",
      "                    | Train Dice Accuracy: 0.9543595846896896 \n",
      "                    | Test Dice Accuracy: 0.9388008448812697\n",
      "                \n"
     ]
    },
    {
     "data": {
      "application/vnd.jupyter.widget-view+json": {
       "model_id": "7529bdbfab3c43aab992c07eee8698a5",
       "version_major": 2,
       "version_minor": 0
      },
      "text/plain": [
       "  0%|          | 0/16 [00:00<?, ?it/s]"
      ]
     },
     "metadata": {},
     "output_type": "display_data"
    },
    {
     "name": "stdout",
     "output_type": "stream",
     "text": [
      "\n",
      "                Epoch: 471 / 1000 \n",
      "                | Train Loss: 0.2143068218138069 \n",
      "                | Train Dice Accuracy: 0.9722377026953348 \n",
      "            \n"
     ]
    },
    {
     "data": {
      "application/vnd.jupyter.widget-view+json": {
       "model_id": "4592aa77eb064b2f8098b8615eb09dbd",
       "version_major": 2,
       "version_minor": 0
      },
      "text/plain": [
       "  0%|          | 0/16 [00:00<?, ?it/s]"
      ]
     },
     "metadata": {},
     "output_type": "display_data"
    },
    {
     "name": "stdout",
     "output_type": "stream",
     "text": [
      "\n",
      "                    Epoch: 472 / 1000 \n",
      "                    | Train Loss: 0.16872595716267824 \n",
      "                    | Train Dice Accuracy: 0.9632711282017035 \n",
      "                    | Test Dice Accuracy: 0.9415427578820122\n",
      "                \n"
     ]
    },
    {
     "data": {
      "application/vnd.jupyter.widget-view+json": {
       "model_id": "7bab140b0c8945209c476fcabfdea743",
       "version_major": 2,
       "version_minor": 0
      },
      "text/plain": [
       "  0%|          | 0/16 [00:00<?, ?it/s]"
      ]
     },
     "metadata": {},
     "output_type": "display_data"
    },
    {
     "name": "stdout",
     "output_type": "stream",
     "text": [
      "\n",
      "                Epoch: 473 / 1000 \n",
      "                | Train Loss: 0.1837776282336563 \n",
      "                | Train Dice Accuracy: 0.9590914529423381 \n",
      "            \n"
     ]
    },
    {
     "data": {
      "application/vnd.jupyter.widget-view+json": {
       "model_id": "d416fe6fff6b47c4b0c847ecd6aeb00e",
       "version_major": 2,
       "version_minor": 0
      },
      "text/plain": [
       "  0%|          | 0/16 [00:00<?, ?it/s]"
      ]
     },
     "metadata": {},
     "output_type": "display_data"
    },
    {
     "name": "stdout",
     "output_type": "stream",
     "text": [
      "\n",
      "                    Epoch: 474 / 1000 \n",
      "                    | Train Loss: 0.1772569753229618 \n",
      "                    | Train Dice Accuracy: 0.9484023634157225 \n",
      "                    | Test Dice Accuracy: 0.9426463378800286\n",
      "                \n"
     ]
    },
    {
     "data": {
      "application/vnd.jupyter.widget-view+json": {
       "model_id": "e9bf802d8b584b89bf316208c934e3e6",
       "version_major": 2,
       "version_minor": 0
      },
      "text/plain": [
       "  0%|          | 0/16 [00:00<?, ?it/s]"
      ]
     },
     "metadata": {},
     "output_type": "display_data"
    },
    {
     "name": "stdout",
     "output_type": "stream",
     "text": [
      "\n",
      "                Epoch: 475 / 1000 \n",
      "                | Train Loss: 0.17316601378843188 \n",
      "                | Train Dice Accuracy: 0.9592872789693535 \n",
      "            \n"
     ]
    },
    {
     "data": {
      "application/vnd.jupyter.widget-view+json": {
       "model_id": "28f2c2ffe4ab4941b2f76dfbc9d0c2de",
       "version_major": 2,
       "version_minor": 0
      },
      "text/plain": [
       "  0%|          | 0/16 [00:00<?, ?it/s]"
      ]
     },
     "metadata": {},
     "output_type": "display_data"
    },
    {
     "name": "stdout",
     "output_type": "stream",
     "text": [
      "\n",
      "                    Epoch: 476 / 1000 \n",
      "                    | Train Loss: 0.16801604069769382 \n",
      "                    | Train Dice Accuracy: 0.9664681206602569 \n",
      "                    | Test Dice Accuracy: 0.9370266927613152\n",
      "                \n"
     ]
    },
    {
     "data": {
      "application/vnd.jupyter.widget-view+json": {
       "model_id": "4372de2f14d34d45a625834e6aa229c2",
       "version_major": 2,
       "version_minor": 0
      },
      "text/plain": [
       "  0%|          | 0/16 [00:00<?, ?it/s]"
      ]
     },
     "metadata": {},
     "output_type": "display_data"
    },
    {
     "name": "stdout",
     "output_type": "stream",
     "text": [
      "\n",
      "                Epoch: 477 / 1000 \n",
      "                | Train Loss: 0.20373434759676456 \n",
      "                | Train Dice Accuracy: 0.9596351126829783 \n",
      "            \n"
     ]
    },
    {
     "data": {
      "application/vnd.jupyter.widget-view+json": {
       "model_id": "64cad0edd66c4808bb544660fc96c100",
       "version_major": 2,
       "version_minor": 0
      },
      "text/plain": [
       "  0%|          | 0/16 [00:00<?, ?it/s]"
      ]
     },
     "metadata": {},
     "output_type": "display_data"
    },
    {
     "name": "stdout",
     "output_type": "stream",
     "text": [
      "\n",
      "                    Epoch: 478 / 1000 \n",
      "                    | Train Loss: 0.16710664192214608 \n",
      "                    | Train Dice Accuracy: 0.9577888458967209 \n",
      "                    | Test Dice Accuracy: 0.941326724158393\n",
      "                \n"
     ]
    },
    {
     "data": {
      "application/vnd.jupyter.widget-view+json": {
       "model_id": "c57e2f46f77949d0bf002a01f8a0c187",
       "version_major": 2,
       "version_minor": 0
      },
      "text/plain": [
       "  0%|          | 0/16 [00:00<?, ?it/s]"
      ]
     },
     "metadata": {},
     "output_type": "display_data"
    },
    {
     "name": "stdout",
     "output_type": "stream",
     "text": [
      "\n",
      "                Epoch: 479 / 1000 \n",
      "                | Train Loss: 0.15640952810645103 \n",
      "                | Train Dice Accuracy: 0.9606001253600593 \n",
      "            \n"
     ]
    },
    {
     "data": {
      "application/vnd.jupyter.widget-view+json": {
       "model_id": "4d80788e3fcd4b6e9993072915d399e5",
       "version_major": 2,
       "version_minor": 0
      },
      "text/plain": [
       "  0%|          | 0/16 [00:00<?, ?it/s]"
      ]
     },
     "metadata": {},
     "output_type": "display_data"
    },
    {
     "name": "stdout",
     "output_type": "stream",
     "text": [
      "\n",
      "                    Epoch: 480 / 1000 \n",
      "                    | Train Loss: 0.18264227313920856 \n",
      "                    | Train Dice Accuracy: 0.9594072280106721 \n",
      "                    | Test Dice Accuracy: 0.9340315527386136\n",
      "                \n"
     ]
    },
    {
     "data": {
      "application/vnd.jupyter.widget-view+json": {
       "model_id": "c424528d2ea6428c89051062fdc81c3d",
       "version_major": 2,
       "version_minor": 0
      },
      "text/plain": [
       "  0%|          | 0/16 [00:00<?, ?it/s]"
      ]
     },
     "metadata": {},
     "output_type": "display_data"
    },
    {
     "name": "stdout",
     "output_type": "stream",
     "text": [
      "\n",
      "                Epoch: 481 / 1000 \n",
      "                | Train Loss: 0.19102662708610296 \n",
      "                | Train Dice Accuracy: 0.9589678278551416 \n",
      "            \n"
     ]
    },
    {
     "data": {
      "application/vnd.jupyter.widget-view+json": {
       "model_id": "1e176aa5d938427caa72e17f2bfe0d0d",
       "version_major": 2,
       "version_minor": 0
      },
      "text/plain": [
       "  0%|          | 0/16 [00:00<?, ?it/s]"
      ]
     },
     "metadata": {},
     "output_type": "display_data"
    },
    {
     "name": "stdout",
     "output_type": "stream",
     "text": [
      "\n",
      "                    Epoch: 482 / 1000 \n",
      "                    | Train Loss: 0.19470408791676164 \n",
      "                    | Train Dice Accuracy: 0.9655283469159456 \n",
      "                    | Test Dice Accuracy: 0.9448217087321811\n",
      "                \n"
     ]
    },
    {
     "data": {
      "application/vnd.jupyter.widget-view+json": {
       "model_id": "3fc6d5c0b3734c7db62545c1ad736334",
       "version_major": 2,
       "version_minor": 0
      },
      "text/plain": [
       "  0%|          | 0/16 [00:00<?, ?it/s]"
      ]
     },
     "metadata": {},
     "output_type": "display_data"
    },
    {
     "name": "stdout",
     "output_type": "stream",
     "text": [
      "\n",
      "                Epoch: 483 / 1000 \n",
      "                | Train Loss: 0.19939823355525732 \n",
      "                | Train Dice Accuracy: 0.9692050540846501 \n",
      "            \n"
     ]
    },
    {
     "data": {
      "application/vnd.jupyter.widget-view+json": {
       "model_id": "15522b62d6bf418f832efa5d6923b068",
       "version_major": 2,
       "version_minor": 0
      },
      "text/plain": [
       "  0%|          | 0/16 [00:00<?, ?it/s]"
      ]
     },
     "metadata": {},
     "output_type": "display_data"
    },
    {
     "name": "stdout",
     "output_type": "stream",
     "text": [
      "\n",
      "                    Epoch: 484 / 1000 \n",
      "                    | Train Loss: 0.18568091094493866 \n",
      "                    | Train Dice Accuracy: 0.9668909691868813 \n",
      "                    | Test Dice Accuracy: 0.9481564892662896\n",
      "                \n"
     ]
    },
    {
     "data": {
      "application/vnd.jupyter.widget-view+json": {
       "model_id": "bec571432bff4b218395881afef90437",
       "version_major": 2,
       "version_minor": 0
      },
      "text/plain": [
       "  0%|          | 0/16 [00:00<?, ?it/s]"
      ]
     },
     "metadata": {},
     "output_type": "display_data"
    },
    {
     "name": "stdout",
     "output_type": "stream",
     "text": [
      "\n",
      "                Epoch: 485 / 1000 \n",
      "                | Train Loss: 0.18390714353881776 \n",
      "                | Train Dice Accuracy: 0.9707571086189557 \n",
      "            \n"
     ]
    },
    {
     "data": {
      "application/vnd.jupyter.widget-view+json": {
       "model_id": "9a79dc3ae8b546a5b4e2b4aa686dc1cc",
       "version_major": 2,
       "version_minor": 0
      },
      "text/plain": [
       "  0%|          | 0/16 [00:00<?, ?it/s]"
      ]
     },
     "metadata": {},
     "output_type": "display_data"
    },
    {
     "name": "stdout",
     "output_type": "stream",
     "text": [
      "\n",
      "                    Epoch: 486 / 1000 \n",
      "                    | Train Loss: 0.17177341505885124 \n",
      "                    | Train Dice Accuracy: 0.958523464585663 \n",
      "                    | Test Dice Accuracy: 0.9440406627125211\n",
      "                \n"
     ]
    },
    {
     "data": {
      "application/vnd.jupyter.widget-view+json": {
       "model_id": "a7d71328831e4e5ea80109bc8483ac64",
       "version_major": 2,
       "version_minor": 0
      },
      "text/plain": [
       "  0%|          | 0/16 [00:00<?, ?it/s]"
      ]
     },
     "metadata": {},
     "output_type": "display_data"
    },
    {
     "name": "stdout",
     "output_type": "stream",
     "text": [
      "\n",
      "                Epoch: 487 / 1000 \n",
      "                | Train Loss: 0.1626466193702072 \n",
      "                | Train Dice Accuracy: 0.9630714978567615 \n",
      "            \n"
     ]
    },
    {
     "data": {
      "application/vnd.jupyter.widget-view+json": {
       "model_id": "4ea96b37551644e1b059ef2d6ef1384b",
       "version_major": 2,
       "version_minor": 0
      },
      "text/plain": [
       "  0%|          | 0/16 [00:00<?, ?it/s]"
      ]
     },
     "metadata": {},
     "output_type": "display_data"
    },
    {
     "name": "stdout",
     "output_type": "stream",
     "text": [
      "\n",
      "                    Epoch: 488 / 1000 \n",
      "                    | Train Loss: 0.1643775450065732 \n",
      "                    | Train Dice Accuracy: 0.9698664472190612 \n",
      "                    | Test Dice Accuracy: 0.9458682272169325\n",
      "                \n"
     ]
    },
    {
     "data": {
      "application/vnd.jupyter.widget-view+json": {
       "model_id": "20f4271cbc984fd882a8706999786afa",
       "version_major": 2,
       "version_minor": 0
      },
      "text/plain": [
       "  0%|          | 0/16 [00:00<?, ?it/s]"
      ]
     },
     "metadata": {},
     "output_type": "display_data"
    },
    {
     "name": "stdout",
     "output_type": "stream",
     "text": [
      "\n",
      "                Epoch: 489 / 1000 \n",
      "                | Train Loss: 0.17695804010145366 \n",
      "                | Train Dice Accuracy: 0.9662555102948789 \n",
      "            \n"
     ]
    },
    {
     "data": {
      "application/vnd.jupyter.widget-view+json": {
       "model_id": "61ae59ddc1a6482794d1cc6b65813d93",
       "version_major": 2,
       "version_minor": 0
      },
      "text/plain": [
       "  0%|          | 0/16 [00:00<?, ?it/s]"
      ]
     },
     "metadata": {},
     "output_type": "display_data"
    },
    {
     "name": "stdout",
     "output_type": "stream",
     "text": [
      "\n",
      "                    Epoch: 490 / 1000 \n",
      "                    | Train Loss: 0.19515330158174038 \n",
      "                    | Train Dice Accuracy: 0.9596023736697323 \n",
      "                    | Test Dice Accuracy: 0.9399296310212877\n",
      "                \n"
     ]
    },
    {
     "data": {
      "application/vnd.jupyter.widget-view+json": {
       "model_id": "4a35453a765e458082d5194aa3366507",
       "version_major": 2,
       "version_minor": 0
      },
      "text/plain": [
       "  0%|          | 0/16 [00:00<?, ?it/s]"
      ]
     },
     "metadata": {},
     "output_type": "display_data"
    },
    {
     "name": "stdout",
     "output_type": "stream",
     "text": [
      "\n",
      "                Epoch: 491 / 1000 \n",
      "                | Train Loss: 0.18205537484027445 \n",
      "                | Train Dice Accuracy: 0.9645339576440437 \n",
      "            \n"
     ]
    },
    {
     "data": {
      "application/vnd.jupyter.widget-view+json": {
       "model_id": "819d14ed732440ada2e9f00880fdee21",
       "version_major": 2,
       "version_minor": 0
      },
      "text/plain": [
       "  0%|          | 0/16 [00:00<?, ?it/s]"
      ]
     },
     "metadata": {},
     "output_type": "display_data"
    },
    {
     "name": "stdout",
     "output_type": "stream",
     "text": [
      "\n",
      "                    Epoch: 492 / 1000 \n",
      "                    | Train Loss: 0.1930664803367108 \n",
      "                    | Train Dice Accuracy: 0.9522628238267987 \n",
      "                    | Test Dice Accuracy: 0.9477289650175307\n",
      "                \n"
     ]
    },
    {
     "data": {
      "application/vnd.jupyter.widget-view+json": {
       "model_id": "6f6ef72b698848548b90557b738ec413",
       "version_major": 2,
       "version_minor": 0
      },
      "text/plain": [
       "  0%|          | 0/16 [00:00<?, ?it/s]"
      ]
     },
     "metadata": {},
     "output_type": "display_data"
    },
    {
     "name": "stdout",
     "output_type": "stream",
     "text": [
      "\n",
      "                Epoch: 493 / 1000 \n",
      "                | Train Loss: 0.16526018781587481 \n",
      "                | Train Dice Accuracy: 0.9686550323022615 \n",
      "            \n"
     ]
    },
    {
     "data": {
      "application/vnd.jupyter.widget-view+json": {
       "model_id": "8f0b96df53484145adc00c8325bf0c83",
       "version_major": 2,
       "version_minor": 0
      },
      "text/plain": [
       "  0%|          | 0/16 [00:00<?, ?it/s]"
      ]
     },
     "metadata": {},
     "output_type": "display_data"
    },
    {
     "name": "stdout",
     "output_type": "stream",
     "text": [
      "\n",
      "                    Epoch: 494 / 1000 \n",
      "                    | Train Loss: 0.20176261221058667 \n",
      "                    | Train Dice Accuracy: 0.973246523967156 \n",
      "                    | Test Dice Accuracy: 0.9486833877033658\n",
      "                \n"
     ]
    },
    {
     "data": {
      "application/vnd.jupyter.widget-view+json": {
       "model_id": "d03610213a66403cbee8bb26036580ca",
       "version_major": 2,
       "version_minor": 0
      },
      "text/plain": [
       "  0%|          | 0/16 [00:00<?, ?it/s]"
      ]
     },
     "metadata": {},
     "output_type": "display_data"
    },
    {
     "name": "stdout",
     "output_type": "stream",
     "text": [
      "\n",
      "                Epoch: 495 / 1000 \n",
      "                | Train Loss: 0.19894682499580085 \n",
      "                | Train Dice Accuracy: 0.9656490683555603 \n",
      "            \n"
     ]
    },
    {
     "data": {
      "application/vnd.jupyter.widget-view+json": {
       "model_id": "b9f26a7478174832a1ad78d3aa494d4e",
       "version_major": 2,
       "version_minor": 0
      },
      "text/plain": [
       "  0%|          | 0/16 [00:00<?, ?it/s]"
      ]
     },
     "metadata": {},
     "output_type": "display_data"
    },
    {
     "name": "stdout",
     "output_type": "stream",
     "text": [
      "\n",
      "                    Epoch: 496 / 1000 \n",
      "                    | Train Loss: 0.19894149922765791 \n",
      "                    | Train Dice Accuracy: 0.9672905731768835 \n",
      "                    | Test Dice Accuracy: 0.9355943865246243\n",
      "                \n"
     ]
    },
    {
     "data": {
      "application/vnd.jupyter.widget-view+json": {
       "model_id": "6aa9c99bb4944da991b16f495f237658",
       "version_major": 2,
       "version_minor": 0
      },
      "text/plain": [
       "  0%|          | 0/16 [00:00<?, ?it/s]"
      ]
     },
     "metadata": {},
     "output_type": "display_data"
    },
    {
     "name": "stdout",
     "output_type": "stream",
     "text": [
      "\n",
      "                Epoch: 497 / 1000 \n",
      "                | Train Loss: 0.18443265231326222 \n",
      "                | Train Dice Accuracy: 0.9648077437810809 \n",
      "            \n"
     ]
    },
    {
     "data": {
      "application/vnd.jupyter.widget-view+json": {
       "model_id": "84cd27a24af348acb1a2e65b01344e00",
       "version_major": 2,
       "version_minor": 0
      },
      "text/plain": [
       "  0%|          | 0/16 [00:00<?, ?it/s]"
      ]
     },
     "metadata": {},
     "output_type": "display_data"
    },
    {
     "name": "stdout",
     "output_type": "stream",
     "text": [
      "\n",
      "                    Epoch: 498 / 1000 \n",
      "                    | Train Loss: 0.16279613901861012 \n",
      "                    | Train Dice Accuracy: 0.9690992886617303 \n",
      "                    | Test Dice Accuracy: 0.9484386841456095\n",
      "                \n"
     ]
    },
    {
     "data": {
      "application/vnd.jupyter.widget-view+json": {
       "model_id": "9cbb30fbc81341bfa0d8fb561fa88b4c",
       "version_major": 2,
       "version_minor": 0
      },
      "text/plain": [
       "  0%|          | 0/16 [00:00<?, ?it/s]"
      ]
     },
     "metadata": {},
     "output_type": "display_data"
    },
    {
     "name": "stdout",
     "output_type": "stream",
     "text": [
      "\n",
      "                Epoch: 499 / 1000 \n",
      "                | Train Loss: 0.1842862474732101 \n",
      "                | Train Dice Accuracy: 0.9559688362964364 \n",
      "            \n"
     ]
    },
    {
     "data": {
      "application/vnd.jupyter.widget-view+json": {
       "model_id": "987f868e9ed64316a5e6101d1a027286",
       "version_major": 2,
       "version_minor": 0
      },
      "text/plain": [
       "  0%|          | 0/16 [00:00<?, ?it/s]"
      ]
     },
     "metadata": {},
     "output_type": "display_data"
    },
    {
     "name": "stdout",
     "output_type": "stream",
     "text": [
      "\n",
      "                    Epoch: 500 / 1000 \n",
      "                    | Train Loss: 0.17235240759328008 \n",
      "                    | Train Dice Accuracy: 0.9684245202828337 \n",
      "                    | Test Dice Accuracy: 0.946932852268219\n",
      "                \n"
     ]
    },
    {
     "data": {
      "application/vnd.jupyter.widget-view+json": {
       "model_id": "4b521f19d13c455bb8fd4c9fa98fb2d7",
       "version_major": 2,
       "version_minor": 0
      },
      "text/plain": [
       "  0%|          | 0/16 [00:00<?, ?it/s]"
      ]
     },
     "metadata": {},
     "output_type": "display_data"
    },
    {
     "name": "stdout",
     "output_type": "stream",
     "text": [
      "\n",
      "                Epoch: 501 / 1000 \n",
      "                | Train Loss: 0.1968969637528062 \n",
      "                | Train Dice Accuracy: 0.9717775845641725 \n",
      "            \n"
     ]
    },
    {
     "data": {
      "application/vnd.jupyter.widget-view+json": {
       "model_id": "d9078ed0d75845fbaac9d4330e65c6dc",
       "version_major": 2,
       "version_minor": 0
      },
      "text/plain": [
       "  0%|          | 0/16 [00:00<?, ?it/s]"
      ]
     },
     "metadata": {},
     "output_type": "display_data"
    },
    {
     "name": "stdout",
     "output_type": "stream",
     "text": [
      "\n",
      "                    Epoch: 502 / 1000 \n",
      "                    | Train Loss: 0.21228861692361534 \n",
      "                    | Train Dice Accuracy: 0.973526526660454 \n",
      "                    | Test Dice Accuracy: 0.9467006656858656\n",
      "                \n"
     ]
    },
    {
     "data": {
      "application/vnd.jupyter.widget-view+json": {
       "model_id": "a80cca201e9c44e08ecfd6ae01ba01e0",
       "version_major": 2,
       "version_minor": 0
      },
      "text/plain": [
       "  0%|          | 0/16 [00:00<?, ?it/s]"
      ]
     },
     "metadata": {},
     "output_type": "display_data"
    },
    {
     "name": "stdout",
     "output_type": "stream",
     "text": [
      "\n",
      "                Epoch: 503 / 1000 \n",
      "                | Train Loss: 0.13960981904529035 \n",
      "                | Train Dice Accuracy: 0.9586169843652607 \n",
      "            \n"
     ]
    },
    {
     "data": {
      "application/vnd.jupyter.widget-view+json": {
       "model_id": "196d757a729d40ddb88cf768196f613c",
       "version_major": 2,
       "version_minor": 0
      },
      "text/plain": [
       "  0%|          | 0/16 [00:00<?, ?it/s]"
      ]
     },
     "metadata": {},
     "output_type": "display_data"
    },
    {
     "name": "stdout",
     "output_type": "stream",
     "text": [
      "\n",
      "                    Epoch: 504 / 1000 \n",
      "                    | Train Loss: 0.15962530975230038 \n",
      "                    | Train Dice Accuracy: 0.9701997264879479 \n",
      "                    | Test Dice Accuracy: 0.9473767346805997\n",
      "                \n"
     ]
    },
    {
     "data": {
      "application/vnd.jupyter.widget-view+json": {
       "model_id": "1c5c41f093e24498a819a2876f48f908",
       "version_major": 2,
       "version_minor": 0
      },
      "text/plain": [
       "  0%|          | 0/16 [00:00<?, ?it/s]"
      ]
     },
     "metadata": {},
     "output_type": "display_data"
    },
    {
     "name": "stdout",
     "output_type": "stream",
     "text": [
      "\n",
      "                Epoch: 505 / 1000 \n",
      "                | Train Loss: 0.17621683259494603 \n",
      "                | Train Dice Accuracy: 0.9676136733205231 \n",
      "            \n"
     ]
    },
    {
     "data": {
      "application/vnd.jupyter.widget-view+json": {
       "model_id": "b2b66b6138c24c4b8e83e51f64c3291d",
       "version_major": 2,
       "version_minor": 0
      },
      "text/plain": [
       "  0%|          | 0/16 [00:00<?, ?it/s]"
      ]
     },
     "metadata": {},
     "output_type": "display_data"
    },
    {
     "name": "stdout",
     "output_type": "stream",
     "text": [
      "\n",
      "                    Epoch: 506 / 1000 \n",
      "                    | Train Loss: 0.17114075063727796 \n",
      "                    | Train Dice Accuracy: 0.9651959958713725 \n",
      "                    | Test Dice Accuracy: 0.9362944828139411\n",
      "                \n"
     ]
    },
    {
     "data": {
      "application/vnd.jupyter.widget-view+json": {
       "model_id": "29dcf50ffdaa49878d447a31590c0759",
       "version_major": 2,
       "version_minor": 0
      },
      "text/plain": [
       "  0%|          | 0/16 [00:00<?, ?it/s]"
      ]
     },
     "metadata": {},
     "output_type": "display_data"
    },
    {
     "name": "stdout",
     "output_type": "stream",
     "text": [
      "\n",
      "                Epoch: 507 / 1000 \n",
      "                | Train Loss: 0.1755824163556099 \n",
      "                | Train Dice Accuracy: 0.9659446108120459 \n",
      "            \n"
     ]
    },
    {
     "data": {
      "application/vnd.jupyter.widget-view+json": {
       "model_id": "d454fb8d0abf4197abf8a2b5e8f08ba5",
       "version_major": 2,
       "version_minor": 0
      },
      "text/plain": [
       "  0%|          | 0/16 [00:00<?, ?it/s]"
      ]
     },
     "metadata": {},
     "output_type": "display_data"
    },
    {
     "name": "stdout",
     "output_type": "stream",
     "text": [
      "\n",
      "                    Epoch: 508 / 1000 \n",
      "                    | Train Loss: 0.15313228592276573 \n",
      "                    | Train Dice Accuracy: 0.9648112694959383 \n",
      "                    | Test Dice Accuracy: 0.9370085133446587\n",
      "                \n"
     ]
    },
    {
     "data": {
      "application/vnd.jupyter.widget-view+json": {
       "model_id": "01b8e3916f244188ab84523f1f288425",
       "version_major": 2,
       "version_minor": 0
      },
      "text/plain": [
       "  0%|          | 0/16 [00:00<?, ?it/s]"
      ]
     },
     "metadata": {},
     "output_type": "display_data"
    },
    {
     "name": "stdout",
     "output_type": "stream",
     "text": [
      "\n",
      "                Epoch: 509 / 1000 \n",
      "                | Train Loss: 0.17041670437902212 \n",
      "                | Train Dice Accuracy: 0.9597853889705938 \n",
      "            \n"
     ]
    },
    {
     "data": {
      "application/vnd.jupyter.widget-view+json": {
       "model_id": "4ef571aba75a41158a42ad22841c129c",
       "version_major": 2,
       "version_minor": 0
      },
      "text/plain": [
       "  0%|          | 0/16 [00:00<?, ?it/s]"
      ]
     },
     "metadata": {},
     "output_type": "display_data"
    },
    {
     "name": "stdout",
     "output_type": "stream",
     "text": [
      "\n",
      "                    Epoch: 510 / 1000 \n",
      "                    | Train Loss: 0.17663468467071652 \n",
      "                    | Train Dice Accuracy: 0.9649789664480422 \n",
      "                    | Test Dice Accuracy: 0.943133552869161\n",
      "                \n"
     ]
    },
    {
     "data": {
      "application/vnd.jupyter.widget-view+json": {
       "model_id": "7ac98d683fbd412fbda7675f8e81c5ed",
       "version_major": 2,
       "version_minor": 0
      },
      "text/plain": [
       "  0%|          | 0/16 [00:00<?, ?it/s]"
      ]
     },
     "metadata": {},
     "output_type": "display_data"
    },
    {
     "name": "stdout",
     "output_type": "stream",
     "text": [
      "\n",
      "                Epoch: 511 / 1000 \n",
      "                | Train Loss: 0.15055472636595368 \n",
      "                | Train Dice Accuracy: 0.9681736297972567 \n",
      "            \n"
     ]
    },
    {
     "data": {
      "application/vnd.jupyter.widget-view+json": {
       "model_id": "e717c650bab6445b8bcfbddabdd5db4c",
       "version_major": 2,
       "version_minor": 0
      },
      "text/plain": [
       "  0%|          | 0/16 [00:00<?, ?it/s]"
      ]
     },
     "metadata": {},
     "output_type": "display_data"
    },
    {
     "name": "stdout",
     "output_type": "stream",
     "text": [
      "\n",
      "                    Epoch: 512 / 1000 \n",
      "                    | Train Loss: 0.18336288211867213 \n",
      "                    | Train Dice Accuracy: 0.9707238598608635 \n",
      "                    | Test Dice Accuracy: 0.941643754641215\n",
      "                \n"
     ]
    },
    {
     "data": {
      "application/vnd.jupyter.widget-view+json": {
       "model_id": "6abd4344d755420f98ddda42cd5d2ef2",
       "version_major": 2,
       "version_minor": 0
      },
      "text/plain": [
       "  0%|          | 0/16 [00:00<?, ?it/s]"
      ]
     },
     "metadata": {},
     "output_type": "display_data"
    },
    {
     "name": "stdout",
     "output_type": "stream",
     "text": [
      "\n",
      "                Epoch: 513 / 1000 \n",
      "                | Train Loss: 0.20725273666903377 \n",
      "                | Train Dice Accuracy: 0.9550447951663624 \n",
      "            \n"
     ]
    },
    {
     "data": {
      "application/vnd.jupyter.widget-view+json": {
       "model_id": "7bd2611ec35e46f98964b786e397bb26",
       "version_major": 2,
       "version_minor": 0
      },
      "text/plain": [
       "  0%|          | 0/16 [00:00<?, ?it/s]"
      ]
     },
     "metadata": {},
     "output_type": "display_data"
    },
    {
     "name": "stdout",
     "output_type": "stream",
     "text": [
      "\n",
      "                    Epoch: 514 / 1000 \n",
      "                    | Train Loss: 0.17520080925896764 \n",
      "                    | Train Dice Accuracy: 0.9695544631944762 \n",
      "                    | Test Dice Accuracy: 0.9439232614305284\n",
      "                \n"
     ]
    },
    {
     "data": {
      "application/vnd.jupyter.widget-view+json": {
       "model_id": "8eae9127995a4af88927b6966a2b697c",
       "version_major": 2,
       "version_minor": 0
      },
      "text/plain": [
       "  0%|          | 0/16 [00:00<?, ?it/s]"
      ]
     },
     "metadata": {},
     "output_type": "display_data"
    },
    {
     "name": "stdout",
     "output_type": "stream",
     "text": [
      "\n",
      "                Epoch: 515 / 1000 \n",
      "                | Train Loss: 0.19232501555234194 \n",
      "                | Train Dice Accuracy: 0.9710390466084412 \n",
      "            \n"
     ]
    },
    {
     "data": {
      "application/vnd.jupyter.widget-view+json": {
       "model_id": "05d4e41dac9743f9a23e43dc2e111c1b",
       "version_major": 2,
       "version_minor": 0
      },
      "text/plain": [
       "  0%|          | 0/16 [00:00<?, ?it/s]"
      ]
     },
     "metadata": {},
     "output_type": "display_data"
    },
    {
     "name": "stdout",
     "output_type": "stream",
     "text": [
      "\n",
      "                    Epoch: 516 / 1000 \n",
      "                    | Train Loss: 0.1743643837980926 \n",
      "                    | Train Dice Accuracy: 0.9728641296541968 \n",
      "                    | Test Dice Accuracy: 0.9449617664019266\n",
      "                \n"
     ]
    },
    {
     "data": {
      "application/vnd.jupyter.widget-view+json": {
       "model_id": "c898713d5a544744962981910eda9f88",
       "version_major": 2,
       "version_minor": 0
      },
      "text/plain": [
       "  0%|          | 0/16 [00:00<?, ?it/s]"
      ]
     },
     "metadata": {},
     "output_type": "display_data"
    },
    {
     "name": "stdout",
     "output_type": "stream",
     "text": [
      "\n",
      "                Epoch: 517 / 1000 \n",
      "                | Train Loss: 0.18013904942199588 \n",
      "                | Train Dice Accuracy: 0.9681757332008576 \n",
      "            \n"
     ]
    },
    {
     "data": {
      "application/vnd.jupyter.widget-view+json": {
       "model_id": "2e670351a0244beebde1712359440ec0",
       "version_major": 2,
       "version_minor": 0
      },
      "text/plain": [
       "  0%|          | 0/16 [00:00<?, ?it/s]"
      ]
     },
     "metadata": {},
     "output_type": "display_data"
    },
    {
     "name": "stdout",
     "output_type": "stream",
     "text": [
      "\n",
      "                    Epoch: 518 / 1000 \n",
      "                    | Train Loss: 0.18517513200640678 \n",
      "                    | Train Dice Accuracy: 0.9673036809818286 \n",
      "                    | Test Dice Accuracy: 0.9350105325380961\n",
      "                \n"
     ]
    },
    {
     "data": {
      "application/vnd.jupyter.widget-view+json": {
       "model_id": "8d3d6795dad14b70aa0f64b32901b795",
       "version_major": 2,
       "version_minor": 0
      },
      "text/plain": [
       "  0%|          | 0/16 [00:00<?, ?it/s]"
      ]
     },
     "metadata": {},
     "output_type": "display_data"
    },
    {
     "name": "stdout",
     "output_type": "stream",
     "text": [
      "\n",
      "                Epoch: 519 / 1000 \n",
      "                | Train Loss: 0.16627901303581893 \n",
      "                | Train Dice Accuracy: 0.9643854991011663 \n",
      "            \n"
     ]
    },
    {
     "data": {
      "application/vnd.jupyter.widget-view+json": {
       "model_id": "43cba235b19f4585982a6cc42fa0d6a5",
       "version_major": 2,
       "version_minor": 0
      },
      "text/plain": [
       "  0%|          | 0/16 [00:00<?, ?it/s]"
      ]
     },
     "metadata": {},
     "output_type": "display_data"
    },
    {
     "name": "stdout",
     "output_type": "stream",
     "text": [
      "\n",
      "                    Epoch: 520 / 1000 \n",
      "                    | Train Loss: 0.1851896052248776 \n",
      "                    | Train Dice Accuracy: 0.9709966787150208 \n",
      "                    | Test Dice Accuracy: 0.9257408380508423\n",
      "                \n"
     ]
    },
    {
     "data": {
      "application/vnd.jupyter.widget-view+json": {
       "model_id": "626f2f33b2964d0b8f87e5ea885243e2",
       "version_major": 2,
       "version_minor": 0
      },
      "text/plain": [
       "  0%|          | 0/16 [00:00<?, ?it/s]"
      ]
     },
     "metadata": {},
     "output_type": "display_data"
    },
    {
     "name": "stdout",
     "output_type": "stream",
     "text": [
      "\n",
      "                Epoch: 521 / 1000 \n",
      "                | Train Loss: 0.14682379341684282 \n",
      "                | Train Dice Accuracy: 0.9610046515507358 \n",
      "            \n"
     ]
    },
    {
     "data": {
      "application/vnd.jupyter.widget-view+json": {
       "model_id": "16e6e44f23a5495eb3e814cf44a115fb",
       "version_major": 2,
       "version_minor": 0
      },
      "text/plain": [
       "  0%|          | 0/16 [00:00<?, ?it/s]"
      ]
     },
     "metadata": {},
     "output_type": "display_data"
    },
    {
     "name": "stdout",
     "output_type": "stream",
     "text": [
      "\n",
      "                    Epoch: 522 / 1000 \n",
      "                    | Train Loss: 0.18138333642855287 \n",
      "                    | Train Dice Accuracy: 0.9614480275798727 \n",
      "                    | Test Dice Accuracy: 0.9316114121013217\n",
      "                \n"
     ]
    },
    {
     "data": {
      "application/vnd.jupyter.widget-view+json": {
       "model_id": "065e4da25a94461c902c558ca37a29f4",
       "version_major": 2,
       "version_minor": 0
      },
      "text/plain": [
       "  0%|          | 0/16 [00:00<?, ?it/s]"
      ]
     },
     "metadata": {},
     "output_type": "display_data"
    },
    {
     "name": "stdout",
     "output_type": "stream",
     "text": [
      "\n",
      "                Epoch: 523 / 1000 \n",
      "                | Train Loss: 0.16562647931277752 \n",
      "                | Train Dice Accuracy: 0.9646611441265452 \n",
      "            \n"
     ]
    },
    {
     "data": {
      "application/vnd.jupyter.widget-view+json": {
       "model_id": "3057fed5ac2a435990f7898d451d7a77",
       "version_major": 2,
       "version_minor": 0
      },
      "text/plain": [
       "  0%|          | 0/16 [00:00<?, ?it/s]"
      ]
     },
     "metadata": {},
     "output_type": "display_data"
    },
    {
     "name": "stdout",
     "output_type": "stream",
     "text": [
      "\n",
      "                    Epoch: 524 / 1000 \n",
      "                    | Train Loss: 0.1263020986225456 \n",
      "                    | Train Dice Accuracy: 0.9627891117828902 \n",
      "                    | Test Dice Accuracy: 0.9491837289598253\n",
      "                \n"
     ]
    },
    {
     "data": {
      "application/vnd.jupyter.widget-view+json": {
       "model_id": "70b05288b2e64f75b613df3926c37a1e",
       "version_major": 2,
       "version_minor": 0
      },
      "text/plain": [
       "  0%|          | 0/16 [00:00<?, ?it/s]"
      ]
     },
     "metadata": {},
     "output_type": "display_data"
    },
    {
     "name": "stdout",
     "output_type": "stream",
     "text": [
      "\n",
      "                Epoch: 525 / 1000 \n",
      "                | Train Loss: 0.1937916660681367 \n",
      "                | Train Dice Accuracy: 0.968215640404778 \n",
      "            \n"
     ]
    },
    {
     "data": {
      "application/vnd.jupyter.widget-view+json": {
       "model_id": "6055fe0e123547ffa71837b0930feb85",
       "version_major": 2,
       "version_minor": 0
      },
      "text/plain": [
       "  0%|          | 0/16 [00:00<?, ?it/s]"
      ]
     },
     "metadata": {},
     "output_type": "display_data"
    },
    {
     "name": "stdout",
     "output_type": "stream",
     "text": [
      "\n",
      "                    Epoch: 526 / 1000 \n",
      "                    | Train Loss: 0.16983455000445247 \n",
      "                    | Train Dice Accuracy: 0.9632607526188597 \n",
      "                    | Test Dice Accuracy: 0.945272319846683\n",
      "                \n"
     ]
    },
    {
     "data": {
      "application/vnd.jupyter.widget-view+json": {
       "model_id": "25687fee30764e53a0609c0904427d87",
       "version_major": 2,
       "version_minor": 0
      },
      "text/plain": [
       "  0%|          | 0/16 [00:00<?, ?it/s]"
      ]
     },
     "metadata": {},
     "output_type": "display_data"
    },
    {
     "name": "stdout",
     "output_type": "stream",
     "text": [
      "\n",
      "                Epoch: 527 / 1000 \n",
      "                | Train Loss: 0.18840341549366713 \n",
      "                | Train Dice Accuracy: 0.9688320255504465 \n",
      "            \n"
     ]
    },
    {
     "data": {
      "application/vnd.jupyter.widget-view+json": {
       "model_id": "5ac8e6ccbc694a1e91834478d688a482",
       "version_major": 2,
       "version_minor": 0
      },
      "text/plain": [
       "  0%|          | 0/16 [00:00<?, ?it/s]"
      ]
     },
     "metadata": {},
     "output_type": "display_data"
    },
    {
     "name": "stdout",
     "output_type": "stream",
     "text": [
      "\n",
      "                    Epoch: 528 / 1000 \n",
      "                    | Train Loss: 0.19376340974122286 \n",
      "                    | Train Dice Accuracy: 0.973521625995636 \n",
      "                    | Test Dice Accuracy: 0.9478098220295377\n",
      "                \n"
     ]
    },
    {
     "data": {
      "application/vnd.jupyter.widget-view+json": {
       "model_id": "9bead85c2d29480ea43d4ffa00d1f80b",
       "version_major": 2,
       "version_minor": 0
      },
      "text/plain": [
       "  0%|          | 0/16 [00:00<?, ?it/s]"
      ]
     },
     "metadata": {},
     "output_type": "display_data"
    },
    {
     "name": "stdout",
     "output_type": "stream",
     "text": [
      "\n",
      "                Epoch: 529 / 1000 \n",
      "                | Train Loss: 0.20033653592690825 \n",
      "                | Train Dice Accuracy: 0.9694851883328878 \n",
      "            \n"
     ]
    },
    {
     "data": {
      "application/vnd.jupyter.widget-view+json": {
       "model_id": "b36f0e49d0644dfd8c84c1b773d16d5f",
       "version_major": 2,
       "version_minor": 0
      },
      "text/plain": [
       "  0%|          | 0/16 [00:00<?, ?it/s]"
      ]
     },
     "metadata": {},
     "output_type": "display_data"
    },
    {
     "name": "stdout",
     "output_type": "stream",
     "text": [
      "\n",
      "                    Epoch: 530 / 1000 \n",
      "                    | Train Loss: 0.1900321412831545 \n",
      "                    | Train Dice Accuracy: 0.9631549430565095 \n",
      "                    | Test Dice Accuracy: 0.9384217262268066\n",
      "                \n"
     ]
    },
    {
     "data": {
      "application/vnd.jupyter.widget-view+json": {
       "model_id": "3bb5f9b3917a4fbd88594bfdb012f434",
       "version_major": 2,
       "version_minor": 0
      },
      "text/plain": [
       "  0%|          | 0/16 [00:00<?, ?it/s]"
      ]
     },
     "metadata": {},
     "output_type": "display_data"
    },
    {
     "name": "stdout",
     "output_type": "stream",
     "text": [
      "\n",
      "                Epoch: 531 / 1000 \n",
      "                | Train Loss: 0.17796567478217185 \n",
      "                | Train Dice Accuracy: 0.9662098194277564 \n",
      "            \n"
     ]
    },
    {
     "data": {
      "application/vnd.jupyter.widget-view+json": {
       "model_id": "0750869353e14015a92f646e11eda879",
       "version_major": 2,
       "version_minor": 0
      },
      "text/plain": [
       "  0%|          | 0/16 [00:00<?, ?it/s]"
      ]
     },
     "metadata": {},
     "output_type": "display_data"
    },
    {
     "name": "stdout",
     "output_type": "stream",
     "text": [
      "\n",
      "                    Epoch: 532 / 1000 \n",
      "                    | Train Loss: 0.17500531463883817 \n",
      "                    | Train Dice Accuracy: 0.9639518068682763 \n",
      "                    | Test Dice Accuracy: 0.9414529138141208\n",
      "                \n"
     ]
    },
    {
     "data": {
      "application/vnd.jupyter.widget-view+json": {
       "model_id": "c7080c9af6c9420ea7f95a625d6a7b7c",
       "version_major": 2,
       "version_minor": 0
      },
      "text/plain": [
       "  0%|          | 0/16 [00:00<?, ?it/s]"
      ]
     },
     "metadata": {},
     "output_type": "display_data"
    },
    {
     "name": "stdout",
     "output_type": "stream",
     "text": [
      "\n",
      "                Epoch: 533 / 1000 \n",
      "                | Train Loss: 0.16725036478601396 \n",
      "                | Train Dice Accuracy: 0.9590913100874043 \n",
      "            \n"
     ]
    },
    {
     "data": {
      "application/vnd.jupyter.widget-view+json": {
       "model_id": "ae590fde3a0d49248c730123a5066ad3",
       "version_major": 2,
       "version_minor": 0
      },
      "text/plain": [
       "  0%|          | 0/16 [00:00<?, ?it/s]"
      ]
     },
     "metadata": {},
     "output_type": "display_data"
    },
    {
     "name": "stdout",
     "output_type": "stream",
     "text": [
      "\n",
      "                    Epoch: 534 / 1000 \n",
      "                    | Train Loss: 0.19900800427421927 \n",
      "                    | Train Dice Accuracy: 0.9597618371810553 \n",
      "                    | Test Dice Accuracy: 0.9127501183085971\n",
      "                \n"
     ]
    },
    {
     "data": {
      "application/vnd.jupyter.widget-view+json": {
       "model_id": "a3ecd966ce794b98a12b110d7a8f9c07",
       "version_major": 2,
       "version_minor": 0
      },
      "text/plain": [
       "  0%|          | 0/16 [00:00<?, ?it/s]"
      ]
     },
     "metadata": {},
     "output_type": "display_data"
    },
    {
     "name": "stdout",
     "output_type": "stream",
     "text": [
      "\n",
      "                Epoch: 535 / 1000 \n",
      "                | Train Loss: 0.15270722471177578 \n",
      "                | Train Dice Accuracy: 0.9640970481350818 \n",
      "            \n"
     ]
    },
    {
     "data": {
      "application/vnd.jupyter.widget-view+json": {
       "model_id": "98260630da6945e2804841775b0480ed",
       "version_major": 2,
       "version_minor": 0
      },
      "text/plain": [
       "  0%|          | 0/16 [00:00<?, ?it/s]"
      ]
     },
     "metadata": {},
     "output_type": "display_data"
    },
    {
     "name": "stdout",
     "output_type": "stream",
     "text": [
      "\n",
      "                    Epoch: 536 / 1000 \n",
      "                    | Train Loss: 0.21124003105796874 \n",
      "                    | Train Dice Accuracy: 0.9706758008998575 \n",
      "                    | Test Dice Accuracy: 0.9399080408944024\n",
      "                \n"
     ]
    },
    {
     "data": {
      "application/vnd.jupyter.widget-view+json": {
       "model_id": "1aa399adb6f744f1a58abd1d7aee3cc2",
       "version_major": 2,
       "version_minor": 0
      },
      "text/plain": [
       "  0%|          | 0/16 [00:00<?, ?it/s]"
      ]
     },
     "metadata": {},
     "output_type": "display_data"
    },
    {
     "name": "stdout",
     "output_type": "stream",
     "text": [
      "\n",
      "                Epoch: 537 / 1000 \n",
      "                | Train Loss: 0.17261889297515154 \n",
      "                | Train Dice Accuracy: 0.9684081450104713 \n",
      "            \n"
     ]
    },
    {
     "data": {
      "application/vnd.jupyter.widget-view+json": {
       "model_id": "d2eaaa50faa64abc8f9d4768e63cfd91",
       "version_major": 2,
       "version_minor": 0
      },
      "text/plain": [
       "  0%|          | 0/16 [00:00<?, ?it/s]"
      ]
     },
     "metadata": {},
     "output_type": "display_data"
    },
    {
     "name": "stdout",
     "output_type": "stream",
     "text": [
      "\n",
      "                    Epoch: 538 / 1000 \n",
      "                    | Train Loss: 0.18260634131729603 \n",
      "                    | Train Dice Accuracy: 0.9650612096453822 \n",
      "                    | Test Dice Accuracy: 0.9480870366096497\n",
      "                \n"
     ]
    },
    {
     "data": {
      "application/vnd.jupyter.widget-view+json": {
       "model_id": "8d66f8c8522746b4a1ae820b22ca030c",
       "version_major": 2,
       "version_minor": 0
      },
      "text/plain": [
       "  0%|          | 0/16 [00:00<?, ?it/s]"
      ]
     },
     "metadata": {},
     "output_type": "display_data"
    },
    {
     "name": "stdout",
     "output_type": "stream",
     "text": [
      "\n",
      "                Epoch: 539 / 1000 \n",
      "                | Train Loss: 0.20657757995650172 \n",
      "                | Train Dice Accuracy: 0.9716704764227936 \n",
      "            \n"
     ]
    },
    {
     "data": {
      "application/vnd.jupyter.widget-view+json": {
       "model_id": "fbbd0304a5884159bf36e83b4a0ec048",
       "version_major": 2,
       "version_minor": 0
      },
      "text/plain": [
       "  0%|          | 0/16 [00:00<?, ?it/s]"
      ]
     },
     "metadata": {},
     "output_type": "display_data"
    },
    {
     "name": "stdout",
     "output_type": "stream",
     "text": [
      "\n",
      "                    Epoch: 540 / 1000 \n",
      "                    | Train Loss: 0.15943485731258988 \n",
      "                    | Train Dice Accuracy: 0.9667978048324585 \n",
      "                    | Test Dice Accuracy: 0.9471807281176249\n",
      "                \n"
     ]
    },
    {
     "data": {
      "application/vnd.jupyter.widget-view+json": {
       "model_id": "f8f147b05bca4d2c8a919332f788679a",
       "version_major": 2,
       "version_minor": 0
      },
      "text/plain": [
       "  0%|          | 0/16 [00:00<?, ?it/s]"
      ]
     },
     "metadata": {},
     "output_type": "display_data"
    },
    {
     "name": "stdout",
     "output_type": "stream",
     "text": [
      "\n",
      "                Epoch: 541 / 1000 \n",
      "                | Train Loss: 0.1650552717037499 \n",
      "                | Train Dice Accuracy: 0.962972389567982 \n",
      "            \n"
     ]
    },
    {
     "data": {
      "application/vnd.jupyter.widget-view+json": {
       "model_id": "da0a9d9f07304e66b921342ed192d0d5",
       "version_major": 2,
       "version_minor": 0
      },
      "text/plain": [
       "  0%|          | 0/16 [00:00<?, ?it/s]"
      ]
     },
     "metadata": {},
     "output_type": "display_data"
    },
    {
     "name": "stdout",
     "output_type": "stream",
     "text": [
      "\n",
      "                    Epoch: 542 / 1000 \n",
      "                    | Train Loss: 0.17156065069139004 \n",
      "                    | Train Dice Accuracy: 0.9677815720232951 \n",
      "                    | Test Dice Accuracy: 0.9308394723468356\n",
      "                \n"
     ]
    },
    {
     "data": {
      "application/vnd.jupyter.widget-view+json": {
       "model_id": "36c1cd36ec674818abf71c92fa5cfeea",
       "version_major": 2,
       "version_minor": 0
      },
      "text/plain": [
       "  0%|          | 0/16 [00:00<?, ?it/s]"
      ]
     },
     "metadata": {},
     "output_type": "display_data"
    },
    {
     "name": "stdout",
     "output_type": "stream",
     "text": [
      "\n",
      "                Epoch: 543 / 1000 \n",
      "                | Train Loss: 0.21806682599708438 \n",
      "                | Train Dice Accuracy: 0.9590188422455237 \n",
      "            \n"
     ]
    },
    {
     "data": {
      "application/vnd.jupyter.widget-view+json": {
       "model_id": "c2b2202d36184e13af0d659c63497b02",
       "version_major": 2,
       "version_minor": 0
      },
      "text/plain": [
       "  0%|          | 0/16 [00:00<?, ?it/s]"
      ]
     },
     "metadata": {},
     "output_type": "display_data"
    },
    {
     "name": "stdout",
     "output_type": "stream",
     "text": [
      "\n",
      "                    Epoch: 544 / 1000 \n",
      "                    | Train Loss: 0.17767767561599612 \n",
      "                    | Train Dice Accuracy: 0.9537797674126581 \n",
      "                    | Test Dice Accuracy: 0.8121788501739502\n",
      "                \n"
     ]
    },
    {
     "data": {
      "application/vnd.jupyter.widget-view+json": {
       "model_id": "22f80a60f5e047e9abee94e0aec63a25",
       "version_major": 2,
       "version_minor": 0
      },
      "text/plain": [
       "  0%|          | 0/16 [00:00<?, ?it/s]"
      ]
     },
     "metadata": {},
     "output_type": "display_data"
    },
    {
     "name": "stdout",
     "output_type": "stream",
     "text": [
      "\n",
      "                Epoch: 545 / 1000 \n",
      "                | Train Loss: 0.1737073790282011 \n",
      "                | Train Dice Accuracy: 0.9603084336777437 \n",
      "            \n"
     ]
    },
    {
     "data": {
      "application/vnd.jupyter.widget-view+json": {
       "model_id": "851bc24913084d6ebea85e1ee676a4ad",
       "version_major": 2,
       "version_minor": 0
      },
      "text/plain": [
       "  0%|          | 0/16 [00:00<?, ?it/s]"
      ]
     },
     "metadata": {},
     "output_type": "display_data"
    },
    {
     "name": "stdout",
     "output_type": "stream",
     "text": [
      "\n",
      "                    Epoch: 546 / 1000 \n",
      "                    | Train Loss: 0.16569908731617033 \n",
      "                    | Train Dice Accuracy: 0.9609039344199716 \n",
      "                    | Test Dice Accuracy: 0.9471205671628317\n",
      "                \n"
     ]
    },
    {
     "data": {
      "application/vnd.jupyter.widget-view+json": {
       "model_id": "f019191548bf4254b24d30fb214bad8d",
       "version_major": 2,
       "version_minor": 0
      },
      "text/plain": [
       "  0%|          | 0/16 [00:00<?, ?it/s]"
      ]
     },
     "metadata": {},
     "output_type": "display_data"
    },
    {
     "name": "stdout",
     "output_type": "stream",
     "text": [
      "\n",
      "                Epoch: 547 / 1000 \n",
      "                | Train Loss: 0.20748597662895918 \n",
      "                | Train Dice Accuracy: 0.9656852294619267 \n",
      "            \n"
     ]
    },
    {
     "data": {
      "application/vnd.jupyter.widget-view+json": {
       "model_id": "e0e300d756ee4e40bca9e92aeb9ba5f1",
       "version_major": 2,
       "version_minor": 0
      },
      "text/plain": [
       "  0%|          | 0/16 [00:00<?, ?it/s]"
      ]
     },
     "metadata": {},
     "output_type": "display_data"
    },
    {
     "name": "stdout",
     "output_type": "stream",
     "text": [
      "\n",
      "                    Epoch: 548 / 1000 \n",
      "                    | Train Loss: 0.17826285888440907 \n",
      "                    | Train Dice Accuracy: 0.9675353125084278 \n",
      "                    | Test Dice Accuracy: 0.945442001024882\n",
      "                \n"
     ]
    },
    {
     "data": {
      "application/vnd.jupyter.widget-view+json": {
       "model_id": "ac7147d858e84bdd9d101dae7096f776",
       "version_major": 2,
       "version_minor": 0
      },
      "text/plain": [
       "  0%|          | 0/16 [00:00<?, ?it/s]"
      ]
     },
     "metadata": {},
     "output_type": "display_data"
    },
    {
     "name": "stdout",
     "output_type": "stream",
     "text": [
      "\n",
      "                Epoch: 549 / 1000 \n",
      "                | Train Loss: 0.16808062279596925 \n",
      "                | Train Dice Accuracy: 0.9612083821536199 \n",
      "            \n"
     ]
    },
    {
     "data": {
      "application/vnd.jupyter.widget-view+json": {
       "model_id": "d4e28291abe442bb9cbd42a337440638",
       "version_major": 2,
       "version_minor": 0
      },
      "text/plain": [
       "  0%|          | 0/16 [00:00<?, ?it/s]"
      ]
     },
     "metadata": {},
     "output_type": "display_data"
    },
    {
     "name": "stdout",
     "output_type": "stream",
     "text": [
      "\n",
      "                    Epoch: 550 / 1000 \n",
      "                    | Train Loss: 0.1765280836261809 \n",
      "                    | Train Dice Accuracy: 0.965144151614772 \n",
      "                    | Test Dice Accuracy: 0.9466002914640639\n",
      "                \n"
     ]
    },
    {
     "data": {
      "application/vnd.jupyter.widget-view+json": {
       "model_id": "0287b654ecf746f6a2724f5468ccf1d4",
       "version_major": 2,
       "version_minor": 0
      },
      "text/plain": [
       "  0%|          | 0/16 [00:00<?, ?it/s]"
      ]
     },
     "metadata": {},
     "output_type": "display_data"
    },
    {
     "name": "stdout",
     "output_type": "stream",
     "text": [
      "\n",
      "                Epoch: 551 / 1000 \n",
      "                | Train Loss: 0.19503686111420393 \n",
      "                | Train Dice Accuracy: 0.9621405635399841 \n",
      "            \n"
     ]
    },
    {
     "data": {
      "application/vnd.jupyter.widget-view+json": {
       "model_id": "635fc64621034a698884a4123c6717a9",
       "version_major": 2,
       "version_minor": 0
      },
      "text/plain": [
       "  0%|          | 0/16 [00:00<?, ?it/s]"
      ]
     },
     "metadata": {},
     "output_type": "display_data"
    },
    {
     "name": "stdout",
     "output_type": "stream",
     "text": [
      "\n",
      "                    Epoch: 552 / 1000 \n",
      "                    | Train Loss: 0.16816982859745622 \n",
      "                    | Train Dice Accuracy: 0.970383982229892 \n",
      "                    | Test Dice Accuracy: 0.9478505849838257\n",
      "                \n"
     ]
    },
    {
     "data": {
      "application/vnd.jupyter.widget-view+json": {
       "model_id": "00ba1805cae34e9a847737385c96c241",
       "version_major": 2,
       "version_minor": 0
      },
      "text/plain": [
       "  0%|          | 0/16 [00:00<?, ?it/s]"
      ]
     },
     "metadata": {},
     "output_type": "display_data"
    },
    {
     "name": "stdout",
     "output_type": "stream",
     "text": [
      "\n",
      "                Epoch: 553 / 1000 \n",
      "                | Train Loss: 0.16625514114275575 \n",
      "                | Train Dice Accuracy: 0.9625289720487377 \n",
      "            \n"
     ]
    },
    {
     "data": {
      "application/vnd.jupyter.widget-view+json": {
       "model_id": "0cc2a1bb1c2245f7a29f23061830d7b5",
       "version_major": 2,
       "version_minor": 0
      },
      "text/plain": [
       "  0%|          | 0/16 [00:00<?, ?it/s]"
      ]
     },
     "metadata": {},
     "output_type": "display_data"
    },
    {
     "name": "stdout",
     "output_type": "stream",
     "text": [
      "\n",
      "                    Epoch: 554 / 1000 \n",
      "                    | Train Loss: 0.1758215711452067 \n",
      "                    | Train Dice Accuracy: 0.970603833087655 \n",
      "                    | Test Dice Accuracy: 0.9478614727656046\n",
      "                \n"
     ]
    },
    {
     "data": {
      "application/vnd.jupyter.widget-view+json": {
       "model_id": "7cc7bc9d28414ecc91903f7c24d29bca",
       "version_major": 2,
       "version_minor": 0
      },
      "text/plain": [
       "  0%|          | 0/16 [00:00<?, ?it/s]"
      ]
     },
     "metadata": {},
     "output_type": "display_data"
    },
    {
     "name": "stdout",
     "output_type": "stream",
     "text": [
      "\n",
      "                Epoch: 555 / 1000 \n",
      "                | Train Loss: 0.191494187572971 \n",
      "                | Train Dice Accuracy: 0.9699918461071937 \n",
      "            \n"
     ]
    },
    {
     "data": {
      "application/vnd.jupyter.widget-view+json": {
       "model_id": "4390bd3c9f1b44a8b3b96d846d2d20d7",
       "version_major": 2,
       "version_minor": 0
      },
      "text/plain": [
       "  0%|          | 0/16 [00:00<?, ?it/s]"
      ]
     },
     "metadata": {},
     "output_type": "display_data"
    },
    {
     "name": "stdout",
     "output_type": "stream",
     "text": [
      "\n",
      "                    Epoch: 556 / 1000 \n",
      "                    | Train Loss: 0.1630264357663691 \n",
      "                    | Train Dice Accuracy: 0.9732569125267344 \n",
      "                    | Test Dice Accuracy: 0.9500973357094659\n",
      "                \n"
     ]
    },
    {
     "data": {
      "application/vnd.jupyter.widget-view+json": {
       "model_id": "a69db6444109439995f62fc6cd11491d",
       "version_major": 2,
       "version_minor": 0
      },
      "text/plain": [
       "  0%|          | 0/16 [00:00<?, ?it/s]"
      ]
     },
     "metadata": {},
     "output_type": "display_data"
    },
    {
     "name": "stdout",
     "output_type": "stream",
     "text": [
      "\n",
      "                Epoch: 557 / 1000 \n",
      "                | Train Loss: 0.14903864287771285 \n",
      "                | Train Dice Accuracy: 0.9587707548801389 \n",
      "            \n"
     ]
    },
    {
     "data": {
      "application/vnd.jupyter.widget-view+json": {
       "model_id": "041631bc069442d1bc669225ffd91925",
       "version_major": 2,
       "version_minor": 0
      },
      "text/plain": [
       "  0%|          | 0/16 [00:00<?, ?it/s]"
      ]
     },
     "metadata": {},
     "output_type": "display_data"
    },
    {
     "name": "stdout",
     "output_type": "stream",
     "text": [
      "\n",
      "                    Epoch: 558 / 1000 \n",
      "                    | Train Loss: 0.1733395541086793 \n",
      "                    | Train Dice Accuracy: 0.960633759651709 \n",
      "                    | Test Dice Accuracy: 0.9297490980890062\n",
      "                \n"
     ]
    },
    {
     "data": {
      "application/vnd.jupyter.widget-view+json": {
       "model_id": "562488a88ee042da9ec6e7eea72e0f8c",
       "version_major": 2,
       "version_minor": 0
      },
      "text/plain": [
       "  0%|          | 0/16 [00:00<?, ?it/s]"
      ]
     },
     "metadata": {},
     "output_type": "display_data"
    },
    {
     "name": "stdout",
     "output_type": "stream",
     "text": [
      "\n",
      "                Epoch: 559 / 1000 \n",
      "                | Train Loss: 0.19539793953299522 \n",
      "                | Train Dice Accuracy: 0.9591473866746111 \n",
      "            \n"
     ]
    },
    {
     "data": {
      "application/vnd.jupyter.widget-view+json": {
       "model_id": "e19f83e19eb24721bf007773a6deb0ac",
       "version_major": 2,
       "version_minor": 0
      },
      "text/plain": [
       "  0%|          | 0/16 [00:00<?, ?it/s]"
      ]
     },
     "metadata": {},
     "output_type": "display_data"
    },
    {
     "name": "stdout",
     "output_type": "stream",
     "text": [
      "\n",
      "                    Epoch: 560 / 1000 \n",
      "                    | Train Loss: 0.14965932979248464 \n",
      "                    | Train Dice Accuracy: 0.9703497516142355 \n",
      "                    | Test Dice Accuracy: 0.9420399202240838\n",
      "                \n"
     ]
    },
    {
     "data": {
      "application/vnd.jupyter.widget-view+json": {
       "model_id": "730a0d8831dc494695aa6da9d3cffb26",
       "version_major": 2,
       "version_minor": 0
      },
      "text/plain": [
       "  0%|          | 0/16 [00:00<?, ?it/s]"
      ]
     },
     "metadata": {},
     "output_type": "display_data"
    },
    {
     "name": "stdout",
     "output_type": "stream",
     "text": [
      "\n",
      "                Epoch: 561 / 1000 \n",
      "                | Train Loss: 0.16854040161706507 \n",
      "                | Train Dice Accuracy: 0.9715457110910372 \n",
      "            \n"
     ]
    },
    {
     "data": {
      "application/vnd.jupyter.widget-view+json": {
       "model_id": "f47a7ca5ab20406f81a1dc10ab45f1bb",
       "version_major": 2,
       "version_minor": 0
      },
      "text/plain": [
       "  0%|          | 0/16 [00:00<?, ?it/s]"
      ]
     },
     "metadata": {},
     "output_type": "display_data"
    },
    {
     "name": "stdout",
     "output_type": "stream",
     "text": [
      "\n",
      "                    Epoch: 562 / 1000 \n",
      "                    | Train Loss: 0.14182280376553535 \n",
      "                    | Train Dice Accuracy: 0.9690522391881261 \n",
      "                    | Test Dice Accuracy: 0.9460441337691413\n",
      "                \n"
     ]
    },
    {
     "data": {
      "application/vnd.jupyter.widget-view+json": {
       "model_id": "fcdffac7cb90445191c2096a9ab50717",
       "version_major": 2,
       "version_minor": 0
      },
      "text/plain": [
       "  0%|          | 0/16 [00:00<?, ?it/s]"
      ]
     },
     "metadata": {},
     "output_type": "display_data"
    },
    {
     "name": "stdout",
     "output_type": "stream",
     "text": [
      "\n",
      "                Epoch: 563 / 1000 \n",
      "                | Train Loss: 0.16910532023757696 \n",
      "                | Train Dice Accuracy: 0.9684734061566366 \n",
      "            \n"
     ]
    },
    {
     "data": {
      "application/vnd.jupyter.widget-view+json": {
       "model_id": "f4a4f2063fa542078840e696e4647738",
       "version_major": 2,
       "version_minor": 0
      },
      "text/plain": [
       "  0%|          | 0/16 [00:00<?, ?it/s]"
      ]
     },
     "metadata": {},
     "output_type": "display_data"
    },
    {
     "name": "stdout",
     "output_type": "stream",
     "text": [
      "\n",
      "                    Epoch: 564 / 1000 \n",
      "                    | Train Loss: 0.14501543203368783 \n",
      "                    | Train Dice Accuracy: 0.9618747939003839 \n",
      "                    | Test Dice Accuracy: 0.9489915635850694\n",
      "                \n"
     ]
    },
    {
     "data": {
      "application/vnd.jupyter.widget-view+json": {
       "model_id": "07eed43404af4e2abdc553457d8326d6",
       "version_major": 2,
       "version_minor": 0
      },
      "text/plain": [
       "  0%|          | 0/16 [00:00<?, ?it/s]"
      ]
     },
     "metadata": {},
     "output_type": "display_data"
    },
    {
     "name": "stdout",
     "output_type": "stream",
     "text": [
      "\n",
      "                Epoch: 565 / 1000 \n",
      "                | Train Loss: 0.19397135265171528 \n",
      "                | Train Dice Accuracy: 0.9624818434737658 \n",
      "            \n"
     ]
    },
    {
     "data": {
      "application/vnd.jupyter.widget-view+json": {
       "model_id": "67990bcf914b48d08d47b6be370b33ad",
       "version_major": 2,
       "version_minor": 0
      },
      "text/plain": [
       "  0%|          | 0/16 [00:00<?, ?it/s]"
      ]
     },
     "metadata": {},
     "output_type": "display_data"
    },
    {
     "name": "stdout",
     "output_type": "stream",
     "text": [
      "saved new best spleen metric model\n",
      "\n",
      "                    Epoch: 566 / 1000 \n",
      "                    | Train Loss: 0.17617737804539502 \n",
      "                    | Train Dice Accuracy: 0.9693332916082338 \n",
      "                    | Test Dice Accuracy: 0.950485799047682\n",
      "                \n"
     ]
    },
    {
     "data": {
      "application/vnd.jupyter.widget-view+json": {
       "model_id": "79c3f46a2ae5418c93f2ed3e6013c0f3",
       "version_major": 2,
       "version_minor": 0
      },
      "text/plain": [
       "  0%|          | 0/16 [00:00<?, ?it/s]"
      ]
     },
     "metadata": {},
     "output_type": "display_data"
    },
    {
     "name": "stdout",
     "output_type": "stream",
     "text": [
      "\n",
      "                Epoch: 567 / 1000 \n",
      "                | Train Loss: 0.19163933442905545 \n",
      "                | Train Dice Accuracy: 0.9582889387865021 \n",
      "            \n"
     ]
    },
    {
     "data": {
      "application/vnd.jupyter.widget-view+json": {
       "model_id": "1957877aed5c4f2e8ac3b4501879f198",
       "version_major": 2,
       "version_minor": 0
      },
      "text/plain": [
       "  0%|          | 0/16 [00:00<?, ?it/s]"
      ]
     },
     "metadata": {},
     "output_type": "display_data"
    },
    {
     "name": "stdout",
     "output_type": "stream",
     "text": [
      "\n",
      "                    Epoch: 568 / 1000 \n",
      "                    | Train Loss: 0.1934975702315569 \n",
      "                    | Train Dice Accuracy: 0.9562677994509724 \n",
      "                    | Test Dice Accuracy: 0.7802759144041274\n",
      "                \n"
     ]
    },
    {
     "data": {
      "application/vnd.jupyter.widget-view+json": {
       "model_id": "e7eff275b91f442695fb267015e0e34a",
       "version_major": 2,
       "version_minor": 0
      },
      "text/plain": [
       "  0%|          | 0/16 [00:00<?, ?it/s]"
      ]
     },
     "metadata": {},
     "output_type": "display_data"
    },
    {
     "name": "stdout",
     "output_type": "stream",
     "text": [
      "\n",
      "                Epoch: 569 / 1000 \n",
      "                | Train Loss: 0.16076155635528266 \n",
      "                | Train Dice Accuracy: 0.9657187442887913 \n",
      "            \n"
     ]
    },
    {
     "data": {
      "application/vnd.jupyter.widget-view+json": {
       "model_id": "682278f5fa3542c7911c4efe60cba582",
       "version_major": 2,
       "version_minor": 0
      },
      "text/plain": [
       "  0%|          | 0/16 [00:00<?, ?it/s]"
      ]
     },
     "metadata": {},
     "output_type": "display_data"
    },
    {
     "name": "stdout",
     "output_type": "stream",
     "text": [
      "\n",
      "                    Epoch: 570 / 1000 \n",
      "                    | Train Loss: 0.1699969070032239 \n",
      "                    | Train Dice Accuracy: 0.965702283492286 \n",
      "                    | Test Dice Accuracy: 0.8906721803877089\n",
      "                \n"
     ]
    },
    {
     "data": {
      "application/vnd.jupyter.widget-view+json": {
       "model_id": "74a4ab7d0d7e49459507ef1f178a299c",
       "version_major": 2,
       "version_minor": 0
      },
      "text/plain": [
       "  0%|          | 0/16 [00:00<?, ?it/s]"
      ]
     },
     "metadata": {},
     "output_type": "display_data"
    },
    {
     "name": "stdout",
     "output_type": "stream",
     "text": [
      "\n",
      "                Epoch: 571 / 1000 \n",
      "                | Train Loss: 0.1663692204747349 \n",
      "                | Train Dice Accuracy: 0.9670153675823037 \n",
      "            \n"
     ]
    },
    {
     "data": {
      "application/vnd.jupyter.widget-view+json": {
       "model_id": "925c068d7e624315a8648bbfef1987eb",
       "version_major": 2,
       "version_minor": 0
      },
      "text/plain": [
       "  0%|          | 0/16 [00:00<?, ?it/s]"
      ]
     },
     "metadata": {},
     "output_type": "display_data"
    },
    {
     "name": "stdout",
     "output_type": "stream",
     "text": [
      "\n",
      "                    Epoch: 572 / 1000 \n",
      "                    | Train Loss: 0.18143199617043138 \n",
      "                    | Train Dice Accuracy: 0.9665747997372649 \n",
      "                    | Test Dice Accuracy: 0.9233405656284757\n",
      "                \n"
     ]
    },
    {
     "data": {
      "application/vnd.jupyter.widget-view+json": {
       "model_id": "50fd9311b335468f8ec154d809f6ed92",
       "version_major": 2,
       "version_minor": 0
      },
      "text/plain": [
       "  0%|          | 0/16 [00:00<?, ?it/s]"
      ]
     },
     "metadata": {},
     "output_type": "display_data"
    },
    {
     "name": "stdout",
     "output_type": "stream",
     "text": [
      "\n",
      "                Epoch: 573 / 1000 \n",
      "                | Train Loss: 0.17816636757925153 \n",
      "                | Train Dice Accuracy: 0.9683513214421827 \n",
      "            \n"
     ]
    },
    {
     "data": {
      "application/vnd.jupyter.widget-view+json": {
       "model_id": "7161171646064d1980496721213a571d",
       "version_major": 2,
       "version_minor": 0
      },
      "text/plain": [
       "  0%|          | 0/16 [00:00<?, ?it/s]"
      ]
     },
     "metadata": {},
     "output_type": "display_data"
    },
    {
     "name": "stdout",
     "output_type": "stream",
     "text": [
      "\n",
      "                    Epoch: 574 / 1000 \n",
      "                    | Train Loss: 0.17316744872368872 \n",
      "                    | Train Dice Accuracy: 0.9641190390982386 \n",
      "                    | Test Dice Accuracy: 0.9252720342742072\n",
      "                \n"
     ]
    },
    {
     "data": {
      "application/vnd.jupyter.widget-view+json": {
       "model_id": "60a353398de845768523be9ea7116eb9",
       "version_major": 2,
       "version_minor": 0
      },
      "text/plain": [
       "  0%|          | 0/16 [00:00<?, ?it/s]"
      ]
     },
     "metadata": {},
     "output_type": "display_data"
    },
    {
     "name": "stdout",
     "output_type": "stream",
     "text": [
      "\n",
      "                Epoch: 575 / 1000 \n",
      "                | Train Loss: 0.1792538883164525 \n",
      "                | Train Dice Accuracy: 0.9701291325493394 \n",
      "            \n"
     ]
    },
    {
     "data": {
      "application/vnd.jupyter.widget-view+json": {
       "model_id": "2d2870dc9d6249d79236daa640ba1691",
       "version_major": 2,
       "version_minor": 0
      },
      "text/plain": [
       "  0%|          | 0/16 [00:00<?, ?it/s]"
      ]
     },
     "metadata": {},
     "output_type": "display_data"
    },
    {
     "name": "stdout",
     "output_type": "stream",
     "text": [
      "\n",
      "                    Epoch: 576 / 1000 \n",
      "                    | Train Loss: 0.1375903100706637 \n",
      "                    | Train Dice Accuracy: 0.9660714247585398 \n",
      "                    | Test Dice Accuracy: 0.9354972574445937\n",
      "                \n"
     ]
    },
    {
     "data": {
      "application/vnd.jupyter.widget-view+json": {
       "model_id": "15b12c7c08e44a6d819f97abf42ce48b",
       "version_major": 2,
       "version_minor": 0
      },
      "text/plain": [
       "  0%|          | 0/16 [00:00<?, ?it/s]"
      ]
     },
     "metadata": {},
     "output_type": "display_data"
    },
    {
     "name": "stdout",
     "output_type": "stream",
     "text": [
      "\n",
      "                Epoch: 577 / 1000 \n",
      "                | Train Loss: 0.20014474913477898 \n",
      "                | Train Dice Accuracy: 0.9606122498828653 \n",
      "            \n"
     ]
    },
    {
     "data": {
      "application/vnd.jupyter.widget-view+json": {
       "model_id": "cb1b7f50a5db4957b28198ba12a0aa27",
       "version_major": 2,
       "version_minor": 0
      },
      "text/plain": [
       "  0%|          | 0/16 [00:00<?, ?it/s]"
      ]
     },
     "metadata": {},
     "output_type": "display_data"
    },
    {
     "name": "stdout",
     "output_type": "stream",
     "text": [
      "\n",
      "                    Epoch: 578 / 1000 \n",
      "                    | Train Loss: 0.16347500029951334 \n",
      "                    | Train Dice Accuracy: 0.9681424482228005 \n",
      "                    | Test Dice Accuracy: 0.9394814040925767\n",
      "                \n"
     ]
    },
    {
     "data": {
      "application/vnd.jupyter.widget-view+json": {
       "model_id": "4b9edc66f4814c459081d73464004848",
       "version_major": 2,
       "version_minor": 0
      },
      "text/plain": [
       "  0%|          | 0/16 [00:00<?, ?it/s]"
      ]
     },
     "metadata": {},
     "output_type": "display_data"
    },
    {
     "name": "stdout",
     "output_type": "stream",
     "text": [
      "\n",
      "                Epoch: 579 / 1000 \n",
      "                | Train Loss: 0.20084054861217737 \n",
      "                | Train Dice Accuracy: 0.9622766548678988 \n",
      "            \n"
     ]
    },
    {
     "data": {
      "application/vnd.jupyter.widget-view+json": {
       "model_id": "ba2e9e311eed47d5923a835057bd2715",
       "version_major": 2,
       "version_minor": 0
      },
      "text/plain": [
       "  0%|          | 0/16 [00:00<?, ?it/s]"
      ]
     },
     "metadata": {},
     "output_type": "display_data"
    },
    {
     "name": "stdout",
     "output_type": "stream",
     "text": [
      "\n",
      "                    Epoch: 580 / 1000 \n",
      "                    | Train Loss: 0.15688082645647228 \n",
      "                    | Train Dice Accuracy: 0.9706237703561783 \n",
      "                    | Test Dice Accuracy: 0.9384599791632758\n",
      "                \n"
     ]
    },
    {
     "data": {
      "application/vnd.jupyter.widget-view+json": {
       "model_id": "7d619561612f4d618d67331dbad84b66",
       "version_major": 2,
       "version_minor": 0
      },
      "text/plain": [
       "  0%|          | 0/16 [00:00<?, ?it/s]"
      ]
     },
     "metadata": {},
     "output_type": "display_data"
    },
    {
     "name": "stdout",
     "output_type": "stream",
     "text": [
      "\n",
      "                Epoch: 581 / 1000 \n",
      "                | Train Loss: 0.1837846301496029 \n",
      "                | Train Dice Accuracy: 0.9531003865778171 \n",
      "            \n"
     ]
    },
    {
     "data": {
      "application/vnd.jupyter.widget-view+json": {
       "model_id": "46cda3cef00f4ea2b7ce4cf9d6a070fa",
       "version_major": 2,
       "version_minor": 0
      },
      "text/plain": [
       "  0%|          | 0/16 [00:00<?, ?it/s]"
      ]
     },
     "metadata": {},
     "output_type": "display_data"
    },
    {
     "name": "stdout",
     "output_type": "stream",
     "text": [
      "\n",
      "                    Epoch: 582 / 1000 \n",
      "                    | Train Loss: 0.1278309461195022 \n",
      "                    | Train Dice Accuracy: 0.9678082405997995 \n",
      "                    | Test Dice Accuracy: 0.9475622375806173\n",
      "                \n"
     ]
    },
    {
     "data": {
      "application/vnd.jupyter.widget-view+json": {
       "model_id": "a3800c5a7eda468484cd890d981096b6",
       "version_major": 2,
       "version_minor": 0
      },
      "text/plain": [
       "  0%|          | 0/16 [00:00<?, ?it/s]"
      ]
     },
     "metadata": {},
     "output_type": "display_data"
    },
    {
     "name": "stdout",
     "output_type": "stream",
     "text": [
      "\n",
      "                Epoch: 583 / 1000 \n",
      "                | Train Loss: 0.1721878293901682 \n",
      "                | Train Dice Accuracy: 0.9686418631010585 \n",
      "            \n"
     ]
    },
    {
     "data": {
      "application/vnd.jupyter.widget-view+json": {
       "model_id": "bfd5ac2c296846f58f30c65f3f8546a8",
       "version_major": 2,
       "version_minor": 0
      },
      "text/plain": [
       "  0%|          | 0/16 [00:00<?, ?it/s]"
      ]
     },
     "metadata": {},
     "output_type": "display_data"
    },
    {
     "name": "stdout",
     "output_type": "stream",
     "text": [
      "\n",
      "                    Epoch: 584 / 1000 \n",
      "                    | Train Loss: 0.17405344522558153 \n",
      "                    | Train Dice Accuracy: 0.9635116081633326 \n",
      "                    | Test Dice Accuracy: 0.9298604859246148\n",
      "                \n"
     ]
    },
    {
     "data": {
      "application/vnd.jupyter.widget-view+json": {
       "model_id": "e3b03ac87b874ca6a566560303e1fc9e",
       "version_major": 2,
       "version_minor": 0
      },
      "text/plain": [
       "  0%|          | 0/16 [00:00<?, ?it/s]"
      ]
     },
     "metadata": {},
     "output_type": "display_data"
    },
    {
     "name": "stdout",
     "output_type": "stream",
     "text": [
      "\n",
      "                Epoch: 585 / 1000 \n",
      "                | Train Loss: 0.13603890291415155 \n",
      "                | Train Dice Accuracy: 0.9640101851087756 \n",
      "            \n"
     ]
    },
    {
     "data": {
      "application/vnd.jupyter.widget-view+json": {
       "model_id": "31e1f884dd4f4ee5be70d4d0e1bc764e",
       "version_major": 2,
       "version_minor": 0
      },
      "text/plain": [
       "  0%|          | 0/16 [00:00<?, ?it/s]"
      ]
     },
     "metadata": {},
     "output_type": "display_data"
    },
    {
     "name": "stdout",
     "output_type": "stream",
     "text": [
      "\n",
      "                    Epoch: 586 / 1000 \n",
      "                    | Train Loss: 0.15660511702299118 \n",
      "                    | Train Dice Accuracy: 0.9712311013178392 \n",
      "                    | Test Dice Accuracy: 0.95019574297799\n",
      "                \n"
     ]
    },
    {
     "data": {
      "application/vnd.jupyter.widget-view+json": {
       "model_id": "9480637b2a5149bd95dd763cdc176995",
       "version_major": 2,
       "version_minor": 0
      },
      "text/plain": [
       "  0%|          | 0/16 [00:00<?, ?it/s]"
      ]
     },
     "metadata": {},
     "output_type": "display_data"
    },
    {
     "name": "stdout",
     "output_type": "stream",
     "text": [
      "\n",
      "                Epoch: 587 / 1000 \n",
      "                | Train Loss: 0.15481335227377713 \n",
      "                | Train Dice Accuracy: 0.9514535944908857 \n",
      "            \n"
     ]
    },
    {
     "data": {
      "application/vnd.jupyter.widget-view+json": {
       "model_id": "7a0256208d7243559436d4fd1b16c02b",
       "version_major": 2,
       "version_minor": 0
      },
      "text/plain": [
       "  0%|          | 0/16 [00:00<?, ?it/s]"
      ]
     },
     "metadata": {},
     "output_type": "display_data"
    },
    {
     "name": "stdout",
     "output_type": "stream",
     "text": [
      "\n",
      "                    Epoch: 588 / 1000 \n",
      "                    | Train Loss: 0.21204879833385348 \n",
      "                    | Train Dice Accuracy: 0.9676894111540711 \n",
      "                    | Test Dice Accuracy: 0.8846639196077982\n",
      "                \n"
     ]
    },
    {
     "data": {
      "application/vnd.jupyter.widget-view+json": {
       "model_id": "56456666015b4719881f3e8a86f5da68",
       "version_major": 2,
       "version_minor": 0
      },
      "text/plain": [
       "  0%|          | 0/16 [00:00<?, ?it/s]"
      ]
     },
     "metadata": {},
     "output_type": "display_data"
    },
    {
     "name": "stdout",
     "output_type": "stream",
     "text": [
      "\n",
      "                Epoch: 589 / 1000 \n",
      "                | Train Loss: 0.16720152320340276 \n",
      "                | Train Dice Accuracy: 0.9665914968066259 \n",
      "            \n"
     ]
    },
    {
     "data": {
      "application/vnd.jupyter.widget-view+json": {
       "model_id": "46013df88973457dbef9e4e26b52f462",
       "version_major": 2,
       "version_minor": 0
      },
      "text/plain": [
       "  0%|          | 0/16 [00:00<?, ?it/s]"
      ]
     },
     "metadata": {},
     "output_type": "display_data"
    },
    {
     "name": "stdout",
     "output_type": "stream",
     "text": [
      "\n",
      "                    Epoch: 590 / 1000 \n",
      "                    | Train Loss: 0.21487643430009484 \n",
      "                    | Train Dice Accuracy: 0.9605784891308218 \n",
      "                    | Test Dice Accuracy: 0.9347427421145968\n",
      "                \n"
     ]
    },
    {
     "data": {
      "application/vnd.jupyter.widget-view+json": {
       "model_id": "488b8ef3942c4af99f1388571657c422",
       "version_major": 2,
       "version_minor": 0
      },
      "text/plain": [
       "  0%|          | 0/16 [00:00<?, ?it/s]"
      ]
     },
     "metadata": {},
     "output_type": "display_data"
    },
    {
     "name": "stdout",
     "output_type": "stream",
     "text": [
      "\n",
      "                Epoch: 591 / 1000 \n",
      "                | Train Loss: 0.19577281503006816 \n",
      "                | Train Dice Accuracy: 0.9662114123503367 \n",
      "            \n"
     ]
    },
    {
     "data": {
      "application/vnd.jupyter.widget-view+json": {
       "model_id": "8f264d5316ec43abb5ccd8de68ef3b31",
       "version_major": 2,
       "version_minor": 0
      },
      "text/plain": [
       "  0%|          | 0/16 [00:00<?, ?it/s]"
      ]
     },
     "metadata": {},
     "output_type": "display_data"
    },
    {
     "name": "stdout",
     "output_type": "stream",
     "text": [
      "\n",
      "                    Epoch: 592 / 1000 \n",
      "                    | Train Loss: 0.19093923224136233 \n",
      "                    | Train Dice Accuracy: 0.9598327357444405 \n",
      "                    | Test Dice Accuracy: 0.9275844362046983\n",
      "                \n"
     ]
    },
    {
     "data": {
      "application/vnd.jupyter.widget-view+json": {
       "model_id": "154665bccdde4bd2b7ee891084133b35",
       "version_major": 2,
       "version_minor": 0
      },
      "text/plain": [
       "  0%|          | 0/16 [00:00<?, ?it/s]"
      ]
     },
     "metadata": {},
     "output_type": "display_data"
    },
    {
     "name": "stdout",
     "output_type": "stream",
     "text": [
      "\n",
      "                Epoch: 593 / 1000 \n",
      "                | Train Loss: 0.19570541800931096 \n",
      "                | Train Dice Accuracy: 0.9591308891210916 \n",
      "            \n"
     ]
    },
    {
     "data": {
      "application/vnd.jupyter.widget-view+json": {
       "model_id": "46ef523f8c4a4691966cb862aa64fb0c",
       "version_major": 2,
       "version_minor": 0
      },
      "text/plain": [
       "  0%|          | 0/16 [00:00<?, ?it/s]"
      ]
     },
     "metadata": {},
     "output_type": "display_data"
    },
    {
     "name": "stdout",
     "output_type": "stream",
     "text": [
      "\n",
      "                    Epoch: 594 / 1000 \n",
      "                    | Train Loss: 0.1533847996033728 \n",
      "                    | Train Dice Accuracy: 0.9599678128824106 \n",
      "                    | Test Dice Accuracy: 0.9337068597475687\n",
      "                \n"
     ]
    },
    {
     "data": {
      "application/vnd.jupyter.widget-view+json": {
       "model_id": "4ae8b564d4904db8bae35c60a6f73769",
       "version_major": 2,
       "version_minor": 0
      },
      "text/plain": [
       "  0%|          | 0/16 [00:00<?, ?it/s]"
      ]
     },
     "metadata": {},
     "output_type": "display_data"
    },
    {
     "name": "stdout",
     "output_type": "stream",
     "text": [
      "\n",
      "                Epoch: 595 / 1000 \n",
      "                | Train Loss: 0.18885949719697237 \n",
      "                | Train Dice Accuracy: 0.9660372387075649 \n",
      "            \n"
     ]
    },
    {
     "data": {
      "application/vnd.jupyter.widget-view+json": {
       "model_id": "3e1190b290af443ebe857446961f2258",
       "version_major": 2,
       "version_minor": 0
      },
      "text/plain": [
       "  0%|          | 0/16 [00:00<?, ?it/s]"
      ]
     },
     "metadata": {},
     "output_type": "display_data"
    },
    {
     "name": "stdout",
     "output_type": "stream",
     "text": [
      "\n",
      "                    Epoch: 596 / 1000 \n",
      "                    | Train Loss: 0.15430300682783127 \n",
      "                    | Train Dice Accuracy: 0.9628810369753623 \n",
      "                    | Test Dice Accuracy: 0.9405298431714376\n",
      "                \n"
     ]
    },
    {
     "data": {
      "application/vnd.jupyter.widget-view+json": {
       "model_id": "e172082e47e140269bbbdfa035cdadd4",
       "version_major": 2,
       "version_minor": 0
      },
      "text/plain": [
       "  0%|          | 0/16 [00:00<?, ?it/s]"
      ]
     },
     "metadata": {},
     "output_type": "display_data"
    },
    {
     "name": "stdout",
     "output_type": "stream",
     "text": [
      "\n",
      "                Epoch: 597 / 1000 \n",
      "                | Train Loss: 0.13377787289209664 \n",
      "                | Train Dice Accuracy: 0.9565102590744152 \n",
      "            \n"
     ]
    },
    {
     "data": {
      "application/vnd.jupyter.widget-view+json": {
       "model_id": "b727e716615f418292874bda0a679138",
       "version_major": 2,
       "version_minor": 0
      },
      "text/plain": [
       "  0%|          | 0/16 [00:00<?, ?it/s]"
      ]
     },
     "metadata": {},
     "output_type": "display_data"
    },
    {
     "name": "stdout",
     "output_type": "stream",
     "text": [
      "\n",
      "                    Epoch: 598 / 1000 \n",
      "                    | Train Loss: 0.16661199810914695 \n",
      "                    | Train Dice Accuracy: 0.9582900312393223 \n",
      "                    | Test Dice Accuracy: 0.9287386271688673\n",
      "                \n"
     ]
    },
    {
     "data": {
      "application/vnd.jupyter.widget-view+json": {
       "model_id": "6ba769a48fe241c282d1dd5ab979bda3",
       "version_major": 2,
       "version_minor": 0
      },
      "text/plain": [
       "  0%|          | 0/16 [00:00<?, ?it/s]"
      ]
     },
     "metadata": {},
     "output_type": "display_data"
    },
    {
     "name": "stdout",
     "output_type": "stream",
     "text": [
      "\n",
      "                Epoch: 599 / 1000 \n",
      "                | Train Loss: 0.17671303427778184 \n",
      "                | Train Dice Accuracy: 0.9650596646375434 \n",
      "            \n"
     ]
    },
    {
     "data": {
      "application/vnd.jupyter.widget-view+json": {
       "model_id": "918835dc8875400195441092f8cf6c19",
       "version_major": 2,
       "version_minor": 0
      },
      "text/plain": [
       "  0%|          | 0/16 [00:00<?, ?it/s]"
      ]
     },
     "metadata": {},
     "output_type": "display_data"
    },
    {
     "name": "stdout",
     "output_type": "stream",
     "text": [
      "\n",
      "                    Epoch: 600 / 1000 \n",
      "                    | Train Loss: 0.20087785180658102 \n",
      "                    | Train Dice Accuracy: 0.9710476980186425 \n",
      "                    | Test Dice Accuracy: 0.9409131937556796\n",
      "                \n"
     ]
    },
    {
     "data": {
      "application/vnd.jupyter.widget-view+json": {
       "model_id": "49496439a0b54517bddf15c644e159dd",
       "version_major": 2,
       "version_minor": 0
      },
      "text/plain": [
       "  0%|          | 0/16 [00:00<?, ?it/s]"
      ]
     },
     "metadata": {},
     "output_type": "display_data"
    },
    {
     "name": "stdout",
     "output_type": "stream",
     "text": [
      "\n",
      "                Epoch: 601 / 1000 \n",
      "                | Train Loss: 0.14636650867760181 \n",
      "                | Train Dice Accuracy: 0.9647066643727678 \n",
      "            \n"
     ]
    },
    {
     "data": {
      "application/vnd.jupyter.widget-view+json": {
       "model_id": "ff8cb7cbfc424be481bf178fa3c87579",
       "version_major": 2,
       "version_minor": 0
      },
      "text/plain": [
       "  0%|          | 0/16 [00:00<?, ?it/s]"
      ]
     },
     "metadata": {},
     "output_type": "display_data"
    },
    {
     "name": "stdout",
     "output_type": "stream",
     "text": [
      "\n",
      "                    Epoch: 602 / 1000 \n",
      "                    | Train Loss: 0.1544327181763947 \n",
      "                    | Train Dice Accuracy: 0.9657162239109229 \n",
      "                    | Test Dice Accuracy: 0.9431132409307692\n",
      "                \n"
     ]
    },
    {
     "data": {
      "application/vnd.jupyter.widget-view+json": {
       "model_id": "55f52765c8b54cce9c582c6db80d5b64",
       "version_major": 2,
       "version_minor": 0
      },
      "text/plain": [
       "  0%|          | 0/16 [00:00<?, ?it/s]"
      ]
     },
     "metadata": {},
     "output_type": "display_data"
    },
    {
     "name": "stdout",
     "output_type": "stream",
     "text": [
      "\n",
      "                Epoch: 603 / 1000 \n",
      "                | Train Loss: 0.18157765665091574 \n",
      "                | Train Dice Accuracy: 0.9720243064450546 \n",
      "            \n"
     ]
    },
    {
     "data": {
      "application/vnd.jupyter.widget-view+json": {
       "model_id": "124affc849614501b5bd37cf484be13d",
       "version_major": 2,
       "version_minor": 0
      },
      "text/plain": [
       "  0%|          | 0/16 [00:00<?, ?it/s]"
      ]
     },
     "metadata": {},
     "output_type": "display_data"
    },
    {
     "name": "stdout",
     "output_type": "stream",
     "text": [
      "\n",
      "                    Epoch: 604 / 1000 \n",
      "                    | Train Loss: 0.17580922949127853 \n",
      "                    | Train Dice Accuracy: 0.9704438589340032 \n",
      "                    | Test Dice Accuracy: 0.9452433056301541\n",
      "                \n"
     ]
    },
    {
     "data": {
      "application/vnd.jupyter.widget-view+json": {
       "model_id": "3337b6c4eae442eba517857911830c02",
       "version_major": 2,
       "version_minor": 0
      },
      "text/plain": [
       "  0%|          | 0/16 [00:00<?, ?it/s]"
      ]
     },
     "metadata": {},
     "output_type": "display_data"
    },
    {
     "name": "stdout",
     "output_type": "stream",
     "text": [
      "\n",
      "                Epoch: 605 / 1000 \n",
      "                | Train Loss: 0.18087813025340438 \n",
      "                | Train Dice Accuracy: 0.9594921947077468 \n",
      "            \n"
     ]
    },
    {
     "data": {
      "application/vnd.jupyter.widget-view+json": {
       "model_id": "b931b43290e14cf28ef9f926ad748960",
       "version_major": 2,
       "version_minor": 0
      },
      "text/plain": [
       "  0%|          | 0/16 [00:00<?, ?it/s]"
      ]
     },
     "metadata": {},
     "output_type": "display_data"
    },
    {
     "name": "stdout",
     "output_type": "stream",
     "text": [
      "\n",
      "                    Epoch: 606 / 1000 \n",
      "                    | Train Loss: 0.16975009394809604 \n",
      "                    | Train Dice Accuracy: 0.9683958366169908 \n",
      "                    | Test Dice Accuracy: 0.9483962522612678\n",
      "                \n"
     ]
    },
    {
     "data": {
      "application/vnd.jupyter.widget-view+json": {
       "model_id": "83041d8de38d4312870e6ff841f389d1",
       "version_major": 2,
       "version_minor": 0
      },
      "text/plain": [
       "  0%|          | 0/16 [00:00<?, ?it/s]"
      ]
     },
     "metadata": {},
     "output_type": "display_data"
    },
    {
     "name": "stdout",
     "output_type": "stream",
     "text": [
      "\n",
      "                Epoch: 607 / 1000 \n",
      "                | Train Loss: 0.17290157452225685 \n",
      "                | Train Dice Accuracy: 0.955165385106288 \n",
      "            \n"
     ]
    },
    {
     "data": {
      "application/vnd.jupyter.widget-view+json": {
       "model_id": "e378719a472c46ee8f4dca7ec365510c",
       "version_major": 2,
       "version_minor": 0
      },
      "text/plain": [
       "  0%|          | 0/16 [00:00<?, ?it/s]"
      ]
     },
     "metadata": {},
     "output_type": "display_data"
    },
    {
     "name": "stdout",
     "output_type": "stream",
     "text": [
      "\n",
      "                    Epoch: 608 / 1000 \n",
      "                    | Train Loss: 0.1746090438682586 \n",
      "                    | Train Dice Accuracy: 0.9639312075579771 \n",
      "                    | Test Dice Accuracy: 0.9212901790936788\n",
      "                \n"
     ]
    },
    {
     "data": {
      "application/vnd.jupyter.widget-view+json": {
       "model_id": "dbfaca6854ed43328e44b82dd4cbd926",
       "version_major": 2,
       "version_minor": 0
      },
      "text/plain": [
       "  0%|          | 0/16 [00:00<?, ?it/s]"
      ]
     },
     "metadata": {},
     "output_type": "display_data"
    },
    {
     "name": "stdout",
     "output_type": "stream",
     "text": [
      "\n",
      "                Epoch: 609 / 1000 \n",
      "                | Train Loss: 0.14888164727017283 \n",
      "                | Train Dice Accuracy: 0.9593023631189551 \n",
      "            \n"
     ]
    },
    {
     "data": {
      "application/vnd.jupyter.widget-view+json": {
       "model_id": "7c7867f518ba426da637d01fffe44d18",
       "version_major": 2,
       "version_minor": 0
      },
      "text/plain": [
       "  0%|          | 0/16 [00:00<?, ?it/s]"
      ]
     },
     "metadata": {},
     "output_type": "display_data"
    },
    {
     "name": "stdout",
     "output_type": "stream",
     "text": [
      "\n",
      "                    Epoch: 610 / 1000 \n",
      "                    | Train Loss: 0.16869612177833915 \n",
      "                    | Train Dice Accuracy: 0.9608279472072375 \n",
      "                    | Test Dice Accuracy: 0.8564265304141574\n",
      "                \n"
     ]
    },
    {
     "data": {
      "application/vnd.jupyter.widget-view+json": {
       "model_id": "674ad6d8d77f457e852958b30e6620ce",
       "version_major": 2,
       "version_minor": 0
      },
      "text/plain": [
       "  0%|          | 0/16 [00:00<?, ?it/s]"
      ]
     },
     "metadata": {},
     "output_type": "display_data"
    },
    {
     "name": "stdout",
     "output_type": "stream",
     "text": [
      "\n",
      "                Epoch: 611 / 1000 \n",
      "                | Train Loss: 0.17258476768620312 \n",
      "                | Train Dice Accuracy: 0.9618593753757565 \n",
      "            \n"
     ]
    },
    {
     "data": {
      "application/vnd.jupyter.widget-view+json": {
       "model_id": "16ce7f980e334b458b5141351baaf784",
       "version_major": 2,
       "version_minor": 0
      },
      "text/plain": [
       "  0%|          | 0/16 [00:00<?, ?it/s]"
      ]
     },
     "metadata": {},
     "output_type": "display_data"
    },
    {
     "name": "stdout",
     "output_type": "stream",
     "text": [
      "\n",
      "                    Epoch: 612 / 1000 \n",
      "                    | Train Loss: 0.1595712974667549 \n",
      "                    | Train Dice Accuracy: 0.9574414491653442 \n",
      "                    | Test Dice Accuracy: 0.9443823562728034\n",
      "                \n"
     ]
    },
    {
     "data": {
      "application/vnd.jupyter.widget-view+json": {
       "model_id": "334d1e4a540d4bf0b544354de73a7484",
       "version_major": 2,
       "version_minor": 0
      },
      "text/plain": [
       "  0%|          | 0/16 [00:00<?, ?it/s]"
      ]
     },
     "metadata": {},
     "output_type": "display_data"
    },
    {
     "name": "stdout",
     "output_type": "stream",
     "text": [
      "\n",
      "                Epoch: 613 / 1000 \n",
      "                | Train Loss: 0.16931746201589704 \n",
      "                | Train Dice Accuracy: 0.9628016385463399 \n",
      "            \n"
     ]
    },
    {
     "data": {
      "application/vnd.jupyter.widget-view+json": {
       "model_id": "e53fa7246c664edb8651ffd056551461",
       "version_major": 2,
       "version_minor": 0
      },
      "text/plain": [
       "  0%|          | 0/16 [00:00<?, ?it/s]"
      ]
     },
     "metadata": {},
     "output_type": "display_data"
    },
    {
     "name": "stdout",
     "output_type": "stream",
     "text": [
      "\n",
      "                    Epoch: 614 / 1000 \n",
      "                    | Train Loss: 0.17967565706931055 \n",
      "                    | Train Dice Accuracy: 0.9636078332745752 \n",
      "                    | Test Dice Accuracy: 0.9372606939739652\n",
      "                \n"
     ]
    },
    {
     "data": {
      "application/vnd.jupyter.widget-view+json": {
       "model_id": "2bd9bfdf92a14b4fb6b377dc121552f6",
       "version_major": 2,
       "version_minor": 0
      },
      "text/plain": [
       "  0%|          | 0/16 [00:00<?, ?it/s]"
      ]
     },
     "metadata": {},
     "output_type": "display_data"
    },
    {
     "name": "stdout",
     "output_type": "stream",
     "text": [
      "\n",
      "                Epoch: 615 / 1000 \n",
      "                | Train Loss: 0.16825124341994524 \n",
      "                | Train Dice Accuracy: 0.963055911687536 \n",
      "            \n"
     ]
    },
    {
     "data": {
      "application/vnd.jupyter.widget-view+json": {
       "model_id": "f6e1a7cc4d824c9ebd0b82172d1e94ea",
       "version_major": 2,
       "version_minor": 0
      },
      "text/plain": [
       "  0%|          | 0/16 [00:00<?, ?it/s]"
      ]
     },
     "metadata": {},
     "output_type": "display_data"
    },
    {
     "name": "stdout",
     "output_type": "stream",
     "text": [
      "\n",
      "                    Epoch: 616 / 1000 \n",
      "                    | Train Loss: 0.17308533121831715 \n",
      "                    | Train Dice Accuracy: 0.9540177537426012 \n",
      "                    | Test Dice Accuracy: 0.9445060425334506\n",
      "                \n"
     ]
    },
    {
     "data": {
      "application/vnd.jupyter.widget-view+json": {
       "model_id": "a28e3752a20b44d0b663ceb18620bbc9",
       "version_major": 2,
       "version_minor": 0
      },
      "text/plain": [
       "  0%|          | 0/16 [00:00<?, ?it/s]"
      ]
     },
     "metadata": {},
     "output_type": "display_data"
    },
    {
     "name": "stdout",
     "output_type": "stream",
     "text": [
      "\n",
      "                Epoch: 617 / 1000 \n",
      "                | Train Loss: 0.18852020055055618 \n",
      "                | Train Dice Accuracy: 0.9620311332640247 \n",
      "            \n"
     ]
    },
    {
     "data": {
      "application/vnd.jupyter.widget-view+json": {
       "model_id": "da83707c6f574b418b74a5179c659563",
       "version_major": 2,
       "version_minor": 0
      },
      "text/plain": [
       "  0%|          | 0/16 [00:00<?, ?it/s]"
      ]
     },
     "metadata": {},
     "output_type": "display_data"
    },
    {
     "name": "stdout",
     "output_type": "stream",
     "text": [
      "saved new best spleen metric model\n",
      "\n",
      "                    Epoch: 618 / 1000 \n",
      "                    | Train Loss: 0.12910186196677387 \n",
      "                    | Train Dice Accuracy: 0.9703484153957619 \n",
      "                    | Test Dice Accuracy: 0.9522395001517402\n",
      "                \n"
     ]
    },
    {
     "data": {
      "application/vnd.jupyter.widget-view+json": {
       "model_id": "cb69e939e2e545e394725d82ac0b7457",
       "version_major": 2,
       "version_minor": 0
      },
      "text/plain": [
       "  0%|          | 0/16 [00:00<?, ?it/s]"
      ]
     },
     "metadata": {},
     "output_type": "display_data"
    },
    {
     "name": "stdout",
     "output_type": "stream",
     "text": [
      "\n",
      "                Epoch: 619 / 1000 \n",
      "                | Train Loss: 0.21073601581156254 \n",
      "                | Train Dice Accuracy: 0.9577556163645707 \n",
      "            \n"
     ]
    },
    {
     "data": {
      "application/vnd.jupyter.widget-view+json": {
       "model_id": "e90dae262b50441fbf3986ee3cef8ff8",
       "version_major": 2,
       "version_minor": 0
      },
      "text/plain": [
       "  0%|          | 0/16 [00:00<?, ?it/s]"
      ]
     },
     "metadata": {},
     "output_type": "display_data"
    },
    {
     "name": "stdout",
     "output_type": "stream",
     "text": [
      "\n",
      "                    Epoch: 620 / 1000 \n",
      "                    | Train Loss: 0.14053017972037196 \n",
      "                    | Train Dice Accuracy: 0.9579240131167184 \n",
      "                    | Test Dice Accuracy: 0.9494355453385247\n",
      "                \n"
     ]
    },
    {
     "data": {
      "application/vnd.jupyter.widget-view+json": {
       "model_id": "c54f6cf733ad40608104e6ecd51ead2b",
       "version_major": 2,
       "version_minor": 0
      },
      "text/plain": [
       "  0%|          | 0/16 [00:00<?, ?it/s]"
      ]
     },
     "metadata": {},
     "output_type": "display_data"
    },
    {
     "name": "stdout",
     "output_type": "stream",
     "text": [
      "\n",
      "                Epoch: 621 / 1000 \n",
      "                | Train Loss: 0.20332336286082864 \n",
      "                | Train Dice Accuracy: 0.96198517481486 \n",
      "            \n"
     ]
    },
    {
     "data": {
      "application/vnd.jupyter.widget-view+json": {
       "model_id": "41864de24a30476a8862d8f5e7a80692",
       "version_major": 2,
       "version_minor": 0
      },
      "text/plain": [
       "  0%|          | 0/16 [00:00<?, ?it/s]"
      ]
     },
     "metadata": {},
     "output_type": "display_data"
    },
    {
     "name": "stdout",
     "output_type": "stream",
     "text": [
      "\n",
      "                    Epoch: 622 / 1000 \n",
      "                    | Train Loss: 0.17434248281642795 \n",
      "                    | Train Dice Accuracy: 0.9571277194371507 \n",
      "                    | Test Dice Accuracy: 0.9395897587140402\n",
      "                \n"
     ]
    },
    {
     "data": {
      "application/vnd.jupyter.widget-view+json": {
       "model_id": "192b9f48c0a641e69c98f1b0b4305f88",
       "version_major": 2,
       "version_minor": 0
      },
      "text/plain": [
       "  0%|          | 0/16 [00:00<?, ?it/s]"
      ]
     },
     "metadata": {},
     "output_type": "display_data"
    },
    {
     "name": "stdout",
     "output_type": "stream",
     "text": [
      "\n",
      "                Epoch: 623 / 1000 \n",
      "                | Train Loss: 0.15965973120182753 \n",
      "                | Train Dice Accuracy: 0.9625055746989207 \n",
      "            \n"
     ]
    },
    {
     "data": {
      "application/vnd.jupyter.widget-view+json": {
       "model_id": "ba0cd0f671a14dda8b572c7817fa9bc3",
       "version_major": 2,
       "version_minor": 0
      },
      "text/plain": [
       "  0%|          | 0/16 [00:00<?, ?it/s]"
      ]
     },
     "metadata": {},
     "output_type": "display_data"
    },
    {
     "name": "stdout",
     "output_type": "stream",
     "text": [
      "\n",
      "                    Epoch: 624 / 1000 \n",
      "                    | Train Loss: 0.1899945428594947 \n",
      "                    | Train Dice Accuracy: 0.9531212279962938 \n",
      "                    | Test Dice Accuracy: 0.9422419004970126\n",
      "                \n"
     ]
    },
    {
     "data": {
      "application/vnd.jupyter.widget-view+json": {
       "model_id": "6c45d96d607b46b39accf61fe04521bc",
       "version_major": 2,
       "version_minor": 0
      },
      "text/plain": [
       "  0%|          | 0/16 [00:00<?, ?it/s]"
      ]
     },
     "metadata": {},
     "output_type": "display_data"
    },
    {
     "name": "stdout",
     "output_type": "stream",
     "text": [
      "\n",
      "                Epoch: 625 / 1000 \n",
      "                | Train Loss: 0.20572208357043564 \n",
      "                | Train Dice Accuracy: 0.9657539636894846 \n",
      "            \n"
     ]
    },
    {
     "data": {
      "application/vnd.jupyter.widget-view+json": {
       "model_id": "63de5018b711456f9f55754f44f285b7",
       "version_major": 2,
       "version_minor": 0
      },
      "text/plain": [
       "  0%|          | 0/16 [00:00<?, ?it/s]"
      ]
     },
     "metadata": {},
     "output_type": "display_data"
    },
    {
     "name": "stdout",
     "output_type": "stream",
     "text": [
      "\n",
      "                    Epoch: 626 / 1000 \n",
      "                    | Train Loss: 0.18767602369189262 \n",
      "                    | Train Dice Accuracy: 0.9598876095153916 \n",
      "                    | Test Dice Accuracy: 0.9414361251725091\n",
      "                \n"
     ]
    },
    {
     "data": {
      "application/vnd.jupyter.widget-view+json": {
       "model_id": "773e0cc47381467989e6c81d96a39a4f",
       "version_major": 2,
       "version_minor": 0
      },
      "text/plain": [
       "  0%|          | 0/16 [00:00<?, ?it/s]"
      ]
     },
     "metadata": {},
     "output_type": "display_data"
    },
    {
     "name": "stdout",
     "output_type": "stream",
     "text": [
      "\n",
      "                Epoch: 627 / 1000 \n",
      "                | Train Loss: 0.16809452115558088 \n",
      "                | Train Dice Accuracy: 0.9699340193502365 \n",
      "            \n"
     ]
    },
    {
     "data": {
      "application/vnd.jupyter.widget-view+json": {
       "model_id": "1800284435594e7f8df64936d9a1da97",
       "version_major": 2,
       "version_minor": 0
      },
      "text/plain": [
       "  0%|          | 0/16 [00:00<?, ?it/s]"
      ]
     },
     "metadata": {},
     "output_type": "display_data"
    },
    {
     "name": "stdout",
     "output_type": "stream",
     "text": [
      "\n",
      "                    Epoch: 628 / 1000 \n",
      "                    | Train Loss: 0.16373043321073055 \n",
      "                    | Train Dice Accuracy: 0.967698322311384 \n",
      "                    | Test Dice Accuracy: 0.9339121646351285\n",
      "                \n"
     ]
    },
    {
     "data": {
      "application/vnd.jupyter.widget-view+json": {
       "model_id": "90b29bed5c784eeea5f6f216a4a4926c",
       "version_major": 2,
       "version_minor": 0
      },
      "text/plain": [
       "  0%|          | 0/16 [00:00<?, ?it/s]"
      ]
     },
     "metadata": {},
     "output_type": "display_data"
    },
    {
     "name": "stdout",
     "output_type": "stream",
     "text": [
      "\n",
      "                Epoch: 629 / 1000 \n",
      "                | Train Loss: 0.1935968215111643 \n",
      "                | Train Dice Accuracy: 0.9684903601899532 \n",
      "            \n"
     ]
    },
    {
     "data": {
      "application/vnd.jupyter.widget-view+json": {
       "model_id": "6ca4e64f51a1454d9d7c8c08ae7981c6",
       "version_major": 2,
       "version_minor": 0
      },
      "text/plain": [
       "  0%|          | 0/16 [00:00<?, ?it/s]"
      ]
     },
     "metadata": {},
     "output_type": "display_data"
    },
    {
     "name": "stdout",
     "output_type": "stream",
     "text": [
      "\n",
      "                    Epoch: 630 / 1000 \n",
      "                    | Train Loss: 0.16842203470878303 \n",
      "                    | Train Dice Accuracy: 0.9665677744314212 \n",
      "                    | Test Dice Accuracy: 0.9467851983176337\n",
      "                \n"
     ]
    },
    {
     "data": {
      "application/vnd.jupyter.widget-view+json": {
       "model_id": "668aa096a9534a64a14809c4fc907773",
       "version_major": 2,
       "version_minor": 0
      },
      "text/plain": [
       "  0%|          | 0/16 [00:00<?, ?it/s]"
      ]
     },
     "metadata": {},
     "output_type": "display_data"
    },
    {
     "name": "stdout",
     "output_type": "stream",
     "text": [
      "\n",
      "                Epoch: 631 / 1000 \n",
      "                | Train Loss: 0.15450893668457866 \n",
      "                | Train Dice Accuracy: 0.9629681164079958 \n",
      "            \n"
     ]
    },
    {
     "data": {
      "application/vnd.jupyter.widget-view+json": {
       "model_id": "5c229c4d524e4b7c9d1ad0525586cce4",
       "version_major": 2,
       "version_minor": 0
      },
      "text/plain": [
       "  0%|          | 0/16 [00:00<?, ?it/s]"
      ]
     },
     "metadata": {},
     "output_type": "display_data"
    },
    {
     "name": "stdout",
     "output_type": "stream",
     "text": [
      "\n",
      "                    Epoch: 632 / 1000 \n",
      "                    | Train Loss: 0.13192097330465913 \n",
      "                    | Train Dice Accuracy: 0.9662245364966372 \n",
      "                    | Test Dice Accuracy: 0.9476546049118042\n",
      "                \n"
     ]
    },
    {
     "data": {
      "application/vnd.jupyter.widget-view+json": {
       "model_id": "9781b7fc5d2d414884d2072ef57d18b0",
       "version_major": 2,
       "version_minor": 0
      },
      "text/plain": [
       "  0%|          | 0/16 [00:00<?, ?it/s]"
      ]
     },
     "metadata": {},
     "output_type": "display_data"
    },
    {
     "name": "stdout",
     "output_type": "stream",
     "text": [
      "\n",
      "                Epoch: 633 / 1000 \n",
      "                | Train Loss: 0.17806183057837188 \n",
      "                | Train Dice Accuracy: 0.9701441238092822 \n",
      "            \n"
     ]
    },
    {
     "data": {
      "application/vnd.jupyter.widget-view+json": {
       "model_id": "e592e2b24eac48ff91a1ebe68d671893",
       "version_major": 2,
       "version_minor": 0
      },
      "text/plain": [
       "  0%|          | 0/16 [00:00<?, ?it/s]"
      ]
     },
     "metadata": {},
     "output_type": "display_data"
    },
    {
     "name": "stdout",
     "output_type": "stream",
     "text": [
      "\n",
      "                    Epoch: 634 / 1000 \n",
      "                    | Train Loss: 0.17225947137922049 \n",
      "                    | Train Dice Accuracy: 0.9685002228728047 \n",
      "                    | Test Dice Accuracy: 0.9432016147507561\n",
      "                \n"
     ]
    },
    {
     "data": {
      "application/vnd.jupyter.widget-view+json": {
       "model_id": "2366a32a9a0742d7a11321772bb6ba85",
       "version_major": 2,
       "version_minor": 0
      },
      "text/plain": [
       "  0%|          | 0/16 [00:00<?, ?it/s]"
      ]
     },
     "metadata": {},
     "output_type": "display_data"
    },
    {
     "name": "stdout",
     "output_type": "stream",
     "text": [
      "\n",
      "                Epoch: 635 / 1000 \n",
      "                | Train Loss: 0.1960998517461121 \n",
      "                | Train Dice Accuracy: 0.9684736923583875 \n",
      "            \n"
     ]
    },
    {
     "data": {
      "application/vnd.jupyter.widget-view+json": {
       "model_id": "ca2eeea065df48c99be9e132cf8265b7",
       "version_major": 2,
       "version_minor": 0
      },
      "text/plain": [
       "  0%|          | 0/16 [00:00<?, ?it/s]"
      ]
     },
     "metadata": {},
     "output_type": "display_data"
    },
    {
     "name": "stdout",
     "output_type": "stream",
     "text": [
      "\n",
      "                    Epoch: 636 / 1000 \n",
      "                    | Train Loss: 0.17198928259313107 \n",
      "                    | Train Dice Accuracy: 0.9643246171661236 \n",
      "                    | Test Dice Accuracy: 0.942860742410024\n",
      "                \n"
     ]
    },
    {
     "data": {
      "application/vnd.jupyter.widget-view+json": {
       "model_id": "9ddba7dd53984641a151cada98cfcca9",
       "version_major": 2,
       "version_minor": 0
      },
      "text/plain": [
       "  0%|          | 0/16 [00:00<?, ?it/s]"
      ]
     },
     "metadata": {},
     "output_type": "display_data"
    },
    {
     "name": "stdout",
     "output_type": "stream",
     "text": [
      "\n",
      "                Epoch: 637 / 1000 \n",
      "                | Train Loss: 0.16950309975072742 \n",
      "                | Train Dice Accuracy: 0.9637162105752788 \n",
      "            \n"
     ]
    },
    {
     "data": {
      "application/vnd.jupyter.widget-view+json": {
       "model_id": "7f10111b9ca54713884131395ca8dd60",
       "version_major": 2,
       "version_minor": 0
      },
      "text/plain": [
       "  0%|          | 0/16 [00:00<?, ?it/s]"
      ]
     },
     "metadata": {},
     "output_type": "display_data"
    },
    {
     "name": "stdout",
     "output_type": "stream",
     "text": [
      "\n",
      "                    Epoch: 638 / 1000 \n",
      "                    | Train Loss: 0.15502527821809053 \n",
      "                    | Train Dice Accuracy: 0.9687927478578835 \n",
      "                    | Test Dice Accuracy: 0.9450974133279588\n",
      "                \n"
     ]
    },
    {
     "data": {
      "application/vnd.jupyter.widget-view+json": {
       "model_id": "e120ab015a9b44a3af29198e39510540",
       "version_major": 2,
       "version_minor": 0
      },
      "text/plain": [
       "  0%|          | 0/16 [00:00<?, ?it/s]"
      ]
     },
     "metadata": {},
     "output_type": "display_data"
    },
    {
     "name": "stdout",
     "output_type": "stream",
     "text": [
      "\n",
      "                Epoch: 639 / 1000 \n",
      "                | Train Loss: 0.14031430473551154 \n",
      "                | Train Dice Accuracy: 0.9661076353714529 \n",
      "            \n"
     ]
    },
    {
     "data": {
      "application/vnd.jupyter.widget-view+json": {
       "model_id": "341a0f51163441b8b25b3d0486eda661",
       "version_major": 2,
       "version_minor": 0
      },
      "text/plain": [
       "  0%|          | 0/16 [00:00<?, ?it/s]"
      ]
     },
     "metadata": {},
     "output_type": "display_data"
    },
    {
     "name": "stdout",
     "output_type": "stream",
     "text": [
      "\n",
      "                    Epoch: 640 / 1000 \n",
      "                    | Train Loss: 0.18818090669810772 \n",
      "                    | Train Dice Accuracy: 0.9582474599374788 \n",
      "                    | Test Dice Accuracy: 0.9401450355847677\n",
      "                \n"
     ]
    },
    {
     "data": {
      "application/vnd.jupyter.widget-view+json": {
       "model_id": "347f1edf8f55475990278602cbd554e2",
       "version_major": 2,
       "version_minor": 0
      },
      "text/plain": [
       "  0%|          | 0/16 [00:00<?, ?it/s]"
      ]
     },
     "metadata": {},
     "output_type": "display_data"
    },
    {
     "name": "stdout",
     "output_type": "stream",
     "text": [
      "\n",
      "                Epoch: 641 / 1000 \n",
      "                | Train Loss: 0.2036276338621974 \n",
      "                | Train Dice Accuracy: 0.9698387094988272 \n",
      "            \n"
     ]
    },
    {
     "data": {
      "application/vnd.jupyter.widget-view+json": {
       "model_id": "18201072f699432297a13a2934824df5",
       "version_major": 2,
       "version_minor": 0
      },
      "text/plain": [
       "  0%|          | 0/16 [00:00<?, ?it/s]"
      ]
     },
     "metadata": {},
     "output_type": "display_data"
    },
    {
     "name": "stdout",
     "output_type": "stream",
     "text": [
      "\n",
      "                    Epoch: 642 / 1000 \n",
      "                    | Train Loss: 0.16334475460462272 \n",
      "                    | Train Dice Accuracy: 0.9619882935827428 \n",
      "                    | Test Dice Accuracy: 0.8200125909513898\n",
      "                \n"
     ]
    },
    {
     "data": {
      "application/vnd.jupyter.widget-view+json": {
       "model_id": "60a68ec2e70047cc82266a68df3843bc",
       "version_major": 2,
       "version_minor": 0
      },
      "text/plain": [
       "  0%|          | 0/16 [00:00<?, ?it/s]"
      ]
     },
     "metadata": {},
     "output_type": "display_data"
    },
    {
     "name": "stdout",
     "output_type": "stream",
     "text": [
      "\n",
      "                Epoch: 643 / 1000 \n",
      "                | Train Loss: 0.14554853760637343 \n",
      "                | Train Dice Accuracy: 0.9645358473062515 \n",
      "            \n"
     ]
    },
    {
     "data": {
      "application/vnd.jupyter.widget-view+json": {
       "model_id": "3e723438869c4c6097f19a0ff6154c8c",
       "version_major": 2,
       "version_minor": 0
      },
      "text/plain": [
       "  0%|          | 0/16 [00:00<?, ?it/s]"
      ]
     },
     "metadata": {},
     "output_type": "display_data"
    },
    {
     "name": "stdout",
     "output_type": "stream",
     "text": [
      "\n",
      "                    Epoch: 644 / 1000 \n",
      "                    | Train Loss: 0.16239395015873015 \n",
      "                    | Train Dice Accuracy: 0.9672754202803521 \n",
      "                    | Test Dice Accuracy: 0.9389793806605868\n",
      "                \n"
     ]
    },
    {
     "data": {
      "application/vnd.jupyter.widget-view+json": {
       "model_id": "c8b3fe83b4484109970daa7ff725f2cd",
       "version_major": 2,
       "version_minor": 0
      },
      "text/plain": [
       "  0%|          | 0/16 [00:00<?, ?it/s]"
      ]
     },
     "metadata": {},
     "output_type": "display_data"
    },
    {
     "name": "stdout",
     "output_type": "stream",
     "text": [
      "\n",
      "                Epoch: 645 / 1000 \n",
      "                | Train Loss: 0.18454482220113277 \n",
      "                | Train Dice Accuracy: 0.9692289291972845 \n",
      "            \n"
     ]
    },
    {
     "data": {
      "application/vnd.jupyter.widget-view+json": {
       "model_id": "6cb07c7e434840918a7d61ecd291e70b",
       "version_major": 2,
       "version_minor": 0
      },
      "text/plain": [
       "  0%|          | 0/16 [00:00<?, ?it/s]"
      ]
     },
     "metadata": {},
     "output_type": "display_data"
    },
    {
     "name": "stdout",
     "output_type": "stream",
     "text": [
      "\n",
      "                    Epoch: 646 / 1000 \n",
      "                    | Train Loss: 0.19823706382885575 \n",
      "                    | Train Dice Accuracy: 0.9676450990495228 \n",
      "                    | Test Dice Accuracy: 0.9407471153471205\n",
      "                \n"
     ]
    },
    {
     "data": {
      "application/vnd.jupyter.widget-view+json": {
       "model_id": "75c274d493a24eb2b828752e7c93eb32",
       "version_major": 2,
       "version_minor": 0
      },
      "text/plain": [
       "  0%|          | 0/16 [00:00<?, ?it/s]"
      ]
     },
     "metadata": {},
     "output_type": "display_data"
    },
    {
     "name": "stdout",
     "output_type": "stream",
     "text": [
      "\n",
      "                Epoch: 647 / 1000 \n",
      "                | Train Loss: 0.1316384905949235 \n",
      "                | Train Dice Accuracy: 0.9594845238484835 \n",
      "            \n"
     ]
    },
    {
     "data": {
      "application/vnd.jupyter.widget-view+json": {
       "model_id": "3c9ab82052854160b494a49d9cfce9b9",
       "version_major": 2,
       "version_minor": 0
      },
      "text/plain": [
       "  0%|          | 0/16 [00:00<?, ?it/s]"
      ]
     },
     "metadata": {},
     "output_type": "display_data"
    },
    {
     "name": "stdout",
     "output_type": "stream",
     "text": [
      "\n",
      "                    Epoch: 648 / 1000 \n",
      "                    | Train Loss: 0.14727504062466323 \n",
      "                    | Train Dice Accuracy: 0.9680798270242631 \n",
      "                    | Test Dice Accuracy: 0.8950186570485433\n",
      "                \n"
     ]
    },
    {
     "data": {
      "application/vnd.jupyter.widget-view+json": {
       "model_id": "f6cc041b382540a5b7fea4fd2815c9c3",
       "version_major": 2,
       "version_minor": 0
      },
      "text/plain": [
       "  0%|          | 0/16 [00:00<?, ?it/s]"
      ]
     },
     "metadata": {},
     "output_type": "display_data"
    },
    {
     "name": "stdout",
     "output_type": "stream",
     "text": [
      "\n",
      "                Epoch: 649 / 1000 \n",
      "                | Train Loss: 0.19824275956489146 \n",
      "                | Train Dice Accuracy: 0.9670979698499044 \n",
      "            \n"
     ]
    },
    {
     "data": {
      "application/vnd.jupyter.widget-view+json": {
       "model_id": "1657ebf49f194bd2ae73147b579b2c6e",
       "version_major": 2,
       "version_minor": 0
      },
      "text/plain": [
       "  0%|          | 0/16 [00:00<?, ?it/s]"
      ]
     },
     "metadata": {},
     "output_type": "display_data"
    },
    {
     "name": "stdout",
     "output_type": "stream",
     "text": [
      "\n",
      "                    Epoch: 650 / 1000 \n",
      "                    | Train Loss: 0.21239549294114113 \n",
      "                    | Train Dice Accuracy: 0.9595008386442294 \n",
      "                    | Test Dice Accuracy: 0.9420214957661099\n",
      "                \n"
     ]
    },
    {
     "data": {
      "application/vnd.jupyter.widget-view+json": {
       "model_id": "532cf8b1e5464173a6e53690ab585757",
       "version_major": 2,
       "version_minor": 0
      },
      "text/plain": [
       "  0%|          | 0/16 [00:00<?, ?it/s]"
      ]
     },
     "metadata": {},
     "output_type": "display_data"
    },
    {
     "name": "stdout",
     "output_type": "stream",
     "text": [
      "\n",
      "                Epoch: 651 / 1000 \n",
      "                | Train Loss: 0.161233841907233 \n",
      "                | Train Dice Accuracy: 0.9681659351745152 \n",
      "            \n"
     ]
    },
    {
     "data": {
      "application/vnd.jupyter.widget-view+json": {
       "model_id": "e1240b6ffc9648e69ac3f2ac165b6964",
       "version_major": 2,
       "version_minor": 0
      },
      "text/plain": [
       "  0%|          | 0/16 [00:00<?, ?it/s]"
      ]
     },
     "metadata": {},
     "output_type": "display_data"
    },
    {
     "name": "stdout",
     "output_type": "stream",
     "text": [
      "\n",
      "                    Epoch: 652 / 1000 \n",
      "                    | Train Loss: 0.19735615537501872 \n",
      "                    | Train Dice Accuracy: 0.9663428732004211 \n",
      "                    | Test Dice Accuracy: 0.9493744836913215\n",
      "                \n"
     ]
    },
    {
     "data": {
      "application/vnd.jupyter.widget-view+json": {
       "model_id": "c70b76521c5a47f7afa37ae7ede3aad7",
       "version_major": 2,
       "version_minor": 0
      },
      "text/plain": [
       "  0%|          | 0/16 [00:00<?, ?it/s]"
      ]
     },
     "metadata": {},
     "output_type": "display_data"
    },
    {
     "name": "stdout",
     "output_type": "stream",
     "text": [
      "\n",
      "                Epoch: 653 / 1000 \n",
      "                | Train Loss: 0.19695383869111538 \n",
      "                | Train Dice Accuracy: 0.9642937660782258 \n",
      "            \n"
     ]
    },
    {
     "data": {
      "application/vnd.jupyter.widget-view+json": {
       "model_id": "382142aee92f41c5aecd39b7c58a1a82",
       "version_major": 2,
       "version_minor": 0
      },
      "text/plain": [
       "  0%|          | 0/16 [00:00<?, ?it/s]"
      ]
     },
     "metadata": {},
     "output_type": "display_data"
    },
    {
     "name": "stdout",
     "output_type": "stream",
     "text": [
      "\n",
      "                    Epoch: 654 / 1000 \n",
      "                    | Train Loss: 0.17803782410919666 \n",
      "                    | Train Dice Accuracy: 0.9602099910930351 \n",
      "                    | Test Dice Accuracy: 0.9512673815091451\n",
      "                \n"
     ]
    },
    {
     "data": {
      "application/vnd.jupyter.widget-view+json": {
       "model_id": "dbd804817fb74219b15311478485cb4a",
       "version_major": 2,
       "version_minor": 0
      },
      "text/plain": [
       "  0%|          | 0/16 [00:00<?, ?it/s]"
      ]
     },
     "metadata": {},
     "output_type": "display_data"
    },
    {
     "name": "stdout",
     "output_type": "stream",
     "text": [
      "\n",
      "                Epoch: 655 / 1000 \n",
      "                | Train Loss: 0.19939247891306877 \n",
      "                | Train Dice Accuracy: 0.9731883782033737 \n",
      "            \n"
     ]
    },
    {
     "data": {
      "application/vnd.jupyter.widget-view+json": {
       "model_id": "a834c6111aa84d70ba0fbadf3cc17b30",
       "version_major": 2,
       "version_minor": 0
      },
      "text/plain": [
       "  0%|          | 0/16 [00:00<?, ?it/s]"
      ]
     },
     "metadata": {},
     "output_type": "display_data"
    },
    {
     "name": "stdout",
     "output_type": "stream",
     "text": [
      "\n",
      "                    Epoch: 656 / 1000 \n",
      "                    | Train Loss: 0.18462632899172604 \n",
      "                    | Train Dice Accuracy: 0.9693245666687478 \n",
      "                    | Test Dice Accuracy: 0.9475627541542053\n",
      "                \n"
     ]
    },
    {
     "data": {
      "application/vnd.jupyter.widget-view+json": {
       "model_id": "fe4d9baae1d9426b98e5adcd8d6d6e6f",
       "version_major": 2,
       "version_minor": 0
      },
      "text/plain": [
       "  0%|          | 0/16 [00:00<?, ?it/s]"
      ]
     },
     "metadata": {},
     "output_type": "display_data"
    },
    {
     "name": "stdout",
     "output_type": "stream",
     "text": [
      "\n",
      "                Epoch: 657 / 1000 \n",
      "                | Train Loss: 0.20447084540501237 \n",
      "                | Train Dice Accuracy: 0.9628535765780216 \n",
      "            \n"
     ]
    },
    {
     "data": {
      "application/vnd.jupyter.widget-view+json": {
       "model_id": "3bbdffaccee047cb9dd3c3d0021df9cb",
       "version_major": 2,
       "version_minor": 0
      },
      "text/plain": [
       "  0%|          | 0/16 [00:00<?, ?it/s]"
      ]
     },
     "metadata": {},
     "output_type": "display_data"
    },
    {
     "name": "stdout",
     "output_type": "stream",
     "text": [
      "\n",
      "                    Epoch: 658 / 1000 \n",
      "                    | Train Loss: 0.20421457011252642 \n",
      "                    | Train Dice Accuracy: 0.9699807562507116 \n",
      "                    | Test Dice Accuracy: 0.9468860891130235\n",
      "                \n"
     ]
    },
    {
     "data": {
      "application/vnd.jupyter.widget-view+json": {
       "model_id": "3c990bb297b24436a9495a337f9bd65a",
       "version_major": 2,
       "version_minor": 0
      },
      "text/plain": [
       "  0%|          | 0/16 [00:00<?, ?it/s]"
      ]
     },
     "metadata": {},
     "output_type": "display_data"
    },
    {
     "name": "stdout",
     "output_type": "stream",
     "text": [
      "\n",
      "                Epoch: 659 / 1000 \n",
      "                | Train Loss: 0.1729160831309855 \n",
      "                | Train Dice Accuracy: 0.97086580076883 \n",
      "            \n"
     ]
    },
    {
     "data": {
      "application/vnd.jupyter.widget-view+json": {
       "model_id": "3b3b595e1bff4eaab5dfcad7477b1541",
       "version_major": 2,
       "version_minor": 0
      },
      "text/plain": [
       "  0%|          | 0/16 [00:00<?, ?it/s]"
      ]
     },
     "metadata": {},
     "output_type": "display_data"
    },
    {
     "name": "stdout",
     "output_type": "stream",
     "text": [
      "\n",
      "                    Epoch: 660 / 1000 \n",
      "                    | Train Loss: 0.18109549721702933 \n",
      "                    | Train Dice Accuracy: 0.9521224374572436 \n",
      "                    | Test Dice Accuracy: 0.9520808259646097\n",
      "                \n"
     ]
    },
    {
     "data": {
      "application/vnd.jupyter.widget-view+json": {
       "model_id": "8b7a4e16f66f4a3fae95e0d09572b029",
       "version_major": 2,
       "version_minor": 0
      },
      "text/plain": [
       "  0%|          | 0/16 [00:00<?, ?it/s]"
      ]
     },
     "metadata": {},
     "output_type": "display_data"
    },
    {
     "name": "stdout",
     "output_type": "stream",
     "text": [
      "\n",
      "                Epoch: 661 / 1000 \n",
      "                | Train Loss: 0.17877637781202793 \n",
      "                | Train Dice Accuracy: 0.970594789380225 \n",
      "            \n"
     ]
    },
    {
     "data": {
      "application/vnd.jupyter.widget-view+json": {
       "model_id": "70b56fb9e53048c99d8d153607bfd4f1",
       "version_major": 2,
       "version_minor": 0
      },
      "text/plain": [
       "  0%|          | 0/16 [00:00<?, ?it/s]"
      ]
     },
     "metadata": {},
     "output_type": "display_data"
    },
    {
     "name": "stdout",
     "output_type": "stream",
     "text": [
      "\n",
      "                    Epoch: 662 / 1000 \n",
      "                    | Train Loss: 0.14393120794557035 \n",
      "                    | Train Dice Accuracy: 0.9617429015371535 \n",
      "                    | Test Dice Accuracy: 0.9514290425512526\n",
      "                \n"
     ]
    },
    {
     "data": {
      "application/vnd.jupyter.widget-view+json": {
       "model_id": "258fd8912180499bbeb6a0243c325e01",
       "version_major": 2,
       "version_minor": 0
      },
      "text/plain": [
       "  0%|          | 0/16 [00:00<?, ?it/s]"
      ]
     },
     "metadata": {},
     "output_type": "display_data"
    },
    {
     "name": "stdout",
     "output_type": "stream",
     "text": [
      "\n",
      "                Epoch: 663 / 1000 \n",
      "                | Train Loss: 0.15457954909652472 \n",
      "                | Train Dice Accuracy: 0.9625974625080556 \n",
      "            \n"
     ]
    },
    {
     "data": {
      "application/vnd.jupyter.widget-view+json": {
       "model_id": "17e1fa23d7f642fbbf435c01e17ac492",
       "version_major": 2,
       "version_minor": 0
      },
      "text/plain": [
       "  0%|          | 0/16 [00:00<?, ?it/s]"
      ]
     },
     "metadata": {},
     "output_type": "display_data"
    },
    {
     "name": "stdout",
     "output_type": "stream",
     "text": [
      "\n",
      "                    Epoch: 664 / 1000 \n",
      "                    | Train Loss: 0.1572229559533298 \n",
      "                    | Train Dice Accuracy: 0.9666937047784979 \n",
      "                    | Test Dice Accuracy: 0.9519109063678317\n",
      "                \n"
     ]
    },
    {
     "data": {
      "application/vnd.jupyter.widget-view+json": {
       "model_id": "8d0d99cdd59d4790ab5569822498ec65",
       "version_major": 2,
       "version_minor": 0
      },
      "text/plain": [
       "  0%|          | 0/16 [00:00<?, ?it/s]"
      ]
     },
     "metadata": {},
     "output_type": "display_data"
    },
    {
     "name": "stdout",
     "output_type": "stream",
     "text": [
      "\n",
      "                Epoch: 665 / 1000 \n",
      "                | Train Loss: 0.17304368596524 \n",
      "                | Train Dice Accuracy: 0.96412759717159 \n",
      "            \n"
     ]
    },
    {
     "data": {
      "application/vnd.jupyter.widget-view+json": {
       "model_id": "58da585be9384fd7a5767ca8a3736ec7",
       "version_major": 2,
       "version_minor": 0
      },
      "text/plain": [
       "  0%|          | 0/16 [00:00<?, ?it/s]"
      ]
     },
     "metadata": {},
     "output_type": "display_data"
    },
    {
     "name": "stdout",
     "output_type": "stream",
     "text": [
      "\n",
      "                    Epoch: 666 / 1000 \n",
      "                    | Train Loss: 0.17340977187268436 \n",
      "                    | Train Dice Accuracy: 0.9687059469245098 \n",
      "                    | Test Dice Accuracy: 0.9464128481017219\n",
      "                \n"
     ]
    },
    {
     "data": {
      "application/vnd.jupyter.widget-view+json": {
       "model_id": "958bfa4cacaa4f06a0409ffc05b90190",
       "version_major": 2,
       "version_minor": 0
      },
      "text/plain": [
       "  0%|          | 0/16 [00:00<?, ?it/s]"
      ]
     },
     "metadata": {},
     "output_type": "display_data"
    },
    {
     "name": "stdout",
     "output_type": "stream",
     "text": [
      "\n",
      "                Epoch: 667 / 1000 \n",
      "                | Train Loss: 0.15471024718135595 \n",
      "                | Train Dice Accuracy: 0.9683551753268522 \n",
      "            \n"
     ]
    },
    {
     "data": {
      "application/vnd.jupyter.widget-view+json": {
       "model_id": "44f7e0b6cb904b3b988b7f04ab66a016",
       "version_major": 2,
       "version_minor": 0
      },
      "text/plain": [
       "  0%|          | 0/16 [00:00<?, ?it/s]"
      ]
     },
     "metadata": {},
     "output_type": "display_data"
    },
    {
     "name": "stdout",
     "output_type": "stream",
     "text": [
      "\n",
      "                    Epoch: 668 / 1000 \n",
      "                    | Train Loss: 0.1611461245920509 \n",
      "                    | Train Dice Accuracy: 0.9642247143945738 \n",
      "                    | Test Dice Accuracy: 0.9492095112800598\n",
      "                \n"
     ]
    },
    {
     "data": {
      "application/vnd.jupyter.widget-view+json": {
       "model_id": "c517859612004c6f8ed5568e7c3e0970",
       "version_major": 2,
       "version_minor": 0
      },
      "text/plain": [
       "  0%|          | 0/16 [00:00<?, ?it/s]"
      ]
     },
     "metadata": {},
     "output_type": "display_data"
    },
    {
     "name": "stdout",
     "output_type": "stream",
     "text": [
      "\n",
      "                Epoch: 669 / 1000 \n",
      "                | Train Loss: 0.1953359879553318 \n",
      "                | Train Dice Accuracy: 0.9595422334266159 \n",
      "            \n"
     ]
    },
    {
     "data": {
      "application/vnd.jupyter.widget-view+json": {
       "model_id": "94046ac6a5174e098950a10e48cd53f6",
       "version_major": 2,
       "version_minor": 0
      },
      "text/plain": [
       "  0%|          | 0/16 [00:00<?, ?it/s]"
      ]
     },
     "metadata": {},
     "output_type": "display_data"
    },
    {
     "name": "stdout",
     "output_type": "stream",
     "text": [
      "\n",
      "                    Epoch: 670 / 1000 \n",
      "                    | Train Loss: 0.16492732241749763 \n",
      "                    | Train Dice Accuracy: 0.9546493105758909 \n",
      "                    | Test Dice Accuracy: 0.951461136341095\n",
      "                \n"
     ]
    },
    {
     "data": {
      "application/vnd.jupyter.widget-view+json": {
       "model_id": "0d3159ef51c3482aa6c9ec375ad54254",
       "version_major": 2,
       "version_minor": 0
      },
      "text/plain": [
       "  0%|          | 0/16 [00:00<?, ?it/s]"
      ]
     },
     "metadata": {},
     "output_type": "display_data"
    },
    {
     "name": "stdout",
     "output_type": "stream",
     "text": [
      "\n",
      "                Epoch: 671 / 1000 \n",
      "                | Train Loss: 0.1903050122782588 \n",
      "                | Train Dice Accuracy: 0.9661595647065144 \n",
      "            \n"
     ]
    },
    {
     "data": {
      "application/vnd.jupyter.widget-view+json": {
       "model_id": "2be444a05dfd46528a42dacde7fa7750",
       "version_major": 2,
       "version_minor": 0
      },
      "text/plain": [
       "  0%|          | 0/16 [00:00<?, ?it/s]"
      ]
     },
     "metadata": {},
     "output_type": "display_data"
    },
    {
     "name": "stdout",
     "output_type": "stream",
     "text": [
      "\n",
      "                    Epoch: 672 / 1000 \n",
      "                    | Train Loss: 0.18475410947576165 \n",
      "                    | Train Dice Accuracy: 0.9579150446625643 \n",
      "                    | Test Dice Accuracy: 0.9355444378323026\n",
      "                \n"
     ]
    },
    {
     "data": {
      "application/vnd.jupyter.widget-view+json": {
       "model_id": "bd85184d9bd4401eb25b6a6bd971362d",
       "version_major": 2,
       "version_minor": 0
      },
      "text/plain": [
       "  0%|          | 0/16 [00:00<?, ?it/s]"
      ]
     },
     "metadata": {},
     "output_type": "display_data"
    },
    {
     "name": "stdout",
     "output_type": "stream",
     "text": [
      "\n",
      "                Epoch: 673 / 1000 \n",
      "                | Train Loss: 0.19097506604157388 \n",
      "                | Train Dice Accuracy: 0.9664796894451357 \n",
      "            \n"
     ]
    },
    {
     "data": {
      "application/vnd.jupyter.widget-view+json": {
       "model_id": "1620d979712a48169dea3b460be0edbd",
       "version_major": 2,
       "version_minor": 0
      },
      "text/plain": [
       "  0%|          | 0/16 [00:00<?, ?it/s]"
      ]
     },
     "metadata": {},
     "output_type": "display_data"
    },
    {
     "name": "stdout",
     "output_type": "stream",
     "text": [
      "\n",
      "                    Epoch: 674 / 1000 \n",
      "                    | Train Loss: 0.19280002173036337 \n",
      "                    | Train Dice Accuracy: 0.9700439134480264 \n",
      "                    | Test Dice Accuracy: 0.9453796876801385\n",
      "                \n"
     ]
    },
    {
     "data": {
      "application/vnd.jupyter.widget-view+json": {
       "model_id": "757e332fa9054589b76823c7ce0ed287",
       "version_major": 2,
       "version_minor": 0
      },
      "text/plain": [
       "  0%|          | 0/16 [00:00<?, ?it/s]"
      ]
     },
     "metadata": {},
     "output_type": "display_data"
    },
    {
     "name": "stdout",
     "output_type": "stream",
     "text": [
      "\n",
      "                Epoch: 675 / 1000 \n",
      "                | Train Loss: 0.20423771254718304 \n",
      "                | Train Dice Accuracy: 0.9701158294931126 \n",
      "            \n"
     ]
    },
    {
     "data": {
      "application/vnd.jupyter.widget-view+json": {
       "model_id": "9f09d97e8ca24dcdba912338d7b7def3",
       "version_major": 2,
       "version_minor": 0
      },
      "text/plain": [
       "  0%|          | 0/16 [00:00<?, ?it/s]"
      ]
     },
     "metadata": {},
     "output_type": "display_data"
    },
    {
     "name": "stdout",
     "output_type": "stream",
     "text": [
      "\n",
      "                    Epoch: 676 / 1000 \n",
      "                    | Train Loss: 0.17058258852921426 \n",
      "                    | Train Dice Accuracy: 0.9597064964815017 \n",
      "                    | Test Dice Accuracy: 0.946607596344418\n",
      "                \n"
     ]
    },
    {
     "data": {
      "application/vnd.jupyter.widget-view+json": {
       "model_id": "570fadb7b4aa4ccfb743362885781387",
       "version_major": 2,
       "version_minor": 0
      },
      "text/plain": [
       "  0%|          | 0/16 [00:00<?, ?it/s]"
      ]
     },
     "metadata": {},
     "output_type": "display_data"
    },
    {
     "name": "stdout",
     "output_type": "stream",
     "text": [
      "\n",
      "                Epoch: 677 / 1000 \n",
      "                | Train Loss: 0.17689595324918628 \n",
      "                | Train Dice Accuracy: 0.9639808143730517 \n",
      "            \n"
     ]
    },
    {
     "data": {
      "application/vnd.jupyter.widget-view+json": {
       "model_id": "90b06183e9824b64b83c93fc7beee3ed",
       "version_major": 2,
       "version_minor": 0
      },
      "text/plain": [
       "  0%|          | 0/16 [00:00<?, ?it/s]"
      ]
     },
     "metadata": {},
     "output_type": "display_data"
    },
    {
     "name": "stdout",
     "output_type": "stream",
     "text": [
      "\n",
      "                    Epoch: 678 / 1000 \n",
      "                    | Train Loss: 0.1480791405774653 \n",
      "                    | Train Dice Accuracy: 0.9657011796540743 \n",
      "                    | Test Dice Accuracy: 0.9493954645262824\n",
      "                \n"
     ]
    },
    {
     "data": {
      "application/vnd.jupyter.widget-view+json": {
       "model_id": "47ece98ec916483b86da8405589ac38f",
       "version_major": 2,
       "version_minor": 0
      },
      "text/plain": [
       "  0%|          | 0/16 [00:00<?, ?it/s]"
      ]
     },
     "metadata": {},
     "output_type": "display_data"
    },
    {
     "name": "stdout",
     "output_type": "stream",
     "text": [
      "\n",
      "                Epoch: 679 / 1000 \n",
      "                | Train Loss: 0.17080070730298758 \n",
      "                | Train Dice Accuracy: 0.9647014838759251 \n",
      "            \n"
     ]
    },
    {
     "data": {
      "application/vnd.jupyter.widget-view+json": {
       "model_id": "664d7aa3fef843978c2ad0e38634115f",
       "version_major": 2,
       "version_minor": 0
      },
      "text/plain": [
       "  0%|          | 0/16 [00:00<?, ?it/s]"
      ]
     },
     "metadata": {},
     "output_type": "display_data"
    },
    {
     "name": "stdout",
     "output_type": "stream",
     "text": [
      "\n",
      "                    Epoch: 680 / 1000 \n",
      "                    | Train Loss: 0.2001858234871179 \n",
      "                    | Train Dice Accuracy: 0.9710041159077695 \n",
      "                    | Test Dice Accuracy: 0.9504378901587592\n",
      "                \n"
     ]
    },
    {
     "data": {
      "application/vnd.jupyter.widget-view+json": {
       "model_id": "115310e447f4435b8126909738a8dd45",
       "version_major": 2,
       "version_minor": 0
      },
      "text/plain": [
       "  0%|          | 0/16 [00:00<?, ?it/s]"
      ]
     },
     "metadata": {},
     "output_type": "display_data"
    },
    {
     "name": "stdout",
     "output_type": "stream",
     "text": [
      "\n",
      "                Epoch: 681 / 1000 \n",
      "                | Train Loss: 0.20419203024357557 \n",
      "                | Train Dice Accuracy: 0.9636830102938873 \n",
      "            \n"
     ]
    },
    {
     "data": {
      "application/vnd.jupyter.widget-view+json": {
       "model_id": "4e98ba8129a44c1bb31246d95c7a1262",
       "version_major": 2,
       "version_minor": 0
      },
      "text/plain": [
       "  0%|          | 0/16 [00:00<?, ?it/s]"
      ]
     },
     "metadata": {},
     "output_type": "display_data"
    },
    {
     "name": "stdout",
     "output_type": "stream",
     "text": [
      "\n",
      "                    Epoch: 682 / 1000 \n",
      "                    | Train Loss: 0.1948138813022524 \n",
      "                    | Train Dice Accuracy: 0.97085076939492 \n",
      "                    | Test Dice Accuracy: 0.9492789440684848\n",
      "                \n"
     ]
    },
    {
     "data": {
      "application/vnd.jupyter.widget-view+json": {
       "model_id": "b6ae9358c49d4550bca5de1452691101",
       "version_major": 2,
       "version_minor": 0
      },
      "text/plain": [
       "  0%|          | 0/16 [00:00<?, ?it/s]"
      ]
     },
     "metadata": {},
     "output_type": "display_data"
    },
    {
     "name": "stdout",
     "output_type": "stream",
     "text": [
      "\n",
      "                Epoch: 683 / 1000 \n",
      "                | Train Loss: 0.14021439524367452 \n",
      "                | Train Dice Accuracy: 0.9670030493206448 \n",
      "            \n"
     ]
    },
    {
     "data": {
      "application/vnd.jupyter.widget-view+json": {
       "model_id": "dcc1cf39dea64f1e89e4bb056249847b",
       "version_major": 2,
       "version_minor": 0
      },
      "text/plain": [
       "  0%|          | 0/16 [00:00<?, ?it/s]"
      ]
     },
     "metadata": {},
     "output_type": "display_data"
    },
    {
     "name": "stdout",
     "output_type": "stream",
     "text": [
      "\n",
      "                    Epoch: 684 / 1000 \n",
      "                    | Train Loss: 0.17395151127129793 \n",
      "                    | Train Dice Accuracy: 0.9637340614872594 \n",
      "                    | Test Dice Accuracy: 0.9445699585808648\n",
      "                \n"
     ]
    },
    {
     "data": {
      "application/vnd.jupyter.widget-view+json": {
       "model_id": "385e10df95e0482c86f8c5a8fd6fa2cf",
       "version_major": 2,
       "version_minor": 0
      },
      "text/plain": [
       "  0%|          | 0/16 [00:00<?, ?it/s]"
      ]
     },
     "metadata": {},
     "output_type": "display_data"
    },
    {
     "name": "stdout",
     "output_type": "stream",
     "text": [
      "\n",
      "                Epoch: 685 / 1000 \n",
      "                | Train Loss: 0.19373052287846804 \n",
      "                | Train Dice Accuracy: 0.9699024179535455 \n",
      "            \n"
     ]
    },
    {
     "data": {
      "application/vnd.jupyter.widget-view+json": {
       "model_id": "fd471dd4b7304f1db07a18b0d5b6f1d6",
       "version_major": 2,
       "version_minor": 0
      },
      "text/plain": [
       "  0%|          | 0/16 [00:00<?, ?it/s]"
      ]
     },
     "metadata": {},
     "output_type": "display_data"
    },
    {
     "name": "stdout",
     "output_type": "stream",
     "text": [
      "\n",
      "                    Epoch: 686 / 1000 \n",
      "                    | Train Loss: 0.1779950091149658 \n",
      "                    | Train Dice Accuracy: 0.9634050748966358 \n",
      "                    | Test Dice Accuracy: 0.9328423539797465\n",
      "                \n"
     ]
    },
    {
     "data": {
      "application/vnd.jupyter.widget-view+json": {
       "model_id": "8d29eddd98dd47cbbef290efd04f5943",
       "version_major": 2,
       "version_minor": 0
      },
      "text/plain": [
       "  0%|          | 0/16 [00:00<?, ?it/s]"
      ]
     },
     "metadata": {},
     "output_type": "display_data"
    },
    {
     "name": "stdout",
     "output_type": "stream",
     "text": [
      "\n",
      "                Epoch: 687 / 1000 \n",
      "                | Train Loss: 0.17519402992911637 \n",
      "                | Train Dice Accuracy: 0.9593103756003666 \n",
      "            \n"
     ]
    },
    {
     "data": {
      "application/vnd.jupyter.widget-view+json": {
       "model_id": "08113a2772b44e4fa22435ece7549416",
       "version_major": 2,
       "version_minor": 0
      },
      "text/plain": [
       "  0%|          | 0/16 [00:00<?, ?it/s]"
      ]
     },
     "metadata": {},
     "output_type": "display_data"
    },
    {
     "name": "stdout",
     "output_type": "stream",
     "text": [
      "\n",
      "                    Epoch: 688 / 1000 \n",
      "                    | Train Loss: 0.15708660264499485 \n",
      "                    | Train Dice Accuracy: 0.9607993100023917 \n",
      "                    | Test Dice Accuracy: 0.9472958379321628\n",
      "                \n"
     ]
    },
    {
     "data": {
      "application/vnd.jupyter.widget-view+json": {
       "model_id": "4ee1cc54e8984b0a93401305e335feea",
       "version_major": 2,
       "version_minor": 0
      },
      "text/plain": [
       "  0%|          | 0/16 [00:00<?, ?it/s]"
      ]
     },
     "metadata": {},
     "output_type": "display_data"
    },
    {
     "name": "stdout",
     "output_type": "stream",
     "text": [
      "\n",
      "                Epoch: 689 / 1000 \n",
      "                | Train Loss: 0.19238525675609708 \n",
      "                | Train Dice Accuracy: 0.9680260626060703 \n",
      "            \n"
     ]
    },
    {
     "data": {
      "application/vnd.jupyter.widget-view+json": {
       "model_id": "c3179e4a53bb448fb120db2cccc496aa",
       "version_major": 2,
       "version_minor": 0
      },
      "text/plain": [
       "  0%|          | 0/16 [00:00<?, ?it/s]"
      ]
     },
     "metadata": {},
     "output_type": "display_data"
    },
    {
     "name": "stdout",
     "output_type": "stream",
     "text": [
      "\n",
      "                    Epoch: 690 / 1000 \n",
      "                    | Train Loss: 0.1651388502214104 \n",
      "                    | Train Dice Accuracy: 0.9535701544576101 \n",
      "                    | Test Dice Accuracy: 0.9143279194831848\n",
      "                \n"
     ]
    },
    {
     "data": {
      "application/vnd.jupyter.widget-view+json": {
       "model_id": "55684ee3fe664304995fd5e7fc00f407",
       "version_major": 2,
       "version_minor": 0
      },
      "text/plain": [
       "  0%|          | 0/16 [00:00<?, ?it/s]"
      ]
     },
     "metadata": {},
     "output_type": "display_data"
    },
    {
     "name": "stdout",
     "output_type": "stream",
     "text": [
      "\n",
      "                Epoch: 691 / 1000 \n",
      "                | Train Loss: 0.17119134939275682 \n",
      "                | Train Dice Accuracy: 0.9590207267569625 \n",
      "            \n"
     ]
    },
    {
     "data": {
      "application/vnd.jupyter.widget-view+json": {
       "model_id": "2234b06321aa4383b6c72a1b2f77e158",
       "version_major": 2,
       "version_minor": 0
      },
      "text/plain": [
       "  0%|          | 0/16 [00:00<?, ?it/s]"
      ]
     },
     "metadata": {},
     "output_type": "display_data"
    },
    {
     "name": "stdout",
     "output_type": "stream",
     "text": [
      "\n",
      "                    Epoch: 692 / 1000 \n",
      "                    | Train Loss: 0.17479932750575244 \n",
      "                    | Train Dice Accuracy: 0.9705366301867697 \n",
      "                    | Test Dice Accuracy: 0.9201006359524198\n",
      "                \n"
     ]
    },
    {
     "data": {
      "application/vnd.jupyter.widget-view+json": {
       "model_id": "c21a68aaa3144f37a19e3e869d683f63",
       "version_major": 2,
       "version_minor": 0
      },
      "text/plain": [
       "  0%|          | 0/16 [00:00<?, ?it/s]"
      ]
     },
     "metadata": {},
     "output_type": "display_data"
    },
    {
     "name": "stdout",
     "output_type": "stream",
     "text": [
      "\n",
      "                Epoch: 693 / 1000 \n",
      "                | Train Loss: 0.1801417674869299 \n",
      "                | Train Dice Accuracy: 0.9667487147255479 \n",
      "            \n"
     ]
    },
    {
     "data": {
      "application/vnd.jupyter.widget-view+json": {
       "model_id": "e4169ab1c11040fdb51e062ad3057391",
       "version_major": 2,
       "version_minor": 0
      },
      "text/plain": [
       "  0%|          | 0/16 [00:00<?, ?it/s]"
      ]
     },
     "metadata": {},
     "output_type": "display_data"
    },
    {
     "name": "stdout",
     "output_type": "stream",
     "text": [
      "\n",
      "                    Epoch: 694 / 1000 \n",
      "                    | Train Loss: 0.22063635289669037 \n",
      "                    | Train Dice Accuracy: 0.9659199825147303 \n",
      "                    | Test Dice Accuracy: 0.9221294654740227\n",
      "                \n"
     ]
    },
    {
     "data": {
      "application/vnd.jupyter.widget-view+json": {
       "model_id": "984dbd8754f349bf80f0314755e88fa1",
       "version_major": 2,
       "version_minor": 0
      },
      "text/plain": [
       "  0%|          | 0/16 [00:00<?, ?it/s]"
      ]
     },
     "metadata": {},
     "output_type": "display_data"
    },
    {
     "name": "stdout",
     "output_type": "stream",
     "text": [
      "\n",
      "                Epoch: 695 / 1000 \n",
      "                | Train Loss: 0.17689540889114141 \n",
      "                | Train Dice Accuracy: 0.9697850357654483 \n",
      "            \n"
     ]
    },
    {
     "data": {
      "application/vnd.jupyter.widget-view+json": {
       "model_id": "1b4a98d345fd4063b5138a048616b236",
       "version_major": 2,
       "version_minor": 0
      },
      "text/plain": [
       "  0%|          | 0/16 [00:00<?, ?it/s]"
      ]
     },
     "metadata": {},
     "output_type": "display_data"
    },
    {
     "name": "stdout",
     "output_type": "stream",
     "text": [
      "\n",
      "                    Epoch: 696 / 1000 \n",
      "                    | Train Loss: 0.1682908469811082 \n",
      "                    | Train Dice Accuracy: 0.9668728700980612 \n",
      "                    | Test Dice Accuracy: 0.9419727524121603\n",
      "                \n"
     ]
    },
    {
     "data": {
      "application/vnd.jupyter.widget-view+json": {
       "model_id": "2e261879975044dbb061c46b4291b713",
       "version_major": 2,
       "version_minor": 0
      },
      "text/plain": [
       "  0%|          | 0/16 [00:00<?, ?it/s]"
      ]
     },
     "metadata": {},
     "output_type": "display_data"
    },
    {
     "name": "stdout",
     "output_type": "stream",
     "text": [
      "\n",
      "                Epoch: 697 / 1000 \n",
      "                | Train Loss: 0.14759430894628167 \n",
      "                | Train Dice Accuracy: 0.9674340136382612 \n",
      "            \n"
     ]
    },
    {
     "data": {
      "application/vnd.jupyter.widget-view+json": {
       "model_id": "ad77b8bfa3bc451aa095f6e119ac14d6",
       "version_major": 2,
       "version_minor": 0
      },
      "text/plain": [
       "  0%|          | 0/16 [00:00<?, ?it/s]"
      ]
     },
     "metadata": {},
     "output_type": "display_data"
    },
    {
     "name": "stdout",
     "output_type": "stream",
     "text": [
      "\n",
      "                    Epoch: 698 / 1000 \n",
      "                    | Train Loss: 0.19032299728132784 \n",
      "                    | Train Dice Accuracy: 0.9639051173214621 \n",
      "                    | Test Dice Accuracy: 0.9422294100125631\n",
      "                \n"
     ]
    },
    {
     "data": {
      "application/vnd.jupyter.widget-view+json": {
       "model_id": "dae71946abd34ef8ae0dd29fb4b54397",
       "version_major": 2,
       "version_minor": 0
      },
      "text/plain": [
       "  0%|          | 0/16 [00:00<?, ?it/s]"
      ]
     },
     "metadata": {},
     "output_type": "display_data"
    },
    {
     "name": "stdout",
     "output_type": "stream",
     "text": [
      "\n",
      "                Epoch: 699 / 1000 \n",
      "                | Train Loss: 0.16423246543854475 \n",
      "                | Train Dice Accuracy: 0.9681526952927265 \n",
      "            \n"
     ]
    },
    {
     "data": {
      "application/vnd.jupyter.widget-view+json": {
       "model_id": "ea7e85f922ff4e5eaaa0671023c3c9cd",
       "version_major": 2,
       "version_minor": 0
      },
      "text/plain": [
       "  0%|          | 0/16 [00:00<?, ?it/s]"
      ]
     },
     "metadata": {},
     "output_type": "display_data"
    },
    {
     "name": "stdout",
     "output_type": "stream",
     "text": [
      "\n",
      "                    Epoch: 700 / 1000 \n",
      "                    | Train Loss: 0.18490783730521798 \n",
      "                    | Train Dice Accuracy: 0.9581890412580187 \n",
      "                    | Test Dice Accuracy: 0.9366552697287666\n",
      "                \n"
     ]
    },
    {
     "data": {
      "application/vnd.jupyter.widget-view+json": {
       "model_id": "3febc52ef9044297b35a2ce9e451b91a",
       "version_major": 2,
       "version_minor": 0
      },
      "text/plain": [
       "  0%|          | 0/16 [00:00<?, ?it/s]"
      ]
     },
     "metadata": {},
     "output_type": "display_data"
    },
    {
     "name": "stdout",
     "output_type": "stream",
     "text": [
      "\n",
      "                Epoch: 701 / 1000 \n",
      "                | Train Loss: 0.15536147565580904 \n",
      "                | Train Dice Accuracy: 0.9639176486304443 \n",
      "            \n"
     ]
    },
    {
     "data": {
      "application/vnd.jupyter.widget-view+json": {
       "model_id": "8e3591e6530b464987c9d8a199ece2a9",
       "version_major": 2,
       "version_minor": 0
      },
      "text/plain": [
       "  0%|          | 0/16 [00:00<?, ?it/s]"
      ]
     },
     "metadata": {},
     "output_type": "display_data"
    },
    {
     "name": "stdout",
     "output_type": "stream",
     "text": [
      "\n",
      "                    Epoch: 702 / 1000 \n",
      "                    | Train Loss: 0.1725897139403969 \n",
      "                    | Train Dice Accuracy: 0.9692783653736115 \n",
      "                    | Test Dice Accuracy: 0.9460730155309042\n",
      "                \n"
     ]
    },
    {
     "data": {
      "application/vnd.jupyter.widget-view+json": {
       "model_id": "1de8929c7f9d4585a31aad1ee7cbb509",
       "version_major": 2,
       "version_minor": 0
      },
      "text/plain": [
       "  0%|          | 0/16 [00:00<?, ?it/s]"
      ]
     },
     "metadata": {},
     "output_type": "display_data"
    },
    {
     "name": "stdout",
     "output_type": "stream",
     "text": [
      "\n",
      "                Epoch: 703 / 1000 \n",
      "                | Train Loss: 0.1737934909760952 \n",
      "                | Train Dice Accuracy: 0.9690690719419055 \n",
      "            \n"
     ]
    },
    {
     "data": {
      "application/vnd.jupyter.widget-view+json": {
       "model_id": "8792480150a045969f96263fad537680",
       "version_major": 2,
       "version_minor": 0
      },
      "text/plain": [
       "  0%|          | 0/16 [00:00<?, ?it/s]"
      ]
     },
     "metadata": {},
     "output_type": "display_data"
    },
    {
     "name": "stdout",
     "output_type": "stream",
     "text": [
      "\n",
      "                    Epoch: 704 / 1000 \n",
      "                    | Train Loss: 0.1682300940155983 \n",
      "                    | Train Dice Accuracy: 0.9641145177937429 \n",
      "                    | Test Dice Accuracy: 0.9492864410082499\n",
      "                \n"
     ]
    },
    {
     "data": {
      "application/vnd.jupyter.widget-view+json": {
       "model_id": "57f7141e8cc2406994d52434227e29ed",
       "version_major": 2,
       "version_minor": 0
      },
      "text/plain": [
       "  0%|          | 0/16 [00:00<?, ?it/s]"
      ]
     },
     "metadata": {},
     "output_type": "display_data"
    },
    {
     "name": "stdout",
     "output_type": "stream",
     "text": [
      "\n",
      "                Epoch: 705 / 1000 \n",
      "                | Train Loss: 0.22564889397472143 \n",
      "                | Train Dice Accuracy: 0.96783895357489 \n",
      "            \n"
     ]
    },
    {
     "data": {
      "application/vnd.jupyter.widget-view+json": {
       "model_id": "b72f51099a034cb79eed17d9510b0fa0",
       "version_major": 2,
       "version_minor": 0
      },
      "text/plain": [
       "  0%|          | 0/16 [00:00<?, ?it/s]"
      ]
     },
     "metadata": {},
     "output_type": "display_data"
    },
    {
     "name": "stdout",
     "output_type": "stream",
     "text": [
      "saved new best spleen metric model\n",
      "\n",
      "                    Epoch: 706 / 1000 \n",
      "                    | Train Loss: 0.19978296430781484 \n",
      "                    | Train Dice Accuracy: 0.9725553017969315 \n",
      "                    | Test Dice Accuracy: 0.9525008532736037\n",
      "                \n"
     ]
    },
    {
     "data": {
      "application/vnd.jupyter.widget-view+json": {
       "model_id": "c312d4f5673d4af1afd4c6c2c1a0ad6e",
       "version_major": 2,
       "version_minor": 0
      },
      "text/plain": [
       "  0%|          | 0/16 [00:00<?, ?it/s]"
      ]
     },
     "metadata": {},
     "output_type": "display_data"
    },
    {
     "name": "stdout",
     "output_type": "stream",
     "text": [
      "\n",
      "                Epoch: 707 / 1000 \n",
      "                | Train Loss: 0.18640507338568568 \n",
      "                | Train Dice Accuracy: 0.9592514344464953 \n",
      "            \n"
     ]
    },
    {
     "data": {
      "application/vnd.jupyter.widget-view+json": {
       "model_id": "aef8edbca4f84a0a9af90b987a3fdc8b",
       "version_major": 2,
       "version_minor": 0
      },
      "text/plain": [
       "  0%|          | 0/16 [00:00<?, ?it/s]"
      ]
     },
     "metadata": {},
     "output_type": "display_data"
    },
    {
     "name": "stdout",
     "output_type": "stream",
     "text": [
      "\n",
      "                    Epoch: 708 / 1000 \n",
      "                    | Train Loss: 0.1767442375421524 \n",
      "                    | Train Dice Accuracy: 0.9640888140498218 \n",
      "                    | Test Dice Accuracy: 0.951806386311849\n",
      "                \n"
     ]
    },
    {
     "data": {
      "application/vnd.jupyter.widget-view+json": {
       "model_id": "9d8022b4decc450583b73e4b1bafe334",
       "version_major": 2,
       "version_minor": 0
      },
      "text/plain": [
       "  0%|          | 0/16 [00:00<?, ?it/s]"
      ]
     },
     "metadata": {},
     "output_type": "display_data"
    },
    {
     "name": "stdout",
     "output_type": "stream",
     "text": [
      "\n",
      "                Epoch: 709 / 1000 \n",
      "                | Train Loss: 0.20982713857665658 \n",
      "                | Train Dice Accuracy: 0.9647973329548675 \n",
      "            \n"
     ]
    },
    {
     "data": {
      "application/vnd.jupyter.widget-view+json": {
       "model_id": "e4d69dfb25434eb8820768691371b064",
       "version_major": 2,
       "version_minor": 0
      },
      "text/plain": [
       "  0%|          | 0/16 [00:00<?, ?it/s]"
      ]
     },
     "metadata": {},
     "output_type": "display_data"
    },
    {
     "name": "stdout",
     "output_type": "stream",
     "text": [
      "\n",
      "                    Epoch: 710 / 1000 \n",
      "                    | Train Loss: 0.1997158620506525 \n",
      "                    | Train Dice Accuracy: 0.9662095685799916 \n",
      "                    | Test Dice Accuracy: 0.9439377784729004\n",
      "                \n"
     ]
    },
    {
     "data": {
      "application/vnd.jupyter.widget-view+json": {
       "model_id": "9c4c2879e6864865b02fcc35f56eacfb",
       "version_major": 2,
       "version_minor": 0
      },
      "text/plain": [
       "  0%|          | 0/16 [00:00<?, ?it/s]"
      ]
     },
     "metadata": {},
     "output_type": "display_data"
    },
    {
     "name": "stdout",
     "output_type": "stream",
     "text": [
      "\n",
      "                Epoch: 711 / 1000 \n",
      "                | Train Loss: 0.19218698353506625 \n",
      "                | Train Dice Accuracy: 0.9698872289386405 \n",
      "            \n"
     ]
    },
    {
     "data": {
      "application/vnd.jupyter.widget-view+json": {
       "model_id": "f50df1bb725f4cb48c28bcd28a87d07c",
       "version_major": 2,
       "version_minor": 0
      },
      "text/plain": [
       "  0%|          | 0/16 [00:00<?, ?it/s]"
      ]
     },
     "metadata": {},
     "output_type": "display_data"
    },
    {
     "name": "stdout",
     "output_type": "stream",
     "text": [
      "\n",
      "                    Epoch: 712 / 1000 \n",
      "                    | Train Loss: 0.1449046533089131 \n",
      "                    | Train Dice Accuracy: 0.9661597111927611 \n",
      "                    | Test Dice Accuracy: 0.9501786165767245\n",
      "                \n"
     ]
    },
    {
     "data": {
      "application/vnd.jupyter.widget-view+json": {
       "model_id": "faecb4178184453b9f2d8500bc53444c",
       "version_major": 2,
       "version_minor": 0
      },
      "text/plain": [
       "  0%|          | 0/16 [00:00<?, ?it/s]"
      ]
     },
     "metadata": {},
     "output_type": "display_data"
    },
    {
     "name": "stdout",
     "output_type": "stream",
     "text": [
      "\n",
      "                Epoch: 713 / 1000 \n",
      "                | Train Loss: 0.1716632228344679 \n",
      "                | Train Dice Accuracy: 0.9701440861379659 \n",
      "            \n"
     ]
    },
    {
     "data": {
      "application/vnd.jupyter.widget-view+json": {
       "model_id": "98b33004449e491e81c1e4e84b91e771",
       "version_major": 2,
       "version_minor": 0
      },
      "text/plain": [
       "  0%|          | 0/16 [00:00<?, ?it/s]"
      ]
     },
     "metadata": {},
     "output_type": "display_data"
    },
    {
     "name": "stdout",
     "output_type": "stream",
     "text": [
      "\n",
      "                    Epoch: 714 / 1000 \n",
      "                    | Train Loss: 0.17618454503826797 \n",
      "                    | Train Dice Accuracy: 0.9649566086354079 \n",
      "                    | Test Dice Accuracy: 0.9449460241529677\n",
      "                \n"
     ]
    },
    {
     "data": {
      "application/vnd.jupyter.widget-view+json": {
       "model_id": "ac12271a15104e979dd3cb718931f5f6",
       "version_major": 2,
       "version_minor": 0
      },
      "text/plain": [
       "  0%|          | 0/16 [00:00<?, ?it/s]"
      ]
     },
     "metadata": {},
     "output_type": "display_data"
    },
    {
     "name": "stdout",
     "output_type": "stream",
     "text": [
      "\n",
      "                Epoch: 715 / 1000 \n",
      "                | Train Loss: 0.17414355860091746 \n",
      "                | Train Dice Accuracy: 0.9661354425316033 \n",
      "            \n"
     ]
    },
    {
     "data": {
      "application/vnd.jupyter.widget-view+json": {
       "model_id": "1eb5ea7f7f4645aab81df5ad142a6b67",
       "version_major": 2,
       "version_minor": 0
      },
      "text/plain": [
       "  0%|          | 0/16 [00:00<?, ?it/s]"
      ]
     },
     "metadata": {},
     "output_type": "display_data"
    },
    {
     "name": "stdout",
     "output_type": "stream",
     "text": [
      "\n",
      "                    Epoch: 716 / 1000 \n",
      "                    | Train Loss: 0.18072506808675826 \n",
      "                    | Train Dice Accuracy: 0.9737718558647264 \n",
      "                    | Test Dice Accuracy: 0.94861282242669\n",
      "                \n"
     ]
    },
    {
     "data": {
      "application/vnd.jupyter.widget-view+json": {
       "model_id": "77d5bb9e4efb4969ae5c0923f5730598",
       "version_major": 2,
       "version_minor": 0
      },
      "text/plain": [
       "  0%|          | 0/16 [00:00<?, ?it/s]"
      ]
     },
     "metadata": {},
     "output_type": "display_data"
    },
    {
     "name": "stdout",
     "output_type": "stream",
     "text": [
      "\n",
      "                Epoch: 717 / 1000 \n",
      "                | Train Loss: 0.16351175727322698 \n",
      "                | Train Dice Accuracy: 0.9616136031063724 \n",
      "            \n"
     ]
    },
    {
     "data": {
      "application/vnd.jupyter.widget-view+json": {
       "model_id": "cdb3f4ffadab41e7a57c5ea3bb16dcd8",
       "version_major": 2,
       "version_minor": 0
      },
      "text/plain": [
       "  0%|          | 0/16 [00:00<?, ?it/s]"
      ]
     },
     "metadata": {},
     "output_type": "display_data"
    },
    {
     "name": "stdout",
     "output_type": "stream",
     "text": [
      "\n",
      "                    Epoch: 718 / 1000 \n",
      "                    | Train Loss: 0.1811515330336988 \n",
      "                    | Train Dice Accuracy: 0.9651495808752898 \n",
      "                    | Test Dice Accuracy: 0.8504050572713217\n",
      "                \n"
     ]
    },
    {
     "data": {
      "application/vnd.jupyter.widget-view+json": {
       "model_id": "6b57ac16c4a64d799b8b7ef5b7fd91e5",
       "version_major": 2,
       "version_minor": 0
      },
      "text/plain": [
       "  0%|          | 0/16 [00:00<?, ?it/s]"
      ]
     },
     "metadata": {},
     "output_type": "display_data"
    },
    {
     "name": "stdout",
     "output_type": "stream",
     "text": [
      "\n",
      "                Epoch: 719 / 1000 \n",
      "                | Train Loss: 0.1877552829682827 \n",
      "                | Train Dice Accuracy: 0.937373585930658 \n",
      "            \n"
     ]
    },
    {
     "data": {
      "application/vnd.jupyter.widget-view+json": {
       "model_id": "166968a6cba249a091ea21b7350fdac4",
       "version_major": 2,
       "version_minor": 0
      },
      "text/plain": [
       "  0%|          | 0/16 [00:00<?, ?it/s]"
      ]
     },
     "metadata": {},
     "output_type": "display_data"
    },
    {
     "name": "stdout",
     "output_type": "stream",
     "text": [
      "\n",
      "                    Epoch: 720 / 1000 \n",
      "                    | Train Loss: 0.1947093536145985 \n",
      "                    | Train Dice Accuracy: 0.9495434600253437 \n",
      "                    | Test Dice Accuracy: 0.9357397556304932\n",
      "                \n"
     ]
    },
    {
     "data": {
      "application/vnd.jupyter.widget-view+json": {
       "model_id": "69c2445566bd44cfa26adf3c725c180c",
       "version_major": 2,
       "version_minor": 0
      },
      "text/plain": [
       "  0%|          | 0/16 [00:00<?, ?it/s]"
      ]
     },
     "metadata": {},
     "output_type": "display_data"
    },
    {
     "name": "stdout",
     "output_type": "stream",
     "text": [
      "\n",
      "                Epoch: 721 / 1000 \n",
      "                | Train Loss: 0.1953159139957279 \n",
      "                | Train Dice Accuracy: 0.9572914514183438 \n",
      "            \n"
     ]
    },
    {
     "data": {
      "application/vnd.jupyter.widget-view+json": {
       "model_id": "ffb1c80b4a18476ca8c89a3be4087688",
       "version_major": 2,
       "version_minor": 0
      },
      "text/plain": [
       "  0%|          | 0/16 [00:00<?, ?it/s]"
      ]
     },
     "metadata": {},
     "output_type": "display_data"
    },
    {
     "name": "stdout",
     "output_type": "stream",
     "text": [
      "\n",
      "                    Epoch: 722 / 1000 \n",
      "                    | Train Loss: 0.17845111899077892 \n",
      "                    | Train Dice Accuracy: 0.9586907340972511 \n",
      "                    | Test Dice Accuracy: 0.9283590382999845\n",
      "                \n"
     ]
    },
    {
     "data": {
      "application/vnd.jupyter.widget-view+json": {
       "model_id": "b1e88d31d63f4d5fa460598929cae9b9",
       "version_major": 2,
       "version_minor": 0
      },
      "text/plain": [
       "  0%|          | 0/16 [00:00<?, ?it/s]"
      ]
     },
     "metadata": {},
     "output_type": "display_data"
    },
    {
     "name": "stdout",
     "output_type": "stream",
     "text": [
      "\n",
      "                Epoch: 723 / 1000 \n",
      "                | Train Loss: 0.17856487492099404 \n",
      "                | Train Dice Accuracy: 0.9649591637212177 \n",
      "            \n"
     ]
    },
    {
     "data": {
      "application/vnd.jupyter.widget-view+json": {
       "model_id": "7e5883b3642a48b7962571774e38fdaf",
       "version_major": 2,
       "version_minor": 0
      },
      "text/plain": [
       "  0%|          | 0/16 [00:00<?, ?it/s]"
      ]
     },
     "metadata": {},
     "output_type": "display_data"
    },
    {
     "name": "stdout",
     "output_type": "stream",
     "text": [
      "\n",
      "                    Epoch: 724 / 1000 \n",
      "                    | Train Loss: 0.19680335465818644 \n",
      "                    | Train Dice Accuracy: 0.9628438039978534 \n",
      "                    | Test Dice Accuracy: 0.9190074801445007\n",
      "                \n"
     ]
    },
    {
     "data": {
      "application/vnd.jupyter.widget-view+json": {
       "model_id": "e41de30eb319434e8adbe96e4f1e8f96",
       "version_major": 2,
       "version_minor": 0
      },
      "text/plain": [
       "  0%|          | 0/16 [00:00<?, ?it/s]"
      ]
     },
     "metadata": {},
     "output_type": "display_data"
    },
    {
     "name": "stdout",
     "output_type": "stream",
     "text": [
      "\n",
      "                Epoch: 725 / 1000 \n",
      "                | Train Loss: 0.17172138509340584 \n",
      "                | Train Dice Accuracy: 0.9593247202558255 \n",
      "            \n"
     ]
    },
    {
     "data": {
      "application/vnd.jupyter.widget-view+json": {
       "model_id": "151059146340443cb47247dd3bf63168",
       "version_major": 2,
       "version_minor": 0
      },
      "text/plain": [
       "  0%|          | 0/16 [00:00<?, ?it/s]"
      ]
     },
     "metadata": {},
     "output_type": "display_data"
    },
    {
     "name": "stdout",
     "output_type": "stream",
     "text": [
      "\n",
      "                    Epoch: 726 / 1000 \n",
      "                    | Train Loss: 0.18836066615767777 \n",
      "                    | Train Dice Accuracy: 0.9703981749853998 \n",
      "                    | Test Dice Accuracy: 0.9284937580426534\n",
      "                \n"
     ]
    },
    {
     "data": {
      "application/vnd.jupyter.widget-view+json": {
       "model_id": "6ba4915d435d484196741e94477cd7a2",
       "version_major": 2,
       "version_minor": 0
      },
      "text/plain": [
       "  0%|          | 0/16 [00:00<?, ?it/s]"
      ]
     },
     "metadata": {},
     "output_type": "display_data"
    },
    {
     "name": "stdout",
     "output_type": "stream",
     "text": [
      "\n",
      "                Epoch: 727 / 1000 \n",
      "                | Train Loss: 0.1390471812337637 \n",
      "                | Train Dice Accuracy: 0.9611881581027951 \n",
      "            \n"
     ]
    },
    {
     "data": {
      "application/vnd.jupyter.widget-view+json": {
       "model_id": "8679394ae08a48b699a72795966ffe87",
       "version_major": 2,
       "version_minor": 0
      },
      "text/plain": [
       "  0%|          | 0/16 [00:00<?, ?it/s]"
      ]
     },
     "metadata": {},
     "output_type": "display_data"
    },
    {
     "name": "stdout",
     "output_type": "stream",
     "text": [
      "\n",
      "                    Epoch: 728 / 1000 \n",
      "                    | Train Loss: 0.19925098703242838 \n",
      "                    | Train Dice Accuracy: 0.9701888424357729 \n",
      "                    | Test Dice Accuracy: 0.9369987712966071\n",
      "                \n"
     ]
    },
    {
     "data": {
      "application/vnd.jupyter.widget-view+json": {
       "model_id": "1867f714150a40e89df42631ac7b0e85",
       "version_major": 2,
       "version_minor": 0
      },
      "text/plain": [
       "  0%|          | 0/16 [00:00<?, ?it/s]"
      ]
     },
     "metadata": {},
     "output_type": "display_data"
    },
    {
     "name": "stdout",
     "output_type": "stream",
     "text": [
      "\n",
      "                Epoch: 729 / 1000 \n",
      "                | Train Loss: 0.15658559603616595 \n",
      "                | Train Dice Accuracy: 0.9615562174234304 \n",
      "            \n"
     ]
    },
    {
     "data": {
      "application/vnd.jupyter.widget-view+json": {
       "model_id": "b0e3a360a110436798f4cd3b43904194",
       "version_major": 2,
       "version_minor": 0
      },
      "text/plain": [
       "  0%|          | 0/16 [00:00<?, ?it/s]"
      ]
     },
     "metadata": {},
     "output_type": "display_data"
    },
    {
     "name": "stdout",
     "output_type": "stream",
     "text": [
      "\n",
      "                    Epoch: 730 / 1000 \n",
      "                    | Train Loss: 0.15694180969148874 \n",
      "                    | Train Dice Accuracy: 0.9582003994030995 \n",
      "                    | Test Dice Accuracy: 0.9499111506674025\n",
      "                \n"
     ]
    },
    {
     "data": {
      "application/vnd.jupyter.widget-view+json": {
       "model_id": "ad45f70724d94b99b6c3bf434a9ac002",
       "version_major": 2,
       "version_minor": 0
      },
      "text/plain": [
       "  0%|          | 0/16 [00:00<?, ?it/s]"
      ]
     },
     "metadata": {},
     "output_type": "display_data"
    },
    {
     "name": "stdout",
     "output_type": "stream",
     "text": [
      "\n",
      "                Epoch: 731 / 1000 \n",
      "                | Train Loss: 0.14266791101545095 \n",
      "                | Train Dice Accuracy: 0.965578186776903 \n",
      "            \n"
     ]
    },
    {
     "data": {
      "application/vnd.jupyter.widget-view+json": {
       "model_id": "f11f2d0cb30943d5a521653cba1eba99",
       "version_major": 2,
       "version_minor": 0
      },
      "text/plain": [
       "  0%|          | 0/16 [00:00<?, ?it/s]"
      ]
     },
     "metadata": {},
     "output_type": "display_data"
    },
    {
     "name": "stdout",
     "output_type": "stream",
     "text": [
      "\n",
      "                    Epoch: 732 / 1000 \n",
      "                    | Train Loss: 0.15338435769081116 \n",
      "                    | Train Dice Accuracy: 0.9649044237695299 \n",
      "                    | Test Dice Accuracy: 0.9451872905095419\n",
      "                \n"
     ]
    },
    {
     "data": {
      "application/vnd.jupyter.widget-view+json": {
       "model_id": "57e8c7bbd3cc4dc19c39993b6134bcd4",
       "version_major": 2,
       "version_minor": 0
      },
      "text/plain": [
       "  0%|          | 0/16 [00:00<?, ?it/s]"
      ]
     },
     "metadata": {},
     "output_type": "display_data"
    },
    {
     "name": "stdout",
     "output_type": "stream",
     "text": [
      "\n",
      "                Epoch: 733 / 1000 \n",
      "                | Train Loss: 0.18706121109426022 \n",
      "                | Train Dice Accuracy: 0.9686253835570138 \n",
      "            \n"
     ]
    },
    {
     "data": {
      "application/vnd.jupyter.widget-view+json": {
       "model_id": "d28087202be84eadbffdc398ff0b622b",
       "version_major": 2,
       "version_minor": 0
      },
      "text/plain": [
       "  0%|          | 0/16 [00:00<?, ?it/s]"
      ]
     },
     "metadata": {},
     "output_type": "display_data"
    },
    {
     "name": "stdout",
     "output_type": "stream",
     "text": [
      "\n",
      "                    Epoch: 734 / 1000 \n",
      "                    | Train Loss: 0.1834932449273765 \n",
      "                    | Train Dice Accuracy: 0.9712537806918363 \n",
      "                    | Test Dice Accuracy: 0.9458501603868272\n",
      "                \n"
     ]
    },
    {
     "data": {
      "application/vnd.jupyter.widget-view+json": {
       "model_id": "afc631809dcd4338b73f52d409623430",
       "version_major": 2,
       "version_minor": 0
      },
      "text/plain": [
       "  0%|          | 0/16 [00:00<?, ?it/s]"
      ]
     },
     "metadata": {},
     "output_type": "display_data"
    },
    {
     "name": "stdout",
     "output_type": "stream",
     "text": [
      "\n",
      "                Epoch: 735 / 1000 \n",
      "                | Train Loss: 0.19023179775103927 \n",
      "                | Train Dice Accuracy: 0.9699976236190436 \n",
      "            \n"
     ]
    },
    {
     "data": {
      "application/vnd.jupyter.widget-view+json": {
       "model_id": "1a992f8c645743ad8d5d578124e479b0",
       "version_major": 2,
       "version_minor": 0
      },
      "text/plain": [
       "  0%|          | 0/16 [00:00<?, ?it/s]"
      ]
     },
     "metadata": {},
     "output_type": "display_data"
    },
    {
     "name": "stdout",
     "output_type": "stream",
     "text": [
      "\n",
      "                    Epoch: 736 / 1000 \n",
      "                    | Train Loss: 0.17133682454004884 \n",
      "                    | Train Dice Accuracy: 0.9726850263498448 \n",
      "                    | Test Dice Accuracy: 0.9494030475616455\n",
      "                \n"
     ]
    },
    {
     "data": {
      "application/vnd.jupyter.widget-view+json": {
       "model_id": "5ed4e47eba3b4c6e839f06c34b16a0d8",
       "version_major": 2,
       "version_minor": 0
      },
      "text/plain": [
       "  0%|          | 0/16 [00:00<?, ?it/s]"
      ]
     },
     "metadata": {},
     "output_type": "display_data"
    },
    {
     "name": "stdout",
     "output_type": "stream",
     "text": [
      "\n",
      "                Epoch: 737 / 1000 \n",
      "                | Train Loss: 0.17449999740347266 \n",
      "                | Train Dice Accuracy: 0.9724311848019445 \n",
      "            \n"
     ]
    },
    {
     "data": {
      "application/vnd.jupyter.widget-view+json": {
       "model_id": "544245f3bdb241e6b95657218185adbd",
       "version_major": 2,
       "version_minor": 0
      },
      "text/plain": [
       "  0%|          | 0/16 [00:00<?, ?it/s]"
      ]
     },
     "metadata": {},
     "output_type": "display_data"
    },
    {
     "name": "stdout",
     "output_type": "stream",
     "text": [
      "\n",
      "                    Epoch: 738 / 1000 \n",
      "                    | Train Loss: 0.16091112769208848 \n",
      "                    | Train Dice Accuracy: 0.9641775643283671 \n",
      "                    | Test Dice Accuracy: 0.9475783440801833\n",
      "                \n"
     ]
    },
    {
     "data": {
      "application/vnd.jupyter.widget-view+json": {
       "model_id": "18d787f052e24ae9a291c689161ff8c6",
       "version_major": 2,
       "version_minor": 0
      },
      "text/plain": [
       "  0%|          | 0/16 [00:00<?, ?it/s]"
      ]
     },
     "metadata": {},
     "output_type": "display_data"
    },
    {
     "name": "stdout",
     "output_type": "stream",
     "text": [
      "\n",
      "                Epoch: 739 / 1000 \n",
      "                | Train Loss: 0.16851104237139225 \n",
      "                | Train Dice Accuracy: 0.9704270816069045 \n",
      "            \n"
     ]
    },
    {
     "data": {
      "application/vnd.jupyter.widget-view+json": {
       "model_id": "61a88107dba54164b169eca68064dd8c",
       "version_major": 2,
       "version_minor": 0
      },
      "text/plain": [
       "  0%|          | 0/16 [00:00<?, ?it/s]"
      ]
     },
     "metadata": {},
     "output_type": "display_data"
    },
    {
     "name": "stdout",
     "output_type": "stream",
     "text": [
      "\n",
      "                    Epoch: 740 / 1000 \n",
      "                    | Train Loss: 0.1921933013945818 \n",
      "                    | Train Dice Accuracy: 0.9632886113985529 \n",
      "                    | Test Dice Accuracy: 0.9484977920850118\n",
      "                \n"
     ]
    },
    {
     "data": {
      "application/vnd.jupyter.widget-view+json": {
       "model_id": "09f790280bdd4a99865e79f9e0a413ba",
       "version_major": 2,
       "version_minor": 0
      },
      "text/plain": [
       "  0%|          | 0/16 [00:00<?, ?it/s]"
      ]
     },
     "metadata": {},
     "output_type": "display_data"
    },
    {
     "name": "stdout",
     "output_type": "stream",
     "text": [
      "\n",
      "                Epoch: 741 / 1000 \n",
      "                | Train Loss: 0.18104806286282837 \n",
      "                | Train Dice Accuracy: 0.9688910750028129 \n",
      "            \n"
     ]
    },
    {
     "data": {
      "application/vnd.jupyter.widget-view+json": {
       "model_id": "0d181dd0d82a464b9fd1a7fd845e75d8",
       "version_major": 2,
       "version_minor": 0
      },
      "text/plain": [
       "  0%|          | 0/16 [00:00<?, ?it/s]"
      ]
     },
     "metadata": {},
     "output_type": "display_data"
    },
    {
     "name": "stdout",
     "output_type": "stream",
     "text": [
      "\n",
      "                    Epoch: 742 / 1000 \n",
      "                    | Train Loss: 0.17816156893968582 \n",
      "                    | Train Dice Accuracy: 0.9707074903439139 \n",
      "                    | Test Dice Accuracy: 0.9452357821994357\n",
      "                \n"
     ]
    },
    {
     "data": {
      "application/vnd.jupyter.widget-view+json": {
       "model_id": "1d251441018049e49c717c67ff731466",
       "version_major": 2,
       "version_minor": 0
      },
      "text/plain": [
       "  0%|          | 0/16 [00:00<?, ?it/s]"
      ]
     },
     "metadata": {},
     "output_type": "display_data"
    },
    {
     "name": "stdout",
     "output_type": "stream",
     "text": [
      "\n",
      "                Epoch: 743 / 1000 \n",
      "                | Train Loss: 0.1624132264405489 \n",
      "                | Train Dice Accuracy: 0.9737628378452511 \n",
      "            \n"
     ]
    },
    {
     "data": {
      "application/vnd.jupyter.widget-view+json": {
       "model_id": "41a1f8b3dc0341ff958a0b4afbc2ef8d",
       "version_major": 2,
       "version_minor": 0
      },
      "text/plain": [
       "  0%|          | 0/16 [00:00<?, ?it/s]"
      ]
     },
     "metadata": {},
     "output_type": "display_data"
    },
    {
     "name": "stdout",
     "output_type": "stream",
     "text": [
      "\n",
      "                    Epoch: 744 / 1000 \n",
      "                    | Train Loss: 0.21727929776534438 \n",
      "                    | Train Dice Accuracy: 0.9730991198151719 \n",
      "                    | Test Dice Accuracy: 0.9460143579377068\n",
      "                \n"
     ]
    },
    {
     "data": {
      "application/vnd.jupyter.widget-view+json": {
       "model_id": "eae681450974418eaf735a0775ee4dd9",
       "version_major": 2,
       "version_minor": 0
      },
      "text/plain": [
       "  0%|          | 0/16 [00:00<?, ?it/s]"
      ]
     },
     "metadata": {},
     "output_type": "display_data"
    },
    {
     "name": "stdout",
     "output_type": "stream",
     "text": [
      "\n",
      "                Epoch: 745 / 1000 \n",
      "                | Train Loss: 0.17588132480159402 \n",
      "                | Train Dice Accuracy: 0.9663376783331236 \n",
      "            \n"
     ]
    },
    {
     "data": {
      "application/vnd.jupyter.widget-view+json": {
       "model_id": "20a501028a234d5ba7965dcc19945642",
       "version_major": 2,
       "version_minor": 0
      },
      "text/plain": [
       "  0%|          | 0/16 [00:00<?, ?it/s]"
      ]
     },
     "metadata": {},
     "output_type": "display_data"
    },
    {
     "name": "stdout",
     "output_type": "stream",
     "text": [
      "\n",
      "                    Epoch: 746 / 1000 \n",
      "                    | Train Loss: 0.19454425573349 \n",
      "                    | Train Dice Accuracy: 0.9722819509960356 \n",
      "                    | Test Dice Accuracy: 0.9444963733355204\n",
      "                \n"
     ]
    },
    {
     "data": {
      "application/vnd.jupyter.widget-view+json": {
       "model_id": "965277540b6f486cb874862a7f08bff2",
       "version_major": 2,
       "version_minor": 0
      },
      "text/plain": [
       "  0%|          | 0/16 [00:00<?, ?it/s]"
      ]
     },
     "metadata": {},
     "output_type": "display_data"
    },
    {
     "name": "stdout",
     "output_type": "stream",
     "text": [
      "\n",
      "                Epoch: 747 / 1000 \n",
      "                | Train Loss: 0.15851971181109548 \n",
      "                | Train Dice Accuracy: 0.9660955968228253 \n",
      "            \n"
     ]
    },
    {
     "data": {
      "application/vnd.jupyter.widget-view+json": {
       "model_id": "30b0d8c8674a470fac6799b78a5d874e",
       "version_major": 2,
       "version_minor": 0
      },
      "text/plain": [
       "  0%|          | 0/16 [00:00<?, ?it/s]"
      ]
     },
     "metadata": {},
     "output_type": "display_data"
    },
    {
     "name": "stdout",
     "output_type": "stream",
     "text": [
      "\n",
      "                    Epoch: 748 / 1000 \n",
      "                    | Train Loss: 0.1443490874953568 \n",
      "                    | Train Dice Accuracy: 0.9710780069432451 \n",
      "                    | Test Dice Accuracy: 0.9494139618343778\n",
      "                \n"
     ]
    },
    {
     "data": {
      "application/vnd.jupyter.widget-view+json": {
       "model_id": "89751335fcca4f0f8b8425f432542ede",
       "version_major": 2,
       "version_minor": 0
      },
      "text/plain": [
       "  0%|          | 0/16 [00:00<?, ?it/s]"
      ]
     },
     "metadata": {},
     "output_type": "display_data"
    },
    {
     "name": "stdout",
     "output_type": "stream",
     "text": [
      "\n",
      "                Epoch: 749 / 1000 \n",
      "                | Train Loss: 0.1474920178297907 \n",
      "                | Train Dice Accuracy: 0.9664183601135631 \n",
      "            \n"
     ]
    },
    {
     "data": {
      "application/vnd.jupyter.widget-view+json": {
       "model_id": "4d4b76f6509443f1a3fbd16381c1c81a",
       "version_major": 2,
       "version_minor": 0
      },
      "text/plain": [
       "  0%|          | 0/16 [00:00<?, ?it/s]"
      ]
     },
     "metadata": {},
     "output_type": "display_data"
    },
    {
     "name": "stdout",
     "output_type": "stream",
     "text": [
      "\n",
      "                    Epoch: 750 / 1000 \n",
      "                    | Train Loss: 0.2066855626180768 \n",
      "                    | Train Dice Accuracy: 0.9666145392335378 \n",
      "                    | Test Dice Accuracy: 0.9358197185728285\n",
      "                \n"
     ]
    },
    {
     "data": {
      "application/vnd.jupyter.widget-view+json": {
       "model_id": "69138a7b12c34b2fb0ca1f1d0b10711a",
       "version_major": 2,
       "version_minor": 0
      },
      "text/plain": [
       "  0%|          | 0/16 [00:00<?, ?it/s]"
      ]
     },
     "metadata": {},
     "output_type": "display_data"
    },
    {
     "name": "stdout",
     "output_type": "stream",
     "text": [
      "\n",
      "                Epoch: 751 / 1000 \n",
      "                | Train Loss: 0.18628643988631666 \n",
      "                | Train Dice Accuracy: 0.9636908453395109 \n",
      "            \n"
     ]
    },
    {
     "data": {
      "application/vnd.jupyter.widget-view+json": {
       "model_id": "66dddb99eb274eadbff09ca1e76cb918",
       "version_major": 2,
       "version_minor": 0
      },
      "text/plain": [
       "  0%|          | 0/16 [00:00<?, ?it/s]"
      ]
     },
     "metadata": {},
     "output_type": "display_data"
    },
    {
     "name": "stdout",
     "output_type": "stream",
     "text": [
      "\n",
      "                    Epoch: 752 / 1000 \n",
      "                    | Train Loss: 0.1777892173267901 \n",
      "                    | Train Dice Accuracy: 0.9680505605631097 \n",
      "                    | Test Dice Accuracy: 0.9421618249681261\n",
      "                \n"
     ]
    },
    {
     "data": {
      "application/vnd.jupyter.widget-view+json": {
       "model_id": "382296d6669844d28d774c04f9db578d",
       "version_major": 2,
       "version_minor": 0
      },
      "text/plain": [
       "  0%|          | 0/16 [00:00<?, ?it/s]"
      ]
     },
     "metadata": {},
     "output_type": "display_data"
    },
    {
     "name": "stdout",
     "output_type": "stream",
     "text": [
      "\n",
      "                Epoch: 753 / 1000 \n",
      "                | Train Loss: 0.15191572019830346 \n",
      "                | Train Dice Accuracy: 0.9666305197788788 \n",
      "            \n"
     ]
    },
    {
     "data": {
      "application/vnd.jupyter.widget-view+json": {
       "model_id": "abf0d1aad85844399247a248b05985f9",
       "version_major": 2,
       "version_minor": 0
      },
      "text/plain": [
       "  0%|          | 0/16 [00:00<?, ?it/s]"
      ]
     },
     "metadata": {},
     "output_type": "display_data"
    },
    {
     "name": "stdout",
     "output_type": "stream",
     "text": [
      "\n",
      "                    Epoch: 754 / 1000 \n",
      "                    | Train Loss: 0.1946955844759941 \n",
      "                    | Train Dice Accuracy: 0.9666179138902239 \n",
      "                    | Test Dice Accuracy: 0.9460277093781365\n",
      "                \n"
     ]
    },
    {
     "data": {
      "application/vnd.jupyter.widget-view+json": {
       "model_id": "79b0a34d612c4a4cb48c35fb1c335c29",
       "version_major": 2,
       "version_minor": 0
      },
      "text/plain": [
       "  0%|          | 0/16 [00:00<?, ?it/s]"
      ]
     },
     "metadata": {},
     "output_type": "display_data"
    },
    {
     "name": "stdout",
     "output_type": "stream",
     "text": [
      "\n",
      "                Epoch: 755 / 1000 \n",
      "                | Train Loss: 0.17362350434996188 \n",
      "                | Train Dice Accuracy: 0.9613142814658103 \n",
      "            \n"
     ]
    },
    {
     "data": {
      "application/vnd.jupyter.widget-view+json": {
       "model_id": "ff9348b7f4064edba437afade49739bf",
       "version_major": 2,
       "version_minor": 0
      },
      "text/plain": [
       "  0%|          | 0/16 [00:00<?, ?it/s]"
      ]
     },
     "metadata": {},
     "output_type": "display_data"
    },
    {
     "name": "stdout",
     "output_type": "stream",
     "text": [
      "\n",
      "                    Epoch: 756 / 1000 \n",
      "                    | Train Loss: 0.13257188303396106 \n",
      "                    | Train Dice Accuracy: 0.964134682165949 \n",
      "                    | Test Dice Accuracy: 0.9517975383334689\n",
      "                \n"
     ]
    },
    {
     "data": {
      "application/vnd.jupyter.widget-view+json": {
       "model_id": "b8336abf239b46148ece2270eba30729",
       "version_major": 2,
       "version_minor": 0
      },
      "text/plain": [
       "  0%|          | 0/16 [00:00<?, ?it/s]"
      ]
     },
     "metadata": {},
     "output_type": "display_data"
    },
    {
     "name": "stdout",
     "output_type": "stream",
     "text": [
      "\n",
      "                Epoch: 757 / 1000 \n",
      "                | Train Loss: 0.20025340095162392 \n",
      "                | Train Dice Accuracy: 0.9711940073623107 \n",
      "            \n"
     ]
    },
    {
     "data": {
      "application/vnd.jupyter.widget-view+json": {
       "model_id": "2b8d77e46ebe456f91cb7f51bf45e327",
       "version_major": 2,
       "version_minor": 0
      },
      "text/plain": [
       "  0%|          | 0/16 [00:00<?, ?it/s]"
      ]
     },
     "metadata": {},
     "output_type": "display_data"
    },
    {
     "name": "stdout",
     "output_type": "stream",
     "text": [
      "\n",
      "                    Epoch: 758 / 1000 \n",
      "                    | Train Loss: 0.19318793690763414 \n",
      "                    | Train Dice Accuracy: 0.973436042808351 \n",
      "                    | Test Dice Accuracy: 0.949181338151296\n",
      "                \n"
     ]
    },
    {
     "data": {
      "application/vnd.jupyter.widget-view+json": {
       "model_id": "de200f15975e410b9280715dc6580588",
       "version_major": 2,
       "version_minor": 0
      },
      "text/plain": [
       "  0%|          | 0/16 [00:00<?, ?it/s]"
      ]
     },
     "metadata": {},
     "output_type": "display_data"
    },
    {
     "name": "stdout",
     "output_type": "stream",
     "text": [
      "\n",
      "                Epoch: 759 / 1000 \n",
      "                | Train Loss: 0.17784826876595616 \n",
      "                | Train Dice Accuracy: 0.9686951878458955 \n",
      "            \n"
     ]
    },
    {
     "data": {
      "application/vnd.jupyter.widget-view+json": {
       "model_id": "6132e5bf866a4ee09c488c819655aceb",
       "version_major": 2,
       "version_minor": 0
      },
      "text/plain": [
       "  0%|          | 0/16 [00:00<?, ?it/s]"
      ]
     },
     "metadata": {},
     "output_type": "display_data"
    },
    {
     "name": "stdout",
     "output_type": "stream",
     "text": [
      "\n",
      "                    Epoch: 760 / 1000 \n",
      "                    | Train Loss: 0.17482521245256066 \n",
      "                    | Train Dice Accuracy: 0.972523018648458 \n",
      "                    | Test Dice Accuracy: 0.9475562108887566\n",
      "                \n"
     ]
    },
    {
     "data": {
      "application/vnd.jupyter.widget-view+json": {
       "model_id": "2b363f01dde0440fbb134bcf5f253b1d",
       "version_major": 2,
       "version_minor": 0
      },
      "text/plain": [
       "  0%|          | 0/16 [00:00<?, ?it/s]"
      ]
     },
     "metadata": {},
     "output_type": "display_data"
    },
    {
     "name": "stdout",
     "output_type": "stream",
     "text": [
      "\n",
      "                Epoch: 761 / 1000 \n",
      "                | Train Loss: 0.16697180178016424 \n",
      "                | Train Dice Accuracy: 0.9707309644892469 \n",
      "            \n"
     ]
    },
    {
     "data": {
      "application/vnd.jupyter.widget-view+json": {
       "model_id": "005b3e5cbd83419e8bf93d969049470f",
       "version_major": 2,
       "version_minor": 0
      },
      "text/plain": [
       "  0%|          | 0/16 [00:00<?, ?it/s]"
      ]
     },
     "metadata": {},
     "output_type": "display_data"
    },
    {
     "name": "stdout",
     "output_type": "stream",
     "text": [
      "\n",
      "                    Epoch: 762 / 1000 \n",
      "                    | Train Loss: 0.17505868710577488 \n",
      "                    | Train Dice Accuracy: 0.9719365372214206 \n",
      "                    | Test Dice Accuracy: 0.9474989970525106\n",
      "                \n"
     ]
    },
    {
     "data": {
      "application/vnd.jupyter.widget-view+json": {
       "model_id": "1580c231d09a4b82914341dfcfa5f09c",
       "version_major": 2,
       "version_minor": 0
      },
      "text/plain": [
       "  0%|          | 0/16 [00:00<?, ?it/s]"
      ]
     },
     "metadata": {},
     "output_type": "display_data"
    },
    {
     "name": "stdout",
     "output_type": "stream",
     "text": [
      "\n",
      "                Epoch: 763 / 1000 \n",
      "                | Train Loss: 0.1890782460104674 \n",
      "                | Train Dice Accuracy: 0.967567800069755 \n",
      "            \n"
     ]
    },
    {
     "data": {
      "application/vnd.jupyter.widget-view+json": {
       "model_id": "296d524a22e74cad85298231c08bb40b",
       "version_major": 2,
       "version_minor": 0
      },
      "text/plain": [
       "  0%|          | 0/16 [00:00<?, ?it/s]"
      ]
     },
     "metadata": {},
     "output_type": "display_data"
    },
    {
     "name": "stdout",
     "output_type": "stream",
     "text": [
      "\n",
      "                    Epoch: 764 / 1000 \n",
      "                    | Train Loss: 0.15975907072424889 \n",
      "                    | Train Dice Accuracy: 0.9649374170736833 \n",
      "                    | Test Dice Accuracy: 0.9490964743826125\n",
      "                \n"
     ]
    },
    {
     "data": {
      "application/vnd.jupyter.widget-view+json": {
       "model_id": "75ae2d5029ed45c88b8297e4148866e9",
       "version_major": 2,
       "version_minor": 0
      },
      "text/plain": [
       "  0%|          | 0/16 [00:00<?, ?it/s]"
      ]
     },
     "metadata": {},
     "output_type": "display_data"
    },
    {
     "name": "stdout",
     "output_type": "stream",
     "text": [
      "\n",
      "                Epoch: 765 / 1000 \n",
      "                | Train Loss: 0.16108840820379555 \n",
      "                | Train Dice Accuracy: 0.9608503382314335 \n",
      "            \n"
     ]
    },
    {
     "data": {
      "application/vnd.jupyter.widget-view+json": {
       "model_id": "5380a141403c48be899153f6b581c6c3",
       "version_major": 2,
       "version_minor": 0
      },
      "text/plain": [
       "  0%|          | 0/16 [00:00<?, ?it/s]"
      ]
     },
     "metadata": {},
     "output_type": "display_data"
    },
    {
     "name": "stdout",
     "output_type": "stream",
     "text": [
      "\n",
      "                    Epoch: 766 / 1000 \n",
      "                    | Train Loss: 0.15365814580582082 \n",
      "                    | Train Dice Accuracy: 0.9680030424130988 \n",
      "                    | Test Dice Accuracy: 0.9485310647222731\n",
      "                \n"
     ]
    },
    {
     "data": {
      "application/vnd.jupyter.widget-view+json": {
       "model_id": "b04caada9b824170afff5efa8a1c58e6",
       "version_major": 2,
       "version_minor": 0
      },
      "text/plain": [
       "  0%|          | 0/16 [00:00<?, ?it/s]"
      ]
     },
     "metadata": {},
     "output_type": "display_data"
    },
    {
     "name": "stdout",
     "output_type": "stream",
     "text": [
      "\n",
      "                Epoch: 767 / 1000 \n",
      "                | Train Loss: 0.15647101239301264 \n",
      "                | Train Dice Accuracy: 0.9693357386372307 \n",
      "            \n"
     ]
    },
    {
     "data": {
      "application/vnd.jupyter.widget-view+json": {
       "model_id": "c252d90028a345e8b24c79a968292dd9",
       "version_major": 2,
       "version_minor": 0
      },
      "text/plain": [
       "  0%|          | 0/16 [00:00<?, ?it/s]"
      ]
     },
     "metadata": {},
     "output_type": "display_data"
    },
    {
     "name": "stdout",
     "output_type": "stream",
     "text": [
      "\n",
      "                    Epoch: 768 / 1000 \n",
      "                    | Train Loss: 0.17727465089410543 \n",
      "                    | Train Dice Accuracy: 0.9711272192892627 \n",
      "                    | Test Dice Accuracy: 0.9236052499877082\n",
      "                \n"
     ]
    },
    {
     "data": {
      "application/vnd.jupyter.widget-view+json": {
       "model_id": "63bae14bc3df43a38f16955b9f457844",
       "version_major": 2,
       "version_minor": 0
      },
      "text/plain": [
       "  0%|          | 0/16 [00:00<?, ?it/s]"
      ]
     },
     "metadata": {},
     "output_type": "display_data"
    },
    {
     "name": "stdout",
     "output_type": "stream",
     "text": [
      "\n",
      "                Epoch: 769 / 1000 \n",
      "                | Train Loss: 0.16278148582205176 \n",
      "                | Train Dice Accuracy: 0.9598633067174391 \n",
      "            \n"
     ]
    },
    {
     "data": {
      "application/vnd.jupyter.widget-view+json": {
       "model_id": "bb82de40639c4c5d85ccd91cc7dce675",
       "version_major": 2,
       "version_minor": 0
      },
      "text/plain": [
       "  0%|          | 0/16 [00:00<?, ?it/s]"
      ]
     },
     "metadata": {},
     "output_type": "display_data"
    },
    {
     "name": "stdout",
     "output_type": "stream",
     "text": [
      "\n",
      "                    Epoch: 770 / 1000 \n",
      "                    | Train Loss: 0.1909414306282997 \n",
      "                    | Train Dice Accuracy: 0.9682000841734544 \n",
      "                    | Test Dice Accuracy: 0.9318142003483243\n",
      "                \n"
     ]
    },
    {
     "data": {
      "application/vnd.jupyter.widget-view+json": {
       "model_id": "2aa3397060734e92aa2cf1820a8d329d",
       "version_major": 2,
       "version_minor": 0
      },
      "text/plain": [
       "  0%|          | 0/16 [00:00<?, ?it/s]"
      ]
     },
     "metadata": {},
     "output_type": "display_data"
    },
    {
     "name": "stdout",
     "output_type": "stream",
     "text": [
      "\n",
      "                Epoch: 771 / 1000 \n",
      "                | Train Loss: 0.19988972274586558 \n",
      "                | Train Dice Accuracy: 0.9742741498809594 \n",
      "            \n"
     ]
    },
    {
     "data": {
      "application/vnd.jupyter.widget-view+json": {
       "model_id": "2ea3310a411a438d97ddab2c5ea3aa22",
       "version_major": 2,
       "version_minor": 0
      },
      "text/plain": [
       "  0%|          | 0/16 [00:00<?, ?it/s]"
      ]
     },
     "metadata": {},
     "output_type": "display_data"
    },
    {
     "name": "stdout",
     "output_type": "stream",
     "text": [
      "\n",
      "                    Epoch: 772 / 1000 \n",
      "                    | Train Loss: 0.20935523696243763 \n",
      "                    | Train Dice Accuracy: 0.9720693256669831 \n",
      "                    | Test Dice Accuracy: 0.9433641235033671\n",
      "                \n"
     ]
    },
    {
     "data": {
      "application/vnd.jupyter.widget-view+json": {
       "model_id": "72705fb5e7f7419dbe72ddc15c10d758",
       "version_major": 2,
       "version_minor": 0
      },
      "text/plain": [
       "  0%|          | 0/16 [00:00<?, ?it/s]"
      ]
     },
     "metadata": {},
     "output_type": "display_data"
    },
    {
     "name": "stdout",
     "output_type": "stream",
     "text": [
      "\n",
      "                Epoch: 773 / 1000 \n",
      "                | Train Loss: 0.17574696778319776 \n",
      "                | Train Dice Accuracy: 0.966086474833665 \n",
      "            \n"
     ]
    },
    {
     "data": {
      "application/vnd.jupyter.widget-view+json": {
       "model_id": "a6a10c5bddb84ab0bdb29266d8d9f08c",
       "version_major": 2,
       "version_minor": 0
      },
      "text/plain": [
       "  0%|          | 0/16 [00:00<?, ?it/s]"
      ]
     },
     "metadata": {},
     "output_type": "display_data"
    },
    {
     "name": "stdout",
     "output_type": "stream",
     "text": [
      "\n",
      "                    Epoch: 774 / 1000 \n",
      "                    | Train Loss: 0.15692532947286963 \n",
      "                    | Train Dice Accuracy: 0.9669577444300932 \n",
      "                    | Test Dice Accuracy: 0.9487546748585172\n",
      "                \n"
     ]
    },
    {
     "data": {
      "application/vnd.jupyter.widget-view+json": {
       "model_id": "5c328af8a7ea4166a2d8aedbaedb2a85",
       "version_major": 2,
       "version_minor": 0
      },
      "text/plain": [
       "  0%|          | 0/16 [00:00<?, ?it/s]"
      ]
     },
     "metadata": {},
     "output_type": "display_data"
    },
    {
     "name": "stdout",
     "output_type": "stream",
     "text": [
      "\n",
      "                Epoch: 775 / 1000 \n",
      "                | Train Loss: 0.14963998086750507 \n",
      "                | Train Dice Accuracy: 0.9613126457539375 \n",
      "            \n"
     ]
    },
    {
     "data": {
      "application/vnd.jupyter.widget-view+json": {
       "model_id": "9b37fd65276e410baad196f265544a02",
       "version_major": 2,
       "version_minor": 0
      },
      "text/plain": [
       "  0%|          | 0/16 [00:00<?, ?it/s]"
      ]
     },
     "metadata": {},
     "output_type": "display_data"
    },
    {
     "name": "stdout",
     "output_type": "stream",
     "text": [
      "\n",
      "                    Epoch: 776 / 1000 \n",
      "                    | Train Loss: 0.1516807870939374 \n",
      "                    | Train Dice Accuracy: 0.9643543225687903 \n",
      "                    | Test Dice Accuracy: 0.9496890836291842\n",
      "                \n"
     ]
    },
    {
     "data": {
      "application/vnd.jupyter.widget-view+json": {
       "model_id": "1c94ba52e0b04257bfe5737113dc2942",
       "version_major": 2,
       "version_minor": 0
      },
      "text/plain": [
       "  0%|          | 0/16 [00:00<?, ?it/s]"
      ]
     },
     "metadata": {},
     "output_type": "display_data"
    },
    {
     "name": "stdout",
     "output_type": "stream",
     "text": [
      "\n",
      "                Epoch: 777 / 1000 \n",
      "                | Train Loss: 0.1529024636838585 \n",
      "                | Train Dice Accuracy: 0.9696475623419921 \n",
      "            \n"
     ]
    },
    {
     "data": {
      "application/vnd.jupyter.widget-view+json": {
       "model_id": "29f558e6d24f438e945c32124b6e82c0",
       "version_major": 2,
       "version_minor": 0
      },
      "text/plain": [
       "  0%|          | 0/16 [00:00<?, ?it/s]"
      ]
     },
     "metadata": {},
     "output_type": "display_data"
    },
    {
     "name": "stdout",
     "output_type": "stream",
     "text": [
      "\n",
      "                    Epoch: 778 / 1000 \n",
      "                    | Train Loss: 0.1633024956099689 \n",
      "                    | Train Dice Accuracy: 0.9672394740527079 \n",
      "                    | Test Dice Accuracy: 0.9500591821140714\n",
      "                \n"
     ]
    },
    {
     "data": {
      "application/vnd.jupyter.widget-view+json": {
       "model_id": "96f14617db2f4962b2d529c280d14be5",
       "version_major": 2,
       "version_minor": 0
      },
      "text/plain": [
       "  0%|          | 0/16 [00:00<?, ?it/s]"
      ]
     },
     "metadata": {},
     "output_type": "display_data"
    },
    {
     "name": "stdout",
     "output_type": "stream",
     "text": [
      "\n",
      "                Epoch: 779 / 1000 \n",
      "                | Train Loss: 0.18565190909430385 \n",
      "                | Train Dice Accuracy: 0.9740368212169072 \n",
      "            \n"
     ]
    },
    {
     "data": {
      "application/vnd.jupyter.widget-view+json": {
       "model_id": "77f8b1eb0a074f2eb52f851c4ef767cf",
       "version_major": 2,
       "version_minor": 0
      },
      "text/plain": [
       "  0%|          | 0/16 [00:00<?, ?it/s]"
      ]
     },
     "metadata": {},
     "output_type": "display_data"
    },
    {
     "name": "stdout",
     "output_type": "stream",
     "text": [
      "\n",
      "                    Epoch: 780 / 1000 \n",
      "                    | Train Loss: 0.18642687471583486 \n",
      "                    | Train Dice Accuracy: 0.971748911547211 \n",
      "                    | Test Dice Accuracy: 0.9495462510320876\n",
      "                \n"
     ]
    },
    {
     "data": {
      "application/vnd.jupyter.widget-view+json": {
       "model_id": "5f59a95efd4447958d687e8c9f40c553",
       "version_major": 2,
       "version_minor": 0
      },
      "text/plain": [
       "  0%|          | 0/16 [00:00<?, ?it/s]"
      ]
     },
     "metadata": {},
     "output_type": "display_data"
    },
    {
     "name": "stdout",
     "output_type": "stream",
     "text": [
      "\n",
      "                Epoch: 781 / 1000 \n",
      "                | Train Loss: 0.1593441292643547 \n",
      "                | Train Dice Accuracy: 0.9711409739163368 \n",
      "            \n"
     ]
    },
    {
     "data": {
      "application/vnd.jupyter.widget-view+json": {
       "model_id": "0a1d246f0d4e4ec68b3d5aff1766c8f7",
       "version_major": 2,
       "version_minor": 0
      },
      "text/plain": [
       "  0%|          | 0/16 [00:00<?, ?it/s]"
      ]
     },
     "metadata": {},
     "output_type": "display_data"
    },
    {
     "name": "stdout",
     "output_type": "stream",
     "text": [
      "\n",
      "                    Epoch: 782 / 1000 \n",
      "                    | Train Loss: 0.1918740374967456 \n",
      "                    | Train Dice Accuracy: 0.9652301300809069 \n",
      "                    | Test Dice Accuracy: 0.946514195866055\n",
      "                \n"
     ]
    },
    {
     "data": {
      "application/vnd.jupyter.widget-view+json": {
       "model_id": "f6110851f53740fea224d749ad6396be",
       "version_major": 2,
       "version_minor": 0
      },
      "text/plain": [
       "  0%|          | 0/16 [00:00<?, ?it/s]"
      ]
     },
     "metadata": {},
     "output_type": "display_data"
    },
    {
     "name": "stdout",
     "output_type": "stream",
     "text": [
      "\n",
      "                Epoch: 783 / 1000 \n",
      "                | Train Loss: 0.18220152519643307 \n",
      "                | Train Dice Accuracy: 0.9627663590640665 \n",
      "            \n"
     ]
    },
    {
     "data": {
      "application/vnd.jupyter.widget-view+json": {
       "model_id": "476bd28de64744b997c3a22ae56988e6",
       "version_major": 2,
       "version_minor": 0
      },
      "text/plain": [
       "  0%|          | 0/16 [00:00<?, ?it/s]"
      ]
     },
     "metadata": {},
     "output_type": "display_data"
    },
    {
     "name": "stdout",
     "output_type": "stream",
     "text": [
      "\n",
      "                    Epoch: 784 / 1000 \n",
      "                    | Train Loss: 0.1644801020156592 \n",
      "                    | Train Dice Accuracy: 0.9630945001018646 \n",
      "                    | Test Dice Accuracy: 0.9501902858416239\n",
      "                \n"
     ]
    },
    {
     "data": {
      "application/vnd.jupyter.widget-view+json": {
       "model_id": "053e3586ca3f4ee48fd823554b6b78dc",
       "version_major": 2,
       "version_minor": 0
      },
      "text/plain": [
       "  0%|          | 0/16 [00:00<?, ?it/s]"
      ]
     },
     "metadata": {},
     "output_type": "display_data"
    },
    {
     "name": "stdout",
     "output_type": "stream",
     "text": [
      "\n",
      "                Epoch: 785 / 1000 \n",
      "                | Train Loss: 0.18820720445364714 \n",
      "                | Train Dice Accuracy: 0.9718402449814778 \n",
      "            \n"
     ]
    },
    {
     "data": {
      "application/vnd.jupyter.widget-view+json": {
       "model_id": "d725f6fa7156439186560cbf562f59a0",
       "version_major": 2,
       "version_minor": 0
      },
      "text/plain": [
       "  0%|          | 0/16 [00:00<?, ?it/s]"
      ]
     },
     "metadata": {},
     "output_type": "display_data"
    },
    {
     "name": "stdout",
     "output_type": "stream",
     "text": [
      "\n",
      "                    Epoch: 786 / 1000 \n",
      "                    | Train Loss: 0.17011913075111806 \n",
      "                    | Train Dice Accuracy: 0.963791178118798 \n",
      "                    | Test Dice Accuracy: 0.9412160979376899\n",
      "                \n"
     ]
    },
    {
     "data": {
      "application/vnd.jupyter.widget-view+json": {
       "model_id": "004c0b56aa884f299fdf23978780e87b",
       "version_major": 2,
       "version_minor": 0
      },
      "text/plain": [
       "  0%|          | 0/16 [00:00<?, ?it/s]"
      ]
     },
     "metadata": {},
     "output_type": "display_data"
    },
    {
     "name": "stdout",
     "output_type": "stream",
     "text": [
      "\n",
      "                Epoch: 787 / 1000 \n",
      "                | Train Loss: 0.15911086206324399 \n",
      "                | Train Dice Accuracy: 0.9671199589967727 \n",
      "            \n"
     ]
    },
    {
     "data": {
      "application/vnd.jupyter.widget-view+json": {
       "model_id": "02a0c01809bd415888a1c3d6114dc3c0",
       "version_major": 2,
       "version_minor": 0
      },
      "text/plain": [
       "  0%|          | 0/16 [00:00<?, ?it/s]"
      ]
     },
     "metadata": {},
     "output_type": "display_data"
    },
    {
     "name": "stdout",
     "output_type": "stream",
     "text": [
      "\n",
      "                    Epoch: 788 / 1000 \n",
      "                    | Train Loss: 0.1725169604178518 \n",
      "                    | Train Dice Accuracy: 0.9696184196230453 \n",
      "                    | Test Dice Accuracy: 0.9422395428021749\n",
      "                \n"
     ]
    },
    {
     "data": {
      "application/vnd.jupyter.widget-view+json": {
       "model_id": "8394b4833fba4fdd8a227a63ce827705",
       "version_major": 2,
       "version_minor": 0
      },
      "text/plain": [
       "  0%|          | 0/16 [00:00<?, ?it/s]"
      ]
     },
     "metadata": {},
     "output_type": "display_data"
    },
    {
     "name": "stdout",
     "output_type": "stream",
     "text": [
      "\n",
      "                Epoch: 789 / 1000 \n",
      "                | Train Loss: 0.175848608603701 \n",
      "                | Train Dice Accuracy: 0.9614152210648708 \n",
      "            \n"
     ]
    },
    {
     "data": {
      "application/vnd.jupyter.widget-view+json": {
       "model_id": "d863a6e6cad34920aff585aa8bdb37cd",
       "version_major": 2,
       "version_minor": 0
      },
      "text/plain": [
       "  0%|          | 0/16 [00:00<?, ?it/s]"
      ]
     },
     "metadata": {},
     "output_type": "display_data"
    },
    {
     "name": "stdout",
     "output_type": "stream",
     "text": [
      "\n",
      "                    Epoch: 790 / 1000 \n",
      "                    | Train Loss: 0.1645752526819706 \n",
      "                    | Train Dice Accuracy: 0.9712941430577444 \n",
      "                    | Test Dice Accuracy: 0.9519548151228163\n",
      "                \n"
     ]
    },
    {
     "data": {
      "application/vnd.jupyter.widget-view+json": {
       "model_id": "8d1659d0fff4471390bfe72b235bc20f",
       "version_major": 2,
       "version_minor": 0
      },
      "text/plain": [
       "  0%|          | 0/16 [00:00<?, ?it/s]"
      ]
     },
     "metadata": {},
     "output_type": "display_data"
    },
    {
     "name": "stdout",
     "output_type": "stream",
     "text": [
      "\n",
      "                Epoch: 791 / 1000 \n",
      "                | Train Loss: 0.16924253990873694 \n",
      "                | Train Dice Accuracy: 0.9702551145158056 \n",
      "            \n"
     ]
    },
    {
     "data": {
      "application/vnd.jupyter.widget-view+json": {
       "model_id": "f46b52b6d0714e0fa675b2aa159ff998",
       "version_major": 2,
       "version_minor": 0
      },
      "text/plain": [
       "  0%|          | 0/16 [00:00<?, ?it/s]"
      ]
     },
     "metadata": {},
     "output_type": "display_data"
    },
    {
     "name": "stdout",
     "output_type": "stream",
     "text": [
      "\n",
      "                    Epoch: 792 / 1000 \n",
      "                    | Train Loss: 0.16126963798888028 \n",
      "                    | Train Dice Accuracy: 0.9711291637594841 \n",
      "                    | Test Dice Accuracy: 0.9481495685047574\n",
      "                \n"
     ]
    },
    {
     "data": {
      "application/vnd.jupyter.widget-view+json": {
       "model_id": "e528e16e8af14be08e737ecd1611bbfc",
       "version_major": 2,
       "version_minor": 0
      },
      "text/plain": [
       "  0%|          | 0/16 [00:00<?, ?it/s]"
      ]
     },
     "metadata": {},
     "output_type": "display_data"
    },
    {
     "name": "stdout",
     "output_type": "stream",
     "text": [
      "\n",
      "                Epoch: 793 / 1000 \n",
      "                | Train Loss: 0.21127397008240223 \n",
      "                | Train Dice Accuracy: 0.9729259835863576 \n",
      "            \n"
     ]
    },
    {
     "data": {
      "application/vnd.jupyter.widget-view+json": {
       "model_id": "7db07a3c6c2c4808b6a10683b13a3b17",
       "version_major": 2,
       "version_minor": 0
      },
      "text/plain": [
       "  0%|          | 0/16 [00:00<?, ?it/s]"
      ]
     },
     "metadata": {},
     "output_type": "display_data"
    },
    {
     "name": "stdout",
     "output_type": "stream",
     "text": [
      "\n",
      "                    Epoch: 794 / 1000 \n",
      "                    | Train Loss: 0.21068826643750072 \n",
      "                    | Train Dice Accuracy: 0.9707128229071793 \n",
      "                    | Test Dice Accuracy: 0.9521138005786471\n",
      "                \n"
     ]
    },
    {
     "data": {
      "application/vnd.jupyter.widget-view+json": {
       "model_id": "cc11a303aaa54b059ef26fbcc3b8407d",
       "version_major": 2,
       "version_minor": 0
      },
      "text/plain": [
       "  0%|          | 0/16 [00:00<?, ?it/s]"
      ]
     },
     "metadata": {},
     "output_type": "display_data"
    },
    {
     "name": "stdout",
     "output_type": "stream",
     "text": [
      "\n",
      "                Epoch: 795 / 1000 \n",
      "                | Train Loss: 0.2026701089926064 \n",
      "                | Train Dice Accuracy: 0.9708834018271703 \n",
      "            \n"
     ]
    },
    {
     "data": {
      "application/vnd.jupyter.widget-view+json": {
       "model_id": "7d5e7ce94afc47feb8a3c00b32e314e3",
       "version_major": 2,
       "version_minor": 0
      },
      "text/plain": [
       "  0%|          | 0/16 [00:00<?, ?it/s]"
      ]
     },
     "metadata": {},
     "output_type": "display_data"
    },
    {
     "name": "stdout",
     "output_type": "stream",
     "text": [
      "saved new best spleen metric model\n",
      "\n",
      "                    Epoch: 796 / 1000 \n",
      "                    | Train Loss: 0.16792052588425577 \n",
      "                    | Train Dice Accuracy: 0.9700759176834388 \n",
      "                    | Test Dice Accuracy: 0.9527654316690233\n",
      "                \n"
     ]
    },
    {
     "data": {
      "application/vnd.jupyter.widget-view+json": {
       "model_id": "1ebf2f53bc5443768c9e834e56826ddf",
       "version_major": 2,
       "version_minor": 0
      },
      "text/plain": [
       "  0%|          | 0/16 [00:00<?, ?it/s]"
      ]
     },
     "metadata": {},
     "output_type": "display_data"
    },
    {
     "name": "stdout",
     "output_type": "stream",
     "text": [
      "\n",
      "                Epoch: 797 / 1000 \n",
      "                | Train Loss: 0.1619410114362836 \n",
      "                | Train Dice Accuracy: 0.9676555054917183 \n",
      "            \n"
     ]
    },
    {
     "data": {
      "application/vnd.jupyter.widget-view+json": {
       "model_id": "c1f09355210144a6a90d50bb64a83869",
       "version_major": 2,
       "version_minor": 0
      },
      "text/plain": [
       "  0%|          | 0/16 [00:00<?, ?it/s]"
      ]
     },
     "metadata": {},
     "output_type": "display_data"
    },
    {
     "name": "stdout",
     "output_type": "stream",
     "text": [
      "saved new best spleen metric model\n",
      "\n",
      "                    Epoch: 798 / 1000 \n",
      "                    | Train Loss: 0.1521249192301184 \n",
      "                    | Train Dice Accuracy: 0.967148236863248 \n",
      "                    | Test Dice Accuracy: 0.9540364080005221\n",
      "                \n"
     ]
    },
    {
     "data": {
      "application/vnd.jupyter.widget-view+json": {
       "model_id": "afb90089ef104ad78709fee3d122dea8",
       "version_major": 2,
       "version_minor": 0
      },
      "text/plain": [
       "  0%|          | 0/16 [00:00<?, ?it/s]"
      ]
     },
     "metadata": {},
     "output_type": "display_data"
    },
    {
     "name": "stdout",
     "output_type": "stream",
     "text": [
      "\n",
      "                Epoch: 799 / 1000 \n",
      "                | Train Loss: 0.1704297938849777 \n",
      "                | Train Dice Accuracy: 0.972399910291036 \n",
      "            \n"
     ]
    },
    {
     "data": {
      "application/vnd.jupyter.widget-view+json": {
       "model_id": "892173094fe84972b0abe42bee77fe47",
       "version_major": 2,
       "version_minor": 0
      },
      "text/plain": [
       "  0%|          | 0/16 [00:00<?, ?it/s]"
      ]
     },
     "metadata": {},
     "output_type": "display_data"
    },
    {
     "name": "stdout",
     "output_type": "stream",
     "text": [
      "saved new best spleen metric model\n",
      "\n",
      "                    Epoch: 800 / 1000 \n",
      "                    | Train Loss: 0.16943353414535522 \n",
      "                    | Train Dice Accuracy: 0.9693355134555272 \n",
      "                    | Test Dice Accuracy: 0.9540555013550652\n",
      "                \n"
     ]
    },
    {
     "data": {
      "application/vnd.jupyter.widget-view+json": {
       "model_id": "d3d2d95a0a444a14a00cfc662836c130",
       "version_major": 2,
       "version_minor": 0
      },
      "text/plain": [
       "  0%|          | 0/16 [00:00<?, ?it/s]"
      ]
     },
     "metadata": {},
     "output_type": "display_data"
    },
    {
     "name": "stdout",
     "output_type": "stream",
     "text": [
      "\n",
      "                Epoch: 801 / 1000 \n",
      "                | Train Loss: 0.1824579939711839 \n",
      "                | Train Dice Accuracy: 0.9614077110623205 \n",
      "            \n"
     ]
    },
    {
     "data": {
      "application/vnd.jupyter.widget-view+json": {
       "model_id": "0e5930ac849d45cb8960632c245b0870",
       "version_major": 2,
       "version_minor": 0
      },
      "text/plain": [
       "  0%|          | 0/16 [00:00<?, ?it/s]"
      ]
     },
     "metadata": {},
     "output_type": "display_data"
    },
    {
     "name": "stdout",
     "output_type": "stream",
     "text": [
      "\n",
      "                    Epoch: 802 / 1000 \n",
      "                    | Train Loss: 0.13877318520098925 \n",
      "                    | Train Dice Accuracy: 0.9632676586640619 \n",
      "                    | Test Dice Accuracy: 0.9525834255748324\n",
      "                \n"
     ]
    },
    {
     "data": {
      "application/vnd.jupyter.widget-view+json": {
       "model_id": "09a9c38eb1ae4e599366e840d95d53a5",
       "version_major": 2,
       "version_minor": 0
      },
      "text/plain": [
       "  0%|          | 0/16 [00:00<?, ?it/s]"
      ]
     },
     "metadata": {},
     "output_type": "display_data"
    },
    {
     "name": "stdout",
     "output_type": "stream",
     "text": [
      "\n",
      "                Epoch: 803 / 1000 \n",
      "                | Train Loss: 0.17203427338972688 \n",
      "                | Train Dice Accuracy: 0.9705521433993622 \n",
      "            \n"
     ]
    },
    {
     "data": {
      "application/vnd.jupyter.widget-view+json": {
       "model_id": "d03ff67aafa44a0e9e594852683549d2",
       "version_major": 2,
       "version_minor": 0
      },
      "text/plain": [
       "  0%|          | 0/16 [00:00<?, ?it/s]"
      ]
     },
     "metadata": {},
     "output_type": "display_data"
    },
    {
     "name": "stdout",
     "output_type": "stream",
     "text": [
      "\n",
      "                    Epoch: 804 / 1000 \n",
      "                    | Train Loss: 0.18490201700478792 \n",
      "                    | Train Dice Accuracy: 0.9645340609773297 \n",
      "                    | Test Dice Accuracy: 0.9485914243592156\n",
      "                \n"
     ]
    },
    {
     "data": {
      "application/vnd.jupyter.widget-view+json": {
       "model_id": "75092ed024e3436e9246ed8c2e840ea0",
       "version_major": 2,
       "version_minor": 0
      },
      "text/plain": [
       "  0%|          | 0/16 [00:00<?, ?it/s]"
      ]
     },
     "metadata": {},
     "output_type": "display_data"
    },
    {
     "name": "stdout",
     "output_type": "stream",
     "text": [
      "\n",
      "                Epoch: 805 / 1000 \n",
      "                | Train Loss: 0.17781102936714888 \n",
      "                | Train Dice Accuracy: 0.9684202532435573 \n",
      "            \n"
     ]
    },
    {
     "data": {
      "application/vnd.jupyter.widget-view+json": {
       "model_id": "6caf185611fe46db96317771a717565f",
       "version_major": 2,
       "version_minor": 0
      },
      "text/plain": [
       "  0%|          | 0/16 [00:00<?, ?it/s]"
      ]
     },
     "metadata": {},
     "output_type": "display_data"
    },
    {
     "name": "stdout",
     "output_type": "stream",
     "text": [
      "\n",
      "                    Epoch: 806 / 1000 \n",
      "                    | Train Loss: 0.15648711170069873 \n",
      "                    | Train Dice Accuracy: 0.9660071520244374 \n",
      "                    | Test Dice Accuracy: 0.9499785900115967\n",
      "                \n"
     ]
    },
    {
     "data": {
      "application/vnd.jupyter.widget-view+json": {
       "model_id": "a168202b29d84c88bf4e1820eac0859e",
       "version_major": 2,
       "version_minor": 0
      },
      "text/plain": [
       "  0%|          | 0/16 [00:00<?, ?it/s]"
      ]
     },
     "metadata": {},
     "output_type": "display_data"
    },
    {
     "name": "stdout",
     "output_type": "stream",
     "text": [
      "\n",
      "                Epoch: 807 / 1000 \n",
      "                | Train Loss: 0.19023315142840147 \n",
      "                | Train Dice Accuracy: 0.9729997018502222 \n",
      "            \n"
     ]
    },
    {
     "data": {
      "application/vnd.jupyter.widget-view+json": {
       "model_id": "c393d5daa5e546dbb478fd571d6aa946",
       "version_major": 2,
       "version_minor": 0
      },
      "text/plain": [
       "  0%|          | 0/16 [00:00<?, ?it/s]"
      ]
     },
     "metadata": {},
     "output_type": "display_data"
    },
    {
     "name": "stdout",
     "output_type": "stream",
     "text": [
      "\n",
      "                    Epoch: 808 / 1000 \n",
      "                    | Train Loss: 0.19153849268332124 \n",
      "                    | Train Dice Accuracy: 0.9689659017999217 \n",
      "                    | Test Dice Accuracy: 0.9478887187110053\n",
      "                \n"
     ]
    },
    {
     "data": {
      "application/vnd.jupyter.widget-view+json": {
       "model_id": "961751a9db3c42b993e923efd2c805a1",
       "version_major": 2,
       "version_minor": 0
      },
      "text/plain": [
       "  0%|          | 0/16 [00:00<?, ?it/s]"
      ]
     },
     "metadata": {},
     "output_type": "display_data"
    },
    {
     "name": "stdout",
     "output_type": "stream",
     "text": [
      "\n",
      "                Epoch: 809 / 1000 \n",
      "                | Train Loss: 0.17271614726632833 \n",
      "                | Train Dice Accuracy: 0.9611304286453459 \n",
      "            \n"
     ]
    },
    {
     "data": {
      "application/vnd.jupyter.widget-view+json": {
       "model_id": "74de94a1700f459fba2785249cb16526",
       "version_major": 2,
       "version_minor": 0
      },
      "text/plain": [
       "  0%|          | 0/16 [00:00<?, ?it/s]"
      ]
     },
     "metadata": {},
     "output_type": "display_data"
    },
    {
     "name": "stdout",
     "output_type": "stream",
     "text": [
      "\n",
      "                    Epoch: 810 / 1000 \n",
      "                    | Train Loss: 0.16676005464978516 \n",
      "                    | Train Dice Accuracy: 0.9714537872696802 \n",
      "                    | Test Dice Accuracy: 0.9501986967192756\n",
      "                \n"
     ]
    },
    {
     "data": {
      "application/vnd.jupyter.widget-view+json": {
       "model_id": "aed9171d0d8a46d49e0ee6975734294b",
       "version_major": 2,
       "version_minor": 0
      },
      "text/plain": [
       "  0%|          | 0/16 [00:00<?, ?it/s]"
      ]
     },
     "metadata": {},
     "output_type": "display_data"
    },
    {
     "name": "stdout",
     "output_type": "stream",
     "text": [
      "\n",
      "                Epoch: 811 / 1000 \n",
      "                | Train Loss: 0.170634345151484 \n",
      "                | Train Dice Accuracy: 0.9709797258730288 \n",
      "            \n"
     ]
    },
    {
     "data": {
      "application/vnd.jupyter.widget-view+json": {
       "model_id": "ebee6b954ad84d82bcb30023708abbe2",
       "version_major": 2,
       "version_minor": 0
      },
      "text/plain": [
       "  0%|          | 0/16 [00:00<?, ?it/s]"
      ]
     },
     "metadata": {},
     "output_type": "display_data"
    },
    {
     "name": "stdout",
     "output_type": "stream",
     "text": [
      "\n",
      "                    Epoch: 812 / 1000 \n",
      "                    | Train Loss: 0.18388360808603466 \n",
      "                    | Train Dice Accuracy: 0.9619613390102565 \n",
      "                    | Test Dice Accuracy: 0.9071073134740194\n",
      "                \n"
     ]
    },
    {
     "data": {
      "application/vnd.jupyter.widget-view+json": {
       "model_id": "872af67a740d4917b5118b1af35d1004",
       "version_major": 2,
       "version_minor": 0
      },
      "text/plain": [
       "  0%|          | 0/16 [00:00<?, ?it/s]"
      ]
     },
     "metadata": {},
     "output_type": "display_data"
    },
    {
     "name": "stdout",
     "output_type": "stream",
     "text": [
      "\n",
      "                Epoch: 813 / 1000 \n",
      "                | Train Loss: 0.16749839531257749 \n",
      "                | Train Dice Accuracy: 0.9673795259873802 \n",
      "            \n"
     ]
    },
    {
     "data": {
      "application/vnd.jupyter.widget-view+json": {
       "model_id": "8ec9babf3f3b42a8a3c2819ead87c66b",
       "version_major": 2,
       "version_minor": 0
      },
      "text/plain": [
       "  0%|          | 0/16 [00:00<?, ?it/s]"
      ]
     },
     "metadata": {},
     "output_type": "display_data"
    },
    {
     "name": "stdout",
     "output_type": "stream",
     "text": [
      "\n",
      "                    Epoch: 814 / 1000 \n",
      "                    | Train Loss: 0.14474186836741865 \n",
      "                    | Train Dice Accuracy: 0.9702387035160321 \n",
      "                    | Test Dice Accuracy: 0.9275090429517958\n",
      "                \n"
     ]
    },
    {
     "data": {
      "application/vnd.jupyter.widget-view+json": {
       "model_id": "2bb82dca11c341f287189a1bec8aff13",
       "version_major": 2,
       "version_minor": 0
      },
      "text/plain": [
       "  0%|          | 0/16 [00:00<?, ?it/s]"
      ]
     },
     "metadata": {},
     "output_type": "display_data"
    },
    {
     "name": "stdout",
     "output_type": "stream",
     "text": [
      "\n",
      "                Epoch: 815 / 1000 \n",
      "                | Train Loss: 0.191121025942266 \n",
      "                | Train Dice Accuracy: 0.9644555148651015 \n",
      "            \n"
     ]
    },
    {
     "data": {
      "application/vnd.jupyter.widget-view+json": {
       "model_id": "af86bc98a9144ee588148859a6a781dc",
       "version_major": 2,
       "version_minor": 0
      },
      "text/plain": [
       "  0%|          | 0/16 [00:00<?, ?it/s]"
      ]
     },
     "metadata": {},
     "output_type": "display_data"
    },
    {
     "name": "stdout",
     "output_type": "stream",
     "text": [
      "\n",
      "                    Epoch: 816 / 1000 \n",
      "                    | Train Loss: 0.1740956655703485 \n",
      "                    | Train Dice Accuracy: 0.9644067597828703 \n",
      "                    | Test Dice Accuracy: 0.9435128172238668\n",
      "                \n"
     ]
    },
    {
     "data": {
      "application/vnd.jupyter.widget-view+json": {
       "model_id": "db10d510085f4f1f9cceda22394fd62c",
       "version_major": 2,
       "version_minor": 0
      },
      "text/plain": [
       "  0%|          | 0/16 [00:00<?, ?it/s]"
      ]
     },
     "metadata": {},
     "output_type": "display_data"
    },
    {
     "name": "stdout",
     "output_type": "stream",
     "text": [
      "\n",
      "                Epoch: 817 / 1000 \n",
      "                | Train Loss: 0.17225109692662954 \n",
      "                | Train Dice Accuracy: 0.9636962421990316 \n",
      "            \n"
     ]
    },
    {
     "data": {
      "application/vnd.jupyter.widget-view+json": {
       "model_id": "b4c31d3b37ce4a7dbc81493da6633782",
       "version_major": 2,
       "version_minor": 0
      },
      "text/plain": [
       "  0%|          | 0/16 [00:00<?, ?it/s]"
      ]
     },
     "metadata": {},
     "output_type": "display_data"
    },
    {
     "name": "stdout",
     "output_type": "stream",
     "text": [
      "\n",
      "                    Epoch: 818 / 1000 \n",
      "                    | Train Loss: 0.20212142262607813 \n",
      "                    | Train Dice Accuracy: 0.9723812055129272 \n",
      "                    | Test Dice Accuracy: 0.9380073547363281\n",
      "                \n"
     ]
    },
    {
     "data": {
      "application/vnd.jupyter.widget-view+json": {
       "model_id": "89f36b18f4444add9928beee2fb73e2a",
       "version_major": 2,
       "version_minor": 0
      },
      "text/plain": [
       "  0%|          | 0/16 [00:00<?, ?it/s]"
      ]
     },
     "metadata": {},
     "output_type": "display_data"
    },
    {
     "name": "stdout",
     "output_type": "stream",
     "text": [
      "\n",
      "                Epoch: 819 / 1000 \n",
      "                | Train Loss: 0.1781195355579257 \n",
      "                | Train Dice Accuracy: 0.9682036494099817 \n",
      "            \n"
     ]
    },
    {
     "data": {
      "application/vnd.jupyter.widget-view+json": {
       "model_id": "933d49b019ee4cdf806e72d684d22785",
       "version_major": 2,
       "version_minor": 0
      },
      "text/plain": [
       "  0%|          | 0/16 [00:00<?, ?it/s]"
      ]
     },
     "metadata": {},
     "output_type": "display_data"
    },
    {
     "name": "stdout",
     "output_type": "stream",
     "text": [
      "\n",
      "                    Epoch: 820 / 1000 \n",
      "                    | Train Loss: 0.16065114410594106 \n",
      "                    | Train Dice Accuracy: 0.9621927467259493 \n",
      "                    | Test Dice Accuracy: 0.9477081828647189\n",
      "                \n"
     ]
    },
    {
     "data": {
      "application/vnd.jupyter.widget-view+json": {
       "model_id": "da23bf7824744ca49316182ef218ea29",
       "version_major": 2,
       "version_minor": 0
      },
      "text/plain": [
       "  0%|          | 0/16 [00:00<?, ?it/s]"
      ]
     },
     "metadata": {},
     "output_type": "display_data"
    },
    {
     "name": "stdout",
     "output_type": "stream",
     "text": [
      "\n",
      "                Epoch: 821 / 1000 \n",
      "                | Train Loss: 0.2009993134997785 \n",
      "                | Train Dice Accuracy: 0.9706840187168577 \n",
      "            \n"
     ]
    },
    {
     "data": {
      "application/vnd.jupyter.widget-view+json": {
       "model_id": "d13f3a5e76954759a5c6fad57f84b88f",
       "version_major": 2,
       "version_minor": 0
      },
      "text/plain": [
       "  0%|          | 0/16 [00:00<?, ?it/s]"
      ]
     },
     "metadata": {},
     "output_type": "display_data"
    },
    {
     "name": "stdout",
     "output_type": "stream",
     "text": [
      "\n",
      "                    Epoch: 822 / 1000 \n",
      "                    | Train Loss: 0.19431992736645043 \n",
      "                    | Train Dice Accuracy: 0.9664659717636651 \n",
      "                    | Test Dice Accuracy: 0.9471383492151896\n",
      "                \n"
     ]
    },
    {
     "data": {
      "application/vnd.jupyter.widget-view+json": {
       "model_id": "3169f3c5458646d48dd5a0ac5d8423ae",
       "version_major": 2,
       "version_minor": 0
      },
      "text/plain": [
       "  0%|          | 0/16 [00:00<?, ?it/s]"
      ]
     },
     "metadata": {},
     "output_type": "display_data"
    },
    {
     "name": "stdout",
     "output_type": "stream",
     "text": [
      "\n",
      "                Epoch: 823 / 1000 \n",
      "                | Train Loss: 0.18927732366137207 \n",
      "                | Train Dice Accuracy: 0.9672559612202194 \n",
      "            \n"
     ]
    },
    {
     "data": {
      "application/vnd.jupyter.widget-view+json": {
       "model_id": "aba3caa4955241a19a0f866dcf35689f",
       "version_major": 2,
       "version_minor": 0
      },
      "text/plain": [
       "  0%|          | 0/16 [00:00<?, ?it/s]"
      ]
     },
     "metadata": {},
     "output_type": "display_data"
    },
    {
     "name": "stdout",
     "output_type": "stream",
     "text": [
      "\n",
      "                    Epoch: 824 / 1000 \n",
      "                    | Train Loss: 0.1641231277026236 \n",
      "                    | Train Dice Accuracy: 0.9705210571442175 \n",
      "                    | Test Dice Accuracy: 0.9501100182533264\n",
      "                \n"
     ]
    },
    {
     "data": {
      "application/vnd.jupyter.widget-view+json": {
       "model_id": "e6eec16ef74b4370b20b615a95a17a9b",
       "version_major": 2,
       "version_minor": 0
      },
      "text/plain": [
       "  0%|          | 0/16 [00:00<?, ?it/s]"
      ]
     },
     "metadata": {},
     "output_type": "display_data"
    },
    {
     "name": "stdout",
     "output_type": "stream",
     "text": [
      "\n",
      "                Epoch: 825 / 1000 \n",
      "                | Train Loss: 0.14218933414667845 \n",
      "                | Train Dice Accuracy: 0.971920195966959 \n",
      "            \n"
     ]
    },
    {
     "data": {
      "application/vnd.jupyter.widget-view+json": {
       "model_id": "29a8c3ca7a3d46eeb8571adb1c5adac2",
       "version_major": 2,
       "version_minor": 0
      },
      "text/plain": [
       "  0%|          | 0/16 [00:00<?, ?it/s]"
      ]
     },
     "metadata": {},
     "output_type": "display_data"
    },
    {
     "name": "stdout",
     "output_type": "stream",
     "text": [
      "\n",
      "                    Epoch: 826 / 1000 \n",
      "                    | Train Loss: 0.15051622036844492 \n",
      "                    | Train Dice Accuracy: 0.9675479646738585 \n",
      "                    | Test Dice Accuracy: 0.934619751241472\n",
      "                \n"
     ]
    },
    {
     "data": {
      "application/vnd.jupyter.widget-view+json": {
       "model_id": "b060c47d198b4fa4829618d109222fec",
       "version_major": 2,
       "version_minor": 0
      },
      "text/plain": [
       "  0%|          | 0/16 [00:00<?, ?it/s]"
      ]
     },
     "metadata": {},
     "output_type": "display_data"
    },
    {
     "name": "stdout",
     "output_type": "stream",
     "text": [
      "\n",
      "                Epoch: 827 / 1000 \n",
      "                | Train Loss: 0.17815684247761965 \n",
      "                | Train Dice Accuracy: 0.9716174418681136 \n",
      "            \n"
     ]
    },
    {
     "data": {
      "application/vnd.jupyter.widget-view+json": {
       "model_id": "8fcf2980a8484a3bbf893efcbab6879f",
       "version_major": 2,
       "version_minor": 0
      },
      "text/plain": [
       "  0%|          | 0/16 [00:00<?, ?it/s]"
      ]
     },
     "metadata": {},
     "output_type": "display_data"
    },
    {
     "name": "stdout",
     "output_type": "stream",
     "text": [
      "\n",
      "                    Epoch: 828 / 1000 \n",
      "                    | Train Loss: 0.20612508058547974 \n",
      "                    | Train Dice Accuracy: 0.9700963963632998 \n",
      "                    | Test Dice Accuracy: 0.947745766904619\n",
      "                \n"
     ]
    },
    {
     "data": {
      "application/vnd.jupyter.widget-view+json": {
       "model_id": "db433a13387a4f72a7833a9c2c7504a5",
       "version_major": 2,
       "version_minor": 0
      },
      "text/plain": [
       "  0%|          | 0/16 [00:00<?, ?it/s]"
      ]
     },
     "metadata": {},
     "output_type": "display_data"
    },
    {
     "name": "stdout",
     "output_type": "stream",
     "text": [
      "\n",
      "                Epoch: 829 / 1000 \n",
      "                | Train Loss: 0.14661096525378525 \n",
      "                | Train Dice Accuracy: 0.9661877494756417 \n",
      "            \n"
     ]
    },
    {
     "data": {
      "application/vnd.jupyter.widget-view+json": {
       "model_id": "f3566c026f434fe08dd7211e178e53d3",
       "version_major": 2,
       "version_minor": 0
      },
      "text/plain": [
       "  0%|          | 0/16 [00:00<?, ?it/s]"
      ]
     },
     "metadata": {},
     "output_type": "display_data"
    },
    {
     "name": "stdout",
     "output_type": "stream",
     "text": [
      "\n",
      "                    Epoch: 830 / 1000 \n",
      "                    | Train Loss: 0.14078068593516946 \n",
      "                    | Train Dice Accuracy: 0.97022030901696 \n",
      "                    | Test Dice Accuracy: 0.9514470563994514\n",
      "                \n"
     ]
    },
    {
     "data": {
      "application/vnd.jupyter.widget-view+json": {
       "model_id": "682b5937c510481c85adbf54025543fc",
       "version_major": 2,
       "version_minor": 0
      },
      "text/plain": [
       "  0%|          | 0/16 [00:00<?, ?it/s]"
      ]
     },
     "metadata": {},
     "output_type": "display_data"
    },
    {
     "name": "stdout",
     "output_type": "stream",
     "text": [
      "\n",
      "                Epoch: 831 / 1000 \n",
      "                | Train Loss: 0.15131505811586976 \n",
      "                | Train Dice Accuracy: 0.9714935284394485 \n",
      "            \n"
     ]
    },
    {
     "data": {
      "application/vnd.jupyter.widget-view+json": {
       "model_id": "275aacfd91da4e93ad75a91e95609279",
       "version_major": 2,
       "version_minor": 0
      },
      "text/plain": [
       "  0%|          | 0/16 [00:00<?, ?it/s]"
      ]
     },
     "metadata": {},
     "output_type": "display_data"
    },
    {
     "name": "stdout",
     "output_type": "stream",
     "text": [
      "\n",
      "                    Epoch: 832 / 1000 \n",
      "                    | Train Loss: 0.16573015949688852 \n",
      "                    | Train Dice Accuracy: 0.9748542113787567 \n",
      "                    | Test Dice Accuracy: 0.9492269621955024\n",
      "                \n"
     ]
    },
    {
     "data": {
      "application/vnd.jupyter.widget-view+json": {
       "model_id": "502ed9d8c02f4610afa51873414ef4aa",
       "version_major": 2,
       "version_minor": 0
      },
      "text/plain": [
       "  0%|          | 0/16 [00:00<?, ?it/s]"
      ]
     },
     "metadata": {},
     "output_type": "display_data"
    },
    {
     "name": "stdout",
     "output_type": "stream",
     "text": [
      "\n",
      "                Epoch: 833 / 1000 \n",
      "                | Train Loss: 0.1542154278140515 \n",
      "                | Train Dice Accuracy: 0.9657424011745969 \n",
      "            \n"
     ]
    },
    {
     "data": {
      "application/vnd.jupyter.widget-view+json": {
       "model_id": "b4cabdf590c34dffa9d6dd011cae79a0",
       "version_major": 2,
       "version_minor": 0
      },
      "text/plain": [
       "  0%|          | 0/16 [00:00<?, ?it/s]"
      ]
     },
     "metadata": {},
     "output_type": "display_data"
    },
    {
     "name": "stdout",
     "output_type": "stream",
     "text": [
      "\n",
      "                    Epoch: 834 / 1000 \n",
      "                    | Train Loss: 0.15255609573796391 \n",
      "                    | Train Dice Accuracy: 0.9707755527345303 \n",
      "                    | Test Dice Accuracy: 0.9523731933699714\n",
      "                \n"
     ]
    },
    {
     "data": {
      "application/vnd.jupyter.widget-view+json": {
       "model_id": "d796ba94b2e74c4b94847c96a2fd3eb1",
       "version_major": 2,
       "version_minor": 0
      },
      "text/plain": [
       "  0%|          | 0/16 [00:00<?, ?it/s]"
      ]
     },
     "metadata": {},
     "output_type": "display_data"
    },
    {
     "name": "stdout",
     "output_type": "stream",
     "text": [
      "\n",
      "                Epoch: 835 / 1000 \n",
      "                | Train Loss: 0.1631101449020207 \n",
      "                | Train Dice Accuracy: 0.9731117719357166 \n",
      "            \n"
     ]
    },
    {
     "data": {
      "application/vnd.jupyter.widget-view+json": {
       "model_id": "f9f9dbd6e1f145c3b60c56ab7a809ed0",
       "version_major": 2,
       "version_minor": 0
      },
      "text/plain": [
       "  0%|          | 0/16 [00:00<?, ?it/s]"
      ]
     },
     "metadata": {},
     "output_type": "display_data"
    },
    {
     "name": "stdout",
     "output_type": "stream",
     "text": [
      "\n",
      "                    Epoch: 836 / 1000 \n",
      "                    | Train Loss: 0.1586503521539271 \n",
      "                    | Train Dice Accuracy: 0.9688678741455078 \n",
      "                    | Test Dice Accuracy: 0.9424818423059251\n",
      "                \n"
     ]
    },
    {
     "data": {
      "application/vnd.jupyter.widget-view+json": {
       "model_id": "14c7c410cf20456e8d053679af657268",
       "version_major": 2,
       "version_minor": 0
      },
      "text/plain": [
       "  0%|          | 0/16 [00:00<?, ?it/s]"
      ]
     },
     "metadata": {},
     "output_type": "display_data"
    },
    {
     "name": "stdout",
     "output_type": "stream",
     "text": [
      "\n",
      "                Epoch: 837 / 1000 \n",
      "                | Train Loss: 0.16892675776034594 \n",
      "                | Train Dice Accuracy: 0.9665566053959208 \n",
      "            \n"
     ]
    },
    {
     "data": {
      "application/vnd.jupyter.widget-view+json": {
       "model_id": "e95085d73d3b49a58cfa961bac8c7474",
       "version_major": 2,
       "version_minor": 0
      },
      "text/plain": [
       "  0%|          | 0/16 [00:00<?, ?it/s]"
      ]
     },
     "metadata": {},
     "output_type": "display_data"
    },
    {
     "name": "stdout",
     "output_type": "stream",
     "text": [
      "\n",
      "                    Epoch: 838 / 1000 \n",
      "                    | Train Loss: 0.16310283914208412 \n",
      "                    | Train Dice Accuracy: 0.9678781963374516 \n",
      "                    | Test Dice Accuracy: 0.948898712793986\n",
      "                \n"
     ]
    },
    {
     "data": {
      "application/vnd.jupyter.widget-view+json": {
       "model_id": "589bcafbc38d4abbbcae46180d213c36",
       "version_major": 2,
       "version_minor": 0
      },
      "text/plain": [
       "  0%|          | 0/16 [00:00<?, ?it/s]"
      ]
     },
     "metadata": {},
     "output_type": "display_data"
    },
    {
     "name": "stdout",
     "output_type": "stream",
     "text": [
      "\n",
      "                Epoch: 839 / 1000 \n",
      "                | Train Loss: 0.20232123974710703 \n",
      "                | Train Dice Accuracy: 0.9674024815764724 \n",
      "            \n"
     ]
    },
    {
     "data": {
      "application/vnd.jupyter.widget-view+json": {
       "model_id": "acedad77c57a4708b9cd5167ec8db09f",
       "version_major": 2,
       "version_minor": 0
      },
      "text/plain": [
       "  0%|          | 0/16 [00:00<?, ?it/s]"
      ]
     },
     "metadata": {},
     "output_type": "display_data"
    },
    {
     "name": "stdout",
     "output_type": "stream",
     "text": [
      "\n",
      "                    Epoch: 840 / 1000 \n",
      "                    | Train Loss: 0.1599782023113221 \n",
      "                    | Train Dice Accuracy: 0.9664081171018268 \n",
      "                    | Test Dice Accuracy: 0.9359424842728509\n",
      "                \n"
     ]
    },
    {
     "data": {
      "application/vnd.jupyter.widget-view+json": {
       "model_id": "bed00e3501474e6397b22a604bb35c39",
       "version_major": 2,
       "version_minor": 0
      },
      "text/plain": [
       "  0%|          | 0/16 [00:00<?, ?it/s]"
      ]
     },
     "metadata": {},
     "output_type": "display_data"
    },
    {
     "name": "stdout",
     "output_type": "stream",
     "text": [
      "\n",
      "                Epoch: 841 / 1000 \n",
      "                | Train Loss: 0.18668903084471822 \n",
      "                | Train Dice Accuracy: 0.972644326259505 \n",
      "            \n"
     ]
    },
    {
     "data": {
      "application/vnd.jupyter.widget-view+json": {
       "model_id": "03ebe15d0959402aac6f045ef025368e",
       "version_major": 2,
       "version_minor": 0
      },
      "text/plain": [
       "  0%|          | 0/16 [00:00<?, ?it/s]"
      ]
     },
     "metadata": {},
     "output_type": "display_data"
    },
    {
     "name": "stdout",
     "output_type": "stream",
     "text": [
      "\n",
      "                    Epoch: 842 / 1000 \n",
      "                    | Train Loss: 0.15948837739415467 \n",
      "                    | Train Dice Accuracy: 0.9707657702981609 \n",
      "                    | Test Dice Accuracy: 0.9429269234339396\n",
      "                \n"
     ]
    },
    {
     "data": {
      "application/vnd.jupyter.widget-view+json": {
       "model_id": "3bcdf6b7cd6d450da09d6987c3e88ee0",
       "version_major": 2,
       "version_minor": 0
      },
      "text/plain": [
       "  0%|          | 0/16 [00:00<?, ?it/s]"
      ]
     },
     "metadata": {},
     "output_type": "display_data"
    },
    {
     "name": "stdout",
     "output_type": "stream",
     "text": [
      "\n",
      "                Epoch: 843 / 1000 \n",
      "                | Train Loss: 0.16086068144068122 \n",
      "                | Train Dice Accuracy: 0.9667961828784856 \n",
      "            \n"
     ]
    },
    {
     "data": {
      "application/vnd.jupyter.widget-view+json": {
       "model_id": "ac3c0adebaef43ad81c616762759de32",
       "version_major": 2,
       "version_minor": 0
      },
      "text/plain": [
       "  0%|          | 0/16 [00:00<?, ?it/s]"
      ]
     },
     "metadata": {},
     "output_type": "display_data"
    },
    {
     "name": "stdout",
     "output_type": "stream",
     "text": [
      "\n",
      "                    Epoch: 844 / 1000 \n",
      "                    | Train Loss: 0.19582265568897128 \n",
      "                    | Train Dice Accuracy: 0.9685602525870005 \n",
      "                    | Test Dice Accuracy: 0.9311223559909396\n",
      "                \n"
     ]
    },
    {
     "data": {
      "application/vnd.jupyter.widget-view+json": {
       "model_id": "2b6c8ffb8b034c918960796844ac874a",
       "version_major": 2,
       "version_minor": 0
      },
      "text/plain": [
       "  0%|          | 0/16 [00:00<?, ?it/s]"
      ]
     },
     "metadata": {},
     "output_type": "display_data"
    },
    {
     "name": "stdout",
     "output_type": "stream",
     "text": [
      "\n",
      "                Epoch: 845 / 1000 \n",
      "                | Train Loss: 0.12893616291694343 \n",
      "                | Train Dice Accuracy: 0.9689973918351833 \n",
      "            \n"
     ]
    },
    {
     "data": {
      "application/vnd.jupyter.widget-view+json": {
       "model_id": "18dc921b76734b568fb6c39a2c7c03d3",
       "version_major": 2,
       "version_minor": 0
      },
      "text/plain": [
       "  0%|          | 0/16 [00:00<?, ?it/s]"
      ]
     },
     "metadata": {},
     "output_type": "display_data"
    },
    {
     "name": "stdout",
     "output_type": "stream",
     "text": [
      "\n",
      "                    Epoch: 846 / 1000 \n",
      "                    | Train Loss: 0.20754497684538364 \n",
      "                    | Train Dice Accuracy: 0.9695369393929191 \n",
      "                    | Test Dice Accuracy: 0.926812125576867\n",
      "                \n"
     ]
    },
    {
     "data": {
      "application/vnd.jupyter.widget-view+json": {
       "model_id": "06a426da32e34163a6cc435254f71c58",
       "version_major": 2,
       "version_minor": 0
      },
      "text/plain": [
       "  0%|          | 0/16 [00:00<?, ?it/s]"
      ]
     },
     "metadata": {},
     "output_type": "display_data"
    },
    {
     "name": "stdout",
     "output_type": "stream",
     "text": [
      "\n",
      "                Epoch: 847 / 1000 \n",
      "                | Train Loss: 0.15960561344400048 \n",
      "                | Train Dice Accuracy: 0.9668428570032119 \n",
      "            \n"
     ]
    },
    {
     "data": {
      "application/vnd.jupyter.widget-view+json": {
       "model_id": "39b3a2cf0752467a8eab95916bcb67d8",
       "version_major": 2,
       "version_minor": 0
      },
      "text/plain": [
       "  0%|          | 0/16 [00:00<?, ?it/s]"
      ]
     },
     "metadata": {},
     "output_type": "display_data"
    },
    {
     "name": "stdout",
     "output_type": "stream",
     "text": [
      "\n",
      "                    Epoch: 848 / 1000 \n",
      "                    | Train Loss: 0.16927074850536883 \n",
      "                    | Train Dice Accuracy: 0.9752559319690421 \n",
      "                    | Test Dice Accuracy: 0.9415475527445475\n",
      "                \n"
     ]
    },
    {
     "data": {
      "application/vnd.jupyter.widget-view+json": {
       "model_id": "5639a46e49694ce8a66dcdcb924304c6",
       "version_major": 2,
       "version_minor": 0
      },
      "text/plain": [
       "  0%|          | 0/16 [00:00<?, ?it/s]"
      ]
     },
     "metadata": {},
     "output_type": "display_data"
    },
    {
     "name": "stdout",
     "output_type": "stream",
     "text": [
      "\n",
      "                Epoch: 849 / 1000 \n",
      "                | Train Loss: 0.15880904765799642 \n",
      "                | Train Dice Accuracy: 0.9686449453166631 \n",
      "            \n"
     ]
    },
    {
     "data": {
      "application/vnd.jupyter.widget-view+json": {
       "model_id": "c7b1ec9d93d9479cbba05da7309f67d3",
       "version_major": 2,
       "version_minor": 0
      },
      "text/plain": [
       "  0%|          | 0/16 [00:00<?, ?it/s]"
      ]
     },
     "metadata": {},
     "output_type": "display_data"
    },
    {
     "name": "stdout",
     "output_type": "stream",
     "text": [
      "\n",
      "                    Epoch: 850 / 1000 \n",
      "                    | Train Loss: 0.20950501319020987 \n",
      "                    | Train Dice Accuracy: 0.9732610450207608 \n",
      "                    | Test Dice Accuracy: 0.9387134048673842\n",
      "                \n"
     ]
    },
    {
     "data": {
      "application/vnd.jupyter.widget-view+json": {
       "model_id": "6505811e0ed84166aaa89678077595c6",
       "version_major": 2,
       "version_minor": 0
      },
      "text/plain": [
       "  0%|          | 0/16 [00:00<?, ?it/s]"
      ]
     },
     "metadata": {},
     "output_type": "display_data"
    },
    {
     "name": "stdout",
     "output_type": "stream",
     "text": [
      "\n",
      "                Epoch: 851 / 1000 \n",
      "                | Train Loss: 0.1634344062767923 \n",
      "                | Train Dice Accuracy: 0.9601623665202748 \n",
      "            \n"
     ]
    },
    {
     "data": {
      "application/vnd.jupyter.widget-view+json": {
       "model_id": "5d8a86c1d9ec43b4b50b21009ea2244c",
       "version_major": 2,
       "version_minor": 0
      },
      "text/plain": [
       "  0%|          | 0/16 [00:00<?, ?it/s]"
      ]
     },
     "metadata": {},
     "output_type": "display_data"
    },
    {
     "name": "stdout",
     "output_type": "stream",
     "text": [
      "\n",
      "                    Epoch: 852 / 1000 \n",
      "                    | Train Loss: 0.16221500607207417 \n",
      "                    | Train Dice Accuracy: 0.965966542561849 \n",
      "                    | Test Dice Accuracy: 0.9447657201025221\n",
      "                \n"
     ]
    },
    {
     "data": {
      "application/vnd.jupyter.widget-view+json": {
       "model_id": "6a1a6596e41e4bb7937842b3490cf0e6",
       "version_major": 2,
       "version_minor": 0
      },
      "text/plain": [
       "  0%|          | 0/16 [00:00<?, ?it/s]"
      ]
     },
     "metadata": {},
     "output_type": "display_data"
    },
    {
     "name": "stdout",
     "output_type": "stream",
     "text": [
      "\n",
      "                Epoch: 853 / 1000 \n",
      "                | Train Loss: 0.13959213276393712 \n",
      "                | Train Dice Accuracy: 0.969943310154809 \n",
      "            \n"
     ]
    },
    {
     "data": {
      "application/vnd.jupyter.widget-view+json": {
       "model_id": "745fd9d8e84542d1b4d70b2b2786ea67",
       "version_major": 2,
       "version_minor": 0
      },
      "text/plain": [
       "  0%|          | 0/16 [00:00<?, ?it/s]"
      ]
     },
     "metadata": {},
     "output_type": "display_data"
    },
    {
     "name": "stdout",
     "output_type": "stream",
     "text": [
      "\n",
      "                    Epoch: 854 / 1000 \n",
      "                    | Train Loss: 0.19190987944602966 \n",
      "                    | Train Dice Accuracy: 0.9750731820151919 \n",
      "                    | Test Dice Accuracy: 0.949808246559567\n",
      "                \n"
     ]
    },
    {
     "data": {
      "application/vnd.jupyter.widget-view+json": {
       "model_id": "209eafe7beda4128a191028fc76f44f5",
       "version_major": 2,
       "version_minor": 0
      },
      "text/plain": [
       "  0%|          | 0/16 [00:00<?, ?it/s]"
      ]
     },
     "metadata": {},
     "output_type": "display_data"
    },
    {
     "name": "stdout",
     "output_type": "stream",
     "text": [
      "\n",
      "                Epoch: 855 / 1000 \n",
      "                | Train Loss: 0.16880527790635824 \n",
      "                | Train Dice Accuracy: 0.9659798219116456 \n",
      "            \n"
     ]
    },
    {
     "data": {
      "application/vnd.jupyter.widget-view+json": {
       "model_id": "2f090026f4f34309865e1d95e5dfd288",
       "version_major": 2,
       "version_minor": 0
      },
      "text/plain": [
       "  0%|          | 0/16 [00:00<?, ?it/s]"
      ]
     },
     "metadata": {},
     "output_type": "display_data"
    },
    {
     "name": "stdout",
     "output_type": "stream",
     "text": [
      "\n",
      "                    Epoch: 856 / 1000 \n",
      "                    | Train Loss: 0.16373635968193412 \n",
      "                    | Train Dice Accuracy: 0.9606356853788549 \n",
      "                    | Test Dice Accuracy: 0.941651377413008\n",
      "                \n"
     ]
    },
    {
     "data": {
      "application/vnd.jupyter.widget-view+json": {
       "model_id": "3d7ed5e093f249a4b5eed7d9a8b4b2e5",
       "version_major": 2,
       "version_minor": 0
      },
      "text/plain": [
       "  0%|          | 0/16 [00:00<?, ?it/s]"
      ]
     },
     "metadata": {},
     "output_type": "display_data"
    },
    {
     "name": "stdout",
     "output_type": "stream",
     "text": [
      "\n",
      "                Epoch: 857 / 1000 \n",
      "                | Train Loss: 0.16555620357394218 \n",
      "                | Train Dice Accuracy: 0.9663701158135993 \n",
      "            \n"
     ]
    },
    {
     "data": {
      "application/vnd.jupyter.widget-view+json": {
       "model_id": "7d848f6bef35453dae3f6ba3106f8018",
       "version_major": 2,
       "version_minor": 0
      },
      "text/plain": [
       "  0%|          | 0/16 [00:00<?, ?it/s]"
      ]
     },
     "metadata": {},
     "output_type": "display_data"
    },
    {
     "name": "stdout",
     "output_type": "stream",
     "text": [
      "\n",
      "                    Epoch: 858 / 1000 \n",
      "                    | Train Loss: 0.17045362805947661 \n",
      "                    | Train Dice Accuracy: 0.9680699557752653 \n",
      "                    | Test Dice Accuracy: 0.9483633438746134\n",
      "                \n"
     ]
    },
    {
     "data": {
      "application/vnd.jupyter.widget-view+json": {
       "model_id": "dbde6be98db742ab828cab9562b0b7af",
       "version_major": 2,
       "version_minor": 0
      },
      "text/plain": [
       "  0%|          | 0/16 [00:00<?, ?it/s]"
      ]
     },
     "metadata": {},
     "output_type": "display_data"
    },
    {
     "name": "stdout",
     "output_type": "stream",
     "text": [
      "\n",
      "                Epoch: 859 / 1000 \n",
      "                | Train Loss: 0.15135946753434837 \n",
      "                | Train Dice Accuracy: 0.9608561537627663 \n",
      "            \n"
     ]
    },
    {
     "data": {
      "application/vnd.jupyter.widget-view+json": {
       "model_id": "0088ee54a85c498bbd464b409a3ae8f1",
       "version_major": 2,
       "version_minor": 0
      },
      "text/plain": [
       "  0%|          | 0/16 [00:00<?, ?it/s]"
      ]
     },
     "metadata": {},
     "output_type": "display_data"
    },
    {
     "name": "stdout",
     "output_type": "stream",
     "text": [
      "\n",
      "                    Epoch: 860 / 1000 \n",
      "                    | Train Loss: 0.18587468098849058 \n",
      "                    | Train Dice Accuracy: 0.9698390526950639 \n",
      "                    | Test Dice Accuracy: 0.9419912563429939\n",
      "                \n"
     ]
    },
    {
     "data": {
      "application/vnd.jupyter.widget-view+json": {
       "model_id": "92609a3dccaf4e3bb27c6b8e2cb82ab5",
       "version_major": 2,
       "version_minor": 0
      },
      "text/plain": [
       "  0%|          | 0/16 [00:00<?, ?it/s]"
      ]
     },
     "metadata": {},
     "output_type": "display_data"
    },
    {
     "name": "stdout",
     "output_type": "stream",
     "text": [
      "\n",
      "                Epoch: 861 / 1000 \n",
      "                | Train Loss: 0.18929663579910994 \n",
      "                | Train Dice Accuracy: 0.9641854539163796 \n",
      "            \n"
     ]
    },
    {
     "data": {
      "application/vnd.jupyter.widget-view+json": {
       "model_id": "54d0cb5f234c470ea93e11361bee0b69",
       "version_major": 2,
       "version_minor": 0
      },
      "text/plain": [
       "  0%|          | 0/16 [00:00<?, ?it/s]"
      ]
     },
     "metadata": {},
     "output_type": "display_data"
    },
    {
     "name": "stdout",
     "output_type": "stream",
     "text": [
      "\n",
      "                    Epoch: 862 / 1000 \n",
      "                    | Train Loss: 0.15605173003859818 \n",
      "                    | Train Dice Accuracy: 0.9715210196646777 \n",
      "                    | Test Dice Accuracy: 0.9472472601466708\n",
      "                \n"
     ]
    },
    {
     "data": {
      "application/vnd.jupyter.widget-view+json": {
       "model_id": "0992c08ac5df49e1a189741bf3be9f44",
       "version_major": 2,
       "version_minor": 0
      },
      "text/plain": [
       "  0%|          | 0/16 [00:00<?, ?it/s]"
      ]
     },
     "metadata": {},
     "output_type": "display_data"
    },
    {
     "name": "stdout",
     "output_type": "stream",
     "text": [
      "\n",
      "                Epoch: 863 / 1000 \n",
      "                | Train Loss: 0.1496360048186034 \n",
      "                | Train Dice Accuracy: 0.970222668067829 \n",
      "            \n"
     ]
    },
    {
     "data": {
      "application/vnd.jupyter.widget-view+json": {
       "model_id": "72a8df272cb84f699fc14744d72529e0",
       "version_major": 2,
       "version_minor": 0
      },
      "text/plain": [
       "  0%|          | 0/16 [00:00<?, ?it/s]"
      ]
     },
     "metadata": {},
     "output_type": "display_data"
    },
    {
     "name": "stdout",
     "output_type": "stream",
     "text": [
      "\n",
      "                    Epoch: 864 / 1000 \n",
      "                    | Train Loss: 0.15823452780023217 \n",
      "                    | Train Dice Accuracy: 0.9699407184665854 \n",
      "                    | Test Dice Accuracy: 0.94797107246187\n",
      "                \n"
     ]
    },
    {
     "data": {
      "application/vnd.jupyter.widget-view+json": {
       "model_id": "fd43286f80eb427ea58f05ba6271226d",
       "version_major": 2,
       "version_minor": 0
      },
      "text/plain": [
       "  0%|          | 0/16 [00:00<?, ?it/s]"
      ]
     },
     "metadata": {},
     "output_type": "display_data"
    },
    {
     "name": "stdout",
     "output_type": "stream",
     "text": [
      "\n",
      "                Epoch: 865 / 1000 \n",
      "                | Train Loss: 0.203681412152946 \n",
      "                | Train Dice Accuracy: 0.9762259203454723 \n",
      "            \n"
     ]
    },
    {
     "data": {
      "application/vnd.jupyter.widget-view+json": {
       "model_id": "60f2237b621b438ab0029f527d2a1a4f",
       "version_major": 2,
       "version_minor": 0
      },
      "text/plain": [
       "  0%|          | 0/16 [00:00<?, ?it/s]"
      ]
     },
     "metadata": {},
     "output_type": "display_data"
    },
    {
     "name": "stdout",
     "output_type": "stream",
     "text": [
      "\n",
      "                    Epoch: 866 / 1000 \n",
      "                    | Train Loss: 0.17009789729490876 \n",
      "                    | Train Dice Accuracy: 0.9747625793571826 \n",
      "                    | Test Dice Accuracy: 0.9497667286131117\n",
      "                \n"
     ]
    },
    {
     "data": {
      "application/vnd.jupyter.widget-view+json": {
       "model_id": "8defedbd2f10447aacdef5b652983d5f",
       "version_major": 2,
       "version_minor": 0
      },
      "text/plain": [
       "  0%|          | 0/16 [00:00<?, ?it/s]"
      ]
     },
     "metadata": {},
     "output_type": "display_data"
    },
    {
     "name": "stdout",
     "output_type": "stream",
     "text": [
      "\n",
      "                Epoch: 867 / 1000 \n",
      "                | Train Loss: 0.17181885126046836 \n",
      "                | Train Dice Accuracy: 0.9667300140416181 \n",
      "            \n"
     ]
    },
    {
     "data": {
      "application/vnd.jupyter.widget-view+json": {
       "model_id": "8e7da887ac344ee8b6892b3eb05ece60",
       "version_major": 2,
       "version_minor": 0
      },
      "text/plain": [
       "  0%|          | 0/16 [00:00<?, ?it/s]"
      ]
     },
     "metadata": {},
     "output_type": "display_data"
    },
    {
     "name": "stdout",
     "output_type": "stream",
     "text": [
      "\n",
      "                    Epoch: 868 / 1000 \n",
      "                    | Train Loss: 0.16790399746969342 \n",
      "                    | Train Dice Accuracy: 0.9709376288998511 \n",
      "                    | Test Dice Accuracy: 0.9518033530977037\n",
      "                \n"
     ]
    },
    {
     "data": {
      "application/vnd.jupyter.widget-view+json": {
       "model_id": "8c78861c573c467c9f46f56d2c053a39",
       "version_major": 2,
       "version_minor": 0
      },
      "text/plain": [
       "  0%|          | 0/16 [00:00<?, ?it/s]"
      ]
     },
     "metadata": {},
     "output_type": "display_data"
    },
    {
     "name": "stdout",
     "output_type": "stream",
     "text": [
      "\n",
      "                Epoch: 869 / 1000 \n",
      "                | Train Loss: 0.15395451476797462 \n",
      "                | Train Dice Accuracy: 0.9607805842241364 \n",
      "            \n"
     ]
    },
    {
     "data": {
      "application/vnd.jupyter.widget-view+json": {
       "model_id": "9057d5d48f69408a9cb884179ac56ba9",
       "version_major": 2,
       "version_minor": 0
      },
      "text/plain": [
       "  0%|          | 0/16 [00:00<?, ?it/s]"
      ]
     },
     "metadata": {},
     "output_type": "display_data"
    },
    {
     "name": "stdout",
     "output_type": "stream",
     "text": [
      "\n",
      "                    Epoch: 870 / 1000 \n",
      "                    | Train Loss: 0.13354046130552888 \n",
      "                    | Train Dice Accuracy: 0.9701627239716791 \n",
      "                    | Test Dice Accuracy: 0.946487307548523\n",
      "                \n"
     ]
    },
    {
     "data": {
      "application/vnd.jupyter.widget-view+json": {
       "model_id": "23234ae685a54394b00c484ed4688c08",
       "version_major": 2,
       "version_minor": 0
      },
      "text/plain": [
       "  0%|          | 0/16 [00:00<?, ?it/s]"
      ]
     },
     "metadata": {},
     "output_type": "display_data"
    },
    {
     "name": "stdout",
     "output_type": "stream",
     "text": [
      "\n",
      "                Epoch: 871 / 1000 \n",
      "                | Train Loss: 0.15217719157226384 \n",
      "                | Train Dice Accuracy: 0.9674402808283901 \n",
      "            \n"
     ]
    },
    {
     "data": {
      "application/vnd.jupyter.widget-view+json": {
       "model_id": "2f916bfe5b5e42dcab1ed79b1ebb24a6",
       "version_major": 2,
       "version_minor": 0
      },
      "text/plain": [
       "  0%|          | 0/16 [00:00<?, ?it/s]"
      ]
     },
     "metadata": {},
     "output_type": "display_data"
    },
    {
     "name": "stdout",
     "output_type": "stream",
     "text": [
      "\n",
      "                    Epoch: 872 / 1000 \n",
      "                    | Train Loss: 0.19935854128561914 \n",
      "                    | Train Dice Accuracy: 0.9725394306274561 \n",
      "                    | Test Dice Accuracy: 0.9461727870835198\n",
      "                \n"
     ]
    },
    {
     "data": {
      "application/vnd.jupyter.widget-view+json": {
       "model_id": "a13b3532736748a182575ec84b77f27e",
       "version_major": 2,
       "version_minor": 0
      },
      "text/plain": [
       "  0%|          | 0/16 [00:00<?, ?it/s]"
      ]
     },
     "metadata": {},
     "output_type": "display_data"
    },
    {
     "name": "stdout",
     "output_type": "stream",
     "text": [
      "\n",
      "                Epoch: 873 / 1000 \n",
      "                | Train Loss: 0.16814229357987642 \n",
      "                | Train Dice Accuracy: 0.9688976717434721 \n",
      "            \n"
     ]
    },
    {
     "data": {
      "application/vnd.jupyter.widget-view+json": {
       "model_id": "65c0424c575f4e17bb6ee0507c5ef57b",
       "version_major": 2,
       "version_minor": 0
      },
      "text/plain": [
       "  0%|          | 0/16 [00:00<?, ?it/s]"
      ]
     },
     "metadata": {},
     "output_type": "display_data"
    },
    {
     "name": "stdout",
     "output_type": "stream",
     "text": [
      "\n",
      "                    Epoch: 874 / 1000 \n",
      "                    | Train Loss: 0.13132954412139952 \n",
      "                    | Train Dice Accuracy: 0.9682113822336239 \n",
      "                    | Test Dice Accuracy: 0.9421342545085483\n",
      "                \n"
     ]
    },
    {
     "data": {
      "application/vnd.jupyter.widget-view+json": {
       "model_id": "78c0c45ffae04f7e8fbc6fe4e588b747",
       "version_major": 2,
       "version_minor": 0
      },
      "text/plain": [
       "  0%|          | 0/16 [00:00<?, ?it/s]"
      ]
     },
     "metadata": {},
     "output_type": "display_data"
    },
    {
     "name": "stdout",
     "output_type": "stream",
     "text": [
      "\n",
      "                Epoch: 875 / 1000 \n",
      "                | Train Loss: 0.20521910907700658 \n",
      "                | Train Dice Accuracy: 0.9718420029832766 \n",
      "            \n"
     ]
    },
    {
     "data": {
      "application/vnd.jupyter.widget-view+json": {
       "model_id": "1c34e1bcf7f5465eb639ebecf0e4c46e",
       "version_major": 2,
       "version_minor": 0
      },
      "text/plain": [
       "  0%|          | 0/16 [00:00<?, ?it/s]"
      ]
     },
     "metadata": {},
     "output_type": "display_data"
    },
    {
     "name": "stdout",
     "output_type": "stream",
     "text": [
      "\n",
      "                    Epoch: 876 / 1000 \n",
      "                    | Train Loss: 0.1512241829186678 \n",
      "                    | Train Dice Accuracy: 0.9600004157317537 \n",
      "                    | Test Dice Accuracy: 0.9456703662872314\n",
      "                \n"
     ]
    },
    {
     "data": {
      "application/vnd.jupyter.widget-view+json": {
       "model_id": "0952ef254c7144edb8c98bc97bd7680a",
       "version_major": 2,
       "version_minor": 0
      },
      "text/plain": [
       "  0%|          | 0/16 [00:00<?, ?it/s]"
      ]
     },
     "metadata": {},
     "output_type": "display_data"
    },
    {
     "name": "stdout",
     "output_type": "stream",
     "text": [
      "\n",
      "                Epoch: 877 / 1000 \n",
      "                | Train Loss: 0.20128747588023543 \n",
      "                | Train Dice Accuracy: 0.9628926944165003 \n",
      "            \n"
     ]
    },
    {
     "data": {
      "application/vnd.jupyter.widget-view+json": {
       "model_id": "c080741cb36d4e0fabcda2333162985d",
       "version_major": 2,
       "version_minor": 0
      },
      "text/plain": [
       "  0%|          | 0/16 [00:00<?, ?it/s]"
      ]
     },
     "metadata": {},
     "output_type": "display_data"
    },
    {
     "name": "stdout",
     "output_type": "stream",
     "text": [
      "\n",
      "                    Epoch: 878 / 1000 \n",
      "                    | Train Loss: 0.17930197063833475 \n",
      "                    | Train Dice Accuracy: 0.9684840446269071 \n",
      "                    | Test Dice Accuracy: 0.8315362599160936\n",
      "                \n"
     ]
    },
    {
     "data": {
      "application/vnd.jupyter.widget-view+json": {
       "model_id": "8aff15229b954526b783f4e2aa3878ba",
       "version_major": 2,
       "version_minor": 0
      },
      "text/plain": [
       "  0%|          | 0/16 [00:00<?, ?it/s]"
      ]
     },
     "metadata": {},
     "output_type": "display_data"
    },
    {
     "name": "stdout",
     "output_type": "stream",
     "text": [
      "\n",
      "                Epoch: 879 / 1000 \n",
      "                | Train Loss: 0.1448909763712436 \n",
      "                | Train Dice Accuracy: 0.9627122352165836 \n",
      "            \n"
     ]
    },
    {
     "data": {
      "application/vnd.jupyter.widget-view+json": {
       "model_id": "2ef465e3baf04a82941bd93b61234619",
       "version_major": 2,
       "version_minor": 0
      },
      "text/plain": [
       "  0%|          | 0/16 [00:00<?, ?it/s]"
      ]
     },
     "metadata": {},
     "output_type": "display_data"
    },
    {
     "name": "stdout",
     "output_type": "stream",
     "text": [
      "\n",
      "                    Epoch: 880 / 1000 \n",
      "                    | Train Loss: 0.15913604362867773 \n",
      "                    | Train Dice Accuracy: 0.96103777254329 \n",
      "                    | Test Dice Accuracy: 0.8934002584881253\n",
      "                \n"
     ]
    },
    {
     "data": {
      "application/vnd.jupyter.widget-view+json": {
       "model_id": "3a0882cf7992410dbd5f9bf0d92ab595",
       "version_major": 2,
       "version_minor": 0
      },
      "text/plain": [
       "  0%|          | 0/16 [00:00<?, ?it/s]"
      ]
     },
     "metadata": {},
     "output_type": "display_data"
    },
    {
     "name": "stdout",
     "output_type": "stream",
     "text": [
      "\n",
      "                Epoch: 881 / 1000 \n",
      "                | Train Loss: 0.19381901249289513 \n",
      "                | Train Dice Accuracy: 0.9700660815736128 \n",
      "            \n"
     ]
    },
    {
     "data": {
      "application/vnd.jupyter.widget-view+json": {
       "model_id": "a4cda80c971444d684c2849134eb5ec6",
       "version_major": 2,
       "version_minor": 0
      },
      "text/plain": [
       "  0%|          | 0/16 [00:00<?, ?it/s]"
      ]
     },
     "metadata": {},
     "output_type": "display_data"
    },
    {
     "name": "stdout",
     "output_type": "stream",
     "text": [
      "\n",
      "                    Epoch: 882 / 1000 \n",
      "                    | Train Loss: 0.19158605951815844 \n",
      "                    | Train Dice Accuracy: 0.9659454914885508 \n",
      "                    | Test Dice Accuracy: 0.9485248592164781\n",
      "                \n"
     ]
    },
    {
     "data": {
      "application/vnd.jupyter.widget-view+json": {
       "model_id": "06268dda71eb41f2ac67660a4418f1c9",
       "version_major": 2,
       "version_minor": 0
      },
      "text/plain": [
       "  0%|          | 0/16 [00:00<?, ?it/s]"
      ]
     },
     "metadata": {},
     "output_type": "display_data"
    },
    {
     "name": "stdout",
     "output_type": "stream",
     "text": [
      "\n",
      "                Epoch: 883 / 1000 \n",
      "                | Train Loss: 0.13343011518009007 \n",
      "                | Train Dice Accuracy: 0.9605944642895147 \n",
      "            \n"
     ]
    },
    {
     "data": {
      "application/vnd.jupyter.widget-view+json": {
       "model_id": "5cc563bde1704a7d882bccf4e76849c4",
       "version_major": 2,
       "version_minor": 0
      },
      "text/plain": [
       "  0%|          | 0/16 [00:00<?, ?it/s]"
      ]
     },
     "metadata": {},
     "output_type": "display_data"
    },
    {
     "name": "stdout",
     "output_type": "stream",
     "text": [
      "\n",
      "                    Epoch: 884 / 1000 \n",
      "                    | Train Loss: 0.19567773025482893 \n",
      "                    | Train Dice Accuracy: 0.9688655236886011 \n",
      "                    | Test Dice Accuracy: 0.9064607487784492\n",
      "                \n"
     ]
    },
    {
     "data": {
      "application/vnd.jupyter.widget-view+json": {
       "model_id": "05b8ce357a1c4593b3f09c2a47e01cf5",
       "version_major": 2,
       "version_minor": 0
      },
      "text/plain": [
       "  0%|          | 0/16 [00:00<?, ?it/s]"
      ]
     },
     "metadata": {},
     "output_type": "display_data"
    },
    {
     "name": "stdout",
     "output_type": "stream",
     "text": [
      "\n",
      "                Epoch: 885 / 1000 \n",
      "                | Train Loss: 0.13695651153102517 \n",
      "                | Train Dice Accuracy: 0.9704772509468926 \n",
      "            \n"
     ]
    },
    {
     "data": {
      "application/vnd.jupyter.widget-view+json": {
       "model_id": "a24f775f999146908ffa03df648ac633",
       "version_major": 2,
       "version_minor": 0
      },
      "text/plain": [
       "  0%|          | 0/16 [00:00<?, ?it/s]"
      ]
     },
     "metadata": {},
     "output_type": "display_data"
    },
    {
     "name": "stdout",
     "output_type": "stream",
     "text": [
      "\n",
      "                    Epoch: 886 / 1000 \n",
      "                    | Train Loss: 0.16511897882446647 \n",
      "                    | Train Dice Accuracy: 0.9640911997181095 \n",
      "                    | Test Dice Accuracy: 0.9172479576534696\n",
      "                \n"
     ]
    },
    {
     "data": {
      "application/vnd.jupyter.widget-view+json": {
       "model_id": "cda24c4006c54c6099d65290f6eb2b5a",
       "version_major": 2,
       "version_minor": 0
      },
      "text/plain": [
       "  0%|          | 0/16 [00:00<?, ?it/s]"
      ]
     },
     "metadata": {},
     "output_type": "display_data"
    },
    {
     "name": "stdout",
     "output_type": "stream",
     "text": [
      "\n",
      "                Epoch: 887 / 1000 \n",
      "                | Train Loss: 0.16158436913974583 \n",
      "                | Train Dice Accuracy: 0.9678818168965253 \n",
      "            \n"
     ]
    },
    {
     "data": {
      "application/vnd.jupyter.widget-view+json": {
       "model_id": "11e9700e4564461b8de606013eeead28",
       "version_major": 2,
       "version_minor": 0
      },
      "text/plain": [
       "  0%|          | 0/16 [00:00<?, ?it/s]"
      ]
     },
     "metadata": {},
     "output_type": "display_data"
    },
    {
     "name": "stdout",
     "output_type": "stream",
     "text": [
      "\n",
      "                    Epoch: 888 / 1000 \n",
      "                    | Train Loss: 0.1877294136211276 \n",
      "                    | Train Dice Accuracy: 0.9651525938454928 \n",
      "                    | Test Dice Accuracy: 0.8504317071702745\n",
      "                \n"
     ]
    },
    {
     "data": {
      "application/vnd.jupyter.widget-view+json": {
       "model_id": "bc1b40656b7e408b8ef5de2b487bcc4d",
       "version_major": 2,
       "version_minor": 0
      },
      "text/plain": [
       "  0%|          | 0/16 [00:00<?, ?it/s]"
      ]
     },
     "metadata": {},
     "output_type": "display_data"
    },
    {
     "name": "stdout",
     "output_type": "stream",
     "text": [
      "\n",
      "                Epoch: 889 / 1000 \n",
      "                | Train Loss: 0.15209275973029435 \n",
      "                | Train Dice Accuracy: 0.9587651531078986 \n",
      "            \n"
     ]
    },
    {
     "data": {
      "application/vnd.jupyter.widget-view+json": {
       "model_id": "db5912bb59aa409893eb05ef1ea4af83",
       "version_major": 2,
       "version_minor": 0
      },
      "text/plain": [
       "  0%|          | 0/16 [00:00<?, ?it/s]"
      ]
     },
     "metadata": {},
     "output_type": "display_data"
    },
    {
     "name": "stdout",
     "output_type": "stream",
     "text": [
      "\n",
      "                    Epoch: 890 / 1000 \n",
      "                    | Train Loss: 0.15461633657105267 \n",
      "                    | Train Dice Accuracy: 0.9649067555998897 \n",
      "                    | Test Dice Accuracy: 0.8968576325310601\n",
      "                \n"
     ]
    },
    {
     "data": {
      "application/vnd.jupyter.widget-view+json": {
       "model_id": "1d9ace1ce33c406fbd5027a4c6e281cd",
       "version_major": 2,
       "version_minor": 0
      },
      "text/plain": [
       "  0%|          | 0/16 [00:00<?, ?it/s]"
      ]
     },
     "metadata": {},
     "output_type": "display_data"
    },
    {
     "name": "stdout",
     "output_type": "stream",
     "text": [
      "\n",
      "                Epoch: 891 / 1000 \n",
      "                | Train Loss: 0.17793503846041858 \n",
      "                | Train Dice Accuracy: 0.9686644487602766 \n",
      "            \n"
     ]
    },
    {
     "data": {
      "application/vnd.jupyter.widget-view+json": {
       "model_id": "a92e68baf79843daa0fffd749532ea0c",
       "version_major": 2,
       "version_minor": 0
      },
      "text/plain": [
       "  0%|          | 0/16 [00:00<?, ?it/s]"
      ]
     },
     "metadata": {},
     "output_type": "display_data"
    },
    {
     "name": "stdout",
     "output_type": "stream",
     "text": [
      "\n",
      "                    Epoch: 892 / 1000 \n",
      "                    | Train Loss: 0.1893773009069264 \n",
      "                    | Train Dice Accuracy: 0.9694454481579223 \n",
      "                    | Test Dice Accuracy: 0.9316224522060819\n",
      "                \n"
     ]
    },
    {
     "data": {
      "application/vnd.jupyter.widget-view+json": {
       "model_id": "6fd54ae3ef4f43dc9adffe14dcbb8f11",
       "version_major": 2,
       "version_minor": 0
      },
      "text/plain": [
       "  0%|          | 0/16 [00:00<?, ?it/s]"
      ]
     },
     "metadata": {},
     "output_type": "display_data"
    },
    {
     "name": "stdout",
     "output_type": "stream",
     "text": [
      "\n",
      "                Epoch: 893 / 1000 \n",
      "                | Train Loss: 0.20391437597572803 \n",
      "                | Train Dice Accuracy: 0.9530885744662512 \n",
      "            \n"
     ]
    },
    {
     "data": {
      "application/vnd.jupyter.widget-view+json": {
       "model_id": "de5465f55fe348bbba75c3c955bc0a71",
       "version_major": 2,
       "version_minor": 0
      },
      "text/plain": [
       "  0%|          | 0/16 [00:00<?, ?it/s]"
      ]
     },
     "metadata": {},
     "output_type": "display_data"
    },
    {
     "name": "stdout",
     "output_type": "stream",
     "text": [
      "\n",
      "                    Epoch: 894 / 1000 \n",
      "                    | Train Loss: 0.16957005416043103 \n",
      "                    | Train Dice Accuracy: 0.9692585053531805 \n",
      "                    | Test Dice Accuracy: 0.9477418859799703\n",
      "                \n"
     ]
    },
    {
     "data": {
      "application/vnd.jupyter.widget-view+json": {
       "model_id": "0282fb4d9c274112a0393e70409e0274",
       "version_major": 2,
       "version_minor": 0
      },
      "text/plain": [
       "  0%|          | 0/16 [00:00<?, ?it/s]"
      ]
     },
     "metadata": {},
     "output_type": "display_data"
    },
    {
     "name": "stdout",
     "output_type": "stream",
     "text": [
      "\n",
      "                Epoch: 895 / 1000 \n",
      "                | Train Loss: 0.16526791197247803 \n",
      "                | Train Dice Accuracy: 0.9641712209949754 \n",
      "            \n"
     ]
    },
    {
     "data": {
      "application/vnd.jupyter.widget-view+json": {
       "model_id": "1cd14501914c4068863869dac17bd02a",
       "version_major": 2,
       "version_minor": 0
      },
      "text/plain": [
       "  0%|          | 0/16 [00:00<?, ?it/s]"
      ]
     },
     "metadata": {},
     "output_type": "display_data"
    },
    {
     "name": "stdout",
     "output_type": "stream",
     "text": [
      "\n",
      "                    Epoch: 896 / 1000 \n",
      "                    | Train Loss: 0.1577124516479671 \n",
      "                    | Train Dice Accuracy: 0.9712538963014429 \n",
      "                    | Test Dice Accuracy: 0.9487963517506918\n",
      "                \n"
     ]
    },
    {
     "data": {
      "application/vnd.jupyter.widget-view+json": {
       "model_id": "9ed240073dc347b5a31b4944f7bc802f",
       "version_major": 2,
       "version_minor": 0
      },
      "text/plain": [
       "  0%|          | 0/16 [00:00<?, ?it/s]"
      ]
     },
     "metadata": {},
     "output_type": "display_data"
    },
    {
     "name": "stdout",
     "output_type": "stream",
     "text": [
      "\n",
      "                Epoch: 897 / 1000 \n",
      "                | Train Loss: 0.19356233277358115 \n",
      "                | Train Dice Accuracy: 0.9713094129448845 \n",
      "            \n"
     ]
    },
    {
     "data": {
      "application/vnd.jupyter.widget-view+json": {
       "model_id": "fb442c0c6f7a405595d811f41a69500a",
       "version_major": 2,
       "version_minor": 0
      },
      "text/plain": [
       "  0%|          | 0/16 [00:00<?, ?it/s]"
      ]
     },
     "metadata": {},
     "output_type": "display_data"
    },
    {
     "name": "stdout",
     "output_type": "stream",
     "text": [
      "\n",
      "                    Epoch: 898 / 1000 \n",
      "                    | Train Loss: 0.2206085016950965 \n",
      "                    | Train Dice Accuracy: 0.9717574545315334 \n",
      "                    | Test Dice Accuracy: 0.9530426528718736\n",
      "                \n"
     ]
    },
    {
     "data": {
      "application/vnd.jupyter.widget-view+json": {
       "model_id": "9b218ae46ff74962a34f5cb5109b375a",
       "version_major": 2,
       "version_minor": 0
      },
      "text/plain": [
       "  0%|          | 0/16 [00:00<?, ?it/s]"
      ]
     },
     "metadata": {},
     "output_type": "display_data"
    },
    {
     "name": "stdout",
     "output_type": "stream",
     "text": [
      "\n",
      "                Epoch: 899 / 1000 \n",
      "                | Train Loss: 0.16337783401831985 \n",
      "                | Train Dice Accuracy: 0.9593030867251483 \n",
      "            \n"
     ]
    },
    {
     "data": {
      "application/vnd.jupyter.widget-view+json": {
       "model_id": "2bd0f697a3db4b5f957e96615f8042fa",
       "version_major": 2,
       "version_minor": 0
      },
      "text/plain": [
       "  0%|          | 0/16 [00:00<?, ?it/s]"
      ]
     },
     "metadata": {},
     "output_type": "display_data"
    },
    {
     "name": "stdout",
     "output_type": "stream",
     "text": [
      "\n",
      "                    Epoch: 900 / 1000 \n",
      "                    | Train Loss: 0.1872141365893185 \n",
      "                    | Train Dice Accuracy: 0.9675032080344435 \n",
      "                    | Test Dice Accuracy: 0.951236195034451\n",
      "                \n"
     ]
    },
    {
     "data": {
      "application/vnd.jupyter.widget-view+json": {
       "model_id": "a5eb8e09ce39499292c0cdad3efc4f90",
       "version_major": 2,
       "version_minor": 0
      },
      "text/plain": [
       "  0%|          | 0/16 [00:00<?, ?it/s]"
      ]
     },
     "metadata": {},
     "output_type": "display_data"
    },
    {
     "name": "stdout",
     "output_type": "stream",
     "text": [
      "\n",
      "                Epoch: 901 / 1000 \n",
      "                | Train Loss: 0.14393421611748636 \n",
      "                | Train Dice Accuracy: 0.967036422342062 \n",
      "            \n"
     ]
    },
    {
     "data": {
      "application/vnd.jupyter.widget-view+json": {
       "model_id": "76cd79c403384551bfa34e27ddb8bd74",
       "version_major": 2,
       "version_minor": 0
      },
      "text/plain": [
       "  0%|          | 0/16 [00:00<?, ?it/s]"
      ]
     },
     "metadata": {},
     "output_type": "display_data"
    },
    {
     "name": "stdout",
     "output_type": "stream",
     "text": [
      "\n",
      "                    Epoch: 902 / 1000 \n",
      "                    | Train Loss: 0.16897585289552808 \n",
      "                    | Train Dice Accuracy: 0.9707114506976395 \n",
      "                    | Test Dice Accuracy: 0.9530963831477695\n",
      "                \n"
     ]
    },
    {
     "data": {
      "application/vnd.jupyter.widget-view+json": {
       "model_id": "1b320200b77345838993d9eed763eb54",
       "version_major": 2,
       "version_minor": 0
      },
      "text/plain": [
       "  0%|          | 0/16 [00:00<?, ?it/s]"
      ]
     },
     "metadata": {},
     "output_type": "display_data"
    },
    {
     "name": "stdout",
     "output_type": "stream",
     "text": [
      "\n",
      "                Epoch: 903 / 1000 \n",
      "                | Train Loss: 0.15877587418071926 \n",
      "                | Train Dice Accuracy: 0.9739448637722834 \n",
      "            \n"
     ]
    },
    {
     "data": {
      "application/vnd.jupyter.widget-view+json": {
       "model_id": "457d3e9d82c449448dfb859365dc9c16",
       "version_major": 2,
       "version_minor": 0
      },
      "text/plain": [
       "  0%|          | 0/16 [00:00<?, ?it/s]"
      ]
     },
     "metadata": {},
     "output_type": "display_data"
    },
    {
     "name": "stdout",
     "output_type": "stream",
     "text": [
      "\n",
      "                    Epoch: 904 / 1000 \n",
      "                    | Train Loss: 0.18188812723383307 \n",
      "                    | Train Dice Accuracy: 0.9728945555261603 \n",
      "                    | Test Dice Accuracy: 0.9535768893029954\n",
      "                \n"
     ]
    },
    {
     "data": {
      "application/vnd.jupyter.widget-view+json": {
       "model_id": "5ecec5bacd1f487f9ac9bbd039268597",
       "version_major": 2,
       "version_minor": 0
      },
      "text/plain": [
       "  0%|          | 0/16 [00:00<?, ?it/s]"
      ]
     },
     "metadata": {},
     "output_type": "display_data"
    },
    {
     "name": "stdout",
     "output_type": "stream",
     "text": [
      "\n",
      "                Epoch: 905 / 1000 \n",
      "                | Train Loss: 0.14276097109541297 \n",
      "                | Train Dice Accuracy: 0.9644486254879406 \n",
      "            \n"
     ]
    },
    {
     "data": {
      "application/vnd.jupyter.widget-view+json": {
       "model_id": "9c345d0e508048d1b2806c7edc673676",
       "version_major": 2,
       "version_minor": 0
      },
      "text/plain": [
       "  0%|          | 0/16 [00:00<?, ?it/s]"
      ]
     },
     "metadata": {},
     "output_type": "display_data"
    },
    {
     "name": "stdout",
     "output_type": "stream",
     "text": [
      "\n",
      "                    Epoch: 906 / 1000 \n",
      "                    | Train Loss: 0.17925601359456778 \n",
      "                    | Train Dice Accuracy: 0.9683879134810973 \n",
      "                    | Test Dice Accuracy: 0.9530186189545525\n",
      "                \n"
     ]
    },
    {
     "data": {
      "application/vnd.jupyter.widget-view+json": {
       "model_id": "7b7c52dae9a945e6afdd7cbe206d1453",
       "version_major": 2,
       "version_minor": 0
      },
      "text/plain": [
       "  0%|          | 0/16 [00:00<?, ?it/s]"
      ]
     },
     "metadata": {},
     "output_type": "display_data"
    },
    {
     "name": "stdout",
     "output_type": "stream",
     "text": [
      "\n",
      "                Epoch: 907 / 1000 \n",
      "                | Train Loss: 0.14694369141943753 \n",
      "                | Train Dice Accuracy: 0.9672094819782017 \n",
      "            \n"
     ]
    },
    {
     "data": {
      "application/vnd.jupyter.widget-view+json": {
       "model_id": "d788d658277f4ff1926cafc6d0468784",
       "version_major": 2,
       "version_minor": 0
      },
      "text/plain": [
       "  0%|          | 0/16 [00:00<?, ?it/s]"
      ]
     },
     "metadata": {},
     "output_type": "display_data"
    },
    {
     "name": "stdout",
     "output_type": "stream",
     "text": [
      "\n",
      "                    Epoch: 908 / 1000 \n",
      "                    | Train Loss: 0.20121588418260217 \n",
      "                    | Train Dice Accuracy: 0.9642612474305289 \n",
      "                    | Test Dice Accuracy: 0.9520834485689799\n",
      "                \n"
     ]
    },
    {
     "data": {
      "application/vnd.jupyter.widget-view+json": {
       "model_id": "77731a5042be4f49912633530e8bca49",
       "version_major": 2,
       "version_minor": 0
      },
      "text/plain": [
       "  0%|          | 0/16 [00:00<?, ?it/s]"
      ]
     },
     "metadata": {},
     "output_type": "display_data"
    },
    {
     "name": "stdout",
     "output_type": "stream",
     "text": [
      "\n",
      "                Epoch: 909 / 1000 \n",
      "                | Train Loss: 0.1582437865436077 \n",
      "                | Train Dice Accuracy: 0.9717185143466409 \n",
      "            \n"
     ]
    },
    {
     "data": {
      "application/vnd.jupyter.widget-view+json": {
       "model_id": "d13c9cc42fbf4629b55060e382b50f05",
       "version_major": 2,
       "version_minor": 0
      },
      "text/plain": [
       "  0%|          | 0/16 [00:00<?, ?it/s]"
      ]
     },
     "metadata": {},
     "output_type": "display_data"
    },
    {
     "name": "stdout",
     "output_type": "stream",
     "text": [
      "\n",
      "                    Epoch: 910 / 1000 \n",
      "                    | Train Loss: 0.17317683016881347 \n",
      "                    | Train Dice Accuracy: 0.9680869819389449 \n",
      "                    | Test Dice Accuracy: 0.948722693655226\n",
      "                \n"
     ]
    },
    {
     "data": {
      "application/vnd.jupyter.widget-view+json": {
       "model_id": "e0d54b819ddf46e79716f50321c89e20",
       "version_major": 2,
       "version_minor": 0
      },
      "text/plain": [
       "  0%|          | 0/16 [00:00<?, ?it/s]"
      ]
     },
     "metadata": {},
     "output_type": "display_data"
    },
    {
     "name": "stdout",
     "output_type": "stream",
     "text": [
      "\n",
      "                Epoch: 911 / 1000 \n",
      "                | Train Loss: 0.14022524585016072 \n",
      "                | Train Dice Accuracy: 0.9715419792171035 \n",
      "            \n"
     ]
    },
    {
     "data": {
      "application/vnd.jupyter.widget-view+json": {
       "model_id": "f7fab8df80534e3d9dfc894df284d9cb",
       "version_major": 2,
       "version_minor": 0
      },
      "text/plain": [
       "  0%|          | 0/16 [00:00<?, ?it/s]"
      ]
     },
     "metadata": {},
     "output_type": "display_data"
    },
    {
     "name": "stdout",
     "output_type": "stream",
     "text": [
      "\n",
      "                    Epoch: 912 / 1000 \n",
      "                    | Train Loss: 0.24362546484917402 \n",
      "                    | Train Dice Accuracy: 0.9773490802974117 \n",
      "                    | Test Dice Accuracy: 0.9482064048449198\n",
      "                \n"
     ]
    },
    {
     "data": {
      "application/vnd.jupyter.widget-view+json": {
       "model_id": "71b55c59ff944321a481bd733874881a",
       "version_major": 2,
       "version_minor": 0
      },
      "text/plain": [
       "  0%|          | 0/16 [00:00<?, ?it/s]"
      ]
     },
     "metadata": {},
     "output_type": "display_data"
    },
    {
     "name": "stdout",
     "output_type": "stream",
     "text": [
      "\n",
      "                Epoch: 913 / 1000 \n",
      "                | Train Loss: 0.19147873297333717 \n",
      "                | Train Dice Accuracy: 0.9680125007132219 \n",
      "            \n"
     ]
    },
    {
     "data": {
      "application/vnd.jupyter.widget-view+json": {
       "model_id": "57aa9bf1457745c4ac6a123487d6347e",
       "version_major": 2,
       "version_minor": 0
      },
      "text/plain": [
       "  0%|          | 0/16 [00:00<?, ?it/s]"
      ]
     },
     "metadata": {},
     "output_type": "display_data"
    },
    {
     "name": "stdout",
     "output_type": "stream",
     "text": [
      "\n",
      "                    Epoch: 914 / 1000 \n",
      "                    | Train Loss: 0.18552895449101925 \n",
      "                    | Train Dice Accuracy: 0.9673710960737416 \n",
      "                    | Test Dice Accuracy: 0.9498413933648003\n",
      "                \n"
     ]
    },
    {
     "data": {
      "application/vnd.jupyter.widget-view+json": {
       "model_id": "18f078abc33743a9bb27ba4c4b94ab01",
       "version_major": 2,
       "version_minor": 0
      },
      "text/plain": [
       "  0%|          | 0/16 [00:00<?, ?it/s]"
      ]
     },
     "metadata": {},
     "output_type": "display_data"
    },
    {
     "name": "stdout",
     "output_type": "stream",
     "text": [
      "\n",
      "                Epoch: 915 / 1000 \n",
      "                | Train Loss: 0.13873201655223966 \n",
      "                | Train Dice Accuracy: 0.958857175537143 \n",
      "            \n"
     ]
    },
    {
     "data": {
      "application/vnd.jupyter.widget-view+json": {
       "model_id": "6a237364096f4155a10b64348293c58d",
       "version_major": 2,
       "version_minor": 0
      },
      "text/plain": [
       "  0%|          | 0/16 [00:00<?, ?it/s]"
      ]
     },
     "metadata": {},
     "output_type": "display_data"
    },
    {
     "name": "stdout",
     "output_type": "stream",
     "text": [
      "\n",
      "                    Epoch: 916 / 1000 \n",
      "                    | Train Loss: 0.19416983565315604 \n",
      "                    | Train Dice Accuracy: 0.9745605250199636 \n",
      "                    | Test Dice Accuracy: 0.9459508657455444\n",
      "                \n"
     ]
    },
    {
     "data": {
      "application/vnd.jupyter.widget-view+json": {
       "model_id": "d5199676053f4a68be35fe234bb55f13",
       "version_major": 2,
       "version_minor": 0
      },
      "text/plain": [
       "  0%|          | 0/16 [00:00<?, ?it/s]"
      ]
     },
     "metadata": {},
     "output_type": "display_data"
    },
    {
     "name": "stdout",
     "output_type": "stream",
     "text": [
      "\n",
      "                Epoch: 917 / 1000 \n",
      "                | Train Loss: 0.15928584709763527 \n",
      "                | Train Dice Accuracy: 0.9745617734787126 \n",
      "            \n"
     ]
    },
    {
     "data": {
      "application/vnd.jupyter.widget-view+json": {
       "model_id": "dfa54f71874d42fe87c7103fb80b85fd",
       "version_major": 2,
       "version_minor": 0
      },
      "text/plain": [
       "  0%|          | 0/16 [00:00<?, ?it/s]"
      ]
     },
     "metadata": {},
     "output_type": "display_data"
    },
    {
     "name": "stdout",
     "output_type": "stream",
     "text": [
      "\n",
      "                    Epoch: 918 / 1000 \n",
      "                    | Train Loss: 0.16573520633392036 \n",
      "                    | Train Dice Accuracy: 0.9737848145071812 \n",
      "                    | Test Dice Accuracy: 0.947217755847507\n",
      "                \n"
     ]
    },
    {
     "data": {
      "application/vnd.jupyter.widget-view+json": {
       "model_id": "4477ff9d18ad4951b51d24e2ce3b21ad",
       "version_major": 2,
       "version_minor": 0
      },
      "text/plain": [
       "  0%|          | 0/16 [00:00<?, ?it/s]"
      ]
     },
     "metadata": {},
     "output_type": "display_data"
    },
    {
     "name": "stdout",
     "output_type": "stream",
     "text": [
      "\n",
      "                Epoch: 919 / 1000 \n",
      "                | Train Loss: 0.1873776325955987 \n",
      "                | Train Dice Accuracy: 0.9688145568910634 \n",
      "            \n"
     ]
    },
    {
     "data": {
      "application/vnd.jupyter.widget-view+json": {
       "model_id": "49c085823b8a468bb57557faccaa23fe",
       "version_major": 2,
       "version_minor": 0
      },
      "text/plain": [
       "  0%|          | 0/16 [00:00<?, ?it/s]"
      ]
     },
     "metadata": {},
     "output_type": "display_data"
    },
    {
     "name": "stdout",
     "output_type": "stream",
     "text": [
      "\n",
      "                    Epoch: 920 / 1000 \n",
      "                    | Train Loss: 0.2006485229358077 \n",
      "                    | Train Dice Accuracy: 0.9635862838654291 \n",
      "                    | Test Dice Accuracy: 0.9440310398737589\n",
      "                \n"
     ]
    },
    {
     "data": {
      "application/vnd.jupyter.widget-view+json": {
       "model_id": "ec1cdbb7601746da84c57fd05ce907e8",
       "version_major": 2,
       "version_minor": 0
      },
      "text/plain": [
       "  0%|          | 0/16 [00:00<?, ?it/s]"
      ]
     },
     "metadata": {},
     "output_type": "display_data"
    },
    {
     "name": "stdout",
     "output_type": "stream",
     "text": [
      "\n",
      "                Epoch: 921 / 1000 \n",
      "                | Train Loss: 0.1515861195512116 \n",
      "                | Train Dice Accuracy: 0.9725968764917883 \n",
      "            \n"
     ]
    },
    {
     "data": {
      "application/vnd.jupyter.widget-view+json": {
       "model_id": "5796039080634e7887603c2e72a80c2e",
       "version_major": 2,
       "version_minor": 0
      },
      "text/plain": [
       "  0%|          | 0/16 [00:00<?, ?it/s]"
      ]
     },
     "metadata": {},
     "output_type": "display_data"
    },
    {
     "name": "stdout",
     "output_type": "stream",
     "text": [
      "\n",
      "                    Epoch: 922 / 1000 \n",
      "                    | Train Loss: 0.19885670999065042 \n",
      "                    | Train Dice Accuracy: 0.9687653355050886 \n",
      "                    | Test Dice Accuracy: 0.9498434596591525\n",
      "                \n"
     ]
    },
    {
     "data": {
      "application/vnd.jupyter.widget-view+json": {
       "model_id": "ccdc6bf3e01a41b7b58fb5f9b186c0b0",
       "version_major": 2,
       "version_minor": 0
      },
      "text/plain": [
       "  0%|          | 0/16 [00:00<?, ?it/s]"
      ]
     },
     "metadata": {},
     "output_type": "display_data"
    },
    {
     "name": "stdout",
     "output_type": "stream",
     "text": [
      "\n",
      "                Epoch: 923 / 1000 \n",
      "                | Train Loss: 0.15160838747397065 \n",
      "                | Train Dice Accuracy: 0.9720331098698922 \n",
      "            \n"
     ]
    },
    {
     "data": {
      "application/vnd.jupyter.widget-view+json": {
       "model_id": "25d126a9898646279cfa3d743c736867",
       "version_major": 2,
       "version_minor": 0
      },
      "text/plain": [
       "  0%|          | 0/16 [00:00<?, ?it/s]"
      ]
     },
     "metadata": {},
     "output_type": "display_data"
    },
    {
     "name": "stdout",
     "output_type": "stream",
     "text": [
      "\n",
      "                    Epoch: 924 / 1000 \n",
      "                    | Train Loss: 0.22290925029665232 \n",
      "                    | Train Dice Accuracy: 0.9727614554438261 \n",
      "                    | Test Dice Accuracy: 0.949466758304172\n",
      "                \n"
     ]
    },
    {
     "data": {
      "application/vnd.jupyter.widget-view+json": {
       "model_id": "2505f456cece47b09f7f7fe462e9620f",
       "version_major": 2,
       "version_minor": 0
      },
      "text/plain": [
       "  0%|          | 0/16 [00:00<?, ?it/s]"
      ]
     },
     "metadata": {},
     "output_type": "display_data"
    },
    {
     "name": "stdout",
     "output_type": "stream",
     "text": [
      "\n",
      "                Epoch: 925 / 1000 \n",
      "                | Train Loss: 0.19714982947334647 \n",
      "                | Train Dice Accuracy: 0.9733900359372774 \n",
      "            \n"
     ]
    },
    {
     "data": {
      "application/vnd.jupyter.widget-view+json": {
       "model_id": "b3c3402229c84811a5e5d82933a02446",
       "version_major": 2,
       "version_minor": 0
      },
      "text/plain": [
       "  0%|          | 0/16 [00:00<?, ?it/s]"
      ]
     },
     "metadata": {},
     "output_type": "display_data"
    },
    {
     "name": "stdout",
     "output_type": "stream",
     "text": [
      "\n",
      "                    Epoch: 926 / 1000 \n",
      "                    | Train Loss: 0.15999428275972605 \n",
      "                    | Train Dice Accuracy: 0.9708929829401513 \n",
      "                    | Test Dice Accuracy: 0.9522083732816908\n",
      "                \n"
     ]
    },
    {
     "data": {
      "application/vnd.jupyter.widget-view+json": {
       "model_id": "e4b641904c3444e19b70b3f228c87d4c",
       "version_major": 2,
       "version_minor": 0
      },
      "text/plain": [
       "  0%|          | 0/16 [00:00<?, ?it/s]"
      ]
     },
     "metadata": {},
     "output_type": "display_data"
    },
    {
     "name": "stdout",
     "output_type": "stream",
     "text": [
      "\n",
      "                Epoch: 927 / 1000 \n",
      "                | Train Loss: 0.17776704719290137 \n",
      "                | Train Dice Accuracy: 0.9675593146058016 \n",
      "            \n"
     ]
    },
    {
     "data": {
      "application/vnd.jupyter.widget-view+json": {
       "model_id": "551c46f4aa88406699649067788229ef",
       "version_major": 2,
       "version_minor": 0
      },
      "text/plain": [
       "  0%|          | 0/16 [00:00<?, ?it/s]"
      ]
     },
     "metadata": {},
     "output_type": "display_data"
    },
    {
     "name": "stdout",
     "output_type": "stream",
     "text": [
      "\n",
      "                    Epoch: 928 / 1000 \n",
      "                    | Train Loss: 0.16622543381527066 \n",
      "                    | Train Dice Accuracy: 0.9672618007988011 \n",
      "                    | Test Dice Accuracy: 0.9516394138336182\n",
      "                \n"
     ]
    },
    {
     "data": {
      "application/vnd.jupyter.widget-view+json": {
       "model_id": "59f55a6e4507443aa2977f23f0119600",
       "version_major": 2,
       "version_minor": 0
      },
      "text/plain": [
       "  0%|          | 0/16 [00:00<?, ?it/s]"
      ]
     },
     "metadata": {},
     "output_type": "display_data"
    },
    {
     "name": "stdout",
     "output_type": "stream",
     "text": [
      "\n",
      "                Epoch: 929 / 1000 \n",
      "                | Train Loss: 0.16962923482060432 \n",
      "                | Train Dice Accuracy: 0.9741052449853332 \n",
      "            \n"
     ]
    },
    {
     "data": {
      "application/vnd.jupyter.widget-view+json": {
       "model_id": "0812020ef13c42bc9224584b4c9f8224",
       "version_major": 2,
       "version_minor": 0
      },
      "text/plain": [
       "  0%|          | 0/16 [00:00<?, ?it/s]"
      ]
     },
     "metadata": {},
     "output_type": "display_data"
    },
    {
     "name": "stdout",
     "output_type": "stream",
     "text": [
      "\n",
      "                    Epoch: 930 / 1000 \n",
      "                    | Train Loss: 0.20275290356948972 \n",
      "                    | Train Dice Accuracy: 0.9661012303315851 \n",
      "                    | Test Dice Accuracy: 0.9537018405066596\n",
      "                \n"
     ]
    },
    {
     "data": {
      "application/vnd.jupyter.widget-view+json": {
       "model_id": "1bdfed34b7954675b09dbc554c672dd3",
       "version_major": 2,
       "version_minor": 0
      },
      "text/plain": [
       "  0%|          | 0/16 [00:00<?, ?it/s]"
      ]
     },
     "metadata": {},
     "output_type": "display_data"
    },
    {
     "name": "stdout",
     "output_type": "stream",
     "text": [
      "\n",
      "                Epoch: 931 / 1000 \n",
      "                | Train Loss: 0.1640979170333594 \n",
      "                | Train Dice Accuracy: 0.9648130258468732 \n",
      "            \n"
     ]
    },
    {
     "data": {
      "application/vnd.jupyter.widget-view+json": {
       "model_id": "8ade3688f55c44d68e1425e98da34b62",
       "version_major": 2,
       "version_minor": 0
      },
      "text/plain": [
       "  0%|          | 0/16 [00:00<?, ?it/s]"
      ]
     },
     "metadata": {},
     "output_type": "display_data"
    },
    {
     "name": "stdout",
     "output_type": "stream",
     "text": [
      "\n",
      "                    Epoch: 932 / 1000 \n",
      "                    | Train Loss: 0.15696155512705445 \n",
      "                    | Train Dice Accuracy: 0.9687425973740491 \n",
      "                    | Test Dice Accuracy: 0.9539741675059\n",
      "                \n"
     ]
    },
    {
     "data": {
      "application/vnd.jupyter.widget-view+json": {
       "model_id": "3ad639dbfa194eaa92a0a86ebe33e1f7",
       "version_major": 2,
       "version_minor": 0
      },
      "text/plain": [
       "  0%|          | 0/16 [00:00<?, ?it/s]"
      ]
     },
     "metadata": {},
     "output_type": "display_data"
    },
    {
     "name": "stdout",
     "output_type": "stream",
     "text": [
      "\n",
      "                Epoch: 933 / 1000 \n",
      "                | Train Loss: 0.1784669568296522 \n",
      "                | Train Dice Accuracy: 0.9701280000610887 \n",
      "            \n"
     ]
    },
    {
     "data": {
      "application/vnd.jupyter.widget-view+json": {
       "model_id": "9a5c111a8e694944a018d783a1029a46",
       "version_major": 2,
       "version_minor": 0
      },
      "text/plain": [
       "  0%|          | 0/16 [00:00<?, ?it/s]"
      ]
     },
     "metadata": {},
     "output_type": "display_data"
    },
    {
     "name": "stdout",
     "output_type": "stream",
     "text": [
      "\n",
      "                    Epoch: 934 / 1000 \n",
      "                    | Train Loss: 0.17330567073076963 \n",
      "                    | Train Dice Accuracy: 0.960270860228121 \n",
      "                    | Test Dice Accuracy: 0.9497863319185045\n",
      "                \n"
     ]
    },
    {
     "data": {
      "application/vnd.jupyter.widget-view+json": {
       "model_id": "1ad0df48555d43bea8edcb288c24441f",
       "version_major": 2,
       "version_minor": 0
      },
      "text/plain": [
       "  0%|          | 0/16 [00:00<?, ?it/s]"
      ]
     },
     "metadata": {},
     "output_type": "display_data"
    },
    {
     "name": "stdout",
     "output_type": "stream",
     "text": [
      "\n",
      "                Epoch: 935 / 1000 \n",
      "                | Train Loss: 0.16668790066614747 \n",
      "                | Train Dice Accuracy: 0.968794263727654 \n",
      "            \n"
     ]
    },
    {
     "data": {
      "application/vnd.jupyter.widget-view+json": {
       "model_id": "1da94bf8c0b14bb090095d1b4a719bff",
       "version_major": 2,
       "version_minor": 0
      },
      "text/plain": [
       "  0%|          | 0/16 [00:00<?, ?it/s]"
      ]
     },
     "metadata": {},
     "output_type": "display_data"
    },
    {
     "name": "stdout",
     "output_type": "stream",
     "text": [
      "\n",
      "                    Epoch: 936 / 1000 \n",
      "                    | Train Loss: 0.20848775864578784 \n",
      "                    | Train Dice Accuracy: 0.9652890585936033 \n",
      "                    | Test Dice Accuracy: 0.9486916727489896\n",
      "                \n"
     ]
    },
    {
     "data": {
      "application/vnd.jupyter.widget-view+json": {
       "model_id": "eb94f468133f4a65bac52f49b1330e5e",
       "version_major": 2,
       "version_minor": 0
      },
      "text/plain": [
       "  0%|          | 0/16 [00:00<?, ?it/s]"
      ]
     },
     "metadata": {},
     "output_type": "display_data"
    },
    {
     "name": "stdout",
     "output_type": "stream",
     "text": [
      "\n",
      "                Epoch: 937 / 1000 \n",
      "                | Train Loss: 0.16706444090232253 \n",
      "                | Train Dice Accuracy: 0.9661089589289569 \n",
      "            \n"
     ]
    },
    {
     "data": {
      "application/vnd.jupyter.widget-view+json": {
       "model_id": "06131739b06a47f6a85afe16edc1c7f0",
       "version_major": 2,
       "version_minor": 0
      },
      "text/plain": [
       "  0%|          | 0/16 [00:00<?, ?it/s]"
      ]
     },
     "metadata": {},
     "output_type": "display_data"
    },
    {
     "name": "stdout",
     "output_type": "stream",
     "text": [
      "\n",
      "                    Epoch: 938 / 1000 \n",
      "                    | Train Loss: 0.16592242498882115 \n",
      "                    | Train Dice Accuracy: 0.973750744272487 \n",
      "                    | Test Dice Accuracy: 0.9514898459116617\n",
      "                \n"
     ]
    },
    {
     "data": {
      "application/vnd.jupyter.widget-view+json": {
       "model_id": "599bbb13d19e42dc896db70176149f0c",
       "version_major": 2,
       "version_minor": 0
      },
      "text/plain": [
       "  0%|          | 0/16 [00:00<?, ?it/s]"
      ]
     },
     "metadata": {},
     "output_type": "display_data"
    },
    {
     "name": "stdout",
     "output_type": "stream",
     "text": [
      "\n",
      "                Epoch: 939 / 1000 \n",
      "                | Train Loss: 0.17939116526395082 \n",
      "                | Train Dice Accuracy: 0.9681016719618509 \n",
      "            \n"
     ]
    },
    {
     "data": {
      "application/vnd.jupyter.widget-view+json": {
       "model_id": "031ae9d8019d40059878e7b9b24bd126",
       "version_major": 2,
       "version_minor": 0
      },
      "text/plain": [
       "  0%|          | 0/16 [00:00<?, ?it/s]"
      ]
     },
     "metadata": {},
     "output_type": "display_data"
    },
    {
     "name": "stdout",
     "output_type": "stream",
     "text": [
      "\n",
      "                    Epoch: 940 / 1000 \n",
      "                    | Train Loss: 0.17062724544666708 \n",
      "                    | Train Dice Accuracy: 0.9762289413186007 \n",
      "                    | Test Dice Accuracy: 0.9514670107099745\n",
      "                \n"
     ]
    },
    {
     "data": {
      "application/vnd.jupyter.widget-view+json": {
       "model_id": "518ea6a4121a44508b73034f434c8171",
       "version_major": 2,
       "version_minor": 0
      },
      "text/plain": [
       "  0%|          | 0/16 [00:00<?, ?it/s]"
      ]
     },
     "metadata": {},
     "output_type": "display_data"
    },
    {
     "name": "stdout",
     "output_type": "stream",
     "text": [
      "\n",
      "                Epoch: 941 / 1000 \n",
      "                | Train Loss: 0.1531903138384223 \n",
      "                | Train Dice Accuracy: 0.9665361202514924 \n",
      "            \n"
     ]
    },
    {
     "data": {
      "application/vnd.jupyter.widget-view+json": {
       "model_id": "42b423168e224055af7af840136070e8",
       "version_major": 2,
       "version_minor": 0
      },
      "text/plain": [
       "  0%|          | 0/16 [00:00<?, ?it/s]"
      ]
     },
     "metadata": {},
     "output_type": "display_data"
    },
    {
     "name": "stdout",
     "output_type": "stream",
     "text": [
      "\n",
      "                    Epoch: 942 / 1000 \n",
      "                    | Train Loss: 0.18916050856932998 \n",
      "                    | Train Dice Accuracy: 0.9694063466674877 \n",
      "                    | Test Dice Accuracy: 0.9423266384336684\n",
      "                \n"
     ]
    },
    {
     "data": {
      "application/vnd.jupyter.widget-view+json": {
       "model_id": "020b6e1e593d426db50d08b264daeeea",
       "version_major": 2,
       "version_minor": 0
      },
      "text/plain": [
       "  0%|          | 0/16 [00:00<?, ?it/s]"
      ]
     },
     "metadata": {},
     "output_type": "display_data"
    },
    {
     "name": "stdout",
     "output_type": "stream",
     "text": [
      "\n",
      "                Epoch: 943 / 1000 \n",
      "                | Train Loss: 0.18915381282567978 \n",
      "                | Train Dice Accuracy: 0.9677261864801623 \n",
      "            \n"
     ]
    },
    {
     "data": {
      "application/vnd.jupyter.widget-view+json": {
       "model_id": "c522267e7b174dd6b9ab43f9616a621e",
       "version_major": 2,
       "version_minor": 0
      },
      "text/plain": [
       "  0%|          | 0/16 [00:00<?, ?it/s]"
      ]
     },
     "metadata": {},
     "output_type": "display_data"
    },
    {
     "name": "stdout",
     "output_type": "stream",
     "text": [
      "\n",
      "                    Epoch: 944 / 1000 \n",
      "                    | Train Loss: 0.17183315753936768 \n",
      "                    | Train Dice Accuracy: 0.9637263914407124 \n",
      "                    | Test Dice Accuracy: 0.9192618396547105\n",
      "                \n"
     ]
    },
    {
     "data": {
      "application/vnd.jupyter.widget-view+json": {
       "model_id": "993ba434080f4962ad3e9deb6b5b4f9a",
       "version_major": 2,
       "version_minor": 0
      },
      "text/plain": [
       "  0%|          | 0/16 [00:00<?, ?it/s]"
      ]
     },
     "metadata": {},
     "output_type": "display_data"
    },
    {
     "name": "stdout",
     "output_type": "stream",
     "text": [
      "\n",
      "                Epoch: 945 / 1000 \n",
      "                | Train Loss: 0.13832231517881155 \n",
      "                | Train Dice Accuracy: 0.9636429817275664 \n",
      "            \n"
     ]
    },
    {
     "data": {
      "application/vnd.jupyter.widget-view+json": {
       "model_id": "0050e78f0c8245f0b63d30aa74c7d852",
       "version_major": 2,
       "version_minor": 0
      },
      "text/plain": [
       "  0%|          | 0/16 [00:00<?, ?it/s]"
      ]
     },
     "metadata": {},
     "output_type": "display_data"
    },
    {
     "name": "stdout",
     "output_type": "stream",
     "text": [
      "\n",
      "                    Epoch: 946 / 1000 \n",
      "                    | Train Loss: 0.16064644721336663 \n",
      "                    | Train Dice Accuracy: 0.9630898285775163 \n",
      "                    | Test Dice Accuracy: 0.9328859912024604\n",
      "                \n"
     ]
    },
    {
     "data": {
      "application/vnd.jupyter.widget-view+json": {
       "model_id": "1651ac7f32dd4a349d954b39cf13fd57",
       "version_major": 2,
       "version_minor": 0
      },
      "text/plain": [
       "  0%|          | 0/16 [00:00<?, ?it/s]"
      ]
     },
     "metadata": {},
     "output_type": "display_data"
    },
    {
     "name": "stdout",
     "output_type": "stream",
     "text": [
      "\n",
      "                Epoch: 947 / 1000 \n",
      "                | Train Loss: 0.18291336065158248 \n",
      "                | Train Dice Accuracy: 0.9707152863063723 \n",
      "            \n"
     ]
    },
    {
     "data": {
      "application/vnd.jupyter.widget-view+json": {
       "model_id": "92d2a62e3fbe4474a9cce4b381773fc7",
       "version_major": 2,
       "version_minor": 0
      },
      "text/plain": [
       "  0%|          | 0/16 [00:00<?, ?it/s]"
      ]
     },
     "metadata": {},
     "output_type": "display_data"
    },
    {
     "name": "stdout",
     "output_type": "stream",
     "text": [
      "\n",
      "                    Epoch: 948 / 1000 \n",
      "                    | Train Loss: 0.17645665910094976 \n",
      "                    | Train Dice Accuracy: 0.9664129002226723 \n",
      "                    | Test Dice Accuracy: 0.940045866701338\n",
      "                \n"
     ]
    },
    {
     "data": {
      "application/vnd.jupyter.widget-view+json": {
       "model_id": "af2c73cea6504c7b8bca15f8b471e9fa",
       "version_major": 2,
       "version_minor": 0
      },
      "text/plain": [
       "  0%|          | 0/16 [00:00<?, ?it/s]"
      ]
     },
     "metadata": {},
     "output_type": "display_data"
    },
    {
     "name": "stdout",
     "output_type": "stream",
     "text": [
      "\n",
      "                Epoch: 949 / 1000 \n",
      "                | Train Loss: 0.16010651900433004 \n",
      "                | Train Dice Accuracy: 0.9673507817766883 \n",
      "            \n"
     ]
    },
    {
     "data": {
      "application/vnd.jupyter.widget-view+json": {
       "model_id": "4bc52d7f432e4a3ca9d962f9540e9930",
       "version_major": 2,
       "version_minor": 0
      },
      "text/plain": [
       "  0%|          | 0/16 [00:00<?, ?it/s]"
      ]
     },
     "metadata": {},
     "output_type": "display_data"
    },
    {
     "name": "stdout",
     "output_type": "stream",
     "text": [
      "\n",
      "                    Epoch: 950 / 1000 \n",
      "                    | Train Loss: 0.1593239945359528 \n",
      "                    | Train Dice Accuracy: 0.9659187365661968 \n",
      "                    | Test Dice Accuracy: 0.9341334303220113\n",
      "                \n"
     ]
    },
    {
     "data": {
      "application/vnd.jupyter.widget-view+json": {
       "model_id": "441828c4ca25476489821ace0fa60ad9",
       "version_major": 2,
       "version_minor": 0
      },
      "text/plain": [
       "  0%|          | 0/16 [00:00<?, ?it/s]"
      ]
     },
     "metadata": {},
     "output_type": "display_data"
    },
    {
     "name": "stdout",
     "output_type": "stream",
     "text": [
      "\n",
      "                Epoch: 951 / 1000 \n",
      "                | Train Loss: 0.16293473076075315 \n",
      "                | Train Dice Accuracy: 0.9659719834588978 \n",
      "            \n"
     ]
    },
    {
     "data": {
      "application/vnd.jupyter.widget-view+json": {
       "model_id": "f90f6efa2ff549d6b48c05754fd8fbf6",
       "version_major": 2,
       "version_minor": 0
      },
      "text/plain": [
       "  0%|          | 0/16 [00:00<?, ?it/s]"
      ]
     },
     "metadata": {},
     "output_type": "display_data"
    },
    {
     "name": "stdout",
     "output_type": "stream",
     "text": [
      "\n",
      "                    Epoch: 952 / 1000 \n",
      "                    | Train Loss: 0.16480867192149162 \n",
      "                    | Train Dice Accuracy: 0.9609422905878587 \n",
      "                    | Test Dice Accuracy: 0.9426613317595588\n",
      "                \n"
     ]
    },
    {
     "data": {
      "application/vnd.jupyter.widget-view+json": {
       "model_id": "4e6e14cef5594eda80ee3221a033598c",
       "version_major": 2,
       "version_minor": 0
      },
      "text/plain": [
       "  0%|          | 0/16 [00:00<?, ?it/s]"
      ]
     },
     "metadata": {},
     "output_type": "display_data"
    },
    {
     "name": "stdout",
     "output_type": "stream",
     "text": [
      "\n",
      "                Epoch: 953 / 1000 \n",
      "                | Train Loss: 0.15800676564686 \n",
      "                | Train Dice Accuracy: 0.9608402649561564 \n",
      "            \n"
     ]
    },
    {
     "data": {
      "application/vnd.jupyter.widget-view+json": {
       "model_id": "61f58be49e7245b6ab7b9cbca356f08c",
       "version_major": 2,
       "version_minor": 0
      },
      "text/plain": [
       "  0%|          | 0/16 [00:00<?, ?it/s]"
      ]
     },
     "metadata": {},
     "output_type": "display_data"
    },
    {
     "name": "stdout",
     "output_type": "stream",
     "text": [
      "\n",
      "                    Epoch: 954 / 1000 \n",
      "                    | Train Loss: 0.18370888102799654 \n",
      "                    | Train Dice Accuracy: 0.9656379001085148 \n",
      "                    | Test Dice Accuracy: 0.9314456846978929\n",
      "                \n"
     ]
    },
    {
     "data": {
      "application/vnd.jupyter.widget-view+json": {
       "model_id": "405befcf0f32483389adbe5b66cc5d1b",
       "version_major": 2,
       "version_minor": 0
      },
      "text/plain": [
       "  0%|          | 0/16 [00:00<?, ?it/s]"
      ]
     },
     "metadata": {},
     "output_type": "display_data"
    },
    {
     "name": "stdout",
     "output_type": "stream",
     "text": [
      "\n",
      "                Epoch: 955 / 1000 \n",
      "                | Train Loss: 0.16966316802427173 \n",
      "                | Train Dice Accuracy: 0.9627457515362206 \n",
      "            \n"
     ]
    },
    {
     "data": {
      "application/vnd.jupyter.widget-view+json": {
       "model_id": "d19dffe0f39744858d93a5a8ce59b83c",
       "version_major": 2,
       "version_minor": 0
      },
      "text/plain": [
       "  0%|          | 0/16 [00:00<?, ?it/s]"
      ]
     },
     "metadata": {},
     "output_type": "display_data"
    },
    {
     "name": "stdout",
     "output_type": "stream",
     "text": [
      "\n",
      "                    Epoch: 956 / 1000 \n",
      "                    | Train Loss: 0.17977841570973396 \n",
      "                    | Train Dice Accuracy: 0.959823495010997 \n",
      "                    | Test Dice Accuracy: 0.941020687421163\n",
      "                \n"
     ]
    },
    {
     "data": {
      "application/vnd.jupyter.widget-view+json": {
       "model_id": "0f03207eb15e4eb495a4a8bf67cc2c2e",
       "version_major": 2,
       "version_minor": 0
      },
      "text/plain": [
       "  0%|          | 0/16 [00:00<?, ?it/s]"
      ]
     },
     "metadata": {},
     "output_type": "display_data"
    },
    {
     "name": "stdout",
     "output_type": "stream",
     "text": [
      "\n",
      "                Epoch: 957 / 1000 \n",
      "                | Train Loss: 0.22175479354336858 \n",
      "                | Train Dice Accuracy: 0.9708047400554413 \n",
      "            \n"
     ]
    },
    {
     "data": {
      "application/vnd.jupyter.widget-view+json": {
       "model_id": "dc3c724530f24718a3190182aa35d580",
       "version_major": 2,
       "version_minor": 0
      },
      "text/plain": [
       "  0%|          | 0/16 [00:00<?, ?it/s]"
      ]
     },
     "metadata": {},
     "output_type": "display_data"
    },
    {
     "name": "stdout",
     "output_type": "stream",
     "text": [
      "\n",
      "                    Epoch: 958 / 1000 \n",
      "                    | Train Loss: 0.21990601206198335 \n",
      "                    | Train Dice Accuracy: 0.9701976212374682 \n",
      "                    | Test Dice Accuracy: 0.8927409251530966\n",
      "                \n"
     ]
    },
    {
     "data": {
      "application/vnd.jupyter.widget-view+json": {
       "model_id": "96f65a7b33124fa784ec994b33d83f0e",
       "version_major": 2,
       "version_minor": 0
      },
      "text/plain": [
       "  0%|          | 0/16 [00:00<?, ?it/s]"
      ]
     },
     "metadata": {},
     "output_type": "display_data"
    },
    {
     "name": "stdout",
     "output_type": "stream",
     "text": [
      "\n",
      "                Epoch: 959 / 1000 \n",
      "                | Train Loss: 0.19824341544881463 \n",
      "                | Train Dice Accuracy: 0.9628850648188478 \n",
      "            \n"
     ]
    },
    {
     "data": {
      "application/vnd.jupyter.widget-view+json": {
       "model_id": "ea5c0aacfd094b8cb2fb460b073cd254",
       "version_major": 2,
       "version_minor": 0
      },
      "text/plain": [
       "  0%|          | 0/16 [00:00<?, ?it/s]"
      ]
     },
     "metadata": {},
     "output_type": "display_data"
    },
    {
     "name": "stdout",
     "output_type": "stream",
     "text": [
      "\n",
      "                    Epoch: 960 / 1000 \n",
      "                    | Train Loss: 0.16846906766295433 \n",
      "                    | Train Dice Accuracy: 0.9580432089496421 \n",
      "                    | Test Dice Accuracy: 0.9427937202983432\n",
      "                \n"
     ]
    },
    {
     "data": {
      "application/vnd.jupyter.widget-view+json": {
       "model_id": "8e7166fa0f9a42489c3f25e79a1b3203",
       "version_major": 2,
       "version_minor": 0
      },
      "text/plain": [
       "  0%|          | 0/16 [00:00<?, ?it/s]"
      ]
     },
     "metadata": {},
     "output_type": "display_data"
    },
    {
     "name": "stdout",
     "output_type": "stream",
     "text": [
      "\n",
      "                Epoch: 961 / 1000 \n",
      "                | Train Loss: 0.1490585939027369 \n",
      "                | Train Dice Accuracy: 0.9699918211580397 \n",
      "            \n"
     ]
    },
    {
     "data": {
      "application/vnd.jupyter.widget-view+json": {
       "model_id": "45f196080530460da31f3d7d8a20219c",
       "version_major": 2,
       "version_minor": 0
      },
      "text/plain": [
       "  0%|          | 0/16 [00:00<?, ?it/s]"
      ]
     },
     "metadata": {},
     "output_type": "display_data"
    },
    {
     "name": "stdout",
     "output_type": "stream",
     "text": [
      "\n",
      "                    Epoch: 962 / 1000 \n",
      "                    | Train Loss: 0.17256220965646207 \n",
      "                    | Train Dice Accuracy: 0.9703803278679072 \n",
      "                    | Test Dice Accuracy: 0.9518275658289591\n",
      "                \n"
     ]
    },
    {
     "data": {
      "application/vnd.jupyter.widget-view+json": {
       "model_id": "ee80482f1ce741c2ae4f970a1c691767",
       "version_major": 2,
       "version_minor": 0
      },
      "text/plain": [
       "  0%|          | 0/16 [00:00<?, ?it/s]"
      ]
     },
     "metadata": {},
     "output_type": "display_data"
    },
    {
     "name": "stdout",
     "output_type": "stream",
     "text": [
      "\n",
      "                Epoch: 963 / 1000 \n",
      "                | Train Loss: 0.1960580670274794 \n",
      "                | Train Dice Accuracy: 0.9688986846378871 \n",
      "            \n"
     ]
    },
    {
     "data": {
      "application/vnd.jupyter.widget-view+json": {
       "model_id": "3136522daa0f49e4a223b8ada1d62247",
       "version_major": 2,
       "version_minor": 0
      },
      "text/plain": [
       "  0%|          | 0/16 [00:00<?, ?it/s]"
      ]
     },
     "metadata": {},
     "output_type": "display_data"
    },
    {
     "name": "stdout",
     "output_type": "stream",
     "text": [
      "\n",
      "                    Epoch: 964 / 1000 \n",
      "                    | Train Loss: 0.15447610314004123 \n",
      "                    | Train Dice Accuracy: 0.9721719470891086 \n",
      "                    | Test Dice Accuracy: 0.9504415657785203\n",
      "                \n"
     ]
    },
    {
     "data": {
      "application/vnd.jupyter.widget-view+json": {
       "model_id": "6acb521df35744d7ace1affd7a0240f4",
       "version_major": 2,
       "version_minor": 0
      },
      "text/plain": [
       "  0%|          | 0/16 [00:00<?, ?it/s]"
      ]
     },
     "metadata": {},
     "output_type": "display_data"
    },
    {
     "name": "stdout",
     "output_type": "stream",
     "text": [
      "\n",
      "                Epoch: 965 / 1000 \n",
      "                | Train Loss: 0.1747659961692989 \n",
      "                | Train Dice Accuracy: 0.9703578885211501 \n",
      "            \n"
     ]
    },
    {
     "data": {
      "application/vnd.jupyter.widget-view+json": {
       "model_id": "7b37af5039804216852fd425e6bd8fe1",
       "version_major": 2,
       "version_minor": 0
      },
      "text/plain": [
       "  0%|          | 0/16 [00:00<?, ?it/s]"
      ]
     },
     "metadata": {},
     "output_type": "display_data"
    },
    {
     "name": "stdout",
     "output_type": "stream",
     "text": [
      "\n",
      "                    Epoch: 966 / 1000 \n",
      "                    | Train Loss: 0.1324160867370665 \n",
      "                    | Train Dice Accuracy: 0.9709169395202029 \n",
      "                    | Test Dice Accuracy: 0.9500219954384698\n",
      "                \n"
     ]
    },
    {
     "data": {
      "application/vnd.jupyter.widget-view+json": {
       "model_id": "c1e80c95205544a69555eb50c7bbf666",
       "version_major": 2,
       "version_minor": 0
      },
      "text/plain": [
       "  0%|          | 0/16 [00:00<?, ?it/s]"
      ]
     },
     "metadata": {},
     "output_type": "display_data"
    },
    {
     "name": "stdout",
     "output_type": "stream",
     "text": [
      "\n",
      "                Epoch: 967 / 1000 \n",
      "                | Train Loss: 0.18748989049345255 \n",
      "                | Train Dice Accuracy: 0.9717725630638734 \n",
      "            \n"
     ]
    },
    {
     "data": {
      "application/vnd.jupyter.widget-view+json": {
       "model_id": "a3d0a04f888d4251ab1cd5983ce247a8",
       "version_major": 2,
       "version_minor": 0
      },
      "text/plain": [
       "  0%|          | 0/16 [00:00<?, ?it/s]"
      ]
     },
     "metadata": {},
     "output_type": "display_data"
    },
    {
     "name": "stdout",
     "output_type": "stream",
     "text": [
      "\n",
      "                    Epoch: 968 / 1000 \n",
      "                    | Train Loss: 0.10634058201685548 \n",
      "                    | Train Dice Accuracy: 0.9660939845633 \n",
      "                    | Test Dice Accuracy: 0.9252347416347928\n",
      "                \n"
     ]
    },
    {
     "data": {
      "application/vnd.jupyter.widget-view+json": {
       "model_id": "845330bbd1bd4eda8c362546c3b2916d",
       "version_major": 2,
       "version_minor": 0
      },
      "text/plain": [
       "  0%|          | 0/16 [00:00<?, ?it/s]"
      ]
     },
     "metadata": {},
     "output_type": "display_data"
    },
    {
     "name": "stdout",
     "output_type": "stream",
     "text": [
      "\n",
      "                Epoch: 969 / 1000 \n",
      "                | Train Loss: 0.1947975279763341 \n",
      "                | Train Dice Accuracy: 0.9627161972330645 \n",
      "            \n"
     ]
    },
    {
     "data": {
      "application/vnd.jupyter.widget-view+json": {
       "model_id": "afe6b7c8b67d47c0a44cecd26c54d317",
       "version_major": 2,
       "version_minor": 0
      },
      "text/plain": [
       "  0%|          | 0/16 [00:00<?, ?it/s]"
      ]
     },
     "metadata": {},
     "output_type": "display_data"
    },
    {
     "name": "stdout",
     "output_type": "stream",
     "text": [
      "\n",
      "                    Epoch: 970 / 1000 \n",
      "                    | Train Loss: 0.17035708739422262 \n",
      "                    | Train Dice Accuracy: 0.9637063521943334 \n",
      "                    | Test Dice Accuracy: 0.9380691581302218\n",
      "                \n"
     ]
    },
    {
     "data": {
      "application/vnd.jupyter.widget-view+json": {
       "model_id": "6af88dcda4a44cad806594d87aa2aab3",
       "version_major": 2,
       "version_minor": 0
      },
      "text/plain": [
       "  0%|          | 0/16 [00:00<?, ?it/s]"
      ]
     },
     "metadata": {},
     "output_type": "display_data"
    },
    {
     "name": "stdout",
     "output_type": "stream",
     "text": [
      "\n",
      "                Epoch: 971 / 1000 \n",
      "                | Train Loss: 0.16334939189255238 \n",
      "                | Train Dice Accuracy: 0.9715951607314819 \n",
      "            \n"
     ]
    },
    {
     "data": {
      "application/vnd.jupyter.widget-view+json": {
       "model_id": "4e1533feac194222a646ce3b02c2be8b",
       "version_major": 2,
       "version_minor": 0
      },
      "text/plain": [
       "  0%|          | 0/16 [00:00<?, ?it/s]"
      ]
     },
     "metadata": {},
     "output_type": "display_data"
    },
    {
     "name": "stdout",
     "output_type": "stream",
     "text": [
      "\n",
      "                    Epoch: 972 / 1000 \n",
      "                    | Train Loss: 0.1495876091066748 \n",
      "                    | Train Dice Accuracy: 0.9701347909532152 \n",
      "                    | Test Dice Accuracy: 0.9449204603830973\n",
      "                \n"
     ]
    },
    {
     "data": {
      "application/vnd.jupyter.widget-view+json": {
       "model_id": "49042874e3814ee8b7b0d97861cfcb10",
       "version_major": 2,
       "version_minor": 0
      },
      "text/plain": [
       "  0%|          | 0/16 [00:00<?, ?it/s]"
      ]
     },
     "metadata": {},
     "output_type": "display_data"
    },
    {
     "name": "stdout",
     "output_type": "stream",
     "text": [
      "\n",
      "                Epoch: 973 / 1000 \n",
      "                | Train Loss: 0.18318444164469838 \n",
      "                | Train Dice Accuracy: 0.9688567233757234 \n",
      "            \n"
     ]
    },
    {
     "data": {
      "application/vnd.jupyter.widget-view+json": {
       "model_id": "8ea67975d2074057bee66491b5a8b413",
       "version_major": 2,
       "version_minor": 0
      },
      "text/plain": [
       "  0%|          | 0/16 [00:00<?, ?it/s]"
      ]
     },
     "metadata": {},
     "output_type": "display_data"
    },
    {
     "name": "stdout",
     "output_type": "stream",
     "text": [
      "\n",
      "                    Epoch: 974 / 1000 \n",
      "                    | Train Loss: 0.17203980847261846 \n",
      "                    | Train Dice Accuracy: 0.9685022160410881 \n",
      "                    | Test Dice Accuracy: 0.9433477256033156\n",
      "                \n"
     ]
    },
    {
     "data": {
      "application/vnd.jupyter.widget-view+json": {
       "model_id": "0e1d45ec6dab4712a57dd852fb5c6dcf",
       "version_major": 2,
       "version_minor": 0
      },
      "text/plain": [
       "  0%|          | 0/16 [00:00<?, ?it/s]"
      ]
     },
     "metadata": {},
     "output_type": "display_data"
    },
    {
     "name": "stdout",
     "output_type": "stream",
     "text": [
      "\n",
      "                Epoch: 975 / 1000 \n",
      "                | Train Loss: 0.1712429439648986 \n",
      "                | Train Dice Accuracy: 0.9715991740425428 \n",
      "            \n"
     ]
    },
    {
     "data": {
      "application/vnd.jupyter.widget-view+json": {
       "model_id": "85b50c900c9a479da9dfa745832228e5",
       "version_major": 2,
       "version_minor": 0
      },
      "text/plain": [
       "  0%|          | 0/16 [00:00<?, ?it/s]"
      ]
     },
     "metadata": {},
     "output_type": "display_data"
    },
    {
     "name": "stdout",
     "output_type": "stream",
     "text": [
      "\n",
      "                    Epoch: 976 / 1000 \n",
      "                    | Train Loss: 0.13295498630031943 \n",
      "                    | Train Dice Accuracy: 0.9676871914170387 \n",
      "                    | Test Dice Accuracy: 0.894728938738505\n",
      "                \n"
     ]
    },
    {
     "data": {
      "application/vnd.jupyter.widget-view+json": {
       "model_id": "1cffc128ddae4d0883bc66fe9c973f6d",
       "version_major": 2,
       "version_minor": 0
      },
      "text/plain": [
       "  0%|          | 0/16 [00:00<?, ?it/s]"
      ]
     },
     "metadata": {},
     "output_type": "display_data"
    },
    {
     "name": "stdout",
     "output_type": "stream",
     "text": [
      "\n",
      "                Epoch: 977 / 1000 \n",
      "                | Train Loss: 0.2092051252257079 \n",
      "                | Train Dice Accuracy: 0.9680741400534404 \n",
      "            \n"
     ]
    },
    {
     "data": {
      "application/vnd.jupyter.widget-view+json": {
       "model_id": "78be96d87651450ca6a5e8558c8e9f47",
       "version_major": 2,
       "version_minor": 0
      },
      "text/plain": [
       "  0%|          | 0/16 [00:00<?, ?it/s]"
      ]
     },
     "metadata": {},
     "output_type": "display_data"
    },
    {
     "name": "stdout",
     "output_type": "stream",
     "text": [
      "\n",
      "                    Epoch: 978 / 1000 \n",
      "                    | Train Loss: 0.1724447833839804 \n",
      "                    | Train Dice Accuracy: 0.9648657592210902 \n",
      "                    | Test Dice Accuracy: 0.883667055103514\n",
      "                \n"
     ]
    },
    {
     "data": {
      "application/vnd.jupyter.widget-view+json": {
       "model_id": "a936c61e701f41e7befb1283500ea4e9",
       "version_major": 2,
       "version_minor": 0
      },
      "text/plain": [
       "  0%|          | 0/16 [00:00<?, ?it/s]"
      ]
     },
     "metadata": {},
     "output_type": "display_data"
    },
    {
     "name": "stdout",
     "output_type": "stream",
     "text": [
      "\n",
      "                Epoch: 979 / 1000 \n",
      "                | Train Loss: 0.1856302977539599 \n",
      "                | Train Dice Accuracy: 0.9739444272698097 \n",
      "            \n"
     ]
    },
    {
     "data": {
      "application/vnd.jupyter.widget-view+json": {
       "model_id": "cae1eb3e24804acfb0ad9af4c6f284ab",
       "version_major": 2,
       "version_minor": 0
      },
      "text/plain": [
       "  0%|          | 0/16 [00:00<?, ?it/s]"
      ]
     },
     "metadata": {},
     "output_type": "display_data"
    },
    {
     "name": "stdout",
     "output_type": "stream",
     "text": [
      "\n",
      "                    Epoch: 980 / 1000 \n",
      "                    | Train Loss: 0.16536218347027898 \n",
      "                    | Train Dice Accuracy: 0.9683132754006517 \n",
      "                    | Test Dice Accuracy: 0.9226714836226569\n",
      "                \n"
     ]
    },
    {
     "data": {
      "application/vnd.jupyter.widget-view+json": {
       "model_id": "64140296d568445aa5180cfaafd83239",
       "version_major": 2,
       "version_minor": 0
      },
      "text/plain": [
       "  0%|          | 0/16 [00:00<?, ?it/s]"
      ]
     },
     "metadata": {},
     "output_type": "display_data"
    },
    {
     "name": "stdout",
     "output_type": "stream",
     "text": [
      "\n",
      "                Epoch: 981 / 1000 \n",
      "                | Train Loss: 0.16841727448627353 \n",
      "                | Train Dice Accuracy: 0.9702834434772966 \n",
      "            \n"
     ]
    },
    {
     "data": {
      "application/vnd.jupyter.widget-view+json": {
       "model_id": "ea66bb4c6c2f4e64bc801d3b943231b8",
       "version_major": 2,
       "version_minor": 0
      },
      "text/plain": [
       "  0%|          | 0/16 [00:00<?, ?it/s]"
      ]
     },
     "metadata": {},
     "output_type": "display_data"
    },
    {
     "name": "stdout",
     "output_type": "stream",
     "text": [
      "\n",
      "                    Epoch: 982 / 1000 \n",
      "                    | Train Loss: 0.16216184990480542 \n",
      "                    | Train Dice Accuracy: 0.9604511783881621 \n",
      "                    | Test Dice Accuracy: 0.9463768336508009\n",
      "                \n"
     ]
    },
    {
     "data": {
      "application/vnd.jupyter.widget-view+json": {
       "model_id": "3523e5344a314f69882e749d3787bf8a",
       "version_major": 2,
       "version_minor": 0
      },
      "text/plain": [
       "  0%|          | 0/16 [00:00<?, ?it/s]"
      ]
     },
     "metadata": {},
     "output_type": "display_data"
    },
    {
     "name": "stdout",
     "output_type": "stream",
     "text": [
      "\n",
      "                Epoch: 983 / 1000 \n",
      "                | Train Loss: 0.15870589087717235 \n",
      "                | Train Dice Accuracy: 0.9715409670790581 \n",
      "            \n"
     ]
    },
    {
     "data": {
      "application/vnd.jupyter.widget-view+json": {
       "model_id": "bc2e4165d0b9413b8ee8f76c9a8c819d",
       "version_major": 2,
       "version_minor": 0
      },
      "text/plain": [
       "  0%|          | 0/16 [00:00<?, ?it/s]"
      ]
     },
     "metadata": {},
     "output_type": "display_data"
    },
    {
     "name": "stdout",
     "output_type": "stream",
     "text": [
      "\n",
      "                    Epoch: 984 / 1000 \n",
      "                    | Train Loss: 0.1828065156005323 \n",
      "                    | Train Dice Accuracy: 0.9589793488036754 \n",
      "                    | Test Dice Accuracy: 0.9421718517939249\n",
      "                \n"
     ]
    },
    {
     "data": {
      "application/vnd.jupyter.widget-view+json": {
       "model_id": "305a1fd6be3340a782a5ca52ff3d85c0",
       "version_major": 2,
       "version_minor": 0
      },
      "text/plain": [
       "  0%|          | 0/16 [00:00<?, ?it/s]"
      ]
     },
     "metadata": {},
     "output_type": "display_data"
    },
    {
     "name": "stdout",
     "output_type": "stream",
     "text": [
      "\n",
      "                Epoch: 985 / 1000 \n",
      "                | Train Loss: 0.19281899882480502 \n",
      "                | Train Dice Accuracy: 0.9747832369236719 \n",
      "            \n"
     ]
    },
    {
     "data": {
      "application/vnd.jupyter.widget-view+json": {
       "model_id": "daa5e85eea464fd98040e10516aa3225",
       "version_major": 2,
       "version_minor": 0
      },
      "text/plain": [
       "  0%|          | 0/16 [00:00<?, ?it/s]"
      ]
     },
     "metadata": {},
     "output_type": "display_data"
    },
    {
     "name": "stdout",
     "output_type": "stream",
     "text": [
      "\n",
      "                    Epoch: 986 / 1000 \n",
      "                    | Train Loss: 0.17923392914235592 \n",
      "                    | Train Dice Accuracy: 0.9682362193816176 \n",
      "                    | Test Dice Accuracy: 0.9409790767563714\n",
      "                \n"
     ]
    },
    {
     "data": {
      "application/vnd.jupyter.widget-view+json": {
       "model_id": "03aaf64a038941f5b758a492199d6117",
       "version_major": 2,
       "version_minor": 0
      },
      "text/plain": [
       "  0%|          | 0/16 [00:00<?, ?it/s]"
      ]
     },
     "metadata": {},
     "output_type": "display_data"
    },
    {
     "name": "stdout",
     "output_type": "stream",
     "text": [
      "\n",
      "                Epoch: 987 / 1000 \n",
      "                | Train Loss: 0.15996834239922464 \n",
      "                | Train Dice Accuracy: 0.969373400080694 \n",
      "            \n"
     ]
    },
    {
     "data": {
      "application/vnd.jupyter.widget-view+json": {
       "model_id": "5e1c4cbd51cd4c79b55491c2cdf2aeec",
       "version_major": 2,
       "version_minor": 0
      },
      "text/plain": [
       "  0%|          | 0/16 [00:00<?, ?it/s]"
      ]
     },
     "metadata": {},
     "output_type": "display_data"
    },
    {
     "name": "stdout",
     "output_type": "stream",
     "text": [
      "\n",
      "                    Epoch: 988 / 1000 \n",
      "                    | Train Loss: 0.17589015699923038 \n",
      "                    | Train Dice Accuracy: 0.9678039880686028 \n",
      "                    | Test Dice Accuracy: 0.943439331319597\n",
      "                \n"
     ]
    },
    {
     "data": {
      "application/vnd.jupyter.widget-view+json": {
       "model_id": "cbe42472f1594cfbacf8d0d63e57296b",
       "version_major": 2,
       "version_minor": 0
      },
      "text/plain": [
       "  0%|          | 0/16 [00:00<?, ?it/s]"
      ]
     },
     "metadata": {},
     "output_type": "display_data"
    },
    {
     "name": "stdout",
     "output_type": "stream",
     "text": [
      "\n",
      "                Epoch: 989 / 1000 \n",
      "                | Train Loss: 0.1581922392360866 \n",
      "                | Train Dice Accuracy: 0.9711402478543195 \n",
      "            \n"
     ]
    },
    {
     "data": {
      "application/vnd.jupyter.widget-view+json": {
       "model_id": "cd3617036026498d81adc1d544d09112",
       "version_major": 2,
       "version_minor": 0
      },
      "text/plain": [
       "  0%|          | 0/16 [00:00<?, ?it/s]"
      ]
     },
     "metadata": {},
     "output_type": "display_data"
    },
    {
     "name": "stdout",
     "output_type": "stream",
     "text": [
      "\n",
      "                    Epoch: 990 / 1000 \n",
      "                    | Train Loss: 0.2253880042117089 \n",
      "                    | Train Dice Accuracy: 0.9710587443101524 \n",
      "                    | Test Dice Accuracy: 0.9379323522249857\n",
      "                \n"
     ]
    },
    {
     "data": {
      "application/vnd.jupyter.widget-view+json": {
       "model_id": "62f7f2f777914cba8bc781e0a9319171",
       "version_major": 2,
       "version_minor": 0
      },
      "text/plain": [
       "  0%|          | 0/16 [00:00<?, ?it/s]"
      ]
     },
     "metadata": {},
     "output_type": "display_data"
    },
    {
     "name": "stdout",
     "output_type": "stream",
     "text": [
      "\n",
      "                Epoch: 991 / 1000 \n",
      "                | Train Loss: 0.1976581164635718 \n",
      "                | Train Dice Accuracy: 0.9697719911734263 \n",
      "            \n"
     ]
    },
    {
     "data": {
      "application/vnd.jupyter.widget-view+json": {
       "model_id": "2670f86b1aa246d2ab123eaed52bb564",
       "version_major": 2,
       "version_minor": 0
      },
      "text/plain": [
       "  0%|          | 0/16 [00:00<?, ?it/s]"
      ]
     },
     "metadata": {},
     "output_type": "display_data"
    },
    {
     "name": "stdout",
     "output_type": "stream",
     "text": [
      "\n",
      "                    Epoch: 992 / 1000 \n",
      "                    | Train Loss: 0.18016907898709178 \n",
      "                    | Train Dice Accuracy: 0.9759313883915753 \n",
      "                    | Test Dice Accuracy: 0.9333004686567519\n",
      "                \n"
     ]
    },
    {
     "data": {
      "application/vnd.jupyter.widget-view+json": {
       "model_id": "a340872388384c63afce2e2af311d481",
       "version_major": 2,
       "version_minor": 0
      },
      "text/plain": [
       "  0%|          | 0/16 [00:00<?, ?it/s]"
      ]
     },
     "metadata": {},
     "output_type": "display_data"
    },
    {
     "name": "stdout",
     "output_type": "stream",
     "text": [
      "\n",
      "                Epoch: 993 / 1000 \n",
      "                | Train Loss: 0.18064712709747255 \n",
      "                | Train Dice Accuracy: 0.9701662993876734 \n",
      "            \n"
     ]
    },
    {
     "data": {
      "application/vnd.jupyter.widget-view+json": {
       "model_id": "5fdc8d8f6752467cbf86fd62a78a3ee5",
       "version_major": 2,
       "version_minor": 0
      },
      "text/plain": [
       "  0%|          | 0/16 [00:00<?, ?it/s]"
      ]
     },
     "metadata": {},
     "output_type": "display_data"
    },
    {
     "name": "stdout",
     "output_type": "stream",
     "text": [
      "\n",
      "                    Epoch: 994 / 1000 \n",
      "                    | Train Loss: 0.18575920443981886 \n",
      "                    | Train Dice Accuracy: 0.9725326246248102 \n",
      "                    | Test Dice Accuracy: 0.9419939319292704\n",
      "                \n"
     ]
    },
    {
     "data": {
      "application/vnd.jupyter.widget-view+json": {
       "model_id": "7745867249c643908aa1af1e9fbb92cf",
       "version_major": 2,
       "version_minor": 0
      },
      "text/plain": [
       "  0%|          | 0/16 [00:00<?, ?it/s]"
      ]
     },
     "metadata": {},
     "output_type": "display_data"
    },
    {
     "name": "stdout",
     "output_type": "stream",
     "text": [
      "\n",
      "                Epoch: 995 / 1000 \n",
      "                | Train Loss: 0.17312358226627111 \n",
      "                | Train Dice Accuracy: 0.9672235680951012 \n",
      "            \n"
     ]
    },
    {
     "data": {
      "application/vnd.jupyter.widget-view+json": {
       "model_id": "e821ae984dfc4f579f131d74a67a120a",
       "version_major": 2,
       "version_minor": 0
      },
      "text/plain": [
       "  0%|          | 0/16 [00:00<?, ?it/s]"
      ]
     },
     "metadata": {},
     "output_type": "display_data"
    },
    {
     "name": "stdout",
     "output_type": "stream",
     "text": [
      "\n",
      "                    Epoch: 996 / 1000 \n",
      "                    | Train Loss: 0.1779251378029585 \n",
      "                    | Train Dice Accuracy: 0.9749400042032412 \n",
      "                    | Test Dice Accuracy: 0.9455284807417128\n",
      "                \n"
     ]
    },
    {
     "data": {
      "application/vnd.jupyter.widget-view+json": {
       "model_id": "708c0e1af194415c8f2c35620137ef9c",
       "version_major": 2,
       "version_minor": 0
      },
      "text/plain": [
       "  0%|          | 0/16 [00:00<?, ?it/s]"
      ]
     },
     "metadata": {},
     "output_type": "display_data"
    },
    {
     "name": "stdout",
     "output_type": "stream",
     "text": [
      "\n",
      "                Epoch: 997 / 1000 \n",
      "                | Train Loss: 0.2164533268660307 \n",
      "                | Train Dice Accuracy: 0.9672988249034417 \n",
      "            \n"
     ]
    },
    {
     "data": {
      "application/vnd.jupyter.widget-view+json": {
       "model_id": "e22eb488026d445aaa8183ad70c448d8",
       "version_major": 2,
       "version_minor": 0
      },
      "text/plain": [
       "  0%|          | 0/16 [00:00<?, ?it/s]"
      ]
     },
     "metadata": {},
     "output_type": "display_data"
    },
    {
     "name": "stdout",
     "output_type": "stream",
     "text": [
      "\n",
      "                    Epoch: 998 / 1000 \n",
      "                    | Train Loss: 0.15557536203414202 \n",
      "                    | Train Dice Accuracy: 0.9722526872699911 \n",
      "                    | Test Dice Accuracy: 0.9415691362486945\n",
      "                \n"
     ]
    },
    {
     "data": {
      "application/vnd.jupyter.widget-view+json": {
       "model_id": "0701272e09f24bc59b51e27bd247f17c",
       "version_major": 2,
       "version_minor": 0
      },
      "text/plain": [
       "  0%|          | 0/16 [00:00<?, ?it/s]"
      ]
     },
     "metadata": {},
     "output_type": "display_data"
    },
    {
     "name": "stdout",
     "output_type": "stream",
     "text": [
      "\n",
      "                Epoch: 999 / 1000 \n",
      "                | Train Loss: 0.18071499024517834 \n",
      "                | Train Dice Accuracy: 0.9686261379103146 \n",
      "            \n"
     ]
    },
    {
     "data": {
      "application/vnd.jupyter.widget-view+json": {
       "model_id": "11c904e3bb38449da5ce9d3fd7c2a614",
       "version_major": 2,
       "version_minor": 0
      },
      "text/plain": [
       "  0%|          | 0/16 [00:00<?, ?it/s]"
      ]
     },
     "metadata": {},
     "output_type": "display_data"
    },
    {
     "name": "stdout",
     "output_type": "stream",
     "text": [
      "\n",
      "                    Epoch: 1000 / 1000 \n",
      "                    | Train Loss: 0.15756984567269683 \n",
      "                    | Train Dice Accuracy: 0.9693730243227698 \n",
      "                    | Test Dice Accuracy: 0.9434827897283766\n",
      "                \n"
     ]
    }
   ],
   "source": [
    "num_epochs = 1000\n",
    "val_iteration = 2\n",
    "losses = []\n",
    "test_losses = []\n",
    "dice_accs = []\n",
    "test_dice_accs = []\n",
    "best_metric = -1\n",
    "best_metric_epoch = -1\n",
    "\n",
    "post_pred = AsDiscrete(argmax=True, to_onehot=2)\n",
    "post_label = AsDiscrete(to_onehot=2)\n",
    "\n",
    "for epoch in range(num_epochs):\n",
    "    \n",
    "    epoch_loss = 0\n",
    "    epoch_test_loss = 0\n",
    "    step = 0\n",
    "    train_run = AverageMeter()\n",
    "    \n",
    "    model.train()\n",
    "    epoch_dice_accs = []\n",
    "\n",
    "    for idx, batch_data in enumerate(tqdm(train_loader)):\n",
    "\n",
    "        img, seg = batch_data[\"img\"].to(device), batch_data[\"seg\"].to(device)\n",
    "        dice_accuracy.reset()\n",
    "        optimizer.zero_grad()\n",
    "        output = model(img)\n",
    "        loss = loss_function(output, seg)\n",
    "        losses.append(loss.item())\n",
    "        loss.backward()\n",
    "        optimizer.step()\n",
    "\n",
    "        epoch_loss += loss.item()\n",
    "        \n",
    "        try:\n",
    "            for i in range(len(output)):\n",
    "                dice_accuracy(y_pred=post_pred(output[i]), y=post_label(seg[i]))\n",
    "            acc, not_nans = dice_accuracy.aggregate()\n",
    "            train_run.update(acc.item(), not_nans.item())\n",
    "            dice_accs.append(acc.item())\n",
    "            \n",
    "        except Exception as e:\n",
    "            print(e)\n",
    "            \n",
    "\n",
    "    test_epoch_dice_accs = []\n",
    "\n",
    "    if (epoch + 1) % val_iteration == 0:\n",
    "        model.eval()\n",
    "        val_run = AverageMeter()\n",
    "        with torch.no_grad():\n",
    "\n",
    "            for idx, batch_data in enumerate(val_loader):\n",
    "                dice_accuracy.reset()\n",
    "                img, seg = batch_data[\"img\"].to(device), batch_data[\"seg\"].to(device)\n",
    "                outputs = sliding_window_inference(img, (160, 160, 160), 4, model)\n",
    "                outputs = [post_pred(i) for i in decollate_batch(outputs)]\n",
    "                seg = [post_label(i) for i in decollate_batch(seg)]\n",
    "                dice_accuracy(y_pred=outputs, y=seg)\n",
    "                acc, not_nans = dice_accuracy.aggregate()\n",
    "                val_run.update(acc.item(), not_nans.item())\n",
    "                test_dice_accs.append(acc.item())\n",
    "                test_epoch_dice_accs.append(acc.item())\n",
    "\n",
    "                #loss = loss_function(outputs, seg)\n",
    "                #test_losses.append(loss.item())\n",
    "                #epoch_test_loss += loss.item()\n",
    "            \n",
    "\n",
    "            if np.average(test_epoch_dice_accs) > best_metric:\n",
    "                best_metric = np.average(test_epoch_dice_accs)\n",
    "                best_metric_epoch = epoch + 1\n",
    "                torch.save(model.state_dict(), \"best_spleen_metric_model.pth\")\n",
    "                print(\"saved new best spleen metric model\")\n",
    "            \n",
    "            print(f\"\"\"\n",
    "                    Epoch: {epoch + 1} / {num_epochs} \n",
    "                    | Train Loss: {epoch_loss / len(train_loader)} \n",
    "                    | Train Dice Accuracy: {train_run.avg} \n",
    "                    | Test Dice Accuracy: {val_run.avg}\n",
    "                \"\"\")\n",
    "    else:\n",
    "        print(f\"\"\"\n",
    "                Epoch: {epoch + 1} / {num_epochs} \n",
    "                | Train Loss: {epoch_loss / len(train_loader)} \n",
    "                | Train Dice Accuracy: {train_run.avg} \n",
    "            \"\"\")\n",
    "    \n",
    "            \n"
   ]
  },
  {
   "cell_type": "code",
   "execution_count": 11,
   "metadata": {},
   "outputs": [
    {
     "name": "stdout",
     "output_type": "stream",
     "text": [
      "train completed, best_metric: 0.9541 at epoch: 800\n"
     ]
    }
   ],
   "source": [
    "print(f\"train completed, best_metric: {best_metric:.4f} \" f\"at epoch: {best_metric_epoch}\")"
   ]
  },
  {
   "cell_type": "code",
   "execution_count": 12,
   "metadata": {},
   "outputs": [
    {
     "data": {
      "image/png": "[encoded data removed]",
      "text/plain": [
       "<Figure size 640x480 with 1 Axes>"
      ]
     },
     "metadata": {},
     "output_type": "display_data"
    },
    {
     "data": {
      "image/png": "[encoded data removed]",
      "text/plain": [
       "<Figure size 640x480 with 1 Axes>"
      ]
     },
     "metadata": {},
     "output_type": "display_data"
    },
    {
     "data": {
      "image/png": "[encoded data removed]",
      "text/plain": [
       "<Figure size 640x480 with 1 Axes>"
      ]
     },
     "metadata": {},
     "output_type": "display_data"
    }
   ],
   "source": [
    "# Plot the loss and dice accuracy\n",
    "mean_dice_accs = []\n",
    "mean_test_dice_accs = []\n",
    "mean_train_loss = []\n",
    "\n",
    "for i in range(0, len(dice_accs), 16):\n",
    "    mean_dice_accs.append(np.average(dice_accs[i:i+16]))\n",
    "    mean_train_loss.append(np.average(losses[i:i+16]))\n",
    "\n",
    "for i in range(0, len(test_dice_accs), 47):\n",
    "    mean_test_dice_accs.append(np.average(test_dice_accs[i:i+9]))\n",
    "\n",
    "\n",
    "\n",
    "\n",
    "plt.plot(mean_dice_accs, label=\"train dice acc\")\n",
    "plt.legend()\n",
    "plt.show()\n",
    "\n",
    "plt.plot(mean_test_dice_accs, label=\"test dice acc\")\n",
    "plt.legend()\n",
    "plt.show()\n",
    "\n",
    "plt.plot(mean_train_loss, label=\"train loss\")\n",
    "plt.legend()\n",
    "plt.show()"
   ]
  },
  {
   "cell_type": "code",
   "execution_count": null,
   "metadata": {},
   "outputs": [],
   "source": []
  }
 ],
 "metadata": {
  "kernelspec": {
   "display_name": "monai",
   "language": "python",
   "name": "python3"
  },
  "language_info": {
   "codemirror_mode": {
    "name": "ipython",
    "version": 3
   },
   "file_extension": ".py",
   "mimetype": "text/x-python",
   "name": "python",
   "nbconvert_exporter": "python",
   "pygments_lexer": "ipython3",
   "version": "3.10.13"
  }
 },
 "nbformat": 4,
 "nbformat_minor": 2
}
